{
 "cells": [
  {
   "cell_type": "markdown",
   "metadata": {},
   "source": [
    "# Analysis of Monte Carlo simulation results\n",
    "\n",
    "This notebook contains (mostly fairly undocumented) analysis of the MC simulation. The numbers and figures from the paper were computed using this code. "
   ]
  },
  {
   "cell_type": "code",
   "execution_count": 1,
   "metadata": {},
   "outputs": [],
   "source": [
    "import numpy as np\n",
    "import seaborn as sns\n",
    "import matplotlib.pyplot as plt\n",
    "from matplotlib.colors import ListedColormap\n",
    "import pandas as pd\n",
    "\n",
    "plt.style.use(\"seaborn-v0_8-whitegrid\")\n",
    "plt.rcParams.update({\n",
    "    \"text.usetex\": True,\n",
    "    \"font.family\": \"rmfamily\"\n",
    "})\n",
    "plt.rcParams['text.latex.preamble'] = r'\\usepackage{{amsmath}}'"
   ]
  },
  {
   "cell_type": "code",
   "execution_count": 2,
   "metadata": {},
   "outputs": [],
   "source": [
    "def disp(array, inr=True):\n",
    "    return r\"${:.1f} \\pm {:.1f}{}$\".format(array.mean(), array.std(), r\"\\ \\mathrm{INR}\" if inr else \"\")"
   ]
  },
  {
   "cell_type": "code",
   "execution_count": 3,
   "metadata": {},
   "outputs": [
    {
     "data": {
      "text/plain": [
       "(10, 5, 4)"
      ]
     },
     "execution_count": 3,
     "metadata": {},
     "output_type": "execute_result"
    }
   ],
   "source": [
    "data = np.load(\"data/mc_results_tuta.npz\", allow_pickle=True)\n",
    "averages_per_agent_array = data[\"averages_per_agent_array\"]\n",
    "cost_vector = data[\"cost_vector\"]\n",
    "averages_per_agent_array.shape"
   ]
  },
  {
   "cell_type": "markdown",
   "metadata": {},
   "source": [
    "(mc_runs, decision_options, interventions)"
   ]
  },
  {
   "cell_type": "code",
   "execution_count": 4,
   "metadata": {},
   "outputs": [
    {
     "data": {
      "text/plain": [
       "array([ 72., 868., 795.,   0.])"
      ]
     },
     "execution_count": 4,
     "metadata": {},
     "output_type": "execute_result"
    }
   ],
   "source": [
    "cost_vector"
   ]
  },
  {
   "cell_type": "code",
   "execution_count": 5,
   "metadata": {},
   "outputs": [
    {
     "data": {
      "text/plain": [
       "array(['monitorings', 'crop_losses', 'treatments', 'treatments_directly'],\n",
       "      dtype=object)"
      ]
     },
     "execution_count": 5,
     "metadata": {},
     "output_type": "execute_result"
    }
   ],
   "source": [
    "data[\"columns\"]"
   ]
  },
  {
   "cell_type": "code",
   "execution_count": 6,
   "metadata": {},
   "outputs": [],
   "source": [
    "columns = ['monitoring', 'yield loss', 'curative spraying', 'preventive spraying']"
   ]
  },
  {
   "cell_type": "code",
   "execution_count": 7,
   "metadata": {},
   "outputs": [],
   "source": [
    "scenario_labels = [\n",
    "    \"inaction\",\n",
    "    \"daily monitoring\",\n",
    "    \"calendar spraying\",\n",
    "    \"model\",\n",
    "    \"model (no updating)\"\n",
    "]\n",
    "\n",
    "scenario_labels_tex = list(reversed([\n",
    "    \"inaction\",\n",
    "    \"daily monitoring\",\n",
    "    \"calendar spraying\",\n",
    "    r\"\\textbf{model}\",\n",
    "    \"model (no updating)\"\n",
    "]))"
   ]
  },
  {
   "cell_type": "code",
   "execution_count": 8,
   "metadata": {},
   "outputs": [
    {
     "name": "stdout",
     "output_type": "stream",
     "text": [
      "inaction             $9568.7 \\pm 374.2$\n",
      "daily monitoring     $8388.9 \\pm 8.9$\n",
      "calendar spraying    $8490.2 \\pm 0.0$\n",
      "model                $6776.3 \\pm 237.3$\n",
      "model (no updating)  $7580.3 \\pm 163.8$\n"
     ]
    }
   ],
   "source": [
    "for sc_i in range(5):\n",
    "    print(\"{:20s} {}\".format(scenario_labels[sc_i], disp((averages_per_agent_array[:, sc_i, :] * cost_vector).sum(axis=1), False)))"
   ]
  },
  {
   "cell_type": "code",
   "execution_count": 9,
   "metadata": {},
   "outputs": [
    {
     "name": "stdout",
     "output_type": "stream",
     "text": [
      "Sum of community EVPI per person: $804.0 \\pm 134.6\\ \\mathrm{INR}$\n",
      "Monitorings per person (model scenario): $10.1 \\pm 2.6$\n",
      "Monitorings in total (model scenario): $89864.7 \\pm 23049.8$\n",
      "Community EVPI per monitoring:  $88.2 \\pm 34.2\\ \\mathrm{INR}$\n"
     ]
    }
   ],
   "source": [
    "print(\"Sum of community EVPI per person:\", disp(((averages_per_agent_array[:, 4, :] - averages_per_agent_array[:, 3, :]) * cost_vector).sum(axis=1)))\n",
    "print(\"Monitorings per person (model scenario): \" + disp(averages_per_agent_array[:, 3, 0], False))\n",
    "print(\"Monitorings in total (model scenario): \" +\n",
    "      disp(averages_per_agent_array[:, 3, 0] * 8925, False))\n",
    "print(\"Community EVPI per monitoring: \", disp((\n",
    "    (averages_per_agent_array[:, 4, :] - averages_per_agent_array[:, 3, :]) * cost_vector).sum(axis=1) / averages_per_agent_array[:, 3, 0]))"
   ]
  },
  {
   "cell_type": "code",
   "execution_count": 10,
   "metadata": {},
   "outputs": [
    {
     "name": "stdout",
     "output_type": "stream",
     "text": [
      "Absolute difference model (updating) - model (no updating)  $804.0 \\pm 134.6$\n"
     ]
    }
   ],
   "source": [
    "print(\"Absolute difference model (updating) - model (no updating) \", disp(((averages_per_agent_array[:, 4, :] * cost_vector).sum(axis=1) - \\\n",
    "           (averages_per_agent_array[:, 3, :] * cost_vector).sum(axis=1)), False))"
   ]
  },
  {
   "cell_type": "code",
   "execution_count": 11,
   "metadata": {},
   "outputs": [
    {
     "name": "stdout",
     "output_type": "stream",
     "text": [
      "Absolute difference calendar - model  $1713.8 \\pm 237.3$\n"
     ]
    }
   ],
   "source": [
    "print(\"Absolute difference calendar - model \", disp(((averages_per_agent_array[:, 2, :] * cost_vector).sum(axis=1) - \\\n",
    "           (averages_per_agent_array[:, 3, :] * cost_vector).sum(axis=1)), False))"
   ]
  },
  {
   "cell_type": "code",
   "execution_count": 12,
   "metadata": {},
   "outputs": [
    {
     "name": "stdout",
     "output_type": "stream",
     "text": [
      "Number of monitorings in model (updating) scenario:  $10.1 \\pm 2.6\\ \\mathrm{INR}$\n"
     ]
    }
   ],
   "source": [
    "print(\"Number of monitorings in model (updating) scenario: \", disp(averages_per_agent_array[:, 3, 0]))"
   ]
  },
  {
   "cell_type": "code",
   "execution_count": 13,
   "metadata": {},
   "outputs": [
    {
     "name": "stdout",
     "output_type": "stream",
     "text": [
      "Relative difference calendar - model  $25.4 \\pm 4.3$\n"
     ]
    }
   ],
   "source": [
    "print(\"Relative difference calendar - model \", disp(((averages_per_agent_array[:, 2, :] * cost_vector).sum(axis=1) - \\\n",
    "           (averages_per_agent_array[:, 3, :] * cost_vector).sum(axis=1)) / (averages_per_agent_array[:, 3, :] * cost_vector).sum(axis=1) * 100, False))\n"
   ]
  },
  {
   "cell_type": "code",
   "execution_count": 14,
   "metadata": {},
   "outputs": [
    {
     "name": "stdout",
     "output_type": "stream",
     "text": [
      "Pesticide use - model compared to calender:  $-58.8 \\pm 2.7$\n",
      "Pesticide use - monitoring compared to calender:  $-53.4 \\pm 0.4$\n",
      "Yield loss - model compared to inaction:  $-73.2 \\pm 3.2$\n",
      "Pesticide use - model (no updating) compared to calender:  $-35.7 \\pm 5.5$\n"
     ]
    }
   ],
   "source": [
    "print(\"Pesticide use - model compared to calender: \", disp((averages_per_agent_array[:, 3, 2] / averages_per_agent_array[:, 2, 2] - 1) * 100, False))\n",
    "print(\"Pesticide use - monitoring compared to calender: \", disp((averages_per_agent_array[:, 1, 2] / averages_per_agent_array[:, 2, 2] - 1) * 100, False))\n",
    "print(\"Yield loss - model compared to inaction: \", disp((averages_per_agent_array[:, 3, 1] / averages_per_agent_array[:, 0, 1] - 1) * 100, False))\n",
    "print(\"Pesticide use - model (no updating) compared to calender: \", disp((averages_per_agent_array[:, 4, 2] / averages_per_agent_array[:, 2, 2] - 1) * 100, False))\n"
   ]
  },
  {
   "cell_type": "code",
   "execution_count": 15,
   "metadata": {},
   "outputs": [
    {
     "name": "stdout",
     "output_type": "stream",
     "text": [
      "$10.1 \\pm 2.6\\ \\mathrm{INR}$\n"
     ]
    }
   ],
   "source": [
    "print(disp(averages_per_agent_array[:, 3, 0]))"
   ]
  },
  {
   "cell_type": "code",
   "execution_count": 16,
   "metadata": {},
   "outputs": [
    {
     "data": {
      "text/html": [
       "<div>\n",
       "<style scoped>\n",
       "    .dataframe tbody tr th:only-of-type {\n",
       "        vertical-align: middle;\n",
       "    }\n",
       "\n",
       "    .dataframe tbody tr th {\n",
       "        vertical-align: top;\n",
       "    }\n",
       "\n",
       "    .dataframe thead th {\n",
       "        text-align: right;\n",
       "    }\n",
       "</style>\n",
       "<table border=\"1\" class=\"dataframe\">\n",
       "  <thead>\n",
       "    <tr style=\"text-align: right;\">\n",
       "      <th></th>\n",
       "      <th>monitoring</th>\n",
       "      <th>yield loss</th>\n",
       "      <th>curative spraying</th>\n",
       "      <th>preventive spraying</th>\n",
       "    </tr>\n",
       "  </thead>\n",
       "  <tbody>\n",
       "    <tr>\n",
       "      <th>inaction</th>\n",
       "      <td>0.000000</td>\n",
       "      <td>11.023899</td>\n",
       "      <td>0.000000</td>\n",
       "      <td>0.000000</td>\n",
       "    </tr>\n",
       "    <tr>\n",
       "      <th>daily monitoring</th>\n",
       "      <td>61.543294</td>\n",
       "      <td>0.000000</td>\n",
       "      <td>4.978342</td>\n",
       "      <td>0.000000</td>\n",
       "    </tr>\n",
       "    <tr>\n",
       "      <th>calendar spraying</th>\n",
       "      <td>0.000000</td>\n",
       "      <td>0.000000</td>\n",
       "      <td>0.000000</td>\n",
       "      <td>10.679440</td>\n",
       "    </tr>\n",
       "    <tr>\n",
       "      <th>model</th>\n",
       "      <td>10.068874</td>\n",
       "      <td>2.945367</td>\n",
       "      <td>1.218835</td>\n",
       "      <td>3.177109</td>\n",
       "    </tr>\n",
       "    <tr>\n",
       "      <th>model (no updating)</th>\n",
       "      <td>3.211272</td>\n",
       "      <td>2.180168</td>\n",
       "      <td>0.325277</td>\n",
       "      <td>6.538465</td>\n",
       "    </tr>\n",
       "  </tbody>\n",
       "</table>\n",
       "</div>"
      ],
      "text/plain": [
       "                     monitoring  yield loss  curative spraying  \\\n",
       "inaction               0.000000   11.023899           0.000000   \n",
       "daily monitoring      61.543294    0.000000           4.978342   \n",
       "calendar spraying      0.000000    0.000000           0.000000   \n",
       "model                 10.068874    2.945367           1.218835   \n",
       "model (no updating)    3.211272    2.180168           0.325277   \n",
       "\n",
       "                     preventive spraying  \n",
       "inaction                        0.000000  \n",
       "daily monitoring                0.000000  \n",
       "calendar spraying              10.679440  \n",
       "model                           3.177109  \n",
       "model (no updating)             6.538465  "
      ]
     },
     "execution_count": 16,
     "metadata": {},
     "output_type": "execute_result"
    }
   ],
   "source": [
    "df = pd.DataFrame(averages_per_agent_array.mean(axis=0), index=scenario_labels, columns=columns)# * cost_vector\n",
    "df[\"curative spraying\"] -= df[\"preventive spraying\"]\n",
    "df"
   ]
  },
  {
   "cell_type": "code",
   "execution_count": 17,
   "metadata": {},
   "outputs": [
    {
     "data": {
      "text/html": [
       "<div>\n",
       "<style scoped>\n",
       "    .dataframe tbody tr th:only-of-type {\n",
       "        vertical-align: middle;\n",
       "    }\n",
       "\n",
       "    .dataframe tbody tr th {\n",
       "        vertical-align: top;\n",
       "    }\n",
       "\n",
       "    .dataframe thead th {\n",
       "        text-align: right;\n",
       "    }\n",
       "</style>\n",
       "<table border=\"1\" class=\"dataframe\">\n",
       "  <thead>\n",
       "    <tr style=\"text-align: right;\">\n",
       "      <th></th>\n",
       "      <th>monitoring</th>\n",
       "      <th>yield loss</th>\n",
       "      <th>curative spraying</th>\n",
       "      <th>preventive spraying</th>\n",
       "    </tr>\n",
       "  </thead>\n",
       "  <tbody>\n",
       "    <tr>\n",
       "      <th>inaction</th>\n",
       "      <td>0.000000</td>\n",
       "      <td>9568.744471</td>\n",
       "      <td>0.000000</td>\n",
       "      <td>0.000000</td>\n",
       "    </tr>\n",
       "    <tr>\n",
       "      <th>daily monitoring</th>\n",
       "      <td>4431.117176</td>\n",
       "      <td>0.000000</td>\n",
       "      <td>3957.781681</td>\n",
       "      <td>0.000000</td>\n",
       "    </tr>\n",
       "    <tr>\n",
       "      <th>calendar spraying</th>\n",
       "      <td>0.000000</td>\n",
       "      <td>0.000000</td>\n",
       "      <td>0.000000</td>\n",
       "      <td>8490.154622</td>\n",
       "    </tr>\n",
       "    <tr>\n",
       "      <th>model</th>\n",
       "      <td>724.958924</td>\n",
       "      <td>2556.578510</td>\n",
       "      <td>968.973613</td>\n",
       "      <td>2525.801849</td>\n",
       "    </tr>\n",
       "    <tr>\n",
       "      <th>model (no updating)</th>\n",
       "      <td>231.211563</td>\n",
       "      <td>1892.385882</td>\n",
       "      <td>258.595462</td>\n",
       "      <td>5198.079664</td>\n",
       "    </tr>\n",
       "  </tbody>\n",
       "</table>\n",
       "</div>"
      ],
      "text/plain": [
       "                      monitoring   yield loss  curative spraying  \\\n",
       "inaction                0.000000  9568.744471           0.000000   \n",
       "daily monitoring     4431.117176     0.000000        3957.781681   \n",
       "calendar spraying       0.000000     0.000000           0.000000   \n",
       "model                 724.958924  2556.578510         968.973613   \n",
       "model (no updating)   231.211563  1892.385882         258.595462   \n",
       "\n",
       "                     preventive spraying  \n",
       "inaction                        0.000000  \n",
       "daily monitoring                0.000000  \n",
       "calendar spraying            8490.154622  \n",
       "model                        2525.801849  \n",
       "model (no updating)          5198.079664  "
      ]
     },
     "execution_count": 17,
     "metadata": {},
     "output_type": "execute_result"
    }
   ],
   "source": [
    "cost_vector2 = cost_vector.copy()\n",
    "cost_vector2[3] = cost_vector2[2]\n",
    "df = pd.DataFrame(averages_per_agent_array.mean(axis=0), index=scenario_labels, columns=columns)# * cost_vector\n",
    "#df.drop(columns=\"treatments_directly\", inplace=True)\n",
    "df[\"curative spraying\"] -= df[\"preventive spraying\"]\n",
    "df *= cost_vector2\n",
    "df"
   ]
  },
  {
   "cell_type": "code",
   "execution_count": 18,
   "metadata": {},
   "outputs": [],
   "source": [
    "costs = (averages_per_agent_array[:, :, :] * cost_vector).sum(axis=2)"
   ]
  },
  {
   "cell_type": "code",
   "execution_count": 19,
   "metadata": {},
   "outputs": [
    {
     "data": {
      "text/plain": [
       "['model (no updating)',\n",
       " '\\\\textbf{model}',\n",
       " 'calendar spraying',\n",
       " 'daily monitoring',\n",
       " 'inaction']"
      ]
     },
     "execution_count": 19,
     "metadata": {},
     "output_type": "execute_result"
    }
   ],
   "source": [
    "scenario_labels_tex"
   ]
  },
  {
   "cell_type": "code",
   "execution_count": 20,
   "metadata": {},
   "outputs": [
    {
     "data": {
      "image/png": "[encoded data removed]",
      "text/plain": [
       "<Figure size 700x300 with 1 Axes>"
      ]
     },
     "metadata": {},
     "output_type": "display_data"
    }
   ],
   "source": [
    "custom_cmap = ListedColormap(['#3449d1', '#f08800', '#f0009c', '#a8006d'])\n",
    "\n",
    "fig, ax = plt.subplots(1, figsize=(7, 3))\n",
    "df.iloc[::-1].plot(ax=ax, kind=\"barh\", stacked=True, cmap=custom_cmap)\n",
    "ax.set_xlim(0, 12000)\n",
    "ax.set_xlabel(r\"costs ($\\text{INR}\\cdot\\text{ha}^{-1} \\cdot\\text{a}^{-1}$)\")\n",
    "ax.set_yticklabels(scenario_labels_tex)\n",
    "ax.legend(frameon=True)\n",
    "ax.set_xlim(0, 13000)\n",
    "fig.tight_layout()"
   ]
  }
 ],
 "metadata": {
  "kernelspec": {
   "display_name": "venv",
   "language": "python",
   "name": "python3"
  },
  "language_info": {
   "codemirror_mode": {
    "name": "ipython",
    "version": 3
   },
   "file_extension": ".py",
   "mimetype": "text/x-python",
   "name": "python",
   "nbconvert_exporter": "python",
   "pygments_lexer": "ipython3",
   "version": "3.12.6"
  }
 },
 "nbformat": 4,
 "nbformat_minor": 2
}
