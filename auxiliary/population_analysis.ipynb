{
  "cells": [
    {
      "cell_type": "markdown",
      "metadata": {
        "id": "shDH0CJpI501"
      },
      "source": [
        "\n",
        "# Population analysis\n",
        "\n",
        "Not runnable on its own. Addition to `run_pest_model.ipynb`. Takes hours to complete. Since it is not so easy to adapt to other problems, it is only here for transparency."
      ]
    },
    {
      "cell_type": "code",
      "execution_count": null,
      "metadata": {
        "id": "iZfczgj6DJ9T"
      },
      "outputs": [],
      "source": [
        "population_days = pd.read_feather(\"/content/gdrive/MyDrive/data/ap/population_days_2022.feather\")"
      ]
    },
    {
      "cell_type": "code",
      "execution_count": null,
      "metadata": {
        "colab": {
          "base_uri": "https://localhost:8080/"
        },
        "id": "AU9QJzhkg-AS",
        "outputId": "ccf31eb3-733b-4832-a604-ff1e0ae341d7"
      },
      "outputs": [
        {
          "data": {
            "text/plain": [
              "8925"
            ]
          },
          "execution_count": 34,
          "metadata": {},
          "output_type": "execute_result"
        }
      ],
      "source": [
        "len(population_days.loc[population_days.date > 1450].user_id.unique())"
      ]
    },
    {
      "cell_type": "code",
      "execution_count": null,
      "metadata": {
        "id": "KOmbnrZLGoZG"
      },
      "outputs": [],
      "source": [
        "X_pop = torch.from_numpy(data_preprocessor.get_X_numpy(population_days)).float().contiguous().cuda()"
      ]
    },
    {
      "cell_type": "markdown",
      "metadata": {
        "id": "--NoJ3PWAFe4"
      },
      "source": [
        "### Create ground truth presence"
      ]
    },
    {
      "cell_type": "code",
      "execution_count": null,
      "metadata": {
        "id": "EG8hIYj_BoVq"
      },
      "outputs": [],
      "source": [
        "torch.cuda.empty_cache()"
      ]
    },
    {
      "cell_type": "code",
      "execution_count": null,
      "metadata": {
        "colab": {
          "base_uri": "https://localhost:8080/"
        },
        "id": "r8Bd4LBPSgga",
        "outputId": "87bc452b-2a8b-4681-d429-817bfae76791"
      },
      "outputs": [
        {
          "data": {
            "text/plain": [
              "5.0"
            ]
          },
          "execution_count": 37,
          "metadata": {},
          "output_type": "execute_result"
        }
      ],
      "source": [
        "1825/365"
      ]
    },
    {
      "cell_type": "code",
      "execution_count": null,
      "metadata": {
        "colab": {
          "base_uri": "https://localhost:8080/"
        },
        "id": "xQmrsJ2fSVlB",
        "outputId": "97abe9fd-0c07-45cd-aadf-130666fa0958"
      },
      "outputs": [
        {
          "data": {
            "text/plain": [
              "1487"
            ]
          },
          "execution_count": 38,
          "metadata": {},
          "output_type": "execute_result"
        }
      ],
      "source": [
        "len(test_X[:,2])"
      ]
    },
    {
      "cell_type": "markdown",
      "metadata": {
        "id": "7NmOjECkxEXO"
      },
      "source": [
        "### Train ground truth model"
      ]
    },
    {
      "cell_type": "code",
      "execution_count": null,
      "metadata": {
        "colab": {
          "base_uri": "https://localhost:8080/"
        },
        "id": "lDpoMhGiptYv",
        "outputId": "d881fb7a-1e5f-46a6-8ec5-7be886c948c5"
      },
      "outputs": [
        {
          "name": "stdout",
          "output_type": "stream",
          "text": [
            "\tIter 10/ 50 - Loss: 0.401\n",
            "\tIter 20/ 50 - Loss: 0.397\n",
            "\tIter 30/ 50 - Loss: 0.397\n",
            "\tIter 40/ 50 - Loss: 0.397\n",
            "\tIter 50/ 50 - Loss: 0.397\n"
          ]
        }
      ],
      "source": [
        "#obs_X = torch.vstack((train_X[-7000:, :], test_X))\n",
        "#obs_y = torch.cat((train_y[-7000:], test_y))\n",
        "\n",
        "# fit model on the data for the last year (and a bit before)\n",
        "truth_model, truth_likelihood, _ = train_model(test_X, test_y, model, likelihood, optimizer)\n",
        "\n",
        "dates = np.arange(1461-10, 1461+365)\n",
        "\n",
        "with torch.no_grad():\n",
        "    generated_true_presence = truth_likelihood(truth_model(X_pop))\n",
        "    generated_true_presence.probs *= scaling_factor * 1.2"
      ]
    },
    {
      "cell_type": "code",
      "execution_count": null,
      "metadata": {
        "id": "onJf9nRkRp0D"
      },
      "outputs": [],
      "source": [
        "with torch.no_grad():\n",
        "    generated_true_presence_sample = generated_true_presence.sample()"
      ]
    },
    {
      "cell_type": "code",
      "execution_count": null,
      "metadata": {
        "colab": {
          "base_uri": "https://localhost:8080/"
        },
        "id": "foGxUDY-Rs4u",
        "outputId": "93e80609-1ad0-4991-c5bc-21fd5fde4e2a"
      },
      "outputs": [
        {
          "data": {
            "text/plain": [
              "tensor(0.1064, device='cuda:0')"
            ]
          },
          "execution_count": 41,
          "metadata": {},
          "output_type": "execute_result"
        }
      ],
      "source": [
        "generated_true_presence.mean.mean()"
      ]
    },
    {
      "cell_type": "code",
      "execution_count": null,
      "metadata": {
        "colab": {
          "base_uri": "https://localhost:8080/"
        },
        "id": "K1rYV2PBR70g",
        "outputId": "28d0f3a4-8629-49ed-8973-fd33086a70d5"
      },
      "outputs": [
        {
          "data": {
            "text/plain": [
              "tensor(0.1064, device='cuda:0')"
            ]
          },
          "execution_count": 42,
          "metadata": {},
          "output_type": "execute_result"
        }
      ],
      "source": [
        "generated_true_presence_sample.mean()"
      ]
    },
    {
      "cell_type": "markdown",
      "metadata": {
        "id": "WGw4j_L1xIuy"
      },
      "source": [
        "### Run Monte Carlo"
      ]
    },
    {
      "cell_type": "code",
      "execution_count": null,
      "metadata": {
        "colab": {
          "base_uri": "https://localhost:8080/"
        },
        "id": "hg8TjSUQAZ2E",
        "outputId": "0a05813d-3467-4b8f-a4fb-46ef40869509"
      },
      "outputs": [
        {
          "name": "stderr",
          "output_type": "stream",
          "text": [
            "\r  0%|          | 0/94 [00:00<?, ?it/s]"
          ]
        },
        {
          "name": "stdout",
          "output_type": "stream",
          "text": [
            "Iter 10/512 - Loss: 0.764\n",
            "Iter 20/512 - Loss: 0.671\n",
            "Iter 30/512 - Loss: 0.603\n",
            "Iter 40/512 - Loss: 0.547\n",
            "Iter 50/512 - Loss: 0.503\n",
            "Iter 60/512 - Loss: 0.462\n",
            "Iter 70/512 - Loss: 0.423\n",
            "Iter 80/512 - Loss: 0.392\n",
            "Iter 90/512 - Loss: 0.369\n",
            "Iter 100/512 - Loss: 0.351\n",
            "Iter 110/512 - Loss: 0.337\n",
            "Iter 120/512 - Loss: 0.326\n",
            "Iter 130/512 - Loss: 0.319\n",
            "Iter 140/512 - Loss: 0.312\n",
            "Iter 150/512 - Loss: 0.307\n",
            "Iter 160/512 - Loss: 0.303\n",
            "Iter 170/512 - Loss: 0.3\n",
            "Iter 180/512 - Loss: 0.297\n",
            "Iter 190/512 - Loss: 0.294\n",
            "Iter 200/512 - Loss: 0.291\n",
            "Iter 210/512 - Loss: 0.289\n",
            "Iter 220/512 - Loss: 0.288\n",
            "Iter 230/512 - Loss: 0.286\n",
            "Iter 240/512 - Loss: 0.284\n",
            "Iter 250/512 - Loss: 0.283\n",
            "Iter 260/512 - Loss: 0.282\n",
            "Iter 270/512 - Loss: 0.28\n",
            "Iter 280/512 - Loss: 0.28\n",
            "Iter 290/512 - Loss: 0.278\n",
            "Iter 300/512 - Loss: 0.277\n",
            "Iter 310/512 - Loss: 0.277\n",
            "Iter 320/512 - Loss: 0.276\n",
            "Iter 330/512 - Loss: 0.275\n",
            "Iter 340/512 - Loss: 0.274\n",
            "Iter 350/512 - Loss: 0.274\n",
            "Iter 360/512 - Loss: 0.272\n",
            "Iter 370/512 - Loss: 0.271\n",
            "Iter 380/512 - Loss: 0.27\n",
            "Iter 390/512 - Loss: 0.27\n",
            "Iter 400/512 - Loss: 0.268\n",
            "Iter 410/512 - Loss: 0.268\n",
            "Iter 420/512 - Loss: 0.267\n",
            "Iter 430/512 - Loss: 0.267\n",
            "Iter 440/512 - Loss: 0.265\n",
            "Iter 450/512 - Loss: 0.264\n",
            "Iter 460/512 - Loss: 0.263\n",
            "Iter 470/512 - Loss: 0.265\n",
            "Iter 480/512 - Loss: 0.264\n",
            "Iter 490/512 - Loss: 0.262\n",
            "Iter 500/512 - Loss: 0.259\n",
            "Iter 510/512 - Loss: 0.258\n",
            "Iter 512/512 - Loss: 0.258\n"
          ]
        },
        {
          "name": "stderr",
          "output_type": "stream",
          "text": [
            "\n",
            "0it [00:00, ?it/s]\u001b[A\n",
            "1it [00:00,  3.05it/s]\u001b[A\n",
            "2it [00:00,  3.01it/s]\u001b[A\n",
            "3it [00:00,  3.03it/s]\u001b[A\n",
            "4it [00:01,  3.04it/s]\u001b[A\n",
            "5it [00:01,  3.05it/s]\u001b[A\n",
            "6it [00:01,  3.07it/s]\u001b[A\n",
            "7it [00:02,  3.07it/s]\u001b[A\n",
            "8it [00:02,  2.57it/s]\u001b[A\n",
            "9it [00:03,  2.71it/s]\u001b[A\n",
            "10it [00:03,  2.82it/s]\u001b[A\n",
            "11it [00:03,  2.90it/s]\u001b[A\n",
            "12it [00:04,  2.90it/s]\u001b[A\n",
            "13it [00:04,  2.89it/s]\u001b[A\n",
            "14it [00:04,  2.90it/s]\u001b[A\n",
            "15it [00:05,  2.94it/s]\u001b[A\n",
            "16it [00:05,  2.84it/s]\u001b[A\n",
            "17it [00:05,  2.89it/s]\u001b[A\n",
            "18it [00:06,  2.93it/s]\u001b[A\n",
            "19it [00:06,  2.88it/s]\u001b[A\n",
            "20it [00:06,  2.87it/s]\u001b[A\n",
            "21it [00:07,  2.85it/s]\u001b[A\n",
            "22it [00:07,  2.91it/s]\u001b[A\n",
            "23it [00:08,  2.54it/s]\u001b[A\n",
            "24it [00:08,  2.70it/s]\u001b[A\n",
            "25it [00:08,  2.80it/s]\u001b[A\n",
            "26it [00:09,  2.89it/s]\u001b[A\n",
            "27it [00:09,  2.94it/s]\u001b[A\n",
            "28it [00:09,  2.98it/s]\u001b[A\n",
            "29it [00:10,  3.00it/s]\u001b[A\n",
            "30it [00:10,  3.02it/s]\u001b[A\n",
            "31it [00:10,  3.03it/s]\u001b[A\n",
            "32it [00:11,  3.01it/s]\u001b[A\n",
            "33it [00:11,  3.01it/s]\u001b[A\n",
            "34it [00:11,  3.00it/s]\u001b[A\n",
            "35it [00:12,  2.98it/s]\u001b[A\n",
            "36it [00:12,  2.96it/s]\u001b[A\n",
            "37it [00:12,  2.94it/s]\u001b[A\n",
            "38it [00:13,  2.56it/s]\u001b[A\n",
            "39it [00:13,  2.66it/s]\u001b[A\n",
            "40it [00:13,  2.74it/s]\u001b[A\n",
            "41it [00:14,  2.82it/s]\u001b[A\n",
            "42it [00:14,  2.89it/s]\u001b[A\n",
            "43it [00:14,  2.94it/s]\u001b[A\n",
            "44it [00:15,  2.97it/s]\u001b[A\n",
            "45it [00:15,  3.00it/s]\u001b[A\n",
            "46it [00:15,  3.00it/s]\u001b[A\n",
            "47it [00:16,  2.99it/s]\u001b[A\n",
            "48it [00:16,  3.00it/s]\u001b[A\n",
            "49it [00:16,  2.97it/s]\u001b[A\n",
            "50it [00:17,  2.91it/s]\u001b[A\n",
            "51it [00:17,  2.93it/s]\u001b[A\n",
            "52it [00:17,  2.94it/s]\u001b[A\n",
            "53it [00:18,  2.46it/s]\u001b[A\n",
            "54it [00:18,  2.56it/s]\u001b[A\n",
            "55it [00:19,  2.70it/s]\u001b[A\n",
            "56it [00:19,  2.81it/s]\u001b[A\n",
            "57it [00:19,  2.86it/s]\u001b[A\n",
            "58it [00:20,  2.93it/s]\u001b[A\n",
            "59it [00:20,  2.99it/s]\u001b[A\n",
            "60it [00:20,  3.00it/s]\u001b[A\n",
            "61it [00:21,  3.00it/s]\u001b[A\n",
            "62it [00:21,  3.01it/s]\u001b[A\n",
            "63it [00:21,  3.00it/s]\u001b[A\n",
            "64it [00:22,  2.99it/s]\u001b[A\n",
            "65it [00:22,  3.01it/s]\u001b[A\n",
            "66it [00:22,  3.03it/s]\u001b[A\n",
            "67it [00:23,  2.56it/s]\u001b[A\n",
            "68it [00:23,  2.67it/s]\u001b[A\n",
            "69it [00:23,  2.78it/s]\u001b[A\n",
            "70it [00:24,  2.85it/s]\u001b[A\n",
            "71it [00:24,  2.91it/s]\u001b[A\n",
            "72it [00:24,  2.93it/s]\u001b[A\n",
            "73it [00:25,  2.98it/s]\u001b[A\n",
            "74it [00:25,  3.01it/s]\u001b[A\n",
            "75it [00:25,  3.01it/s]\u001b[A\n",
            "76it [00:26,  3.03it/s]\u001b[A\n",
            "77it [00:26,  3.05it/s]\u001b[A\n",
            "78it [00:26,  3.03it/s]\u001b[A\n",
            "79it [00:27,  3.02it/s]\u001b[A\n",
            "80it [00:27,  3.01it/s]\u001b[A\n",
            "81it [00:28,  2.56it/s]\u001b[A\n",
            "82it [00:28,  2.67it/s]\u001b[A\n",
            "83it [00:28,  2.76it/s]\u001b[A\n",
            "84it [00:29,  2.83it/s]\u001b[A\n",
            "85it [00:29,  2.88it/s]\u001b[A\n",
            "86it [00:29,  2.89it/s]\u001b[A\n",
            "87it [00:30,  2.90it/s]\u001b[A\n",
            "88it [00:30,  2.89it/s]\u001b[A\n",
            "89it [00:30,  2.88it/s]\u001b[A\n",
            "90it [00:31,  2.91it/s]\u001b[A\n",
            "91it [00:31,  2.96it/s]\u001b[A\n",
            "92it [00:31,  2.99it/s]\u001b[A\n",
            "93it [00:32,  3.00it/s]\u001b[A\n",
            "94it [00:32,  3.04it/s]\u001b[A\n",
            "95it [00:32,  3.05it/s]\u001b[A\n",
            "96it [00:33,  2.61it/s]\u001b[A\n",
            "97it [00:33,  2.74it/s]\u001b[A\n",
            "98it [00:33,  2.80it/s]\u001b[A\n",
            "99it [00:34,  2.87it/s]\u001b[A\n",
            "100it [00:34,  2.90it/s]\u001b[A\n",
            "101it [00:35,  2.87it/s]\u001b[A\n",
            "102it [00:35,  2.93it/s]\u001b[A\n",
            "103it [00:35,  2.97it/s]\u001b[A\n",
            "104it [00:36,  2.97it/s]\u001b[A\n",
            "105it [00:36,  2.97it/s]\u001b[A\n",
            "106it [00:36,  2.99it/s]\u001b[A\n",
            "107it [00:37,  3.00it/s]\u001b[A\n",
            "108it [00:37,  3.00it/s]\u001b[A\n",
            "109it [00:37,  2.95it/s]\u001b[A\n",
            "110it [00:38,  2.98it/s]\u001b[A\n",
            "111it [00:38,  2.51it/s]\u001b[A\n",
            "112it [00:38,  2.64it/s]\u001b[A\n",
            "113it [00:39,  2.74it/s]\u001b[A\n",
            "114it [00:39,  2.81it/s]\u001b[A\n",
            "115it [00:39,  2.85it/s]\u001b[A\n",
            "116it [00:40,  2.89it/s]\u001b[A\n",
            "117it [00:40,  2.94it/s]\u001b[A\n",
            "118it [00:40,  2.96it/s]\u001b[A\n",
            "119it [00:41,  2.86it/s]\u001b[A\n",
            "120it [00:41,  2.87it/s]\u001b[A\n",
            "121it [00:41,  2.86it/s]\u001b[A\n",
            "122it [00:42,  2.87it/s]\u001b[A\n",
            "123it [00:42,  2.89it/s]\u001b[A\n",
            "124it [00:43,  2.86it/s]\u001b[A\n",
            "125it [00:43,  2.89it/s]\u001b[A\n",
            "126it [00:43,  2.49it/s]\u001b[A\n",
            "127it [00:44,  2.63it/s]\u001b[A\n",
            "128it [00:44,  2.75it/s]\u001b[A\n",
            "129it [00:44,  2.83it/s]\u001b[A\n",
            "130it [00:45,  2.84it/s]\u001b[A\n",
            "131it [00:45,  2.91it/s]\u001b[A\n",
            "132it [00:45,  2.93it/s]\u001b[A\n",
            "133it [00:46,  2.95it/s]\u001b[A\n",
            "134it [00:46,  2.99it/s]\u001b[A\n",
            "135it [00:46,  2.95it/s]\u001b[A\n",
            "136it [00:47,  2.99it/s]\u001b[A\n",
            "137it [00:47,  2.99it/s]\u001b[A\n",
            "138it [00:47,  2.93it/s]\u001b[A\n",
            "139it [00:48,  2.95it/s]\u001b[A\n",
            "140it [00:48,  2.96it/s]\u001b[A\n",
            "141it [00:49,  2.56it/s]\u001b[A\n",
            "142it [00:49,  2.67it/s]\u001b[A\n",
            "143it [00:49,  2.77it/s]\u001b[A\n",
            "144it [00:50,  2.85it/s]\u001b[A\n",
            "145it [00:50,  2.89it/s]\u001b[A\n",
            "146it [00:50,  2.92it/s]\u001b[A\n",
            "147it [00:51,  2.94it/s]\u001b[A\n",
            "148it [00:51,  2.93it/s]\u001b[A\n",
            "149it [00:51,  2.93it/s]\u001b[A\n",
            "150it [00:52,  2.96it/s]\u001b[A\n",
            "151it [00:52,  2.94it/s]\u001b[A\n",
            "152it [00:52,  2.97it/s]\u001b[A\n",
            "153it [00:53,  2.97it/s]\u001b[A\n",
            "154it [00:53,  2.93it/s]\u001b[A\n",
            "155it [00:53,  2.50it/s]\u001b[A\n",
            "156it [00:54,  2.59it/s]\u001b[A\n",
            "157it [00:54,  2.64it/s]\u001b[A\n",
            "158it [00:55,  2.69it/s]\u001b[A\n",
            "159it [00:55,  2.70it/s]\u001b[A\n",
            "160it [00:55,  2.76it/s]\u001b[A\n",
            "161it [00:56,  2.84it/s]\u001b[A\n",
            "162it [00:56,  2.90it/s]\u001b[A\n",
            "163it [00:56,  2.93it/s]\u001b[A\n",
            "164it [00:57,  2.95it/s]\u001b[A\n",
            "165it [00:57,  2.99it/s]\u001b[A\n",
            "166it [00:57,  2.91it/s]\u001b[A\n",
            "167it [00:58,  2.93it/s]\u001b[A\n",
            "168it [00:58,  2.92it/s]\u001b[A\n",
            "169it [00:58,  2.51it/s]\u001b[A\n",
            "170it [00:59,  2.60it/s]\u001b[A\n",
            "171it [00:59,  2.69it/s]\u001b[A\n",
            "172it [01:00,  2.77it/s]\u001b[A\n",
            "173it [01:00,  2.77it/s]\u001b[A\n",
            "174it [01:00,  2.83it/s]\u001b[A\n",
            "175it [01:01,  2.86it/s]\u001b[A\n",
            "176it [01:01,  2.92it/s]\u001b[A\n",
            "177it [01:01,  2.92it/s]\u001b[A\n",
            "178it [01:02,  2.93it/s]\u001b[A\n",
            "179it [01:02,  2.95it/s]\u001b[A\n",
            "180it [01:02,  2.93it/s]\u001b[A\n",
            "181it [01:03,  2.93it/s]\u001b[A\n",
            "182it [01:03,  2.95it/s]\u001b[A\n",
            "183it [01:03,  2.96it/s]\u001b[A\n",
            "184it [01:04,  2.51it/s]\u001b[A\n",
            "185it [01:04,  2.60it/s]\u001b[A\n",
            "186it [01:05,  2.65it/s]\u001b[A\n",
            "187it [01:05,  2.72it/s]\u001b[A\n",
            "188it [01:05,  2.72it/s]\u001b[A\n",
            "189it [01:06,  2.75it/s]\u001b[A\n",
            "190it [01:06,  2.72it/s]\u001b[A\n",
            "191it [01:06,  2.76it/s]\u001b[A\n",
            "192it [01:07,  2.75it/s]\u001b[A\n",
            "193it [01:07,  2.67it/s]\u001b[A\n",
            "194it [01:07,  2.75it/s]\u001b[A\n",
            "195it [01:08,  2.71it/s]\u001b[A\n",
            "196it [01:08,  2.76it/s]\u001b[A\n",
            "197it [01:08,  2.79it/s]\u001b[A\n",
            "198it [01:09,  2.42it/s]\u001b[A\n",
            "199it [01:09,  2.55it/s]\u001b[A\n",
            "200it [01:10,  2.66it/s]\u001b[A\n",
            "201it [01:10,  2.74it/s]\u001b[A\n",
            "202it [01:10,  2.76it/s]\u001b[A\n",
            "203it [01:11,  2.82it/s]\u001b[A\n",
            "204it [01:11,  2.86it/s]\u001b[A\n",
            "205it [01:11,  2.89it/s]\u001b[A\n",
            "206it [01:12,  2.89it/s]\u001b[A\n",
            "207it [01:12,  2.91it/s]\u001b[A\n",
            "208it [01:12,  2.90it/s]\u001b[A\n",
            "209it [01:13,  2.89it/s]\u001b[A\n",
            "210it [01:13,  2.91it/s]\u001b[A\n",
            "211it [01:13,  2.90it/s]\u001b[A\n",
            "212it [01:14,  2.91it/s]\u001b[A\n",
            "213it [01:14,  2.48it/s]\u001b[A\n",
            "214it [01:15,  2.60it/s]\u001b[A\n",
            "215it [01:15,  2.70it/s]\u001b[A\n",
            "216it [01:15,  2.78it/s]\u001b[A\n",
            "217it [01:16,  2.82it/s]\u001b[A\n",
            "218it [01:16,  2.86it/s]\u001b[A\n",
            "219it [01:16,  2.87it/s]\u001b[A\n",
            "220it [01:17,  2.90it/s]\u001b[A\n",
            "221it [01:17,  2.86it/s]\u001b[A\n",
            "222it [01:17,  2.86it/s]\u001b[A\n",
            "223it [01:18,  2.78it/s]\u001b[A\n",
            "224it [01:18,  2.77it/s]\u001b[A\n",
            "225it [01:19,  2.74it/s]\u001b[A\n",
            "226it [01:19,  2.75it/s]\u001b[A\n",
            "227it [01:20,  2.34it/s]\u001b[A\n",
            "228it [01:20,  2.50it/s]\u001b[A\n",
            "229it [01:20,  2.62it/s]\u001b[A\n",
            "230it [01:21,  2.68it/s]\u001b[A\n",
            "231it [01:21,  2.66it/s]\u001b[A\n",
            "232it [01:21,  2.68it/s]\u001b[A\n",
            "233it [01:22,  2.71it/s]\u001b[A\n",
            "234it [01:22,  2.76it/s]\u001b[A\n",
            "235it [01:22,  2.79it/s]\u001b[A\n",
            "236it [01:23,  2.80it/s]\u001b[A\n",
            "237it [01:23,  2.83it/s]\u001b[A\n",
            "238it [01:23,  2.84it/s]\u001b[A\n",
            "239it [01:24,  2.86it/s]\u001b[A\n",
            "240it [01:24,  2.85it/s]\u001b[A\n",
            "241it [01:25,  2.45it/s]\u001b[A\n",
            "242it [01:25,  2.57it/s]\u001b[A\n",
            "243it [01:25,  2.64it/s]\u001b[A\n",
            "244it [01:26,  2.71it/s]\u001b[A\n",
            "245it [01:26,  2.79it/s]\u001b[A\n",
            "246it [01:26,  2.80it/s]\u001b[A\n",
            "247it [01:27,  2.83it/s]\u001b[A\n",
            "248it [01:27,  2.88it/s]\u001b[A\n",
            "249it [01:27,  2.87it/s]\u001b[A\n",
            "250it [01:28,  2.88it/s]\u001b[A\n",
            "251it [01:28,  2.88it/s]\u001b[A\n",
            "252it [01:28,  2.87it/s]\u001b[A\n",
            "253it [01:29,  2.89it/s]\u001b[A\n",
            "254it [01:29,  2.91it/s]\u001b[A\n",
            "255it [01:29,  2.87it/s]\u001b[A\n",
            "256it [01:30,  2.46it/s]\u001b[A\n",
            "257it [01:30,  2.56it/s]\u001b[A\n",
            "258it [01:31,  2.65it/s]\u001b[A\n",
            "259it [01:31,  2.71it/s]\u001b[A\n",
            "260it [01:31,  2.72it/s]\u001b[A\n",
            "261it [01:32,  2.76it/s]\u001b[A\n",
            "262it [01:32,  2.79it/s]\u001b[A\n",
            "263it [01:32,  2.82it/s]\u001b[A\n",
            "264it [01:33,  2.83it/s]\u001b[A\n",
            "265it [01:33,  2.84it/s]\u001b[A\n",
            "266it [01:34,  2.86it/s]\u001b[A\n",
            "267it [01:34,  2.88it/s]\u001b[A\n",
            "268it [01:34,  2.86it/s]\u001b[A\n",
            "269it [01:35,  2.87it/s]\u001b[A\n",
            "270it [01:35,  2.49it/s]\u001b[A\n",
            "271it [01:35,  2.61it/s]\u001b[A\n",
            "272it [01:36,  2.67it/s]\u001b[A\n",
            "273it [01:36,  2.71it/s]\u001b[A\n",
            "274it [01:36,  2.76it/s]\u001b[A\n",
            "275it [01:37,  2.80it/s]\u001b[A\n",
            "276it [01:37,  2.84it/s]\u001b[A\n",
            "277it [01:38,  2.86it/s]\u001b[A\n",
            "278it [01:38,  2.88it/s]\u001b[A\n",
            "279it [01:38,  2.88it/s]\u001b[A\n",
            "280it [01:39,  2.90it/s]\u001b[A\n",
            "281it [01:39,  2.88it/s]\u001b[A\n",
            "282it [01:39,  2.88it/s]\u001b[A\n",
            "283it [01:40,  2.87it/s]\u001b[A\n",
            "284it [01:40,  2.88it/s]\u001b[A\n",
            "285it [01:40,  2.50it/s]\u001b[A\n",
            "286it [01:41,  2.63it/s]\u001b[A\n",
            "287it [01:41,  2.70it/s]\u001b[A\n",
            "288it [01:41,  2.74it/s]\u001b[A\n",
            "289it [01:42,  2.77it/s]\u001b[A\n",
            "290it [01:42,  2.76it/s]\u001b[A\n",
            "291it [01:43,  2.79it/s]\u001b[A\n",
            "292it [01:43,  2.74it/s]\u001b[A\n",
            "293it [01:43,  2.76it/s]\u001b[A\n",
            "294it [01:44,  2.78it/s]\u001b[A\n",
            "295it [01:44,  2.84it/s]\u001b[A\n",
            "296it [01:44,  2.85it/s]\u001b[A\n",
            "297it [01:45,  2.83it/s]\u001b[A\n",
            "298it [01:45,  2.82it/s]\u001b[A\n",
            "299it [01:45,  2.83it/s]\u001b[A\n",
            "300it [01:46,  2.47it/s]\u001b[A\n",
            "301it [01:46,  2.60it/s]\u001b[A\n",
            "302it [01:47,  2.72it/s]\u001b[A\n",
            "303it [01:47,  2.79it/s]\u001b[A\n",
            "304it [01:47,  2.83it/s]\u001b[A\n",
            "305it [01:48,  2.87it/s]\u001b[A\n",
            "306it [01:48,  2.87it/s]\u001b[A\n",
            "307it [01:48,  2.89it/s]\u001b[A\n",
            "308it [01:49,  2.91it/s]\u001b[A\n",
            "309it [01:49,  2.94it/s]\u001b[A\n",
            "310it [01:49,  2.96it/s]\u001b[A\n",
            "311it [01:50,  2.94it/s]\u001b[A\n",
            "312it [01:50,  2.94it/s]\u001b[A\n",
            "313it [01:50,  2.95it/s]\u001b[A\n",
            "314it [01:51,  2.95it/s]\u001b[A\n",
            "315it [01:51,  2.53it/s]\u001b[A\n",
            "316it [01:52,  2.65it/s]\u001b[A\n",
            "317it [01:52,  2.75it/s]\u001b[A\n",
            "318it [01:52,  2.82it/s]\u001b[A\n",
            "319it [01:53,  2.86it/s]\u001b[A\n",
            "320it [01:53,  2.91it/s]\u001b[A\n",
            "321it [01:53,  2.92it/s]\u001b[A\n",
            "322it [01:54,  2.91it/s]\u001b[A\n",
            "323it [01:54,  2.93it/s]\u001b[A\n",
            "324it [01:54,  2.86it/s]\u001b[A\n",
            "325it [01:55,  2.87it/s]\u001b[A\n",
            "326it [01:55,  2.89it/s]\u001b[A\n",
            "327it [01:55,  2.89it/s]\u001b[A\n",
            "328it [01:56,  2.91it/s]\u001b[A\n",
            "329it [01:56,  2.96it/s]\u001b[A\n",
            "330it [01:56,  2.53it/s]\u001b[A\n",
            "331it [01:57,  2.67it/s]\u001b[A\n",
            "332it [01:57,  2.76it/s]\u001b[A\n",
            "333it [01:57,  2.77it/s]\u001b[A\n",
            "334it [01:58,  2.77it/s]\u001b[A\n",
            "335it [01:58,  2.78it/s]\u001b[A\n",
            "336it [01:59,  2.83it/s]\u001b[A\n",
            "337it [01:59,  2.90it/s]\u001b[A\n",
            "338it [01:59,  2.91it/s]\u001b[A\n",
            "339it [02:00,  2.93it/s]\u001b[A\n",
            "340it [02:00,  2.94it/s]\u001b[A\n",
            "341it [02:00,  2.97it/s]\u001b[A\n",
            "342it [02:01,  3.00it/s]\u001b[A\n",
            "343it [02:01,  3.02it/s]\u001b[A\n",
            "344it [02:01,  2.62it/s]\u001b[A\n",
            "345it [02:02,  2.75it/s]\u001b[A\n",
            "346it [02:02,  2.83it/s]\u001b[A\n",
            "347it [02:02,  2.88it/s]\u001b[A\n",
            "348it [02:03,  2.94it/s]\u001b[A\n",
            "349it [02:03,  2.99it/s]\u001b[A\n",
            "350it [02:03,  2.98it/s]\u001b[A\n",
            "351it [02:04,  2.98it/s]\u001b[A\n",
            "352it [02:04,  2.92it/s]\u001b[A\n",
            "353it [02:04,  2.95it/s]\u001b[A\n",
            "354it [02:05,  2.97it/s]\u001b[A\n",
            "355it [02:05,  3.00it/s]\u001b[A\n",
            "356it [02:05,  3.00it/s]\u001b[A\n",
            "357it [02:06,  2.98it/s]\u001b[A\n",
            "358it [02:06,  2.99it/s]\u001b[A\n",
            "359it [02:07,  2.53it/s]\u001b[A\n",
            "360it [02:07,  2.67it/s]\u001b[A\n",
            "361it [02:07,  2.72it/s]\u001b[A\n",
            "362it [02:08,  2.79it/s]\u001b[A\n",
            "363it [02:08,  2.83it/s]\u001b[A\n",
            "364it [02:08,  2.88it/s]\u001b[A\n",
            "365it [02:09,  2.93it/s]\u001b[A\n",
            "366it [02:09,  2.95it/s]\u001b[A\n",
            "367it [02:09,  2.96it/s]\u001b[A\n",
            "368it [02:10,  2.96it/s]\u001b[A\n",
            "369it [02:10,  3.00it/s]\u001b[A\n",
            "370it [02:10,  3.01it/s]\u001b[A\n",
            "371it [02:11,  3.03it/s]\u001b[A\n",
            "372it [02:11,  3.05it/s]\u001b[A\n",
            "373it [02:11,  3.04it/s]\u001b[A\n",
            "374it [02:12,  2.59it/s]\u001b[A\n",
            "375it [02:12,  2.83it/s]\n",
            "\n",
            "0it [00:00, ?it/s]\u001b[A"
          ]
        },
        {
          "name": "stdout",
          "output_type": "stream",
          "text": [
            "\tIter 10/ 50 - Loss: 0.279\n",
            "\tIter 20/ 50 - Loss: 0.267\n",
            "\tIter 30/ 50 - Loss: 0.264\n",
            "\tIter 40/ 50 - Loss: 0.262\n",
            "\tIter 50/ 50 - Loss: 0.262\n"
          ]
        },
        {
          "name": "stderr",
          "output_type": "stream",
          "text": [
            "\n",
            "1it [00:02,  2.33s/it]\u001b[A"
          ]
        },
        {
          "name": "stdout",
          "output_type": "stream",
          "text": [
            "\tIter 10/ 50 - Loss: 0.3\n",
            "\tIter 20/ 50 - Loss: 0.284\n",
            "\tIter 30/ 50 - Loss: 0.275\n",
            "\tIter 40/ 50 - Loss: 0.268\n",
            "\tIter 50/ 50 - Loss: 0.264\n"
          ]
        },
        {
          "name": "stderr",
          "output_type": "stream",
          "text": [
            "\n",
            "2it [00:04,  2.44s/it]\u001b[A"
          ]
        },
        {
          "name": "stdout",
          "output_type": "stream",
          "text": [
            "\tIter 10/ 50 - Loss: 0.271\n",
            "\tIter 20/ 50 - Loss: 0.262\n",
            "\tIter 30/ 50 - Loss: 0.259\n",
            "\tIter 40/ 50 - Loss: 0.258\n",
            "\tIter 50/ 50 - Loss: 0.258\n"
          ]
        },
        {
          "name": "stderr",
          "output_type": "stream",
          "text": [
            "\n",
            "3it [00:07,  2.44s/it]\u001b[A"
          ]
        },
        {
          "name": "stdout",
          "output_type": "stream",
          "text": [
            "\tIter 10/ 50 - Loss: 0.301\n",
            "\tIter 20/ 50 - Loss: 0.283\n",
            "\tIter 30/ 50 - Loss: 0.276\n",
            "\tIter 40/ 50 - Loss: 0.273\n",
            "\tIter 50/ 50 - Loss: 0.271\n"
          ]
        },
        {
          "name": "stderr",
          "output_type": "stream",
          "text": [
            "\n",
            "4it [00:09,  2.42s/it]\u001b[A"
          ]
        },
        {
          "name": "stdout",
          "output_type": "stream",
          "text": [
            "\tIter 10/ 50 - Loss: 0.297\n",
            "\tIter 20/ 50 - Loss: 0.289\n",
            "\tIter 30/ 50 - Loss: 0.285\n",
            "\tIter 40/ 50 - Loss: 0.284\n",
            "\tIter 50/ 50 - Loss: 0.283\n"
          ]
        },
        {
          "name": "stderr",
          "output_type": "stream",
          "text": [
            "\n",
            "5it [00:12,  2.41s/it]\u001b[A"
          ]
        },
        {
          "name": "stdout",
          "output_type": "stream",
          "text": [
            "\tIter 10/ 50 - Loss: 0.306\n",
            "\tIter 20/ 50 - Loss: 0.291\n",
            "\tIter 30/ 50 - Loss: 0.283\n",
            "\tIter 40/ 50 - Loss: 0.278\n",
            "\tIter 50/ 50 - Loss: 0.276\n"
          ]
        },
        {
          "name": "stderr",
          "output_type": "stream",
          "text": [
            "\n",
            "6it [00:14,  2.40s/it]\u001b[A"
          ]
        },
        {
          "name": "stdout",
          "output_type": "stream",
          "text": [
            "\tIter 10/ 50 - Loss: 0.303\n",
            "\tIter 20/ 50 - Loss: 0.284\n",
            "\tIter 30/ 50 - Loss: 0.278\n",
            "\tIter 40/ 50 - Loss: 0.275\n",
            "\tIter 50/ 50 - Loss: 0.275\n"
          ]
        },
        {
          "name": "stderr",
          "output_type": "stream",
          "text": [
            "\n",
            "7it [00:17,  2.47s/it]\u001b[A"
          ]
        },
        {
          "name": "stdout",
          "output_type": "stream",
          "text": [
            "\tIter 10/ 50 - Loss: 0.308\n",
            "\tIter 20/ 50 - Loss: 0.29\n",
            "\tIter 30/ 50 - Loss: 0.282\n",
            "\tIter 40/ 50 - Loss: 0.278\n",
            "\tIter 50/ 50 - Loss: 0.276\n"
          ]
        },
        {
          "name": "stderr",
          "output_type": "stream",
          "text": [
            "\n",
            "8it [00:19,  2.45s/it]\u001b[A"
          ]
        },
        {
          "name": "stdout",
          "output_type": "stream",
          "text": [
            "\tIter 10/ 50 - Loss: 0.301\n",
            "\tIter 20/ 50 - Loss: 0.287\n",
            "\tIter 30/ 50 - Loss: 0.28\n",
            "\tIter 40/ 50 - Loss: 0.277\n",
            "\tIter 50/ 50 - Loss: 0.276\n"
          ]
        },
        {
          "name": "stderr",
          "output_type": "stream",
          "text": [
            "\n",
            "9it [00:21,  2.43s/it]\u001b[A"
          ]
        },
        {
          "name": "stdout",
          "output_type": "stream",
          "text": [
            "\tIter 10/ 50 - Loss: 0.32\n",
            "\tIter 20/ 50 - Loss: 0.297\n",
            "\tIter 30/ 50 - Loss: 0.288\n",
            "\tIter 40/ 50 - Loss: 0.283\n",
            "\tIter 50/ 50 - Loss: 0.28\n"
          ]
        },
        {
          "name": "stderr",
          "output_type": "stream",
          "text": [
            "\n",
            "10it [00:24,  2.42s/it]\u001b[A"
          ]
        },
        {
          "name": "stdout",
          "output_type": "stream",
          "text": [
            "\tIter 10/ 50 - Loss: 0.342\n",
            "\tIter 20/ 50 - Loss: 0.297\n",
            "\tIter 30/ 50 - Loss: 0.282\n",
            "\tIter 40/ 50 - Loss: 0.276\n",
            "\tIter 50/ 50 - Loss: 0.274\n"
          ]
        },
        {
          "name": "stderr",
          "output_type": "stream",
          "text": [
            "\n",
            "11it [00:26,  2.40s/it]\u001b[A"
          ]
        },
        {
          "name": "stdout",
          "output_type": "stream",
          "text": [
            "\tIter 10/ 50 - Loss: 0.34\n",
            "\tIter 20/ 50 - Loss: 0.305\n",
            "\tIter 30/ 50 - Loss: 0.292\n",
            "\tIter 40/ 50 - Loss: 0.285\n",
            "\tIter 50/ 50 - Loss: 0.283\n"
          ]
        },
        {
          "name": "stderr",
          "output_type": "stream",
          "text": [
            "\n",
            "12it [00:29,  2.43s/it]\u001b[A"
          ]
        },
        {
          "name": "stdout",
          "output_type": "stream",
          "text": [
            "\tIter 10/ 50 - Loss: 0.331\n",
            "\tIter 20/ 50 - Loss: 0.306\n",
            "\tIter 30/ 50 - Loss: 0.293\n",
            "\tIter 40/ 50 - Loss: 0.286\n",
            "\tIter 50/ 50 - Loss: 0.282\n"
          ]
        },
        {
          "name": "stderr",
          "output_type": "stream",
          "text": [
            "\n",
            "13it [00:31,  2.43s/it]\u001b[A"
          ]
        },
        {
          "name": "stdout",
          "output_type": "stream",
          "text": [
            "\tIter 10/ 50 - Loss: 0.307\n",
            "\tIter 20/ 50 - Loss: 0.296\n",
            "\tIter 30/ 50 - Loss: 0.291\n",
            "\tIter 40/ 50 - Loss: 0.289\n",
            "\tIter 50/ 50 - Loss: 0.288\n"
          ]
        },
        {
          "name": "stderr",
          "output_type": "stream",
          "text": [
            "\n",
            "14it [00:33,  2.42s/it]\u001b[A"
          ]
        },
        {
          "name": "stdout",
          "output_type": "stream",
          "text": [
            "\tIter 10/ 50 - Loss: 0.312\n",
            "\tIter 20/ 50 - Loss: 0.297\n",
            "\tIter 30/ 50 - Loss: 0.292\n",
            "\tIter 40/ 50 - Loss: 0.29\n",
            "\tIter 50/ 50 - Loss: 0.289\n"
          ]
        },
        {
          "name": "stderr",
          "output_type": "stream",
          "text": [
            "\n",
            "15it [00:36,  2.45s/it]\u001b[A"
          ]
        },
        {
          "name": "stdout",
          "output_type": "stream",
          "text": [
            "\tIter 10/ 50 - Loss: 0.329\n",
            "\tIter 20/ 50 - Loss: 0.309\n",
            "\tIter 30/ 50 - Loss: 0.296\n",
            "\tIter 40/ 50 - Loss: 0.287\n",
            "\tIter 50/ 50 - Loss: 0.283\n"
          ]
        },
        {
          "name": "stderr",
          "output_type": "stream",
          "text": [
            "\n",
            "16it [00:38,  2.42s/it]\u001b[A"
          ]
        },
        {
          "name": "stdout",
          "output_type": "stream",
          "text": [
            "\tIter 10/ 50 - Loss: 0.342\n",
            "\tIter 20/ 50 - Loss: 0.307\n",
            "\tIter 30/ 50 - Loss: 0.294\n",
            "\tIter 40/ 50 - Loss: 0.288\n",
            "\tIter 50/ 50 - Loss: 0.284\n"
          ]
        },
        {
          "name": "stderr",
          "output_type": "stream",
          "text": [
            "\n",
            "17it [00:41,  2.44s/it]\u001b[A"
          ]
        },
        {
          "name": "stdout",
          "output_type": "stream",
          "text": [
            "\tIter 10/ 50 - Loss: 0.349\n",
            "\tIter 20/ 50 - Loss: 0.304\n",
            "\tIter 30/ 50 - Loss: 0.29\n",
            "\tIter 40/ 50 - Loss: 0.284\n",
            "\tIter 50/ 50 - Loss: 0.282\n"
          ]
        },
        {
          "name": "stderr",
          "output_type": "stream",
          "text": [
            "\n",
            "18it [00:43,  2.43s/it]\u001b[A"
          ]
        },
        {
          "name": "stdout",
          "output_type": "stream",
          "text": [
            "\tIter 10/ 50 - Loss: 0.323\n",
            "\tIter 20/ 50 - Loss: 0.301\n",
            "\tIter 30/ 50 - Loss: 0.292\n",
            "\tIter 40/ 50 - Loss: 0.287\n",
            "\tIter 50/ 50 - Loss: 0.285\n"
          ]
        },
        {
          "name": "stderr",
          "output_type": "stream",
          "text": [
            "\n",
            "19it [00:46,  2.41s/it]\u001b[A"
          ]
        },
        {
          "name": "stdout",
          "output_type": "stream",
          "text": [
            "\tIter 10/ 50 - Loss: 0.325\n",
            "\tIter 20/ 50 - Loss: 0.302\n",
            "\tIter 30/ 50 - Loss: 0.295\n",
            "\tIter 40/ 50 - Loss: 0.292\n",
            "\tIter 50/ 50 - Loss: 0.29\n"
          ]
        },
        {
          "name": "stderr",
          "output_type": "stream",
          "text": [
            "\n",
            "20it [00:48,  2.40s/it]\u001b[A"
          ]
        },
        {
          "name": "stdout",
          "output_type": "stream",
          "text": [
            "\tIter 10/ 50 - Loss: 0.295\n",
            "\tIter 20/ 50 - Loss: 0.287\n",
            "\tIter 30/ 50 - Loss: 0.284\n",
            "\tIter 40/ 50 - Loss: 0.283\n",
            "\tIter 50/ 50 - Loss: 0.282\n"
          ]
        },
        {
          "name": "stderr",
          "output_type": "stream",
          "text": [
            "\n",
            "21it [00:50,  2.40s/it]\u001b[A"
          ]
        },
        {
          "name": "stdout",
          "output_type": "stream",
          "text": [
            "\tIter 10/ 50 - Loss: 0.321\n",
            "\tIter 20/ 50 - Loss: 0.3\n",
            "\tIter 30/ 50 - Loss: 0.291\n",
            "\tIter 40/ 50 - Loss: 0.287\n",
            "\tIter 50/ 50 - Loss: 0.285\n"
          ]
        },
        {
          "name": "stderr",
          "output_type": "stream",
          "text": [
            "\n",
            "22it [00:53,  2.41s/it]\u001b[A"
          ]
        },
        {
          "name": "stdout",
          "output_type": "stream",
          "text": [
            "\tIter 10/ 50 - Loss: 0.315\n",
            "\tIter 20/ 50 - Loss: 0.295\n",
            "\tIter 30/ 50 - Loss: 0.287\n",
            "\tIter 40/ 50 - Loss: 0.284\n",
            "\tIter 50/ 50 - Loss: 0.282\n"
          ]
        },
        {
          "name": "stderr",
          "output_type": "stream",
          "text": [
            "\n",
            "23it [00:55,  2.47s/it]\u001b[A"
          ]
        },
        {
          "name": "stdout",
          "output_type": "stream",
          "text": [
            "\tIter 10/ 50 - Loss: 0.321\n",
            "\tIter 20/ 50 - Loss: 0.301\n",
            "\tIter 30/ 50 - Loss: 0.294\n",
            "\tIter 40/ 50 - Loss: 0.29\n",
            "\tIter 50/ 50 - Loss: 0.289\n"
          ]
        },
        {
          "name": "stderr",
          "output_type": "stream",
          "text": [
            "\n",
            "24it [00:58,  2.45s/it]\u001b[A"
          ]
        },
        {
          "name": "stdout",
          "output_type": "stream",
          "text": [
            "\tIter 10/ 50 - Loss: 0.319\n",
            "\tIter 20/ 50 - Loss: 0.295\n",
            "\tIter 30/ 50 - Loss: 0.289\n",
            "\tIter 40/ 50 - Loss: 0.287\n",
            "\tIter 50/ 50 - Loss: 0.286\n"
          ]
        },
        {
          "name": "stderr",
          "output_type": "stream",
          "text": [
            "\n",
            "25it [01:00,  2.42s/it]\u001b[A"
          ]
        },
        {
          "name": "stdout",
          "output_type": "stream",
          "text": [
            "\tIter 10/ 50 - Loss: 0.335\n",
            "\tIter 20/ 50 - Loss: 0.306\n",
            "\tIter 30/ 50 - Loss: 0.297\n",
            "\tIter 40/ 50 - Loss: 0.293\n",
            "\tIter 50/ 50 - Loss: 0.291\n"
          ]
        },
        {
          "name": "stderr",
          "output_type": "stream",
          "text": [
            "\n",
            "26it [01:03,  2.42s/it]\u001b[A"
          ]
        },
        {
          "name": "stdout",
          "output_type": "stream",
          "text": [
            "\tIter 10/ 50 - Loss: 0.359\n",
            "\tIter 20/ 50 - Loss: 0.323\n",
            "\tIter 30/ 50 - Loss: 0.308\n",
            "\tIter 40/ 50 - Loss: 0.3\n",
            "\tIter 50/ 50 - Loss: 0.296\n"
          ]
        },
        {
          "name": "stderr",
          "output_type": "stream",
          "text": [
            "\n",
            "27it [01:05,  2.44s/it]\u001b[A"
          ]
        },
        {
          "name": "stdout",
          "output_type": "stream",
          "text": [
            "\tIter 10/ 50 - Loss: 0.32\n",
            "\tIter 20/ 50 - Loss: 0.305\n",
            "\tIter 30/ 50 - Loss: 0.298\n",
            "\tIter 40/ 50 - Loss: 0.294\n",
            "\tIter 50/ 50 - Loss: 0.292\n"
          ]
        },
        {
          "name": "stderr",
          "output_type": "stream",
          "text": [
            "\n",
            "28it [01:07,  2.43s/it]\u001b[A"
          ]
        },
        {
          "name": "stdout",
          "output_type": "stream",
          "text": [
            "\tIter 10/ 50 - Loss: 0.344\n",
            "\tIter 20/ 50 - Loss: 0.319\n",
            "\tIter 30/ 50 - Loss: 0.308\n",
            "\tIter 40/ 50 - Loss: 0.301\n",
            "\tIter 50/ 50 - Loss: 0.297\n"
          ]
        },
        {
          "name": "stderr",
          "output_type": "stream",
          "text": [
            "\n",
            "29it [01:10,  2.42s/it]\u001b[A"
          ]
        },
        {
          "name": "stdout",
          "output_type": "stream",
          "text": [
            "\tIter 10/ 50 - Loss: 0.324\n",
            "\tIter 20/ 50 - Loss: 0.31\n",
            "\tIter 30/ 50 - Loss: 0.304\n",
            "\tIter 40/ 50 - Loss: 0.301\n",
            "\tIter 50/ 50 - Loss: 0.3\n"
          ]
        },
        {
          "name": "stderr",
          "output_type": "stream",
          "text": [
            "\n",
            "30it [01:12,  2.47s/it]\u001b[A"
          ]
        },
        {
          "name": "stdout",
          "output_type": "stream",
          "text": [
            "\tIter 10/ 50 - Loss: 0.323\n",
            "\tIter 20/ 50 - Loss: 0.307\n",
            "\tIter 30/ 50 - Loss: 0.301\n",
            "\tIter 40/ 50 - Loss: 0.299\n",
            "\tIter 50/ 50 - Loss: 0.298\n"
          ]
        },
        {
          "name": "stderr",
          "output_type": "stream",
          "text": [
            "\n",
            "31it [01:15,  2.46s/it]\u001b[A"
          ]
        },
        {
          "name": "stdout",
          "output_type": "stream",
          "text": [
            "\tIter 10/ 50 - Loss: 0.312\n",
            "\tIter 20/ 50 - Loss: 0.304\n",
            "\tIter 30/ 50 - Loss: 0.3\n",
            "\tIter 40/ 50 - Loss: 0.298\n",
            "\tIter 50/ 50 - Loss: 0.297\n"
          ]
        },
        {
          "name": "stderr",
          "output_type": "stream",
          "text": [
            "\n",
            "32it [01:17,  2.48s/it]\u001b[A"
          ]
        },
        {
          "name": "stdout",
          "output_type": "stream",
          "text": [
            "\tIter 10/ 50 - Loss: 0.308\n",
            "\tIter 20/ 50 - Loss: 0.302\n",
            "\tIter 30/ 50 - Loss: 0.299\n",
            "\tIter 40/ 50 - Loss: 0.297\n",
            "\tIter 50/ 50 - Loss: 0.296\n"
          ]
        },
        {
          "name": "stderr",
          "output_type": "stream",
          "text": [
            "\n",
            "33it [01:20,  2.47s/it]\u001b[A"
          ]
        },
        {
          "name": "stdout",
          "output_type": "stream",
          "text": [
            "\tIter 10/ 50 - Loss: 0.322\n",
            "\tIter 20/ 50 - Loss: 0.304\n",
            "\tIter 30/ 50 - Loss: 0.297\n",
            "\tIter 40/ 50 - Loss: 0.294\n",
            "\tIter 50/ 50 - Loss: 0.293\n"
          ]
        },
        {
          "name": "stderr",
          "output_type": "stream",
          "text": [
            "\n",
            "34it [01:22,  2.44s/it]\u001b[A"
          ]
        },
        {
          "name": "stdout",
          "output_type": "stream",
          "text": [
            "\tIter 10/ 50 - Loss: 0.354\n",
            "\tIter 20/ 50 - Loss: 0.321\n",
            "\tIter 30/ 50 - Loss: 0.308\n",
            "\tIter 40/ 50 - Loss: 0.302\n",
            "\tIter 50/ 50 - Loss: 0.3\n"
          ]
        },
        {
          "name": "stderr",
          "output_type": "stream",
          "text": [
            "\n",
            "35it [01:25,  2.43s/it]\u001b[A"
          ]
        },
        {
          "name": "stdout",
          "output_type": "stream",
          "text": [
            "\tIter 10/ 50 - Loss: 0.33\n",
            "\tIter 20/ 50 - Loss: 0.312\n",
            "\tIter 30/ 50 - Loss: 0.305\n",
            "\tIter 40/ 50 - Loss: 0.302\n",
            "\tIter 50/ 50 - Loss: 0.3\n"
          ]
        },
        {
          "name": "stderr",
          "output_type": "stream",
          "text": [
            "\n",
            "36it [01:27,  2.42s/it]\u001b[A"
          ]
        },
        {
          "name": "stdout",
          "output_type": "stream",
          "text": [
            "\tIter 10/ 50 - Loss: 0.401\n",
            "\tIter 20/ 50 - Loss: 0.359\n",
            "\tIter 30/ 50 - Loss: 0.337\n",
            "\tIter 40/ 50 - Loss: 0.323\n",
            "\tIter 50/ 50 - Loss: 0.312\n"
          ]
        },
        {
          "name": "stderr",
          "output_type": "stream",
          "text": [
            "\n",
            "37it [01:30,  2.51s/it]\u001b[A"
          ]
        },
        {
          "name": "stdout",
          "output_type": "stream",
          "text": [
            "\tIter 10/ 50 - Loss: 0.371\n",
            "\tIter 20/ 50 - Loss: 0.347\n",
            "\tIter 30/ 50 - Loss: 0.335\n",
            "\tIter 40/ 50 - Loss: 0.324\n",
            "\tIter 50/ 50 - Loss: 0.316\n"
          ]
        },
        {
          "name": "stderr",
          "output_type": "stream",
          "text": [
            "\n",
            "38it [01:32,  2.47s/it]\u001b[A"
          ]
        },
        {
          "name": "stdout",
          "output_type": "stream",
          "text": [
            "\tIter 10/ 50 - Loss: 0.363\n",
            "\tIter 20/ 50 - Loss: 0.332\n",
            "\tIter 30/ 50 - Loss: 0.319\n",
            "\tIter 40/ 50 - Loss: 0.313\n",
            "\tIter 50/ 50 - Loss: 0.311\n"
          ]
        },
        {
          "name": "stderr",
          "output_type": "stream",
          "text": [
            "\n",
            "39it [01:35,  2.46s/it]\u001b[A"
          ]
        },
        {
          "name": "stdout",
          "output_type": "stream",
          "text": [
            "\tIter 10/ 50 - Loss: 0.347\n",
            "\tIter 20/ 50 - Loss: 0.322\n",
            "\tIter 30/ 50 - Loss: 0.312\n",
            "\tIter 40/ 50 - Loss: 0.309\n",
            "\tIter 50/ 50 - Loss: 0.307\n"
          ]
        },
        {
          "name": "stderr",
          "output_type": "stream",
          "text": [
            "\n",
            "40it [01:37,  2.44s/it]\u001b[A"
          ]
        },
        {
          "name": "stdout",
          "output_type": "stream",
          "text": [
            "\tIter 10/ 50 - Loss: 0.348\n",
            "\tIter 20/ 50 - Loss: 0.324\n",
            "\tIter 30/ 50 - Loss: 0.315\n",
            "\tIter 40/ 50 - Loss: 0.31\n",
            "\tIter 50/ 50 - Loss: 0.308\n"
          ]
        },
        {
          "name": "stderr",
          "output_type": "stream",
          "text": [
            "\n",
            "41it [01:39,  2.44s/it]\u001b[A"
          ]
        },
        {
          "name": "stdout",
          "output_type": "stream",
          "text": [
            "\tIter 10/ 50 - Loss: 0.351\n",
            "\tIter 20/ 50 - Loss: 0.327\n",
            "\tIter 30/ 50 - Loss: 0.317\n",
            "\tIter 40/ 50 - Loss: 0.312\n",
            "\tIter 50/ 50 - Loss: 0.309\n"
          ]
        },
        {
          "name": "stderr",
          "output_type": "stream",
          "text": [
            "\n",
            "42it [01:42,  2.45s/it]\u001b[A"
          ]
        },
        {
          "name": "stdout",
          "output_type": "stream",
          "text": [
            "\tIter 10/ 50 - Loss: 0.365\n",
            "\tIter 20/ 50 - Loss: 0.344\n",
            "\tIter 30/ 50 - Loss: 0.331\n",
            "\tIter 40/ 50 - Loss: 0.322\n",
            "\tIter 50/ 50 - Loss: 0.317\n"
          ]
        },
        {
          "name": "stderr",
          "output_type": "stream",
          "text": [
            "\n",
            "43it [01:44,  2.44s/it]\u001b[A"
          ]
        },
        {
          "name": "stdout",
          "output_type": "stream",
          "text": [
            "\tIter 10/ 50 - Loss: 0.383\n",
            "\tIter 20/ 50 - Loss: 0.348\n",
            "\tIter 30/ 50 - Loss: 0.332\n",
            "\tIter 40/ 50 - Loss: 0.324\n",
            "\tIter 50/ 50 - Loss: 0.319\n"
          ]
        },
        {
          "name": "stderr",
          "output_type": "stream",
          "text": [
            "\n",
            "44it [01:47,  2.43s/it]\u001b[A"
          ]
        },
        {
          "name": "stdout",
          "output_type": "stream",
          "text": [
            "\tIter 10/ 50 - Loss: 0.403\n",
            "\tIter 20/ 50 - Loss: 0.354\n",
            "\tIter 30/ 50 - Loss: 0.333\n",
            "\tIter 40/ 50 - Loss: 0.323\n",
            "\tIter 50/ 50 - Loss: 0.318\n"
          ]
        },
        {
          "name": "stderr",
          "output_type": "stream",
          "text": [
            "\n",
            "45it [01:49,  2.49s/it]\u001b[A"
          ]
        },
        {
          "name": "stdout",
          "output_type": "stream",
          "text": [
            "\tIter 10/ 50 - Loss: 0.375\n",
            "\tIter 20/ 50 - Loss: 0.341\n",
            "\tIter 30/ 50 - Loss: 0.327\n",
            "\tIter 40/ 50 - Loss: 0.321\n",
            "\tIter 50/ 50 - Loss: 0.318\n"
          ]
        },
        {
          "name": "stderr",
          "output_type": "stream",
          "text": [
            "\n",
            "46it [01:52,  2.48s/it]\u001b[A"
          ]
        },
        {
          "name": "stdout",
          "output_type": "stream",
          "text": [
            "\tIter 10/ 50 - Loss: 0.376\n",
            "\tIter 20/ 50 - Loss: 0.34\n",
            "\tIter 30/ 50 - Loss: 0.329\n",
            "\tIter 40/ 50 - Loss: 0.325\n",
            "\tIter 50/ 50 - Loss: 0.322\n"
          ]
        },
        {
          "name": "stderr",
          "output_type": "stream",
          "text": [
            "\n",
            "47it [01:54,  2.50s/it]\u001b[A"
          ]
        },
        {
          "name": "stdout",
          "output_type": "stream",
          "text": [
            "\tIter 10/ 50 - Loss: 0.356\n",
            "\tIter 20/ 50 - Loss: 0.341\n",
            "\tIter 30/ 50 - Loss: 0.332\n",
            "\tIter 40/ 50 - Loss: 0.326\n",
            "\tIter 50/ 50 - Loss: 0.322\n"
          ]
        },
        {
          "name": "stderr",
          "output_type": "stream",
          "text": [
            "\n",
            "48it [01:57,  2.47s/it]\u001b[A"
          ]
        },
        {
          "name": "stdout",
          "output_type": "stream",
          "text": [
            "\tIter 10/ 50 - Loss: 0.384\n",
            "\tIter 20/ 50 - Loss: 0.35\n",
            "\tIter 30/ 50 - Loss: 0.335\n",
            "\tIter 40/ 50 - Loss: 0.327\n",
            "\tIter 50/ 50 - Loss: 0.323\n"
          ]
        },
        {
          "name": "stderr",
          "output_type": "stream",
          "text": [
            "\n",
            "49it [01:59,  2.45s/it]\u001b[A"
          ]
        },
        {
          "name": "stdout",
          "output_type": "stream",
          "text": [
            "\tIter 10/ 50 - Loss: 0.347\n",
            "\tIter 20/ 50 - Loss: 0.332\n",
            "\tIter 30/ 50 - Loss: 0.326\n",
            "\tIter 40/ 50 - Loss: 0.322\n",
            "\tIter 50/ 50 - Loss: 0.32\n"
          ]
        },
        {
          "name": "stderr",
          "output_type": "stream",
          "text": [
            "\n",
            "50it [02:02,  2.43s/it]\u001b[A"
          ]
        },
        {
          "name": "stdout",
          "output_type": "stream",
          "text": [
            "\tIter 10/ 50 - Loss: 0.354\n",
            "\tIter 20/ 50 - Loss: 0.336\n",
            "\tIter 30/ 50 - Loss: 0.329\n",
            "\tIter 40/ 50 - Loss: 0.326\n",
            "\tIter 50/ 50 - Loss: 0.325\n"
          ]
        },
        {
          "name": "stderr",
          "output_type": "stream",
          "text": [
            "\n",
            "51it [02:04,  2.43s/it]\u001b[A"
          ]
        },
        {
          "name": "stdout",
          "output_type": "stream",
          "text": [
            "\tIter 10/ 50 - Loss: 0.362\n",
            "\tIter 20/ 50 - Loss: 0.341\n",
            "\tIter 30/ 50 - Loss: 0.333\n",
            "\tIter 40/ 50 - Loss: 0.329\n",
            "\tIter 50/ 50 - Loss: 0.327\n"
          ]
        },
        {
          "name": "stderr",
          "output_type": "stream",
          "text": [
            "\n",
            "52it [02:07,  2.50s/it]\u001b[A"
          ]
        },
        {
          "name": "stdout",
          "output_type": "stream",
          "text": [
            "\tIter 10/ 50 - Loss: 0.347\n",
            "\tIter 20/ 50 - Loss: 0.338\n",
            "\tIter 30/ 50 - Loss: 0.334\n",
            "\tIter 40/ 50 - Loss: 0.331\n",
            "\tIter 50/ 50 - Loss: 0.328\n"
          ]
        },
        {
          "name": "stderr",
          "output_type": "stream",
          "text": [
            "\n",
            "53it [02:09,  2.47s/it]\u001b[A"
          ]
        },
        {
          "name": "stdout",
          "output_type": "stream",
          "text": [
            "\tIter 10/ 50 - Loss: 0.407\n",
            "\tIter 20/ 50 - Loss: 0.378\n",
            "\tIter 30/ 50 - Loss: 0.362\n",
            "\tIter 40/ 50 - Loss: 0.349\n",
            "\tIter 50/ 50 - Loss: 0.339\n"
          ]
        },
        {
          "name": "stderr",
          "output_type": "stream",
          "text": [
            "\n",
            "54it [02:11,  2.45s/it]\u001b[A"
          ]
        },
        {
          "name": "stdout",
          "output_type": "stream",
          "text": [
            "\tIter 10/ 50 - Loss: 0.392\n",
            "\tIter 20/ 50 - Loss: 0.362\n",
            "\tIter 30/ 50 - Loss: 0.348\n",
            "\tIter 40/ 50 - Loss: 0.34\n",
            "\tIter 50/ 50 - Loss: 0.335\n"
          ]
        },
        {
          "name": "stderr",
          "output_type": "stream",
          "text": [
            "\n",
            "55it [02:14,  2.43s/it]\u001b[A"
          ]
        },
        {
          "name": "stdout",
          "output_type": "stream",
          "text": [
            "\tIter 10/ 50 - Loss: 0.391\n",
            "\tIter 20/ 50 - Loss: 0.365\n",
            "\tIter 30/ 50 - Loss: 0.354\n",
            "\tIter 40/ 50 - Loss: 0.347\n",
            "\tIter 50/ 50 - Loss: 0.343\n"
          ]
        },
        {
          "name": "stderr",
          "output_type": "stream",
          "text": [
            "\n",
            "56it [02:16,  2.42s/it]\u001b[A"
          ]
        },
        {
          "name": "stdout",
          "output_type": "stream",
          "text": [
            "\tIter 10/ 50 - Loss: 0.371\n",
            "\tIter 20/ 50 - Loss: 0.349\n",
            "\tIter 30/ 50 - Loss: 0.339\n",
            "\tIter 40/ 50 - Loss: 0.333\n",
            "\tIter 50/ 50 - Loss: 0.33\n"
          ]
        },
        {
          "name": "stderr",
          "output_type": "stream",
          "text": [
            "\n",
            "57it [02:19,  2.43s/it]\u001b[A"
          ]
        },
        {
          "name": "stdout",
          "output_type": "stream",
          "text": [
            "\tIter 10/ 50 - Loss: 0.393\n",
            "\tIter 20/ 50 - Loss: 0.357\n",
            "\tIter 30/ 50 - Loss: 0.342\n",
            "\tIter 40/ 50 - Loss: 0.335\n",
            "\tIter 50/ 50 - Loss: 0.33\n"
          ]
        },
        {
          "name": "stderr",
          "output_type": "stream",
          "text": [
            "\n",
            "58it [02:21,  2.43s/it]\u001b[A"
          ]
        },
        {
          "name": "stdout",
          "output_type": "stream",
          "text": [
            "\tIter 10/ 50 - Loss: 0.431\n",
            "\tIter 20/ 50 - Loss: 0.384\n",
            "\tIter 30/ 50 - Loss: 0.363\n",
            "\tIter 40/ 50 - Loss: 0.35\n",
            "\tIter 50/ 50 - Loss: 0.341\n"
          ]
        },
        {
          "name": "stderr",
          "output_type": "stream",
          "text": [
            "\n",
            "59it [02:24,  2.48s/it]\u001b[A"
          ]
        },
        {
          "name": "stdout",
          "output_type": "stream",
          "text": [
            "\tIter 10/ 50 - Loss: 0.506\n",
            "\tIter 20/ 50 - Loss: 0.416\n",
            "\tIter 30/ 50 - Loss: 0.38\n",
            "\tIter 40/ 50 - Loss: 0.36\n",
            "\tIter 50/ 50 - Loss: 0.348\n"
          ]
        },
        {
          "name": "stderr",
          "output_type": "stream",
          "text": [
            "\n",
            "60it [02:26,  2.45s/it]\u001b[A"
          ]
        },
        {
          "name": "stdout",
          "output_type": "stream",
          "text": [
            "\tIter 10/ 50 - Loss: 0.39\n",
            "\tIter 20/ 50 - Loss: 0.363\n",
            "\tIter 30/ 50 - Loss: 0.35\n",
            "\tIter 40/ 50 - Loss: 0.343\n",
            "\tIter 50/ 50 - Loss: 0.338\n"
          ]
        },
        {
          "name": "stderr",
          "output_type": "stream",
          "text": [
            "\n",
            "61it [02:28,  2.45s/it]\u001b[A"
          ]
        },
        {
          "name": "stdout",
          "output_type": "stream",
          "text": [
            "\tIter 10/ 50 - Loss: 0.393\n",
            "\tIter 20/ 50 - Loss: 0.378\n",
            "\tIter 30/ 50 - Loss: 0.369\n",
            "\tIter 40/ 50 - Loss: 0.361\n",
            "\tIter 50/ 50 - Loss: 0.356\n"
          ]
        },
        {
          "name": "stderr",
          "output_type": "stream",
          "text": [
            "\n",
            "62it [02:31,  2.46s/it]\u001b[A"
          ]
        },
        {
          "name": "stdout",
          "output_type": "stream",
          "text": [
            "\tIter 10/ 50 - Loss: 0.383\n",
            "\tIter 20/ 50 - Loss: 0.358\n",
            "\tIter 30/ 50 - Loss: 0.347\n",
            "\tIter 40/ 50 - Loss: 0.342\n",
            "\tIter 50/ 50 - Loss: 0.339\n"
          ]
        },
        {
          "name": "stderr",
          "output_type": "stream",
          "text": [
            "\n",
            "63it [02:33,  2.44s/it]\u001b[A"
          ]
        },
        {
          "name": "stdout",
          "output_type": "stream",
          "text": [
            "\tIter 10/ 50 - Loss: 0.396\n",
            "\tIter 20/ 50 - Loss: 0.368\n",
            "\tIter 30/ 50 - Loss: 0.354\n",
            "\tIter 40/ 50 - Loss: 0.345\n",
            "\tIter 50/ 50 - Loss: 0.34\n"
          ]
        },
        {
          "name": "stderr",
          "output_type": "stream",
          "text": [
            "\n",
            "64it [02:36,  2.42s/it]\u001b[A"
          ]
        },
        {
          "name": "stdout",
          "output_type": "stream",
          "text": [
            "\tIter 10/ 50 - Loss: 0.381\n",
            "\tIter 20/ 50 - Loss: 0.36\n",
            "\tIter 30/ 50 - Loss: 0.349\n",
            "\tIter 40/ 50 - Loss: 0.343\n",
            "\tIter 50/ 50 - Loss: 0.339\n"
          ]
        },
        {
          "name": "stderr",
          "output_type": "stream",
          "text": [
            "\n",
            "65it [02:38,  2.41s/it]\u001b[A"
          ]
        },
        {
          "name": "stdout",
          "output_type": "stream",
          "text": [
            "\tIter 10/ 50 - Loss: 0.398\n",
            "\tIter 20/ 50 - Loss: 0.376\n",
            "\tIter 30/ 50 - Loss: 0.363\n",
            "\tIter 40/ 50 - Loss: 0.353\n",
            "\tIter 50/ 50 - Loss: 0.347\n"
          ]
        },
        {
          "name": "stderr",
          "output_type": "stream",
          "text": [
            "\n",
            "66it [02:41,  2.42s/it]\u001b[A"
          ]
        },
        {
          "name": "stdout",
          "output_type": "stream",
          "text": [
            "\tIter 10/ 50 - Loss: 0.412\n",
            "\tIter 20/ 50 - Loss: 0.376\n",
            "\tIter 30/ 50 - Loss: 0.36\n",
            "\tIter 40/ 50 - Loss: 0.351\n",
            "\tIter 50/ 50 - Loss: 0.345\n"
          ]
        },
        {
          "name": "stderr",
          "output_type": "stream",
          "text": [
            "\n",
            "67it [02:43,  2.51s/it]\u001b[A"
          ]
        },
        {
          "name": "stdout",
          "output_type": "stream",
          "text": [
            "\tIter 10/ 50 - Loss: 0.432\n",
            "\tIter 20/ 50 - Loss: 0.385\n",
            "\tIter 30/ 50 - Loss: 0.368\n",
            "\tIter 40/ 50 - Loss: 0.36\n",
            "\tIter 50/ 50 - Loss: 0.355\n"
          ]
        },
        {
          "name": "stderr",
          "output_type": "stream",
          "text": [
            "\n",
            "68it [02:46,  2.48s/it]\u001b[A"
          ]
        },
        {
          "name": "stdout",
          "output_type": "stream",
          "text": [
            "\tIter 10/ 50 - Loss: 0.405\n",
            "\tIter 20/ 50 - Loss: 0.373\n",
            "\tIter 30/ 50 - Loss: 0.357\n",
            "\tIter 40/ 50 - Loss: 0.348\n",
            "\tIter 50/ 50 - Loss: 0.344\n"
          ]
        },
        {
          "name": "stderr",
          "output_type": "stream",
          "text": [
            "\n",
            "69it [02:48,  2.46s/it]\u001b[A"
          ]
        },
        {
          "name": "stdout",
          "output_type": "stream",
          "text": [
            "\tIter 10/ 50 - Loss: 0.397\n",
            "\tIter 20/ 50 - Loss: 0.367\n",
            "\tIter 30/ 50 - Loss: 0.354\n",
            "\tIter 40/ 50 - Loss: 0.348\n",
            "\tIter 50/ 50 - Loss: 0.344\n"
          ]
        },
        {
          "name": "stderr",
          "output_type": "stream",
          "text": [
            "\n",
            "70it [02:51,  2.45s/it]\u001b[A"
          ]
        },
        {
          "name": "stdout",
          "output_type": "stream",
          "text": [
            "\tIter 10/ 50 - Loss: 0.499\n",
            "\tIter 20/ 50 - Loss: 0.443\n",
            "\tIter 30/ 50 - Loss: 0.413\n",
            "\tIter 40/ 50 - Loss: 0.392\n",
            "\tIter 50/ 50 - Loss: 0.377\n"
          ]
        },
        {
          "name": "stderr",
          "output_type": "stream",
          "text": [
            "\n",
            "71it [02:53,  2.45s/it]\u001b[A"
          ]
        },
        {
          "name": "stdout",
          "output_type": "stream",
          "text": [
            "\tIter 10/ 50 - Loss: 0.422\n",
            "\tIter 20/ 50 - Loss: 0.384\n",
            "\tIter 30/ 50 - Loss: 0.366\n",
            "\tIter 40/ 50 - Loss: 0.356\n",
            "\tIter 50/ 50 - Loss: 0.351\n"
          ]
        },
        {
          "name": "stderr",
          "output_type": "stream",
          "text": [
            "\n",
            "72it [02:56,  2.47s/it]\u001b[A"
          ]
        },
        {
          "name": "stdout",
          "output_type": "stream",
          "text": [
            "\tIter 10/ 50 - Loss: 0.381\n",
            "\tIter 20/ 50 - Loss: 0.367\n",
            "\tIter 30/ 50 - Loss: 0.361\n",
            "\tIter 40/ 50 - Loss: 0.358\n",
            "\tIter 50/ 50 - Loss: 0.357\n"
          ]
        },
        {
          "name": "stderr",
          "output_type": "stream",
          "text": [
            "\n",
            "73it [02:58,  2.47s/it]\u001b[A"
          ]
        },
        {
          "name": "stdout",
          "output_type": "stream",
          "text": [
            "\tIter 10/ 50 - Loss: 0.425\n",
            "\tIter 20/ 50 - Loss: 0.387\n",
            "\tIter 30/ 50 - Loss: 0.37\n",
            "\tIter 40/ 50 - Loss: 0.36\n",
            "\tIter 50/ 50 - Loss: 0.354\n"
          ]
        },
        {
          "name": "stderr",
          "output_type": "stream",
          "text": [
            "\n",
            "74it [03:01,  2.51s/it]\u001b[A"
          ]
        },
        {
          "name": "stdout",
          "output_type": "stream",
          "text": [
            "\tIter 10/ 50 - Loss: 0.453\n",
            "\tIter 20/ 50 - Loss: 0.405\n",
            "\tIter 30/ 50 - Loss: 0.382\n",
            "\tIter 40/ 50 - Loss: 0.368\n",
            "\tIter 50/ 50 - Loss: 0.36\n"
          ]
        },
        {
          "name": "stderr",
          "output_type": "stream",
          "text": [
            "\n",
            "75it [03:03,  2.49s/it]\u001b[A"
          ]
        },
        {
          "name": "stdout",
          "output_type": "stream",
          "text": [
            "\tIter 10/ 50 - Loss: 0.439\n",
            "\tIter 20/ 50 - Loss: 0.387\n",
            "\tIter 30/ 50 - Loss: 0.366\n",
            "\tIter 40/ 50 - Loss: 0.356\n",
            "\tIter 50/ 50 - Loss: 0.351\n"
          ]
        },
        {
          "name": "stderr",
          "output_type": "stream",
          "text": [
            "\n",
            "76it [03:06,  2.49s/it]\u001b[A"
          ]
        },
        {
          "name": "stdout",
          "output_type": "stream",
          "text": [
            "\tIter 10/ 50 - Loss: 0.412\n",
            "\tIter 20/ 50 - Loss: 0.379\n",
            "\tIter 30/ 50 - Loss: 0.364\n",
            "\tIter 40/ 50 - Loss: 0.356\n",
            "\tIter 50/ 50 - Loss: 0.351\n"
          ]
        },
        {
          "name": "stderr",
          "output_type": "stream",
          "text": [
            "\n",
            "77it [03:08,  2.49s/it]\u001b[A"
          ]
        },
        {
          "name": "stdout",
          "output_type": "stream",
          "text": [
            "\tIter 10/ 50 - Loss: 0.381\n",
            "\tIter 20/ 50 - Loss: 0.369\n",
            "\tIter 30/ 50 - Loss: 0.364\n",
            "\tIter 40/ 50 - Loss: 0.361\n",
            "\tIter 50/ 50 - Loss: 0.358\n"
          ]
        },
        {
          "name": "stderr",
          "output_type": "stream",
          "text": [
            "\n",
            "78it [03:10,  2.48s/it]\u001b[A"
          ]
        },
        {
          "name": "stdout",
          "output_type": "stream",
          "text": [
            "\tIter 10/ 50 - Loss: 0.395\n",
            "\tIter 20/ 50 - Loss: 0.37\n",
            "\tIter 30/ 50 - Loss: 0.361\n",
            "\tIter 40/ 50 - Loss: 0.355\n",
            "\tIter 50/ 50 - Loss: 0.351\n"
          ]
        },
        {
          "name": "stderr",
          "output_type": "stream",
          "text": [
            "\n",
            "79it [03:13,  2.47s/it]\u001b[A"
          ]
        },
        {
          "name": "stdout",
          "output_type": "stream",
          "text": [
            "\tIter 10/ 50 - Loss: 0.473\n",
            "\tIter 20/ 50 - Loss: 0.411\n",
            "\tIter 30/ 50 - Loss: 0.382\n",
            "\tIter 40/ 50 - Loss: 0.366\n",
            "\tIter 50/ 50 - Loss: 0.358\n"
          ]
        },
        {
          "name": "stderr",
          "output_type": "stream",
          "text": [
            "\n",
            "80it [03:16,  2.52s/it]\u001b[A"
          ]
        },
        {
          "name": "stdout",
          "output_type": "stream",
          "text": [
            "\tIter 10/ 50 - Loss: 0.453\n",
            "\tIter 20/ 50 - Loss: 0.415\n",
            "\tIter 30/ 50 - Loss: 0.394\n",
            "\tIter 40/ 50 - Loss: 0.38\n",
            "\tIter 50/ 50 - Loss: 0.37\n"
          ]
        },
        {
          "name": "stderr",
          "output_type": "stream",
          "text": [
            "\n",
            "81it [03:18,  2.50s/it]\u001b[A"
          ]
        },
        {
          "name": "stdout",
          "output_type": "stream",
          "text": [
            "\tIter 10/ 50 - Loss: 0.397\n",
            "\tIter 20/ 50 - Loss: 0.376\n",
            "\tIter 30/ 50 - Loss: 0.366\n",
            "\tIter 40/ 50 - Loss: 0.361\n",
            "\tIter 50/ 50 - Loss: 0.358\n"
          ]
        },
        {
          "name": "stderr",
          "output_type": "stream",
          "text": [
            "\n",
            "82it [03:20,  2.49s/it]\u001b[A"
          ]
        },
        {
          "name": "stdout",
          "output_type": "stream",
          "text": [
            "\tIter 10/ 50 - Loss: 0.397\n",
            "\tIter 20/ 50 - Loss: 0.374\n",
            "\tIter 30/ 50 - Loss: 0.363\n",
            "\tIter 40/ 50 - Loss: 0.356\n",
            "\tIter 50/ 50 - Loss: 0.352\n"
          ]
        },
        {
          "name": "stderr",
          "output_type": "stream",
          "text": [
            "\n",
            "83it [03:23,  2.47s/it]\u001b[A"
          ]
        },
        {
          "name": "stdout",
          "output_type": "stream",
          "text": [
            "\tIter 10/ 50 - Loss: 0.409\n",
            "\tIter 20/ 50 - Loss: 0.386\n",
            "\tIter 30/ 50 - Loss: 0.374\n",
            "\tIter 40/ 50 - Loss: 0.367\n",
            "\tIter 50/ 50 - Loss: 0.362\n"
          ]
        },
        {
          "name": "stderr",
          "output_type": "stream",
          "text": [
            "\n",
            "84it [03:25,  2.47s/it]\u001b[A"
          ]
        },
        {
          "name": "stdout",
          "output_type": "stream",
          "text": [
            "\tIter 10/ 50 - Loss: 0.466\n",
            "\tIter 20/ 50 - Loss: 0.418\n",
            "\tIter 30/ 50 - Loss: 0.401\n",
            "\tIter 40/ 50 - Loss: 0.392\n",
            "\tIter 50/ 50 - Loss: 0.386\n"
          ]
        },
        {
          "name": "stderr",
          "output_type": "stream",
          "text": [
            "\n",
            "85it [03:28,  2.46s/it]\u001b[A"
          ]
        },
        {
          "name": "stdout",
          "output_type": "stream",
          "text": [
            "\tIter 10/ 50 - Loss: 0.406\n",
            "\tIter 20/ 50 - Loss: 0.388\n",
            "\tIter 30/ 50 - Loss: 0.378\n",
            "\tIter 40/ 50 - Loss: 0.371\n",
            "\tIter 50/ 50 - Loss: 0.366\n"
          ]
        },
        {
          "name": "stderr",
          "output_type": "stream",
          "text": [
            "\n",
            "86it [03:30,  2.47s/it]\u001b[A"
          ]
        },
        {
          "name": "stdout",
          "output_type": "stream",
          "text": [
            "\tIter 10/ 50 - Loss: 0.426\n",
            "\tIter 20/ 50 - Loss: 0.393\n",
            "\tIter 30/ 50 - Loss: 0.377\n",
            "\tIter 40/ 50 - Loss: 0.368\n",
            "\tIter 50/ 50 - Loss: 0.362\n"
          ]
        },
        {
          "name": "stderr",
          "output_type": "stream",
          "text": [
            "\n",
            "87it [03:33,  2.47s/it]\u001b[A"
          ]
        },
        {
          "name": "stdout",
          "output_type": "stream",
          "text": [
            "\tIter 10/ 50 - Loss: 0.443\n",
            "\tIter 20/ 50 - Loss: 0.4\n",
            "\tIter 30/ 50 - Loss: 0.38\n",
            "\tIter 40/ 50 - Loss: 0.369\n",
            "\tIter 50/ 50 - Loss: 0.362\n"
          ]
        },
        {
          "name": "stderr",
          "output_type": "stream",
          "text": [
            "\n",
            "88it [03:35,  2.51s/it]\u001b[A"
          ]
        },
        {
          "name": "stdout",
          "output_type": "stream",
          "text": [
            "\tIter 10/ 50 - Loss: 0.403\n",
            "\tIter 20/ 50 - Loss: 0.382\n",
            "\tIter 30/ 50 - Loss: 0.372\n",
            "\tIter 40/ 50 - Loss: 0.366\n",
            "\tIter 50/ 50 - Loss: 0.363\n"
          ]
        },
        {
          "name": "stderr",
          "output_type": "stream",
          "text": [
            "\n",
            "89it [03:38,  2.48s/it]\u001b[A"
          ]
        },
        {
          "name": "stdout",
          "output_type": "stream",
          "text": [
            "\tIter 10/ 50 - Loss: 0.452\n",
            "\tIter 20/ 50 - Loss: 0.408\n",
            "\tIter 30/ 50 - Loss: 0.386\n",
            "\tIter 40/ 50 - Loss: 0.373\n",
            "\tIter 50/ 50 - Loss: 0.365\n"
          ]
        },
        {
          "name": "stderr",
          "output_type": "stream",
          "text": [
            "\n",
            "90it [03:40,  2.47s/it]\u001b[A"
          ]
        },
        {
          "name": "stdout",
          "output_type": "stream",
          "text": [
            "\tIter 10/ 50 - Loss: 0.413\n",
            "\tIter 20/ 50 - Loss: 0.38\n",
            "\tIter 30/ 50 - Loss: 0.366\n",
            "\tIter 40/ 50 - Loss: 0.358\n",
            "\tIter 50/ 50 - Loss: 0.354\n"
          ]
        },
        {
          "name": "stderr",
          "output_type": "stream",
          "text": [
            "\n",
            "91it [03:43,  2.50s/it]\u001b[A"
          ]
        },
        {
          "name": "stdout",
          "output_type": "stream",
          "text": [
            "\tIter 10/ 50 - Loss: 0.41\n",
            "\tIter 20/ 50 - Loss: 0.387\n",
            "\tIter 30/ 50 - Loss: 0.376\n",
            "\tIter 40/ 50 - Loss: 0.369\n",
            "\tIter 50/ 50 - Loss: 0.365\n"
          ]
        },
        {
          "name": "stderr",
          "output_type": "stream",
          "text": [
            "\n",
            "92it [03:45,  2.47s/it]\u001b[A"
          ]
        },
        {
          "name": "stdout",
          "output_type": "stream",
          "text": [
            "\tIter 10/ 50 - Loss: 0.445\n",
            "\tIter 20/ 50 - Loss: 0.409\n",
            "\tIter 30/ 50 - Loss: 0.393\n",
            "\tIter 40/ 50 - Loss: 0.382\n",
            "\tIter 50/ 50 - Loss: 0.375\n"
          ]
        },
        {
          "name": "stderr",
          "output_type": "stream",
          "text": [
            "\n",
            "93it [03:48,  2.46s/it]\u001b[A"
          ]
        },
        {
          "name": "stdout",
          "output_type": "stream",
          "text": [
            "\tIter 10/ 50 - Loss: 0.458\n",
            "\tIter 20/ 50 - Loss: 0.421\n",
            "\tIter 30/ 50 - Loss: 0.402\n",
            "\tIter 40/ 50 - Loss: 0.391\n",
            "\tIter 50/ 50 - Loss: 0.382\n"
          ]
        },
        {
          "name": "stderr",
          "output_type": "stream",
          "text": [
            "\n",
            "94it [03:50,  2.45s/it]\u001b[A"
          ]
        },
        {
          "name": "stdout",
          "output_type": "stream",
          "text": [
            "\tIter 10/ 50 - Loss: 0.443\n",
            "\tIter 20/ 50 - Loss: 0.396\n",
            "\tIter 30/ 50 - Loss: 0.377\n",
            "\tIter 40/ 50 - Loss: 0.367\n",
            "\tIter 50/ 50 - Loss: 0.361\n"
          ]
        },
        {
          "name": "stderr",
          "output_type": "stream",
          "text": [
            "\n",
            "95it [03:53,  2.45s/it]\u001b[A"
          ]
        },
        {
          "name": "stdout",
          "output_type": "stream",
          "text": [
            "\tIter 10/ 50 - Loss: 0.416\n",
            "\tIter 20/ 50 - Loss: 0.392\n",
            "\tIter 30/ 50 - Loss: 0.378\n",
            "\tIter 40/ 50 - Loss: 0.369\n",
            "\tIter 50/ 50 - Loss: 0.364\n"
          ]
        },
        {
          "name": "stderr",
          "output_type": "stream",
          "text": [
            "\n",
            "96it [03:55,  2.52s/it]\u001b[A"
          ]
        },
        {
          "name": "stdout",
          "output_type": "stream",
          "text": [
            "\tIter 10/ 50 - Loss: 0.404\n",
            "\tIter 20/ 50 - Loss: 0.381\n",
            "\tIter 30/ 50 - Loss: 0.372\n",
            "\tIter 40/ 50 - Loss: 0.367\n",
            "\tIter 50/ 50 - Loss: 0.364\n"
          ]
        },
        {
          "name": "stderr",
          "output_type": "stream",
          "text": [
            "\n",
            "97it [03:58,  2.50s/it]\u001b[A"
          ]
        },
        {
          "name": "stdout",
          "output_type": "stream",
          "text": [
            "\tIter 10/ 50 - Loss: 0.415\n",
            "\tIter 20/ 50 - Loss: 0.394\n",
            "\tIter 30/ 50 - Loss: 0.382\n",
            "\tIter 40/ 50 - Loss: 0.375\n",
            "\tIter 50/ 50 - Loss: 0.369\n"
          ]
        },
        {
          "name": "stderr",
          "output_type": "stream",
          "text": [
            "\n",
            "98it [04:00,  2.49s/it]\u001b[A"
          ]
        },
        {
          "name": "stdout",
          "output_type": "stream",
          "text": [
            "\tIter 10/ 50 - Loss: 0.464\n",
            "\tIter 20/ 50 - Loss: 0.423\n",
            "\tIter 30/ 50 - Loss: 0.401\n",
            "\tIter 40/ 50 - Loss: 0.388\n",
            "\tIter 50/ 50 - Loss: 0.38\n"
          ]
        },
        {
          "name": "stderr",
          "output_type": "stream",
          "text": [
            "\n",
            "99it [04:03,  2.47s/it]\u001b[A"
          ]
        },
        {
          "name": "stdout",
          "output_type": "stream",
          "text": [
            "\tIter 10/ 50 - Loss: 0.433\n",
            "\tIter 20/ 50 - Loss: 0.395\n",
            "\tIter 30/ 50 - Loss: 0.381\n",
            "\tIter 40/ 50 - Loss: 0.373\n",
            "\tIter 50/ 50 - Loss: 0.369\n"
          ]
        },
        {
          "name": "stderr",
          "output_type": "stream",
          "text": [
            "\n",
            "100it [04:05,  2.47s/it]\u001b[A"
          ]
        },
        {
          "name": "stdout",
          "output_type": "stream",
          "text": [
            "\tIter 10/ 50 - Loss: 0.451\n",
            "\tIter 20/ 50 - Loss: 0.41\n",
            "\tIter 30/ 50 - Loss: 0.394\n",
            "\tIter 40/ 50 - Loss: 0.387\n",
            "\tIter 50/ 50 - Loss: 0.382\n"
          ]
        },
        {
          "name": "stderr",
          "output_type": "stream",
          "text": [
            "\n",
            "101it [04:08,  2.48s/it]\u001b[A"
          ]
        },
        {
          "name": "stdout",
          "output_type": "stream",
          "text": [
            "\tIter 10/ 50 - Loss: 0.461\n",
            "\tIter 20/ 50 - Loss: 0.406\n",
            "\tIter 30/ 50 - Loss: 0.386\n",
            "\tIter 40/ 50 - Loss: 0.375\n",
            "\tIter 50/ 50 - Loss: 0.369\n"
          ]
        },
        {
          "name": "stderr",
          "output_type": "stream",
          "text": [
            "\n",
            "102it [04:10,  2.47s/it]\u001b[A"
          ]
        },
        {
          "name": "stdout",
          "output_type": "stream",
          "text": [
            "\tIter 10/ 50 - Loss: 0.448\n",
            "\tIter 20/ 50 - Loss: 0.396\n",
            "\tIter 30/ 50 - Loss: 0.378\n",
            "\tIter 40/ 50 - Loss: 0.369\n",
            "\tIter 50/ 50 - Loss: 0.363\n"
          ]
        },
        {
          "name": "stderr",
          "output_type": "stream",
          "text": [
            "\n",
            "103it [04:13,  2.51s/it]\u001b[A"
          ]
        },
        {
          "name": "stdout",
          "output_type": "stream",
          "text": [
            "\tIter 10/ 50 - Loss: 0.433\n",
            "\tIter 20/ 50 - Loss: 0.388\n",
            "\tIter 30/ 50 - Loss: 0.373\n",
            "\tIter 40/ 50 - Loss: 0.364\n",
            "\tIter 50/ 50 - Loss: 0.359\n"
          ]
        },
        {
          "name": "stderr",
          "output_type": "stream",
          "text": [
            "\n",
            "104it [04:15,  2.50s/it]\u001b[A"
          ]
        },
        {
          "name": "stdout",
          "output_type": "stream",
          "text": [
            "\tIter 10/ 50 - Loss: 0.442\n",
            "\tIter 20/ 50 - Loss: 0.41\n",
            "\tIter 30/ 50 - Loss: 0.393\n",
            "\tIter 40/ 50 - Loss: 0.381\n",
            "\tIter 50/ 50 - Loss: 0.373\n"
          ]
        },
        {
          "name": "stderr",
          "output_type": "stream",
          "text": [
            "\n",
            "105it [04:18,  2.49s/it]\u001b[A"
          ]
        },
        {
          "name": "stdout",
          "output_type": "stream",
          "text": [
            "\tIter 10/ 50 - Loss: 0.409\n",
            "\tIter 20/ 50 - Loss: 0.389\n",
            "\tIter 30/ 50 - Loss: 0.379\n",
            "\tIter 40/ 50 - Loss: 0.374\n",
            "\tIter 50/ 50 - Loss: 0.37\n"
          ]
        },
        {
          "name": "stderr",
          "output_type": "stream",
          "text": [
            "\n",
            "106it [04:20,  2.49s/it]\u001b[A"
          ]
        },
        {
          "name": "stdout",
          "output_type": "stream",
          "text": [
            "\tIter 10/ 50 - Loss: 0.413\n",
            "\tIter 20/ 50 - Loss: 0.389\n",
            "\tIter 30/ 50 - Loss: 0.378\n",
            "\tIter 40/ 50 - Loss: 0.372\n",
            "\tIter 50/ 50 - Loss: 0.368\n"
          ]
        },
        {
          "name": "stderr",
          "output_type": "stream",
          "text": [
            "\n",
            "107it [04:23,  2.49s/it]\u001b[A"
          ]
        },
        {
          "name": "stdout",
          "output_type": "stream",
          "text": [
            "\tIter 10/ 50 - Loss: 0.431\n",
            "\tIter 20/ 50 - Loss: 0.405\n",
            "\tIter 30/ 50 - Loss: 0.393\n",
            "\tIter 40/ 50 - Loss: 0.385\n",
            "\tIter 50/ 50 - Loss: 0.379\n"
          ]
        },
        {
          "name": "stderr",
          "output_type": "stream",
          "text": [
            "\n",
            "108it [04:25,  2.48s/it]\u001b[A"
          ]
        },
        {
          "name": "stdout",
          "output_type": "stream",
          "text": [
            "\tIter 10/ 50 - Loss: 0.446\n",
            "\tIter 20/ 50 - Loss: 0.397\n",
            "\tIter 30/ 50 - Loss: 0.38\n",
            "\tIter 40/ 50 - Loss: 0.372\n",
            "\tIter 50/ 50 - Loss: 0.367\n"
          ]
        },
        {
          "name": "stderr",
          "output_type": "stream",
          "text": [
            "\n",
            "109it [04:27,  2.48s/it]\u001b[A"
          ]
        },
        {
          "name": "stdout",
          "output_type": "stream",
          "text": [
            "\tIter 10/ 50 - Loss: 0.396\n",
            "\tIter 20/ 50 - Loss: 0.376\n",
            "\tIter 30/ 50 - Loss: 0.37\n",
            "\tIter 40/ 50 - Loss: 0.366\n",
            "\tIter 50/ 50 - Loss: 0.363\n"
          ]
        },
        {
          "name": "stderr",
          "output_type": "stream",
          "text": [
            "\n",
            "110it [04:30,  2.54s/it]\u001b[A"
          ]
        },
        {
          "name": "stdout",
          "output_type": "stream",
          "text": [
            "\tIter 10/ 50 - Loss: 0.415\n",
            "\tIter 20/ 50 - Loss: 0.393\n",
            "\tIter 30/ 50 - Loss: 0.382\n",
            "\tIter 40/ 50 - Loss: 0.375\n",
            "\tIter 50/ 50 - Loss: 0.37\n"
          ]
        },
        {
          "name": "stderr",
          "output_type": "stream",
          "text": [
            "\n",
            "111it [04:33,  2.53s/it]\u001b[A"
          ]
        },
        {
          "name": "stdout",
          "output_type": "stream",
          "text": [
            "\tIter 10/ 50 - Loss: 0.386\n",
            "\tIter 20/ 50 - Loss: 0.375\n",
            "\tIter 30/ 50 - Loss: 0.37\n",
            "\tIter 40/ 50 - Loss: 0.366\n",
            "\tIter 50/ 50 - Loss: 0.364\n"
          ]
        },
        {
          "name": "stderr",
          "output_type": "stream",
          "text": [
            "\n",
            "112it [04:35,  2.51s/it]\u001b[A"
          ]
        },
        {
          "name": "stdout",
          "output_type": "stream",
          "text": [
            "\tIter 10/ 50 - Loss: 0.453\n",
            "\tIter 20/ 50 - Loss: 0.418\n",
            "\tIter 30/ 50 - Loss: 0.399\n",
            "\tIter 40/ 50 - Loss: 0.386\n",
            "\tIter 50/ 50 - Loss: 0.378\n"
          ]
        },
        {
          "name": "stderr",
          "output_type": "stream",
          "text": [
            "\n",
            "113it [04:37,  2.48s/it]\u001b[A"
          ]
        },
        {
          "name": "stdout",
          "output_type": "stream",
          "text": [
            "\tIter 10/ 50 - Loss: 0.41\n",
            "\tIter 20/ 50 - Loss: 0.39\n",
            "\tIter 30/ 50 - Loss: 0.38\n",
            "\tIter 40/ 50 - Loss: 0.375\n",
            "\tIter 50/ 50 - Loss: 0.371\n"
          ]
        },
        {
          "name": "stderr",
          "output_type": "stream",
          "text": [
            "\n",
            "114it [04:40,  2.46s/it]\u001b[A"
          ]
        },
        {
          "name": "stdout",
          "output_type": "stream",
          "text": [
            "\tIter 10/ 50 - Loss: 0.42\n",
            "\tIter 20/ 50 - Loss: 0.39\n",
            "\tIter 30/ 50 - Loss: 0.378\n",
            "\tIter 40/ 50 - Loss: 0.371\n",
            "\tIter 50/ 50 - Loss: 0.367\n"
          ]
        },
        {
          "name": "stderr",
          "output_type": "stream",
          "text": [
            "\n",
            "115it [04:42,  2.46s/it]\u001b[A"
          ]
        },
        {
          "name": "stdout",
          "output_type": "stream",
          "text": [
            "\tIter 10/ 50 - Loss: 0.466\n",
            "\tIter 20/ 50 - Loss: 0.418\n",
            "\tIter 30/ 50 - Loss: 0.396\n",
            "\tIter 40/ 50 - Loss: 0.384\n",
            "\tIter 50/ 50 - Loss: 0.376\n"
          ]
        },
        {
          "name": "stderr",
          "output_type": "stream",
          "text": [
            "\n",
            "116it [04:45,  2.49s/it]\u001b[A"
          ]
        },
        {
          "name": "stdout",
          "output_type": "stream",
          "text": [
            "\tIter 10/ 50 - Loss: 0.462\n",
            "\tIter 20/ 50 - Loss: 0.417\n",
            "\tIter 30/ 50 - Loss: 0.398\n",
            "\tIter 40/ 50 - Loss: 0.387\n",
            "\tIter 50/ 50 - Loss: 0.379\n"
          ]
        },
        {
          "name": "stderr",
          "output_type": "stream",
          "text": [
            "\n",
            "117it [04:47,  2.48s/it]\u001b[A"
          ]
        },
        {
          "name": "stdout",
          "output_type": "stream",
          "text": [
            "\tIter 10/ 50 - Loss: 0.389\n",
            "\tIter 20/ 50 - Loss: 0.381\n",
            "\tIter 30/ 50 - Loss: 0.376\n",
            "\tIter 40/ 50 - Loss: 0.373\n",
            "\tIter 50/ 50 - Loss: 0.37\n"
          ]
        },
        {
          "name": "stderr",
          "output_type": "stream",
          "text": [
            "\n",
            "118it [04:50,  2.53s/it]\u001b[A"
          ]
        },
        {
          "name": "stdout",
          "output_type": "stream",
          "text": [
            "\tIter 10/ 50 - Loss: 0.436\n",
            "\tIter 20/ 50 - Loss: 0.406\n",
            "\tIter 30/ 50 - Loss: 0.393\n",
            "\tIter 40/ 50 - Loss: 0.386\n",
            "\tIter 50/ 50 - Loss: 0.38\n"
          ]
        },
        {
          "name": "stderr",
          "output_type": "stream",
          "text": [
            "\n",
            "119it [04:52,  2.51s/it]\u001b[A"
          ]
        },
        {
          "name": "stdout",
          "output_type": "stream",
          "text": [
            "\tIter 10/ 50 - Loss: 0.446\n",
            "\tIter 20/ 50 - Loss: 0.416\n",
            "\tIter 30/ 50 - Loss: 0.4\n",
            "\tIter 40/ 50 - Loss: 0.389\n",
            "\tIter 50/ 50 - Loss: 0.382\n"
          ]
        },
        {
          "name": "stderr",
          "output_type": "stream",
          "text": [
            "\n",
            "120it [04:55,  2.52s/it]\u001b[A"
          ]
        },
        {
          "name": "stdout",
          "output_type": "stream",
          "text": [
            "\tIter 10/ 50 - Loss: 0.443\n",
            "\tIter 20/ 50 - Loss: 0.415\n",
            "\tIter 30/ 50 - Loss: 0.4\n",
            "\tIter 40/ 50 - Loss: 0.391\n",
            "\tIter 50/ 50 - Loss: 0.385\n"
          ]
        },
        {
          "name": "stderr",
          "output_type": "stream",
          "text": [
            "\n",
            "121it [04:58,  2.52s/it]\u001b[A"
          ]
        },
        {
          "name": "stdout",
          "output_type": "stream",
          "text": [
            "\tIter 10/ 50 - Loss: 0.5\n",
            "\tIter 20/ 50 - Loss: 0.443\n",
            "\tIter 30/ 50 - Loss: 0.417\n",
            "\tIter 40/ 50 - Loss: 0.401\n",
            "\tIter 50/ 50 - Loss: 0.389\n"
          ]
        },
        {
          "name": "stderr",
          "output_type": "stream",
          "text": [
            "\n",
            "122it [05:00,  2.50s/it]\u001b[A"
          ]
        },
        {
          "name": "stdout",
          "output_type": "stream",
          "text": [
            "\tIter 10/ 50 - Loss: 0.422\n",
            "\tIter 20/ 50 - Loss: 0.401\n",
            "\tIter 30/ 50 - Loss: 0.39\n",
            "\tIter 40/ 50 - Loss: 0.382\n",
            "\tIter 50/ 50 - Loss: 0.377\n"
          ]
        },
        {
          "name": "stderr",
          "output_type": "stream",
          "text": [
            "\n",
            "123it [05:02,  2.48s/it]\u001b[A"
          ]
        },
        {
          "name": "stdout",
          "output_type": "stream",
          "text": [
            "\tIter 10/ 50 - Loss: 0.4\n",
            "\tIter 20/ 50 - Loss: 0.39\n",
            "\tIter 30/ 50 - Loss: 0.384\n",
            "\tIter 40/ 50 - Loss: 0.38\n",
            "\tIter 50/ 50 - Loss: 0.377\n"
          ]
        },
        {
          "name": "stderr",
          "output_type": "stream",
          "text": [
            "\n",
            "124it [05:05,  2.47s/it]\u001b[A"
          ]
        },
        {
          "name": "stdout",
          "output_type": "stream",
          "text": [
            "\tIter 10/ 50 - Loss: 0.427\n",
            "\tIter 20/ 50 - Loss: 0.404\n",
            "\tIter 30/ 50 - Loss: 0.393\n",
            "\tIter 40/ 50 - Loss: 0.386\n",
            "\tIter 50/ 50 - Loss: 0.381\n"
          ]
        },
        {
          "name": "stderr",
          "output_type": "stream",
          "text": [
            "\n",
            "125it [05:08,  2.55s/it]\u001b[A"
          ]
        },
        {
          "name": "stdout",
          "output_type": "stream",
          "text": [
            "\tIter 10/ 50 - Loss: 0.463\n",
            "\tIter 20/ 50 - Loss: 0.438\n",
            "\tIter 30/ 50 - Loss: 0.422\n",
            "\tIter 40/ 50 - Loss: 0.412\n",
            "\tIter 50/ 50 - Loss: 0.404\n"
          ]
        },
        {
          "name": "stderr",
          "output_type": "stream",
          "text": [
            "\n",
            "126it [05:10,  2.53s/it]\u001b[A"
          ]
        },
        {
          "name": "stdout",
          "output_type": "stream",
          "text": [
            "\tIter 10/ 50 - Loss: 0.432\n",
            "\tIter 20/ 50 - Loss: 0.399\n",
            "\tIter 30/ 50 - Loss: 0.385\n",
            "\tIter 40/ 50 - Loss: 0.377\n",
            "\tIter 50/ 50 - Loss: 0.372\n"
          ]
        },
        {
          "name": "stderr",
          "output_type": "stream",
          "text": [
            "\n",
            "127it [05:13,  2.51s/it]\u001b[A"
          ]
        },
        {
          "name": "stdout",
          "output_type": "stream",
          "text": [
            "\tIter 10/ 50 - Loss: 0.428\n",
            "\tIter 20/ 50 - Loss: 0.404\n",
            "\tIter 30/ 50 - Loss: 0.393\n",
            "\tIter 40/ 50 - Loss: 0.386\n",
            "\tIter 50/ 50 - Loss: 0.382\n"
          ]
        },
        {
          "name": "stderr",
          "output_type": "stream",
          "text": [
            "\n",
            "128it [05:15,  2.50s/it]\u001b[A"
          ]
        },
        {
          "name": "stdout",
          "output_type": "stream",
          "text": [
            "\tIter 10/ 50 - Loss: 0.476\n",
            "\tIter 20/ 50 - Loss: 0.429\n",
            "\tIter 30/ 50 - Loss: 0.41\n",
            "\tIter 40/ 50 - Loss: 0.399\n",
            "\tIter 50/ 50 - Loss: 0.393\n"
          ]
        },
        {
          "name": "stderr",
          "output_type": "stream",
          "text": [
            "\n",
            "129it [05:18,  2.49s/it]\u001b[A"
          ]
        },
        {
          "name": "stdout",
          "output_type": "stream",
          "text": [
            "\tIter 10/ 50 - Loss: 0.446\n",
            "\tIter 20/ 50 - Loss: 0.415\n",
            "\tIter 30/ 50 - Loss: 0.4\n",
            "\tIter 40/ 50 - Loss: 0.39\n",
            "\tIter 50/ 50 - Loss: 0.384\n"
          ]
        },
        {
          "name": "stderr",
          "output_type": "stream",
          "text": [
            "\n",
            "130it [05:20,  2.51s/it]\u001b[A"
          ]
        },
        {
          "name": "stdout",
          "output_type": "stream",
          "text": [
            "\tIter 10/ 50 - Loss: 0.429\n",
            "\tIter 20/ 50 - Loss: 0.403\n",
            "\tIter 30/ 50 - Loss: 0.389\n",
            "\tIter 40/ 50 - Loss: 0.38\n",
            "\tIter 50/ 50 - Loss: 0.374\n"
          ]
        },
        {
          "name": "stderr",
          "output_type": "stream",
          "text": [
            "\n",
            "131it [05:23,  2.51s/it]\u001b[A"
          ]
        },
        {
          "name": "stdout",
          "output_type": "stream",
          "text": [
            "\tIter 10/ 50 - Loss: 0.405\n",
            "\tIter 20/ 50 - Loss: 0.386\n",
            "\tIter 30/ 50 - Loss: 0.377\n",
            "\tIter 40/ 50 - Loss: 0.373\n",
            "\tIter 50/ 50 - Loss: 0.369\n"
          ]
        },
        {
          "name": "stderr",
          "output_type": "stream",
          "text": [
            "\n",
            "132it [05:25,  2.50s/it]\u001b[A"
          ]
        },
        {
          "name": "stdout",
          "output_type": "stream",
          "text": [
            "\tIter 10/ 50 - Loss: 0.408\n",
            "\tIter 20/ 50 - Loss: 0.387\n",
            "\tIter 30/ 50 - Loss: 0.379\n",
            "\tIter 40/ 50 - Loss: 0.374\n",
            "\tIter 50/ 50 - Loss: 0.371\n"
          ]
        },
        {
          "name": "stderr",
          "output_type": "stream",
          "text": [
            "\n",
            "133it [05:28,  2.55s/it]\u001b[A"
          ]
        },
        {
          "name": "stdout",
          "output_type": "stream",
          "text": [
            "\tIter 10/ 50 - Loss: 0.407\n",
            "\tIter 20/ 50 - Loss: 0.387\n",
            "\tIter 30/ 50 - Loss: 0.38\n",
            "\tIter 40/ 50 - Loss: 0.375\n",
            "\tIter 50/ 50 - Loss: 0.372\n"
          ]
        },
        {
          "name": "stderr",
          "output_type": "stream",
          "text": [
            "\n",
            "134it [05:30,  2.54s/it]\u001b[A"
          ]
        },
        {
          "name": "stdout",
          "output_type": "stream",
          "text": [
            "\tIter 10/ 50 - Loss: 0.431\n",
            "\tIter 20/ 50 - Loss: 0.401\n",
            "\tIter 30/ 50 - Loss: 0.389\n",
            "\tIter 40/ 50 - Loss: 0.382\n",
            "\tIter 50/ 50 - Loss: 0.378\n"
          ]
        },
        {
          "name": "stderr",
          "output_type": "stream",
          "text": [
            "\n",
            "135it [05:33,  2.54s/it]\u001b[A"
          ]
        },
        {
          "name": "stdout",
          "output_type": "stream",
          "text": [
            "\tIter 10/ 50 - Loss: 0.411\n",
            "\tIter 20/ 50 - Loss: 0.392\n",
            "\tIter 30/ 50 - Loss: 0.383\n",
            "\tIter 40/ 50 - Loss: 0.377\n",
            "\tIter 50/ 50 - Loss: 0.372\n"
          ]
        },
        {
          "name": "stderr",
          "output_type": "stream",
          "text": [
            "\n",
            "136it [05:35,  2.54s/it]\u001b[A"
          ]
        },
        {
          "name": "stdout",
          "output_type": "stream",
          "text": [
            "\tIter 10/ 50 - Loss: 0.426\n",
            "\tIter 20/ 50 - Loss: 0.409\n",
            "\tIter 30/ 50 - Loss: 0.4\n",
            "\tIter 40/ 50 - Loss: 0.393\n",
            "\tIter 50/ 50 - Loss: 0.387\n"
          ]
        },
        {
          "name": "stderr",
          "output_type": "stream",
          "text": [
            "\n",
            "137it [05:38,  2.53s/it]\u001b[A"
          ]
        },
        {
          "name": "stdout",
          "output_type": "stream",
          "text": [
            "\tIter 10/ 50 - Loss: 0.402\n",
            "\tIter 20/ 50 - Loss: 0.383\n",
            "\tIter 30/ 50 - Loss: 0.376\n",
            "\tIter 40/ 50 - Loss: 0.372\n",
            "\tIter 50/ 50 - Loss: 0.369\n"
          ]
        },
        {
          "name": "stderr",
          "output_type": "stream",
          "text": [
            "\n",
            "138it [05:40,  2.52s/it]\u001b[A"
          ]
        },
        {
          "name": "stdout",
          "output_type": "stream",
          "text": [
            "\tIter 10/ 50 - Loss: 0.396\n",
            "\tIter 20/ 50 - Loss: 0.378\n",
            "\tIter 30/ 50 - Loss: 0.37\n",
            "\tIter 40/ 50 - Loss: 0.364\n",
            "\tIter 50/ 50 - Loss: 0.36\n"
          ]
        },
        {
          "name": "stderr",
          "output_type": "stream",
          "text": [
            "\n",
            "139it [05:43,  2.51s/it]\u001b[A"
          ]
        },
        {
          "name": "stdout",
          "output_type": "stream",
          "text": [
            "\tIter 10/ 50 - Loss: 0.438\n",
            "\tIter 20/ 50 - Loss: 0.41\n",
            "\tIter 30/ 50 - Loss: 0.395\n",
            "\tIter 40/ 50 - Loss: 0.386\n",
            "\tIter 50/ 50 - Loss: 0.379\n"
          ]
        },
        {
          "name": "stderr",
          "output_type": "stream",
          "text": [
            "\n",
            "140it [05:46,  2.58s/it]\u001b[A"
          ]
        },
        {
          "name": "stdout",
          "output_type": "stream",
          "text": [
            "\tIter 10/ 50 - Loss: 0.404\n",
            "\tIter 20/ 50 - Loss: 0.378\n",
            "\tIter 30/ 50 - Loss: 0.369\n",
            "\tIter 40/ 50 - Loss: 0.364\n",
            "\tIter 50/ 50 - Loss: 0.361\n"
          ]
        },
        {
          "name": "stderr",
          "output_type": "stream",
          "text": [
            "\n",
            "141it [05:48,  2.55s/it]\u001b[A"
          ]
        },
        {
          "name": "stdout",
          "output_type": "stream",
          "text": [
            "\tIter 10/ 50 - Loss: 0.41\n",
            "\tIter 20/ 50 - Loss: 0.386\n",
            "\tIter 30/ 50 - Loss: 0.376\n",
            "\tIter 40/ 50 - Loss: 0.37\n",
            "\tIter 50/ 50 - Loss: 0.366\n"
          ]
        },
        {
          "name": "stderr",
          "output_type": "stream",
          "text": [
            "\n",
            "142it [05:51,  2.55s/it]\u001b[A"
          ]
        },
        {
          "name": "stdout",
          "output_type": "stream",
          "text": [
            "\tIter 10/ 50 - Loss: 0.412\n",
            "\tIter 20/ 50 - Loss: 0.388\n",
            "\tIter 30/ 50 - Loss: 0.378\n",
            "\tIter 40/ 50 - Loss: 0.373\n",
            "\tIter 50/ 50 - Loss: 0.369\n"
          ]
        },
        {
          "name": "stderr",
          "output_type": "stream",
          "text": [
            "\n",
            "143it [05:53,  2.54s/it]\u001b[A"
          ]
        },
        {
          "name": "stdout",
          "output_type": "stream",
          "text": [
            "\tIter 10/ 50 - Loss: 0.432\n",
            "\tIter 20/ 50 - Loss: 0.399\n",
            "\tIter 30/ 50 - Loss: 0.382\n",
            "\tIter 40/ 50 - Loss: 0.371\n",
            "\tIter 50/ 50 - Loss: 0.365\n"
          ]
        },
        {
          "name": "stderr",
          "output_type": "stream",
          "text": [
            "\n",
            "144it [05:56,  2.55s/it]\u001b[A"
          ]
        },
        {
          "name": "stdout",
          "output_type": "stream",
          "text": [
            "\tIter 10/ 50 - Loss: 0.42\n",
            "\tIter 20/ 50 - Loss: 0.388\n",
            "\tIter 30/ 50 - Loss: 0.376\n",
            "\tIter 40/ 50 - Loss: 0.37\n",
            "\tIter 50/ 50 - Loss: 0.367\n"
          ]
        },
        {
          "name": "stderr",
          "output_type": "stream",
          "text": [
            "\n",
            "145it [05:58,  2.54s/it]\u001b[A"
          ]
        },
        {
          "name": "stdout",
          "output_type": "stream",
          "text": [
            "\tIter 10/ 50 - Loss: 0.409\n",
            "\tIter 20/ 50 - Loss: 0.386\n",
            "\tIter 30/ 50 - Loss: 0.374\n",
            "\tIter 40/ 50 - Loss: 0.368\n",
            "\tIter 50/ 50 - Loss: 0.363\n"
          ]
        },
        {
          "name": "stderr",
          "output_type": "stream",
          "text": [
            "\n",
            "146it [06:01,  2.53s/it]\u001b[A"
          ]
        },
        {
          "name": "stdout",
          "output_type": "stream",
          "text": [
            "\tIter 10/ 50 - Loss: 0.432\n",
            "\tIter 20/ 50 - Loss: 0.409\n",
            "\tIter 30/ 50 - Loss: 0.397\n",
            "\tIter 40/ 50 - Loss: 0.389\n",
            "\tIter 50/ 50 - Loss: 0.383\n"
          ]
        },
        {
          "name": "stderr",
          "output_type": "stream",
          "text": [
            "\n",
            "147it [06:03,  2.53s/it]\u001b[A"
          ]
        },
        {
          "name": "stdout",
          "output_type": "stream",
          "text": [
            "\tIter 10/ 50 - Loss: 0.392\n",
            "\tIter 20/ 50 - Loss: 0.379\n",
            "\tIter 30/ 50 - Loss: 0.373\n",
            "\tIter 40/ 50 - Loss: 0.368\n",
            "\tIter 50/ 50 - Loss: 0.364\n"
          ]
        },
        {
          "name": "stderr",
          "output_type": "stream",
          "text": [
            "\n",
            "148it [06:06,  2.58s/it]\u001b[A"
          ]
        },
        {
          "name": "stdout",
          "output_type": "stream",
          "text": [
            "\tIter 10/ 50 - Loss: 0.445\n",
            "\tIter 20/ 50 - Loss: 0.412\n",
            "\tIter 30/ 50 - Loss: 0.397\n",
            "\tIter 40/ 50 - Loss: 0.388\n",
            "\tIter 50/ 50 - Loss: 0.382\n"
          ]
        },
        {
          "name": "stderr",
          "output_type": "stream",
          "text": [
            "\n",
            "149it [06:09,  2.59s/it]\u001b[A"
          ]
        },
        {
          "name": "stdout",
          "output_type": "stream",
          "text": [
            "\tIter 10/ 50 - Loss: 0.467\n",
            "\tIter 20/ 50 - Loss: 0.421\n",
            "\tIter 30/ 50 - Loss: 0.404\n",
            "\tIter 40/ 50 - Loss: 0.393\n",
            "\tIter 50/ 50 - Loss: 0.385\n"
          ]
        },
        {
          "name": "stderr",
          "output_type": "stream",
          "text": [
            "\n",
            "150it [06:11,  2.58s/it]\u001b[A"
          ]
        },
        {
          "name": "stdout",
          "output_type": "stream",
          "text": [
            "\tIter 10/ 50 - Loss: 0.472\n",
            "\tIter 20/ 50 - Loss: 0.429\n",
            "\tIter 30/ 50 - Loss: 0.407\n",
            "\tIter 40/ 50 - Loss: 0.392\n",
            "\tIter 50/ 50 - Loss: 0.383\n"
          ]
        },
        {
          "name": "stderr",
          "output_type": "stream",
          "text": [
            "\n",
            "151it [06:14,  2.57s/it]\u001b[A"
          ]
        },
        {
          "name": "stdout",
          "output_type": "stream",
          "text": [
            "\tIter 10/ 50 - Loss: 0.391\n",
            "\tIter 20/ 50 - Loss: 0.376\n",
            "\tIter 30/ 50 - Loss: 0.369\n",
            "\tIter 40/ 50 - Loss: 0.364\n",
            "\tIter 50/ 50 - Loss: 0.36\n"
          ]
        },
        {
          "name": "stderr",
          "output_type": "stream",
          "text": [
            "\n",
            "152it [06:16,  2.55s/it]\u001b[A"
          ]
        },
        {
          "name": "stdout",
          "output_type": "stream",
          "text": [
            "\tIter 10/ 50 - Loss: 0.446\n",
            "\tIter 20/ 50 - Loss: 0.421\n",
            "\tIter 30/ 50 - Loss: 0.404\n",
            "\tIter 40/ 50 - Loss: 0.393\n",
            "\tIter 50/ 50 - Loss: 0.384\n"
          ]
        },
        {
          "name": "stderr",
          "output_type": "stream",
          "text": [
            "\n",
            "153it [06:19,  2.56s/it]\u001b[A"
          ]
        },
        {
          "name": "stdout",
          "output_type": "stream",
          "text": [
            "\tIter 10/ 50 - Loss: 0.39\n",
            "\tIter 20/ 50 - Loss: 0.383\n",
            "\tIter 30/ 50 - Loss: 0.379\n",
            "\tIter 40/ 50 - Loss: 0.376\n",
            "\tIter 50/ 50 - Loss: 0.373\n"
          ]
        },
        {
          "name": "stderr",
          "output_type": "stream",
          "text": [
            "\n",
            "154it [06:21,  2.58s/it]\u001b[A"
          ]
        },
        {
          "name": "stdout",
          "output_type": "stream",
          "text": [
            "\tIter 10/ 50 - Loss: 0.425\n",
            "\tIter 20/ 50 - Loss: 0.404\n",
            "\tIter 30/ 50 - Loss: 0.392\n",
            "\tIter 40/ 50 - Loss: 0.384\n",
            "\tIter 50/ 50 - Loss: 0.378\n"
          ]
        },
        {
          "name": "stderr",
          "output_type": "stream",
          "text": [
            "\n",
            "155it [06:24,  2.63s/it]\u001b[A"
          ]
        },
        {
          "name": "stdout",
          "output_type": "stream",
          "text": [
            "\tIter 10/ 50 - Loss: 0.44\n",
            "\tIter 20/ 50 - Loss: 0.405\n",
            "\tIter 30/ 50 - Loss: 0.389\n",
            "\tIter 40/ 50 - Loss: 0.381\n",
            "\tIter 50/ 50 - Loss: 0.375\n"
          ]
        },
        {
          "name": "stderr",
          "output_type": "stream",
          "text": [
            "\n",
            "156it [06:27,  2.60s/it]\u001b[A"
          ]
        },
        {
          "name": "stdout",
          "output_type": "stream",
          "text": [
            "\tIter 10/ 50 - Loss: 0.435\n",
            "\tIter 20/ 50 - Loss: 0.394\n",
            "\tIter 30/ 50 - Loss: 0.382\n",
            "\tIter 40/ 50 - Loss: 0.375\n",
            "\tIter 50/ 50 - Loss: 0.371\n"
          ]
        },
        {
          "name": "stderr",
          "output_type": "stream",
          "text": [
            "\n",
            "157it [06:29,  2.58s/it]\u001b[A"
          ]
        },
        {
          "name": "stdout",
          "output_type": "stream",
          "text": [
            "\tIter 10/ 50 - Loss: 0.426\n",
            "\tIter 20/ 50 - Loss: 0.39\n",
            "\tIter 30/ 50 - Loss: 0.378\n",
            "\tIter 40/ 50 - Loss: 0.371\n",
            "\tIter 50/ 50 - Loss: 0.367\n"
          ]
        },
        {
          "name": "stderr",
          "output_type": "stream",
          "text": [
            "\n",
            "158it [06:32,  2.59s/it]\u001b[A"
          ]
        },
        {
          "name": "stdout",
          "output_type": "stream",
          "text": [
            "\tIter 10/ 50 - Loss: 0.417\n",
            "\tIter 20/ 50 - Loss: 0.393\n",
            "\tIter 30/ 50 - Loss: 0.379\n",
            "\tIter 40/ 50 - Loss: 0.371\n",
            "\tIter 50/ 50 - Loss: 0.366\n"
          ]
        },
        {
          "name": "stderr",
          "output_type": "stream",
          "text": [
            "\n",
            "159it [06:34,  2.60s/it]\u001b[A"
          ]
        },
        {
          "name": "stdout",
          "output_type": "stream",
          "text": [
            "\tIter 10/ 50 - Loss: 0.4\n",
            "\tIter 20/ 50 - Loss: 0.387\n",
            "\tIter 30/ 50 - Loss: 0.38\n",
            "\tIter 40/ 50 - Loss: 0.376\n",
            "\tIter 50/ 50 - Loss: 0.373\n"
          ]
        },
        {
          "name": "stderr",
          "output_type": "stream",
          "text": [
            "\n",
            "160it [06:37,  2.58s/it]\u001b[A"
          ]
        },
        {
          "name": "stdout",
          "output_type": "stream",
          "text": [
            "\tIter 10/ 50 - Loss: 0.419\n",
            "\tIter 20/ 50 - Loss: 0.389\n",
            "\tIter 30/ 50 - Loss: 0.377\n",
            "\tIter 40/ 50 - Loss: 0.369\n",
            "\tIter 50/ 50 - Loss: 0.364\n"
          ]
        },
        {
          "name": "stderr",
          "output_type": "stream",
          "text": [
            "\n",
            "161it [06:39,  2.57s/it]\u001b[A"
          ]
        },
        {
          "name": "stdout",
          "output_type": "stream",
          "text": [
            "\tIter 10/ 50 - Loss: 0.406\n",
            "\tIter 20/ 50 - Loss: 0.381\n",
            "\tIter 30/ 50 - Loss: 0.371\n",
            "\tIter 40/ 50 - Loss: 0.365\n",
            "\tIter 50/ 50 - Loss: 0.36\n"
          ]
        },
        {
          "name": "stderr",
          "output_type": "stream",
          "text": [
            "\n",
            "162it [06:42,  2.57s/it]\u001b[A"
          ]
        },
        {
          "name": "stdout",
          "output_type": "stream",
          "text": [
            "\tIter 10/ 50 - Loss: 0.392\n",
            "\tIter 20/ 50 - Loss: 0.374\n",
            "\tIter 30/ 50 - Loss: 0.365\n",
            "\tIter 40/ 50 - Loss: 0.36\n",
            "\tIter 50/ 50 - Loss: 0.356\n"
          ]
        },
        {
          "name": "stderr",
          "output_type": "stream",
          "text": [
            "\n",
            "163it [06:45,  2.67s/it]\u001b[A"
          ]
        },
        {
          "name": "stdout",
          "output_type": "stream",
          "text": [
            "\tIter 10/ 50 - Loss: 0.404\n",
            "\tIter 20/ 50 - Loss: 0.378\n",
            "\tIter 30/ 50 - Loss: 0.368\n",
            "\tIter 40/ 50 - Loss: 0.362\n",
            "\tIter 50/ 50 - Loss: 0.357\n"
          ]
        },
        {
          "name": "stderr",
          "output_type": "stream",
          "text": [
            "\n",
            "164it [06:47,  2.63s/it]\u001b[A"
          ]
        },
        {
          "name": "stdout",
          "output_type": "stream",
          "text": [
            "\tIter 10/ 50 - Loss: 0.39\n",
            "\tIter 20/ 50 - Loss: 0.376\n",
            "\tIter 30/ 50 - Loss: 0.368\n",
            "\tIter 40/ 50 - Loss: 0.362\n",
            "\tIter 50/ 50 - Loss: 0.358\n"
          ]
        },
        {
          "name": "stderr",
          "output_type": "stream",
          "text": [
            "\n",
            "165it [06:50,  2.62s/it]\u001b[A"
          ]
        },
        {
          "name": "stdout",
          "output_type": "stream",
          "text": [
            "\tIter 10/ 50 - Loss: 0.369\n",
            "\tIter 20/ 50 - Loss: 0.358\n",
            "\tIter 30/ 50 - Loss: 0.352\n",
            "\tIter 40/ 50 - Loss: 0.348\n",
            "\tIter 50/ 50 - Loss: 0.345\n"
          ]
        },
        {
          "name": "stderr",
          "output_type": "stream",
          "text": [
            "\n",
            "166it [06:53,  2.62s/it]\u001b[A"
          ]
        },
        {
          "name": "stdout",
          "output_type": "stream",
          "text": [
            "\tIter 10/ 50 - Loss: 0.39\n",
            "\tIter 20/ 50 - Loss: 0.378\n",
            "\tIter 30/ 50 - Loss: 0.369\n",
            "\tIter 40/ 50 - Loss: 0.363\n",
            "\tIter 50/ 50 - Loss: 0.357\n"
          ]
        },
        {
          "name": "stderr",
          "output_type": "stream",
          "text": [
            "\n",
            "167it [06:55,  2.62s/it]\u001b[A"
          ]
        },
        {
          "name": "stdout",
          "output_type": "stream",
          "text": [
            "\tIter 10/ 50 - Loss: 0.381\n",
            "\tIter 20/ 50 - Loss: 0.359\n",
            "\tIter 30/ 50 - Loss: 0.35\n",
            "\tIter 40/ 50 - Loss: 0.345\n",
            "\tIter 50/ 50 - Loss: 0.341\n"
          ]
        },
        {
          "name": "stderr",
          "output_type": "stream",
          "text": [
            "\n",
            "168it [06:58,  2.62s/it]\u001b[A"
          ]
        },
        {
          "name": "stdout",
          "output_type": "stream",
          "text": [
            "\tIter 10/ 50 - Loss: 0.409\n",
            "\tIter 20/ 50 - Loss: 0.384\n",
            "\tIter 30/ 50 - Loss: 0.37\n",
            "\tIter 40/ 50 - Loss: 0.361\n",
            "\tIter 50/ 50 - Loss: 0.355\n"
          ]
        },
        {
          "name": "stderr",
          "output_type": "stream",
          "text": [
            "\n",
            "169it [07:01,  2.61s/it]\u001b[A"
          ]
        },
        {
          "name": "stdout",
          "output_type": "stream",
          "text": [
            "\tIter 10/ 50 - Loss: 0.405\n",
            "\tIter 20/ 50 - Loss: 0.377\n",
            "\tIter 30/ 50 - Loss: 0.366\n",
            "\tIter 40/ 50 - Loss: 0.36\n",
            "\tIter 50/ 50 - Loss: 0.356\n"
          ]
        },
        {
          "name": "stderr",
          "output_type": "stream",
          "text": [
            "\n",
            "170it [07:03,  2.67s/it]\u001b[A"
          ]
        },
        {
          "name": "stdout",
          "output_type": "stream",
          "text": [
            "\tIter 10/ 50 - Loss: 0.405\n",
            "\tIter 20/ 50 - Loss: 0.38\n",
            "\tIter 30/ 50 - Loss: 0.367\n",
            "\tIter 40/ 50 - Loss: 0.358\n",
            "\tIter 50/ 50 - Loss: 0.352\n"
          ]
        },
        {
          "name": "stderr",
          "output_type": "stream",
          "text": [
            "\n",
            "171it [07:06,  2.65s/it]\u001b[A"
          ]
        },
        {
          "name": "stdout",
          "output_type": "stream",
          "text": [
            "\tIter 10/ 50 - Loss: 0.365\n",
            "\tIter 20/ 50 - Loss: 0.355\n",
            "\tIter 30/ 50 - Loss: 0.35\n",
            "\tIter 40/ 50 - Loss: 0.346\n",
            "\tIter 50/ 50 - Loss: 0.343\n"
          ]
        },
        {
          "name": "stderr",
          "output_type": "stream",
          "text": [
            "\n",
            "172it [07:09,  2.66s/it]\u001b[A"
          ]
        },
        {
          "name": "stdout",
          "output_type": "stream",
          "text": [
            "\tIter 10/ 50 - Loss: 0.356\n",
            "\tIter 20/ 50 - Loss: 0.344\n",
            "\tIter 30/ 50 - Loss: 0.339\n",
            "\tIter 40/ 50 - Loss: 0.335\n",
            "\tIter 50/ 50 - Loss: 0.333\n"
          ]
        },
        {
          "name": "stderr",
          "output_type": "stream",
          "text": [
            "\n",
            "173it [07:11,  2.64s/it]\u001b[A"
          ]
        },
        {
          "name": "stdout",
          "output_type": "stream",
          "text": [
            "\tIter 10/ 50 - Loss: 0.421\n",
            "\tIter 20/ 50 - Loss: 0.403\n",
            "\tIter 30/ 50 - Loss: 0.392\n",
            "\tIter 40/ 50 - Loss: 0.385\n",
            "\tIter 50/ 50 - Loss: 0.38\n"
          ]
        },
        {
          "name": "stderr",
          "output_type": "stream",
          "text": [
            "\n",
            "174it [07:14,  2.64s/it]\u001b[A"
          ]
        },
        {
          "name": "stdout",
          "output_type": "stream",
          "text": [
            "\tIter 10/ 50 - Loss: 0.365\n",
            "\tIter 20/ 50 - Loss: 0.352\n",
            "\tIter 30/ 50 - Loss: 0.345\n",
            "\tIter 40/ 50 - Loss: 0.341\n",
            "\tIter 50/ 50 - Loss: 0.337\n"
          ]
        },
        {
          "name": "stderr",
          "output_type": "stream",
          "text": [
            "\n",
            "175it [07:16,  2.64s/it]\u001b[A"
          ]
        },
        {
          "name": "stdout",
          "output_type": "stream",
          "text": [
            "\tIter 10/ 50 - Loss: 0.373\n",
            "\tIter 20/ 50 - Loss: 0.358\n",
            "\tIter 30/ 50 - Loss: 0.352\n",
            "\tIter 40/ 50 - Loss: 0.349\n",
            "\tIter 50/ 50 - Loss: 0.346\n"
          ]
        },
        {
          "name": "stderr",
          "output_type": "stream",
          "text": [
            "\n",
            "176it [07:19,  2.63s/it]\u001b[A"
          ]
        },
        {
          "name": "stdout",
          "output_type": "stream",
          "text": [
            "\tIter 10/ 50 - Loss: 0.393\n",
            "\tIter 20/ 50 - Loss: 0.371\n",
            "\tIter 30/ 50 - Loss: 0.358\n",
            "\tIter 40/ 50 - Loss: 0.349\n",
            "\tIter 50/ 50 - Loss: 0.343\n"
          ]
        },
        {
          "name": "stderr",
          "output_type": "stream",
          "text": [
            "\n",
            "177it [07:22,  2.63s/it]\u001b[A"
          ]
        },
        {
          "name": "stdout",
          "output_type": "stream",
          "text": [
            "\tIter 10/ 50 - Loss: 0.373\n",
            "\tIter 20/ 50 - Loss: 0.356\n",
            "\tIter 30/ 50 - Loss: 0.348\n",
            "\tIter 40/ 50 - Loss: 0.343\n",
            "\tIter 50/ 50 - Loss: 0.341\n"
          ]
        },
        {
          "name": "stderr",
          "output_type": "stream",
          "text": [
            "\n",
            "178it [07:25,  2.68s/it]\u001b[A"
          ]
        },
        {
          "name": "stdout",
          "output_type": "stream",
          "text": [
            "\tIter 10/ 50 - Loss: 0.354\n",
            "\tIter 20/ 50 - Loss: 0.34\n",
            "\tIter 30/ 50 - Loss: 0.334\n",
            "\tIter 40/ 50 - Loss: 0.329\n",
            "\tIter 50/ 50 - Loss: 0.327\n"
          ]
        },
        {
          "name": "stderr",
          "output_type": "stream",
          "text": [
            "\n",
            "179it [07:27,  2.67s/it]\u001b[A"
          ]
        },
        {
          "name": "stdout",
          "output_type": "stream",
          "text": [
            "\tIter 10/ 50 - Loss: 0.345\n",
            "\tIter 20/ 50 - Loss: 0.338\n",
            "\tIter 30/ 50 - Loss: 0.335\n",
            "\tIter 40/ 50 - Loss: 0.332\n",
            "\tIter 50/ 50 - Loss: 0.33\n"
          ]
        },
        {
          "name": "stderr",
          "output_type": "stream",
          "text": [
            "\n",
            "180it [07:30,  2.65s/it]\u001b[A"
          ]
        },
        {
          "name": "stdout",
          "output_type": "stream",
          "text": [
            "\tIter 10/ 50 - Loss: 0.333\n",
            "\tIter 20/ 50 - Loss: 0.33\n",
            "\tIter 30/ 50 - Loss: 0.327\n",
            "\tIter 40/ 50 - Loss: 0.325\n",
            "\tIter 50/ 50 - Loss: 0.324\n"
          ]
        },
        {
          "name": "stderr",
          "output_type": "stream",
          "text": [
            "\n",
            "181it [07:32,  2.65s/it]\u001b[A"
          ]
        },
        {
          "name": "stdout",
          "output_type": "stream",
          "text": [
            "\tIter 10/ 50 - Loss: 0.378\n",
            "\tIter 20/ 50 - Loss: 0.368\n",
            "\tIter 30/ 50 - Loss: 0.361\n",
            "\tIter 40/ 50 - Loss: 0.356\n",
            "\tIter 50/ 50 - Loss: 0.352\n"
          ]
        },
        {
          "name": "stderr",
          "output_type": "stream",
          "text": [
            "\n",
            "182it [07:35,  2.65s/it]\u001b[A"
          ]
        },
        {
          "name": "stdout",
          "output_type": "stream",
          "text": [
            "\tIter 10/ 50 - Loss: 0.383\n",
            "\tIter 20/ 50 - Loss: 0.367\n",
            "\tIter 30/ 50 - Loss: 0.358\n",
            "\tIter 40/ 50 - Loss: 0.353\n",
            "\tIter 50/ 50 - Loss: 0.349\n"
          ]
        },
        {
          "name": "stderr",
          "output_type": "stream",
          "text": [
            "\n",
            "183it [07:38,  2.64s/it]\u001b[A"
          ]
        },
        {
          "name": "stdout",
          "output_type": "stream",
          "text": [
            "\tIter 10/ 50 - Loss: 0.353\n",
            "\tIter 20/ 50 - Loss: 0.345\n",
            "\tIter 30/ 50 - Loss: 0.339\n",
            "\tIter 40/ 50 - Loss: 0.334\n",
            "\tIter 50/ 50 - Loss: 0.331\n"
          ]
        },
        {
          "name": "stderr",
          "output_type": "stream",
          "text": [
            "\n",
            "184it [07:41,  2.70s/it]\u001b[A"
          ]
        },
        {
          "name": "stdout",
          "output_type": "stream",
          "text": [
            "\tIter 10/ 50 - Loss: 0.365\n",
            "\tIter 20/ 50 - Loss: 0.348\n",
            "\tIter 30/ 50 - Loss: 0.34\n",
            "\tIter 40/ 50 - Loss: 0.334\n",
            "\tIter 50/ 50 - Loss: 0.331\n"
          ]
        },
        {
          "name": "stderr",
          "output_type": "stream",
          "text": [
            "\n",
            "185it [07:43,  2.70s/it]\u001b[A"
          ]
        },
        {
          "name": "stdout",
          "output_type": "stream",
          "text": [
            "\tIter 10/ 50 - Loss: 0.364\n",
            "\tIter 20/ 50 - Loss: 0.345\n",
            "\tIter 30/ 50 - Loss: 0.335\n",
            "\tIter 40/ 50 - Loss: 0.329\n",
            "\tIter 50/ 50 - Loss: 0.325\n"
          ]
        },
        {
          "name": "stderr",
          "output_type": "stream",
          "text": [
            "\n",
            "186it [07:46,  2.70s/it]\u001b[A"
          ]
        },
        {
          "name": "stdout",
          "output_type": "stream",
          "text": [
            "\tIter 10/ 50 - Loss: 0.393\n",
            "\tIter 20/ 50 - Loss: 0.373\n",
            "\tIter 30/ 50 - Loss: 0.36\n",
            "\tIter 40/ 50 - Loss: 0.35\n",
            "\tIter 50/ 50 - Loss: 0.344\n"
          ]
        },
        {
          "name": "stderr",
          "output_type": "stream",
          "text": [
            "\n",
            "187it [07:49,  2.69s/it]\u001b[A"
          ]
        },
        {
          "name": "stdout",
          "output_type": "stream",
          "text": [
            "\tIter 10/ 50 - Loss: 0.361\n",
            "\tIter 20/ 50 - Loss: 0.344\n",
            "\tIter 30/ 50 - Loss: 0.334\n",
            "\tIter 40/ 50 - Loss: 0.327\n",
            "\tIter 50/ 50 - Loss: 0.323\n"
          ]
        },
        {
          "name": "stderr",
          "output_type": "stream",
          "text": [
            "\n",
            "188it [07:51,  2.70s/it]\u001b[A"
          ]
        },
        {
          "name": "stdout",
          "output_type": "stream",
          "text": [
            "\tIter 10/ 50 - Loss: 0.342\n",
            "\tIter 20/ 50 - Loss: 0.331\n",
            "\tIter 30/ 50 - Loss: 0.325\n",
            "\tIter 40/ 50 - Loss: 0.322\n",
            "\tIter 50/ 50 - Loss: 0.32\n"
          ]
        },
        {
          "name": "stderr",
          "output_type": "stream",
          "text": [
            "\n",
            "189it [07:54,  2.69s/it]\u001b[A"
          ]
        },
        {
          "name": "stdout",
          "output_type": "stream",
          "text": [
            "\tIter 10/ 50 - Loss: 0.35\n",
            "\tIter 20/ 50 - Loss: 0.34\n",
            "\tIter 30/ 50 - Loss: 0.332\n",
            "\tIter 40/ 50 - Loss: 0.328\n",
            "\tIter 50/ 50 - Loss: 0.324\n"
          ]
        },
        {
          "name": "stderr",
          "output_type": "stream",
          "text": [
            "\n",
            "190it [07:57,  2.69s/it]\u001b[A"
          ]
        },
        {
          "name": "stdout",
          "output_type": "stream",
          "text": [
            "\tIter 10/ 50 - Loss: 0.36\n",
            "\tIter 20/ 50 - Loss: 0.342\n",
            "\tIter 30/ 50 - Loss: 0.334\n",
            "\tIter 40/ 50 - Loss: 0.33\n",
            "\tIter 50/ 50 - Loss: 0.327\n"
          ]
        },
        {
          "name": "stderr",
          "output_type": "stream",
          "text": [
            "\n",
            "191it [08:00,  2.75s/it]\u001b[A"
          ]
        },
        {
          "name": "stdout",
          "output_type": "stream",
          "text": [
            "\tIter 10/ 50 - Loss: 0.334\n",
            "\tIter 20/ 50 - Loss: 0.327\n",
            "\tIter 30/ 50 - Loss: 0.323\n",
            "\tIter 40/ 50 - Loss: 0.321\n",
            "\tIter 50/ 50 - Loss: 0.318\n"
          ]
        },
        {
          "name": "stderr",
          "output_type": "stream",
          "text": [
            "\n",
            "192it [08:02,  2.73s/it]\u001b[A"
          ]
        },
        {
          "name": "stdout",
          "output_type": "stream",
          "text": [
            "\tIter 10/ 50 - Loss: 0.333\n",
            "\tIter 20/ 50 - Loss: 0.326\n",
            "\tIter 30/ 50 - Loss: 0.32\n",
            "\tIter 40/ 50 - Loss: 0.317\n",
            "\tIter 50/ 50 - Loss: 0.314\n"
          ]
        },
        {
          "name": "stderr",
          "output_type": "stream",
          "text": [
            "\n",
            "193it [08:05,  2.72s/it]\u001b[A"
          ]
        },
        {
          "name": "stdout",
          "output_type": "stream",
          "text": [
            "\tIter 10/ 50 - Loss: 0.372\n",
            "\tIter 20/ 50 - Loss: 0.358\n",
            "\tIter 30/ 50 - Loss: 0.35\n",
            "\tIter 40/ 50 - Loss: 0.345\n",
            "\tIter 50/ 50 - Loss: 0.341\n"
          ]
        },
        {
          "name": "stderr",
          "output_type": "stream",
          "text": [
            "\n",
            "194it [08:08,  2.70s/it]\u001b[A"
          ]
        },
        {
          "name": "stdout",
          "output_type": "stream",
          "text": [
            "\tIter 10/ 50 - Loss: 0.346\n",
            "\tIter 20/ 50 - Loss: 0.336\n",
            "\tIter 30/ 50 - Loss: 0.33\n",
            "\tIter 40/ 50 - Loss: 0.326\n",
            "\tIter 50/ 50 - Loss: 0.324\n"
          ]
        },
        {
          "name": "stderr",
          "output_type": "stream",
          "text": [
            "\n",
            "195it [08:10,  2.71s/it]\u001b[A"
          ]
        },
        {
          "name": "stdout",
          "output_type": "stream",
          "text": [
            "\tIter 10/ 50 - Loss: 0.359\n",
            "\tIter 20/ 50 - Loss: 0.337\n",
            "\tIter 30/ 50 - Loss: 0.326\n",
            "\tIter 40/ 50 - Loss: 0.32\n",
            "\tIter 50/ 50 - Loss: 0.316\n"
          ]
        },
        {
          "name": "stderr",
          "output_type": "stream",
          "text": [
            "\n",
            "196it [08:13,  2.70s/it]\u001b[A"
          ]
        },
        {
          "name": "stdout",
          "output_type": "stream",
          "text": [
            "\tIter 10/ 50 - Loss: 0.342\n",
            "\tIter 20/ 50 - Loss: 0.325\n",
            "\tIter 30/ 50 - Loss: 0.317\n",
            "\tIter 40/ 50 - Loss: 0.313\n",
            "\tIter 50/ 50 - Loss: 0.31\n"
          ]
        },
        {
          "name": "stderr",
          "output_type": "stream",
          "text": [
            "\n",
            "197it [08:16,  2.69s/it]\u001b[A"
          ]
        },
        {
          "name": "stdout",
          "output_type": "stream",
          "text": [
            "\tIter 10/ 50 - Loss: 0.356\n",
            "\tIter 20/ 50 - Loss: 0.343\n",
            "\tIter 30/ 50 - Loss: 0.334\n",
            "\tIter 40/ 50 - Loss: 0.329\n",
            "\tIter 50/ 50 - Loss: 0.325\n"
          ]
        },
        {
          "name": "stderr",
          "output_type": "stream",
          "text": [
            "\n",
            "198it [08:18,  2.68s/it]\u001b[A"
          ]
        },
        {
          "name": "stdout",
          "output_type": "stream",
          "text": [
            "\tIter 10/ 50 - Loss: 0.338\n",
            "\tIter 20/ 50 - Loss: 0.327\n",
            "\tIter 30/ 50 - Loss: 0.32\n",
            "\tIter 40/ 50 - Loss: 0.315\n",
            "\tIter 50/ 50 - Loss: 0.312\n"
          ]
        },
        {
          "name": "stderr",
          "output_type": "stream",
          "text": [
            "\n",
            "199it [08:21,  2.69s/it]\u001b[A"
          ]
        },
        {
          "name": "stdout",
          "output_type": "stream",
          "text": [
            "\tIter 10/ 50 - Loss: 0.378\n",
            "\tIter 20/ 50 - Loss: 0.355\n",
            "\tIter 30/ 50 - Loss: 0.34\n",
            "\tIter 40/ 50 - Loss: 0.331\n",
            "\tIter 50/ 50 - Loss: 0.324\n"
          ]
        },
        {
          "name": "stderr",
          "output_type": "stream",
          "text": [
            "\n",
            "200it [08:24,  2.76s/it]\u001b[A"
          ]
        },
        {
          "name": "stdout",
          "output_type": "stream",
          "text": [
            "\tIter 10/ 50 - Loss: 0.334\n",
            "\tIter 20/ 50 - Loss: 0.323\n",
            "\tIter 30/ 50 - Loss: 0.317\n",
            "\tIter 40/ 50 - Loss: 0.313\n",
            "\tIter 50/ 50 - Loss: 0.311\n"
          ]
        },
        {
          "name": "stderr",
          "output_type": "stream",
          "text": [
            "\n",
            "201it [08:27,  2.74s/it]\u001b[A"
          ]
        },
        {
          "name": "stdout",
          "output_type": "stream",
          "text": [
            "\tIter 10/ 50 - Loss: 0.376\n",
            "\tIter 20/ 50 - Loss: 0.362\n",
            "\tIter 30/ 50 - Loss: 0.352\n",
            "\tIter 40/ 50 - Loss: 0.345\n",
            "\tIter 50/ 50 - Loss: 0.34\n"
          ]
        },
        {
          "name": "stderr",
          "output_type": "stream",
          "text": [
            "\n",
            "202it [08:29,  2.72s/it]\u001b[A"
          ]
        },
        {
          "name": "stdout",
          "output_type": "stream",
          "text": [
            "\tIter 10/ 50 - Loss: 0.348\n",
            "\tIter 20/ 50 - Loss: 0.332\n",
            "\tIter 30/ 50 - Loss: 0.324\n",
            "\tIter 40/ 50 - Loss: 0.319\n",
            "\tIter 50/ 50 - Loss: 0.315\n"
          ]
        },
        {
          "name": "stderr",
          "output_type": "stream",
          "text": [
            "\n",
            "203it [08:32,  2.71s/it]\u001b[A"
          ]
        },
        {
          "name": "stdout",
          "output_type": "stream",
          "text": [
            "\tIter 10/ 50 - Loss: 0.334\n",
            "\tIter 20/ 50 - Loss: 0.321\n",
            "\tIter 30/ 50 - Loss: 0.316\n",
            "\tIter 40/ 50 - Loss: 0.314\n",
            "\tIter 50/ 50 - Loss: 0.312\n"
          ]
        },
        {
          "name": "stderr",
          "output_type": "stream",
          "text": [
            "\n",
            "204it [08:35,  2.71s/it]\u001b[A"
          ]
        },
        {
          "name": "stdout",
          "output_type": "stream",
          "text": [
            "\tIter 10/ 50 - Loss: 0.33\n",
            "\tIter 20/ 50 - Loss: 0.318\n",
            "\tIter 30/ 50 - Loss: 0.314\n",
            "\tIter 40/ 50 - Loss: 0.311\n",
            "\tIter 50/ 50 - Loss: 0.309\n"
          ]
        },
        {
          "name": "stderr",
          "output_type": "stream",
          "text": [
            "\n",
            "205it [08:37,  2.71s/it]\u001b[A"
          ]
        },
        {
          "name": "stdout",
          "output_type": "stream",
          "text": [
            "\tIter 10/ 50 - Loss: 0.371\n",
            "\tIter 20/ 50 - Loss: 0.354\n",
            "\tIter 30/ 50 - Loss: 0.343\n",
            "\tIter 40/ 50 - Loss: 0.334\n",
            "\tIter 50/ 50 - Loss: 0.329\n"
          ]
        },
        {
          "name": "stderr",
          "output_type": "stream",
          "text": [
            "\n",
            "206it [08:40,  2.71s/it]\u001b[A"
          ]
        },
        {
          "name": "stdout",
          "output_type": "stream",
          "text": [
            "\tIter 10/ 50 - Loss: 0.347\n",
            "\tIter 20/ 50 - Loss: 0.337\n",
            "\tIter 30/ 50 - Loss: 0.332\n",
            "\tIter 40/ 50 - Loss: 0.328\n",
            "\tIter 50/ 50 - Loss: 0.326\n"
          ]
        },
        {
          "name": "stderr",
          "output_type": "stream",
          "text": [
            "\n",
            "207it [08:43,  2.69s/it]\u001b[A"
          ]
        },
        {
          "name": "stdout",
          "output_type": "stream",
          "text": [
            "\tIter 10/ 50 - Loss: 0.326\n",
            "\tIter 20/ 50 - Loss: 0.319\n",
            "\tIter 30/ 50 - Loss: 0.315\n",
            "\tIter 40/ 50 - Loss: 0.312\n",
            "\tIter 50/ 50 - Loss: 0.31\n"
          ]
        },
        {
          "name": "stderr",
          "output_type": "stream",
          "text": [
            "\n",
            "208it [08:46,  2.80s/it]\u001b[A"
          ]
        },
        {
          "name": "stdout",
          "output_type": "stream",
          "text": [
            "\tIter 10/ 50 - Loss: 0.361\n",
            "\tIter 20/ 50 - Loss: 0.342\n",
            "\tIter 30/ 50 - Loss: 0.331\n",
            "\tIter 40/ 50 - Loss: 0.324\n",
            "\tIter 50/ 50 - Loss: 0.319\n"
          ]
        },
        {
          "name": "stderr",
          "output_type": "stream",
          "text": [
            "\n",
            "209it [08:49,  2.77s/it]\u001b[A"
          ]
        },
        {
          "name": "stdout",
          "output_type": "stream",
          "text": [
            "\tIter 10/ 50 - Loss: 0.336\n",
            "\tIter 20/ 50 - Loss: 0.322\n",
            "\tIter 30/ 50 - Loss: 0.315\n",
            "\tIter 40/ 50 - Loss: 0.31\n",
            "\tIter 50/ 50 - Loss: 0.307\n"
          ]
        },
        {
          "name": "stderr",
          "output_type": "stream",
          "text": [
            "\n",
            "210it [08:51,  2.74s/it]\u001b[A"
          ]
        },
        {
          "name": "stdout",
          "output_type": "stream",
          "text": [
            "\tIter 10/ 50 - Loss: 0.326\n",
            "\tIter 20/ 50 - Loss: 0.32\n",
            "\tIter 30/ 50 - Loss: 0.316\n",
            "\tIter 40/ 50 - Loss: 0.313\n",
            "\tIter 50/ 50 - Loss: 0.311\n"
          ]
        },
        {
          "name": "stderr",
          "output_type": "stream",
          "text": [
            "\n",
            "211it [08:54,  2.73s/it]\u001b[A"
          ]
        },
        {
          "name": "stdout",
          "output_type": "stream",
          "text": [
            "\tIter 10/ 50 - Loss: 0.33\n",
            "\tIter 20/ 50 - Loss: 0.322\n",
            "\tIter 30/ 50 - Loss: 0.317\n",
            "\tIter 40/ 50 - Loss: 0.315\n",
            "\tIter 50/ 50 - Loss: 0.313\n"
          ]
        },
        {
          "name": "stderr",
          "output_type": "stream",
          "text": [
            "\n",
            "212it [08:57,  2.75s/it]\u001b[A"
          ]
        },
        {
          "name": "stdout",
          "output_type": "stream",
          "text": [
            "\tIter 10/ 50 - Loss: 0.349\n",
            "\tIter 20/ 50 - Loss: 0.327\n",
            "\tIter 30/ 50 - Loss: 0.322\n",
            "\tIter 40/ 50 - Loss: 0.319\n",
            "\tIter 50/ 50 - Loss: 0.316\n"
          ]
        },
        {
          "name": "stderr",
          "output_type": "stream",
          "text": [
            "\n",
            "213it [08:59,  2.76s/it]\u001b[A"
          ]
        },
        {
          "name": "stdout",
          "output_type": "stream",
          "text": [
            "\tIter 10/ 50 - Loss: 0.343\n",
            "\tIter 20/ 50 - Loss: 0.323\n",
            "\tIter 30/ 50 - Loss: 0.317\n",
            "\tIter 40/ 50 - Loss: 0.314\n",
            "\tIter 50/ 50 - Loss: 0.311\n"
          ]
        },
        {
          "name": "stderr",
          "output_type": "stream",
          "text": [
            "\n",
            "214it [09:02,  2.81s/it]\u001b[A"
          ]
        },
        {
          "name": "stdout",
          "output_type": "stream",
          "text": [
            "\tIter 10/ 50 - Loss: 0.342\n",
            "\tIter 20/ 50 - Loss: 0.328\n",
            "\tIter 30/ 50 - Loss: 0.321\n",
            "\tIter 40/ 50 - Loss: 0.316\n",
            "\tIter 50/ 50 - Loss: 0.313\n"
          ]
        },
        {
          "name": "stderr",
          "output_type": "stream",
          "text": [
            "\n",
            "215it [09:05,  2.78s/it]\u001b[A"
          ]
        },
        {
          "name": "stdout",
          "output_type": "stream",
          "text": [
            "\tIter 10/ 50 - Loss: 0.379\n",
            "\tIter 20/ 50 - Loss: 0.347\n",
            "\tIter 30/ 50 - Loss: 0.332\n",
            "\tIter 40/ 50 - Loss: 0.323\n",
            "\tIter 50/ 50 - Loss: 0.317\n"
          ]
        },
        {
          "name": "stderr",
          "output_type": "stream",
          "text": [
            "\n",
            "216it [09:08,  2.77s/it]\u001b[A"
          ]
        },
        {
          "name": "stdout",
          "output_type": "stream",
          "text": [
            "\tIter 10/ 50 - Loss: 0.382\n",
            "\tIter 20/ 50 - Loss: 0.357\n",
            "\tIter 30/ 50 - Loss: 0.345\n",
            "\tIter 40/ 50 - Loss: 0.338\n",
            "\tIter 50/ 50 - Loss: 0.333\n"
          ]
        },
        {
          "name": "stderr",
          "output_type": "stream",
          "text": [
            "\n",
            "217it [09:11,  2.79s/it]\u001b[A"
          ]
        },
        {
          "name": "stdout",
          "output_type": "stream",
          "text": [
            "\tIter 10/ 50 - Loss: 0.345\n",
            "\tIter 20/ 50 - Loss: 0.329\n",
            "\tIter 30/ 50 - Loss: 0.321\n",
            "\tIter 40/ 50 - Loss: 0.316\n",
            "\tIter 50/ 50 - Loss: 0.313\n"
          ]
        },
        {
          "name": "stderr",
          "output_type": "stream",
          "text": [
            "\n",
            "218it [09:14,  2.79s/it]\u001b[A"
          ]
        },
        {
          "name": "stdout",
          "output_type": "stream",
          "text": [
            "\tIter 10/ 50 - Loss: 0.345\n",
            "\tIter 20/ 50 - Loss: 0.338\n",
            "\tIter 30/ 50 - Loss: 0.333\n",
            "\tIter 40/ 50 - Loss: 0.33\n",
            "\tIter 50/ 50 - Loss: 0.327\n"
          ]
        },
        {
          "name": "stderr",
          "output_type": "stream",
          "text": [
            "\n",
            "219it [09:16,  2.77s/it]\u001b[A"
          ]
        },
        {
          "name": "stdout",
          "output_type": "stream",
          "text": [
            "\tIter 10/ 50 - Loss: 0.345\n",
            "\tIter 20/ 50 - Loss: 0.329\n",
            "\tIter 30/ 50 - Loss: 0.323\n",
            "\tIter 40/ 50 - Loss: 0.319\n",
            "\tIter 50/ 50 - Loss: 0.317\n"
          ]
        },
        {
          "name": "stderr",
          "output_type": "stream",
          "text": [
            "\n",
            "220it [09:19,  2.77s/it]\u001b[A"
          ]
        },
        {
          "name": "stdout",
          "output_type": "stream",
          "text": [
            "\tIter 10/ 50 - Loss: 0.344\n",
            "\tIter 20/ 50 - Loss: 0.333\n",
            "\tIter 30/ 50 - Loss: 0.326\n",
            "\tIter 40/ 50 - Loss: 0.321\n",
            "\tIter 50/ 50 - Loss: 0.317\n"
          ]
        },
        {
          "name": "stderr",
          "output_type": "stream",
          "text": [
            "\n",
            "221it [09:22,  2.78s/it]\u001b[A"
          ]
        },
        {
          "name": "stdout",
          "output_type": "stream",
          "text": [
            "\tIter 10/ 50 - Loss: 0.352\n",
            "\tIter 20/ 50 - Loss: 0.332\n",
            "\tIter 30/ 50 - Loss: 0.324\n",
            "\tIter 40/ 50 - Loss: 0.319\n",
            "\tIter 50/ 50 - Loss: 0.316\n"
          ]
        },
        {
          "name": "stderr",
          "output_type": "stream",
          "text": [
            "\n",
            "222it [09:25,  2.84s/it]\u001b[A"
          ]
        },
        {
          "name": "stdout",
          "output_type": "stream",
          "text": [
            "\tIter 10/ 50 - Loss: 0.339\n",
            "\tIter 20/ 50 - Loss: 0.331\n",
            "\tIter 30/ 50 - Loss: 0.327\n",
            "\tIter 40/ 50 - Loss: 0.323\n",
            "\tIter 50/ 50 - Loss: 0.32\n"
          ]
        },
        {
          "name": "stderr",
          "output_type": "stream",
          "text": [
            "\n",
            "223it [09:28,  2.81s/it]\u001b[A"
          ]
        },
        {
          "name": "stdout",
          "output_type": "stream",
          "text": [
            "\tIter 10/ 50 - Loss: 0.352\n",
            "\tIter 20/ 50 - Loss: 0.335\n",
            "\tIter 30/ 50 - Loss: 0.325\n",
            "\tIter 40/ 50 - Loss: 0.319\n",
            "\tIter 50/ 50 - Loss: 0.315\n"
          ]
        },
        {
          "name": "stderr",
          "output_type": "stream",
          "text": [
            "\n",
            "224it [09:30,  2.80s/it]\u001b[A"
          ]
        },
        {
          "name": "stdout",
          "output_type": "stream",
          "text": [
            "\tIter 10/ 50 - Loss: 0.332\n",
            "\tIter 20/ 50 - Loss: 0.322\n",
            "\tIter 30/ 50 - Loss: 0.316\n",
            "\tIter 40/ 50 - Loss: 0.312\n",
            "\tIter 50/ 50 - Loss: 0.309\n"
          ]
        },
        {
          "name": "stderr",
          "output_type": "stream",
          "text": [
            "\n",
            "225it [09:33,  2.79s/it]\u001b[A"
          ]
        },
        {
          "name": "stdout",
          "output_type": "stream",
          "text": [
            "\tIter 10/ 50 - Loss: 0.343\n",
            "\tIter 20/ 50 - Loss: 0.327\n",
            "\tIter 30/ 50 - Loss: 0.319\n",
            "\tIter 40/ 50 - Loss: 0.314\n",
            "\tIter 50/ 50 - Loss: 0.311\n"
          ]
        },
        {
          "name": "stderr",
          "output_type": "stream",
          "text": [
            "\n",
            "226it [09:36,  2.81s/it]\u001b[A"
          ]
        },
        {
          "name": "stdout",
          "output_type": "stream",
          "text": [
            "\tIter 10/ 50 - Loss: 0.324\n",
            "\tIter 20/ 50 - Loss: 0.315\n",
            "\tIter 30/ 50 - Loss: 0.311\n",
            "\tIter 40/ 50 - Loss: 0.308\n",
            "\tIter 50/ 50 - Loss: 0.306\n"
          ]
        },
        {
          "name": "stderr",
          "output_type": "stream",
          "text": [
            "\n",
            "227it [09:39,  2.79s/it]\u001b[A"
          ]
        },
        {
          "name": "stdout",
          "output_type": "stream",
          "text": [
            "\tIter 10/ 50 - Loss: 0.333\n",
            "\tIter 20/ 50 - Loss: 0.32\n",
            "\tIter 30/ 50 - Loss: 0.313\n",
            "\tIter 40/ 50 - Loss: 0.309\n",
            "\tIter 50/ 50 - Loss: 0.306\n"
          ]
        },
        {
          "name": "stderr",
          "output_type": "stream",
          "text": [
            "\n",
            "228it [09:41,  2.77s/it]\u001b[A"
          ]
        },
        {
          "name": "stdout",
          "output_type": "stream",
          "text": [
            "\tIter 10/ 50 - Loss: 0.353\n",
            "\tIter 20/ 50 - Loss: 0.337\n",
            "\tIter 30/ 50 - Loss: 0.327\n",
            "\tIter 40/ 50 - Loss: 0.321\n",
            "\tIter 50/ 50 - Loss: 0.316\n"
          ]
        },
        {
          "name": "stderr",
          "output_type": "stream",
          "text": [
            "\n",
            "229it [09:44,  2.81s/it]\u001b[A"
          ]
        },
        {
          "name": "stdout",
          "output_type": "stream",
          "text": [
            "\tIter 10/ 50 - Loss: 0.327\n",
            "\tIter 20/ 50 - Loss: 0.314\n",
            "\tIter 30/ 50 - Loss: 0.308\n",
            "\tIter 40/ 50 - Loss: 0.304\n",
            "\tIter 50/ 50 - Loss: 0.301\n"
          ]
        },
        {
          "name": "stderr",
          "output_type": "stream",
          "text": [
            "\n",
            "230it [09:47,  2.82s/it]\u001b[A"
          ]
        },
        {
          "name": "stdout",
          "output_type": "stream",
          "text": [
            "\tIter 10/ 50 - Loss: 0.352\n",
            "\tIter 20/ 50 - Loss: 0.33\n",
            "\tIter 30/ 50 - Loss: 0.319\n",
            "\tIter 40/ 50 - Loss: 0.312\n",
            "\tIter 50/ 50 - Loss: 0.307\n"
          ]
        },
        {
          "name": "stderr",
          "output_type": "stream",
          "text": [
            "\n",
            "231it [09:50,  2.80s/it]\u001b[A"
          ]
        },
        {
          "name": "stdout",
          "output_type": "stream",
          "text": [
            "\tIter 10/ 50 - Loss: 0.333\n",
            "\tIter 20/ 50 - Loss: 0.325\n",
            "\tIter 30/ 50 - Loss: 0.319\n",
            "\tIter 40/ 50 - Loss: 0.315\n",
            "\tIter 50/ 50 - Loss: 0.312\n"
          ]
        },
        {
          "name": "stderr",
          "output_type": "stream",
          "text": [
            "\n",
            "232it [09:53,  2.79s/it]\u001b[A"
          ]
        },
        {
          "name": "stdout",
          "output_type": "stream",
          "text": [
            "\tIter 10/ 50 - Loss: 0.37\n",
            "\tIter 20/ 50 - Loss: 0.348\n",
            "\tIter 30/ 50 - Loss: 0.335\n",
            "\tIter 40/ 50 - Loss: 0.326\n",
            "\tIter 50/ 50 - Loss: 0.32\n"
          ]
        },
        {
          "name": "stderr",
          "output_type": "stream",
          "text": [
            "\n",
            "233it [09:55,  2.77s/it]\u001b[A"
          ]
        },
        {
          "name": "stdout",
          "output_type": "stream",
          "text": [
            "\tIter 10/ 50 - Loss: 0.334\n",
            "\tIter 20/ 50 - Loss: 0.321\n",
            "\tIter 30/ 50 - Loss: 0.314\n",
            "\tIter 40/ 50 - Loss: 0.309\n",
            "\tIter 50/ 50 - Loss: 0.306\n"
          ]
        },
        {
          "name": "stderr",
          "output_type": "stream",
          "text": [
            "\n",
            "234it [09:58,  2.79s/it]\u001b[A"
          ]
        },
        {
          "name": "stdout",
          "output_type": "stream",
          "text": [
            "\tIter 10/ 50 - Loss: 0.325\n",
            "\tIter 20/ 50 - Loss: 0.315\n",
            "\tIter 30/ 50 - Loss: 0.31\n",
            "\tIter 40/ 50 - Loss: 0.307\n",
            "\tIter 50/ 50 - Loss: 0.305\n"
          ]
        },
        {
          "name": "stderr",
          "output_type": "stream",
          "text": [
            "\n",
            "235it [10:01,  2.79s/it]\u001b[A"
          ]
        },
        {
          "name": "stdout",
          "output_type": "stream",
          "text": [
            "\tIter 10/ 50 - Loss: 0.368\n",
            "\tIter 20/ 50 - Loss: 0.347\n",
            "\tIter 30/ 50 - Loss: 0.333\n",
            "\tIter 40/ 50 - Loss: 0.323\n",
            "\tIter 50/ 50 - Loss: 0.316\n"
          ]
        },
        {
          "name": "stderr",
          "output_type": "stream",
          "text": [
            "\n",
            "236it [10:04,  2.84s/it]\u001b[A"
          ]
        },
        {
          "name": "stdout",
          "output_type": "stream",
          "text": [
            "\tIter 10/ 50 - Loss: 0.376\n",
            "\tIter 20/ 50 - Loss: 0.357\n",
            "\tIter 30/ 50 - Loss: 0.344\n",
            "\tIter 40/ 50 - Loss: 0.335\n",
            "\tIter 50/ 50 - Loss: 0.329\n"
          ]
        },
        {
          "name": "stderr",
          "output_type": "stream",
          "text": [
            "\n",
            "237it [10:07,  2.81s/it]\u001b[A"
          ]
        },
        {
          "name": "stdout",
          "output_type": "stream",
          "text": [
            "\tIter 10/ 50 - Loss: 0.33\n",
            "\tIter 20/ 50 - Loss: 0.322\n",
            "\tIter 30/ 50 - Loss: 0.318\n",
            "\tIter 40/ 50 - Loss: 0.315\n",
            "\tIter 50/ 50 - Loss: 0.312\n"
          ]
        },
        {
          "name": "stderr",
          "output_type": "stream",
          "text": [
            "\n",
            "238it [10:10,  2.81s/it]\u001b[A"
          ]
        },
        {
          "name": "stdout",
          "output_type": "stream",
          "text": [
            "\tIter 10/ 50 - Loss: 0.334\n",
            "\tIter 20/ 50 - Loss: 0.32\n",
            "\tIter 30/ 50 - Loss: 0.312\n",
            "\tIter 40/ 50 - Loss: 0.307\n",
            "\tIter 50/ 50 - Loss: 0.304\n"
          ]
        },
        {
          "name": "stderr",
          "output_type": "stream",
          "text": [
            "\n",
            "239it [10:12,  2.80s/it]\u001b[A"
          ]
        },
        {
          "name": "stdout",
          "output_type": "stream",
          "text": [
            "\tIter 10/ 50 - Loss: 0.337\n",
            "\tIter 20/ 50 - Loss: 0.321\n",
            "\tIter 30/ 50 - Loss: 0.313\n",
            "\tIter 40/ 50 - Loss: 0.307\n",
            "\tIter 50/ 50 - Loss: 0.303\n"
          ]
        },
        {
          "name": "stderr",
          "output_type": "stream",
          "text": [
            "\n",
            "240it [10:15,  2.80s/it]\u001b[A"
          ]
        },
        {
          "name": "stdout",
          "output_type": "stream",
          "text": [
            "\tIter 10/ 50 - Loss: 0.346\n",
            "\tIter 20/ 50 - Loss: 0.335\n",
            "\tIter 30/ 50 - Loss: 0.326\n",
            "\tIter 40/ 50 - Loss: 0.319\n",
            "\tIter 50/ 50 - Loss: 0.313\n"
          ]
        },
        {
          "name": "stderr",
          "output_type": "stream",
          "text": [
            "\n",
            "241it [10:18,  2.78s/it]\u001b[A"
          ]
        },
        {
          "name": "stdout",
          "output_type": "stream",
          "text": [
            "\tIter 10/ 50 - Loss: 0.31\n",
            "\tIter 20/ 50 - Loss: 0.303\n",
            "\tIter 30/ 50 - Loss: 0.299\n",
            "\tIter 40/ 50 - Loss: 0.297\n",
            "\tIter 50/ 50 - Loss: 0.295\n"
          ]
        },
        {
          "name": "stderr",
          "output_type": "stream",
          "text": [
            "\n",
            "242it [10:21,  2.77s/it]\u001b[A"
          ]
        },
        {
          "name": "stdout",
          "output_type": "stream",
          "text": [
            "\tIter 10/ 50 - Loss: 0.313\n",
            "\tIter 20/ 50 - Loss: 0.308\n",
            "\tIter 30/ 50 - Loss: 0.304\n",
            "\tIter 40/ 50 - Loss: 0.302\n",
            "\tIter 50/ 50 - Loss: 0.3\n"
          ]
        },
        {
          "name": "stderr",
          "output_type": "stream",
          "text": [
            "\n",
            "243it [10:24,  2.86s/it]\u001b[A"
          ]
        },
        {
          "name": "stdout",
          "output_type": "stream",
          "text": [
            "\tIter 10/ 50 - Loss: 0.325\n",
            "\tIter 20/ 50 - Loss: 0.315\n",
            "\tIter 30/ 50 - Loss: 0.31\n",
            "\tIter 40/ 50 - Loss: 0.307\n",
            "\tIter 50/ 50 - Loss: 0.304\n"
          ]
        },
        {
          "name": "stderr",
          "output_type": "stream",
          "text": [
            "\n",
            "244it [10:26,  2.82s/it]\u001b[A"
          ]
        },
        {
          "name": "stdout",
          "output_type": "stream",
          "text": [
            "\tIter 10/ 50 - Loss: 0.328\n",
            "\tIter 20/ 50 - Loss: 0.313\n",
            "\tIter 30/ 50 - Loss: 0.306\n",
            "\tIter 40/ 50 - Loss: 0.301\n",
            "\tIter 50/ 50 - Loss: 0.297\n"
          ]
        },
        {
          "name": "stderr",
          "output_type": "stream",
          "text": [
            "\n",
            "245it [10:29,  2.81s/it]\u001b[A"
          ]
        },
        {
          "name": "stdout",
          "output_type": "stream",
          "text": [
            "\tIter 10/ 50 - Loss: 0.334\n",
            "\tIter 20/ 50 - Loss: 0.321\n",
            "\tIter 30/ 50 - Loss: 0.316\n",
            "\tIter 40/ 50 - Loss: 0.311\n",
            "\tIter 50/ 50 - Loss: 0.309\n"
          ]
        },
        {
          "name": "stderr",
          "output_type": "stream",
          "text": [
            "\n",
            "246it [10:32,  2.80s/it]\u001b[A"
          ]
        },
        {
          "name": "stdout",
          "output_type": "stream",
          "text": [
            "\tIter 10/ 50 - Loss: 0.351\n",
            "\tIter 20/ 50 - Loss: 0.342\n",
            "\tIter 30/ 50 - Loss: 0.336\n",
            "\tIter 40/ 50 - Loss: 0.332\n",
            "\tIter 50/ 50 - Loss: 0.328\n"
          ]
        },
        {
          "name": "stderr",
          "output_type": "stream",
          "text": [
            "\n",
            "247it [10:35,  2.82s/it]\u001b[A"
          ]
        },
        {
          "name": "stdout",
          "output_type": "stream",
          "text": [
            "\tIter 10/ 50 - Loss: 0.351\n",
            "\tIter 20/ 50 - Loss: 0.336\n",
            "\tIter 30/ 50 - Loss: 0.327\n",
            "\tIter 40/ 50 - Loss: 0.322\n",
            "\tIter 50/ 50 - Loss: 0.319\n"
          ]
        },
        {
          "name": "stderr",
          "output_type": "stream",
          "text": [
            "\n",
            "248it [10:38,  2.81s/it]\u001b[A"
          ]
        },
        {
          "name": "stdout",
          "output_type": "stream",
          "text": [
            "\tIter 10/ 50 - Loss: 0.311\n",
            "\tIter 20/ 50 - Loss: 0.301\n",
            "\tIter 30/ 50 - Loss: 0.297\n",
            "\tIter 40/ 50 - Loss: 0.295\n",
            "\tIter 50/ 50 - Loss: 0.293\n"
          ]
        },
        {
          "name": "stderr",
          "output_type": "stream",
          "text": [
            "\n",
            "249it [10:40,  2.79s/it]\u001b[A"
          ]
        },
        {
          "name": "stdout",
          "output_type": "stream",
          "text": [
            "\tIter 10/ 50 - Loss: 0.327\n",
            "\tIter 20/ 50 - Loss: 0.32\n",
            "\tIter 30/ 50 - Loss: 0.316\n",
            "\tIter 40/ 50 - Loss: 0.313\n",
            "\tIter 50/ 50 - Loss: 0.311\n"
          ]
        },
        {
          "name": "stderr",
          "output_type": "stream",
          "text": [
            "\n",
            "250it [10:43,  2.79s/it]\u001b[A"
          ]
        },
        {
          "name": "stdout",
          "output_type": "stream",
          "text": [
            "\tIter 10/ 50 - Loss: 0.337\n",
            "\tIter 20/ 50 - Loss: 0.319\n",
            "\tIter 30/ 50 - Loss: 0.31\n",
            "\tIter 40/ 50 - Loss: 0.305\n",
            "\tIter 50/ 50 - Loss: 0.302\n"
          ]
        },
        {
          "name": "stderr",
          "output_type": "stream",
          "text": [
            "\n",
            "251it [10:46,  2.84s/it]\u001b[A"
          ]
        },
        {
          "name": "stdout",
          "output_type": "stream",
          "text": [
            "\tIter 10/ 50 - Loss: 0.32\n",
            "\tIter 20/ 50 - Loss: 0.312\n",
            "\tIter 30/ 50 - Loss: 0.307\n",
            "\tIter 40/ 50 - Loss: 0.304\n",
            "\tIter 50/ 50 - Loss: 0.302\n"
          ]
        },
        {
          "name": "stderr",
          "output_type": "stream",
          "text": [
            "\n",
            "252it [10:49,  2.83s/it]\u001b[A"
          ]
        },
        {
          "name": "stdout",
          "output_type": "stream",
          "text": [
            "\tIter 10/ 50 - Loss: 0.324\n",
            "\tIter 20/ 50 - Loss: 0.312\n",
            "\tIter 30/ 50 - Loss: 0.306\n",
            "\tIter 40/ 50 - Loss: 0.301\n",
            "\tIter 50/ 50 - Loss: 0.298\n"
          ]
        },
        {
          "name": "stderr",
          "output_type": "stream",
          "text": [
            "\n",
            "253it [10:52,  2.81s/it]\u001b[A"
          ]
        },
        {
          "name": "stdout",
          "output_type": "stream",
          "text": [
            "\tIter 10/ 50 - Loss: 0.35\n",
            "\tIter 20/ 50 - Loss: 0.33\n",
            "\tIter 30/ 50 - Loss: 0.32\n",
            "\tIter 40/ 50 - Loss: 0.313\n",
            "\tIter 50/ 50 - Loss: 0.309\n"
          ]
        },
        {
          "name": "stderr",
          "output_type": "stream",
          "text": [
            "\n",
            "254it [10:54,  2.79s/it]\u001b[A"
          ]
        },
        {
          "name": "stdout",
          "output_type": "stream",
          "text": [
            "\tIter 10/ 50 - Loss: 0.358\n",
            "\tIter 20/ 50 - Loss: 0.339\n",
            "\tIter 30/ 50 - Loss: 0.327\n",
            "\tIter 40/ 50 - Loss: 0.32\n",
            "\tIter 50/ 50 - Loss: 0.314\n"
          ]
        },
        {
          "name": "stderr",
          "output_type": "stream",
          "text": [
            "\n",
            "255it [10:57,  2.79s/it]\u001b[A"
          ]
        },
        {
          "name": "stdout",
          "output_type": "stream",
          "text": [
            "\tIter 10/ 50 - Loss: 0.31\n",
            "\tIter 20/ 50 - Loss: 0.301\n",
            "\tIter 30/ 50 - Loss: 0.297\n",
            "\tIter 40/ 50 - Loss: 0.295\n",
            "\tIter 50/ 50 - Loss: 0.293\n"
          ]
        },
        {
          "name": "stderr",
          "output_type": "stream",
          "text": [
            "\n",
            "256it [11:00,  2.80s/it]\u001b[A"
          ]
        },
        {
          "name": "stdout",
          "output_type": "stream",
          "text": [
            "\tIter 10/ 50 - Loss: 0.306\n",
            "\tIter 20/ 50 - Loss: 0.3\n",
            "\tIter 30/ 50 - Loss: 0.297\n",
            "\tIter 40/ 50 - Loss: 0.294\n",
            "\tIter 50/ 50 - Loss: 0.293\n"
          ]
        },
        {
          "name": "stderr",
          "output_type": "stream",
          "text": [
            "\n",
            "257it [11:03,  2.79s/it]\u001b[A"
          ]
        },
        {
          "name": "stdout",
          "output_type": "stream",
          "text": [
            "\tIter 10/ 50 - Loss: 0.349\n",
            "\tIter 20/ 50 - Loss: 0.331\n",
            "\tIter 30/ 50 - Loss: 0.322\n",
            "\tIter 40/ 50 - Loss: 0.316\n",
            "\tIter 50/ 50 - Loss: 0.312\n"
          ]
        },
        {
          "name": "stderr",
          "output_type": "stream",
          "text": [
            "\n",
            "258it [11:06,  2.83s/it]\u001b[A"
          ]
        },
        {
          "name": "stdout",
          "output_type": "stream",
          "text": [
            "\tIter 10/ 50 - Loss: 0.307\n",
            "\tIter 20/ 50 - Loss: 0.302\n",
            "\tIter 30/ 50 - Loss: 0.298\n",
            "\tIter 40/ 50 - Loss: 0.295\n",
            "\tIter 50/ 50 - Loss: 0.293\n"
          ]
        },
        {
          "name": "stderr",
          "output_type": "stream",
          "text": [
            "\n",
            "259it [11:08,  2.81s/it]\u001b[A"
          ]
        },
        {
          "name": "stdout",
          "output_type": "stream",
          "text": [
            "\tIter 10/ 50 - Loss: 0.319\n",
            "\tIter 20/ 50 - Loss: 0.309\n",
            "\tIter 30/ 50 - Loss: 0.305\n",
            "\tIter 40/ 50 - Loss: 0.302\n",
            "\tIter 50/ 50 - Loss: 0.3\n"
          ]
        },
        {
          "name": "stderr",
          "output_type": "stream",
          "text": [
            "\n",
            "260it [11:11,  2.83s/it]\u001b[A"
          ]
        },
        {
          "name": "stdout",
          "output_type": "stream",
          "text": [
            "\tIter 10/ 50 - Loss: 0.361\n",
            "\tIter 20/ 50 - Loss: 0.336\n",
            "\tIter 30/ 50 - Loss: 0.323\n",
            "\tIter 40/ 50 - Loss: 0.315\n",
            "\tIter 50/ 50 - Loss: 0.309\n"
          ]
        },
        {
          "name": "stderr",
          "output_type": "stream",
          "text": [
            "\n",
            "261it [11:14,  2.82s/it]\u001b[A"
          ]
        },
        {
          "name": "stdout",
          "output_type": "stream",
          "text": [
            "\tIter 10/ 50 - Loss: 0.343\n",
            "\tIter 20/ 50 - Loss: 0.332\n",
            "\tIter 30/ 50 - Loss: 0.324\n",
            "\tIter 40/ 50 - Loss: 0.319\n",
            "\tIter 50/ 50 - Loss: 0.315\n"
          ]
        },
        {
          "name": "stderr",
          "output_type": "stream",
          "text": [
            "\n",
            "262it [11:17,  2.80s/it]\u001b[A"
          ]
        },
        {
          "name": "stdout",
          "output_type": "stream",
          "text": [
            "\tIter 10/ 50 - Loss: 0.332\n",
            "\tIter 20/ 50 - Loss: 0.317\n",
            "\tIter 30/ 50 - Loss: 0.309\n",
            "\tIter 40/ 50 - Loss: 0.303\n",
            "\tIter 50/ 50 - Loss: 0.299\n"
          ]
        },
        {
          "name": "stderr",
          "output_type": "stream",
          "text": [
            "\n",
            "263it [11:20,  2.80s/it]\u001b[A"
          ]
        },
        {
          "name": "stdout",
          "output_type": "stream",
          "text": [
            "\tIter 10/ 50 - Loss: 0.316\n",
            "\tIter 20/ 50 - Loss: 0.306\n",
            "\tIter 30/ 50 - Loss: 0.301\n",
            "\tIter 40/ 50 - Loss: 0.298\n",
            "\tIter 50/ 50 - Loss: 0.296\n"
          ]
        },
        {
          "name": "stderr",
          "output_type": "stream",
          "text": [
            "\n",
            "264it [11:22,  2.81s/it]\u001b[A"
          ]
        },
        {
          "name": "stdout",
          "output_type": "stream",
          "text": [
            "\tIter 10/ 50 - Loss: 0.321\n",
            "\tIter 20/ 50 - Loss: 0.317\n",
            "\tIter 30/ 50 - Loss: 0.314\n",
            "\tIter 40/ 50 - Loss: 0.312\n",
            "\tIter 50/ 50 - Loss: 0.31\n"
          ]
        },
        {
          "name": "stderr",
          "output_type": "stream",
          "text": [
            "\n",
            "265it [11:25,  2.81s/it]\u001b[A"
          ]
        },
        {
          "name": "stdout",
          "output_type": "stream",
          "text": [
            "\tIter 10/ 50 - Loss: 0.317\n",
            "\tIter 20/ 50 - Loss: 0.308\n",
            "\tIter 30/ 50 - Loss: 0.302\n",
            "\tIter 40/ 50 - Loss: 0.299\n",
            "\tIter 50/ 50 - Loss: 0.297\n"
          ]
        },
        {
          "name": "stderr",
          "output_type": "stream",
          "text": [
            "\n",
            "266it [11:28,  2.86s/it]\u001b[A"
          ]
        },
        {
          "name": "stdout",
          "output_type": "stream",
          "text": [
            "\tIter 10/ 50 - Loss: 0.309\n",
            "\tIter 20/ 50 - Loss: 0.3\n",
            "\tIter 30/ 50 - Loss: 0.296\n",
            "\tIter 40/ 50 - Loss: 0.294\n",
            "\tIter 50/ 50 - Loss: 0.292\n"
          ]
        },
        {
          "name": "stderr",
          "output_type": "stream",
          "text": [
            "\n",
            "267it [11:31,  2.84s/it]\u001b[A"
          ]
        },
        {
          "name": "stdout",
          "output_type": "stream",
          "text": [
            "\tIter 10/ 50 - Loss: 0.325\n",
            "\tIter 20/ 50 - Loss: 0.315\n",
            "\tIter 30/ 50 - Loss: 0.31\n",
            "\tIter 40/ 50 - Loss: 0.306\n",
            "\tIter 50/ 50 - Loss: 0.303\n"
          ]
        },
        {
          "name": "stderr",
          "output_type": "stream",
          "text": [
            "\n",
            "268it [11:34,  2.83s/it]\u001b[A"
          ]
        },
        {
          "name": "stdout",
          "output_type": "stream",
          "text": [
            "\tIter 10/ 50 - Loss: 0.329\n",
            "\tIter 20/ 50 - Loss: 0.313\n",
            "\tIter 30/ 50 - Loss: 0.308\n",
            "\tIter 40/ 50 - Loss: 0.304\n",
            "\tIter 50/ 50 - Loss: 0.301\n"
          ]
        },
        {
          "name": "stderr",
          "output_type": "stream",
          "text": [
            "\n",
            "269it [11:37,  2.83s/it]\u001b[A"
          ]
        },
        {
          "name": "stdout",
          "output_type": "stream",
          "text": [
            "\tIter 10/ 50 - Loss: 0.33\n",
            "\tIter 20/ 50 - Loss: 0.315\n",
            "\tIter 30/ 50 - Loss: 0.306\n",
            "\tIter 40/ 50 - Loss: 0.3\n",
            "\tIter 50/ 50 - Loss: 0.296\n"
          ]
        },
        {
          "name": "stderr",
          "output_type": "stream",
          "text": [
            "\n",
            "270it [11:40,  2.83s/it]\u001b[A"
          ]
        },
        {
          "name": "stdout",
          "output_type": "stream",
          "text": [
            "\tIter 10/ 50 - Loss: 0.325\n",
            "\tIter 20/ 50 - Loss: 0.316\n",
            "\tIter 30/ 50 - Loss: 0.31\n",
            "\tIter 40/ 50 - Loss: 0.307\n",
            "\tIter 50/ 50 - Loss: 0.304\n"
          ]
        },
        {
          "name": "stderr",
          "output_type": "stream",
          "text": [
            "\n",
            "271it [11:42,  2.84s/it]\u001b[A"
          ]
        },
        {
          "name": "stdout",
          "output_type": "stream",
          "text": [
            "\tIter 10/ 50 - Loss: 0.319\n",
            "\tIter 20/ 50 - Loss: 0.308\n",
            "\tIter 30/ 50 - Loss: 0.302\n",
            "\tIter 40/ 50 - Loss: 0.299\n",
            "\tIter 50/ 50 - Loss: 0.297\n"
          ]
        },
        {
          "name": "stderr",
          "output_type": "stream",
          "text": [
            "\n",
            "272it [11:45,  2.84s/it]\u001b[A"
          ]
        },
        {
          "name": "stdout",
          "output_type": "stream",
          "text": [
            "\tIter 10/ 50 - Loss: 0.321\n",
            "\tIter 20/ 50 - Loss: 0.312\n",
            "\tIter 30/ 50 - Loss: 0.307\n",
            "\tIter 40/ 50 - Loss: 0.303\n",
            "\tIter 50/ 50 - Loss: 0.301\n"
          ]
        },
        {
          "name": "stderr",
          "output_type": "stream",
          "text": [
            "\n",
            "273it [11:48,  2.86s/it]\u001b[A"
          ]
        },
        {
          "name": "stdout",
          "output_type": "stream",
          "text": [
            "\tIter 10/ 50 - Loss: 0.349\n",
            "\tIter 20/ 50 - Loss: 0.33\n",
            "\tIter 30/ 50 - Loss: 0.319\n",
            "\tIter 40/ 50 - Loss: 0.312\n",
            "\tIter 50/ 50 - Loss: 0.307\n"
          ]
        },
        {
          "name": "stderr",
          "output_type": "stream",
          "text": [
            "\n",
            "274it [11:51,  2.92s/it]\u001b[A"
          ]
        },
        {
          "name": "stdout",
          "output_type": "stream",
          "text": [
            "\tIter 10/ 50 - Loss: 0.325\n",
            "\tIter 20/ 50 - Loss: 0.314\n",
            "\tIter 30/ 50 - Loss: 0.308\n",
            "\tIter 40/ 50 - Loss: 0.304\n",
            "\tIter 50/ 50 - Loss: 0.302\n"
          ]
        },
        {
          "name": "stderr",
          "output_type": "stream",
          "text": [
            "\n",
            "275it [11:54,  2.89s/it]\u001b[A"
          ]
        },
        {
          "name": "stdout",
          "output_type": "stream",
          "text": [
            "\tIter 10/ 50 - Loss: 0.34\n",
            "\tIter 20/ 50 - Loss: 0.328\n",
            "\tIter 30/ 50 - Loss: 0.321\n",
            "\tIter 40/ 50 - Loss: 0.315\n",
            "\tIter 50/ 50 - Loss: 0.312\n"
          ]
        },
        {
          "name": "stderr",
          "output_type": "stream",
          "text": [
            "\n",
            "276it [11:57,  2.89s/it]\u001b[A"
          ]
        },
        {
          "name": "stdout",
          "output_type": "stream",
          "text": [
            "\tIter 10/ 50 - Loss: 0.314\n",
            "\tIter 20/ 50 - Loss: 0.305\n",
            "\tIter 30/ 50 - Loss: 0.3\n",
            "\tIter 40/ 50 - Loss: 0.297\n",
            "\tIter 50/ 50 - Loss: 0.295\n"
          ]
        },
        {
          "name": "stderr",
          "output_type": "stream",
          "text": [
            "\n",
            "277it [12:00,  2.90s/it]\u001b[A"
          ]
        },
        {
          "name": "stdout",
          "output_type": "stream",
          "text": [
            "\tIter 10/ 50 - Loss: 0.334\n",
            "\tIter 20/ 50 - Loss: 0.321\n",
            "\tIter 30/ 50 - Loss: 0.313\n",
            "\tIter 40/ 50 - Loss: 0.307\n",
            "\tIter 50/ 50 - Loss: 0.303\n"
          ]
        },
        {
          "name": "stderr",
          "output_type": "stream",
          "text": [
            "\n",
            "278it [12:03,  2.89s/it]\u001b[A"
          ]
        },
        {
          "name": "stdout",
          "output_type": "stream",
          "text": [
            "\tIter 10/ 50 - Loss: 0.337\n",
            "\tIter 20/ 50 - Loss: 0.321\n",
            "\tIter 30/ 50 - Loss: 0.314\n",
            "\tIter 40/ 50 - Loss: 0.309\n",
            "\tIter 50/ 50 - Loss: 0.306\n"
          ]
        },
        {
          "name": "stderr",
          "output_type": "stream",
          "text": [
            "\n",
            "279it [12:06,  2.88s/it]\u001b[A"
          ]
        },
        {
          "name": "stdout",
          "output_type": "stream",
          "text": [
            "\tIter 10/ 50 - Loss: 0.345\n",
            "\tIter 20/ 50 - Loss: 0.316\n",
            "\tIter 30/ 50 - Loss: 0.309\n",
            "\tIter 40/ 50 - Loss: 0.305\n",
            "\tIter 50/ 50 - Loss: 0.302\n"
          ]
        },
        {
          "name": "stderr",
          "output_type": "stream",
          "text": [
            "\n",
            "280it [12:08,  2.87s/it]\u001b[A"
          ]
        },
        {
          "name": "stdout",
          "output_type": "stream",
          "text": [
            "\tIter 10/ 50 - Loss: 0.346\n",
            "\tIter 20/ 50 - Loss: 0.327\n",
            "\tIter 30/ 50 - Loss: 0.317\n",
            "\tIter 40/ 50 - Loss: 0.309\n",
            "\tIter 50/ 50 - Loss: 0.304\n"
          ]
        },
        {
          "name": "stderr",
          "output_type": "stream",
          "text": [
            "\n",
            "281it [12:11,  2.87s/it]\u001b[A"
          ]
        },
        {
          "name": "stdout",
          "output_type": "stream",
          "text": [
            "\tIter 10/ 50 - Loss: 0.309\n",
            "\tIter 20/ 50 - Loss: 0.303\n",
            "\tIter 30/ 50 - Loss: 0.299\n",
            "\tIter 40/ 50 - Loss: 0.297\n",
            "\tIter 50/ 50 - Loss: 0.296\n"
          ]
        },
        {
          "name": "stderr",
          "output_type": "stream",
          "text": [
            "\n",
            "282it [12:14,  2.89s/it]\u001b[A"
          ]
        },
        {
          "name": "stdout",
          "output_type": "stream",
          "text": [
            "\tIter 10/ 50 - Loss: 0.319\n",
            "\tIter 20/ 50 - Loss: 0.313\n",
            "\tIter 30/ 50 - Loss: 0.31\n",
            "\tIter 40/ 50 - Loss: 0.308\n",
            "\tIter 50/ 50 - Loss: 0.306\n"
          ]
        },
        {
          "name": "stderr",
          "output_type": "stream",
          "text": [
            "\n",
            "283it [12:17,  2.95s/it]\u001b[A"
          ]
        },
        {
          "name": "stdout",
          "output_type": "stream",
          "text": [
            "\tIter 10/ 50 - Loss: 0.316\n",
            "\tIter 20/ 50 - Loss: 0.312\n",
            "\tIter 30/ 50 - Loss: 0.31\n",
            "\tIter 40/ 50 - Loss: 0.308\n",
            "\tIter 50/ 50 - Loss: 0.306\n"
          ]
        },
        {
          "name": "stderr",
          "output_type": "stream",
          "text": [
            "\n",
            "284it [12:20,  2.93s/it]\u001b[A"
          ]
        },
        {
          "name": "stdout",
          "output_type": "stream",
          "text": [
            "\tIter 10/ 50 - Loss: 0.328\n",
            "\tIter 20/ 50 - Loss: 0.319\n",
            "\tIter 30/ 50 - Loss: 0.313\n",
            "\tIter 40/ 50 - Loss: 0.31\n",
            "\tIter 50/ 50 - Loss: 0.307\n"
          ]
        },
        {
          "name": "stderr",
          "output_type": "stream",
          "text": [
            "\n",
            "285it [12:23,  2.93s/it]\u001b[A"
          ]
        },
        {
          "name": "stdout",
          "output_type": "stream",
          "text": [
            "\tIter 10/ 50 - Loss: 0.332\n",
            "\tIter 20/ 50 - Loss: 0.317\n",
            "\tIter 30/ 50 - Loss: 0.311\n",
            "\tIter 40/ 50 - Loss: 0.307\n",
            "\tIter 50/ 50 - Loss: 0.304\n"
          ]
        },
        {
          "name": "stderr",
          "output_type": "stream",
          "text": [
            "\n",
            "286it [12:26,  2.93s/it]\u001b[A"
          ]
        },
        {
          "name": "stdout",
          "output_type": "stream",
          "text": [
            "\tIter 10/ 50 - Loss: 0.337\n",
            "\tIter 20/ 50 - Loss: 0.327\n",
            "\tIter 30/ 50 - Loss: 0.32\n",
            "\tIter 40/ 50 - Loss: 0.316\n",
            "\tIter 50/ 50 - Loss: 0.312\n"
          ]
        },
        {
          "name": "stderr",
          "output_type": "stream",
          "text": [
            "\n",
            "287it [12:29,  2.92s/it]\u001b[A"
          ]
        },
        {
          "name": "stdout",
          "output_type": "stream",
          "text": [
            "\tIter 10/ 50 - Loss: 0.324\n",
            "\tIter 20/ 50 - Loss: 0.312\n",
            "\tIter 30/ 50 - Loss: 0.306\n",
            "\tIter 40/ 50 - Loss: 0.302\n",
            "\tIter 50/ 50 - Loss: 0.3\n"
          ]
        },
        {
          "name": "stderr",
          "output_type": "stream",
          "text": [
            "\n",
            "288it [12:32,  2.91s/it]\u001b[A"
          ]
        },
        {
          "name": "stdout",
          "output_type": "stream",
          "text": [
            "\tIter 10/ 50 - Loss: 0.328\n",
            "\tIter 20/ 50 - Loss: 0.318\n",
            "\tIter 30/ 50 - Loss: 0.313\n",
            "\tIter 40/ 50 - Loss: 0.309\n",
            "\tIter 50/ 50 - Loss: 0.307\n"
          ]
        },
        {
          "name": "stderr",
          "output_type": "stream",
          "text": [
            "\n",
            "289it [12:35,  2.91s/it]\u001b[A"
          ]
        },
        {
          "name": "stdout",
          "output_type": "stream",
          "text": [
            "\tIter 10/ 50 - Loss: 0.317\n",
            "\tIter 20/ 50 - Loss: 0.312\n",
            "\tIter 30/ 50 - Loss: 0.309\n",
            "\tIter 40/ 50 - Loss: 0.307\n",
            "\tIter 50/ 50 - Loss: 0.306\n"
          ]
        },
        {
          "name": "stderr",
          "output_type": "stream",
          "text": [
            "\n",
            "290it [12:38,  2.98s/it]\u001b[A"
          ]
        },
        {
          "name": "stdout",
          "output_type": "stream",
          "text": [
            "\tIter 10/ 50 - Loss: 0.325\n",
            "\tIter 20/ 50 - Loss: 0.312\n",
            "\tIter 30/ 50 - Loss: 0.307\n",
            "\tIter 40/ 50 - Loss: 0.304\n",
            "\tIter 50/ 50 - Loss: 0.302\n"
          ]
        },
        {
          "name": "stderr",
          "output_type": "stream",
          "text": [
            "\n",
            "291it [12:41,  2.95s/it]\u001b[A"
          ]
        },
        {
          "name": "stdout",
          "output_type": "stream",
          "text": [
            "\tIter 10/ 50 - Loss: 0.34\n",
            "\tIter 20/ 50 - Loss: 0.328\n",
            "\tIter 30/ 50 - Loss: 0.321\n",
            "\tIter 40/ 50 - Loss: 0.317\n",
            "\tIter 50/ 50 - Loss: 0.313\n"
          ]
        },
        {
          "name": "stderr",
          "output_type": "stream",
          "text": [
            "\n",
            "292it [12:44,  2.94s/it]\u001b[A"
          ]
        },
        {
          "name": "stdout",
          "output_type": "stream",
          "text": [
            "\tIter 10/ 50 - Loss: 0.338\n",
            "\tIter 20/ 50 - Loss: 0.322\n",
            "\tIter 30/ 50 - Loss: 0.313\n",
            "\tIter 40/ 50 - Loss: 0.308\n",
            "\tIter 50/ 50 - Loss: 0.305\n"
          ]
        },
        {
          "name": "stderr",
          "output_type": "stream",
          "text": [
            "\n",
            "293it [12:47,  2.94s/it]\u001b[A"
          ]
        },
        {
          "name": "stdout",
          "output_type": "stream",
          "text": [
            "\tIter 10/ 50 - Loss: 0.312\n",
            "\tIter 20/ 50 - Loss: 0.307\n",
            "\tIter 30/ 50 - Loss: 0.305\n",
            "\tIter 40/ 50 - Loss: 0.303\n",
            "\tIter 50/ 50 - Loss: 0.302\n"
          ]
        },
        {
          "name": "stderr",
          "output_type": "stream",
          "text": [
            "\n",
            "294it [12:50,  2.94s/it]\u001b[A"
          ]
        },
        {
          "name": "stdout",
          "output_type": "stream",
          "text": [
            "\tIter 10/ 50 - Loss: 0.338\n",
            "\tIter 20/ 50 - Loss: 0.316\n",
            "\tIter 30/ 50 - Loss: 0.308\n",
            "\tIter 40/ 50 - Loss: 0.303\n",
            "\tIter 50/ 50 - Loss: 0.301\n"
          ]
        },
        {
          "name": "stderr",
          "output_type": "stream",
          "text": [
            "\n",
            "295it [12:52,  2.92s/it]\u001b[A"
          ]
        },
        {
          "name": "stdout",
          "output_type": "stream",
          "text": [
            "\tIter 10/ 50 - Loss: 0.336\n",
            "\tIter 20/ 50 - Loss: 0.324\n",
            "\tIter 30/ 50 - Loss: 0.317\n",
            "\tIter 40/ 50 - Loss: 0.314\n",
            "\tIter 50/ 50 - Loss: 0.311\n"
          ]
        },
        {
          "name": "stderr",
          "output_type": "stream",
          "text": [
            "\n",
            "296it [12:55,  2.91s/it]\u001b[A"
          ]
        },
        {
          "name": "stdout",
          "output_type": "stream",
          "text": [
            "\tIter 10/ 50 - Loss: 0.324\n",
            "\tIter 20/ 50 - Loss: 0.319\n",
            "\tIter 30/ 50 - Loss: 0.316\n",
            "\tIter 40/ 50 - Loss: 0.313\n",
            "\tIter 50/ 50 - Loss: 0.312\n"
          ]
        },
        {
          "name": "stderr",
          "output_type": "stream",
          "text": [
            "\n",
            "297it [12:58,  2.90s/it]\u001b[A"
          ]
        },
        {
          "name": "stdout",
          "output_type": "stream",
          "text": [
            "\tIter 10/ 50 - Loss: 0.342\n",
            "\tIter 20/ 50 - Loss: 0.328\n",
            "\tIter 30/ 50 - Loss: 0.321\n",
            "\tIter 40/ 50 - Loss: 0.316\n",
            "\tIter 50/ 50 - Loss: 0.312\n"
          ]
        },
        {
          "name": "stderr",
          "output_type": "stream",
          "text": [
            "\n",
            "298it [13:01,  2.97s/it]\u001b[A"
          ]
        },
        {
          "name": "stdout",
          "output_type": "stream",
          "text": [
            "\tIter 10/ 50 - Loss: 0.326\n",
            "\tIter 20/ 50 - Loss: 0.317\n",
            "\tIter 30/ 50 - Loss: 0.312\n",
            "\tIter 40/ 50 - Loss: 0.308\n",
            "\tIter 50/ 50 - Loss: 0.305\n"
          ]
        },
        {
          "name": "stderr",
          "output_type": "stream",
          "text": [
            "\n",
            "299it [13:04,  2.94s/it]\u001b[A"
          ]
        },
        {
          "name": "stdout",
          "output_type": "stream",
          "text": [
            "\tIter 10/ 50 - Loss: 0.319\n",
            "\tIter 20/ 50 - Loss: 0.313\n",
            "\tIter 30/ 50 - Loss: 0.308\n",
            "\tIter 40/ 50 - Loss: 0.305\n",
            "\tIter 50/ 50 - Loss: 0.303\n"
          ]
        },
        {
          "name": "stderr",
          "output_type": "stream",
          "text": [
            "\n",
            "300it [13:07,  2.93s/it]\u001b[A"
          ]
        },
        {
          "name": "stdout",
          "output_type": "stream",
          "text": [
            "\tIter 10/ 50 - Loss: 0.361\n",
            "\tIter 20/ 50 - Loss: 0.351\n",
            "\tIter 30/ 50 - Loss: 0.344\n",
            "\tIter 40/ 50 - Loss: 0.339\n",
            "\tIter 50/ 50 - Loss: 0.335\n"
          ]
        },
        {
          "name": "stderr",
          "output_type": "stream",
          "text": [
            "\n",
            "301it [13:10,  2.92s/it]\u001b[A"
          ]
        },
        {
          "name": "stdout",
          "output_type": "stream",
          "text": [
            "\tIter 10/ 50 - Loss: 0.364\n",
            "\tIter 20/ 50 - Loss: 0.355\n",
            "\tIter 30/ 50 - Loss: 0.348\n",
            "\tIter 40/ 50 - Loss: 0.343\n",
            "\tIter 50/ 50 - Loss: 0.338\n"
          ]
        },
        {
          "name": "stderr",
          "output_type": "stream",
          "text": [
            "\n",
            "302it [13:13,  2.95s/it]\u001b[A"
          ]
        },
        {
          "name": "stdout",
          "output_type": "stream",
          "text": [
            "\tIter 10/ 50 - Loss: 0.325\n",
            "\tIter 20/ 50 - Loss: 0.318\n",
            "\tIter 30/ 50 - Loss: 0.315\n",
            "\tIter 40/ 50 - Loss: 0.312\n",
            "\tIter 50/ 50 - Loss: 0.311\n"
          ]
        },
        {
          "name": "stderr",
          "output_type": "stream",
          "text": [
            "\n",
            "303it [13:16,  2.93s/it]\u001b[A"
          ]
        },
        {
          "name": "stdout",
          "output_type": "stream",
          "text": [
            "\tIter 10/ 50 - Loss: 0.346\n",
            "\tIter 20/ 50 - Loss: 0.337\n",
            "\tIter 30/ 50 - Loss: 0.332\n",
            "\tIter 40/ 50 - Loss: 0.328\n",
            "\tIter 50/ 50 - Loss: 0.325\n"
          ]
        },
        {
          "name": "stderr",
          "output_type": "stream",
          "text": [
            "\n",
            "304it [13:19,  2.92s/it]\u001b[A"
          ]
        },
        {
          "name": "stdout",
          "output_type": "stream",
          "text": [
            "\tIter 10/ 50 - Loss: 0.313\n",
            "\tIter 20/ 50 - Loss: 0.311\n",
            "\tIter 30/ 50 - Loss: 0.31\n",
            "\tIter 40/ 50 - Loss: 0.309\n",
            "\tIter 50/ 50 - Loss: 0.308\n"
          ]
        },
        {
          "name": "stderr",
          "output_type": "stream",
          "text": [
            "\n",
            "305it [13:22,  2.94s/it]\u001b[A"
          ]
        },
        {
          "name": "stdout",
          "output_type": "stream",
          "text": [
            "\tIter 10/ 50 - Loss: 0.327\n",
            "\tIter 20/ 50 - Loss: 0.318\n",
            "\tIter 30/ 50 - Loss: 0.313\n",
            "\tIter 40/ 50 - Loss: 0.311\n",
            "\tIter 50/ 50 - Loss: 0.309\n"
          ]
        },
        {
          "name": "stderr",
          "output_type": "stream",
          "text": [
            "\n",
            "306it [13:25,  3.01s/it]\u001b[A"
          ]
        },
        {
          "name": "stdout",
          "output_type": "stream",
          "text": [
            "\tIter 10/ 50 - Loss: 0.346\n",
            "\tIter 20/ 50 - Loss: 0.335\n",
            "\tIter 30/ 50 - Loss: 0.328\n",
            "\tIter 40/ 50 - Loss: 0.323\n",
            "\tIter 50/ 50 - Loss: 0.319\n"
          ]
        },
        {
          "name": "stderr",
          "output_type": "stream",
          "text": [
            "\n",
            "307it [13:28,  2.98s/it]\u001b[A"
          ]
        },
        {
          "name": "stdout",
          "output_type": "stream",
          "text": [
            "\tIter 10/ 50 - Loss: 0.313\n",
            "\tIter 20/ 50 - Loss: 0.309\n",
            "\tIter 30/ 50 - Loss: 0.307\n",
            "\tIter 40/ 50 - Loss: 0.305\n",
            "\tIter 50/ 50 - Loss: 0.304\n"
          ]
        },
        {
          "name": "stderr",
          "output_type": "stream",
          "text": [
            "\n",
            "308it [13:31,  2.95s/it]\u001b[A"
          ]
        },
        {
          "name": "stdout",
          "output_type": "stream",
          "text": [
            "\tIter 10/ 50 - Loss: 0.343\n",
            "\tIter 20/ 50 - Loss: 0.328\n",
            "\tIter 30/ 50 - Loss: 0.319\n",
            "\tIter 40/ 50 - Loss: 0.314\n",
            "\tIter 50/ 50 - Loss: 0.311\n"
          ]
        },
        {
          "name": "stderr",
          "output_type": "stream",
          "text": [
            "\n",
            "309it [13:34,  2.94s/it]\u001b[A"
          ]
        },
        {
          "name": "stdout",
          "output_type": "stream",
          "text": [
            "\tIter 10/ 50 - Loss: 0.328\n",
            "\tIter 20/ 50 - Loss: 0.323\n",
            "\tIter 30/ 50 - Loss: 0.319\n",
            "\tIter 40/ 50 - Loss: 0.316\n",
            "\tIter 50/ 50 - Loss: 0.314\n"
          ]
        },
        {
          "name": "stderr",
          "output_type": "stream",
          "text": [
            "\n",
            "310it [13:37,  2.98s/it]\u001b[A"
          ]
        },
        {
          "name": "stdout",
          "output_type": "stream",
          "text": [
            "\tIter 10/ 50 - Loss: 0.321\n",
            "\tIter 20/ 50 - Loss: 0.316\n",
            "\tIter 30/ 50 - Loss: 0.313\n",
            "\tIter 40/ 50 - Loss: 0.311\n",
            "\tIter 50/ 50 - Loss: 0.31\n"
          ]
        },
        {
          "name": "stderr",
          "output_type": "stream",
          "text": [
            "\n",
            "311it [13:40,  2.96s/it]\u001b[A"
          ]
        },
        {
          "name": "stdout",
          "output_type": "stream",
          "text": [
            "\tIter 10/ 50 - Loss: 0.344\n",
            "\tIter 20/ 50 - Loss: 0.336\n",
            "\tIter 30/ 50 - Loss: 0.332\n",
            "\tIter 40/ 50 - Loss: 0.329\n",
            "\tIter 50/ 50 - Loss: 0.326\n"
          ]
        },
        {
          "name": "stderr",
          "output_type": "stream",
          "text": [
            "\n",
            "312it [13:43,  2.95s/it]\u001b[A"
          ]
        },
        {
          "name": "stdout",
          "output_type": "stream",
          "text": [
            "\tIter 10/ 50 - Loss: 0.328\n",
            "\tIter 20/ 50 - Loss: 0.32\n",
            "\tIter 30/ 50 - Loss: 0.316\n",
            "\tIter 40/ 50 - Loss: 0.313\n",
            "\tIter 50/ 50 - Loss: 0.311\n"
          ]
        },
        {
          "name": "stderr",
          "output_type": "stream",
          "text": [
            "\n",
            "313it [13:46,  3.00s/it]\u001b[A"
          ]
        },
        {
          "name": "stdout",
          "output_type": "stream",
          "text": [
            "\tIter 10/ 50 - Loss: 0.352\n",
            "\tIter 20/ 50 - Loss: 0.345\n",
            "\tIter 30/ 50 - Loss: 0.34\n",
            "\tIter 40/ 50 - Loss: 0.337\n",
            "\tIter 50/ 50 - Loss: 0.334\n"
          ]
        },
        {
          "name": "stderr",
          "output_type": "stream",
          "text": [
            "\n",
            "314it [13:49,  3.00s/it]\u001b[A"
          ]
        },
        {
          "name": "stdout",
          "output_type": "stream",
          "text": [
            "\tIter 10/ 50 - Loss: 0.336\n",
            "\tIter 20/ 50 - Loss: 0.329\n",
            "\tIter 30/ 50 - Loss: 0.325\n",
            "\tIter 40/ 50 - Loss: 0.322\n",
            "\tIter 50/ 50 - Loss: 0.32\n"
          ]
        },
        {
          "name": "stderr",
          "output_type": "stream",
          "text": [
            "\n",
            "315it [13:52,  2.99s/it]\u001b[A"
          ]
        },
        {
          "name": "stdout",
          "output_type": "stream",
          "text": [
            "\tIter 10/ 50 - Loss: 0.354\n",
            "\tIter 20/ 50 - Loss: 0.338\n",
            "\tIter 30/ 50 - Loss: 0.329\n",
            "\tIter 40/ 50 - Loss: 0.324\n",
            "\tIter 50/ 50 - Loss: 0.32\n"
          ]
        },
        {
          "name": "stderr",
          "output_type": "stream",
          "text": [
            "\n",
            "316it [13:55,  2.97s/it]\u001b[A"
          ]
        },
        {
          "name": "stdout",
          "output_type": "stream",
          "text": [
            "\tIter 10/ 50 - Loss: 0.371\n",
            "\tIter 20/ 50 - Loss: 0.351\n",
            "\tIter 30/ 50 - Loss: 0.341\n",
            "\tIter 40/ 50 - Loss: 0.335\n",
            "\tIter 50/ 50 - Loss: 0.331\n"
          ]
        },
        {
          "name": "stderr",
          "output_type": "stream",
          "text": [
            "\n",
            "317it [13:58,  2.97s/it]\u001b[A"
          ]
        },
        {
          "name": "stdout",
          "output_type": "stream",
          "text": [
            "\tIter 10/ 50 - Loss: 0.339\n",
            "\tIter 20/ 50 - Loss: 0.33\n",
            "\tIter 30/ 50 - Loss: 0.325\n",
            "\tIter 40/ 50 - Loss: 0.322\n",
            "\tIter 50/ 50 - Loss: 0.319\n"
          ]
        },
        {
          "name": "stderr",
          "output_type": "stream",
          "text": [
            "\n",
            "318it [14:01,  2.97s/it]\u001b[A"
          ]
        },
        {
          "name": "stdout",
          "output_type": "stream",
          "text": [
            "\tIter 10/ 50 - Loss: 0.343\n",
            "\tIter 20/ 50 - Loss: 0.336\n",
            "\tIter 30/ 50 - Loss: 0.33\n",
            "\tIter 40/ 50 - Loss: 0.327\n",
            "\tIter 50/ 50 - Loss: 0.325\n"
          ]
        },
        {
          "name": "stderr",
          "output_type": "stream",
          "text": [
            "\n",
            "319it [14:03,  2.97s/it]\u001b[A"
          ]
        },
        {
          "name": "stdout",
          "output_type": "stream",
          "text": [
            "\tIter 10/ 50 - Loss: 0.332\n",
            "\tIter 20/ 50 - Loss: 0.325\n",
            "\tIter 30/ 50 - Loss: 0.322\n",
            "\tIter 40/ 50 - Loss: 0.319\n",
            "\tIter 50/ 50 - Loss: 0.317\n"
          ]
        },
        {
          "name": "stderr",
          "output_type": "stream",
          "text": [
            "\n",
            "320it [14:06,  2.97s/it]\u001b[A"
          ]
        },
        {
          "name": "stdout",
          "output_type": "stream",
          "text": [
            "\tIter 10/ 50 - Loss: 0.353\n",
            "\tIter 20/ 50 - Loss: 0.345\n",
            "\tIter 30/ 50 - Loss: 0.34\n",
            "\tIter 40/ 50 - Loss: 0.337\n",
            "\tIter 50/ 50 - Loss: 0.335\n"
          ]
        },
        {
          "name": "stderr",
          "output_type": "stream",
          "text": [
            "\n",
            "321it [14:10,  3.02s/it]\u001b[A"
          ]
        },
        {
          "name": "stdout",
          "output_type": "stream",
          "text": [
            "\tIter 10/ 50 - Loss: 0.332\n",
            "\tIter 20/ 50 - Loss: 0.326\n",
            "\tIter 30/ 50 - Loss: 0.322\n",
            "\tIter 40/ 50 - Loss: 0.32\n",
            "\tIter 50/ 50 - Loss: 0.318\n"
          ]
        },
        {
          "name": "stderr",
          "output_type": "stream",
          "text": [
            "\n",
            "322it [14:13,  3.00s/it]\u001b[A"
          ]
        },
        {
          "name": "stdout",
          "output_type": "stream",
          "text": [
            "\tIter 10/ 50 - Loss: 0.367\n",
            "\tIter 20/ 50 - Loss: 0.353\n",
            "\tIter 30/ 50 - Loss: 0.345\n",
            "\tIter 40/ 50 - Loss: 0.34\n",
            "\tIter 50/ 50 - Loss: 0.336\n"
          ]
        },
        {
          "name": "stderr",
          "output_type": "stream",
          "text": [
            "\n",
            "323it [14:15,  2.99s/it]\u001b[A"
          ]
        },
        {
          "name": "stdout",
          "output_type": "stream",
          "text": [
            "\tIter 10/ 50 - Loss: 0.365\n",
            "\tIter 20/ 50 - Loss: 0.349\n",
            "\tIter 30/ 50 - Loss: 0.34\n",
            "\tIter 40/ 50 - Loss: 0.334\n",
            "\tIter 50/ 50 - Loss: 0.329\n"
          ]
        },
        {
          "name": "stderr",
          "output_type": "stream",
          "text": [
            "\n",
            "324it [14:18,  2.97s/it]\u001b[A"
          ]
        },
        {
          "name": "stdout",
          "output_type": "stream",
          "text": [
            "\tIter 10/ 50 - Loss: 0.35\n",
            "\tIter 20/ 50 - Loss: 0.34\n",
            "\tIter 30/ 50 - Loss: 0.334\n",
            "\tIter 40/ 50 - Loss: 0.33\n",
            "\tIter 50/ 50 - Loss: 0.327\n"
          ]
        },
        {
          "name": "stderr",
          "output_type": "stream",
          "text": [
            "\n",
            "325it [14:21,  2.98s/it]\u001b[A"
          ]
        },
        {
          "name": "stdout",
          "output_type": "stream",
          "text": [
            "\tIter 10/ 50 - Loss: 0.337\n",
            "\tIter 20/ 50 - Loss: 0.331\n",
            "\tIter 30/ 50 - Loss: 0.327\n",
            "\tIter 40/ 50 - Loss: 0.324\n",
            "\tIter 50/ 50 - Loss: 0.322\n"
          ]
        },
        {
          "name": "stderr",
          "output_type": "stream",
          "text": [
            "\n",
            "326it [14:24,  2.99s/it]\u001b[A"
          ]
        },
        {
          "name": "stdout",
          "output_type": "stream",
          "text": [
            "\tIter 10/ 50 - Loss: 0.336\n",
            "\tIter 20/ 50 - Loss: 0.33\n",
            "\tIter 30/ 50 - Loss: 0.327\n",
            "\tIter 40/ 50 - Loss: 0.324\n",
            "\tIter 50/ 50 - Loss: 0.322\n"
          ]
        },
        {
          "name": "stderr",
          "output_type": "stream",
          "text": [
            "\n",
            "327it [14:27,  3.00s/it]\u001b[A"
          ]
        },
        {
          "name": "stdout",
          "output_type": "stream",
          "text": [
            "\tIter 10/ 50 - Loss: 0.351\n",
            "\tIter 20/ 50 - Loss: 0.331\n",
            "\tIter 30/ 50 - Loss: 0.322\n",
            "\tIter 40/ 50 - Loss: 0.318\n",
            "\tIter 50/ 50 - Loss: 0.315\n"
          ]
        },
        {
          "name": "stderr",
          "output_type": "stream",
          "text": [
            "\n",
            "328it [14:31,  3.06s/it]\u001b[A"
          ]
        },
        {
          "name": "stdout",
          "output_type": "stream",
          "text": [
            "\tIter 10/ 50 - Loss: 0.355\n",
            "\tIter 20/ 50 - Loss: 0.348\n",
            "\tIter 30/ 50 - Loss: 0.341\n",
            "\tIter 40/ 50 - Loss: 0.337\n",
            "\tIter 50/ 50 - Loss: 0.333\n"
          ]
        },
        {
          "name": "stderr",
          "output_type": "stream",
          "text": [
            "\n",
            "329it [14:34,  3.05s/it]\u001b[A"
          ]
        },
        {
          "name": "stdout",
          "output_type": "stream",
          "text": [
            "\tIter 10/ 50 - Loss: 0.344\n",
            "\tIter 20/ 50 - Loss: 0.335\n",
            "\tIter 30/ 50 - Loss: 0.329\n",
            "\tIter 40/ 50 - Loss: 0.325\n",
            "\tIter 50/ 50 - Loss: 0.322\n"
          ]
        },
        {
          "name": "stderr",
          "output_type": "stream",
          "text": [
            "\n",
            "330it [14:37,  3.05s/it]\u001b[A"
          ]
        },
        {
          "name": "stdout",
          "output_type": "stream",
          "text": [
            "\tIter 10/ 50 - Loss: 0.359\n",
            "\tIter 20/ 50 - Loss: 0.345\n",
            "\tIter 30/ 50 - Loss: 0.336\n",
            "\tIter 40/ 50 - Loss: 0.331\n",
            "\tIter 50/ 50 - Loss: 0.327\n"
          ]
        },
        {
          "name": "stderr",
          "output_type": "stream",
          "text": [
            "\n",
            "331it [14:40,  3.03s/it]\u001b[A"
          ]
        },
        {
          "name": "stdout",
          "output_type": "stream",
          "text": [
            "\tIter 10/ 50 - Loss: 0.367\n",
            "\tIter 20/ 50 - Loss: 0.351\n",
            "\tIter 30/ 50 - Loss: 0.342\n",
            "\tIter 40/ 50 - Loss: 0.337\n",
            "\tIter 50/ 50 - Loss: 0.334\n"
          ]
        },
        {
          "name": "stderr",
          "output_type": "stream",
          "text": [
            "\n",
            "332it [14:43,  3.03s/it]\u001b[A"
          ]
        },
        {
          "name": "stdout",
          "output_type": "stream",
          "text": [
            "\tIter 10/ 50 - Loss: 0.343\n",
            "\tIter 20/ 50 - Loss: 0.341\n",
            "\tIter 30/ 50 - Loss: 0.339\n",
            "\tIter 40/ 50 - Loss: 0.338\n",
            "\tIter 50/ 50 - Loss: 0.337\n"
          ]
        },
        {
          "name": "stderr",
          "output_type": "stream",
          "text": [
            "\n",
            "333it [14:46,  3.03s/it]\u001b[A"
          ]
        },
        {
          "name": "stdout",
          "output_type": "stream",
          "text": [
            "\tIter 10/ 50 - Loss: 0.36\n",
            "\tIter 20/ 50 - Loss: 0.346\n",
            "\tIter 30/ 50 - Loss: 0.337\n",
            "\tIter 40/ 50 - Loss: 0.332\n",
            "\tIter 50/ 50 - Loss: 0.327\n"
          ]
        },
        {
          "name": "stderr",
          "output_type": "stream",
          "text": [
            "\n",
            "334it [14:49,  3.04s/it]\u001b[A"
          ]
        },
        {
          "name": "stdout",
          "output_type": "stream",
          "text": [
            "\tIter 10/ 50 - Loss: 0.348\n",
            "\tIter 20/ 50 - Loss: 0.342\n",
            "\tIter 30/ 50 - Loss: 0.338\n",
            "\tIter 40/ 50 - Loss: 0.335\n",
            "\tIter 50/ 50 - Loss: 0.332\n"
          ]
        },
        {
          "name": "stderr",
          "output_type": "stream",
          "text": [
            "\n",
            "335it [14:52,  3.04s/it]\u001b[A"
          ]
        },
        {
          "name": "stdout",
          "output_type": "stream",
          "text": [
            "\tIter 10/ 50 - Loss: 0.345\n",
            "\tIter 20/ 50 - Loss: 0.338\n",
            "\tIter 30/ 50 - Loss: 0.334\n",
            "\tIter 40/ 50 - Loss: 0.331\n",
            "\tIter 50/ 50 - Loss: 0.329\n"
          ]
        },
        {
          "name": "stderr",
          "output_type": "stream",
          "text": [
            "\n",
            "336it [14:55,  3.11s/it]\u001b[A"
          ]
        },
        {
          "name": "stdout",
          "output_type": "stream",
          "text": [
            "\tIter 10/ 50 - Loss: 0.34\n",
            "\tIter 20/ 50 - Loss: 0.333\n",
            "\tIter 30/ 50 - Loss: 0.329\n",
            "\tIter 40/ 50 - Loss: 0.327\n",
            "\tIter 50/ 50 - Loss: 0.325\n"
          ]
        },
        {
          "name": "stderr",
          "output_type": "stream",
          "text": [
            "\n",
            "337it [14:58,  3.09s/it]\u001b[A"
          ]
        },
        {
          "name": "stdout",
          "output_type": "stream",
          "text": [
            "\tIter 10/ 50 - Loss: 0.339\n",
            "\tIter 20/ 50 - Loss: 0.335\n",
            "\tIter 30/ 50 - Loss: 0.332\n",
            "\tIter 40/ 50 - Loss: 0.33\n",
            "\tIter 50/ 50 - Loss: 0.328\n"
          ]
        },
        {
          "name": "stderr",
          "output_type": "stream",
          "text": [
            "\n",
            "338it [15:01,  3.10s/it]\u001b[A"
          ]
        },
        {
          "name": "stdout",
          "output_type": "stream",
          "text": [
            "\tIter 10/ 50 - Loss: 0.352\n",
            "\tIter 20/ 50 - Loss: 0.343\n",
            "\tIter 30/ 50 - Loss: 0.337\n",
            "\tIter 40/ 50 - Loss: 0.334\n",
            "\tIter 50/ 50 - Loss: 0.331\n"
          ]
        },
        {
          "name": "stderr",
          "output_type": "stream",
          "text": [
            "\n",
            "339it [15:05,  3.15s/it]\u001b[A"
          ]
        },
        {
          "name": "stdout",
          "output_type": "stream",
          "text": [
            "\tIter 10/ 50 - Loss: 0.354\n",
            "\tIter 20/ 50 - Loss: 0.345\n",
            "\tIter 30/ 50 - Loss: 0.34\n",
            "\tIter 40/ 50 - Loss: 0.336\n",
            "\tIter 50/ 50 - Loss: 0.333\n"
          ]
        },
        {
          "name": "stderr",
          "output_type": "stream",
          "text": [
            "\n",
            "340it [15:08,  3.16s/it]\u001b[A"
          ]
        },
        {
          "name": "stdout",
          "output_type": "stream",
          "text": [
            "\tIter 10/ 50 - Loss: 0.345\n",
            "\tIter 20/ 50 - Loss: 0.337\n",
            "\tIter 30/ 50 - Loss: 0.333\n",
            "\tIter 40/ 50 - Loss: 0.331\n",
            "\tIter 50/ 50 - Loss: 0.33\n"
          ]
        },
        {
          "name": "stderr",
          "output_type": "stream",
          "text": [
            "\n",
            "341it [15:11,  3.16s/it]\u001b[A"
          ]
        },
        {
          "name": "stdout",
          "output_type": "stream",
          "text": [
            "\tIter 10/ 50 - Loss: 0.342\n",
            "\tIter 20/ 50 - Loss: 0.337\n",
            "\tIter 30/ 50 - Loss: 0.334\n",
            "\tIter 40/ 50 - Loss: 0.333\n",
            "\tIter 50/ 50 - Loss: 0.332\n"
          ]
        },
        {
          "name": "stderr",
          "output_type": "stream",
          "text": [
            "\n",
            "342it [15:14,  3.23s/it]\u001b[A"
          ]
        },
        {
          "name": "stdout",
          "output_type": "stream",
          "text": [
            "\tIter 10/ 50 - Loss: 0.356\n",
            "\tIter 20/ 50 - Loss: 0.349\n",
            "\tIter 30/ 50 - Loss: 0.345\n",
            "\tIter 40/ 50 - Loss: 0.342\n",
            "\tIter 50/ 50 - Loss: 0.34\n"
          ]
        },
        {
          "name": "stderr",
          "output_type": "stream",
          "text": [
            "\n",
            "343it [15:18,  3.22s/it]\u001b[A"
          ]
        },
        {
          "name": "stdout",
          "output_type": "stream",
          "text": [
            "\tIter 10/ 50 - Loss: 0.361\n",
            "\tIter 20/ 50 - Loss: 0.349\n",
            "\tIter 30/ 50 - Loss: 0.343\n",
            "\tIter 40/ 50 - Loss: 0.339\n",
            "\tIter 50/ 50 - Loss: 0.336\n"
          ]
        },
        {
          "name": "stderr",
          "output_type": "stream",
          "text": [
            "\n",
            "344it [15:21,  3.26s/it]\u001b[A"
          ]
        },
        {
          "name": "stdout",
          "output_type": "stream",
          "text": [
            "\tIter 10/ 50 - Loss: 0.368\n",
            "\tIter 20/ 50 - Loss: 0.358\n",
            "\tIter 30/ 50 - Loss: 0.352\n",
            "\tIter 40/ 50 - Loss: 0.347\n",
            "\tIter 50/ 50 - Loss: 0.343\n"
          ]
        },
        {
          "name": "stderr",
          "output_type": "stream",
          "text": [
            "\n",
            "345it [15:24,  3.21s/it]\u001b[A"
          ]
        },
        {
          "name": "stdout",
          "output_type": "stream",
          "text": [
            "\tIter 10/ 50 - Loss: 0.359\n",
            "\tIter 20/ 50 - Loss: 0.348\n",
            "\tIter 30/ 50 - Loss: 0.343\n",
            "\tIter 40/ 50 - Loss: 0.339\n",
            "\tIter 50/ 50 - Loss: 0.337\n"
          ]
        },
        {
          "name": "stderr",
          "output_type": "stream",
          "text": [
            "\n",
            "346it [15:27,  3.22s/it]\u001b[A"
          ]
        },
        {
          "name": "stdout",
          "output_type": "stream",
          "text": [
            "\tIter 10/ 50 - Loss: 0.358\n",
            "\tIter 20/ 50 - Loss: 0.345\n",
            "\tIter 30/ 50 - Loss: 0.34\n",
            "\tIter 40/ 50 - Loss: 0.337\n",
            "\tIter 50/ 50 - Loss: 0.334\n"
          ]
        },
        {
          "name": "stderr",
          "output_type": "stream",
          "text": [
            "\n",
            "347it [15:30,  3.20s/it]\u001b[A"
          ]
        },
        {
          "name": "stdout",
          "output_type": "stream",
          "text": [
            "\tIter 10/ 50 - Loss: 0.347\n",
            "\tIter 20/ 50 - Loss: 0.343\n",
            "\tIter 30/ 50 - Loss: 0.34\n",
            "\tIter 40/ 50 - Loss: 0.337\n",
            "\tIter 50/ 50 - Loss: 0.335\n"
          ]
        },
        {
          "name": "stderr",
          "output_type": "stream",
          "text": [
            "\n",
            "348it [15:33,  3.18s/it]\u001b[A"
          ]
        },
        {
          "name": "stdout",
          "output_type": "stream",
          "text": [
            "\tIter 10/ 50 - Loss: 0.356\n",
            "\tIter 20/ 50 - Loss: 0.345\n",
            "\tIter 30/ 50 - Loss: 0.338\n",
            "\tIter 40/ 50 - Loss: 0.333\n",
            "\tIter 50/ 50 - Loss: 0.33\n"
          ]
        },
        {
          "name": "stderr",
          "output_type": "stream",
          "text": [
            "\n",
            "349it [15:37,  3.17s/it]\u001b[A"
          ]
        },
        {
          "name": "stdout",
          "output_type": "stream",
          "text": [
            "\tIter 10/ 50 - Loss: 0.347\n",
            "\tIter 20/ 50 - Loss: 0.341\n",
            "\tIter 30/ 50 - Loss: 0.338\n",
            "\tIter 40/ 50 - Loss: 0.335\n",
            "\tIter 50/ 50 - Loss: 0.333\n"
          ]
        },
        {
          "name": "stderr",
          "output_type": "stream",
          "text": [
            "\n",
            "350it [15:40,  3.20s/it]\u001b[A"
          ]
        },
        {
          "name": "stdout",
          "output_type": "stream",
          "text": [
            "\tIter 10/ 50 - Loss: 0.36\n",
            "\tIter 20/ 50 - Loss: 0.349\n",
            "\tIter 30/ 50 - Loss: 0.343\n",
            "\tIter 40/ 50 - Loss: 0.34\n",
            "\tIter 50/ 50 - Loss: 0.337\n"
          ]
        },
        {
          "name": "stderr",
          "output_type": "stream",
          "text": [
            "\n",
            "351it [15:43,  3.20s/it]\u001b[A"
          ]
        },
        {
          "name": "stdout",
          "output_type": "stream",
          "text": [
            "\tIter 10/ 50 - Loss: 0.348\n",
            "\tIter 20/ 50 - Loss: 0.342\n",
            "\tIter 30/ 50 - Loss: 0.339\n",
            "\tIter 40/ 50 - Loss: 0.337\n",
            "\tIter 50/ 50 - Loss: 0.335\n"
          ]
        },
        {
          "name": "stderr",
          "output_type": "stream",
          "text": [
            "\n",
            "352it [15:46,  3.25s/it]\u001b[A"
          ]
        },
        {
          "name": "stdout",
          "output_type": "stream",
          "text": [
            "\tIter 10/ 50 - Loss: 0.34\n",
            "\tIter 20/ 50 - Loss: 0.335\n",
            "\tIter 30/ 50 - Loss: 0.333\n",
            "\tIter 40/ 50 - Loss: 0.332\n",
            "\tIter 50/ 50 - Loss: 0.331\n"
          ]
        },
        {
          "name": "stderr",
          "output_type": "stream",
          "text": [
            "\n",
            "353it [15:50,  3.24s/it]\u001b[A"
          ]
        },
        {
          "name": "stdout",
          "output_type": "stream",
          "text": [
            "\tIter 10/ 50 - Loss: 0.358\n",
            "\tIter 20/ 50 - Loss: 0.35\n",
            "\tIter 30/ 50 - Loss: 0.345\n",
            "\tIter 40/ 50 - Loss: 0.341\n",
            "\tIter 50/ 50 - Loss: 0.339\n"
          ]
        },
        {
          "name": "stderr",
          "output_type": "stream",
          "text": [
            "\n",
            "354it [15:53,  3.25s/it]\u001b[A"
          ]
        },
        {
          "name": "stdout",
          "output_type": "stream",
          "text": [
            "\tIter 10/ 50 - Loss: 0.369\n",
            "\tIter 20/ 50 - Loss: 0.362\n",
            "\tIter 30/ 50 - Loss: 0.358\n",
            "\tIter 40/ 50 - Loss: 0.354\n",
            "\tIter 50/ 50 - Loss: 0.351\n"
          ]
        },
        {
          "name": "stderr",
          "output_type": "stream",
          "text": [
            "\n",
            "355it [15:56,  3.22s/it]\u001b[A"
          ]
        },
        {
          "name": "stdout",
          "output_type": "stream",
          "text": [
            "\tIter 10/ 50 - Loss: 0.365\n",
            "\tIter 20/ 50 - Loss: 0.357\n",
            "\tIter 30/ 50 - Loss: 0.352\n",
            "\tIter 40/ 50 - Loss: 0.348\n",
            "\tIter 50/ 50 - Loss: 0.346\n"
          ]
        },
        {
          "name": "stderr",
          "output_type": "stream",
          "text": [
            "\n",
            "356it [15:59,  3.19s/it]\u001b[A"
          ]
        },
        {
          "name": "stdout",
          "output_type": "stream",
          "text": [
            "\tIter 10/ 50 - Loss: 0.366\n",
            "\tIter 20/ 50 - Loss: 0.356\n",
            "\tIter 30/ 50 - Loss: 0.35\n",
            "\tIter 40/ 50 - Loss: 0.347\n",
            "\tIter 50/ 50 - Loss: 0.344\n"
          ]
        },
        {
          "name": "stderr",
          "output_type": "stream",
          "text": [
            "\n",
            "357it [16:02,  3.20s/it]\u001b[A"
          ]
        },
        {
          "name": "stdout",
          "output_type": "stream",
          "text": [
            "\tIter 10/ 50 - Loss: 0.358\n",
            "\tIter 20/ 50 - Loss: 0.347\n",
            "\tIter 30/ 50 - Loss: 0.342\n",
            "\tIter 40/ 50 - Loss: 0.339\n",
            "\tIter 50/ 50 - Loss: 0.337\n"
          ]
        },
        {
          "name": "stderr",
          "output_type": "stream",
          "text": [
            "\n",
            "358it [16:06,  3.18s/it]\u001b[A"
          ]
        },
        {
          "name": "stdout",
          "output_type": "stream",
          "text": [
            "\tIter 10/ 50 - Loss: 0.36\n",
            "\tIter 20/ 50 - Loss: 0.354\n",
            "\tIter 30/ 50 - Loss: 0.349\n",
            "\tIter 40/ 50 - Loss: 0.345\n",
            "\tIter 50/ 50 - Loss: 0.342\n"
          ]
        },
        {
          "name": "stderr",
          "output_type": "stream",
          "text": [
            "\n",
            "359it [16:09,  3.21s/it]\u001b[A"
          ]
        },
        {
          "name": "stdout",
          "output_type": "stream",
          "text": [
            "\tIter 10/ 50 - Loss: 0.357\n",
            "\tIter 20/ 50 - Loss: 0.351\n",
            "\tIter 30/ 50 - Loss: 0.347\n",
            "\tIter 40/ 50 - Loss: 0.344\n",
            "\tIter 50/ 50 - Loss: 0.342\n"
          ]
        },
        {
          "name": "stderr",
          "output_type": "stream",
          "text": [
            "\n",
            "360it [16:12,  3.18s/it]\u001b[A"
          ]
        },
        {
          "name": "stdout",
          "output_type": "stream",
          "text": [
            "\tIter 10/ 50 - Loss: 0.368\n",
            "\tIter 20/ 50 - Loss: 0.355\n",
            "\tIter 30/ 50 - Loss: 0.348\n",
            "\tIter 40/ 50 - Loss: 0.344\n",
            "\tIter 50/ 50 - Loss: 0.341\n"
          ]
        },
        {
          "name": "stderr",
          "output_type": "stream",
          "text": [
            "\n",
            "361it [16:15,  3.18s/it]\u001b[A"
          ]
        },
        {
          "name": "stdout",
          "output_type": "stream",
          "text": [
            "\tIter 10/ 50 - Loss: 0.348\n",
            "\tIter 20/ 50 - Loss: 0.345\n",
            "\tIter 30/ 50 - Loss: 0.342\n",
            "\tIter 40/ 50 - Loss: 0.341\n",
            "\tIter 50/ 50 - Loss: 0.34\n"
          ]
        },
        {
          "name": "stderr",
          "output_type": "stream",
          "text": [
            "\n",
            "362it [16:18,  3.16s/it]\u001b[A"
          ]
        },
        {
          "name": "stdout",
          "output_type": "stream",
          "text": [
            "\tIter 10/ 50 - Loss: 0.364\n",
            "\tIter 20/ 50 - Loss: 0.357\n",
            "\tIter 30/ 50 - Loss: 0.351\n",
            "\tIter 40/ 50 - Loss: 0.348\n",
            "\tIter 50/ 50 - Loss: 0.346\n"
          ]
        },
        {
          "name": "stderr",
          "output_type": "stream",
          "text": [
            "\n",
            "363it [16:21,  3.15s/it]\u001b[A"
          ]
        },
        {
          "name": "stdout",
          "output_type": "stream",
          "text": [
            "\tIter 10/ 50 - Loss: 0.356\n",
            "\tIter 20/ 50 - Loss: 0.351\n",
            "\tIter 30/ 50 - Loss: 0.348\n",
            "\tIter 40/ 50 - Loss: 0.346\n",
            "\tIter 50/ 50 - Loss: 0.344\n"
          ]
        },
        {
          "name": "stderr",
          "output_type": "stream",
          "text": [
            "\n",
            "364it [16:24,  3.13s/it]\u001b[A"
          ]
        },
        {
          "name": "stdout",
          "output_type": "stream",
          "text": [
            "\tIter 10/ 50 - Loss: 0.348\n",
            "\tIter 20/ 50 - Loss: 0.346\n",
            "\tIter 30/ 50 - Loss: 0.344\n",
            "\tIter 40/ 50 - Loss: 0.342\n",
            "\tIter 50/ 50 - Loss: 0.341\n"
          ]
        },
        {
          "name": "stderr",
          "output_type": "stream",
          "text": [
            "\n",
            "365it [16:28,  3.15s/it]\u001b[A"
          ]
        },
        {
          "name": "stdout",
          "output_type": "stream",
          "text": [
            "\tIter 10/ 50 - Loss: 0.355\n",
            "\tIter 20/ 50 - Loss: 0.341\n",
            "\tIter 30/ 50 - Loss: 0.34\n",
            "\tIter 40/ 50 - Loss: 0.338\n",
            "\tIter 50/ 50 - Loss: 0.337\n"
          ]
        },
        {
          "name": "stderr",
          "output_type": "stream",
          "text": [
            "\n",
            "366it [16:31,  3.13s/it]\u001b[A"
          ]
        },
        {
          "name": "stdout",
          "output_type": "stream",
          "text": [
            "\tIter 10/ 50 - Loss: 0.366\n",
            "\tIter 20/ 50 - Loss: 0.347\n",
            "\tIter 30/ 50 - Loss: 0.342\n",
            "\tIter 40/ 50 - Loss: 0.34\n",
            "\tIter 50/ 50 - Loss: 0.338\n"
          ]
        },
        {
          "name": "stderr",
          "output_type": "stream",
          "text": [
            "\n",
            "367it [16:34,  3.20s/it]\u001b[A"
          ]
        },
        {
          "name": "stdout",
          "output_type": "stream",
          "text": [
            "\tIter 10/ 50 - Loss: 0.359\n",
            "\tIter 20/ 50 - Loss: 0.35\n",
            "\tIter 30/ 50 - Loss: 0.345\n",
            "\tIter 40/ 50 - Loss: 0.342\n",
            "\tIter 50/ 50 - Loss: 0.34\n"
          ]
        },
        {
          "name": "stderr",
          "output_type": "stream",
          "text": [
            "\n",
            "368it [16:37,  3.18s/it]\u001b[A"
          ]
        },
        {
          "name": "stdout",
          "output_type": "stream",
          "text": [
            "\tIter 10/ 50 - Loss: 0.36\n",
            "\tIter 20/ 50 - Loss: 0.353\n",
            "\tIter 30/ 50 - Loss: 0.349\n",
            "\tIter 40/ 50 - Loss: 0.346\n",
            "\tIter 50/ 50 - Loss: 0.344\n"
          ]
        },
        {
          "name": "stderr",
          "output_type": "stream",
          "text": [
            "\n",
            "369it [16:40,  3.19s/it]\u001b[A"
          ]
        },
        {
          "name": "stdout",
          "output_type": "stream",
          "text": [
            "\tIter 10/ 50 - Loss: 0.358\n",
            "\tIter 20/ 50 - Loss: 0.349\n",
            "\tIter 30/ 50 - Loss: 0.344\n",
            "\tIter 40/ 50 - Loss: 0.341\n",
            "\tIter 50/ 50 - Loss: 0.338\n"
          ]
        },
        {
          "name": "stderr",
          "output_type": "stream",
          "text": [
            "\n",
            "370it [16:44,  3.15s/it]\u001b[A"
          ]
        },
        {
          "name": "stdout",
          "output_type": "stream",
          "text": [
            "\tIter 10/ 50 - Loss: 0.356\n",
            "\tIter 20/ 50 - Loss: 0.349\n",
            "\tIter 30/ 50 - Loss: 0.345\n",
            "\tIter 40/ 50 - Loss: 0.343\n",
            "\tIter 50/ 50 - Loss: 0.341\n"
          ]
        },
        {
          "name": "stderr",
          "output_type": "stream",
          "text": [
            "\n",
            "371it [16:47,  3.15s/it]\u001b[A"
          ]
        },
        {
          "name": "stdout",
          "output_type": "stream",
          "text": [
            "\tIter 10/ 50 - Loss: 0.361\n",
            "\tIter 20/ 50 - Loss: 0.353\n",
            "\tIter 30/ 50 - Loss: 0.349\n",
            "\tIter 40/ 50 - Loss: 0.345\n",
            "\tIter 50/ 50 - Loss: 0.343\n"
          ]
        },
        {
          "name": "stderr",
          "output_type": "stream",
          "text": [
            "\n",
            "372it [16:50,  3.15s/it]\u001b[A"
          ]
        },
        {
          "name": "stdout",
          "output_type": "stream",
          "text": [
            "\tIter 10/ 50 - Loss: 0.368\n",
            "\tIter 20/ 50 - Loss: 0.358\n",
            "\tIter 30/ 50 - Loss: 0.353\n",
            "\tIter 40/ 50 - Loss: 0.349\n",
            "\tIter 50/ 50 - Loss: 0.346\n"
          ]
        },
        {
          "name": "stderr",
          "output_type": "stream",
          "text": [
            "\n",
            "373it [16:53,  3.16s/it]\u001b[A"
          ]
        },
        {
          "name": "stdout",
          "output_type": "stream",
          "text": [
            "\tIter 10/ 50 - Loss: 0.351\n",
            "\tIter 20/ 50 - Loss: 0.347\n",
            "\tIter 30/ 50 - Loss: 0.344\n",
            "\tIter 40/ 50 - Loss: 0.342\n",
            "\tIter 50/ 50 - Loss: 0.34\n"
          ]
        },
        {
          "name": "stderr",
          "output_type": "stream",
          "text": [
            "\n",
            "374it [16:56,  3.14s/it]\u001b[A"
          ]
        },
        {
          "name": "stdout",
          "output_type": "stream",
          "text": [
            "\tIter 10/ 50 - Loss: 0.346\n",
            "\tIter 20/ 50 - Loss: 0.343\n",
            "\tIter 30/ 50 - Loss: 0.342\n",
            "\tIter 40/ 50 - Loss: 0.34\n",
            "\tIter 50/ 50 - Loss: 0.339\n"
          ]
        },
        {
          "name": "stderr",
          "output_type": "stream",
          "text": [
            "\n",
            "375it [16:59,  2.72s/it]\n",
            "  1%|          | 1/94 [19:53<30:50:34, 1193.92s/it]"
          ]
        },
        {
          "name": "stdout",
          "output_type": "stream",
          "text": [
            "Iter 10/512 - Loss: 0.713\n",
            "Iter 20/512 - Loss: 0.629\n",
            "Iter 30/512 - Loss: 0.561\n",
            "Iter 40/512 - Loss: 0.505\n",
            "Iter 50/512 - Loss: 0.458\n",
            "Iter 60/512 - Loss: 0.419\n",
            "Iter 70/512 - Loss: 0.385\n",
            "Iter 80/512 - Loss: 0.359\n",
            "Iter 90/512 - Loss: 0.338\n",
            "Iter 100/512 - Loss: 0.325\n",
            "Iter 110/512 - Loss: 0.314\n",
            "Iter 120/512 - Loss: 0.307\n",
            "Iter 130/512 - Loss: 0.3\n",
            "Iter 140/512 - Loss: 0.295\n",
            "Iter 150/512 - Loss: 0.291\n",
            "Iter 160/512 - Loss: 0.287\n",
            "Iter 170/512 - Loss: 0.287\n",
            "Iter 180/512 - Loss: 0.283\n",
            "Iter 190/512 - Loss: 0.279\n",
            "Iter 200/512 - Loss: 0.281\n",
            "Iter 210/512 - Loss: 0.276\n",
            "Iter 220/512 - Loss: 0.273\n",
            "Iter 230/512 - Loss: 0.273\n",
            "Iter 240/512 - Loss: 0.273\n",
            "Iter 250/512 - Loss: 0.27\n",
            "Iter 260/512 - Loss: 0.268\n",
            "Iter 270/512 - Loss: 0.268\n",
            "Iter 280/512 - Loss: 0.266\n",
            "Iter 290/512 - Loss: 0.267\n",
            "Iter 300/512 - Loss: 0.264\n",
            "Iter 310/512 - Loss: 0.263\n",
            "Iter 320/512 - Loss: 0.26\n",
            "Iter 330/512 - Loss: 0.259\n",
            "Iter 340/512 - Loss: 0.261\n",
            "Iter 350/512 - Loss: 0.259\n",
            "Iter 360/512 - Loss: 0.256\n",
            "Iter 370/512 - Loss: 0.255\n",
            "Iter 380/512 - Loss: 0.254\n",
            "Iter 390/512 - Loss: 0.263\n",
            "Iter 400/512 - Loss: 0.255\n",
            "Iter 410/512 - Loss: 0.252\n",
            "Iter 420/512 - Loss: 0.253\n",
            "Iter 430/512 - Loss: 0.251\n",
            "Iter 440/512 - Loss: 0.251\n",
            "Iter 450/512 - Loss: 0.251\n",
            "Iter 460/512 - Loss: 0.253\n",
            "Iter 470/512 - Loss: 0.249\n",
            "Iter 480/512 - Loss: 0.248\n",
            "Iter 490/512 - Loss: 0.247\n",
            "Iter 500/512 - Loss: 0.246\n",
            "Iter 510/512 - Loss: 0.248\n",
            "Iter 512/512 - Loss: 0.247\n"
          ]
        },
        {
          "name": "stderr",
          "output_type": "stream",
          "text": [
            "\n",
            "0it [00:00, ?it/s]\u001b[A\n",
            "1it [00:00,  3.02it/s]\u001b[A\n",
            "2it [00:00,  3.09it/s]\u001b[A\n",
            "3it [00:00,  3.08it/s]\u001b[A\n",
            "4it [00:01,  3.01it/s]\u001b[A\n",
            "5it [00:01,  3.01it/s]\u001b[A\n",
            "6it [00:02,  2.95it/s]\u001b[A\n",
            "7it [00:02,  2.98it/s]\u001b[A\n",
            "8it [00:02,  2.91it/s]\u001b[A\n",
            "9it [00:03,  2.93it/s]\u001b[A\n",
            "10it [00:03,  2.93it/s]\u001b[A\n",
            "11it [00:03,  2.89it/s]\u001b[A\n",
            "12it [00:04,  2.93it/s]\u001b[A\n",
            "13it [00:04,  2.55it/s]\u001b[A\n",
            "14it [00:04,  2.65it/s]\u001b[A\n",
            "15it [00:05,  2.76it/s]\u001b[A\n",
            "16it [00:05,  2.84it/s]\u001b[A\n",
            "17it [00:05,  2.92it/s]\u001b[A\n",
            "18it [00:06,  2.96it/s]\u001b[A\n",
            "19it [00:06,  2.97it/s]\u001b[A\n",
            "20it [00:06,  3.01it/s]\u001b[A\n",
            "21it [00:07,  2.97it/s]\u001b[A\n",
            "22it [00:07,  2.95it/s]\u001b[A\n",
            "23it [00:07,  2.95it/s]\u001b[A\n",
            "24it [00:08,  2.98it/s]\u001b[A\n",
            "25it [00:08,  3.00it/s]\u001b[A\n",
            "26it [00:08,  3.03it/s]\u001b[A\n",
            "27it [00:09,  3.05it/s]\u001b[A\n",
            "28it [00:09,  2.63it/s]\u001b[A\n",
            "29it [00:10,  2.73it/s]\u001b[A\n",
            "30it [00:10,  2.82it/s]\u001b[A\n",
            "31it [00:10,  2.88it/s]\u001b[A\n",
            "32it [00:11,  2.93it/s]\u001b[A\n",
            "33it [00:11,  2.95it/s]\u001b[A\n",
            "34it [00:11,  2.97it/s]\u001b[A\n",
            "35it [00:12,  2.97it/s]\u001b[A\n",
            "36it [00:12,  2.91it/s]\u001b[A\n",
            "37it [00:12,  2.90it/s]\u001b[A\n",
            "38it [00:13,  2.90it/s]\u001b[A\n",
            "39it [00:13,  2.87it/s]\u001b[A\n",
            "40it [00:13,  2.90it/s]\u001b[A\n",
            "41it [00:14,  2.91it/s]\u001b[A\n",
            "42it [00:14,  2.50it/s]\u001b[A\n",
            "43it [00:14,  2.61it/s]\u001b[A\n",
            "44it [00:15,  2.70it/s]\u001b[A\n",
            "45it [00:15,  2.76it/s]\u001b[A\n",
            "46it [00:16,  2.84it/s]\u001b[A\n",
            "47it [00:16,  2.87it/s]\u001b[A\n",
            "48it [00:16,  2.88it/s]\u001b[A\n",
            "49it [00:17,  2.92it/s]\u001b[A\n",
            "50it [00:17,  2.95it/s]\u001b[A\n",
            "51it [00:17,  2.98it/s]\u001b[A\n",
            "52it [00:18,  3.00it/s]\u001b[A\n",
            "53it [00:18,  3.01it/s]\u001b[A\n",
            "54it [00:18,  3.00it/s]\u001b[A\n",
            "55it [00:18,  3.01it/s]\u001b[A\n",
            "56it [00:19,  3.01it/s]\u001b[A\n",
            "57it [00:19,  2.98it/s]\u001b[A\n",
            "58it [00:20,  2.59it/s]\u001b[A\n",
            "59it [00:20,  2.70it/s]\u001b[A\n",
            "60it [00:20,  2.79it/s]\u001b[A\n",
            "61it [00:21,  2.81it/s]\u001b[A\n",
            "62it [00:21,  2.81it/s]\u001b[A\n",
            "63it [00:21,  2.87it/s]\u001b[A\n",
            "64it [00:22,  2.91it/s]\u001b[A\n",
            "65it [00:22,  2.88it/s]\u001b[A\n",
            "66it [00:22,  2.90it/s]\u001b[A\n",
            "67it [00:23,  2.95it/s]\u001b[A\n",
            "68it [00:23,  2.96it/s]\u001b[A\n",
            "69it [00:23,  2.97it/s]\u001b[A\n",
            "70it [00:24,  2.96it/s]\u001b[A\n",
            "71it [00:24,  2.98it/s]\u001b[A\n",
            "72it [00:24,  3.01it/s]\u001b[A\n",
            "73it [00:25,  2.59it/s]\u001b[A\n",
            "74it [00:25,  2.69it/s]\u001b[A\n",
            "75it [00:26,  2.79it/s]\u001b[A\n",
            "76it [00:26,  2.82it/s]\u001b[A\n",
            "77it [00:26,  2.86it/s]\u001b[A\n",
            "78it [00:27,  2.84it/s]\u001b[A\n",
            "79it [00:27,  2.83it/s]\u001b[A\n",
            "80it [00:27,  2.87it/s]\u001b[A\n",
            "81it [00:28,  2.89it/s]\u001b[A\n",
            "82it [00:28,  2.93it/s]\u001b[A\n",
            "83it [00:28,  2.97it/s]\u001b[A\n",
            "84it [00:29,  3.01it/s]\u001b[A\n",
            "85it [00:29,  3.02it/s]\u001b[A\n",
            "86it [00:29,  3.02it/s]\u001b[A\n",
            "87it [00:30,  2.61it/s]\u001b[A\n",
            "88it [00:30,  2.70it/s]\u001b[A\n",
            "89it [00:30,  2.81it/s]\u001b[A\n",
            "90it [00:31,  2.86it/s]\u001b[A\n",
            "91it [00:31,  2.92it/s]\u001b[A\n",
            "92it [00:31,  2.92it/s]\u001b[A\n",
            "93it [00:32,  2.94it/s]\u001b[A\n",
            "94it [00:32,  2.98it/s]\u001b[A\n",
            "95it [00:32,  2.99it/s]\u001b[A\n",
            "96it [00:33,  3.00it/s]\u001b[A\n",
            "97it [00:33,  3.01it/s]\u001b[A\n",
            "98it [00:33,  3.02it/s]\u001b[A\n",
            "99it [00:34,  3.05it/s]\u001b[A\n",
            "100it [00:34,  3.05it/s]\u001b[A\n",
            "101it [00:34,  3.04it/s]\u001b[A\n",
            "102it [00:35,  2.61it/s]\u001b[A\n",
            "103it [00:35,  2.72it/s]\u001b[A\n",
            "104it [00:36,  2.80it/s]\u001b[A\n",
            "105it [00:36,  2.86it/s]\u001b[A\n",
            "106it [00:36,  2.85it/s]\u001b[A\n",
            "107it [00:37,  2.86it/s]\u001b[A\n",
            "108it [00:37,  2.89it/s]\u001b[A\n",
            "109it [00:37,  2.90it/s]\u001b[A\n",
            "110it [00:38,  2.91it/s]\u001b[A\n",
            "111it [00:38,  2.92it/s]\u001b[A\n",
            "112it [00:38,  2.94it/s]\u001b[A\n",
            "113it [00:39,  2.94it/s]\u001b[A\n",
            "114it [00:39,  2.91it/s]\u001b[A\n",
            "115it [00:39,  2.92it/s]\u001b[A\n",
            "116it [00:40,  2.97it/s]\u001b[A\n",
            "117it [00:40,  2.59it/s]\u001b[A\n",
            "118it [00:41,  2.72it/s]\u001b[A\n",
            "119it [00:41,  2.82it/s]\u001b[A\n",
            "120it [00:41,  2.88it/s]\u001b[A\n",
            "121it [00:41,  2.92it/s]\u001b[A\n",
            "122it [00:42,  2.95it/s]\u001b[A\n",
            "123it [00:42,  2.94it/s]\u001b[A\n",
            "124it [00:42,  2.96it/s]\u001b[A\n",
            "125it [00:43,  2.97it/s]\u001b[A\n",
            "126it [00:43,  2.96it/s]\u001b[A\n",
            "127it [00:44,  2.95it/s]\u001b[A\n",
            "128it [00:44,  2.96it/s]\u001b[A\n",
            "129it [00:44,  2.96it/s]\u001b[A\n",
            "130it [00:45,  2.97it/s]\u001b[A\n",
            "131it [00:45,  2.98it/s]\u001b[A\n",
            "132it [00:45,  2.57it/s]\u001b[A\n",
            "133it [00:46,  2.69it/s]\u001b[A\n",
            "134it [00:46,  2.77it/s]\u001b[A\n",
            "135it [00:46,  2.85it/s]\u001b[A\n",
            "136it [00:47,  2.91it/s]\u001b[A\n",
            "137it [00:47,  2.94it/s]\u001b[A\n",
            "138it [00:47,  2.94it/s]\u001b[A\n",
            "139it [00:48,  2.96it/s]\u001b[A\n",
            "140it [00:48,  2.98it/s]\u001b[A\n",
            "141it [00:48,  2.97it/s]\u001b[A\n",
            "142it [00:49,  2.97it/s]\u001b[A\n",
            "143it [00:49,  2.95it/s]\u001b[A\n",
            "144it [00:49,  2.93it/s]\u001b[A\n",
            "145it [00:50,  2.90it/s]\u001b[A\n",
            "146it [00:50,  2.50it/s]\u001b[A\n",
            "147it [00:51,  2.59it/s]\u001b[A\n",
            "148it [00:51,  2.64it/s]\u001b[A\n",
            "149it [00:51,  2.74it/s]\u001b[A\n",
            "150it [00:52,  2.81it/s]\u001b[A\n",
            "151it [00:52,  2.88it/s]\u001b[A\n",
            "152it [00:52,  2.88it/s]\u001b[A\n",
            "153it [00:53,  2.90it/s]\u001b[A\n",
            "154it [00:53,  2.94it/s]\u001b[A\n",
            "155it [00:53,  2.94it/s]\u001b[A\n",
            "156it [00:54,  2.97it/s]\u001b[A\n",
            "157it [00:54,  3.00it/s]\u001b[A\n",
            "158it [00:54,  2.95it/s]\u001b[A\n",
            "159it [00:55,  2.97it/s]\u001b[A\n",
            "160it [00:55,  3.00it/s]\u001b[A\n",
            "161it [00:56,  2.59it/s]\u001b[A\n",
            "162it [00:56,  2.68it/s]\u001b[A\n",
            "163it [00:56,  2.74it/s]\u001b[A\n",
            "164it [00:57,  2.81it/s]\u001b[A\n",
            "165it [00:57,  2.86it/s]\u001b[A\n",
            "166it [00:57,  2.88it/s]\u001b[A\n",
            "167it [00:58,  2.93it/s]\u001b[A\n",
            "168it [00:58,  2.96it/s]\u001b[A\n",
            "169it [00:58,  2.95it/s]\u001b[A\n",
            "170it [00:59,  2.96it/s]\u001b[A\n",
            "171it [00:59,  2.96it/s]\u001b[A\n",
            "172it [00:59,  2.95it/s]\u001b[A\n",
            "173it [01:00,  2.96it/s]\u001b[A\n",
            "174it [01:00,  2.94it/s]\u001b[A\n",
            "175it [01:00,  2.50it/s]\u001b[A\n",
            "176it [01:01,  2.58it/s]\u001b[A\n",
            "177it [01:01,  2.61it/s]\u001b[A\n",
            "178it [01:02,  2.67it/s]\u001b[A\n",
            "179it [01:02,  2.70it/s]\u001b[A\n",
            "180it [01:02,  2.76it/s]\u001b[A\n",
            "181it [01:03,  2.73it/s]\u001b[A\n",
            "182it [01:03,  2.76it/s]\u001b[A\n",
            "183it [01:03,  2.77it/s]\u001b[A\n",
            "184it [01:04,  2.82it/s]\u001b[A\n",
            "185it [01:04,  2.88it/s]\u001b[A\n",
            "186it [01:04,  2.88it/s]\u001b[A\n",
            "187it [01:05,  2.89it/s]\u001b[A\n",
            "188it [01:05,  2.89it/s]\u001b[A\n",
            "189it [01:05,  2.86it/s]\u001b[A\n",
            "190it [01:06,  2.89it/s]\u001b[A\n",
            "191it [01:06,  2.49it/s]\u001b[A\n",
            "192it [01:07,  2.61it/s]\u001b[A\n",
            "193it [01:07,  2.68it/s]\u001b[A\n",
            "194it [01:07,  2.70it/s]\u001b[A\n",
            "195it [01:08,  2.74it/s]\u001b[A\n",
            "196it [01:08,  2.77it/s]\u001b[A\n",
            "197it [01:08,  2.81it/s]\u001b[A\n",
            "198it [01:09,  2.85it/s]\u001b[A\n",
            "199it [01:09,  2.83it/s]\u001b[A\n",
            "200it [01:09,  2.84it/s]\u001b[A\n",
            "201it [01:10,  2.87it/s]\u001b[A\n",
            "202it [01:10,  2.88it/s]\u001b[A\n",
            "203it [01:10,  2.89it/s]\u001b[A\n",
            "204it [01:11,  2.89it/s]\u001b[A\n",
            "205it [01:11,  2.48it/s]\u001b[A\n",
            "206it [01:12,  2.58it/s]\u001b[A\n",
            "207it [01:12,  2.63it/s]\u001b[A\n",
            "208it [01:12,  2.69it/s]\u001b[A\n",
            "209it [01:13,  2.74it/s]\u001b[A\n",
            "210it [01:13,  2.73it/s]\u001b[A\n",
            "211it [01:13,  2.74it/s]\u001b[A\n",
            "212it [01:14,  2.75it/s]\u001b[A\n",
            "213it [01:14,  2.77it/s]\u001b[A\n",
            "214it [01:15,  2.79it/s]\u001b[A\n",
            "215it [01:15,  2.77it/s]\u001b[A\n",
            "216it [01:15,  2.78it/s]\u001b[A\n",
            "217it [01:16,  2.83it/s]\u001b[A\n",
            "218it [01:16,  2.83it/s]\u001b[A\n",
            "219it [01:16,  2.85it/s]\u001b[A\n",
            "220it [01:17,  2.50it/s]\u001b[A\n",
            "221it [01:17,  2.61it/s]\u001b[A\n",
            "222it [01:17,  2.69it/s]\u001b[A\n",
            "223it [01:18,  2.77it/s]\u001b[A\n",
            "224it [01:18,  2.77it/s]\u001b[A\n",
            "225it [01:19,  2.81it/s]\u001b[A\n",
            "226it [01:19,  2.84it/s]\u001b[A\n",
            "227it [01:19,  2.83it/s]\u001b[A\n",
            "228it [01:20,  2.86it/s]\u001b[A\n",
            "229it [01:20,  2.88it/s]\u001b[A\n",
            "230it [01:20,  2.86it/s]\u001b[A\n",
            "231it [01:21,  2.90it/s]\u001b[A\n",
            "232it [01:21,  2.91it/s]\u001b[A\n",
            "233it [01:21,  2.90it/s]\u001b[A\n",
            "234it [01:22,  2.51it/s]\u001b[A\n",
            "235it [01:22,  2.61it/s]\u001b[A\n",
            "236it [01:22,  2.71it/s]\u001b[A\n",
            "237it [01:23,  2.71it/s]\u001b[A\n",
            "238it [01:23,  2.75it/s]\u001b[A\n",
            "239it [01:24,  2.78it/s]\u001b[A\n",
            "240it [01:24,  2.81it/s]\u001b[A\n",
            "241it [01:24,  2.77it/s]\u001b[A\n",
            "242it [01:25,  2.81it/s]\u001b[A\n",
            "243it [01:25,  2.82it/s]\u001b[A\n",
            "244it [01:25,  2.77it/s]\u001b[A\n",
            "245it [01:26,  2.78it/s]\u001b[A\n",
            "246it [01:26,  2.77it/s]\u001b[A\n",
            "247it [01:26,  2.79it/s]\u001b[A\n",
            "248it [01:27,  2.75it/s]\u001b[A\n",
            "249it [01:27,  2.38it/s]\u001b[A\n",
            "250it [01:28,  2.49it/s]\u001b[A\n",
            "251it [01:28,  2.60it/s]\u001b[A\n",
            "252it [01:28,  2.68it/s]\u001b[A\n",
            "253it [01:29,  2.73it/s]\u001b[A\n",
            "254it [01:29,  2.77it/s]\u001b[A\n",
            "255it [01:29,  2.77it/s]\u001b[A\n",
            "256it [01:30,  2.80it/s]\u001b[A\n",
            "257it [01:30,  2.80it/s]\u001b[A\n",
            "258it [01:31,  2.81it/s]\u001b[A\n",
            "259it [01:31,  2.81it/s]\u001b[A\n",
            "260it [01:31,  2.81it/s]\u001b[A\n",
            "261it [01:32,  2.82it/s]\u001b[A\n",
            "262it [01:32,  2.84it/s]\u001b[A\n",
            "263it [01:32,  2.81it/s]\u001b[A\n",
            "264it [01:33,  2.85it/s]\u001b[A\n",
            "265it [01:33,  2.48it/s]\u001b[A\n",
            "266it [01:34,  2.59it/s]\u001b[A\n",
            "267it [01:34,  2.67it/s]\u001b[A\n",
            "268it [01:34,  2.73it/s]\u001b[A\n",
            "269it [01:35,  2.75it/s]\u001b[A\n",
            "270it [01:35,  2.78it/s]\u001b[A\n",
            "271it [01:35,  2.78it/s]\u001b[A\n",
            "272it [01:36,  2.81it/s]\u001b[A\n",
            "273it [01:36,  2.81it/s]\u001b[A\n",
            "274it [01:36,  2.84it/s]\u001b[A\n",
            "275it [01:37,  2.87it/s]\u001b[A\n",
            "276it [01:37,  2.89it/s]\u001b[A\n",
            "277it [01:37,  2.84it/s]\u001b[A\n",
            "278it [01:38,  2.84it/s]\u001b[A\n",
            "279it [01:38,  2.44it/s]\u001b[A\n",
            "280it [01:39,  2.55it/s]\u001b[A\n",
            "281it [01:39,  2.58it/s]\u001b[A\n",
            "282it [01:39,  2.64it/s]\u001b[A\n",
            "283it [01:40,  2.71it/s]\u001b[A\n",
            "284it [01:40,  2.77it/s]\u001b[A\n",
            "285it [01:40,  2.81it/s]\u001b[A\n",
            "286it [01:41,  2.84it/s]\u001b[A\n",
            "287it [01:41,  2.85it/s]\u001b[A\n",
            "288it [01:41,  2.87it/s]\u001b[A\n",
            "289it [01:42,  2.84it/s]\u001b[A\n",
            "290it [01:42,  2.80it/s]\u001b[A\n",
            "291it [01:42,  2.81it/s]\u001b[A\n",
            "292it [01:43,  2.83it/s]\u001b[A\n",
            "293it [01:43,  2.84it/s]\u001b[A\n",
            "294it [01:44,  2.47it/s]\u001b[A\n",
            "295it [01:44,  2.60it/s]\u001b[A\n",
            "296it [01:44,  2.68it/s]\u001b[A\n",
            "297it [01:45,  2.74it/s]\u001b[A\n",
            "298it [01:45,  2.77it/s]\u001b[A\n",
            "299it [01:45,  2.81it/s]\u001b[A\n",
            "300it [01:46,  2.84it/s]\u001b[A\n",
            "301it [01:46,  2.85it/s]\u001b[A\n",
            "302it [01:46,  2.84it/s]\u001b[A\n",
            "303it [01:47,  2.87it/s]\u001b[A\n",
            "304it [01:47,  2.89it/s]\u001b[A\n",
            "305it [01:48,  2.86it/s]\u001b[A\n",
            "306it [01:48,  2.89it/s]\u001b[A\n",
            "307it [01:48,  2.91it/s]\u001b[A\n",
            "308it [01:49,  2.90it/s]\u001b[A\n",
            "309it [01:49,  2.44it/s]\u001b[A\n",
            "310it [01:49,  2.53it/s]\u001b[A\n",
            "311it [01:50,  2.60it/s]\u001b[A\n",
            "312it [01:50,  2.61it/s]\u001b[A\n",
            "313it [01:51,  2.61it/s]\u001b[A\n",
            "314it [01:51,  2.67it/s]\u001b[A\n",
            "315it [01:51,  2.71it/s]\u001b[A\n",
            "316it [01:52,  2.75it/s]\u001b[A\n",
            "317it [01:52,  2.79it/s]\u001b[A\n",
            "318it [01:52,  2.81it/s]\u001b[A\n",
            "319it [01:53,  2.81it/s]\u001b[A\n",
            "320it [01:53,  2.79it/s]\u001b[A\n",
            "321it [01:53,  2.83it/s]\u001b[A\n",
            "322it [01:54,  2.84it/s]\u001b[A\n",
            "323it [01:54,  2.83it/s]\u001b[A\n",
            "324it [01:55,  2.47it/s]\u001b[A\n",
            "325it [01:55,  2.59it/s]\u001b[A\n",
            "326it [01:55,  2.66it/s]\u001b[A\n",
            "327it [01:56,  2.71it/s]\u001b[A\n",
            "328it [01:56,  2.77it/s]\u001b[A\n",
            "329it [01:56,  2.83it/s]\u001b[A\n",
            "330it [01:57,  2.86it/s]\u001b[A\n",
            "331it [01:57,  2.89it/s]\u001b[A\n",
            "332it [01:57,  2.91it/s]\u001b[A\n",
            "333it [01:58,  2.94it/s]\u001b[A\n",
            "334it [01:58,  2.94it/s]\u001b[A\n",
            "335it [01:58,  2.94it/s]\u001b[A\n",
            "336it [01:59,  2.97it/s]\u001b[A\n",
            "337it [01:59,  2.96it/s]\u001b[A\n",
            "338it [01:59,  2.96it/s]\u001b[A\n",
            "339it [02:00,  2.52it/s]\u001b[A\n",
            "340it [02:00,  2.62it/s]\u001b[A\n",
            "341it [02:01,  2.68it/s]\u001b[A\n",
            "342it [02:01,  2.76it/s]\u001b[A\n",
            "343it [02:01,  2.77it/s]\u001b[A\n",
            "344it [02:02,  2.81it/s]\u001b[A\n",
            "345it [02:02,  2.82it/s]\u001b[A\n",
            "346it [02:02,  2.83it/s]\u001b[A\n",
            "347it [02:03,  2.83it/s]\u001b[A\n",
            "348it [02:03,  2.84it/s]\u001b[A\n",
            "349it [02:03,  2.82it/s]\u001b[A\n",
            "350it [02:04,  2.86it/s]\u001b[A\n",
            "351it [02:04,  2.88it/s]\u001b[A\n",
            "352it [02:04,  2.91it/s]\u001b[A\n",
            "353it [02:05,  2.93it/s]\u001b[A\n",
            "354it [02:05,  2.51it/s]\u001b[A\n",
            "355it [02:06,  2.63it/s]\u001b[A\n",
            "356it [02:06,  2.74it/s]\u001b[A\n",
            "357it [02:06,  2.79it/s]\u001b[A\n",
            "358it [02:07,  2.87it/s]\u001b[A\n",
            "359it [02:07,  2.90it/s]\u001b[A\n",
            "360it [02:07,  2.91it/s]\u001b[A\n",
            "361it [02:08,  2.92it/s]\u001b[A\n",
            "362it [02:08,  2.92it/s]\u001b[A\n",
            "363it [02:08,  2.94it/s]\u001b[A\n",
            "364it [02:09,  2.97it/s]\u001b[A\n",
            "365it [02:09,  2.98it/s]\u001b[A\n",
            "366it [02:09,  2.99it/s]\u001b[A\n",
            "367it [02:10,  2.99it/s]\u001b[A\n",
            "368it [02:10,  3.02it/s]\u001b[A\n",
            "369it [02:11,  2.58it/s]\u001b[A\n",
            "370it [02:11,  2.69it/s]\u001b[A\n",
            "371it [02:11,  2.76it/s]\u001b[A\n",
            "372it [02:12,  2.85it/s]\u001b[A\n",
            "373it [02:12,  2.86it/s]\u001b[A\n",
            "374it [02:12,  2.88it/s]\u001b[A\n",
            "375it [02:13,  2.82it/s]\n",
            "\n",
            "0it [00:00, ?it/s]\u001b[A"
          ]
        },
        {
          "name": "stdout",
          "output_type": "stream",
          "text": [
            "\tIter 10/ 50 - Loss: 0.31\n",
            "\tIter 20/ 50 - Loss: 0.273\n",
            "\tIter 30/ 50 - Loss: 0.259\n",
            "\tIter 40/ 50 - Loss: 0.252\n",
            "\tIter 50/ 50 - Loss: 0.249\n"
          ]
        },
        {
          "name": "stderr",
          "output_type": "stream",
          "text": [
            "\n",
            "1it [00:02,  2.54s/it]\u001b[A"
          ]
        },
        {
          "name": "stdout",
          "output_type": "stream",
          "text": [
            "\tIter 10/ 50 - Loss: 0.278\n",
            "\tIter 20/ 50 - Loss: 0.263\n",
            "\tIter 30/ 50 - Loss: 0.258\n",
            "\tIter 40/ 50 - Loss: 0.255\n",
            "\tIter 50/ 50 - Loss: 0.255\n"
          ]
        },
        {
          "name": "stderr",
          "output_type": "stream",
          "text": [
            "\n",
            "2it [00:04,  2.44s/it]\u001b[A"
          ]
        },
        {
          "name": "stdout",
          "output_type": "stream",
          "text": [
            "\tIter 10/ 50 - Loss: 0.276\n",
            "\tIter 20/ 50 - Loss: 0.261\n",
            "\tIter 30/ 50 - Loss: 0.256\n",
            "\tIter 40/ 50 - Loss: 0.254\n",
            "\tIter 50/ 50 - Loss: 0.253\n"
          ]
        },
        {
          "name": "stderr",
          "output_type": "stream",
          "text": [
            "\n",
            "3it [00:07,  2.42s/it]\u001b[A"
          ]
        },
        {
          "name": "stdout",
          "output_type": "stream",
          "text": [
            "\tIter 10/ 50 - Loss: 0.283\n",
            "\tIter 20/ 50 - Loss: 0.275\n",
            "\tIter 30/ 50 - Loss: 0.272\n",
            "\tIter 40/ 50 - Loss: 0.271\n",
            "\tIter 50/ 50 - Loss: 0.271\n"
          ]
        },
        {
          "name": "stderr",
          "output_type": "stream",
          "text": [
            "\n",
            "4it [00:09,  2.52s/it]\u001b[A"
          ]
        },
        {
          "name": "stdout",
          "output_type": "stream",
          "text": [
            "\tIter 10/ 50 - Loss: 0.298\n",
            "\tIter 20/ 50 - Loss: 0.282\n",
            "\tIter 30/ 50 - Loss: 0.275\n",
            "\tIter 40/ 50 - Loss: 0.271\n",
            "\tIter 50/ 50 - Loss: 0.269\n"
          ]
        },
        {
          "name": "stderr",
          "output_type": "stream",
          "text": [
            "\n",
            "5it [00:12,  2.53s/it]\u001b[A"
          ]
        },
        {
          "name": "stdout",
          "output_type": "stream",
          "text": [
            "\tIter 10/ 50 - Loss: 0.307\n",
            "\tIter 20/ 50 - Loss: 0.286\n",
            "\tIter 30/ 50 - Loss: 0.277\n",
            "\tIter 40/ 50 - Loss: 0.271\n",
            "\tIter 50/ 50 - Loss: 0.267\n"
          ]
        },
        {
          "name": "stderr",
          "output_type": "stream",
          "text": [
            "\n",
            "6it [00:15,  2.56s/it]\u001b[A"
          ]
        },
        {
          "name": "stdout",
          "output_type": "stream",
          "text": [
            "\tIter 10/ 50 - Loss: 0.3\n",
            "\tIter 20/ 50 - Loss: 0.276\n",
            "\tIter 30/ 50 - Loss: 0.267\n",
            "\tIter 40/ 50 - Loss: 0.263\n",
            "\tIter 50/ 50 - Loss: 0.262\n"
          ]
        },
        {
          "name": "stderr",
          "output_type": "stream",
          "text": [
            "\n",
            "7it [00:17,  2.54s/it]\u001b[A"
          ]
        },
        {
          "name": "stdout",
          "output_type": "stream",
          "text": [
            "\tIter 10/ 50 - Loss: 0.309\n",
            "\tIter 20/ 50 - Loss: 0.281\n",
            "\tIter 30/ 50 - Loss: 0.27\n",
            "\tIter 40/ 50 - Loss: 0.265\n",
            "\tIter 50/ 50 - Loss: 0.263\n"
          ]
        },
        {
          "name": "stderr",
          "output_type": "stream",
          "text": [
            "\n",
            "8it [00:20,  2.52s/it]\u001b[A"
          ]
        },
        {
          "name": "stdout",
          "output_type": "stream",
          "text": [
            "\tIter 10/ 50 - Loss: 0.283\n",
            "\tIter 20/ 50 - Loss: 0.271\n",
            "\tIter 30/ 50 - Loss: 0.266\n",
            "\tIter 40/ 50 - Loss: 0.264\n",
            "\tIter 50/ 50 - Loss: 0.264\n"
          ]
        },
        {
          "name": "stderr",
          "output_type": "stream",
          "text": [
            "\n",
            "9it [00:22,  2.52s/it]\u001b[A"
          ]
        },
        {
          "name": "stdout",
          "output_type": "stream",
          "text": [
            "\tIter 10/ 50 - Loss: 0.286\n",
            "\tIter 20/ 50 - Loss: 0.274\n",
            "\tIter 30/ 50 - Loss: 0.27\n",
            "\tIter 40/ 50 - Loss: 0.269\n",
            "\tIter 50/ 50 - Loss: 0.269\n"
          ]
        },
        {
          "name": "stderr",
          "output_type": "stream",
          "text": [
            "\n",
            "10it [00:25,  2.54s/it]\u001b[A"
          ]
        },
        {
          "name": "stdout",
          "output_type": "stream",
          "text": [
            "\tIter 10/ 50 - Loss: 0.335\n",
            "\tIter 20/ 50 - Loss: 0.295\n",
            "\tIter 30/ 50 - Loss: 0.28\n",
            "\tIter 40/ 50 - Loss: 0.272\n",
            "\tIter 50/ 50 - Loss: 0.268\n"
          ]
        },
        {
          "name": "stderr",
          "output_type": "stream",
          "text": [
            "\n",
            "11it [00:28,  2.62s/it]\u001b[A"
          ]
        },
        {
          "name": "stdout",
          "output_type": "stream",
          "text": [
            "\tIter 10/ 50 - Loss: 0.287\n",
            "\tIter 20/ 50 - Loss: 0.275\n",
            "\tIter 30/ 50 - Loss: 0.271\n",
            "\tIter 40/ 50 - Loss: 0.269\n",
            "\tIter 50/ 50 - Loss: 0.268\n"
          ]
        },
        {
          "name": "stderr",
          "output_type": "stream",
          "text": [
            "\n",
            "12it [00:30,  2.59s/it]\u001b[A"
          ]
        },
        {
          "name": "stdout",
          "output_type": "stream",
          "text": [
            "\tIter 10/ 50 - Loss: 0.285\n",
            "\tIter 20/ 50 - Loss: 0.269\n",
            "\tIter 30/ 50 - Loss: 0.265\n",
            "\tIter 40/ 50 - Loss: 0.263\n",
            "\tIter 50/ 50 - Loss: 0.262\n"
          ]
        },
        {
          "name": "stderr",
          "output_type": "stream",
          "text": [
            "\n",
            "13it [00:33,  2.56s/it]\u001b[A"
          ]
        },
        {
          "name": "stdout",
          "output_type": "stream",
          "text": [
            "\tIter 10/ 50 - Loss: 0.292\n",
            "\tIter 20/ 50 - Loss: 0.276\n",
            "\tIter 30/ 50 - Loss: 0.27\n",
            "\tIter 40/ 50 - Loss: 0.268\n",
            "\tIter 50/ 50 - Loss: 0.266\n"
          ]
        },
        {
          "name": "stderr",
          "output_type": "stream",
          "text": [
            "\n",
            "14it [00:35,  2.53s/it]\u001b[A"
          ]
        },
        {
          "name": "stdout",
          "output_type": "stream",
          "text": [
            "\tIter 10/ 50 - Loss: 0.305\n",
            "\tIter 20/ 50 - Loss: 0.281\n",
            "\tIter 30/ 50 - Loss: 0.272\n",
            "\tIter 40/ 50 - Loss: 0.268\n",
            "\tIter 50/ 50 - Loss: 0.266\n"
          ]
        },
        {
          "name": "stderr",
          "output_type": "stream",
          "text": [
            "\n",
            "15it [00:38,  2.55s/it]\u001b[A"
          ]
        },
        {
          "name": "stdout",
          "output_type": "stream",
          "text": [
            "\tIter 10/ 50 - Loss: 0.334\n",
            "\tIter 20/ 50 - Loss: 0.299\n",
            "\tIter 30/ 50 - Loss: 0.285\n",
            "\tIter 40/ 50 - Loss: 0.277\n",
            "\tIter 50/ 50 - Loss: 0.272\n"
          ]
        },
        {
          "name": "stderr",
          "output_type": "stream",
          "text": [
            "\n",
            "16it [00:40,  2.55s/it]\u001b[A"
          ]
        },
        {
          "name": "stdout",
          "output_type": "stream",
          "text": [
            "\tIter 10/ 50 - Loss: 0.305\n",
            "\tIter 20/ 50 - Loss: 0.285\n",
            "\tIter 30/ 50 - Loss: 0.276\n",
            "\tIter 40/ 50 - Loss: 0.271\n",
            "\tIter 50/ 50 - Loss: 0.268\n"
          ]
        },
        {
          "name": "stderr",
          "output_type": "stream",
          "text": [
            "\n",
            "17it [00:43,  2.54s/it]\u001b[A"
          ]
        },
        {
          "name": "stdout",
          "output_type": "stream",
          "text": [
            "\tIter 10/ 50 - Loss: 0.286\n",
            "\tIter 20/ 50 - Loss: 0.275\n",
            "\tIter 30/ 50 - Loss: 0.271\n",
            "\tIter 40/ 50 - Loss: 0.269\n",
            "\tIter 50/ 50 - Loss: 0.268\n"
          ]
        },
        {
          "name": "stderr",
          "output_type": "stream",
          "text": [
            "\n",
            "18it [00:45,  2.55s/it]\u001b[A"
          ]
        },
        {
          "name": "stdout",
          "output_type": "stream",
          "text": [
            "\tIter 10/ 50 - Loss: 0.298\n",
            "\tIter 20/ 50 - Loss: 0.287\n",
            "\tIter 30/ 50 - Loss: 0.281\n",
            "\tIter 40/ 50 - Loss: 0.277\n",
            "\tIter 50/ 50 - Loss: 0.274\n"
          ]
        },
        {
          "name": "stderr",
          "output_type": "stream",
          "text": [
            "\n",
            "19it [00:48,  2.61s/it]\u001b[A"
          ]
        },
        {
          "name": "stdout",
          "output_type": "stream",
          "text": [
            "\tIter 10/ 50 - Loss: 0.339\n",
            "\tIter 20/ 50 - Loss: 0.304\n",
            "\tIter 30/ 50 - Loss: 0.291\n",
            "\tIter 40/ 50 - Loss: 0.284\n",
            "\tIter 50/ 50 - Loss: 0.28\n"
          ]
        },
        {
          "name": "stderr",
          "output_type": "stream",
          "text": [
            "\n",
            "20it [00:51,  2.61s/it]\u001b[A"
          ]
        },
        {
          "name": "stdout",
          "output_type": "stream",
          "text": [
            "\tIter 10/ 50 - Loss: 0.301\n",
            "\tIter 20/ 50 - Loss: 0.29\n",
            "\tIter 30/ 50 - Loss: 0.283\n",
            "\tIter 40/ 50 - Loss: 0.279\n",
            "\tIter 50/ 50 - Loss: 0.277\n"
          ]
        },
        {
          "name": "stderr",
          "output_type": "stream",
          "text": [
            "\n",
            "21it [00:53,  2.58s/it]\u001b[A"
          ]
        },
        {
          "name": "stdout",
          "output_type": "stream",
          "text": [
            "\tIter 10/ 50 - Loss: 0.311\n",
            "\tIter 20/ 50 - Loss: 0.295\n",
            "\tIter 30/ 50 - Loss: 0.288\n",
            "\tIter 40/ 50 - Loss: 0.284\n",
            "\tIter 50/ 50 - Loss: 0.282\n"
          ]
        },
        {
          "name": "stderr",
          "output_type": "stream",
          "text": [
            "\n",
            "22it [00:56,  2.56s/it]\u001b[A"
          ]
        },
        {
          "name": "stdout",
          "output_type": "stream",
          "text": [
            "\tIter 10/ 50 - Loss: 0.312\n",
            "\tIter 20/ 50 - Loss: 0.295\n",
            "\tIter 30/ 50 - Loss: 0.287\n",
            "\tIter 40/ 50 - Loss: 0.283\n",
            "\tIter 50/ 50 - Loss: 0.281\n"
          ]
        },
        {
          "name": "stderr",
          "output_type": "stream",
          "text": [
            "\n",
            "23it [00:58,  2.52s/it]\u001b[A"
          ]
        },
        {
          "name": "stdout",
          "output_type": "stream",
          "text": [
            "\tIter 10/ 50 - Loss: 0.31\n",
            "\tIter 20/ 50 - Loss: 0.295\n",
            "\tIter 30/ 50 - Loss: 0.287\n",
            "\tIter 40/ 50 - Loss: 0.284\n",
            "\tIter 50/ 50 - Loss: 0.281\n"
          ]
        },
        {
          "name": "stderr",
          "output_type": "stream",
          "text": [
            "\n",
            "24it [01:01,  2.52s/it]\u001b[A"
          ]
        },
        {
          "name": "stdout",
          "output_type": "stream",
          "text": [
            "\tIter 10/ 50 - Loss: 0.338\n",
            "\tIter 20/ 50 - Loss: 0.313\n",
            "\tIter 30/ 50 - Loss: 0.3\n",
            "\tIter 40/ 50 - Loss: 0.292\n",
            "\tIter 50/ 50 - Loss: 0.287\n"
          ]
        },
        {
          "name": "stderr",
          "output_type": "stream",
          "text": [
            "\n",
            "25it [01:03,  2.51s/it]\u001b[A"
          ]
        },
        {
          "name": "stdout",
          "output_type": "stream",
          "text": [
            "\tIter 10/ 50 - Loss: 0.39\n",
            "\tIter 20/ 50 - Loss: 0.34\n",
            "\tIter 30/ 50 - Loss: 0.314\n",
            "\tIter 40/ 50 - Loss: 0.3\n",
            "\tIter 50/ 50 - Loss: 0.292\n"
          ]
        },
        {
          "name": "stderr",
          "output_type": "stream",
          "text": [
            "\n",
            "26it [01:05,  2.47s/it]\u001b[A"
          ]
        },
        {
          "name": "stdout",
          "output_type": "stream",
          "text": [
            "\tIter 10/ 50 - Loss: 0.338\n",
            "\tIter 20/ 50 - Loss: 0.312\n",
            "\tIter 30/ 50 - Loss: 0.299\n",
            "\tIter 40/ 50 - Loss: 0.292\n",
            "\tIter 50/ 50 - Loss: 0.288\n"
          ]
        },
        {
          "name": "stderr",
          "output_type": "stream",
          "text": [
            "\n",
            "27it [01:08,  2.52s/it]\u001b[A"
          ]
        },
        {
          "name": "stdout",
          "output_type": "stream",
          "text": [
            "\tIter 10/ 50 - Loss: 0.313\n",
            "\tIter 20/ 50 - Loss: 0.294\n",
            "\tIter 30/ 50 - Loss: 0.285\n",
            "\tIter 40/ 50 - Loss: 0.281\n",
            "\tIter 50/ 50 - Loss: 0.279\n"
          ]
        },
        {
          "name": "stderr",
          "output_type": "stream",
          "text": [
            "\n",
            "28it [01:10,  2.49s/it]\u001b[A"
          ]
        },
        {
          "name": "stdout",
          "output_type": "stream",
          "text": [
            "\tIter 10/ 50 - Loss: 0.303\n",
            "\tIter 20/ 50 - Loss: 0.292\n",
            "\tIter 30/ 50 - Loss: 0.287\n",
            "\tIter 40/ 50 - Loss: 0.285\n",
            "\tIter 50/ 50 - Loss: 0.283\n"
          ]
        },
        {
          "name": "stderr",
          "output_type": "stream",
          "text": [
            "\n",
            "29it [01:13,  2.48s/it]\u001b[A"
          ]
        },
        {
          "name": "stdout",
          "output_type": "stream",
          "text": [
            "\tIter 10/ 50 - Loss: 0.319\n",
            "\tIter 20/ 50 - Loss: 0.304\n",
            "\tIter 30/ 50 - Loss: 0.298\n",
            "\tIter 40/ 50 - Loss: 0.293\n",
            "\tIter 50/ 50 - Loss: 0.288\n"
          ]
        },
        {
          "name": "stderr",
          "output_type": "stream",
          "text": [
            "\n",
            "30it [01:15,  2.47s/it]\u001b[A"
          ]
        },
        {
          "name": "stdout",
          "output_type": "stream",
          "text": [
            "\tIter 10/ 50 - Loss: 0.335\n",
            "\tIter 20/ 50 - Loss: 0.306\n",
            "\tIter 30/ 50 - Loss: 0.295\n",
            "\tIter 40/ 50 - Loss: 0.29\n",
            "\tIter 50/ 50 - Loss: 0.287\n"
          ]
        },
        {
          "name": "stderr",
          "output_type": "stream",
          "text": [
            "\n",
            "31it [01:18,  2.44s/it]\u001b[A"
          ]
        },
        {
          "name": "stdout",
          "output_type": "stream",
          "text": [
            "\tIter 10/ 50 - Loss: 0.314\n",
            "\tIter 20/ 50 - Loss: 0.301\n",
            "\tIter 30/ 50 - Loss: 0.296\n",
            "\tIter 40/ 50 - Loss: 0.295\n",
            "\tIter 50/ 50 - Loss: 0.294\n"
          ]
        },
        {
          "name": "stderr",
          "output_type": "stream",
          "text": [
            "\n",
            "32it [01:20,  2.44s/it]\u001b[A"
          ]
        },
        {
          "name": "stdout",
          "output_type": "stream",
          "text": [
            "\tIter 10/ 50 - Loss: 0.34\n",
            "\tIter 20/ 50 - Loss: 0.321\n",
            "\tIter 30/ 50 - Loss: 0.308\n",
            "\tIter 40/ 50 - Loss: 0.299\n",
            "\tIter 50/ 50 - Loss: 0.292\n"
          ]
        },
        {
          "name": "stderr",
          "output_type": "stream",
          "text": [
            "\n",
            "33it [01:23,  2.45s/it]\u001b[A"
          ]
        },
        {
          "name": "stdout",
          "output_type": "stream",
          "text": [
            "\tIter 10/ 50 - Loss: 0.314\n",
            "\tIter 20/ 50 - Loss: 0.3\n",
            "\tIter 30/ 50 - Loss: 0.294\n",
            "\tIter 40/ 50 - Loss: 0.291\n",
            "\tIter 50/ 50 - Loss: 0.29\n"
          ]
        },
        {
          "name": "stderr",
          "output_type": "stream",
          "text": [
            "\n",
            "34it [01:25,  2.51s/it]\u001b[A"
          ]
        },
        {
          "name": "stdout",
          "output_type": "stream",
          "text": [
            "\tIter 10/ 50 - Loss: 0.379\n",
            "\tIter 20/ 50 - Loss: 0.335\n",
            "\tIter 30/ 50 - Loss: 0.319\n",
            "\tIter 40/ 50 - Loss: 0.31\n",
            "\tIter 50/ 50 - Loss: 0.305\n"
          ]
        },
        {
          "name": "stderr",
          "output_type": "stream",
          "text": [
            "\n",
            "35it [01:28,  2.47s/it]\u001b[A"
          ]
        },
        {
          "name": "stdout",
          "output_type": "stream",
          "text": [
            "\tIter 10/ 50 - Loss: 0.357\n",
            "\tIter 20/ 50 - Loss: 0.328\n",
            "\tIter 30/ 50 - Loss: 0.315\n",
            "\tIter 40/ 50 - Loss: 0.309\n",
            "\tIter 50/ 50 - Loss: 0.304\n"
          ]
        },
        {
          "name": "stderr",
          "output_type": "stream",
          "text": [
            "\n",
            "36it [01:30,  2.46s/it]\u001b[A"
          ]
        },
        {
          "name": "stdout",
          "output_type": "stream",
          "text": [
            "\tIter 10/ 50 - Loss: 0.333\n",
            "\tIter 20/ 50 - Loss: 0.315\n",
            "\tIter 30/ 50 - Loss: 0.308\n",
            "\tIter 40/ 50 - Loss: 0.306\n",
            "\tIter 50/ 50 - Loss: 0.305\n"
          ]
        },
        {
          "name": "stderr",
          "output_type": "stream",
          "text": [
            "\n",
            "37it [01:33,  2.45s/it]\u001b[A"
          ]
        },
        {
          "name": "stdout",
          "output_type": "stream",
          "text": [
            "\tIter 10/ 50 - Loss: 0.327\n",
            "\tIter 20/ 50 - Loss: 0.311\n",
            "\tIter 30/ 50 - Loss: 0.303\n",
            "\tIter 40/ 50 - Loss: 0.299\n",
            "\tIter 50/ 50 - Loss: 0.298\n"
          ]
        },
        {
          "name": "stderr",
          "output_type": "stream",
          "text": [
            "\n",
            "38it [01:35,  2.45s/it]\u001b[A"
          ]
        },
        {
          "name": "stdout",
          "output_type": "stream",
          "text": [
            "\tIter 10/ 50 - Loss: 0.332\n",
            "\tIter 20/ 50 - Loss: 0.312\n",
            "\tIter 30/ 50 - Loss: 0.303\n",
            "\tIter 40/ 50 - Loss: 0.299\n",
            "\tIter 50/ 50 - Loss: 0.297\n"
          ]
        },
        {
          "name": "stderr",
          "output_type": "stream",
          "text": [
            "\n",
            "39it [01:38,  2.46s/it]\u001b[A"
          ]
        },
        {
          "name": "stdout",
          "output_type": "stream",
          "text": [
            "\tIter 10/ 50 - Loss: 0.332\n",
            "\tIter 20/ 50 - Loss: 0.317\n",
            "\tIter 30/ 50 - Loss: 0.311\n",
            "\tIter 40/ 50 - Loss: 0.307\n",
            "\tIter 50/ 50 - Loss: 0.305\n"
          ]
        },
        {
          "name": "stderr",
          "output_type": "stream",
          "text": [
            "\n",
            "40it [01:40,  2.46s/it]\u001b[A"
          ]
        },
        {
          "name": "stdout",
          "output_type": "stream",
          "text": [
            "\tIter 10/ 50 - Loss: 0.353\n",
            "\tIter 20/ 50 - Loss: 0.328\n",
            "\tIter 30/ 50 - Loss: 0.315\n",
            "\tIter 40/ 50 - Loss: 0.307\n",
            "\tIter 50/ 50 - Loss: 0.302\n"
          ]
        },
        {
          "name": "stderr",
          "output_type": "stream",
          "text": [
            "\n",
            "41it [01:43,  2.53s/it]\u001b[A"
          ]
        },
        {
          "name": "stdout",
          "output_type": "stream",
          "text": [
            "\tIter 10/ 50 - Loss: 0.337\n",
            "\tIter 20/ 50 - Loss: 0.318\n",
            "\tIter 30/ 50 - Loss: 0.309\n",
            "\tIter 40/ 50 - Loss: 0.305\n",
            "\tIter 50/ 50 - Loss: 0.303\n"
          ]
        },
        {
          "name": "stderr",
          "output_type": "stream",
          "text": [
            "\n",
            "42it [01:45,  2.54s/it]\u001b[A"
          ]
        },
        {
          "name": "stdout",
          "output_type": "stream",
          "text": [
            "\tIter 10/ 50 - Loss: 0.373\n",
            "\tIter 20/ 50 - Loss: 0.331\n",
            "\tIter 30/ 50 - Loss: 0.316\n",
            "\tIter 40/ 50 - Loss: 0.31\n",
            "\tIter 50/ 50 - Loss: 0.306\n"
          ]
        },
        {
          "name": "stderr",
          "output_type": "stream",
          "text": [
            "\n",
            "43it [01:48,  2.54s/it]\u001b[A"
          ]
        },
        {
          "name": "stdout",
          "output_type": "stream",
          "text": [
            "\tIter 10/ 50 - Loss: 0.352\n",
            "\tIter 20/ 50 - Loss: 0.327\n",
            "\tIter 30/ 50 - Loss: 0.316\n",
            "\tIter 40/ 50 - Loss: 0.311\n",
            "\tIter 50/ 50 - Loss: 0.309\n"
          ]
        },
        {
          "name": "stderr",
          "output_type": "stream",
          "text": [
            "\n",
            "44it [01:50,  2.53s/it]\u001b[A"
          ]
        },
        {
          "name": "stdout",
          "output_type": "stream",
          "text": [
            "\tIter 10/ 50 - Loss: 0.324\n",
            "\tIter 20/ 50 - Loss: 0.315\n",
            "\tIter 30/ 50 - Loss: 0.312\n",
            "\tIter 40/ 50 - Loss: 0.31\n",
            "\tIter 50/ 50 - Loss: 0.309\n"
          ]
        },
        {
          "name": "stderr",
          "output_type": "stream",
          "text": [
            "\n",
            "45it [01:53,  2.52s/it]\u001b[A"
          ]
        },
        {
          "name": "stdout",
          "output_type": "stream",
          "text": [
            "\tIter 10/ 50 - Loss: 0.386\n",
            "\tIter 20/ 50 - Loss: 0.35\n",
            "\tIter 30/ 50 - Loss: 0.333\n",
            "\tIter 40/ 50 - Loss: 0.324\n",
            "\tIter 50/ 50 - Loss: 0.319\n"
          ]
        },
        {
          "name": "stderr",
          "output_type": "stream",
          "text": [
            "\n",
            "46it [01:55,  2.51s/it]\u001b[A"
          ]
        },
        {
          "name": "stdout",
          "output_type": "stream",
          "text": [
            "\tIter 10/ 50 - Loss: 0.334\n",
            "\tIter 20/ 50 - Loss: 0.322\n",
            "\tIter 30/ 50 - Loss: 0.317\n",
            "\tIter 40/ 50 - Loss: 0.314\n",
            "\tIter 50/ 50 - Loss: 0.312\n"
          ]
        },
        {
          "name": "stderr",
          "output_type": "stream",
          "text": [
            "\n",
            "47it [01:58,  2.51s/it]\u001b[A"
          ]
        },
        {
          "name": "stdout",
          "output_type": "stream",
          "text": [
            "\tIter 10/ 50 - Loss: 0.369\n",
            "\tIter 20/ 50 - Loss: 0.338\n",
            "\tIter 30/ 50 - Loss: 0.324\n",
            "\tIter 40/ 50 - Loss: 0.317\n",
            "\tIter 50/ 50 - Loss: 0.313\n"
          ]
        },
        {
          "name": "stderr",
          "output_type": "stream",
          "text": [
            "\n",
            "48it [02:00,  2.58s/it]\u001b[A"
          ]
        },
        {
          "name": "stdout",
          "output_type": "stream",
          "text": [
            "\tIter 10/ 50 - Loss: 0.431\n",
            "\tIter 20/ 50 - Loss: 0.372\n",
            "\tIter 30/ 50 - Loss: 0.349\n",
            "\tIter 40/ 50 - Loss: 0.336\n",
            "\tIter 50/ 50 - Loss: 0.328\n"
          ]
        },
        {
          "name": "stderr",
          "output_type": "stream",
          "text": [
            "\n",
            "49it [02:03,  2.54s/it]\u001b[A"
          ]
        },
        {
          "name": "stdout",
          "output_type": "stream",
          "text": [
            "\tIter 10/ 50 - Loss: 0.332\n",
            "\tIter 20/ 50 - Loss: 0.323\n",
            "\tIter 30/ 50 - Loss: 0.32\n",
            "\tIter 40/ 50 - Loss: 0.318\n",
            "\tIter 50/ 50 - Loss: 0.317\n"
          ]
        },
        {
          "name": "stderr",
          "output_type": "stream",
          "text": [
            "\n",
            "50it [02:05,  2.51s/it]\u001b[A"
          ]
        },
        {
          "name": "stdout",
          "output_type": "stream",
          "text": [
            "\tIter 10/ 50 - Loss: 0.387\n",
            "\tIter 20/ 50 - Loss: 0.342\n",
            "\tIter 30/ 50 - Loss: 0.326\n",
            "\tIter 40/ 50 - Loss: 0.319\n",
            "\tIter 50/ 50 - Loss: 0.315\n"
          ]
        },
        {
          "name": "stderr",
          "output_type": "stream",
          "text": [
            "\n",
            "51it [02:08,  2.49s/it]\u001b[A"
          ]
        },
        {
          "name": "stdout",
          "output_type": "stream",
          "text": [
            "\tIter 10/ 50 - Loss: 0.366\n",
            "\tIter 20/ 50 - Loss: 0.34\n",
            "\tIter 30/ 50 - Loss: 0.329\n",
            "\tIter 40/ 50 - Loss: 0.324\n",
            "\tIter 50/ 50 - Loss: 0.321\n"
          ]
        },
        {
          "name": "stderr",
          "output_type": "stream",
          "text": [
            "\n",
            "52it [02:10,  2.48s/it]\u001b[A"
          ]
        },
        {
          "name": "stdout",
          "output_type": "stream",
          "text": [
            "\tIter 10/ 50 - Loss: 0.363\n",
            "\tIter 20/ 50 - Loss: 0.343\n",
            "\tIter 30/ 50 - Loss: 0.331\n",
            "\tIter 40/ 50 - Loss: 0.323\n",
            "\tIter 50/ 50 - Loss: 0.319\n"
          ]
        },
        {
          "name": "stderr",
          "output_type": "stream",
          "text": [
            "\n",
            "53it [02:13,  2.48s/it]\u001b[A"
          ]
        },
        {
          "name": "stdout",
          "output_type": "stream",
          "text": [
            "\tIter 10/ 50 - Loss: 0.361\n",
            "\tIter 20/ 50 - Loss: 0.338\n",
            "\tIter 30/ 50 - Loss: 0.329\n",
            "\tIter 40/ 50 - Loss: 0.324\n",
            "\tIter 50/ 50 - Loss: 0.32\n"
          ]
        },
        {
          "name": "stderr",
          "output_type": "stream",
          "text": [
            "\n",
            "54it [02:15,  2.49s/it]\u001b[A"
          ]
        },
        {
          "name": "stdout",
          "output_type": "stream",
          "text": [
            "\tIter 10/ 50 - Loss: 0.346\n",
            "\tIter 20/ 50 - Loss: 0.333\n",
            "\tIter 30/ 50 - Loss: 0.328\n",
            "\tIter 40/ 50 - Loss: 0.326\n",
            "\tIter 50/ 50 - Loss: 0.324\n"
          ]
        },
        {
          "name": "stderr",
          "output_type": "stream",
          "text": [
            "\n",
            "55it [02:18,  2.53s/it]\u001b[A"
          ]
        },
        {
          "name": "stdout",
          "output_type": "stream",
          "text": [
            "\tIter 10/ 50 - Loss: 0.39\n",
            "\tIter 20/ 50 - Loss: 0.353\n",
            "\tIter 30/ 50 - Loss: 0.339\n",
            "\tIter 40/ 50 - Loss: 0.332\n",
            "\tIter 50/ 50 - Loss: 0.327\n"
          ]
        },
        {
          "name": "stderr",
          "output_type": "stream",
          "text": [
            "\n",
            "56it [02:20,  2.51s/it]\u001b[A"
          ]
        },
        {
          "name": "stdout",
          "output_type": "stream",
          "text": [
            "\tIter 10/ 50 - Loss: 0.365\n",
            "\tIter 20/ 50 - Loss: 0.341\n",
            "\tIter 30/ 50 - Loss: 0.331\n",
            "\tIter 40/ 50 - Loss: 0.325\n",
            "\tIter 50/ 50 - Loss: 0.322\n"
          ]
        },
        {
          "name": "stderr",
          "output_type": "stream",
          "text": [
            "\n",
            "57it [02:23,  2.50s/it]\u001b[A"
          ]
        },
        {
          "name": "stdout",
          "output_type": "stream",
          "text": [
            "\tIter 10/ 50 - Loss: 0.369\n",
            "\tIter 20/ 50 - Loss: 0.347\n",
            "\tIter 30/ 50 - Loss: 0.336\n",
            "\tIter 40/ 50 - Loss: 0.331\n",
            "\tIter 50/ 50 - Loss: 0.327\n"
          ]
        },
        {
          "name": "stderr",
          "output_type": "stream",
          "text": [
            "\n",
            "58it [02:25,  2.50s/it]\u001b[A"
          ]
        },
        {
          "name": "stdout",
          "output_type": "stream",
          "text": [
            "\tIter 10/ 50 - Loss: 0.395\n",
            "\tIter 20/ 50 - Loss: 0.371\n",
            "\tIter 30/ 50 - Loss: 0.357\n",
            "\tIter 40/ 50 - Loss: 0.347\n",
            "\tIter 50/ 50 - Loss: 0.34\n"
          ]
        },
        {
          "name": "stderr",
          "output_type": "stream",
          "text": [
            "\n",
            "59it [02:28,  2.49s/it]\u001b[A"
          ]
        },
        {
          "name": "stdout",
          "output_type": "stream",
          "text": [
            "\tIter 10/ 50 - Loss: 0.368\n",
            "\tIter 20/ 50 - Loss: 0.351\n",
            "\tIter 30/ 50 - Loss: 0.342\n",
            "\tIter 40/ 50 - Loss: 0.337\n",
            "\tIter 50/ 50 - Loss: 0.334\n"
          ]
        },
        {
          "name": "stderr",
          "output_type": "stream",
          "text": [
            "\n",
            "60it [02:30,  2.47s/it]\u001b[A"
          ]
        },
        {
          "name": "stdout",
          "output_type": "stream",
          "text": [
            "\tIter 10/ 50 - Loss: 0.403\n",
            "\tIter 20/ 50 - Loss: 0.369\n",
            "\tIter 30/ 50 - Loss: 0.35\n",
            "\tIter 40/ 50 - Loss: 0.34\n",
            "\tIter 50/ 50 - Loss: 0.334\n"
          ]
        },
        {
          "name": "stderr",
          "output_type": "stream",
          "text": [
            "\n",
            "61it [02:33,  2.46s/it]\u001b[A"
          ]
        },
        {
          "name": "stdout",
          "output_type": "stream",
          "text": [
            "\tIter 10/ 50 - Loss: 0.361\n",
            "\tIter 20/ 50 - Loss: 0.344\n",
            "\tIter 30/ 50 - Loss: 0.336\n",
            "\tIter 40/ 50 - Loss: 0.331\n",
            "\tIter 50/ 50 - Loss: 0.328\n"
          ]
        },
        {
          "name": "stderr",
          "output_type": "stream",
          "text": [
            "\n",
            "62it [02:35,  2.50s/it]\u001b[A"
          ]
        },
        {
          "name": "stdout",
          "output_type": "stream",
          "text": [
            "\tIter 10/ 50 - Loss: 0.393\n",
            "\tIter 20/ 50 - Loss: 0.367\n",
            "\tIter 30/ 50 - Loss: 0.354\n",
            "\tIter 40/ 50 - Loss: 0.346\n",
            "\tIter 50/ 50 - Loss: 0.34\n"
          ]
        },
        {
          "name": "stderr",
          "output_type": "stream",
          "text": [
            "\n",
            "63it [02:38,  2.50s/it]\u001b[A"
          ]
        },
        {
          "name": "stdout",
          "output_type": "stream",
          "text": [
            "\tIter 10/ 50 - Loss: 0.445\n",
            "\tIter 20/ 50 - Loss: 0.383\n",
            "\tIter 30/ 50 - Loss: 0.36\n",
            "\tIter 40/ 50 - Loss: 0.349\n",
            "\tIter 50/ 50 - Loss: 0.344\n"
          ]
        },
        {
          "name": "stderr",
          "output_type": "stream",
          "text": [
            "\n",
            "64it [02:40,  2.48s/it]\u001b[A"
          ]
        },
        {
          "name": "stdout",
          "output_type": "stream",
          "text": [
            "\tIter 10/ 50 - Loss: 0.375\n",
            "\tIter 20/ 50 - Loss: 0.35\n",
            "\tIter 30/ 50 - Loss: 0.339\n",
            "\tIter 40/ 50 - Loss: 0.333\n",
            "\tIter 50/ 50 - Loss: 0.329\n"
          ]
        },
        {
          "name": "stderr",
          "output_type": "stream",
          "text": [
            "\n",
            "65it [02:43,  2.46s/it]\u001b[A"
          ]
        },
        {
          "name": "stdout",
          "output_type": "stream",
          "text": [
            "\tIter 10/ 50 - Loss: 0.369\n",
            "\tIter 20/ 50 - Loss: 0.353\n",
            "\tIter 30/ 50 - Loss: 0.344\n",
            "\tIter 40/ 50 - Loss: 0.338\n",
            "\tIter 50/ 50 - Loss: 0.335\n"
          ]
        },
        {
          "name": "stderr",
          "output_type": "stream",
          "text": [
            "\n",
            "66it [02:45,  2.45s/it]\u001b[A"
          ]
        },
        {
          "name": "stdout",
          "output_type": "stream",
          "text": [
            "\tIter 10/ 50 - Loss: 0.4\n",
            "\tIter 20/ 50 - Loss: 0.374\n",
            "\tIter 30/ 50 - Loss: 0.362\n",
            "\tIter 40/ 50 - Loss: 0.354\n",
            "\tIter 50/ 50 - Loss: 0.348\n"
          ]
        },
        {
          "name": "stderr",
          "output_type": "stream",
          "text": [
            "\n",
            "67it [02:47,  2.45s/it]\u001b[A"
          ]
        },
        {
          "name": "stdout",
          "output_type": "stream",
          "text": [
            "\tIter 10/ 50 - Loss: 0.403\n",
            "\tIter 20/ 50 - Loss: 0.367\n",
            "\tIter 30/ 50 - Loss: 0.353\n",
            "\tIter 40/ 50 - Loss: 0.346\n",
            "\tIter 50/ 50 - Loss: 0.342\n"
          ]
        },
        {
          "name": "stderr",
          "output_type": "stream",
          "text": [
            "\n",
            "68it [02:50,  2.47s/it]\u001b[A"
          ]
        },
        {
          "name": "stdout",
          "output_type": "stream",
          "text": [
            "\tIter 10/ 50 - Loss: 0.43\n",
            "\tIter 20/ 50 - Loss: 0.392\n",
            "\tIter 30/ 50 - Loss: 0.377\n",
            "\tIter 40/ 50 - Loss: 0.367\n",
            "\tIter 50/ 50 - Loss: 0.358\n"
          ]
        },
        {
          "name": "stderr",
          "output_type": "stream",
          "text": [
            "\n",
            "69it [02:53,  2.50s/it]\u001b[A"
          ]
        },
        {
          "name": "stdout",
          "output_type": "stream",
          "text": [
            "\tIter 10/ 50 - Loss: 0.407\n",
            "\tIter 20/ 50 - Loss: 0.372\n",
            "\tIter 30/ 50 - Loss: 0.354\n",
            "\tIter 40/ 50 - Loss: 0.344\n",
            "\tIter 50/ 50 - Loss: 0.338\n"
          ]
        },
        {
          "name": "stderr",
          "output_type": "stream",
          "text": [
            "\n",
            "70it [02:55,  2.48s/it]\u001b[A"
          ]
        },
        {
          "name": "stdout",
          "output_type": "stream",
          "text": [
            "\tIter 10/ 50 - Loss: 0.373\n",
            "\tIter 20/ 50 - Loss: 0.35\n",
            "\tIter 30/ 50 - Loss: 0.341\n",
            "\tIter 40/ 50 - Loss: 0.336\n",
            "\tIter 50/ 50 - Loss: 0.333\n"
          ]
        },
        {
          "name": "stderr",
          "output_type": "stream",
          "text": [
            "\n",
            "71it [02:57,  2.47s/it]\u001b[A"
          ]
        },
        {
          "name": "stdout",
          "output_type": "stream",
          "text": [
            "\tIter 10/ 50 - Loss: 0.36\n",
            "\tIter 20/ 50 - Loss: 0.348\n",
            "\tIter 30/ 50 - Loss: 0.343\n",
            "\tIter 40/ 50 - Loss: 0.341\n",
            "\tIter 50/ 50 - Loss: 0.339\n"
          ]
        },
        {
          "name": "stderr",
          "output_type": "stream",
          "text": [
            "\n",
            "72it [03:00,  2.46s/it]\u001b[A"
          ]
        },
        {
          "name": "stdout",
          "output_type": "stream",
          "text": [
            "\tIter 10/ 50 - Loss: 0.391\n",
            "\tIter 20/ 50 - Loss: 0.37\n",
            "\tIter 30/ 50 - Loss: 0.359\n",
            "\tIter 40/ 50 - Loss: 0.352\n",
            "\tIter 50/ 50 - Loss: 0.347\n"
          ]
        },
        {
          "name": "stderr",
          "output_type": "stream",
          "text": [
            "\n",
            "73it [03:02,  2.47s/it]\u001b[A"
          ]
        },
        {
          "name": "stdout",
          "output_type": "stream",
          "text": [
            "\tIter 10/ 50 - Loss: 0.367\n",
            "\tIter 20/ 50 - Loss: 0.348\n",
            "\tIter 30/ 50 - Loss: 0.341\n",
            "\tIter 40/ 50 - Loss: 0.337\n",
            "\tIter 50/ 50 - Loss: 0.335\n"
          ]
        },
        {
          "name": "stderr",
          "output_type": "stream",
          "text": [
            "\n",
            "74it [03:05,  2.46s/it]\u001b[A"
          ]
        },
        {
          "name": "stdout",
          "output_type": "stream",
          "text": [
            "\tIter 10/ 50 - Loss: 0.369\n",
            "\tIter 20/ 50 - Loss: 0.351\n",
            "\tIter 30/ 50 - Loss: 0.345\n",
            "\tIter 40/ 50 - Loss: 0.341\n",
            "\tIter 50/ 50 - Loss: 0.339\n"
          ]
        },
        {
          "name": "stderr",
          "output_type": "stream",
          "text": [
            "\n",
            "75it [03:07,  2.45s/it]\u001b[A"
          ]
        },
        {
          "name": "stdout",
          "output_type": "stream",
          "text": [
            "\tIter 10/ 50 - Loss: 0.449\n",
            "\tIter 20/ 50 - Loss: 0.401\n",
            "\tIter 30/ 50 - Loss: 0.384\n",
            "\tIter 40/ 50 - Loss: 0.376\n",
            "\tIter 50/ 50 - Loss: 0.37\n"
          ]
        },
        {
          "name": "stderr",
          "output_type": "stream",
          "text": [
            "\n",
            "76it [03:10,  2.43s/it]\u001b[A"
          ]
        },
        {
          "name": "stdout",
          "output_type": "stream",
          "text": [
            "\tIter 10/ 50 - Loss: 0.386\n",
            "\tIter 20/ 50 - Loss: 0.367\n",
            "\tIter 30/ 50 - Loss: 0.358\n",
            "\tIter 40/ 50 - Loss: 0.353\n",
            "\tIter 50/ 50 - Loss: 0.35\n"
          ]
        },
        {
          "name": "stderr",
          "output_type": "stream",
          "text": [
            "\n",
            "77it [03:12,  2.50s/it]\u001b[A"
          ]
        },
        {
          "name": "stdout",
          "output_type": "stream",
          "text": [
            "\tIter 10/ 50 - Loss: 0.43\n",
            "\tIter 20/ 50 - Loss: 0.384\n",
            "\tIter 30/ 50 - Loss: 0.367\n",
            "\tIter 40/ 50 - Loss: 0.358\n",
            "\tIter 50/ 50 - Loss: 0.353\n"
          ]
        },
        {
          "name": "stderr",
          "output_type": "stream",
          "text": [
            "\n",
            "78it [03:15,  2.49s/it]\u001b[A"
          ]
        },
        {
          "name": "stdout",
          "output_type": "stream",
          "text": [
            "\tIter 10/ 50 - Loss: 0.393\n",
            "\tIter 20/ 50 - Loss: 0.365\n",
            "\tIter 30/ 50 - Loss: 0.352\n",
            "\tIter 40/ 50 - Loss: 0.346\n",
            "\tIter 50/ 50 - Loss: 0.342\n"
          ]
        },
        {
          "name": "stderr",
          "output_type": "stream",
          "text": [
            "\n",
            "79it [03:17,  2.49s/it]\u001b[A"
          ]
        },
        {
          "name": "stdout",
          "output_type": "stream",
          "text": [
            "\tIter 10/ 50 - Loss: 0.407\n",
            "\tIter 20/ 50 - Loss: 0.373\n",
            "\tIter 30/ 50 - Loss: 0.36\n",
            "\tIter 40/ 50 - Loss: 0.354\n",
            "\tIter 50/ 50 - Loss: 0.35\n"
          ]
        },
        {
          "name": "stderr",
          "output_type": "stream",
          "text": [
            "\n",
            "80it [03:20,  2.47s/it]\u001b[A"
          ]
        },
        {
          "name": "stdout",
          "output_type": "stream",
          "text": [
            "\tIter 10/ 50 - Loss: 0.381\n",
            "\tIter 20/ 50 - Loss: 0.362\n",
            "\tIter 30/ 50 - Loss: 0.352\n",
            "\tIter 40/ 50 - Loss: 0.346\n",
            "\tIter 50/ 50 - Loss: 0.343\n"
          ]
        },
        {
          "name": "stderr",
          "output_type": "stream",
          "text": [
            "\n",
            "81it [03:22,  2.45s/it]\u001b[A"
          ]
        },
        {
          "name": "stdout",
          "output_type": "stream",
          "text": [
            "\tIter 10/ 50 - Loss: 0.422\n",
            "\tIter 20/ 50 - Loss: 0.391\n",
            "\tIter 30/ 50 - Loss: 0.374\n",
            "\tIter 40/ 50 - Loss: 0.363\n",
            "\tIter 50/ 50 - Loss: 0.354\n"
          ]
        },
        {
          "name": "stderr",
          "output_type": "stream",
          "text": [
            "\n",
            "82it [03:25,  2.46s/it]\u001b[A"
          ]
        },
        {
          "name": "stdout",
          "output_type": "stream",
          "text": [
            "\tIter 10/ 50 - Loss: 0.391\n",
            "\tIter 20/ 50 - Loss: 0.367\n",
            "\tIter 30/ 50 - Loss: 0.355\n",
            "\tIter 40/ 50 - Loss: 0.347\n",
            "\tIter 50/ 50 - Loss: 0.342\n"
          ]
        },
        {
          "name": "stderr",
          "output_type": "stream",
          "text": [
            "\n",
            "83it [03:27,  2.46s/it]\u001b[A"
          ]
        },
        {
          "name": "stdout",
          "output_type": "stream",
          "text": [
            "\tIter 10/ 50 - Loss: 0.393\n",
            "\tIter 20/ 50 - Loss: 0.373\n",
            "\tIter 30/ 50 - Loss: 0.363\n",
            "\tIter 40/ 50 - Loss: 0.356\n",
            "\tIter 50/ 50 - Loss: 0.351\n"
          ]
        },
        {
          "name": "stderr",
          "output_type": "stream",
          "text": [
            "\n",
            "84it [03:29,  2.46s/it]\u001b[A"
          ]
        },
        {
          "name": "stdout",
          "output_type": "stream",
          "text": [
            "\tIter 10/ 50 - Loss: 0.385\n",
            "\tIter 20/ 50 - Loss: 0.366\n",
            "\tIter 30/ 50 - Loss: 0.358\n",
            "\tIter 40/ 50 - Loss: 0.353\n",
            "\tIter 50/ 50 - Loss: 0.349\n"
          ]
        },
        {
          "name": "stderr",
          "output_type": "stream",
          "text": [
            "\n",
            "85it [03:32,  2.50s/it]\u001b[A"
          ]
        },
        {
          "name": "stdout",
          "output_type": "stream",
          "text": [
            "\tIter 10/ 50 - Loss: 0.378\n",
            "\tIter 20/ 50 - Loss: 0.361\n",
            "\tIter 30/ 50 - Loss: 0.354\n",
            "\tIter 40/ 50 - Loss: 0.351\n",
            "\tIter 50/ 50 - Loss: 0.348\n"
          ]
        },
        {
          "name": "stderr",
          "output_type": "stream",
          "text": [
            "\n",
            "86it [03:35,  2.49s/it]\u001b[A"
          ]
        },
        {
          "name": "stdout",
          "output_type": "stream",
          "text": [
            "\tIter 10/ 50 - Loss: 0.395\n",
            "\tIter 20/ 50 - Loss: 0.366\n",
            "\tIter 30/ 50 - Loss: 0.353\n",
            "\tIter 40/ 50 - Loss: 0.347\n",
            "\tIter 50/ 50 - Loss: 0.343\n"
          ]
        },
        {
          "name": "stderr",
          "output_type": "stream",
          "text": [
            "\n",
            "87it [03:37,  2.49s/it]\u001b[A"
          ]
        },
        {
          "name": "stdout",
          "output_type": "stream",
          "text": [
            "\tIter 10/ 50 - Loss: 0.398\n",
            "\tIter 20/ 50 - Loss: 0.373\n",
            "\tIter 30/ 50 - Loss: 0.36\n",
            "\tIter 40/ 50 - Loss: 0.353\n",
            "\tIter 50/ 50 - Loss: 0.348\n"
          ]
        },
        {
          "name": "stderr",
          "output_type": "stream",
          "text": [
            "\n",
            "88it [03:39,  2.47s/it]\u001b[A"
          ]
        },
        {
          "name": "stdout",
          "output_type": "stream",
          "text": [
            "\tIter 10/ 50 - Loss: 0.42\n",
            "\tIter 20/ 50 - Loss: 0.381\n",
            "\tIter 30/ 50 - Loss: 0.363\n",
            "\tIter 40/ 50 - Loss: 0.353\n",
            "\tIter 50/ 50 - Loss: 0.348\n"
          ]
        },
        {
          "name": "stderr",
          "output_type": "stream",
          "text": [
            "\n",
            "89it [03:42,  2.46s/it]\u001b[A"
          ]
        },
        {
          "name": "stdout",
          "output_type": "stream",
          "text": [
            "\tIter 10/ 50 - Loss: 0.386\n",
            "\tIter 20/ 50 - Loss: 0.367\n",
            "\tIter 30/ 50 - Loss: 0.359\n",
            "\tIter 40/ 50 - Loss: 0.353\n",
            "\tIter 50/ 50 - Loss: 0.348\n"
          ]
        },
        {
          "name": "stderr",
          "output_type": "stream",
          "text": [
            "\n",
            "90it [03:44,  2.44s/it]\u001b[A"
          ]
        },
        {
          "name": "stdout",
          "output_type": "stream",
          "text": [
            "\tIter 10/ 50 - Loss: 0.384\n",
            "\tIter 20/ 50 - Loss: 0.362\n",
            "\tIter 30/ 50 - Loss: 0.353\n",
            "\tIter 40/ 50 - Loss: 0.348\n",
            "\tIter 50/ 50 - Loss: 0.344\n"
          ]
        },
        {
          "name": "stderr",
          "output_type": "stream",
          "text": [
            "\n",
            "91it [03:47,  2.43s/it]\u001b[A"
          ]
        },
        {
          "name": "stdout",
          "output_type": "stream",
          "text": [
            "\tIter 10/ 50 - Loss: 0.436\n",
            "\tIter 20/ 50 - Loss: 0.402\n",
            "\tIter 30/ 50 - Loss: 0.384\n",
            "\tIter 40/ 50 - Loss: 0.371\n",
            "\tIter 50/ 50 - Loss: 0.363\n"
          ]
        },
        {
          "name": "stderr",
          "output_type": "stream",
          "text": [
            "\n",
            "92it [03:49,  2.45s/it]\u001b[A"
          ]
        },
        {
          "name": "stdout",
          "output_type": "stream",
          "text": [
            "\tIter 10/ 50 - Loss: 0.371\n",
            "\tIter 20/ 50 - Loss: 0.358\n",
            "\tIter 30/ 50 - Loss: 0.351\n",
            "\tIter 40/ 50 - Loss: 0.346\n",
            "\tIter 50/ 50 - Loss: 0.343\n"
          ]
        },
        {
          "name": "stderr",
          "output_type": "stream",
          "text": [
            "\n",
            "93it [03:52,  2.51s/it]\u001b[A"
          ]
        },
        {
          "name": "stdout",
          "output_type": "stream",
          "text": [
            "\tIter 10/ 50 - Loss: 0.4\n",
            "\tIter 20/ 50 - Loss: 0.372\n",
            "\tIter 30/ 50 - Loss: 0.36\n",
            "\tIter 40/ 50 - Loss: 0.354\n",
            "\tIter 50/ 50 - Loss: 0.351\n"
          ]
        },
        {
          "name": "stderr",
          "output_type": "stream",
          "text": [
            "\n",
            "94it [03:54,  2.50s/it]\u001b[A"
          ]
        },
        {
          "name": "stdout",
          "output_type": "stream",
          "text": [
            "\tIter 10/ 50 - Loss: 0.393\n",
            "\tIter 20/ 50 - Loss: 0.373\n",
            "\tIter 30/ 50 - Loss: 0.363\n",
            "\tIter 40/ 50 - Loss: 0.358\n",
            "\tIter 50/ 50 - Loss: 0.354\n"
          ]
        },
        {
          "name": "stderr",
          "output_type": "stream",
          "text": [
            "\n",
            "95it [03:57,  2.48s/it]\u001b[A"
          ]
        },
        {
          "name": "stdout",
          "output_type": "stream",
          "text": [
            "\tIter 10/ 50 - Loss: 0.383\n",
            "\tIter 20/ 50 - Loss: 0.358\n",
            "\tIter 30/ 50 - Loss: 0.349\n",
            "\tIter 40/ 50 - Loss: 0.345\n",
            "\tIter 50/ 50 - Loss: 0.342\n"
          ]
        },
        {
          "name": "stderr",
          "output_type": "stream",
          "text": [
            "\n",
            "96it [03:59,  2.48s/it]\u001b[A"
          ]
        },
        {
          "name": "stdout",
          "output_type": "stream",
          "text": [
            "\tIter 10/ 50 - Loss: 0.44\n",
            "\tIter 20/ 50 - Loss: 0.393\n",
            "\tIter 30/ 50 - Loss: 0.372\n",
            "\tIter 40/ 50 - Loss: 0.361\n",
            "\tIter 50/ 50 - Loss: 0.354\n"
          ]
        },
        {
          "name": "stderr",
          "output_type": "stream",
          "text": [
            "\n",
            "97it [04:02,  2.49s/it]\u001b[A"
          ]
        },
        {
          "name": "stdout",
          "output_type": "stream",
          "text": [
            "\tIter 10/ 50 - Loss: 0.372\n",
            "\tIter 20/ 50 - Loss: 0.358\n",
            "\tIter 30/ 50 - Loss: 0.35\n",
            "\tIter 40/ 50 - Loss: 0.345\n",
            "\tIter 50/ 50 - Loss: 0.343\n"
          ]
        },
        {
          "name": "stderr",
          "output_type": "stream",
          "text": [
            "\n",
            "98it [04:04,  2.48s/it]\u001b[A"
          ]
        },
        {
          "name": "stdout",
          "output_type": "stream",
          "text": [
            "\tIter 10/ 50 - Loss: 0.396\n",
            "\tIter 20/ 50 - Loss: 0.371\n",
            "\tIter 30/ 50 - Loss: 0.36\n",
            "\tIter 40/ 50 - Loss: 0.355\n",
            "\tIter 50/ 50 - Loss: 0.352\n"
          ]
        },
        {
          "name": "stderr",
          "output_type": "stream",
          "text": [
            "\n",
            "99it [04:07,  2.48s/it]\u001b[A"
          ]
        },
        {
          "name": "stdout",
          "output_type": "stream",
          "text": [
            "\tIter 10/ 50 - Loss: 0.423\n",
            "\tIter 20/ 50 - Loss: 0.39\n",
            "\tIter 30/ 50 - Loss: 0.375\n",
            "\tIter 40/ 50 - Loss: 0.367\n",
            "\tIter 50/ 50 - Loss: 0.362\n"
          ]
        },
        {
          "name": "stderr",
          "output_type": "stream",
          "text": [
            "\n",
            "100it [04:09,  2.46s/it]\u001b[A"
          ]
        },
        {
          "name": "stdout",
          "output_type": "stream",
          "text": [
            "\tIter 10/ 50 - Loss: 0.44\n",
            "\tIter 20/ 50 - Loss: 0.406\n",
            "\tIter 30/ 50 - Loss: 0.384\n",
            "\tIter 40/ 50 - Loss: 0.369\n",
            "\tIter 50/ 50 - Loss: 0.358\n"
          ]
        },
        {
          "name": "stderr",
          "output_type": "stream",
          "text": [
            "\n",
            "101it [04:12,  2.52s/it]\u001b[A"
          ]
        },
        {
          "name": "stdout",
          "output_type": "stream",
          "text": [
            "\tIter 10/ 50 - Loss: 0.402\n",
            "\tIter 20/ 50 - Loss: 0.379\n",
            "\tIter 30/ 50 - Loss: 0.37\n",
            "\tIter 40/ 50 - Loss: 0.364\n",
            "\tIter 50/ 50 - Loss: 0.359\n"
          ]
        },
        {
          "name": "stderr",
          "output_type": "stream",
          "text": [
            "\n",
            "102it [04:14,  2.53s/it]\u001b[A"
          ]
        },
        {
          "name": "stdout",
          "output_type": "stream",
          "text": [
            "\tIter 10/ 50 - Loss: 0.464\n",
            "\tIter 20/ 50 - Loss: 0.426\n",
            "\tIter 30/ 50 - Loss: 0.403\n",
            "\tIter 40/ 50 - Loss: 0.386\n",
            "\tIter 50/ 50 - Loss: 0.373\n"
          ]
        },
        {
          "name": "stderr",
          "output_type": "stream",
          "text": [
            "\n",
            "103it [04:17,  2.51s/it]\u001b[A"
          ]
        },
        {
          "name": "stdout",
          "output_type": "stream",
          "text": [
            "\tIter 10/ 50 - Loss: 0.415\n",
            "\tIter 20/ 50 - Loss: 0.389\n",
            "\tIter 30/ 50 - Loss: 0.378\n",
            "\tIter 40/ 50 - Loss: 0.371\n",
            "\tIter 50/ 50 - Loss: 0.366\n"
          ]
        },
        {
          "name": "stderr",
          "output_type": "stream",
          "text": [
            "\n",
            "104it [04:19,  2.50s/it]\u001b[A"
          ]
        },
        {
          "name": "stdout",
          "output_type": "stream",
          "text": [
            "\tIter 10/ 50 - Loss: 0.446\n",
            "\tIter 20/ 50 - Loss: 0.405\n",
            "\tIter 30/ 50 - Loss: 0.389\n",
            "\tIter 40/ 50 - Loss: 0.38\n",
            "\tIter 50/ 50 - Loss: 0.375\n"
          ]
        },
        {
          "name": "stderr",
          "output_type": "stream",
          "text": [
            "\n",
            "105it [04:22,  2.50s/it]\u001b[A"
          ]
        },
        {
          "name": "stdout",
          "output_type": "stream",
          "text": [
            "\tIter 10/ 50 - Loss: 0.393\n",
            "\tIter 20/ 50 - Loss: 0.378\n",
            "\tIter 30/ 50 - Loss: 0.372\n",
            "\tIter 40/ 50 - Loss: 0.368\n",
            "\tIter 50/ 50 - Loss: 0.365\n"
          ]
        },
        {
          "name": "stderr",
          "output_type": "stream",
          "text": [
            "\n",
            "106it [04:24,  2.49s/it]\u001b[A"
          ]
        },
        {
          "name": "stdout",
          "output_type": "stream",
          "text": [
            "\tIter 10/ 50 - Loss: 0.445\n",
            "\tIter 20/ 50 - Loss: 0.411\n",
            "\tIter 30/ 50 - Loss: 0.391\n",
            "\tIter 40/ 50 - Loss: 0.378\n",
            "\tIter 50/ 50 - Loss: 0.369\n"
          ]
        },
        {
          "name": "stderr",
          "output_type": "stream",
          "text": [
            "\n",
            "107it [04:27,  2.49s/it]\u001b[A"
          ]
        },
        {
          "name": "stdout",
          "output_type": "stream",
          "text": [
            "\tIter 10/ 50 - Loss: 0.403\n",
            "\tIter 20/ 50 - Loss: 0.381\n",
            "\tIter 30/ 50 - Loss: 0.372\n",
            "\tIter 40/ 50 - Loss: 0.365\n",
            "\tIter 50/ 50 - Loss: 0.36\n"
          ]
        },
        {
          "name": "stderr",
          "output_type": "stream",
          "text": [
            "\n",
            "108it [04:29,  2.53s/it]\u001b[A"
          ]
        },
        {
          "name": "stdout",
          "output_type": "stream",
          "text": [
            "\tIter 10/ 50 - Loss: 0.428\n",
            "\tIter 20/ 50 - Loss: 0.401\n",
            "\tIter 30/ 50 - Loss: 0.387\n",
            "\tIter 40/ 50 - Loss: 0.378\n",
            "\tIter 50/ 50 - Loss: 0.372\n"
          ]
        },
        {
          "name": "stderr",
          "output_type": "stream",
          "text": [
            "\n",
            "109it [04:32,  2.50s/it]\u001b[A"
          ]
        },
        {
          "name": "stdout",
          "output_type": "stream",
          "text": [
            "\tIter 10/ 50 - Loss: 0.402\n",
            "\tIter 20/ 50 - Loss: 0.385\n",
            "\tIter 30/ 50 - Loss: 0.377\n",
            "\tIter 40/ 50 - Loss: 0.372\n",
            "\tIter 50/ 50 - Loss: 0.368\n"
          ]
        },
        {
          "name": "stderr",
          "output_type": "stream",
          "text": [
            "\n",
            "110it [04:34,  2.48s/it]\u001b[A"
          ]
        },
        {
          "name": "stdout",
          "output_type": "stream",
          "text": [
            "\tIter 10/ 50 - Loss: 0.43\n",
            "\tIter 20/ 50 - Loss: 0.399\n",
            "\tIter 30/ 50 - Loss: 0.384\n",
            "\tIter 40/ 50 - Loss: 0.375\n",
            "\tIter 50/ 50 - Loss: 0.368\n"
          ]
        },
        {
          "name": "stderr",
          "output_type": "stream",
          "text": [
            "\n",
            "111it [04:37,  2.48s/it]\u001b[A"
          ]
        },
        {
          "name": "stdout",
          "output_type": "stream",
          "text": [
            "\tIter 10/ 50 - Loss: 0.421\n",
            "\tIter 20/ 50 - Loss: 0.395\n",
            "\tIter 30/ 50 - Loss: 0.384\n",
            "\tIter 40/ 50 - Loss: 0.377\n",
            "\tIter 50/ 50 - Loss: 0.373\n"
          ]
        },
        {
          "name": "stderr",
          "output_type": "stream",
          "text": [
            "\n",
            "112it [04:39,  2.49s/it]\u001b[A"
          ]
        },
        {
          "name": "stdout",
          "output_type": "stream",
          "text": [
            "\tIter 10/ 50 - Loss: 0.421\n",
            "\tIter 20/ 50 - Loss: 0.396\n",
            "\tIter 30/ 50 - Loss: 0.385\n",
            "\tIter 40/ 50 - Loss: 0.379\n",
            "\tIter 50/ 50 - Loss: 0.375\n"
          ]
        },
        {
          "name": "stderr",
          "output_type": "stream",
          "text": [
            "\n",
            "113it [04:42,  2.48s/it]\u001b[A"
          ]
        },
        {
          "name": "stdout",
          "output_type": "stream",
          "text": [
            "\tIter 10/ 50 - Loss: 0.431\n",
            "\tIter 20/ 50 - Loss: 0.399\n",
            "\tIter 30/ 50 - Loss: 0.385\n",
            "\tIter 40/ 50 - Loss: 0.377\n",
            "\tIter 50/ 50 - Loss: 0.37\n"
          ]
        },
        {
          "name": "stderr",
          "output_type": "stream",
          "text": [
            "\n",
            "114it [04:44,  2.48s/it]\u001b[A"
          ]
        },
        {
          "name": "stdout",
          "output_type": "stream",
          "text": [
            "\tIter 10/ 50 - Loss: 0.445\n",
            "\tIter 20/ 50 - Loss: 0.422\n",
            "\tIter 30/ 50 - Loss: 0.41\n",
            "\tIter 40/ 50 - Loss: 0.403\n",
            "\tIter 50/ 50 - Loss: 0.397\n"
          ]
        },
        {
          "name": "stderr",
          "output_type": "stream",
          "text": [
            "\n",
            "115it [04:47,  2.47s/it]\u001b[A"
          ]
        },
        {
          "name": "stdout",
          "output_type": "stream",
          "text": [
            "\tIter 10/ 50 - Loss: 0.491\n",
            "\tIter 20/ 50 - Loss: 0.427\n",
            "\tIter 30/ 50 - Loss: 0.4\n",
            "\tIter 40/ 50 - Loss: 0.385\n",
            "\tIter 50/ 50 - Loss: 0.375\n"
          ]
        },
        {
          "name": "stderr",
          "output_type": "stream",
          "text": [
            "\n",
            "116it [04:49,  2.55s/it]\u001b[A"
          ]
        },
        {
          "name": "stdout",
          "output_type": "stream",
          "text": [
            "\tIter 10/ 50 - Loss: 0.42\n",
            "\tIter 20/ 50 - Loss: 0.392\n",
            "\tIter 30/ 50 - Loss: 0.379\n",
            "\tIter 40/ 50 - Loss: 0.372\n",
            "\tIter 50/ 50 - Loss: 0.368\n"
          ]
        },
        {
          "name": "stderr",
          "output_type": "stream",
          "text": [
            "\n",
            "117it [04:52,  2.53s/it]\u001b[A"
          ]
        },
        {
          "name": "stdout",
          "output_type": "stream",
          "text": [
            "\tIter 10/ 50 - Loss: 0.424\n",
            "\tIter 20/ 50 - Loss: 0.391\n",
            "\tIter 30/ 50 - Loss: 0.376\n",
            "\tIter 40/ 50 - Loss: 0.368\n",
            "\tIter 50/ 50 - Loss: 0.363\n"
          ]
        },
        {
          "name": "stderr",
          "output_type": "stream",
          "text": [
            "\n",
            "118it [04:54,  2.50s/it]\u001b[A"
          ]
        },
        {
          "name": "stdout",
          "output_type": "stream",
          "text": [
            "\tIter 10/ 50 - Loss: 0.415\n",
            "\tIter 20/ 50 - Loss: 0.392\n",
            "\tIter 30/ 50 - Loss: 0.381\n",
            "\tIter 40/ 50 - Loss: 0.374\n",
            "\tIter 50/ 50 - Loss: 0.37\n"
          ]
        },
        {
          "name": "stderr",
          "output_type": "stream",
          "text": [
            "\n",
            "119it [04:57,  2.48s/it]\u001b[A"
          ]
        },
        {
          "name": "stdout",
          "output_type": "stream",
          "text": [
            "\tIter 10/ 50 - Loss: 0.442\n",
            "\tIter 20/ 50 - Loss: 0.393\n",
            "\tIter 30/ 50 - Loss: 0.374\n",
            "\tIter 40/ 50 - Loss: 0.365\n",
            "\tIter 50/ 50 - Loss: 0.36\n"
          ]
        },
        {
          "name": "stderr",
          "output_type": "stream",
          "text": [
            "\n",
            "120it [04:59,  2.46s/it]\u001b[A"
          ]
        },
        {
          "name": "stdout",
          "output_type": "stream",
          "text": [
            "\tIter 10/ 50 - Loss: 0.393\n",
            "\tIter 20/ 50 - Loss: 0.373\n",
            "\tIter 30/ 50 - Loss: 0.365\n",
            "\tIter 40/ 50 - Loss: 0.361\n",
            "\tIter 50/ 50 - Loss: 0.359\n"
          ]
        },
        {
          "name": "stderr",
          "output_type": "stream",
          "text": [
            "\n",
            "121it [05:02,  2.47s/it]\u001b[A"
          ]
        },
        {
          "name": "stdout",
          "output_type": "stream",
          "text": [
            "\tIter 10/ 50 - Loss: 0.445\n",
            "\tIter 20/ 50 - Loss: 0.408\n",
            "\tIter 30/ 50 - Loss: 0.392\n",
            "\tIter 40/ 50 - Loss: 0.383\n",
            "\tIter 50/ 50 - Loss: 0.377\n"
          ]
        },
        {
          "name": "stderr",
          "output_type": "stream",
          "text": [
            "\n",
            "122it [05:04,  2.46s/it]\u001b[A"
          ]
        },
        {
          "name": "stdout",
          "output_type": "stream",
          "text": [
            "\tIter 10/ 50 - Loss: 0.41\n",
            "\tIter 20/ 50 - Loss: 0.386\n",
            "\tIter 30/ 50 - Loss: 0.377\n",
            "\tIter 40/ 50 - Loss: 0.373\n",
            "\tIter 50/ 50 - Loss: 0.37\n"
          ]
        },
        {
          "name": "stderr",
          "output_type": "stream",
          "text": [
            "\n",
            "123it [05:06,  2.46s/it]\u001b[A"
          ]
        },
        {
          "name": "stdout",
          "output_type": "stream",
          "text": [
            "\tIter 10/ 50 - Loss: 0.406\n",
            "\tIter 20/ 50 - Loss: 0.388\n",
            "\tIter 30/ 50 - Loss: 0.379\n",
            "\tIter 40/ 50 - Loss: 0.373\n",
            "\tIter 50/ 50 - Loss: 0.37\n"
          ]
        },
        {
          "name": "stderr",
          "output_type": "stream",
          "text": [
            "\n",
            "124it [05:09,  2.52s/it]\u001b[A"
          ]
        },
        {
          "name": "stdout",
          "output_type": "stream",
          "text": [
            "\tIter 10/ 50 - Loss: 0.43\n",
            "\tIter 20/ 50 - Loss: 0.403\n",
            "\tIter 30/ 50 - Loss: 0.39\n",
            "\tIter 40/ 50 - Loss: 0.383\n",
            "\tIter 50/ 50 - Loss: 0.377\n"
          ]
        },
        {
          "name": "stderr",
          "output_type": "stream",
          "text": [
            "\n",
            "125it [05:12,  2.50s/it]\u001b[A"
          ]
        },
        {
          "name": "stdout",
          "output_type": "stream",
          "text": [
            "\tIter 10/ 50 - Loss: 0.435\n",
            "\tIter 20/ 50 - Loss: 0.397\n",
            "\tIter 30/ 50 - Loss: 0.382\n",
            "\tIter 40/ 50 - Loss: 0.374\n",
            "\tIter 50/ 50 - Loss: 0.369\n"
          ]
        },
        {
          "name": "stderr",
          "output_type": "stream",
          "text": [
            "\n",
            "126it [05:14,  2.52s/it]\u001b[A"
          ]
        },
        {
          "name": "stdout",
          "output_type": "stream",
          "text": [
            "\tIter 10/ 50 - Loss: 0.491\n",
            "\tIter 20/ 50 - Loss: 0.435\n",
            "\tIter 30/ 50 - Loss: 0.412\n",
            "\tIter 40/ 50 - Loss: 0.398\n",
            "\tIter 50/ 50 - Loss: 0.387\n"
          ]
        },
        {
          "name": "stderr",
          "output_type": "stream",
          "text": [
            "\n",
            "127it [05:17,  2.50s/it]\u001b[A"
          ]
        },
        {
          "name": "stdout",
          "output_type": "stream",
          "text": [
            "\tIter 10/ 50 - Loss: 0.421\n",
            "\tIter 20/ 50 - Loss: 0.393\n",
            "\tIter 30/ 50 - Loss: 0.382\n",
            "\tIter 40/ 50 - Loss: 0.376\n",
            "\tIter 50/ 50 - Loss: 0.372\n"
          ]
        },
        {
          "name": "stderr",
          "output_type": "stream",
          "text": [
            "\n",
            "128it [05:19,  2.48s/it]\u001b[A"
          ]
        },
        {
          "name": "stdout",
          "output_type": "stream",
          "text": [
            "\tIter 10/ 50 - Loss: 0.415\n",
            "\tIter 20/ 50 - Loss: 0.399\n",
            "\tIter 30/ 50 - Loss: 0.39\n",
            "\tIter 40/ 50 - Loss: 0.385\n",
            "\tIter 50/ 50 - Loss: 0.381\n"
          ]
        },
        {
          "name": "stderr",
          "output_type": "stream",
          "text": [
            "\n",
            "129it [05:21,  2.47s/it]\u001b[A"
          ]
        },
        {
          "name": "stdout",
          "output_type": "stream",
          "text": [
            "\tIter 10/ 50 - Loss: 0.463\n",
            "\tIter 20/ 50 - Loss: 0.429\n",
            "\tIter 30/ 50 - Loss: 0.413\n",
            "\tIter 40/ 50 - Loss: 0.402\n",
            "\tIter 50/ 50 - Loss: 0.393\n"
          ]
        },
        {
          "name": "stderr",
          "output_type": "stream",
          "text": [
            "\n",
            "130it [05:24,  2.48s/it]\u001b[A"
          ]
        },
        {
          "name": "stdout",
          "output_type": "stream",
          "text": [
            "\tIter 10/ 50 - Loss: 0.441\n",
            "\tIter 20/ 50 - Loss: 0.406\n",
            "\tIter 30/ 50 - Loss: 0.392\n",
            "\tIter 40/ 50 - Loss: 0.383\n",
            "\tIter 50/ 50 - Loss: 0.378\n"
          ]
        },
        {
          "name": "stderr",
          "output_type": "stream",
          "text": [
            "\n",
            "131it [05:27,  2.54s/it]\u001b[A"
          ]
        },
        {
          "name": "stdout",
          "output_type": "stream",
          "text": [
            "\tIter 10/ 50 - Loss: 0.429\n",
            "\tIter 20/ 50 - Loss: 0.403\n",
            "\tIter 30/ 50 - Loss: 0.389\n",
            "\tIter 40/ 50 - Loss: 0.381\n",
            "\tIter 50/ 50 - Loss: 0.376\n"
          ]
        },
        {
          "name": "stderr",
          "output_type": "stream",
          "text": [
            "\n",
            "132it [05:29,  2.52s/it]\u001b[A"
          ]
        },
        {
          "name": "stdout",
          "output_type": "stream",
          "text": [
            "\tIter 10/ 50 - Loss: 0.47\n",
            "\tIter 20/ 50 - Loss: 0.413\n",
            "\tIter 30/ 50 - Loss: 0.392\n",
            "\tIter 40/ 50 - Loss: 0.381\n",
            "\tIter 50/ 50 - Loss: 0.374\n"
          ]
        },
        {
          "name": "stderr",
          "output_type": "stream",
          "text": [
            "\n",
            "133it [05:32,  2.50s/it]\u001b[A"
          ]
        },
        {
          "name": "stdout",
          "output_type": "stream",
          "text": [
            "\tIter 10/ 50 - Loss: 0.442\n",
            "\tIter 20/ 50 - Loss: 0.406\n",
            "\tIter 30/ 50 - Loss: 0.391\n",
            "\tIter 40/ 50 - Loss: 0.381\n",
            "\tIter 50/ 50 - Loss: 0.375\n"
          ]
        },
        {
          "name": "stderr",
          "output_type": "stream",
          "text": [
            "\n",
            "134it [05:34,  2.49s/it]\u001b[A"
          ]
        },
        {
          "name": "stdout",
          "output_type": "stream",
          "text": [
            "\tIter 10/ 50 - Loss: 0.418\n",
            "\tIter 20/ 50 - Loss: 0.397\n",
            "\tIter 30/ 50 - Loss: 0.386\n",
            "\tIter 40/ 50 - Loss: 0.379\n",
            "\tIter 50/ 50 - Loss: 0.374\n"
          ]
        },
        {
          "name": "stderr",
          "output_type": "stream",
          "text": [
            "\n",
            "135it [05:36,  2.48s/it]\u001b[A"
          ]
        },
        {
          "name": "stdout",
          "output_type": "stream",
          "text": [
            "\tIter 10/ 50 - Loss: 0.406\n",
            "\tIter 20/ 50 - Loss: 0.394\n",
            "\tIter 30/ 50 - Loss: 0.387\n",
            "\tIter 40/ 50 - Loss: 0.383\n",
            "\tIter 50/ 50 - Loss: 0.38\n"
          ]
        },
        {
          "name": "stderr",
          "output_type": "stream",
          "text": [
            "\n",
            "136it [05:39,  2.49s/it]\u001b[A"
          ]
        },
        {
          "name": "stdout",
          "output_type": "stream",
          "text": [
            "\tIter 10/ 50 - Loss: 0.442\n",
            "\tIter 20/ 50 - Loss: 0.406\n",
            "\tIter 30/ 50 - Loss: 0.389\n",
            "\tIter 40/ 50 - Loss: 0.38\n",
            "\tIter 50/ 50 - Loss: 0.374\n"
          ]
        },
        {
          "name": "stderr",
          "output_type": "stream",
          "text": [
            "\n",
            "137it [05:41,  2.48s/it]\u001b[A"
          ]
        },
        {
          "name": "stdout",
          "output_type": "stream",
          "text": [
            "\tIter 10/ 50 - Loss: 0.429\n",
            "\tIter 20/ 50 - Loss: 0.4\n",
            "\tIter 30/ 50 - Loss: 0.389\n",
            "\tIter 40/ 50 - Loss: 0.382\n",
            "\tIter 50/ 50 - Loss: 0.377\n"
          ]
        },
        {
          "name": "stderr",
          "output_type": "stream",
          "text": [
            "\n",
            "138it [05:44,  2.55s/it]\u001b[A"
          ]
        },
        {
          "name": "stdout",
          "output_type": "stream",
          "text": [
            "\tIter 10/ 50 - Loss: 0.429\n",
            "\tIter 20/ 50 - Loss: 0.401\n",
            "\tIter 30/ 50 - Loss: 0.388\n",
            "\tIter 40/ 50 - Loss: 0.381\n",
            "\tIter 50/ 50 - Loss: 0.376\n"
          ]
        },
        {
          "name": "stderr",
          "output_type": "stream",
          "text": [
            "\n",
            "139it [05:47,  2.53s/it]\u001b[A"
          ]
        },
        {
          "name": "stdout",
          "output_type": "stream",
          "text": [
            "\tIter 10/ 50 - Loss: 0.439\n",
            "\tIter 20/ 50 - Loss: 0.411\n",
            "\tIter 30/ 50 - Loss: 0.397\n",
            "\tIter 40/ 50 - Loss: 0.389\n",
            "\tIter 50/ 50 - Loss: 0.383\n"
          ]
        },
        {
          "name": "stderr",
          "output_type": "stream",
          "text": [
            "\n",
            "140it [05:49,  2.53s/it]\u001b[A"
          ]
        },
        {
          "name": "stdout",
          "output_type": "stream",
          "text": [
            "\tIter 10/ 50 - Loss: 0.478\n",
            "\tIter 20/ 50 - Loss: 0.431\n",
            "\tIter 30/ 50 - Loss: 0.408\n",
            "\tIter 40/ 50 - Loss: 0.395\n",
            "\tIter 50/ 50 - Loss: 0.387\n"
          ]
        },
        {
          "name": "stderr",
          "output_type": "stream",
          "text": [
            "\n",
            "141it [05:52,  2.52s/it]\u001b[A"
          ]
        },
        {
          "name": "stdout",
          "output_type": "stream",
          "text": [
            "\tIter 10/ 50 - Loss: 0.464\n",
            "\tIter 20/ 50 - Loss: 0.42\n",
            "\tIter 30/ 50 - Loss: 0.401\n",
            "\tIter 40/ 50 - Loss: 0.39\n",
            "\tIter 50/ 50 - Loss: 0.383\n"
          ]
        },
        {
          "name": "stderr",
          "output_type": "stream",
          "text": [
            "\n",
            "142it [05:54,  2.51s/it]\u001b[A"
          ]
        },
        {
          "name": "stdout",
          "output_type": "stream",
          "text": [
            "\tIter 10/ 50 - Loss: 0.421\n",
            "\tIter 20/ 50 - Loss: 0.404\n",
            "\tIter 30/ 50 - Loss: 0.394\n",
            "\tIter 40/ 50 - Loss: 0.388\n",
            "\tIter 50/ 50 - Loss: 0.383\n"
          ]
        },
        {
          "name": "stderr",
          "output_type": "stream",
          "text": [
            "\n",
            "143it [05:57,  2.51s/it]\u001b[A"
          ]
        },
        {
          "name": "stdout",
          "output_type": "stream",
          "text": [
            "\tIter 10/ 50 - Loss: 0.434\n",
            "\tIter 20/ 50 - Loss: 0.407\n",
            "\tIter 30/ 50 - Loss: 0.394\n",
            "\tIter 40/ 50 - Loss: 0.386\n",
            "\tIter 50/ 50 - Loss: 0.38\n"
          ]
        },
        {
          "name": "stderr",
          "output_type": "stream",
          "text": [
            "\n",
            "144it [05:59,  2.51s/it]\u001b[A"
          ]
        },
        {
          "name": "stdout",
          "output_type": "stream",
          "text": [
            "\tIter 10/ 50 - Loss: 0.438\n",
            "\tIter 20/ 50 - Loss: 0.406\n",
            "\tIter 30/ 50 - Loss: 0.392\n",
            "\tIter 40/ 50 - Loss: 0.385\n",
            "\tIter 50/ 50 - Loss: 0.381\n"
          ]
        },
        {
          "name": "stderr",
          "output_type": "stream",
          "text": [
            "\n",
            "145it [06:02,  2.54s/it]\u001b[A"
          ]
        },
        {
          "name": "stdout",
          "output_type": "stream",
          "text": [
            "\tIter 10/ 50 - Loss: 0.414\n",
            "\tIter 20/ 50 - Loss: 0.398\n",
            "\tIter 30/ 50 - Loss: 0.388\n",
            "\tIter 40/ 50 - Loss: 0.381\n",
            "\tIter 50/ 50 - Loss: 0.376\n"
          ]
        },
        {
          "name": "stderr",
          "output_type": "stream",
          "text": [
            "\n",
            "146it [06:04,  2.54s/it]\u001b[A"
          ]
        },
        {
          "name": "stdout",
          "output_type": "stream",
          "text": [
            "\tIter 10/ 50 - Loss: 0.409\n",
            "\tIter 20/ 50 - Loss: 0.388\n",
            "\tIter 30/ 50 - Loss: 0.38\n",
            "\tIter 40/ 50 - Loss: 0.375\n",
            "\tIter 50/ 50 - Loss: 0.371\n"
          ]
        },
        {
          "name": "stderr",
          "output_type": "stream",
          "text": [
            "\n",
            "147it [06:07,  2.57s/it]\u001b[A"
          ]
        },
        {
          "name": "stdout",
          "output_type": "stream",
          "text": [
            "\tIter 10/ 50 - Loss: 0.403\n",
            "\tIter 20/ 50 - Loss: 0.388\n",
            "\tIter 30/ 50 - Loss: 0.38\n",
            "\tIter 40/ 50 - Loss: 0.375\n",
            "\tIter 50/ 50 - Loss: 0.371\n"
          ]
        },
        {
          "name": "stderr",
          "output_type": "stream",
          "text": [
            "\n",
            "148it [06:09,  2.56s/it]\u001b[A"
          ]
        },
        {
          "name": "stdout",
          "output_type": "stream",
          "text": [
            "\tIter 10/ 50 - Loss: 0.45\n",
            "\tIter 20/ 50 - Loss: 0.414\n",
            "\tIter 30/ 50 - Loss: 0.399\n",
            "\tIter 40/ 50 - Loss: 0.391\n",
            "\tIter 50/ 50 - Loss: 0.386\n"
          ]
        },
        {
          "name": "stderr",
          "output_type": "stream",
          "text": [
            "\n",
            "149it [06:12,  2.55s/it]\u001b[A"
          ]
        },
        {
          "name": "stdout",
          "output_type": "stream",
          "text": [
            "\tIter 10/ 50 - Loss: 0.427\n",
            "\tIter 20/ 50 - Loss: 0.392\n",
            "\tIter 30/ 50 - Loss: 0.383\n",
            "\tIter 40/ 50 - Loss: 0.377\n",
            "\tIter 50/ 50 - Loss: 0.374\n"
          ]
        },
        {
          "name": "stderr",
          "output_type": "stream",
          "text": [
            "\n",
            "150it [06:15,  2.56s/it]\u001b[A"
          ]
        },
        {
          "name": "stdout",
          "output_type": "stream",
          "text": [
            "\tIter 10/ 50 - Loss: 0.42\n",
            "\tIter 20/ 50 - Loss: 0.399\n",
            "\tIter 30/ 50 - Loss: 0.392\n",
            "\tIter 40/ 50 - Loss: 0.386\n",
            "\tIter 50/ 50 - Loss: 0.383\n"
          ]
        },
        {
          "name": "stderr",
          "output_type": "stream",
          "text": [
            "\n",
            "151it [06:17,  2.54s/it]\u001b[A"
          ]
        },
        {
          "name": "stdout",
          "output_type": "stream",
          "text": [
            "\tIter 10/ 50 - Loss: 0.415\n",
            "\tIter 20/ 50 - Loss: 0.397\n",
            "\tIter 30/ 50 - Loss: 0.389\n",
            "\tIter 40/ 50 - Loss: 0.383\n",
            "\tIter 50/ 50 - Loss: 0.379\n"
          ]
        },
        {
          "name": "stderr",
          "output_type": "stream",
          "text": [
            "\n",
            "152it [06:20,  2.52s/it]\u001b[A"
          ]
        },
        {
          "name": "stdout",
          "output_type": "stream",
          "text": [
            "\tIter 10/ 50 - Loss: 0.436\n",
            "\tIter 20/ 50 - Loss: 0.411\n",
            "\tIter 30/ 50 - Loss: 0.398\n",
            "\tIter 40/ 50 - Loss: 0.39\n",
            "\tIter 50/ 50 - Loss: 0.385\n"
          ]
        },
        {
          "name": "stderr",
          "output_type": "stream",
          "text": [
            "\n",
            "153it [06:22,  2.52s/it]\u001b[A"
          ]
        },
        {
          "name": "stdout",
          "output_type": "stream",
          "text": [
            "\tIter 10/ 50 - Loss: 0.458\n",
            "\tIter 20/ 50 - Loss: 0.419\n",
            "\tIter 30/ 50 - Loss: 0.4\n",
            "\tIter 40/ 50 - Loss: 0.389\n",
            "\tIter 50/ 50 - Loss: 0.381\n"
          ]
        },
        {
          "name": "stderr",
          "output_type": "stream",
          "text": [
            "\n",
            "154it [06:25,  2.58s/it]\u001b[A"
          ]
        },
        {
          "name": "stdout",
          "output_type": "stream",
          "text": [
            "\tIter 10/ 50 - Loss: 0.426\n",
            "\tIter 20/ 50 - Loss: 0.39\n",
            "\tIter 30/ 50 - Loss: 0.375\n",
            "\tIter 40/ 50 - Loss: 0.368\n",
            "\tIter 50/ 50 - Loss: 0.363\n"
          ]
        },
        {
          "name": "stderr",
          "output_type": "stream",
          "text": [
            "\n",
            "155it [06:27,  2.57s/it]\u001b[A"
          ]
        },
        {
          "name": "stdout",
          "output_type": "stream",
          "text": [
            "\tIter 10/ 50 - Loss: 0.414\n",
            "\tIter 20/ 50 - Loss: 0.394\n",
            "\tIter 30/ 50 - Loss: 0.386\n",
            "\tIter 40/ 50 - Loss: 0.381\n",
            "\tIter 50/ 50 - Loss: 0.377\n"
          ]
        },
        {
          "name": "stderr",
          "output_type": "stream",
          "text": [
            "\n",
            "156it [06:30,  2.54s/it]\u001b[A"
          ]
        },
        {
          "name": "stdout",
          "output_type": "stream",
          "text": [
            "\tIter 10/ 50 - Loss: 0.407\n",
            "\tIter 20/ 50 - Loss: 0.383\n",
            "\tIter 30/ 50 - Loss: 0.374\n",
            "\tIter 40/ 50 - Loss: 0.369\n",
            "\tIter 50/ 50 - Loss: 0.365\n"
          ]
        },
        {
          "name": "stderr",
          "output_type": "stream",
          "text": [
            "\n",
            "157it [06:32,  2.53s/it]\u001b[A"
          ]
        },
        {
          "name": "stdout",
          "output_type": "stream",
          "text": [
            "\tIter 10/ 50 - Loss: 0.42\n",
            "\tIter 20/ 50 - Loss: 0.399\n",
            "\tIter 30/ 50 - Loss: 0.388\n",
            "\tIter 40/ 50 - Loss: 0.382\n",
            "\tIter 50/ 50 - Loss: 0.377\n"
          ]
        },
        {
          "name": "stderr",
          "output_type": "stream",
          "text": [
            "\n",
            "158it [06:35,  2.53s/it]\u001b[A"
          ]
        },
        {
          "name": "stdout",
          "output_type": "stream",
          "text": [
            "\tIter 10/ 50 - Loss: 0.432\n",
            "\tIter 20/ 50 - Loss: 0.401\n",
            "\tIter 30/ 50 - Loss: 0.386\n",
            "\tIter 40/ 50 - Loss: 0.378\n",
            "\tIter 50/ 50 - Loss: 0.372\n"
          ]
        },
        {
          "name": "stderr",
          "output_type": "stream",
          "text": [
            "\n",
            "159it [06:37,  2.55s/it]\u001b[A"
          ]
        },
        {
          "name": "stdout",
          "output_type": "stream",
          "text": [
            "\tIter 10/ 50 - Loss: 0.404\n",
            "\tIter 20/ 50 - Loss: 0.386\n",
            "\tIter 30/ 50 - Loss: 0.376\n",
            "\tIter 40/ 50 - Loss: 0.37\n",
            "\tIter 50/ 50 - Loss: 0.366\n"
          ]
        },
        {
          "name": "stderr",
          "output_type": "stream",
          "text": [
            "\n",
            "160it [06:40,  2.53s/it]\u001b[A"
          ]
        },
        {
          "name": "stdout",
          "output_type": "stream",
          "text": [
            "\tIter 10/ 50 - Loss: 0.448\n",
            "\tIter 20/ 50 - Loss: 0.407\n",
            "\tIter 30/ 50 - Loss: 0.39\n",
            "\tIter 40/ 50 - Loss: 0.38\n",
            "\tIter 50/ 50 - Loss: 0.374\n"
          ]
        },
        {
          "name": "stderr",
          "output_type": "stream",
          "text": [
            "\n",
            "161it [06:42,  2.51s/it]\u001b[A"
          ]
        },
        {
          "name": "stdout",
          "output_type": "stream",
          "text": [
            "\tIter 10/ 50 - Loss: 0.411\n",
            "\tIter 20/ 50 - Loss: 0.394\n",
            "\tIter 30/ 50 - Loss: 0.385\n",
            "\tIter 40/ 50 - Loss: 0.379\n",
            "\tIter 50/ 50 - Loss: 0.375\n"
          ]
        },
        {
          "name": "stderr",
          "output_type": "stream",
          "text": [
            "\n",
            "162it [06:45,  2.61s/it]\u001b[A"
          ]
        },
        {
          "name": "stdout",
          "output_type": "stream",
          "text": [
            "\tIter 10/ 50 - Loss: 0.44\n",
            "\tIter 20/ 50 - Loss: 0.406\n",
            "\tIter 30/ 50 - Loss: 0.392\n",
            "\tIter 40/ 50 - Loss: 0.383\n",
            "\tIter 50/ 50 - Loss: 0.378\n"
          ]
        },
        {
          "name": "stderr",
          "output_type": "stream",
          "text": [
            "\n",
            "163it [06:48,  2.59s/it]\u001b[A"
          ]
        },
        {
          "name": "stdout",
          "output_type": "stream",
          "text": [
            "\tIter 10/ 50 - Loss: 0.393\n",
            "\tIter 20/ 50 - Loss: 0.387\n",
            "\tIter 30/ 50 - Loss: 0.382\n",
            "\tIter 40/ 50 - Loss: 0.379\n",
            "\tIter 50/ 50 - Loss: 0.376\n"
          ]
        },
        {
          "name": "stderr",
          "output_type": "stream",
          "text": [
            "\n",
            "164it [06:50,  2.59s/it]\u001b[A"
          ]
        },
        {
          "name": "stdout",
          "output_type": "stream",
          "text": [
            "\tIter 10/ 50 - Loss: 0.426\n",
            "\tIter 20/ 50 - Loss: 0.404\n",
            "\tIter 30/ 50 - Loss: 0.391\n",
            "\tIter 40/ 50 - Loss: 0.383\n",
            "\tIter 50/ 50 - Loss: 0.377\n"
          ]
        },
        {
          "name": "stderr",
          "output_type": "stream",
          "text": [
            "\n",
            "165it [06:53,  2.56s/it]\u001b[A"
          ]
        },
        {
          "name": "stdout",
          "output_type": "stream",
          "text": [
            "\tIter 10/ 50 - Loss: 0.437\n",
            "\tIter 20/ 50 - Loss: 0.412\n",
            "\tIter 30/ 50 - Loss: 0.397\n",
            "\tIter 40/ 50 - Loss: 0.386\n",
            "\tIter 50/ 50 - Loss: 0.378\n"
          ]
        },
        {
          "name": "stderr",
          "output_type": "stream",
          "text": [
            "\n",
            "166it [06:55,  2.55s/it]\u001b[A"
          ]
        },
        {
          "name": "stdout",
          "output_type": "stream",
          "text": [
            "\tIter 10/ 50 - Loss: 0.414\n",
            "\tIter 20/ 50 - Loss: 0.393\n",
            "\tIter 30/ 50 - Loss: 0.381\n",
            "\tIter 40/ 50 - Loss: 0.373\n",
            "\tIter 50/ 50 - Loss: 0.367\n"
          ]
        },
        {
          "name": "stderr",
          "output_type": "stream",
          "text": [
            "\n",
            "167it [06:58,  2.53s/it]\u001b[A"
          ]
        },
        {
          "name": "stdout",
          "output_type": "stream",
          "text": [
            "\tIter 10/ 50 - Loss: 0.439\n",
            "\tIter 20/ 50 - Loss: 0.396\n",
            "\tIter 30/ 50 - Loss: 0.382\n",
            "\tIter 40/ 50 - Loss: 0.374\n",
            "\tIter 50/ 50 - Loss: 0.368\n"
          ]
        },
        {
          "name": "stderr",
          "output_type": "stream",
          "text": [
            "\n",
            "168it [07:00,  2.54s/it]\u001b[A"
          ]
        },
        {
          "name": "stdout",
          "output_type": "stream",
          "text": [
            "\tIter 10/ 50 - Loss: 0.384\n",
            "\tIter 20/ 50 - Loss: 0.368\n",
            "\tIter 30/ 50 - Loss: 0.362\n",
            "\tIter 40/ 50 - Loss: 0.357\n",
            "\tIter 50/ 50 - Loss: 0.354\n"
          ]
        },
        {
          "name": "stderr",
          "output_type": "stream",
          "text": [
            "\n",
            "169it [07:03,  2.60s/it]\u001b[A"
          ]
        },
        {
          "name": "stdout",
          "output_type": "stream",
          "text": [
            "\tIter 10/ 50 - Loss: 0.406\n",
            "\tIter 20/ 50 - Loss: 0.39\n",
            "\tIter 30/ 50 - Loss: 0.379\n",
            "\tIter 40/ 50 - Loss: 0.371\n",
            "\tIter 50/ 50 - Loss: 0.366\n"
          ]
        },
        {
          "name": "stderr",
          "output_type": "stream",
          "text": [
            "\n",
            "170it [07:06,  2.58s/it]\u001b[A"
          ]
        },
        {
          "name": "stdout",
          "output_type": "stream",
          "text": [
            "\tIter 10/ 50 - Loss: 0.394\n",
            "\tIter 20/ 50 - Loss: 0.378\n",
            "\tIter 30/ 50 - Loss: 0.37\n",
            "\tIter 40/ 50 - Loss: 0.365\n",
            "\tIter 50/ 50 - Loss: 0.361\n"
          ]
        },
        {
          "name": "stderr",
          "output_type": "stream",
          "text": [
            "\n",
            "171it [07:08,  2.56s/it]\u001b[A"
          ]
        },
        {
          "name": "stdout",
          "output_type": "stream",
          "text": [
            "\tIter 10/ 50 - Loss: 0.444\n",
            "\tIter 20/ 50 - Loss: 0.409\n",
            "\tIter 30/ 50 - Loss: 0.391\n",
            "\tIter 40/ 50 - Loss: 0.38\n",
            "\tIter 50/ 50 - Loss: 0.373\n"
          ]
        },
        {
          "name": "stderr",
          "output_type": "stream",
          "text": [
            "\n",
            "172it [07:11,  2.56s/it]\u001b[A"
          ]
        },
        {
          "name": "stdout",
          "output_type": "stream",
          "text": [
            "\tIter 10/ 50 - Loss: 0.4\n",
            "\tIter 20/ 50 - Loss: 0.383\n",
            "\tIter 30/ 50 - Loss: 0.374\n",
            "\tIter 40/ 50 - Loss: 0.369\n",
            "\tIter 50/ 50 - Loss: 0.365\n"
          ]
        },
        {
          "name": "stderr",
          "output_type": "stream",
          "text": [
            "\n",
            "173it [07:14,  2.62s/it]\u001b[A"
          ]
        },
        {
          "name": "stdout",
          "output_type": "stream",
          "text": [
            "\tIter 10/ 50 - Loss: 0.398\n",
            "\tIter 20/ 50 - Loss: 0.381\n",
            "\tIter 30/ 50 - Loss: 0.373\n",
            "\tIter 40/ 50 - Loss: 0.368\n",
            "\tIter 50/ 50 - Loss: 0.365\n"
          ]
        },
        {
          "name": "stderr",
          "output_type": "stream",
          "text": [
            "\n",
            "174it [07:16,  2.60s/it]\u001b[A"
          ]
        },
        {
          "name": "stdout",
          "output_type": "stream",
          "text": [
            "\tIter 10/ 50 - Loss: 0.41\n",
            "\tIter 20/ 50 - Loss: 0.392\n",
            "\tIter 30/ 50 - Loss: 0.382\n",
            "\tIter 40/ 50 - Loss: 0.375\n",
            "\tIter 50/ 50 - Loss: 0.37\n"
          ]
        },
        {
          "name": "stderr",
          "output_type": "stream",
          "text": [
            "\n",
            "175it [07:19,  2.58s/it]\u001b[A"
          ]
        },
        {
          "name": "stdout",
          "output_type": "stream",
          "text": [
            "\tIter 10/ 50 - Loss: 0.383\n",
            "\tIter 20/ 50 - Loss: 0.367\n",
            "\tIter 30/ 50 - Loss: 0.361\n",
            "\tIter 40/ 50 - Loss: 0.357\n",
            "\tIter 50/ 50 - Loss: 0.354\n"
          ]
        },
        {
          "name": "stderr",
          "output_type": "stream",
          "text": [
            "\n",
            "176it [07:21,  2.57s/it]\u001b[A"
          ]
        },
        {
          "name": "stdout",
          "output_type": "stream",
          "text": [
            "\tIter 10/ 50 - Loss: 0.421\n",
            "\tIter 20/ 50 - Loss: 0.398\n",
            "\tIter 30/ 50 - Loss: 0.385\n",
            "\tIter 40/ 50 - Loss: 0.378\n",
            "\tIter 50/ 50 - Loss: 0.372\n"
          ]
        },
        {
          "name": "stderr",
          "output_type": "stream",
          "text": [
            "\n",
            "177it [07:24,  2.62s/it]\u001b[A"
          ]
        },
        {
          "name": "stdout",
          "output_type": "stream",
          "text": [
            "\tIter 10/ 50 - Loss: 0.437\n",
            "\tIter 20/ 50 - Loss: 0.403\n",
            "\tIter 30/ 50 - Loss: 0.384\n",
            "\tIter 40/ 50 - Loss: 0.373\n",
            "\tIter 50/ 50 - Loss: 0.365\n"
          ]
        },
        {
          "name": "stderr",
          "output_type": "stream",
          "text": [
            "\n",
            "178it [07:27,  2.62s/it]\u001b[A"
          ]
        },
        {
          "name": "stdout",
          "output_type": "stream",
          "text": [
            "\tIter 10/ 50 - Loss: 0.392\n",
            "\tIter 20/ 50 - Loss: 0.371\n",
            "\tIter 30/ 50 - Loss: 0.361\n",
            "\tIter 40/ 50 - Loss: 0.356\n",
            "\tIter 50/ 50 - Loss: 0.351\n"
          ]
        },
        {
          "name": "stderr",
          "output_type": "stream",
          "text": [
            "\n",
            "179it [07:29,  2.61s/it]\u001b[A"
          ]
        },
        {
          "name": "stdout",
          "output_type": "stream",
          "text": [
            "\tIter 10/ 50 - Loss: 0.365\n",
            "\tIter 20/ 50 - Loss: 0.356\n",
            "\tIter 30/ 50 - Loss: 0.351\n",
            "\tIter 40/ 50 - Loss: 0.348\n",
            "\tIter 50/ 50 - Loss: 0.346\n"
          ]
        },
        {
          "name": "stderr",
          "output_type": "stream",
          "text": [
            "\n",
            "180it [07:32,  2.59s/it]\u001b[A"
          ]
        },
        {
          "name": "stdout",
          "output_type": "stream",
          "text": [
            "\tIter 10/ 50 - Loss: 0.452\n",
            "\tIter 20/ 50 - Loss: 0.43\n",
            "\tIter 30/ 50 - Loss: 0.417\n",
            "\tIter 40/ 50 - Loss: 0.407\n",
            "\tIter 50/ 50 - Loss: 0.4\n"
          ]
        },
        {
          "name": "stderr",
          "output_type": "stream",
          "text": [
            "\n",
            "181it [07:34,  2.59s/it]\u001b[A"
          ]
        },
        {
          "name": "stdout",
          "output_type": "stream",
          "text": [
            "\tIter 10/ 50 - Loss: 0.356\n",
            "\tIter 20/ 50 - Loss: 0.348\n",
            "\tIter 30/ 50 - Loss: 0.343\n",
            "\tIter 40/ 50 - Loss: 0.34\n",
            "\tIter 50/ 50 - Loss: 0.337\n"
          ]
        },
        {
          "name": "stderr",
          "output_type": "stream",
          "text": [
            "\n",
            "182it [07:37,  2.61s/it]\u001b[A"
          ]
        },
        {
          "name": "stdout",
          "output_type": "stream",
          "text": [
            "\tIter 10/ 50 - Loss: 0.399\n",
            "\tIter 20/ 50 - Loss: 0.365\n",
            "\tIter 30/ 50 - Loss: 0.351\n",
            "\tIter 40/ 50 - Loss: 0.344\n",
            "\tIter 50/ 50 - Loss: 0.339\n"
          ]
        },
        {
          "name": "stderr",
          "output_type": "stream",
          "text": [
            "\n",
            "183it [07:40,  2.63s/it]\u001b[A"
          ]
        },
        {
          "name": "stdout",
          "output_type": "stream",
          "text": [
            "\tIter 10/ 50 - Loss: 0.354\n",
            "\tIter 20/ 50 - Loss: 0.34\n",
            "\tIter 30/ 50 - Loss: 0.334\n",
            "\tIter 40/ 50 - Loss: 0.33\n",
            "\tIter 50/ 50 - Loss: 0.328\n"
          ]
        },
        {
          "name": "stderr",
          "output_type": "stream",
          "text": [
            "\n",
            "184it [07:42,  2.69s/it]\u001b[A"
          ]
        },
        {
          "name": "stdout",
          "output_type": "stream",
          "text": [
            "\tIter 10/ 50 - Loss: 0.376\n",
            "\tIter 20/ 50 - Loss: 0.365\n",
            "\tIter 30/ 50 - Loss: 0.359\n",
            "\tIter 40/ 50 - Loss: 0.354\n",
            "\tIter 50/ 50 - Loss: 0.349\n"
          ]
        },
        {
          "name": "stderr",
          "output_type": "stream",
          "text": [
            "\n",
            "185it [07:45,  2.67s/it]\u001b[A"
          ]
        },
        {
          "name": "stdout",
          "output_type": "stream",
          "text": [
            "\tIter 10/ 50 - Loss: 0.381\n",
            "\tIter 20/ 50 - Loss: 0.364\n",
            "\tIter 30/ 50 - Loss: 0.355\n",
            "\tIter 40/ 50 - Loss: 0.348\n",
            "\tIter 50/ 50 - Loss: 0.343\n"
          ]
        },
        {
          "name": "stderr",
          "output_type": "stream",
          "text": [
            "\n",
            "186it [07:48,  2.64s/it]\u001b[A"
          ]
        },
        {
          "name": "stdout",
          "output_type": "stream",
          "text": [
            "\tIter 10/ 50 - Loss: 0.431\n",
            "\tIter 20/ 50 - Loss: 0.393\n",
            "\tIter 30/ 50 - Loss: 0.376\n",
            "\tIter 40/ 50 - Loss: 0.366\n",
            "\tIter 50/ 50 - Loss: 0.36\n"
          ]
        },
        {
          "name": "stderr",
          "output_type": "stream",
          "text": [
            "\n",
            "187it [07:50,  2.66s/it]\u001b[A"
          ]
        },
        {
          "name": "stdout",
          "output_type": "stream",
          "text": [
            "\tIter 10/ 50 - Loss: 0.385\n",
            "\tIter 20/ 50 - Loss: 0.369\n",
            "\tIter 30/ 50 - Loss: 0.361\n",
            "\tIter 40/ 50 - Loss: 0.355\n",
            "\tIter 50/ 50 - Loss: 0.35\n"
          ]
        },
        {
          "name": "stderr",
          "output_type": "stream",
          "text": [
            "\n",
            "188it [07:53,  2.66s/it]\u001b[A"
          ]
        },
        {
          "name": "stdout",
          "output_type": "stream",
          "text": [
            "\tIter 10/ 50 - Loss: 0.366\n",
            "\tIter 20/ 50 - Loss: 0.351\n",
            "\tIter 30/ 50 - Loss: 0.345\n",
            "\tIter 40/ 50 - Loss: 0.34\n",
            "\tIter 50/ 50 - Loss: 0.336\n"
          ]
        },
        {
          "name": "stderr",
          "output_type": "stream",
          "text": [
            "\n",
            "189it [07:56,  2.66s/it]\u001b[A"
          ]
        },
        {
          "name": "stdout",
          "output_type": "stream",
          "text": [
            "\tIter 10/ 50 - Loss: 0.377\n",
            "\tIter 20/ 50 - Loss: 0.355\n",
            "\tIter 30/ 50 - Loss: 0.344\n",
            "\tIter 40/ 50 - Loss: 0.338\n",
            "\tIter 50/ 50 - Loss: 0.334\n"
          ]
        },
        {
          "name": "stderr",
          "output_type": "stream",
          "text": [
            "\n",
            "190it [07:58,  2.65s/it]\u001b[A"
          ]
        },
        {
          "name": "stdout",
          "output_type": "stream",
          "text": [
            "\tIter 10/ 50 - Loss: 0.366\n",
            "\tIter 20/ 50 - Loss: 0.349\n",
            "\tIter 30/ 50 - Loss: 0.34\n",
            "\tIter 40/ 50 - Loss: 0.333\n",
            "\tIter 50/ 50 - Loss: 0.328\n"
          ]
        },
        {
          "name": "stderr",
          "output_type": "stream",
          "text": [
            "\n",
            "191it [08:01,  2.66s/it]\u001b[A"
          ]
        },
        {
          "name": "stdout",
          "output_type": "stream",
          "text": [
            "\tIter 10/ 50 - Loss: 0.374\n",
            "\tIter 20/ 50 - Loss: 0.359\n",
            "\tIter 30/ 50 - Loss: 0.351\n",
            "\tIter 40/ 50 - Loss: 0.345\n",
            "\tIter 50/ 50 - Loss: 0.341\n"
          ]
        },
        {
          "name": "stderr",
          "output_type": "stream",
          "text": [
            "\n",
            "192it [08:04,  2.72s/it]\u001b[A"
          ]
        },
        {
          "name": "stdout",
          "output_type": "stream",
          "text": [
            "\tIter 10/ 50 - Loss: 0.341\n",
            "\tIter 20/ 50 - Loss: 0.333\n",
            "\tIter 30/ 50 - Loss: 0.328\n",
            "\tIter 40/ 50 - Loss: 0.324\n",
            "\tIter 50/ 50 - Loss: 0.321\n"
          ]
        },
        {
          "name": "stderr",
          "output_type": "stream",
          "text": [
            "\n",
            "193it [08:06,  2.70s/it]\u001b[A"
          ]
        },
        {
          "name": "stdout",
          "output_type": "stream",
          "text": [
            "\tIter 10/ 50 - Loss: 0.356\n",
            "\tIter 20/ 50 - Loss: 0.34\n",
            "\tIter 30/ 50 - Loss: 0.33\n",
            "\tIter 40/ 50 - Loss: 0.324\n",
            "\tIter 50/ 50 - Loss: 0.32\n"
          ]
        },
        {
          "name": "stderr",
          "output_type": "stream",
          "text": [
            "\n",
            "194it [08:09,  2.68s/it]\u001b[A"
          ]
        },
        {
          "name": "stdout",
          "output_type": "stream",
          "text": [
            "\tIter 10/ 50 - Loss: 0.375\n",
            "\tIter 20/ 50 - Loss: 0.352\n",
            "\tIter 30/ 50 - Loss: 0.338\n",
            "\tIter 40/ 50 - Loss: 0.329\n",
            "\tIter 50/ 50 - Loss: 0.323\n"
          ]
        },
        {
          "name": "stderr",
          "output_type": "stream",
          "text": [
            "\n",
            "195it [08:12,  2.68s/it]\u001b[A"
          ]
        },
        {
          "name": "stdout",
          "output_type": "stream",
          "text": [
            "\tIter 10/ 50 - Loss: 0.381\n",
            "\tIter 20/ 50 - Loss: 0.354\n",
            "\tIter 30/ 50 - Loss: 0.341\n",
            "\tIter 40/ 50 - Loss: 0.332\n",
            "\tIter 50/ 50 - Loss: 0.327\n"
          ]
        },
        {
          "name": "stderr",
          "output_type": "stream",
          "text": [
            "\n",
            "196it [08:14,  2.69s/it]\u001b[A"
          ]
        },
        {
          "name": "stdout",
          "output_type": "stream",
          "text": [
            "\tIter 10/ 50 - Loss: 0.347\n",
            "\tIter 20/ 50 - Loss: 0.339\n",
            "\tIter 30/ 50 - Loss: 0.332\n",
            "\tIter 40/ 50 - Loss: 0.328\n",
            "\tIter 50/ 50 - Loss: 0.324\n"
          ]
        },
        {
          "name": "stderr",
          "output_type": "stream",
          "text": [
            "\n",
            "197it [08:17,  2.68s/it]\u001b[A"
          ]
        },
        {
          "name": "stdout",
          "output_type": "stream",
          "text": [
            "\tIter 10/ 50 - Loss: 0.327\n",
            "\tIter 20/ 50 - Loss: 0.319\n",
            "\tIter 30/ 50 - Loss: 0.314\n",
            "\tIter 40/ 50 - Loss: 0.311\n",
            "\tIter 50/ 50 - Loss: 0.309\n"
          ]
        },
        {
          "name": "stderr",
          "output_type": "stream",
          "text": [
            "\n",
            "198it [08:20,  2.68s/it]\u001b[A"
          ]
        },
        {
          "name": "stdout",
          "output_type": "stream",
          "text": [
            "\tIter 10/ 50 - Loss: 0.338\n",
            "\tIter 20/ 50 - Loss: 0.331\n",
            "\tIter 30/ 50 - Loss: 0.326\n",
            "\tIter 40/ 50 - Loss: 0.322\n",
            "\tIter 50/ 50 - Loss: 0.319\n"
          ]
        },
        {
          "name": "stderr",
          "output_type": "stream",
          "text": [
            "\n",
            "199it [08:22,  2.67s/it]\u001b[A"
          ]
        },
        {
          "name": "stdout",
          "output_type": "stream",
          "text": [
            "\tIter 10/ 50 - Loss: 0.33\n",
            "\tIter 20/ 50 - Loss: 0.321\n",
            "\tIter 30/ 50 - Loss: 0.316\n",
            "\tIter 40/ 50 - Loss: 0.312\n",
            "\tIter 50/ 50 - Loss: 0.309\n"
          ]
        },
        {
          "name": "stderr",
          "output_type": "stream",
          "text": [
            "\n",
            "200it [08:25,  2.74s/it]\u001b[A"
          ]
        },
        {
          "name": "stdout",
          "output_type": "stream",
          "text": [
            "\tIter 10/ 50 - Loss: 0.355\n",
            "\tIter 20/ 50 - Loss: 0.341\n",
            "\tIter 30/ 50 - Loss: 0.334\n",
            "\tIter 40/ 50 - Loss: 0.329\n",
            "\tIter 50/ 50 - Loss: 0.326\n"
          ]
        },
        {
          "name": "stderr",
          "output_type": "stream",
          "text": [
            "\n",
            "201it [08:28,  2.72s/it]\u001b[A"
          ]
        },
        {
          "name": "stdout",
          "output_type": "stream",
          "text": [
            "\tIter 10/ 50 - Loss: 0.372\n",
            "\tIter 20/ 50 - Loss: 0.357\n",
            "\tIter 30/ 50 - Loss: 0.348\n",
            "\tIter 40/ 50 - Loss: 0.341\n",
            "\tIter 50/ 50 - Loss: 0.337\n"
          ]
        },
        {
          "name": "stderr",
          "output_type": "stream",
          "text": [
            "\n",
            "202it [08:31,  2.70s/it]\u001b[A"
          ]
        },
        {
          "name": "stdout",
          "output_type": "stream",
          "text": [
            "\tIter 10/ 50 - Loss: 0.346\n",
            "\tIter 20/ 50 - Loss: 0.333\n",
            "\tIter 30/ 50 - Loss: 0.325\n",
            "\tIter 40/ 50 - Loss: 0.32\n",
            "\tIter 50/ 50 - Loss: 0.316\n"
          ]
        },
        {
          "name": "stderr",
          "output_type": "stream",
          "text": [
            "\n",
            "203it [08:33,  2.70s/it]\u001b[A"
          ]
        },
        {
          "name": "stdout",
          "output_type": "stream",
          "text": [
            "\tIter 10/ 50 - Loss: 0.364\n",
            "\tIter 20/ 50 - Loss: 0.345\n",
            "\tIter 30/ 50 - Loss: 0.334\n",
            "\tIter 40/ 50 - Loss: 0.327\n",
            "\tIter 50/ 50 - Loss: 0.323\n"
          ]
        },
        {
          "name": "stderr",
          "output_type": "stream",
          "text": [
            "\n",
            "204it [08:36,  2.69s/it]\u001b[A"
          ]
        },
        {
          "name": "stdout",
          "output_type": "stream",
          "text": [
            "\tIter 10/ 50 - Loss: 0.342\n",
            "\tIter 20/ 50 - Loss: 0.329\n",
            "\tIter 30/ 50 - Loss: 0.322\n",
            "\tIter 40/ 50 - Loss: 0.317\n",
            "\tIter 50/ 50 - Loss: 0.313\n"
          ]
        },
        {
          "name": "stderr",
          "output_type": "stream",
          "text": [
            "\n",
            "205it [08:39,  2.69s/it]\u001b[A"
          ]
        },
        {
          "name": "stdout",
          "output_type": "stream",
          "text": [
            "\tIter 10/ 50 - Loss: 0.336\n",
            "\tIter 20/ 50 - Loss: 0.327\n",
            "\tIter 30/ 50 - Loss: 0.321\n",
            "\tIter 40/ 50 - Loss: 0.317\n",
            "\tIter 50/ 50 - Loss: 0.315\n"
          ]
        },
        {
          "name": "stderr",
          "output_type": "stream",
          "text": [
            "\n",
            "206it [08:42,  2.74s/it]\u001b[A"
          ]
        },
        {
          "name": "stdout",
          "output_type": "stream",
          "text": [
            "\tIter 10/ 50 - Loss: 0.317\n",
            "\tIter 20/ 50 - Loss: 0.311\n",
            "\tIter 30/ 50 - Loss: 0.307\n",
            "\tIter 40/ 50 - Loss: 0.305\n",
            "\tIter 50/ 50 - Loss: 0.303\n"
          ]
        },
        {
          "name": "stderr",
          "output_type": "stream",
          "text": [
            "\n",
            "207it [08:44,  2.72s/it]\u001b[A"
          ]
        },
        {
          "name": "stdout",
          "output_type": "stream",
          "text": [
            "\tIter 10/ 50 - Loss: 0.344\n",
            "\tIter 20/ 50 - Loss: 0.329\n",
            "\tIter 30/ 50 - Loss: 0.321\n",
            "\tIter 40/ 50 - Loss: 0.315\n",
            "\tIter 50/ 50 - Loss: 0.31\n"
          ]
        },
        {
          "name": "stderr",
          "output_type": "stream",
          "text": [
            "\n",
            "208it [08:47,  2.71s/it]\u001b[A"
          ]
        },
        {
          "name": "stdout",
          "output_type": "stream",
          "text": [
            "\tIter 10/ 50 - Loss: 0.352\n",
            "\tIter 20/ 50 - Loss: 0.335\n",
            "\tIter 30/ 50 - Loss: 0.325\n",
            "\tIter 40/ 50 - Loss: 0.318\n",
            "\tIter 50/ 50 - Loss: 0.314\n"
          ]
        },
        {
          "name": "stderr",
          "output_type": "stream",
          "text": [
            "\n",
            "209it [08:50,  2.74s/it]\u001b[A"
          ]
        },
        {
          "name": "stdout",
          "output_type": "stream",
          "text": [
            "\tIter 10/ 50 - Loss: 0.333\n",
            "\tIter 20/ 50 - Loss: 0.321\n",
            "\tIter 30/ 50 - Loss: 0.314\n",
            "\tIter 40/ 50 - Loss: 0.309\n",
            "\tIter 50/ 50 - Loss: 0.306\n"
          ]
        },
        {
          "name": "stderr",
          "output_type": "stream",
          "text": [
            "\n",
            "210it [08:52,  2.73s/it]\u001b[A"
          ]
        },
        {
          "name": "stdout",
          "output_type": "stream",
          "text": [
            "\tIter 10/ 50 - Loss: 0.365\n",
            "\tIter 20/ 50 - Loss: 0.345\n",
            "\tIter 30/ 50 - Loss: 0.333\n",
            "\tIter 40/ 50 - Loss: 0.324\n",
            "\tIter 50/ 50 - Loss: 0.318\n"
          ]
        },
        {
          "name": "stderr",
          "output_type": "stream",
          "text": [
            "\n",
            "211it [08:55,  2.73s/it]\u001b[A"
          ]
        },
        {
          "name": "stdout",
          "output_type": "stream",
          "text": [
            "\tIter 10/ 50 - Loss: 0.349\n",
            "\tIter 20/ 50 - Loss: 0.335\n",
            "\tIter 30/ 50 - Loss: 0.327\n",
            "\tIter 40/ 50 - Loss: 0.322\n",
            "\tIter 50/ 50 - Loss: 0.318\n"
          ]
        },
        {
          "name": "stderr",
          "output_type": "stream",
          "text": [
            "\n",
            "212it [08:58,  2.74s/it]\u001b[A"
          ]
        },
        {
          "name": "stdout",
          "output_type": "stream",
          "text": [
            "\tIter 10/ 50 - Loss: 0.337\n",
            "\tIter 20/ 50 - Loss: 0.328\n",
            "\tIter 30/ 50 - Loss: 0.322\n",
            "\tIter 40/ 50 - Loss: 0.318\n",
            "\tIter 50/ 50 - Loss: 0.315\n"
          ]
        },
        {
          "name": "stderr",
          "output_type": "stream",
          "text": [
            "\n",
            "213it [09:01,  2.79s/it]\u001b[A"
          ]
        },
        {
          "name": "stdout",
          "output_type": "stream",
          "text": [
            "\tIter 10/ 50 - Loss: 0.333\n",
            "\tIter 20/ 50 - Loss: 0.326\n",
            "\tIter 30/ 50 - Loss: 0.323\n",
            "\tIter 40/ 50 - Loss: 0.32\n",
            "\tIter 50/ 50 - Loss: 0.318\n"
          ]
        },
        {
          "name": "stderr",
          "output_type": "stream",
          "text": [
            "\n",
            "214it [09:04,  2.77s/it]\u001b[A"
          ]
        },
        {
          "name": "stdout",
          "output_type": "stream",
          "text": [
            "\tIter 10/ 50 - Loss: 0.326\n",
            "\tIter 20/ 50 - Loss: 0.317\n",
            "\tIter 30/ 50 - Loss: 0.313\n",
            "\tIter 40/ 50 - Loss: 0.31\n",
            "\tIter 50/ 50 - Loss: 0.307\n"
          ]
        },
        {
          "name": "stderr",
          "output_type": "stream",
          "text": [
            "\n",
            "215it [09:06,  2.74s/it]\u001b[A"
          ]
        },
        {
          "name": "stdout",
          "output_type": "stream",
          "text": [
            "\tIter 10/ 50 - Loss: 0.336\n",
            "\tIter 20/ 50 - Loss: 0.322\n",
            "\tIter 30/ 50 - Loss: 0.315\n",
            "\tIter 40/ 50 - Loss: 0.31\n",
            "\tIter 50/ 50 - Loss: 0.307\n"
          ]
        },
        {
          "name": "stderr",
          "output_type": "stream",
          "text": [
            "\n",
            "216it [09:09,  2.73s/it]\u001b[A"
          ]
        },
        {
          "name": "stdout",
          "output_type": "stream",
          "text": [
            "\tIter 10/ 50 - Loss: 0.366\n",
            "\tIter 20/ 50 - Loss: 0.357\n",
            "\tIter 30/ 50 - Loss: 0.35\n",
            "\tIter 40/ 50 - Loss: 0.345\n",
            "\tIter 50/ 50 - Loss: 0.34\n"
          ]
        },
        {
          "name": "stderr",
          "output_type": "stream",
          "text": [
            "\n",
            "217it [09:12,  2.73s/it]\u001b[A"
          ]
        },
        {
          "name": "stdout",
          "output_type": "stream",
          "text": [
            "\tIter 10/ 50 - Loss: 0.318\n",
            "\tIter 20/ 50 - Loss: 0.313\n",
            "\tIter 30/ 50 - Loss: 0.309\n",
            "\tIter 40/ 50 - Loss: 0.306\n",
            "\tIter 50/ 50 - Loss: 0.304\n"
          ]
        },
        {
          "name": "stderr",
          "output_type": "stream",
          "text": [
            "\n",
            "218it [09:15,  2.75s/it]\u001b[A"
          ]
        },
        {
          "name": "stdout",
          "output_type": "stream",
          "text": [
            "\tIter 10/ 50 - Loss: 0.359\n",
            "\tIter 20/ 50 - Loss: 0.344\n",
            "\tIter 30/ 50 - Loss: 0.335\n",
            "\tIter 40/ 50 - Loss: 0.33\n",
            "\tIter 50/ 50 - Loss: 0.325\n"
          ]
        },
        {
          "name": "stderr",
          "output_type": "stream",
          "text": [
            "\n",
            "219it [09:17,  2.74s/it]\u001b[A"
          ]
        },
        {
          "name": "stdout",
          "output_type": "stream",
          "text": [
            "\tIter 10/ 50 - Loss: 0.352\n",
            "\tIter 20/ 50 - Loss: 0.338\n",
            "\tIter 30/ 50 - Loss: 0.331\n",
            "\tIter 40/ 50 - Loss: 0.325\n",
            "\tIter 50/ 50 - Loss: 0.321\n"
          ]
        },
        {
          "name": "stderr",
          "output_type": "stream",
          "text": [
            "\n",
            "220it [09:20,  2.79s/it]\u001b[A"
          ]
        },
        {
          "name": "stdout",
          "output_type": "stream",
          "text": [
            "\tIter 10/ 50 - Loss: 0.315\n",
            "\tIter 20/ 50 - Loss: 0.305\n",
            "\tIter 30/ 50 - Loss: 0.302\n",
            "\tIter 40/ 50 - Loss: 0.3\n",
            "\tIter 50/ 50 - Loss: 0.298\n"
          ]
        },
        {
          "name": "stderr",
          "output_type": "stream",
          "text": [
            "\n",
            "221it [09:23,  2.77s/it]\u001b[A"
          ]
        },
        {
          "name": "stdout",
          "output_type": "stream",
          "text": [
            "\tIter 10/ 50 - Loss: 0.381\n",
            "\tIter 20/ 50 - Loss: 0.352\n",
            "\tIter 30/ 50 - Loss: 0.337\n",
            "\tIter 40/ 50 - Loss: 0.328\n",
            "\tIter 50/ 50 - Loss: 0.321\n"
          ]
        },
        {
          "name": "stderr",
          "output_type": "stream",
          "text": [
            "\n",
            "222it [09:26,  2.78s/it]\u001b[A"
          ]
        },
        {
          "name": "stdout",
          "output_type": "stream",
          "text": [
            "\tIter 10/ 50 - Loss: 0.347\n",
            "\tIter 20/ 50 - Loss: 0.327\n",
            "\tIter 30/ 50 - Loss: 0.319\n",
            "\tIter 40/ 50 - Loss: 0.314\n",
            "\tIter 50/ 50 - Loss: 0.311\n"
          ]
        },
        {
          "name": "stderr",
          "output_type": "stream",
          "text": [
            "\n",
            "223it [09:28,  2.75s/it]\u001b[A"
          ]
        },
        {
          "name": "stdout",
          "output_type": "stream",
          "text": [
            "\tIter 10/ 50 - Loss: 0.338\n",
            "\tIter 20/ 50 - Loss: 0.318\n",
            "\tIter 30/ 50 - Loss: 0.31\n",
            "\tIter 40/ 50 - Loss: 0.305\n",
            "\tIter 50/ 50 - Loss: 0.302\n"
          ]
        },
        {
          "name": "stderr",
          "output_type": "stream",
          "text": [
            "\n",
            "224it [09:31,  2.73s/it]\u001b[A"
          ]
        },
        {
          "name": "stdout",
          "output_type": "stream",
          "text": [
            "\tIter 10/ 50 - Loss: 0.323\n",
            "\tIter 20/ 50 - Loss: 0.313\n",
            "\tIter 30/ 50 - Loss: 0.308\n",
            "\tIter 40/ 50 - Loss: 0.305\n",
            "\tIter 50/ 50 - Loss: 0.303\n"
          ]
        },
        {
          "name": "stderr",
          "output_type": "stream",
          "text": [
            "\n",
            "225it [09:34,  2.72s/it]\u001b[A"
          ]
        },
        {
          "name": "stdout",
          "output_type": "stream",
          "text": [
            "\tIter 10/ 50 - Loss: 0.323\n",
            "\tIter 20/ 50 - Loss: 0.31\n",
            "\tIter 30/ 50 - Loss: 0.305\n",
            "\tIter 40/ 50 - Loss: 0.302\n",
            "\tIter 50/ 50 - Loss: 0.3\n"
          ]
        },
        {
          "name": "stderr",
          "output_type": "stream",
          "text": [
            "\n",
            "226it [09:37,  2.74s/it]\u001b[A"
          ]
        },
        {
          "name": "stdout",
          "output_type": "stream",
          "text": [
            "\tIter 10/ 50 - Loss: 0.328\n",
            "\tIter 20/ 50 - Loss: 0.318\n",
            "\tIter 30/ 50 - Loss: 0.313\n",
            "\tIter 40/ 50 - Loss: 0.309\n",
            "\tIter 50/ 50 - Loss: 0.306\n"
          ]
        },
        {
          "name": "stderr",
          "output_type": "stream",
          "text": [
            "\n",
            "227it [09:39,  2.80s/it]\u001b[A"
          ]
        },
        {
          "name": "stdout",
          "output_type": "stream",
          "text": [
            "\tIter 10/ 50 - Loss: 0.322\n",
            "\tIter 20/ 50 - Loss: 0.314\n",
            "\tIter 30/ 50 - Loss: 0.309\n",
            "\tIter 40/ 50 - Loss: 0.306\n",
            "\tIter 50/ 50 - Loss: 0.303\n"
          ]
        },
        {
          "name": "stderr",
          "output_type": "stream",
          "text": [
            "\n",
            "228it [09:42,  2.77s/it]\u001b[A"
          ]
        },
        {
          "name": "stdout",
          "output_type": "stream",
          "text": [
            "\tIter 10/ 50 - Loss: 0.346\n",
            "\tIter 20/ 50 - Loss: 0.337\n",
            "\tIter 30/ 50 - Loss: 0.331\n",
            "\tIter 40/ 50 - Loss: 0.326\n",
            "\tIter 50/ 50 - Loss: 0.322\n"
          ]
        },
        {
          "name": "stderr",
          "output_type": "stream",
          "text": [
            "\n",
            "229it [09:45,  2.81s/it]\u001b[A"
          ]
        },
        {
          "name": "stdout",
          "output_type": "stream",
          "text": [
            "\tIter 10/ 50 - Loss: 0.347\n",
            "\tIter 20/ 50 - Loss: 0.332\n",
            "\tIter 30/ 50 - Loss: 0.324\n",
            "\tIter 40/ 50 - Loss: 0.319\n",
            "\tIter 50/ 50 - Loss: 0.316\n"
          ]
        },
        {
          "name": "stderr",
          "output_type": "stream",
          "text": [
            "\n",
            "230it [09:48,  2.86s/it]\u001b[A"
          ]
        },
        {
          "name": "stdout",
          "output_type": "stream",
          "text": [
            "\tIter 10/ 50 - Loss: 0.348\n",
            "\tIter 20/ 50 - Loss: 0.333\n",
            "\tIter 30/ 50 - Loss: 0.323\n",
            "\tIter 40/ 50 - Loss: 0.317\n",
            "\tIter 50/ 50 - Loss: 0.313\n"
          ]
        },
        {
          "name": "stderr",
          "output_type": "stream",
          "text": [
            "\n",
            "231it [09:51,  2.87s/it]\u001b[A"
          ]
        },
        {
          "name": "stdout",
          "output_type": "stream",
          "text": [
            "\tIter 10/ 50 - Loss: 0.317\n",
            "\tIter 20/ 50 - Loss: 0.31\n",
            "\tIter 30/ 50 - Loss: 0.306\n",
            "\tIter 40/ 50 - Loss: 0.303\n",
            "\tIter 50/ 50 - Loss: 0.301\n"
          ]
        },
        {
          "name": "stderr",
          "output_type": "stream",
          "text": [
            "\n",
            "232it [09:54,  2.86s/it]\u001b[A"
          ]
        },
        {
          "name": "stdout",
          "output_type": "stream",
          "text": [
            "\tIter 10/ 50 - Loss: 0.312\n",
            "\tIter 20/ 50 - Loss: 0.309\n",
            "\tIter 30/ 50 - Loss: 0.307\n",
            "\tIter 40/ 50 - Loss: 0.305\n",
            "\tIter 50/ 50 - Loss: 0.304\n"
          ]
        },
        {
          "name": "stderr",
          "output_type": "stream",
          "text": [
            "\n",
            "233it [09:57,  2.85s/it]\u001b[A"
          ]
        },
        {
          "name": "stdout",
          "output_type": "stream",
          "text": [
            "\tIter 10/ 50 - Loss: 0.345\n",
            "\tIter 20/ 50 - Loss: 0.334\n",
            "\tIter 30/ 50 - Loss: 0.326\n",
            "\tIter 40/ 50 - Loss: 0.32\n",
            "\tIter 50/ 50 - Loss: 0.315\n"
          ]
        },
        {
          "name": "stderr",
          "output_type": "stream",
          "text": [
            "\n",
            "234it [10:00,  2.91s/it]\u001b[A"
          ]
        },
        {
          "name": "stdout",
          "output_type": "stream",
          "text": [
            "\tIter 10/ 50 - Loss: 0.319\n",
            "\tIter 20/ 50 - Loss: 0.312\n",
            "\tIter 30/ 50 - Loss: 0.308\n",
            "\tIter 40/ 50 - Loss: 0.305\n",
            "\tIter 50/ 50 - Loss: 0.303\n"
          ]
        },
        {
          "name": "stderr",
          "output_type": "stream",
          "text": [
            "\n",
            "235it [10:03,  2.89s/it]\u001b[A"
          ]
        },
        {
          "name": "stdout",
          "output_type": "stream",
          "text": [
            "\tIter 10/ 50 - Loss: 0.332\n",
            "\tIter 20/ 50 - Loss: 0.326\n",
            "\tIter 30/ 50 - Loss: 0.322\n",
            "\tIter 40/ 50 - Loss: 0.319\n",
            "\tIter 50/ 50 - Loss: 0.316\n"
          ]
        },
        {
          "name": "stderr",
          "output_type": "stream",
          "text": [
            "\n",
            "236it [10:05,  2.84s/it]\u001b[A"
          ]
        },
        {
          "name": "stdout",
          "output_type": "stream",
          "text": [
            "\tIter 10/ 50 - Loss: 0.323\n",
            "\tIter 20/ 50 - Loss: 0.315\n",
            "\tIter 30/ 50 - Loss: 0.31\n",
            "\tIter 40/ 50 - Loss: 0.308\n",
            "\tIter 50/ 50 - Loss: 0.306\n"
          ]
        },
        {
          "name": "stderr",
          "output_type": "stream",
          "text": [
            "\n",
            "237it [10:08,  2.81s/it]\u001b[A"
          ]
        },
        {
          "name": "stdout",
          "output_type": "stream",
          "text": [
            "\tIter 10/ 50 - Loss: 0.332\n",
            "\tIter 20/ 50 - Loss: 0.322\n",
            "\tIter 30/ 50 - Loss: 0.317\n",
            "\tIter 40/ 50 - Loss: 0.314\n",
            "\tIter 50/ 50 - Loss: 0.311\n"
          ]
        },
        {
          "name": "stderr",
          "output_type": "stream",
          "text": [
            "\n",
            "238it [10:11,  2.80s/it]\u001b[A"
          ]
        },
        {
          "name": "stdout",
          "output_type": "stream",
          "text": [
            "\tIter 10/ 50 - Loss: 0.336\n",
            "\tIter 20/ 50 - Loss: 0.324\n",
            "\tIter 30/ 50 - Loss: 0.317\n",
            "\tIter 40/ 50 - Loss: 0.312\n",
            "\tIter 50/ 50 - Loss: 0.308\n"
          ]
        },
        {
          "name": "stderr",
          "output_type": "stream",
          "text": [
            "\n",
            "239it [10:14,  2.85s/it]\u001b[A"
          ]
        },
        {
          "name": "stdout",
          "output_type": "stream",
          "text": [
            "\tIter 10/ 50 - Loss: 0.348\n",
            "\tIter 20/ 50 - Loss: 0.33\n",
            "\tIter 30/ 50 - Loss: 0.321\n",
            "\tIter 40/ 50 - Loss: 0.315\n",
            "\tIter 50/ 50 - Loss: 0.312\n"
          ]
        },
        {
          "name": "stderr",
          "output_type": "stream",
          "text": [
            "\n",
            "240it [10:17,  2.84s/it]\u001b[A"
          ]
        },
        {
          "name": "stdout",
          "output_type": "stream",
          "text": [
            "\tIter 10/ 50 - Loss: 0.318\n",
            "\tIter 20/ 50 - Loss: 0.312\n",
            "\tIter 30/ 50 - Loss: 0.309\n",
            "\tIter 40/ 50 - Loss: 0.307\n",
            "\tIter 50/ 50 - Loss: 0.305\n"
          ]
        },
        {
          "name": "stderr",
          "output_type": "stream",
          "text": [
            "\n",
            "241it [10:20,  2.93s/it]\u001b[A"
          ]
        },
        {
          "name": "stdout",
          "output_type": "stream",
          "text": [
            "\tIter 10/ 50 - Loss: 0.321\n",
            "\tIter 20/ 50 - Loss: 0.314\n",
            "\tIter 30/ 50 - Loss: 0.31\n",
            "\tIter 40/ 50 - Loss: 0.307\n",
            "\tIter 50/ 50 - Loss: 0.305\n"
          ]
        },
        {
          "name": "stderr",
          "output_type": "stream",
          "text": [
            "\n",
            "242it [10:23,  2.91s/it]\u001b[A"
          ]
        },
        {
          "name": "stdout",
          "output_type": "stream",
          "text": [
            "\tIter 10/ 50 - Loss: 0.338\n",
            "\tIter 20/ 50 - Loss: 0.327\n",
            "\tIter 30/ 50 - Loss: 0.321\n",
            "\tIter 40/ 50 - Loss: 0.318\n",
            "\tIter 50/ 50 - Loss: 0.315\n"
          ]
        },
        {
          "name": "stderr",
          "output_type": "stream",
          "text": [
            "\n",
            "243it [10:26,  2.96s/it]\u001b[A"
          ]
        },
        {
          "name": "stdout",
          "output_type": "stream",
          "text": [
            "\tIter 10/ 50 - Loss: 0.312\n",
            "\tIter 20/ 50 - Loss: 0.307\n",
            "\tIter 30/ 50 - Loss: 0.304\n",
            "\tIter 40/ 50 - Loss: 0.303\n",
            "\tIter 50/ 50 - Loss: 0.301\n"
          ]
        },
        {
          "name": "stderr",
          "output_type": "stream",
          "text": [
            "\n",
            "244it [10:29,  2.95s/it]\u001b[A"
          ]
        },
        {
          "name": "stdout",
          "output_type": "stream",
          "text": [
            "\tIter 10/ 50 - Loss: 0.329\n",
            "\tIter 20/ 50 - Loss: 0.321\n",
            "\tIter 30/ 50 - Loss: 0.316\n",
            "\tIter 40/ 50 - Loss: 0.313\n",
            "\tIter 50/ 50 - Loss: 0.31\n"
          ]
        },
        {
          "name": "stderr",
          "output_type": "stream",
          "text": [
            "\n",
            "245it [10:31,  2.93s/it]\u001b[A"
          ]
        },
        {
          "name": "stdout",
          "output_type": "stream",
          "text": [
            "\tIter 10/ 50 - Loss: 0.325\n",
            "\tIter 20/ 50 - Loss: 0.319\n",
            "\tIter 30/ 50 - Loss: 0.314\n",
            "\tIter 40/ 50 - Loss: 0.31\n",
            "\tIter 50/ 50 - Loss: 0.307\n"
          ]
        },
        {
          "name": "stderr",
          "output_type": "stream",
          "text": [
            "\n",
            "246it [10:34,  2.93s/it]\u001b[A"
          ]
        },
        {
          "name": "stdout",
          "output_type": "stream",
          "text": [
            "\tIter 10/ 50 - Loss: 0.317\n",
            "\tIter 20/ 50 - Loss: 0.31\n",
            "\tIter 30/ 50 - Loss: 0.305\n",
            "\tIter 40/ 50 - Loss: 0.302\n",
            "\tIter 50/ 50 - Loss: 0.3\n"
          ]
        },
        {
          "name": "stderr",
          "output_type": "stream",
          "text": [
            "\n",
            "247it [10:38,  3.00s/it]\u001b[A"
          ]
        },
        {
          "name": "stdout",
          "output_type": "stream",
          "text": [
            "\tIter 10/ 50 - Loss: 0.322\n",
            "\tIter 20/ 50 - Loss: 0.316\n",
            "\tIter 30/ 50 - Loss: 0.313\n",
            "\tIter 40/ 50 - Loss: 0.311\n",
            "\tIter 50/ 50 - Loss: 0.309\n"
          ]
        },
        {
          "name": "stderr",
          "output_type": "stream",
          "text": [
            "\n",
            "248it [10:40,  2.96s/it]\u001b[A"
          ]
        },
        {
          "name": "stdout",
          "output_type": "stream",
          "text": [
            "\tIter 10/ 50 - Loss: 0.309\n",
            "\tIter 20/ 50 - Loss: 0.303\n",
            "\tIter 30/ 50 - Loss: 0.299\n",
            "\tIter 40/ 50 - Loss: 0.296\n",
            "\tIter 50/ 50 - Loss: 0.294\n"
          ]
        },
        {
          "name": "stderr",
          "output_type": "stream",
          "text": [
            "\n",
            "249it [10:43,  2.92s/it]\u001b[A"
          ]
        },
        {
          "name": "stdout",
          "output_type": "stream",
          "text": [
            "\tIter 10/ 50 - Loss: 0.308\n",
            "\tIter 20/ 50 - Loss: 0.302\n",
            "\tIter 30/ 50 - Loss: 0.298\n",
            "\tIter 40/ 50 - Loss: 0.296\n",
            "\tIter 50/ 50 - Loss: 0.295\n"
          ]
        },
        {
          "name": "stderr",
          "output_type": "stream",
          "text": [
            "\n",
            "250it [10:46,  2.88s/it]\u001b[A"
          ]
        },
        {
          "name": "stdout",
          "output_type": "stream",
          "text": [
            "\tIter 10/ 50 - Loss: 0.312\n",
            "\tIter 20/ 50 - Loss: 0.305\n",
            "\tIter 30/ 50 - Loss: 0.3\n",
            "\tIter 40/ 50 - Loss: 0.297\n",
            "\tIter 50/ 50 - Loss: 0.295\n"
          ]
        },
        {
          "name": "stderr",
          "output_type": "stream",
          "text": [
            "\n",
            "251it [10:49,  2.88s/it]\u001b[A"
          ]
        },
        {
          "name": "stdout",
          "output_type": "stream",
          "text": [
            "\tIter 10/ 50 - Loss: 0.316\n",
            "\tIter 20/ 50 - Loss: 0.308\n",
            "\tIter 30/ 50 - Loss: 0.304\n",
            "\tIter 40/ 50 - Loss: 0.301\n",
            "\tIter 50/ 50 - Loss: 0.299\n"
          ]
        },
        {
          "name": "stderr",
          "output_type": "stream",
          "text": [
            "\n",
            "252it [10:52,  2.89s/it]\u001b[A"
          ]
        },
        {
          "name": "stdout",
          "output_type": "stream",
          "text": [
            "\tIter 10/ 50 - Loss: 0.336\n",
            "\tIter 20/ 50 - Loss: 0.326\n",
            "\tIter 30/ 50 - Loss: 0.32\n",
            "\tIter 40/ 50 - Loss: 0.316\n",
            "\tIter 50/ 50 - Loss: 0.313\n"
          ]
        },
        {
          "name": "stderr",
          "output_type": "stream",
          "text": [
            "\n",
            "253it [10:55,  2.91s/it]\u001b[A"
          ]
        },
        {
          "name": "stdout",
          "output_type": "stream",
          "text": [
            "\tIter 10/ 50 - Loss: 0.311\n",
            "\tIter 20/ 50 - Loss: 0.305\n",
            "\tIter 30/ 50 - Loss: 0.301\n",
            "\tIter 40/ 50 - Loss: 0.298\n",
            "\tIter 50/ 50 - Loss: 0.296\n"
          ]
        },
        {
          "name": "stderr",
          "output_type": "stream",
          "text": [
            "\n",
            "254it [10:58,  2.94s/it]\u001b[A"
          ]
        },
        {
          "name": "stdout",
          "output_type": "stream",
          "text": [
            "\tIter 10/ 50 - Loss: 0.338\n",
            "\tIter 20/ 50 - Loss: 0.323\n",
            "\tIter 30/ 50 - Loss: 0.314\n",
            "\tIter 40/ 50 - Loss: 0.309\n",
            "\tIter 50/ 50 - Loss: 0.306\n"
          ]
        },
        {
          "name": "stderr",
          "output_type": "stream",
          "text": [
            "\n",
            "255it [11:01,  2.91s/it]\u001b[A"
          ]
        },
        {
          "name": "stdout",
          "output_type": "stream",
          "text": [
            "\tIter 10/ 50 - Loss: 0.315\n",
            "\tIter 20/ 50 - Loss: 0.307\n",
            "\tIter 30/ 50 - Loss: 0.303\n",
            "\tIter 40/ 50 - Loss: 0.3\n",
            "\tIter 50/ 50 - Loss: 0.298\n"
          ]
        },
        {
          "name": "stderr",
          "output_type": "stream",
          "text": [
            "\n",
            "256it [11:04,  2.91s/it]\u001b[A"
          ]
        },
        {
          "name": "stdout",
          "output_type": "stream",
          "text": [
            "\tIter 10/ 50 - Loss: 0.325\n",
            "\tIter 20/ 50 - Loss: 0.314\n",
            "\tIter 30/ 50 - Loss: 0.308\n",
            "\tIter 40/ 50 - Loss: 0.303\n",
            "\tIter 50/ 50 - Loss: 0.3\n"
          ]
        },
        {
          "name": "stderr",
          "output_type": "stream",
          "text": [
            "\n",
            "257it [11:06,  2.89s/it]\u001b[A"
          ]
        },
        {
          "name": "stdout",
          "output_type": "stream",
          "text": [
            "\tIter 10/ 50 - Loss: 0.319\n",
            "\tIter 20/ 50 - Loss: 0.313\n",
            "\tIter 30/ 50 - Loss: 0.309\n",
            "\tIter 40/ 50 - Loss: 0.306\n",
            "\tIter 50/ 50 - Loss: 0.303\n"
          ]
        },
        {
          "name": "stderr",
          "output_type": "stream",
          "text": [
            "\n",
            "258it [11:09,  2.86s/it]\u001b[A"
          ]
        },
        {
          "name": "stdout",
          "output_type": "stream",
          "text": [
            "\tIter 10/ 50 - Loss: 0.317\n",
            "\tIter 20/ 50 - Loss: 0.307\n",
            "\tIter 30/ 50 - Loss: 0.303\n",
            "\tIter 40/ 50 - Loss: 0.301\n",
            "\tIter 50/ 50 - Loss: 0.299\n"
          ]
        },
        {
          "name": "stderr",
          "output_type": "stream",
          "text": [
            "\n",
            "259it [11:12,  2.84s/it]\u001b[A"
          ]
        },
        {
          "name": "stdout",
          "output_type": "stream",
          "text": [
            "\tIter 10/ 50 - Loss: 0.314\n",
            "\tIter 20/ 50 - Loss: 0.306\n",
            "\tIter 30/ 50 - Loss: 0.303\n",
            "\tIter 40/ 50 - Loss: 0.3\n",
            "\tIter 50/ 50 - Loss: 0.298\n"
          ]
        },
        {
          "name": "stderr",
          "output_type": "stream",
          "text": [
            "\n",
            "260it [11:15,  2.84s/it]\u001b[A"
          ]
        },
        {
          "name": "stdout",
          "output_type": "stream",
          "text": [
            "\tIter 10/ 50 - Loss: 0.33\n",
            "\tIter 20/ 50 - Loss: 0.32\n",
            "\tIter 30/ 50 - Loss: 0.314\n",
            "\tIter 40/ 50 - Loss: 0.31\n",
            "\tIter 50/ 50 - Loss: 0.307\n"
          ]
        },
        {
          "name": "stderr",
          "output_type": "stream",
          "text": [
            "\n",
            "261it [11:18,  2.88s/it]\u001b[A"
          ]
        },
        {
          "name": "stdout",
          "output_type": "stream",
          "text": [
            "\tIter 10/ 50 - Loss: 0.306\n",
            "\tIter 20/ 50 - Loss: 0.296\n",
            "\tIter 30/ 50 - Loss: 0.292\n",
            "\tIter 40/ 50 - Loss: 0.29\n",
            "\tIter 50/ 50 - Loss: 0.288\n"
          ]
        },
        {
          "name": "stderr",
          "output_type": "stream",
          "text": [
            "\n",
            "262it [11:21,  2.86s/it]\u001b[A"
          ]
        },
        {
          "name": "stdout",
          "output_type": "stream",
          "text": [
            "\tIter 10/ 50 - Loss: 0.328\n",
            "\tIter 20/ 50 - Loss: 0.318\n",
            "\tIter 30/ 50 - Loss: 0.313\n",
            "\tIter 40/ 50 - Loss: 0.309\n",
            "\tIter 50/ 50 - Loss: 0.307\n"
          ]
        },
        {
          "name": "stderr",
          "output_type": "stream",
          "text": [
            "\n",
            "263it [11:23,  2.86s/it]\u001b[A"
          ]
        },
        {
          "name": "stdout",
          "output_type": "stream",
          "text": [
            "\tIter 10/ 50 - Loss: 0.327\n",
            "\tIter 20/ 50 - Loss: 0.313\n",
            "\tIter 30/ 50 - Loss: 0.305\n",
            "\tIter 40/ 50 - Loss: 0.3\n",
            "\tIter 50/ 50 - Loss: 0.297\n"
          ]
        },
        {
          "name": "stderr",
          "output_type": "stream",
          "text": [
            "\n",
            "264it [11:26,  2.89s/it]\u001b[A"
          ]
        },
        {
          "name": "stdout",
          "output_type": "stream",
          "text": [
            "\tIter 10/ 50 - Loss: 0.31\n",
            "\tIter 20/ 50 - Loss: 0.301\n",
            "\tIter 30/ 50 - Loss: 0.296\n",
            "\tIter 40/ 50 - Loss: 0.294\n",
            "\tIter 50/ 50 - Loss: 0.292\n"
          ]
        },
        {
          "name": "stderr",
          "output_type": "stream",
          "text": [
            "\n",
            "265it [11:29,  2.89s/it]\u001b[A"
          ]
        },
        {
          "name": "stdout",
          "output_type": "stream",
          "text": [
            "\tIter 10/ 50 - Loss: 0.313\n",
            "\tIter 20/ 50 - Loss: 0.305\n",
            "\tIter 30/ 50 - Loss: 0.3\n",
            "\tIter 40/ 50 - Loss: 0.296\n",
            "\tIter 50/ 50 - Loss: 0.294\n"
          ]
        },
        {
          "name": "stderr",
          "output_type": "stream",
          "text": [
            "\n",
            "266it [11:32,  2.89s/it]\u001b[A"
          ]
        },
        {
          "name": "stdout",
          "output_type": "stream",
          "text": [
            "\tIter 10/ 50 - Loss: 0.302\n",
            "\tIter 20/ 50 - Loss: 0.297\n",
            "\tIter 30/ 50 - Loss: 0.294\n",
            "\tIter 40/ 50 - Loss: 0.292\n",
            "\tIter 50/ 50 - Loss: 0.291\n"
          ]
        },
        {
          "name": "stderr",
          "output_type": "stream",
          "text": [
            "\n",
            "267it [11:35,  2.89s/it]\u001b[A"
          ]
        },
        {
          "name": "stdout",
          "output_type": "stream",
          "text": [
            "\tIter 10/ 50 - Loss: 0.305\n",
            "\tIter 20/ 50 - Loss: 0.299\n",
            "\tIter 30/ 50 - Loss: 0.296\n",
            "\tIter 40/ 50 - Loss: 0.294\n",
            "\tIter 50/ 50 - Loss: 0.293\n"
          ]
        },
        {
          "name": "stderr",
          "output_type": "stream",
          "text": [
            "\n",
            "268it [11:38,  3.01s/it]\u001b[A"
          ]
        },
        {
          "name": "stdout",
          "output_type": "stream",
          "text": [
            "\tIter 10/ 50 - Loss: 0.33\n",
            "\tIter 20/ 50 - Loss: 0.322\n",
            "\tIter 30/ 50 - Loss: 0.317\n",
            "\tIter 40/ 50 - Loss: 0.314\n",
            "\tIter 50/ 50 - Loss: 0.311\n"
          ]
        },
        {
          "name": "stderr",
          "output_type": "stream",
          "text": [
            "\n",
            "269it [11:41,  2.95s/it]\u001b[A"
          ]
        },
        {
          "name": "stdout",
          "output_type": "stream",
          "text": [
            "\tIter 10/ 50 - Loss: 0.345\n",
            "\tIter 20/ 50 - Loss: 0.334\n",
            "\tIter 30/ 50 - Loss: 0.327\n",
            "\tIter 40/ 50 - Loss: 0.323\n",
            "\tIter 50/ 50 - Loss: 0.319\n"
          ]
        },
        {
          "name": "stderr",
          "output_type": "stream",
          "text": [
            "\n",
            "270it [11:44,  2.90s/it]\u001b[A"
          ]
        },
        {
          "name": "stdout",
          "output_type": "stream",
          "text": [
            "\tIter 10/ 50 - Loss: 0.327\n",
            "\tIter 20/ 50 - Loss: 0.318\n",
            "\tIter 30/ 50 - Loss: 0.312\n",
            "\tIter 40/ 50 - Loss: 0.308\n",
            "\tIter 50/ 50 - Loss: 0.305\n"
          ]
        },
        {
          "name": "stderr",
          "output_type": "stream",
          "text": [
            "\n",
            "271it [11:47,  2.87s/it]\u001b[A"
          ]
        },
        {
          "name": "stdout",
          "output_type": "stream",
          "text": [
            "\tIter 10/ 50 - Loss: 0.332\n",
            "\tIter 20/ 50 - Loss: 0.324\n",
            "\tIter 30/ 50 - Loss: 0.318\n",
            "\tIter 40/ 50 - Loss: 0.314\n",
            "\tIter 50/ 50 - Loss: 0.311\n"
          ]
        },
        {
          "name": "stderr",
          "output_type": "stream",
          "text": [
            "\n",
            "272it [11:50,  2.87s/it]\u001b[A"
          ]
        },
        {
          "name": "stdout",
          "output_type": "stream",
          "text": [
            "\tIter 10/ 50 - Loss: 0.309\n",
            "\tIter 20/ 50 - Loss: 0.304\n",
            "\tIter 30/ 50 - Loss: 0.302\n",
            "\tIter 40/ 50 - Loss: 0.3\n",
            "\tIter 50/ 50 - Loss: 0.299\n"
          ]
        },
        {
          "name": "stderr",
          "output_type": "stream",
          "text": [
            "\n",
            "273it [11:52,  2.87s/it]\u001b[A"
          ]
        },
        {
          "name": "stdout",
          "output_type": "stream",
          "text": [
            "\tIter 10/ 50 - Loss: 0.325\n",
            "\tIter 20/ 50 - Loss: 0.318\n",
            "\tIter 30/ 50 - Loss: 0.314\n",
            "\tIter 40/ 50 - Loss: 0.311\n",
            "\tIter 50/ 50 - Loss: 0.309\n"
          ]
        },
        {
          "name": "stderr",
          "output_type": "stream",
          "text": [
            "\n",
            "274it [11:55,  2.86s/it]\u001b[A"
          ]
        },
        {
          "name": "stdout",
          "output_type": "stream",
          "text": [
            "\tIter 10/ 50 - Loss: 0.316\n",
            "\tIter 20/ 50 - Loss: 0.311\n",
            "\tIter 30/ 50 - Loss: 0.308\n",
            "\tIter 40/ 50 - Loss: 0.306\n",
            "\tIter 50/ 50 - Loss: 0.304\n"
          ]
        },
        {
          "name": "stderr",
          "output_type": "stream",
          "text": [
            "\n",
            "275it [11:58,  2.91s/it]\u001b[A"
          ]
        },
        {
          "name": "stdout",
          "output_type": "stream",
          "text": [
            "\tIter 10/ 50 - Loss: 0.338\n",
            "\tIter 20/ 50 - Loss: 0.329\n",
            "\tIter 30/ 50 - Loss: 0.323\n",
            "\tIter 40/ 50 - Loss: 0.319\n",
            "\tIter 50/ 50 - Loss: 0.316\n"
          ]
        },
        {
          "name": "stderr",
          "output_type": "stream",
          "text": [
            "\n",
            "276it [12:01,  2.90s/it]\u001b[A"
          ]
        },
        {
          "name": "stdout",
          "output_type": "stream",
          "text": [
            "\tIter 10/ 50 - Loss: 0.305\n",
            "\tIter 20/ 50 - Loss: 0.302\n",
            "\tIter 30/ 50 - Loss: 0.3\n",
            "\tIter 40/ 50 - Loss: 0.298\n",
            "\tIter 50/ 50 - Loss: 0.297\n"
          ]
        },
        {
          "name": "stderr",
          "output_type": "stream",
          "text": [
            "\n",
            "277it [12:04,  2.90s/it]\u001b[A"
          ]
        },
        {
          "name": "stdout",
          "output_type": "stream",
          "text": [
            "\tIter 10/ 50 - Loss: 0.312\n",
            "\tIter 20/ 50 - Loss: 0.307\n",
            "\tIter 30/ 50 - Loss: 0.304\n",
            "\tIter 40/ 50 - Loss: 0.302\n",
            "\tIter 50/ 50 - Loss: 0.301\n"
          ]
        },
        {
          "name": "stderr",
          "output_type": "stream",
          "text": [
            "\n",
            "278it [12:07,  2.89s/it]\u001b[A"
          ]
        },
        {
          "name": "stdout",
          "output_type": "stream",
          "text": [
            "\tIter 10/ 50 - Loss: 0.31\n",
            "\tIter 20/ 50 - Loss: 0.307\n",
            "\tIter 30/ 50 - Loss: 0.305\n",
            "\tIter 40/ 50 - Loss: 0.303\n",
            "\tIter 50/ 50 - Loss: 0.302\n"
          ]
        },
        {
          "name": "stderr",
          "output_type": "stream",
          "text": [
            "\n",
            "279it [12:10,  2.88s/it]\u001b[A"
          ]
        },
        {
          "name": "stdout",
          "output_type": "stream",
          "text": [
            "\tIter 10/ 50 - Loss: 0.324\n",
            "\tIter 20/ 50 - Loss: 0.311\n",
            "\tIter 30/ 50 - Loss: 0.306\n",
            "\tIter 40/ 50 - Loss: 0.302\n",
            "\tIter 50/ 50 - Loss: 0.3\n"
          ]
        },
        {
          "name": "stderr",
          "output_type": "stream",
          "text": [
            "\n",
            "280it [12:13,  2.87s/it]\u001b[A"
          ]
        },
        {
          "name": "stdout",
          "output_type": "stream",
          "text": [
            "\tIter 10/ 50 - Loss: 0.332\n",
            "\tIter 20/ 50 - Loss: 0.325\n",
            "\tIter 30/ 50 - Loss: 0.321\n",
            "\tIter 40/ 50 - Loss: 0.318\n",
            "\tIter 50/ 50 - Loss: 0.315\n"
          ]
        },
        {
          "name": "stderr",
          "output_type": "stream",
          "text": [
            "\n",
            "281it [12:16,  2.88s/it]\u001b[A"
          ]
        },
        {
          "name": "stdout",
          "output_type": "stream",
          "text": [
            "\tIter 10/ 50 - Loss: 0.323\n",
            "\tIter 20/ 50 - Loss: 0.316\n",
            "\tIter 30/ 50 - Loss: 0.313\n",
            "\tIter 40/ 50 - Loss: 0.31\n",
            "\tIter 50/ 50 - Loss: 0.308\n"
          ]
        },
        {
          "name": "stderr",
          "output_type": "stream",
          "text": [
            "\n",
            "282it [12:19,  2.93s/it]\u001b[A"
          ]
        },
        {
          "name": "stdout",
          "output_type": "stream",
          "text": [
            "\tIter 10/ 50 - Loss: 0.317\n",
            "\tIter 20/ 50 - Loss: 0.308\n",
            "\tIter 30/ 50 - Loss: 0.303\n",
            "\tIter 40/ 50 - Loss: 0.301\n",
            "\tIter 50/ 50 - Loss: 0.299\n"
          ]
        },
        {
          "name": "stderr",
          "output_type": "stream",
          "text": [
            "\n",
            "283it [12:22,  2.91s/it]\u001b[A"
          ]
        },
        {
          "name": "stdout",
          "output_type": "stream",
          "text": [
            "\tIter 10/ 50 - Loss: 0.323\n",
            "\tIter 20/ 50 - Loss: 0.317\n",
            "\tIter 30/ 50 - Loss: 0.313\n",
            "\tIter 40/ 50 - Loss: 0.31\n",
            "\tIter 50/ 50 - Loss: 0.309\n"
          ]
        },
        {
          "name": "stderr",
          "output_type": "stream",
          "text": [
            "\n",
            "284it [12:24,  2.89s/it]\u001b[A"
          ]
        },
        {
          "name": "stdout",
          "output_type": "stream",
          "text": [
            "\tIter 10/ 50 - Loss: 0.318\n",
            "\tIter 20/ 50 - Loss: 0.312\n",
            "\tIter 30/ 50 - Loss: 0.309\n",
            "\tIter 40/ 50 - Loss: 0.307\n",
            "\tIter 50/ 50 - Loss: 0.306\n"
          ]
        },
        {
          "name": "stderr",
          "output_type": "stream",
          "text": [
            "\n",
            "285it [12:27,  2.90s/it]\u001b[A"
          ]
        },
        {
          "name": "stdout",
          "output_type": "stream",
          "text": [
            "\tIter 10/ 50 - Loss: 0.312\n",
            "\tIter 20/ 50 - Loss: 0.306\n",
            "\tIter 30/ 50 - Loss: 0.303\n",
            "\tIter 40/ 50 - Loss: 0.301\n",
            "\tIter 50/ 50 - Loss: 0.3\n"
          ]
        },
        {
          "name": "stderr",
          "output_type": "stream",
          "text": [
            "\n",
            "286it [12:30,  2.89s/it]\u001b[A"
          ]
        },
        {
          "name": "stdout",
          "output_type": "stream",
          "text": [
            "\tIter 10/ 50 - Loss: 0.315\n",
            "\tIter 20/ 50 - Loss: 0.308\n",
            "\tIter 30/ 50 - Loss: 0.305\n",
            "\tIter 40/ 50 - Loss: 0.303\n",
            "\tIter 50/ 50 - Loss: 0.301\n"
          ]
        },
        {
          "name": "stderr",
          "output_type": "stream",
          "text": [
            "\n",
            "287it [12:33,  2.88s/it]\u001b[A"
          ]
        },
        {
          "name": "stdout",
          "output_type": "stream",
          "text": [
            "\tIter 10/ 50 - Loss: 0.315\n",
            "\tIter 20/ 50 - Loss: 0.311\n",
            "\tIter 30/ 50 - Loss: 0.309\n",
            "\tIter 40/ 50 - Loss: 0.307\n",
            "\tIter 50/ 50 - Loss: 0.305\n"
          ]
        },
        {
          "name": "stderr",
          "output_type": "stream",
          "text": [
            "\n",
            "288it [12:36,  2.86s/it]\u001b[A"
          ]
        },
        {
          "name": "stdout",
          "output_type": "stream",
          "text": [
            "\tIter 10/ 50 - Loss: 0.316\n",
            "\tIter 20/ 50 - Loss: 0.309\n",
            "\tIter 30/ 50 - Loss: 0.306\n",
            "\tIter 40/ 50 - Loss: 0.304\n",
            "\tIter 50/ 50 - Loss: 0.303\n"
          ]
        },
        {
          "name": "stderr",
          "output_type": "stream",
          "text": [
            "\n",
            "289it [12:39,  2.94s/it]\u001b[A"
          ]
        },
        {
          "name": "stdout",
          "output_type": "stream",
          "text": [
            "\tIter 10/ 50 - Loss: 0.318\n",
            "\tIter 20/ 50 - Loss: 0.312\n",
            "\tIter 30/ 50 - Loss: 0.309\n",
            "\tIter 40/ 50 - Loss: 0.306\n",
            "\tIter 50/ 50 - Loss: 0.305\n"
          ]
        },
        {
          "name": "stderr",
          "output_type": "stream",
          "text": [
            "\n",
            "290it [12:42,  2.93s/it]\u001b[A"
          ]
        },
        {
          "name": "stdout",
          "output_type": "stream",
          "text": [
            "\tIter 10/ 50 - Loss: 0.321\n",
            "\tIter 20/ 50 - Loss: 0.316\n",
            "\tIter 30/ 50 - Loss: 0.312\n",
            "\tIter 40/ 50 - Loss: 0.31\n",
            "\tIter 50/ 50 - Loss: 0.308\n"
          ]
        },
        {
          "name": "stderr",
          "output_type": "stream",
          "text": [
            "\n",
            "291it [12:45,  2.91s/it]\u001b[A"
          ]
        },
        {
          "name": "stdout",
          "output_type": "stream",
          "text": [
            "\tIter 10/ 50 - Loss: 0.323\n",
            "\tIter 20/ 50 - Loss: 0.316\n",
            "\tIter 30/ 50 - Loss: 0.311\n",
            "\tIter 40/ 50 - Loss: 0.308\n",
            "\tIter 50/ 50 - Loss: 0.305\n"
          ]
        },
        {
          "name": "stderr",
          "output_type": "stream",
          "text": [
            "\n",
            "292it [12:48,  2.89s/it]\u001b[A"
          ]
        },
        {
          "name": "stdout",
          "output_type": "stream",
          "text": [
            "\tIter 10/ 50 - Loss: 0.337\n",
            "\tIter 20/ 50 - Loss: 0.328\n",
            "\tIter 30/ 50 - Loss: 0.323\n",
            "\tIter 40/ 50 - Loss: 0.32\n",
            "\tIter 50/ 50 - Loss: 0.317\n"
          ]
        },
        {
          "name": "stderr",
          "output_type": "stream",
          "text": [
            "\n",
            "293it [12:50,  2.89s/it]\u001b[A"
          ]
        },
        {
          "name": "stdout",
          "output_type": "stream",
          "text": [
            "\tIter 10/ 50 - Loss: 0.324\n",
            "\tIter 20/ 50 - Loss: 0.315\n",
            "\tIter 30/ 50 - Loss: 0.311\n",
            "\tIter 40/ 50 - Loss: 0.309\n",
            "\tIter 50/ 50 - Loss: 0.307\n"
          ]
        },
        {
          "name": "stderr",
          "output_type": "stream",
          "text": [
            "\n",
            "294it [12:53,  2.88s/it]\u001b[A"
          ]
        },
        {
          "name": "stdout",
          "output_type": "stream",
          "text": [
            "\tIter 10/ 50 - Loss: 0.319\n",
            "\tIter 20/ 50 - Loss: 0.313\n",
            "\tIter 30/ 50 - Loss: 0.31\n",
            "\tIter 40/ 50 - Loss: 0.308\n",
            "\tIter 50/ 50 - Loss: 0.306\n"
          ]
        },
        {
          "name": "stderr",
          "output_type": "stream",
          "text": [
            "\n",
            "295it [12:56,  2.88s/it]\u001b[A"
          ]
        },
        {
          "name": "stdout",
          "output_type": "stream",
          "text": [
            "\tIter 10/ 50 - Loss: 0.337\n",
            "\tIter 20/ 50 - Loss: 0.328\n",
            "\tIter 30/ 50 - Loss: 0.323\n",
            "\tIter 40/ 50 - Loss: 0.32\n",
            "\tIter 50/ 50 - Loss: 0.317\n"
          ]
        },
        {
          "name": "stderr",
          "output_type": "stream",
          "text": [
            "\n",
            "296it [12:59,  2.87s/it]\u001b[A"
          ]
        },
        {
          "name": "stdout",
          "output_type": "stream",
          "text": [
            "\tIter 10/ 50 - Loss: 0.327\n",
            "\tIter 20/ 50 - Loss: 0.32\n",
            "\tIter 30/ 50 - Loss: 0.317\n",
            "\tIter 40/ 50 - Loss: 0.315\n",
            "\tIter 50/ 50 - Loss: 0.313\n"
          ]
        },
        {
          "name": "stderr",
          "output_type": "stream",
          "text": [
            "\n",
            "297it [13:02,  2.93s/it]\u001b[A"
          ]
        },
        {
          "name": "stdout",
          "output_type": "stream",
          "text": [
            "\tIter 10/ 50 - Loss: 0.322\n",
            "\tIter 20/ 50 - Loss: 0.317\n",
            "\tIter 30/ 50 - Loss: 0.315\n",
            "\tIter 40/ 50 - Loss: 0.313\n",
            "\tIter 50/ 50 - Loss: 0.311\n"
          ]
        },
        {
          "name": "stderr",
          "output_type": "stream",
          "text": [
            "\n",
            "298it [13:05,  2.91s/it]\u001b[A"
          ]
        },
        {
          "name": "stdout",
          "output_type": "stream",
          "text": [
            "\tIter 10/ 50 - Loss: 0.324\n",
            "\tIter 20/ 50 - Loss: 0.32\n",
            "\tIter 30/ 50 - Loss: 0.317\n",
            "\tIter 40/ 50 - Loss: 0.315\n",
            "\tIter 50/ 50 - Loss: 0.313\n"
          ]
        },
        {
          "name": "stderr",
          "output_type": "stream",
          "text": [
            "\n",
            "299it [13:08,  2.89s/it]\u001b[A"
          ]
        },
        {
          "name": "stdout",
          "output_type": "stream",
          "text": [
            "\tIter 10/ 50 - Loss: 0.318\n",
            "\tIter 20/ 50 - Loss: 0.313\n",
            "\tIter 30/ 50 - Loss: 0.31\n",
            "\tIter 40/ 50 - Loss: 0.309\n",
            "\tIter 50/ 50 - Loss: 0.307\n"
          ]
        },
        {
          "name": "stderr",
          "output_type": "stream",
          "text": [
            "\n",
            "300it [13:11,  2.88s/it]\u001b[A"
          ]
        },
        {
          "name": "stdout",
          "output_type": "stream",
          "text": [
            "\tIter 10/ 50 - Loss: 0.322\n",
            "\tIter 20/ 50 - Loss: 0.317\n",
            "\tIter 30/ 50 - Loss: 0.315\n",
            "\tIter 40/ 50 - Loss: 0.312\n",
            "\tIter 50/ 50 - Loss: 0.311\n"
          ]
        },
        {
          "name": "stderr",
          "output_type": "stream",
          "text": [
            "\n",
            "301it [13:14,  2.88s/it]\u001b[A"
          ]
        },
        {
          "name": "stdout",
          "output_type": "stream",
          "text": [
            "\tIter 10/ 50 - Loss: 0.337\n",
            "\tIter 20/ 50 - Loss: 0.328\n",
            "\tIter 30/ 50 - Loss: 0.322\n",
            "\tIter 40/ 50 - Loss: 0.319\n",
            "\tIter 50/ 50 - Loss: 0.316\n"
          ]
        },
        {
          "name": "stderr",
          "output_type": "stream",
          "text": [
            "\n",
            "302it [13:16,  2.88s/it]\u001b[A"
          ]
        },
        {
          "name": "stdout",
          "output_type": "stream",
          "text": [
            "\tIter 10/ 50 - Loss: 0.322\n",
            "\tIter 20/ 50 - Loss: 0.318\n",
            "\tIter 30/ 50 - Loss: 0.315\n",
            "\tIter 40/ 50 - Loss: 0.313\n",
            "\tIter 50/ 50 - Loss: 0.312\n"
          ]
        },
        {
          "name": "stderr",
          "output_type": "stream",
          "text": [
            "\n",
            "303it [13:19,  2.88s/it]\u001b[A"
          ]
        },
        {
          "name": "stdout",
          "output_type": "stream",
          "text": [
            "\tIter 10/ 50 - Loss: 0.322\n",
            "\tIter 20/ 50 - Loss: 0.318\n",
            "\tIter 30/ 50 - Loss: 0.315\n",
            "\tIter 40/ 50 - Loss: 0.313\n",
            "\tIter 50/ 50 - Loss: 0.312\n"
          ]
        },
        {
          "name": "stderr",
          "output_type": "stream",
          "text": [
            "\n",
            "304it [13:22,  2.87s/it]\u001b[A"
          ]
        },
        {
          "name": "stdout",
          "output_type": "stream",
          "text": [
            "\tIter 10/ 50 - Loss: 0.322\n",
            "\tIter 20/ 50 - Loss: 0.316\n",
            "\tIter 30/ 50 - Loss: 0.312\n",
            "\tIter 40/ 50 - Loss: 0.31\n",
            "\tIter 50/ 50 - Loss: 0.308\n"
          ]
        },
        {
          "name": "stderr",
          "output_type": "stream",
          "text": [
            "\n",
            "305it [13:25,  2.94s/it]\u001b[A"
          ]
        },
        {
          "name": "stdout",
          "output_type": "stream",
          "text": [
            "\tIter 10/ 50 - Loss: 0.334\n",
            "\tIter 20/ 50 - Loss: 0.329\n",
            "\tIter 30/ 50 - Loss: 0.326\n",
            "\tIter 40/ 50 - Loss: 0.324\n",
            "\tIter 50/ 50 - Loss: 0.322\n"
          ]
        },
        {
          "name": "stderr",
          "output_type": "stream",
          "text": [
            "\n",
            "306it [13:28,  2.94s/it]\u001b[A"
          ]
        },
        {
          "name": "stdout",
          "output_type": "stream",
          "text": [
            "\tIter 10/ 50 - Loss: 0.343\n",
            "\tIter 20/ 50 - Loss: 0.333\n",
            "\tIter 30/ 50 - Loss: 0.328\n",
            "\tIter 40/ 50 - Loss: 0.324\n",
            "\tIter 50/ 50 - Loss: 0.321\n"
          ]
        },
        {
          "name": "stderr",
          "output_type": "stream",
          "text": [
            "\n",
            "307it [13:31,  2.92s/it]\u001b[A"
          ]
        },
        {
          "name": "stdout",
          "output_type": "stream",
          "text": [
            "\tIter 10/ 50 - Loss: 0.327\n",
            "\tIter 20/ 50 - Loss: 0.32\n",
            "\tIter 30/ 50 - Loss: 0.316\n",
            "\tIter 40/ 50 - Loss: 0.313\n",
            "\tIter 50/ 50 - Loss: 0.312\n"
          ]
        },
        {
          "name": "stderr",
          "output_type": "stream",
          "text": [
            "\n",
            "308it [13:34,  2.90s/it]\u001b[A"
          ]
        },
        {
          "name": "stdout",
          "output_type": "stream",
          "text": [
            "\tIter 10/ 50 - Loss: 0.336\n",
            "\tIter 20/ 50 - Loss: 0.329\n",
            "\tIter 30/ 50 - Loss: 0.325\n",
            "\tIter 40/ 50 - Loss: 0.322\n",
            "\tIter 50/ 50 - Loss: 0.32\n"
          ]
        },
        {
          "name": "stderr",
          "output_type": "stream",
          "text": [
            "\n",
            "309it [13:37,  2.89s/it]\u001b[A"
          ]
        },
        {
          "name": "stdout",
          "output_type": "stream",
          "text": [
            "\tIter 10/ 50 - Loss: 0.333\n",
            "\tIter 20/ 50 - Loss: 0.325\n",
            "\tIter 30/ 50 - Loss: 0.321\n",
            "\tIter 40/ 50 - Loss: 0.318\n",
            "\tIter 50/ 50 - Loss: 0.316\n"
          ]
        },
        {
          "name": "stderr",
          "output_type": "stream",
          "text": [
            "\n",
            "310it [13:40,  2.90s/it]\u001b[A"
          ]
        },
        {
          "name": "stdout",
          "output_type": "stream",
          "text": [
            "\tIter 10/ 50 - Loss: 0.331\n",
            "\tIter 20/ 50 - Loss: 0.328\n",
            "\tIter 30/ 50 - Loss: 0.325\n",
            "\tIter 40/ 50 - Loss: 0.323\n",
            "\tIter 50/ 50 - Loss: 0.322\n"
          ]
        },
        {
          "name": "stderr",
          "output_type": "stream",
          "text": [
            "\n",
            "311it [13:43,  2.88s/it]\u001b[A"
          ]
        },
        {
          "name": "stdout",
          "output_type": "stream",
          "text": [
            "\tIter 10/ 50 - Loss: 0.326\n",
            "\tIter 20/ 50 - Loss: 0.321\n",
            "\tIter 30/ 50 - Loss: 0.319\n",
            "\tIter 40/ 50 - Loss: 0.317\n",
            "\tIter 50/ 50 - Loss: 0.316\n"
          ]
        },
        {
          "name": "stderr",
          "output_type": "stream",
          "text": [
            "\n",
            "312it [13:46,  2.94s/it]\u001b[A"
          ]
        },
        {
          "name": "stdout",
          "output_type": "stream",
          "text": [
            "\tIter 10/ 50 - Loss: 0.33\n",
            "\tIter 20/ 50 - Loss: 0.321\n",
            "\tIter 30/ 50 - Loss: 0.316\n",
            "\tIter 40/ 50 - Loss: 0.314\n",
            "\tIter 50/ 50 - Loss: 0.312\n"
          ]
        },
        {
          "name": "stderr",
          "output_type": "stream",
          "text": [
            "\n",
            "313it [13:49,  2.94s/it]\u001b[A"
          ]
        },
        {
          "name": "stdout",
          "output_type": "stream",
          "text": [
            "\tIter 10/ 50 - Loss: 0.343\n",
            "\tIter 20/ 50 - Loss: 0.336\n",
            "\tIter 30/ 50 - Loss: 0.332\n",
            "\tIter 40/ 50 - Loss: 0.329\n",
            "\tIter 50/ 50 - Loss: 0.326\n"
          ]
        },
        {
          "name": "stderr",
          "output_type": "stream",
          "text": [
            "\n",
            "314it [13:52,  2.95s/it]\u001b[A"
          ]
        },
        {
          "name": "stdout",
          "output_type": "stream",
          "text": [
            "\tIter 10/ 50 - Loss: 0.326\n",
            "\tIter 20/ 50 - Loss: 0.32\n",
            "\tIter 30/ 50 - Loss: 0.317\n",
            "\tIter 40/ 50 - Loss: 0.315\n",
            "\tIter 50/ 50 - Loss: 0.313\n"
          ]
        },
        {
          "name": "stderr",
          "output_type": "stream",
          "text": [
            "\n",
            "315it [13:54,  2.93s/it]\u001b[A"
          ]
        },
        {
          "name": "stdout",
          "output_type": "stream",
          "text": [
            "\tIter 10/ 50 - Loss: 0.326\n",
            "\tIter 20/ 50 - Loss: 0.323\n",
            "\tIter 30/ 50 - Loss: 0.322\n",
            "\tIter 40/ 50 - Loss: 0.321\n",
            "\tIter 50/ 50 - Loss: 0.32\n"
          ]
        },
        {
          "name": "stderr",
          "output_type": "stream",
          "text": [
            "\n",
            "316it [13:57,  2.93s/it]\u001b[A"
          ]
        },
        {
          "name": "stdout",
          "output_type": "stream",
          "text": [
            "\tIter 10/ 50 - Loss: 0.328\n",
            "\tIter 20/ 50 - Loss: 0.322\n",
            "\tIter 30/ 50 - Loss: 0.319\n",
            "\tIter 40/ 50 - Loss: 0.317\n",
            "\tIter 50/ 50 - Loss: 0.315\n"
          ]
        },
        {
          "name": "stderr",
          "output_type": "stream",
          "text": [
            "\n",
            "317it [14:00,  2.94s/it]\u001b[A"
          ]
        },
        {
          "name": "stdout",
          "output_type": "stream",
          "text": [
            "\tIter 10/ 50 - Loss: 0.336\n",
            "\tIter 20/ 50 - Loss: 0.328\n",
            "\tIter 30/ 50 - Loss: 0.324\n",
            "\tIter 40/ 50 - Loss: 0.321\n",
            "\tIter 50/ 50 - Loss: 0.319\n"
          ]
        },
        {
          "name": "stderr",
          "output_type": "stream",
          "text": [
            "\n",
            "318it [14:03,  2.95s/it]\u001b[A"
          ]
        },
        {
          "name": "stdout",
          "output_type": "stream",
          "text": [
            "\tIter 10/ 50 - Loss: 0.332\n",
            "\tIter 20/ 50 - Loss: 0.329\n",
            "\tIter 30/ 50 - Loss: 0.326\n",
            "\tIter 40/ 50 - Loss: 0.324\n",
            "\tIter 50/ 50 - Loss: 0.323\n"
          ]
        },
        {
          "name": "stderr",
          "output_type": "stream",
          "text": [
            "\n",
            "319it [14:06,  2.99s/it]\u001b[A"
          ]
        },
        {
          "name": "stdout",
          "output_type": "stream",
          "text": [
            "\tIter 10/ 50 - Loss: 0.322\n",
            "\tIter 20/ 50 - Loss: 0.32\n",
            "\tIter 30/ 50 - Loss: 0.319\n",
            "\tIter 40/ 50 - Loss: 0.318\n",
            "\tIter 50/ 50 - Loss: 0.317\n"
          ]
        },
        {
          "name": "stderr",
          "output_type": "stream",
          "text": [
            "\n",
            "320it [14:09,  2.98s/it]\u001b[A"
          ]
        },
        {
          "name": "stdout",
          "output_type": "stream",
          "text": [
            "\tIter 10/ 50 - Loss: 0.335\n",
            "\tIter 20/ 50 - Loss: 0.33\n",
            "\tIter 30/ 50 - Loss: 0.328\n",
            "\tIter 40/ 50 - Loss: 0.326\n",
            "\tIter 50/ 50 - Loss: 0.324\n"
          ]
        },
        {
          "name": "stderr",
          "output_type": "stream",
          "text": [
            "\n",
            "321it [14:12,  2.96s/it]\u001b[A"
          ]
        },
        {
          "name": "stdout",
          "output_type": "stream",
          "text": [
            "\tIter 10/ 50 - Loss: 0.327\n",
            "\tIter 20/ 50 - Loss: 0.324\n",
            "\tIter 30/ 50 - Loss: 0.322\n",
            "\tIter 40/ 50 - Loss: 0.321\n",
            "\tIter 50/ 50 - Loss: 0.32\n"
          ]
        },
        {
          "name": "stderr",
          "output_type": "stream",
          "text": [
            "\n",
            "322it [14:15,  2.96s/it]\u001b[A"
          ]
        },
        {
          "name": "stdout",
          "output_type": "stream",
          "text": [
            "\tIter 10/ 50 - Loss: 0.346\n",
            "\tIter 20/ 50 - Loss: 0.337\n",
            "\tIter 30/ 50 - Loss: 0.332\n",
            "\tIter 40/ 50 - Loss: 0.329\n",
            "\tIter 50/ 50 - Loss: 0.327\n"
          ]
        },
        {
          "name": "stderr",
          "output_type": "stream",
          "text": [
            "\n",
            "323it [14:18,  2.96s/it]\u001b[A"
          ]
        },
        {
          "name": "stdout",
          "output_type": "stream",
          "text": [
            "\tIter 10/ 50 - Loss: 0.331\n",
            "\tIter 20/ 50 - Loss: 0.329\n",
            "\tIter 30/ 50 - Loss: 0.327\n",
            "\tIter 40/ 50 - Loss: 0.325\n",
            "\tIter 50/ 50 - Loss: 0.324\n"
          ]
        },
        {
          "name": "stderr",
          "output_type": "stream",
          "text": [
            "\n",
            "324it [14:21,  2.96s/it]\u001b[A"
          ]
        },
        {
          "name": "stdout",
          "output_type": "stream",
          "text": [
            "\tIter 10/ 50 - Loss: 0.333\n",
            "\tIter 20/ 50 - Loss: 0.327\n",
            "\tIter 30/ 50 - Loss: 0.324\n",
            "\tIter 40/ 50 - Loss: 0.322\n",
            "\tIter 50/ 50 - Loss: 0.32\n"
          ]
        },
        {
          "name": "stderr",
          "output_type": "stream",
          "text": [
            "\n",
            "325it [14:24,  2.96s/it]\u001b[A"
          ]
        },
        {
          "name": "stdout",
          "output_type": "stream",
          "text": [
            "\tIter 10/ 50 - Loss: 0.333\n",
            "\tIter 20/ 50 - Loss: 0.329\n",
            "\tIter 30/ 50 - Loss: 0.327\n",
            "\tIter 40/ 50 - Loss: 0.326\n",
            "\tIter 50/ 50 - Loss: 0.325\n"
          ]
        },
        {
          "name": "stderr",
          "output_type": "stream",
          "text": [
            "\n",
            "326it [14:27,  2.98s/it]\u001b[A"
          ]
        },
        {
          "name": "stdout",
          "output_type": "stream",
          "text": [
            "\tIter 10/ 50 - Loss: 0.357\n",
            "\tIter 20/ 50 - Loss: 0.346\n",
            "\tIter 30/ 50 - Loss: 0.341\n",
            "\tIter 40/ 50 - Loss: 0.337\n",
            "\tIter 50/ 50 - Loss: 0.335\n"
          ]
        },
        {
          "name": "stderr",
          "output_type": "stream",
          "text": [
            "\n",
            "327it [14:30,  3.02s/it]\u001b[A"
          ]
        },
        {
          "name": "stdout",
          "output_type": "stream",
          "text": [
            "\tIter 10/ 50 - Loss: 0.358\n",
            "\tIter 20/ 50 - Loss: 0.348\n",
            "\tIter 30/ 50 - Loss: 0.342\n",
            "\tIter 40/ 50 - Loss: 0.337\n",
            "\tIter 50/ 50 - Loss: 0.334\n"
          ]
        },
        {
          "name": "stderr",
          "output_type": "stream",
          "text": [
            "\n",
            "328it [14:33,  3.00s/it]\u001b[A"
          ]
        },
        {
          "name": "stdout",
          "output_type": "stream",
          "text": [
            "\tIter 10/ 50 - Loss: 0.324\n",
            "\tIter 20/ 50 - Loss: 0.319\n",
            "\tIter 30/ 50 - Loss: 0.317\n",
            "\tIter 40/ 50 - Loss: 0.316\n",
            "\tIter 50/ 50 - Loss: 0.315\n"
          ]
        },
        {
          "name": "stderr",
          "output_type": "stream",
          "text": [
            "\n",
            "329it [14:36,  2.99s/it]\u001b[A"
          ]
        },
        {
          "name": "stdout",
          "output_type": "stream",
          "text": [
            "\tIter 10/ 50 - Loss: 0.334\n",
            "\tIter 20/ 50 - Loss: 0.329\n",
            "\tIter 30/ 50 - Loss: 0.326\n",
            "\tIter 40/ 50 - Loss: 0.324\n",
            "\tIter 50/ 50 - Loss: 0.322\n"
          ]
        },
        {
          "name": "stderr",
          "output_type": "stream",
          "text": [
            "\n",
            "330it [14:39,  2.98s/it]\u001b[A"
          ]
        },
        {
          "name": "stdout",
          "output_type": "stream",
          "text": [
            "\tIter 10/ 50 - Loss: 0.337\n",
            "\tIter 20/ 50 - Loss: 0.332\n",
            "\tIter 30/ 50 - Loss: 0.328\n",
            "\tIter 40/ 50 - Loss: 0.326\n",
            "\tIter 50/ 50 - Loss: 0.324\n"
          ]
        },
        {
          "name": "stderr",
          "output_type": "stream",
          "text": [
            "\n",
            "331it [14:42,  2.97s/it]\u001b[A"
          ]
        },
        {
          "name": "stdout",
          "output_type": "stream",
          "text": [
            "\tIter 10/ 50 - Loss: 0.342\n",
            "\tIter 20/ 50 - Loss: 0.336\n",
            "\tIter 30/ 50 - Loss: 0.333\n",
            "\tIter 40/ 50 - Loss: 0.331\n",
            "\tIter 50/ 50 - Loss: 0.329\n"
          ]
        },
        {
          "name": "stderr",
          "output_type": "stream",
          "text": [
            "\n",
            "332it [14:45,  2.96s/it]\u001b[A"
          ]
        },
        {
          "name": "stdout",
          "output_type": "stream",
          "text": [
            "\tIter 10/ 50 - Loss: 0.346\n",
            "\tIter 20/ 50 - Loss: 0.339\n",
            "\tIter 30/ 50 - Loss: 0.334\n",
            "\tIter 40/ 50 - Loss: 0.332\n",
            "\tIter 50/ 50 - Loss: 0.33\n"
          ]
        },
        {
          "name": "stderr",
          "output_type": "stream",
          "text": [
            "\n",
            "333it [14:48,  2.96s/it]\u001b[A"
          ]
        },
        {
          "name": "stdout",
          "output_type": "stream",
          "text": [
            "\tIter 10/ 50 - Loss: 0.339\n",
            "\tIter 20/ 50 - Loss: 0.333\n",
            "\tIter 30/ 50 - Loss: 0.33\n",
            "\tIter 40/ 50 - Loss: 0.328\n",
            "\tIter 50/ 50 - Loss: 0.326\n"
          ]
        },
        {
          "name": "stderr",
          "output_type": "stream",
          "text": [
            "\n",
            "334it [14:51,  3.04s/it]\u001b[A"
          ]
        },
        {
          "name": "stdout",
          "output_type": "stream",
          "text": [
            "\tIter 10/ 50 - Loss: 0.327\n",
            "\tIter 20/ 50 - Loss: 0.324\n",
            "\tIter 30/ 50 - Loss: 0.322\n",
            "\tIter 40/ 50 - Loss: 0.321\n",
            "\tIter 50/ 50 - Loss: 0.32\n"
          ]
        },
        {
          "name": "stderr",
          "output_type": "stream",
          "text": [
            "\n",
            "335it [14:54,  3.01s/it]\u001b[A"
          ]
        },
        {
          "name": "stdout",
          "output_type": "stream",
          "text": [
            "\tIter 10/ 50 - Loss: 0.337\n",
            "\tIter 20/ 50 - Loss: 0.332\n",
            "\tIter 30/ 50 - Loss: 0.329\n",
            "\tIter 40/ 50 - Loss: 0.327\n",
            "\tIter 50/ 50 - Loss: 0.325\n"
          ]
        },
        {
          "name": "stderr",
          "output_type": "stream",
          "text": [
            "\n",
            "336it [14:57,  2.99s/it]\u001b[A"
          ]
        },
        {
          "name": "stdout",
          "output_type": "stream",
          "text": [
            "\tIter 10/ 50 - Loss: 0.337\n",
            "\tIter 20/ 50 - Loss: 0.332\n",
            "\tIter 30/ 50 - Loss: 0.329\n",
            "\tIter 40/ 50 - Loss: 0.327\n",
            "\tIter 50/ 50 - Loss: 0.325\n"
          ]
        },
        {
          "name": "stderr",
          "output_type": "stream",
          "text": [
            "\n",
            "337it [15:00,  2.98s/it]\u001b[A"
          ]
        },
        {
          "name": "stdout",
          "output_type": "stream",
          "text": [
            "\tIter 10/ 50 - Loss: 0.339\n",
            "\tIter 20/ 50 - Loss: 0.333\n",
            "\tIter 30/ 50 - Loss: 0.33\n",
            "\tIter 40/ 50 - Loss: 0.328\n",
            "\tIter 50/ 50 - Loss: 0.326\n"
          ]
        },
        {
          "name": "stderr",
          "output_type": "stream",
          "text": [
            "\n",
            "338it [15:03,  3.00s/it]\u001b[A"
          ]
        },
        {
          "name": "stdout",
          "output_type": "stream",
          "text": [
            "\tIter 10/ 50 - Loss: 0.344\n",
            "\tIter 20/ 50 - Loss: 0.34\n",
            "\tIter 30/ 50 - Loss: 0.337\n",
            "\tIter 40/ 50 - Loss: 0.335\n",
            "\tIter 50/ 50 - Loss: 0.333\n"
          ]
        },
        {
          "name": "stderr",
          "output_type": "stream",
          "text": [
            "\n",
            "339it [15:06,  2.97s/it]\u001b[A"
          ]
        },
        {
          "name": "stdout",
          "output_type": "stream",
          "text": [
            "\tIter 10/ 50 - Loss: 0.332\n",
            "\tIter 20/ 50 - Loss: 0.329\n",
            "\tIter 30/ 50 - Loss: 0.327\n",
            "\tIter 40/ 50 - Loss: 0.326\n",
            "\tIter 50/ 50 - Loss: 0.325\n"
          ]
        },
        {
          "name": "stderr",
          "output_type": "stream",
          "text": [
            "\n",
            "340it [15:09,  2.96s/it]\u001b[A"
          ]
        },
        {
          "name": "stdout",
          "output_type": "stream",
          "text": [
            "\tIter 10/ 50 - Loss: 0.33\n",
            "\tIter 20/ 50 - Loss: 0.326\n",
            "\tIter 30/ 50 - Loss: 0.324\n",
            "\tIter 40/ 50 - Loss: 0.323\n",
            "\tIter 50/ 50 - Loss: 0.322\n"
          ]
        },
        {
          "name": "stderr",
          "output_type": "stream",
          "text": [
            "\n",
            "341it [15:12,  3.02s/it]\u001b[A"
          ]
        },
        {
          "name": "stdout",
          "output_type": "stream",
          "text": [
            "\tIter 10/ 50 - Loss: 0.335\n",
            "\tIter 20/ 50 - Loss: 0.331\n",
            "\tIter 30/ 50 - Loss: 0.328\n",
            "\tIter 40/ 50 - Loss: 0.327\n",
            "\tIter 50/ 50 - Loss: 0.325\n"
          ]
        },
        {
          "name": "stderr",
          "output_type": "stream",
          "text": [
            "\n",
            "342it [15:15,  3.01s/it]\u001b[A"
          ]
        },
        {
          "name": "stdout",
          "output_type": "stream",
          "text": [
            "\tIter 10/ 50 - Loss: 0.338\n",
            "\tIter 20/ 50 - Loss: 0.335\n",
            "\tIter 30/ 50 - Loss: 0.334\n",
            "\tIter 40/ 50 - Loss: 0.332\n",
            "\tIter 50/ 50 - Loss: 0.331\n"
          ]
        },
        {
          "name": "stderr",
          "output_type": "stream",
          "text": [
            "\n",
            "343it [15:18,  2.99s/it]\u001b[A"
          ]
        },
        {
          "name": "stdout",
          "output_type": "stream",
          "text": [
            "\tIter 10/ 50 - Loss: 0.353\n",
            "\tIter 20/ 50 - Loss: 0.349\n",
            "\tIter 30/ 50 - Loss: 0.345\n",
            "\tIter 40/ 50 - Loss: 0.343\n",
            "\tIter 50/ 50 - Loss: 0.341\n"
          ]
        },
        {
          "name": "stderr",
          "output_type": "stream",
          "text": [
            "\n",
            "344it [15:21,  2.99s/it]\u001b[A"
          ]
        },
        {
          "name": "stdout",
          "output_type": "stream",
          "text": [
            "\tIter 10/ 50 - Loss: 0.359\n",
            "\tIter 20/ 50 - Loss: 0.348\n",
            "\tIter 30/ 50 - Loss: 0.342\n",
            "\tIter 40/ 50 - Loss: 0.338\n",
            "\tIter 50/ 50 - Loss: 0.335\n"
          ]
        },
        {
          "name": "stderr",
          "output_type": "stream",
          "text": [
            "\n",
            "345it [15:24,  2.99s/it]\u001b[A"
          ]
        },
        {
          "name": "stdout",
          "output_type": "stream",
          "text": [
            "\tIter 10/ 50 - Loss: 0.346\n",
            "\tIter 20/ 50 - Loss: 0.338\n",
            "\tIter 30/ 50 - Loss: 0.334\n",
            "\tIter 40/ 50 - Loss: 0.332\n",
            "\tIter 50/ 50 - Loss: 0.33\n"
          ]
        },
        {
          "name": "stderr",
          "output_type": "stream",
          "text": [
            "\n",
            "346it [15:27,  3.00s/it]\u001b[A"
          ]
        },
        {
          "name": "stdout",
          "output_type": "stream",
          "text": [
            "\tIter 10/ 50 - Loss: 0.348\n",
            "\tIter 20/ 50 - Loss: 0.342\n",
            "\tIter 30/ 50 - Loss: 0.339\n",
            "\tIter 40/ 50 - Loss: 0.337\n",
            "\tIter 50/ 50 - Loss: 0.336\n"
          ]
        },
        {
          "name": "stderr",
          "output_type": "stream",
          "text": [
            "\n",
            "347it [15:30,  2.99s/it]\u001b[A"
          ]
        },
        {
          "name": "stdout",
          "output_type": "stream",
          "text": [
            "\tIter 10/ 50 - Loss: 0.342\n",
            "\tIter 20/ 50 - Loss: 0.337\n",
            "\tIter 30/ 50 - Loss: 0.334\n",
            "\tIter 40/ 50 - Loss: 0.332\n",
            "\tIter 50/ 50 - Loss: 0.33\n"
          ]
        },
        {
          "name": "stderr",
          "output_type": "stream",
          "text": [
            "\n",
            "348it [15:33,  2.99s/it]\u001b[A"
          ]
        },
        {
          "name": "stdout",
          "output_type": "stream",
          "text": [
            "\tIter 10/ 50 - Loss: 0.343\n",
            "\tIter 20/ 50 - Loss: 0.338\n",
            "\tIter 30/ 50 - Loss: 0.336\n",
            "\tIter 40/ 50 - Loss: 0.334\n",
            "\tIter 50/ 50 - Loss: 0.332\n"
          ]
        },
        {
          "name": "stderr",
          "output_type": "stream",
          "text": [
            "\n",
            "349it [15:36,  3.04s/it]\u001b[A"
          ]
        },
        {
          "name": "stdout",
          "output_type": "stream",
          "text": [
            "\tIter 10/ 50 - Loss: 0.343\n",
            "\tIter 20/ 50 - Loss: 0.338\n",
            "\tIter 30/ 50 - Loss: 0.335\n",
            "\tIter 40/ 50 - Loss: 0.333\n",
            "\tIter 50/ 50 - Loss: 0.332\n"
          ]
        },
        {
          "name": "stderr",
          "output_type": "stream",
          "text": [
            "\n",
            "350it [15:39,  3.03s/it]\u001b[A"
          ]
        },
        {
          "name": "stdout",
          "output_type": "stream",
          "text": [
            "\tIter 10/ 50 - Loss: 0.345\n",
            "\tIter 20/ 50 - Loss: 0.338\n",
            "\tIter 30/ 50 - Loss: 0.334\n",
            "\tIter 40/ 50 - Loss: 0.332\n",
            "\tIter 50/ 50 - Loss: 0.33\n"
          ]
        },
        {
          "name": "stderr",
          "output_type": "stream",
          "text": [
            "\n",
            "351it [15:42,  3.02s/it]\u001b[A"
          ]
        },
        {
          "name": "stdout",
          "output_type": "stream",
          "text": [
            "\tIter 10/ 50 - Loss: 0.343\n",
            "\tIter 20/ 50 - Loss: 0.339\n",
            "\tIter 30/ 50 - Loss: 0.337\n",
            "\tIter 40/ 50 - Loss: 0.336\n",
            "\tIter 50/ 50 - Loss: 0.335\n"
          ]
        },
        {
          "name": "stderr",
          "output_type": "stream",
          "text": [
            "\n",
            "352it [15:45,  3.01s/it]\u001b[A"
          ]
        },
        {
          "name": "stdout",
          "output_type": "stream",
          "text": [
            "\tIter 10/ 50 - Loss: 0.36\n",
            "\tIter 20/ 50 - Loss: 0.347\n",
            "\tIter 30/ 50 - Loss: 0.34\n",
            "\tIter 40/ 50 - Loss: 0.336\n",
            "\tIter 50/ 50 - Loss: 0.334\n"
          ]
        },
        {
          "name": "stderr",
          "output_type": "stream",
          "text": [
            "\n",
            "353it [15:48,  3.00s/it]\u001b[A"
          ]
        },
        {
          "name": "stdout",
          "output_type": "stream",
          "text": [
            "\tIter 10/ 50 - Loss: 0.361\n",
            "\tIter 20/ 50 - Loss: 0.351\n",
            "\tIter 30/ 50 - Loss: 0.346\n",
            "\tIter 40/ 50 - Loss: 0.343\n",
            "\tIter 50/ 50 - Loss: 0.34\n"
          ]
        },
        {
          "name": "stderr",
          "output_type": "stream",
          "text": [
            "\n",
            "354it [15:51,  3.01s/it]\u001b[A"
          ]
        },
        {
          "name": "stdout",
          "output_type": "stream",
          "text": [
            "\tIter 10/ 50 - Loss: 0.357\n",
            "\tIter 20/ 50 - Loss: 0.352\n",
            "\tIter 30/ 50 - Loss: 0.348\n",
            "\tIter 40/ 50 - Loss: 0.346\n",
            "\tIter 50/ 50 - Loss: 0.344\n"
          ]
        },
        {
          "name": "stderr",
          "output_type": "stream",
          "text": [
            "\n",
            "355it [15:54,  3.00s/it]\u001b[A"
          ]
        },
        {
          "name": "stdout",
          "output_type": "stream",
          "text": [
            "\tIter 10/ 50 - Loss: 0.371\n",
            "\tIter 20/ 50 - Loss: 0.361\n",
            "\tIter 30/ 50 - Loss: 0.356\n",
            "\tIter 40/ 50 - Loss: 0.353\n",
            "\tIter 50/ 50 - Loss: 0.35\n"
          ]
        },
        {
          "name": "stderr",
          "output_type": "stream",
          "text": [
            "\n",
            "356it [15:57,  3.06s/it]\u001b[A"
          ]
        },
        {
          "name": "stdout",
          "output_type": "stream",
          "text": [
            "\tIter 10/ 50 - Loss: 0.349\n",
            "\tIter 20/ 50 - Loss: 0.345\n",
            "\tIter 30/ 50 - Loss: 0.343\n",
            "\tIter 40/ 50 - Loss: 0.341\n",
            "\tIter 50/ 50 - Loss: 0.34\n"
          ]
        },
        {
          "name": "stderr",
          "output_type": "stream",
          "text": [
            "\n",
            "357it [16:00,  3.05s/it]\u001b[A"
          ]
        },
        {
          "name": "stdout",
          "output_type": "stream",
          "text": [
            "\tIter 10/ 50 - Loss: 0.358\n",
            "\tIter 20/ 50 - Loss: 0.352\n",
            "\tIter 30/ 50 - Loss: 0.348\n",
            "\tIter 40/ 50 - Loss: 0.346\n",
            "\tIter 50/ 50 - Loss: 0.343\n"
          ]
        },
        {
          "name": "stderr",
          "output_type": "stream",
          "text": [
            "\n",
            "358it [16:03,  3.06s/it]\u001b[A"
          ]
        },
        {
          "name": "stdout",
          "output_type": "stream",
          "text": [
            "\tIter 10/ 50 - Loss: 0.362\n",
            "\tIter 20/ 50 - Loss: 0.356\n",
            "\tIter 30/ 50 - Loss: 0.352\n",
            "\tIter 40/ 50 - Loss: 0.349\n",
            "\tIter 50/ 50 - Loss: 0.347\n"
          ]
        },
        {
          "name": "stderr",
          "output_type": "stream",
          "text": [
            "\n",
            "359it [16:06,  3.04s/it]\u001b[A"
          ]
        },
        {
          "name": "stdout",
          "output_type": "stream",
          "text": [
            "\tIter 10/ 50 - Loss: 0.354\n",
            "\tIter 20/ 50 - Loss: 0.35\n",
            "\tIter 30/ 50 - Loss: 0.347\n",
            "\tIter 40/ 50 - Loss: 0.345\n",
            "\tIter 50/ 50 - Loss: 0.344\n"
          ]
        },
        {
          "name": "stderr",
          "output_type": "stream",
          "text": [
            "\n",
            "360it [16:09,  3.02s/it]\u001b[A"
          ]
        },
        {
          "name": "stdout",
          "output_type": "stream",
          "text": [
            "\tIter 10/ 50 - Loss: 0.376\n",
            "\tIter 20/ 50 - Loss: 0.368\n",
            "\tIter 30/ 50 - Loss: 0.363\n",
            "\tIter 40/ 50 - Loss: 0.359\n",
            "\tIter 50/ 50 - Loss: 0.356\n"
          ]
        },
        {
          "name": "stderr",
          "output_type": "stream",
          "text": [
            "\n",
            "361it [16:12,  3.02s/it]\u001b[A"
          ]
        },
        {
          "name": "stdout",
          "output_type": "stream",
          "text": [
            "\tIter 10/ 50 - Loss: 0.354\n",
            "\tIter 20/ 50 - Loss: 0.351\n",
            "\tIter 30/ 50 - Loss: 0.349\n",
            "\tIter 40/ 50 - Loss: 0.348\n",
            "\tIter 50/ 50 - Loss: 0.346\n"
          ]
        },
        {
          "name": "stderr",
          "output_type": "stream",
          "text": [
            "\n",
            "362it [16:15,  3.02s/it]\u001b[A"
          ]
        },
        {
          "name": "stdout",
          "output_type": "stream",
          "text": [
            "\tIter 10/ 50 - Loss: 0.358\n",
            "\tIter 20/ 50 - Loss: 0.354\n",
            "\tIter 30/ 50 - Loss: 0.352\n",
            "\tIter 40/ 50 - Loss: 0.35\n",
            "\tIter 50/ 50 - Loss: 0.349\n"
          ]
        },
        {
          "name": "stderr",
          "output_type": "stream",
          "text": [
            "\n",
            "363it [16:19,  3.07s/it]\u001b[A"
          ]
        },
        {
          "name": "stdout",
          "output_type": "stream",
          "text": [
            "\tIter 10/ 50 - Loss: 0.359\n",
            "\tIter 20/ 50 - Loss: 0.352\n",
            "\tIter 30/ 50 - Loss: 0.348\n",
            "\tIter 40/ 50 - Loss: 0.346\n",
            "\tIter 50/ 50 - Loss: 0.345\n"
          ]
        },
        {
          "name": "stderr",
          "output_type": "stream",
          "text": [
            "\n",
            "364it [16:22,  3.04s/it]\u001b[A"
          ]
        },
        {
          "name": "stdout",
          "output_type": "stream",
          "text": [
            "\tIter 10/ 50 - Loss: 0.36\n",
            "\tIter 20/ 50 - Loss: 0.353\n",
            "\tIter 30/ 50 - Loss: 0.348\n",
            "\tIter 40/ 50 - Loss: 0.345\n",
            "\tIter 50/ 50 - Loss: 0.343\n"
          ]
        },
        {
          "name": "stderr",
          "output_type": "stream",
          "text": [
            "\n",
            "365it [16:25,  3.04s/it]\u001b[A"
          ]
        },
        {
          "name": "stdout",
          "output_type": "stream",
          "text": [
            "\tIter 10/ 50 - Loss: 0.377\n",
            "\tIter 20/ 50 - Loss: 0.369\n",
            "\tIter 30/ 50 - Loss: 0.363\n",
            "\tIter 40/ 50 - Loss: 0.36\n",
            "\tIter 50/ 50 - Loss: 0.358\n"
          ]
        },
        {
          "name": "stderr",
          "output_type": "stream",
          "text": [
            "\n",
            "366it [16:28,  3.03s/it]\u001b[A"
          ]
        },
        {
          "name": "stdout",
          "output_type": "stream",
          "text": [
            "\tIter 10/ 50 - Loss: 0.36\n",
            "\tIter 20/ 50 - Loss: 0.355\n",
            "\tIter 30/ 50 - Loss: 0.352\n",
            "\tIter 40/ 50 - Loss: 0.349\n",
            "\tIter 50/ 50 - Loss: 0.347\n"
          ]
        },
        {
          "name": "stderr",
          "output_type": "stream",
          "text": [
            "\n",
            "367it [16:31,  3.02s/it]\u001b[A"
          ]
        },
        {
          "name": "stdout",
          "output_type": "stream",
          "text": [
            "\tIter 10/ 50 - Loss: 0.356\n",
            "\tIter 20/ 50 - Loss: 0.35\n",
            "\tIter 30/ 50 - Loss: 0.347\n",
            "\tIter 40/ 50 - Loss: 0.345\n",
            "\tIter 50/ 50 - Loss: 0.344\n"
          ]
        },
        {
          "name": "stderr",
          "output_type": "stream",
          "text": [
            "\n",
            "368it [16:34,  3.00s/it]\u001b[A"
          ]
        },
        {
          "name": "stdout",
          "output_type": "stream",
          "text": [
            "\tIter 10/ 50 - Loss: 0.361\n",
            "\tIter 20/ 50 - Loss: 0.356\n",
            "\tIter 30/ 50 - Loss: 0.352\n",
            "\tIter 40/ 50 - Loss: 0.35\n",
            "\tIter 50/ 50 - Loss: 0.348\n"
          ]
        },
        {
          "name": "stderr",
          "output_type": "stream",
          "text": [
            "\n",
            "369it [16:37,  3.01s/it]\u001b[A"
          ]
        },
        {
          "name": "stdout",
          "output_type": "stream",
          "text": [
            "\tIter 10/ 50 - Loss: 0.376\n",
            "\tIter 20/ 50 - Loss: 0.368\n",
            "\tIter 30/ 50 - Loss: 0.363\n",
            "\tIter 40/ 50 - Loss: 0.36\n",
            "\tIter 50/ 50 - Loss: 0.358\n"
          ]
        },
        {
          "name": "stderr",
          "output_type": "stream",
          "text": [
            "\n",
            "370it [16:40,  3.08s/it]\u001b[A"
          ]
        },
        {
          "name": "stdout",
          "output_type": "stream",
          "text": [
            "\tIter 10/ 50 - Loss: 0.352\n",
            "\tIter 20/ 50 - Loss: 0.348\n",
            "\tIter 30/ 50 - Loss: 0.346\n",
            "\tIter 40/ 50 - Loss: 0.344\n",
            "\tIter 50/ 50 - Loss: 0.343\n"
          ]
        },
        {
          "name": "stderr",
          "output_type": "stream",
          "text": [
            "\n",
            "371it [16:43,  3.06s/it]\u001b[A"
          ]
        },
        {
          "name": "stdout",
          "output_type": "stream",
          "text": [
            "\tIter 10/ 50 - Loss: 0.358\n",
            "\tIter 20/ 50 - Loss: 0.352\n",
            "\tIter 30/ 50 - Loss: 0.349\n",
            "\tIter 40/ 50 - Loss: 0.347\n",
            "\tIter 50/ 50 - Loss: 0.345\n"
          ]
        },
        {
          "name": "stderr",
          "output_type": "stream",
          "text": [
            "\n",
            "372it [16:46,  3.06s/it]\u001b[A"
          ]
        },
        {
          "name": "stdout",
          "output_type": "stream",
          "text": [
            "\tIter 10/ 50 - Loss: 0.351\n",
            "\tIter 20/ 50 - Loss: 0.348\n",
            "\tIter 30/ 50 - Loss: 0.345\n",
            "\tIter 40/ 50 - Loss: 0.344\n",
            "\tIter 50/ 50 - Loss: 0.343\n"
          ]
        },
        {
          "name": "stderr",
          "output_type": "stream",
          "text": [
            "\n",
            "373it [16:49,  3.06s/it]\u001b[A"
          ]
        },
        {
          "name": "stdout",
          "output_type": "stream",
          "text": [
            "\tIter 10/ 50 - Loss: 0.353\n",
            "\tIter 20/ 50 - Loss: 0.346\n",
            "\tIter 30/ 50 - Loss: 0.343\n",
            "\tIter 40/ 50 - Loss: 0.34\n",
            "\tIter 50/ 50 - Loss: 0.339\n"
          ]
        },
        {
          "name": "stderr",
          "output_type": "stream",
          "text": [
            "\n",
            "374it [16:52,  3.07s/it]\u001b[A"
          ]
        },
        {
          "name": "stdout",
          "output_type": "stream",
          "text": [
            "\tIter 10/ 50 - Loss: 0.37\n",
            "\tIter 20/ 50 - Loss: 0.361\n",
            "\tIter 30/ 50 - Loss: 0.356\n",
            "\tIter 40/ 50 - Loss: 0.353\n",
            "\tIter 50/ 50 - Loss: 0.35\n"
          ]
        },
        {
          "name": "stderr",
          "output_type": "stream",
          "text": [
            "\n",
            "375it [16:55,  2.71s/it]\n",
            "  2%|▏         | 2/94 [39:40<30:24:22, 1189.81s/it]"
          ]
        },
        {
          "name": "stdout",
          "output_type": "stream",
          "text": [
            "Iter 10/512 - Loss: 0.715\n",
            "Iter 20/512 - Loss: 0.622\n",
            "Iter 30/512 - Loss: 0.553\n",
            "Iter 40/512 - Loss: 0.492\n",
            "Iter 50/512 - Loss: 0.44\n",
            "Iter 60/512 - Loss: 0.395\n",
            "Iter 70/512 - Loss: 0.356\n",
            "Iter 80/512 - Loss: 0.329\n",
            "Iter 90/512 - Loss: 0.31\n",
            "Iter 100/512 - Loss: 0.298\n",
            "Iter 110/512 - Loss: 0.289\n",
            "Iter 120/512 - Loss: 0.282\n",
            "Iter 130/512 - Loss: 0.277\n",
            "Iter 140/512 - Loss: 0.272\n",
            "Iter 150/512 - Loss: 0.269\n",
            "Iter 160/512 - Loss: 0.266\n",
            "Iter 170/512 - Loss: 0.265\n",
            "Iter 180/512 - Loss: 0.262\n",
            "Iter 190/512 - Loss: 0.26\n",
            "Iter 200/512 - Loss: 0.258\n",
            "Iter 210/512 - Loss: 0.257\n",
            "Iter 220/512 - Loss: 0.255\n",
            "Iter 230/512 - Loss: 0.254\n",
            "Iter 240/512 - Loss: 0.254\n",
            "Iter 250/512 - Loss: 0.251\n",
            "Iter 260/512 - Loss: 0.25\n",
            "Iter 270/512 - Loss: 0.25\n",
            "Iter 280/512 - Loss: 0.251\n",
            "Iter 290/512 - Loss: 0.251\n",
            "Iter 300/512 - Loss: 0.246\n",
            "Iter 310/512 - Loss: 0.245\n",
            "Iter 320/512 - Loss: 0.251\n",
            "Iter 330/512 - Loss: 0.244\n",
            "Iter 340/512 - Loss: 0.243\n",
            "Iter 350/512 - Loss: 0.244\n",
            "Iter 360/512 - Loss: 0.242\n",
            "Iter 370/512 - Loss: 0.244\n",
            "Iter 380/512 - Loss: 0.241\n",
            "Iter 390/512 - Loss: 0.241\n",
            "Iter 400/512 - Loss: 0.24\n",
            "Iter 410/512 - Loss: 0.24\n",
            "Iter 420/512 - Loss: 0.239\n",
            "Iter 430/512 - Loss: 0.239\n",
            "Iter 440/512 - Loss: 0.239\n",
            "Iter 450/512 - Loss: 0.238\n",
            "Iter 460/512 - Loss: 0.239\n",
            "Iter 470/512 - Loss: 0.237\n",
            "Iter 480/512 - Loss: 0.236\n",
            "Iter 490/512 - Loss: 0.237\n",
            "Iter 500/512 - Loss: 0.236\n",
            "Iter 510/512 - Loss: 0.235\n",
            "Iter 512/512 - Loss: 0.237\n"
          ]
        },
        {
          "name": "stderr",
          "output_type": "stream",
          "text": [
            "\n",
            "0it [00:00, ?it/s]\u001b[A\n",
            "1it [00:00,  3.08it/s]\u001b[A\n",
            "2it [00:00,  3.14it/s]\u001b[A\n",
            "3it [00:00,  3.11it/s]\u001b[A\n",
            "4it [00:01,  3.07it/s]\u001b[A\n",
            "5it [00:01,  2.57it/s]\u001b[A\n",
            "6it [00:02,  2.73it/s]\u001b[A\n",
            "7it [00:02,  2.83it/s]\u001b[A\n",
            "8it [00:02,  2.88it/s]\u001b[A\n",
            "9it [00:03,  2.93it/s]\u001b[A\n",
            "10it [00:03,  2.96it/s]\u001b[A\n",
            "11it [00:03,  2.99it/s]\u001b[A\n",
            "12it [00:04,  2.98it/s]\u001b[A\n",
            "13it [00:04,  2.97it/s]\u001b[A\n",
            "14it [00:04,  2.95it/s]\u001b[A\n",
            "15it [00:05,  2.97it/s]\u001b[A\n",
            "16it [00:05,  2.97it/s]\u001b[A\n",
            "17it [00:05,  2.95it/s]\u001b[A\n",
            "18it [00:06,  2.98it/s]\u001b[A\n",
            "19it [00:06,  2.98it/s]\u001b[A\n",
            "20it [00:06,  2.58it/s]\u001b[A\n",
            "21it [00:07,  2.71it/s]\u001b[A\n",
            "22it [00:07,  2.80it/s]\u001b[A\n",
            "23it [00:07,  2.86it/s]\u001b[A\n",
            "24it [00:08,  2.92it/s]\u001b[A\n",
            "25it [00:08,  2.95it/s]\u001b[A\n",
            "26it [00:08,  3.01it/s]\u001b[A\n",
            "27it [00:09,  3.04it/s]\u001b[A\n",
            "28it [00:09,  3.02it/s]\u001b[A\n",
            "29it [00:09,  3.02it/s]\u001b[A\n",
            "30it [00:10,  3.06it/s]\u001b[A\n",
            "31it [00:10,  3.05it/s]\u001b[A\n",
            "32it [00:10,  3.07it/s]\u001b[A\n",
            "33it [00:11,  3.07it/s]\u001b[A\n",
            "34it [00:11,  3.05it/s]\u001b[A\n",
            "35it [00:12,  2.62it/s]\u001b[A\n",
            "36it [00:12,  2.75it/s]\u001b[A\n",
            "37it [00:12,  2.83it/s]\u001b[A\n",
            "38it [00:13,  2.90it/s]\u001b[A\n",
            "39it [00:13,  2.95it/s]\u001b[A\n",
            "40it [00:13,  2.96it/s]\u001b[A\n",
            "41it [00:14,  3.01it/s]\u001b[A\n",
            "42it [00:14,  3.01it/s]\u001b[A\n",
            "43it [00:14,  2.97it/s]\u001b[A\n",
            "44it [00:15,  3.01it/s]\u001b[A\n",
            "45it [00:15,  2.96it/s]\u001b[A\n",
            "46it [00:15,  2.94it/s]\u001b[A\n",
            "47it [00:16,  2.92it/s]\u001b[A\n",
            "48it [00:16,  2.94it/s]\u001b[A\n",
            "49it [00:16,  2.51it/s]\u001b[A\n",
            "50it [00:17,  2.64it/s]\u001b[A\n",
            "51it [00:17,  2.70it/s]\u001b[A\n",
            "52it [00:17,  2.74it/s]\u001b[A\n",
            "53it [00:18,  2.84it/s]\u001b[A\n",
            "54it [00:18,  2.90it/s]\u001b[A\n",
            "55it [00:18,  2.95it/s]\u001b[A\n",
            "56it [00:19,  2.98it/s]\u001b[A\n",
            "57it [00:19,  3.00it/s]\u001b[A\n",
            "58it [00:19,  3.02it/s]\u001b[A\n",
            "59it [00:20,  3.05it/s]\u001b[A\n",
            "60it [00:20,  3.01it/s]\u001b[A\n",
            "61it [00:20,  3.02it/s]\u001b[A\n",
            "62it [00:21,  3.06it/s]\u001b[A\n",
            "63it [00:21,  3.05it/s]\u001b[A\n",
            "64it [00:22,  2.65it/s]\u001b[A\n",
            "65it [00:22,  2.76it/s]\u001b[A\n",
            "66it [00:22,  2.85it/s]\u001b[A\n",
            "67it [00:23,  2.84it/s]\u001b[A\n",
            "68it [00:23,  2.91it/s]\u001b[A\n",
            "69it [00:23,  2.95it/s]\u001b[A\n",
            "70it [00:24,  2.99it/s]\u001b[A\n",
            "71it [00:24,  3.00it/s]\u001b[A\n",
            "72it [00:24,  2.99it/s]\u001b[A\n",
            "73it [00:25,  3.01it/s]\u001b[A\n",
            "74it [00:25,  3.02it/s]\u001b[A\n",
            "75it [00:25,  2.90it/s]\u001b[A\n",
            "76it [00:26,  2.93it/s]\u001b[A\n",
            "77it [00:26,  2.97it/s]\u001b[A\n",
            "78it [00:26,  2.96it/s]\u001b[A\n",
            "79it [00:27,  2.54it/s]\u001b[A\n",
            "80it [00:27,  2.65it/s]\u001b[A\n",
            "81it [00:27,  2.76it/s]\u001b[A\n",
            "82it [00:28,  2.81it/s]\u001b[A\n",
            "83it [00:28,  2.74it/s]\u001b[A\n",
            "84it [00:29,  2.69it/s]\u001b[A\n",
            "85it [00:29,  2.73it/s]\u001b[A\n",
            "86it [00:29,  2.77it/s]\u001b[A\n",
            "87it [00:30,  2.75it/s]\u001b[A\n",
            "88it [00:30,  2.84it/s]\u001b[A\n",
            "89it [00:30,  2.87it/s]\u001b[A\n",
            "90it [00:31,  2.95it/s]\u001b[A\n",
            "91it [00:31,  2.93it/s]\u001b[A\n",
            "92it [00:31,  2.99it/s]\u001b[A\n",
            "93it [00:32,  3.03it/s]\u001b[A\n",
            "94it [00:32,  2.61it/s]\u001b[A\n",
            "95it [00:32,  2.73it/s]\u001b[A\n",
            "96it [00:33,  2.82it/s]\u001b[A\n",
            "97it [00:33,  2.88it/s]\u001b[A\n",
            "98it [00:33,  2.95it/s]\u001b[A\n",
            "99it [00:34,  2.98it/s]\u001b[A\n",
            "100it [00:34,  3.02it/s]\u001b[A\n",
            "101it [00:34,  3.04it/s]\u001b[A\n",
            "102it [00:35,  3.04it/s]\u001b[A\n",
            "103it [00:35,  3.05it/s]\u001b[A\n",
            "104it [00:35,  3.01it/s]\u001b[A\n",
            "105it [00:36,  2.99it/s]\u001b[A\n",
            "106it [00:36,  3.02it/s]\u001b[A\n",
            "107it [00:36,  3.02it/s]\u001b[A\n",
            "108it [00:37,  3.04it/s]\u001b[A\n",
            "109it [00:37,  2.58it/s]\u001b[A\n",
            "110it [00:38,  2.72it/s]\u001b[A\n",
            "111it [00:38,  2.82it/s]\u001b[A\n",
            "112it [00:38,  2.86it/s]\u001b[A\n",
            "113it [00:39,  2.91it/s]\u001b[A\n",
            "114it [00:39,  2.93it/s]\u001b[A\n",
            "115it [00:39,  2.96it/s]\u001b[A\n",
            "116it [00:39,  3.01it/s]\u001b[A\n",
            "117it [00:40,  2.98it/s]\u001b[A\n",
            "118it [00:40,  2.97it/s]\u001b[A\n",
            "119it [00:41,  2.96it/s]\u001b[A\n",
            "120it [00:41,  2.97it/s]\u001b[A\n",
            "121it [00:41,  2.92it/s]\u001b[A\n",
            "122it [00:42,  2.88it/s]\u001b[A\n",
            "123it [00:42,  2.94it/s]\u001b[A\n",
            "124it [00:42,  2.57it/s]\u001b[A\n",
            "125it [00:43,  2.70it/s]\u001b[A\n",
            "126it [00:43,  2.80it/s]\u001b[A\n",
            "127it [00:43,  2.89it/s]\u001b[A\n",
            "128it [00:44,  2.95it/s]\u001b[A\n",
            "129it [00:44,  2.95it/s]\u001b[A\n",
            "130it [00:44,  2.99it/s]\u001b[A\n",
            "131it [00:45,  3.02it/s]\u001b[A\n",
            "132it [00:45,  3.03it/s]\u001b[A\n",
            "133it [00:45,  3.03it/s]\u001b[A\n",
            "134it [00:46,  3.04it/s]\u001b[A\n",
            "135it [00:46,  3.03it/s]\u001b[A\n",
            "136it [00:46,  3.02it/s]\u001b[A\n",
            "137it [00:47,  3.04it/s]\u001b[A\n",
            "138it [00:47,  3.04it/s]\u001b[A\n",
            "139it [00:47,  3.03it/s]\u001b[A\n",
            "140it [00:48,  2.61it/s]\u001b[A\n",
            "141it [00:48,  2.71it/s]\u001b[A\n",
            "142it [00:48,  2.78it/s]\u001b[A\n",
            "143it [00:49,  2.86it/s]\u001b[A\n",
            "144it [00:49,  2.89it/s]\u001b[A\n",
            "145it [00:49,  2.93it/s]\u001b[A\n",
            "146it [00:50,  2.94it/s]\u001b[A\n",
            "147it [00:50,  2.98it/s]\u001b[A\n",
            "148it [00:50,  3.01it/s]\u001b[A\n",
            "149it [00:51,  3.02it/s]\u001b[A\n",
            "150it [00:51,  3.00it/s]\u001b[A\n",
            "151it [00:51,  3.02it/s]\u001b[A\n",
            "152it [00:52,  3.00it/s]\u001b[A\n",
            "153it [00:52,  2.94it/s]\u001b[A\n",
            "154it [00:53,  2.49it/s]\u001b[A\n",
            "155it [00:53,  2.57it/s]\u001b[A\n",
            "156it [00:53,  2.67it/s]\u001b[A\n",
            "157it [00:54,  2.76it/s]\u001b[A\n",
            "158it [00:54,  2.82it/s]\u001b[A\n",
            "159it [00:54,  2.88it/s]\u001b[A\n",
            "160it [00:55,  2.94it/s]\u001b[A\n",
            "161it [00:55,  2.98it/s]\u001b[A\n",
            "162it [00:55,  2.99it/s]\u001b[A\n",
            "163it [00:56,  3.01it/s]\u001b[A\n",
            "164it [00:56,  3.01it/s]\u001b[A\n",
            "165it [00:56,  2.99it/s]\u001b[A\n",
            "166it [00:57,  3.01it/s]\u001b[A\n",
            "167it [00:57,  2.98it/s]\u001b[A\n",
            "168it [00:57,  2.97it/s]\u001b[A\n",
            "169it [00:58,  2.57it/s]\u001b[A\n",
            "170it [00:58,  2.68it/s]\u001b[A\n",
            "171it [00:59,  2.77it/s]\u001b[A\n",
            "172it [00:59,  2.84it/s]\u001b[A\n",
            "173it [00:59,  2.86it/s]\u001b[A\n",
            "174it [01:00,  2.91it/s]\u001b[A\n",
            "175it [01:00,  2.95it/s]\u001b[A\n",
            "176it [01:00,  2.91it/s]\u001b[A\n",
            "177it [01:01,  2.94it/s]\u001b[A\n",
            "178it [01:01,  2.95it/s]\u001b[A\n",
            "179it [01:01,  2.97it/s]\u001b[A\n",
            "180it [01:02,  2.98it/s]\u001b[A\n",
            "181it [01:02,  2.97it/s]\u001b[A\n",
            "182it [01:02,  2.98it/s]\u001b[A\n",
            "183it [01:03,  2.98it/s]\u001b[A\n",
            "184it [01:03,  2.55it/s]\u001b[A\n",
            "185it [01:03,  2.67it/s]\u001b[A\n",
            "186it [01:04,  2.72it/s]\u001b[A\n",
            "187it [01:04,  2.75it/s]\u001b[A\n",
            "188it [01:05,  2.78it/s]\u001b[A\n",
            "189it [01:05,  2.83it/s]\u001b[A\n",
            "190it [01:05,  2.82it/s]\u001b[A\n",
            "191it [01:06,  2.83it/s]\u001b[A\n",
            "192it [01:06,  2.90it/s]\u001b[A\n",
            "193it [01:06,  2.92it/s]\u001b[A\n",
            "194it [01:07,  2.95it/s]\u001b[A\n",
            "195it [01:07,  2.96it/s]\u001b[A\n",
            "196it [01:07,  2.95it/s]\u001b[A\n",
            "197it [01:08,  2.96it/s]\u001b[A\n",
            "198it [01:08,  2.95it/s]\u001b[A\n",
            "199it [01:08,  2.94it/s]\u001b[A\n",
            "200it [01:09,  2.52it/s]\u001b[A\n",
            "201it [01:09,  2.63it/s]\u001b[A\n",
            "202it [01:09,  2.71it/s]\u001b[A\n",
            "203it [01:10,  2.79it/s]\u001b[A\n",
            "204it [01:10,  2.82it/s]\u001b[A\n",
            "205it [01:10,  2.86it/s]\u001b[A\n",
            "206it [01:11,  2.88it/s]\u001b[A\n",
            "207it [01:11,  2.91it/s]\u001b[A\n",
            "208it [01:12,  2.90it/s]\u001b[A\n",
            "209it [01:12,  2.93it/s]\u001b[A\n",
            "210it [01:12,  2.92it/s]\u001b[A\n",
            "211it [01:13,  2.92it/s]\u001b[A\n",
            "212it [01:13,  2.94it/s]\u001b[A\n",
            "213it [01:13,  2.94it/s]\u001b[A\n",
            "214it [01:14,  2.55it/s]\u001b[A\n",
            "215it [01:14,  2.65it/s]\u001b[A\n",
            "216it [01:14,  2.74it/s]\u001b[A\n",
            "217it [01:15,  2.83it/s]\u001b[A\n",
            "218it [01:15,  2.87it/s]\u001b[A\n",
            "219it [01:15,  2.89it/s]\u001b[A\n",
            "220it [01:16,  2.89it/s]\u001b[A\n",
            "221it [01:16,  2.83it/s]\u001b[A\n",
            "222it [01:16,  2.79it/s]\u001b[A\n",
            "223it [01:17,  2.81it/s]\u001b[A\n",
            "224it [01:17,  2.79it/s]\u001b[A\n",
            "225it [01:18,  2.76it/s]\u001b[A\n",
            "226it [01:18,  2.81it/s]\u001b[A\n",
            "227it [01:18,  2.82it/s]\u001b[A\n",
            "228it [01:19,  2.88it/s]\u001b[A\n",
            "229it [01:19,  2.50it/s]\u001b[A\n",
            "230it [01:19,  2.61it/s]\u001b[A\n",
            "231it [01:20,  2.71it/s]\u001b[A\n",
            "232it [01:20,  2.77it/s]\u001b[A\n",
            "233it [01:20,  2.83it/s]\u001b[A\n",
            "234it [01:21,  2.86it/s]\u001b[A\n",
            "235it [01:21,  2.83it/s]\u001b[A\n",
            "236it [01:22,  2.87it/s]\u001b[A\n",
            "237it [01:22,  2.90it/s]\u001b[A\n",
            "238it [01:22,  2.92it/s]\u001b[A\n",
            "239it [01:23,  2.92it/s]\u001b[A\n",
            "240it [01:23,  2.89it/s]\u001b[A\n",
            "241it [01:23,  2.87it/s]\u001b[A\n",
            "242it [01:24,  2.90it/s]\u001b[A\n",
            "243it [01:24,  2.92it/s]\u001b[A\n",
            "244it [01:24,  2.52it/s]\u001b[A\n",
            "245it [01:25,  2.64it/s]\u001b[A\n",
            "246it [01:25,  2.70it/s]\u001b[A\n",
            "247it [01:25,  2.76it/s]\u001b[A\n",
            "248it [01:26,  2.82it/s]\u001b[A\n",
            "249it [01:26,  2.84it/s]\u001b[A\n",
            "250it [01:26,  2.86it/s]\u001b[A\n",
            "251it [01:27,  2.87it/s]\u001b[A\n",
            "252it [01:27,  2.85it/s]\u001b[A\n",
            "253it [01:28,  2.88it/s]\u001b[A\n",
            "254it [01:28,  2.89it/s]\u001b[A\n",
            "255it [01:28,  2.88it/s]\u001b[A\n",
            "256it [01:29,  2.85it/s]\u001b[A\n",
            "257it [01:29,  2.85it/s]\u001b[A\n",
            "258it [01:29,  2.79it/s]\u001b[A\n",
            "259it [01:30,  2.43it/s]\u001b[A\n",
            "260it [01:30,  2.56it/s]\u001b[A\n",
            "261it [01:31,  2.67it/s]\u001b[A\n",
            "262it [01:31,  2.72it/s]\u001b[A\n",
            "263it [01:31,  2.77it/s]\u001b[A\n",
            "264it [01:32,  2.83it/s]\u001b[A\n",
            "265it [01:32,  2.86it/s]\u001b[A\n",
            "266it [01:32,  2.88it/s]\u001b[A\n",
            "267it [01:33,  2.92it/s]\u001b[A\n",
            "268it [01:33,  2.93it/s]\u001b[A\n",
            "269it [01:33,  2.89it/s]\u001b[A\n",
            "270it [01:34,  2.85it/s]\u001b[A\n",
            "271it [01:34,  2.89it/s]\u001b[A\n",
            "272it [01:34,  2.88it/s]\u001b[A\n",
            "273it [01:35,  2.91it/s]\u001b[A\n",
            "274it [01:35,  2.50it/s]\u001b[A\n",
            "275it [01:36,  2.61it/s]\u001b[A\n",
            "276it [01:36,  2.72it/s]\u001b[A\n",
            "277it [01:36,  2.78it/s]\u001b[A\n",
            "278it [01:37,  2.80it/s]\u001b[A\n",
            "279it [01:37,  2.85it/s]\u001b[A\n",
            "280it [01:37,  2.86it/s]\u001b[A\n",
            "281it [01:38,  2.90it/s]\u001b[A\n",
            "282it [01:38,  2.92it/s]\u001b[A\n",
            "283it [01:38,  2.93it/s]\u001b[A\n",
            "284it [01:39,  2.94it/s]\u001b[A\n",
            "285it [01:39,  2.92it/s]\u001b[A\n",
            "286it [01:39,  2.92it/s]\u001b[A\n",
            "287it [01:40,  2.91it/s]\u001b[A\n",
            "288it [01:40,  2.92it/s]\u001b[A\n",
            "289it [01:41,  2.46it/s]\u001b[A\n",
            "290it [01:41,  2.57it/s]\u001b[A\n",
            "291it [01:41,  2.62it/s]\u001b[A\n",
            "292it [01:42,  2.65it/s]\u001b[A\n",
            "293it [01:42,  2.73it/s]\u001b[A\n",
            "294it [01:42,  2.77it/s]\u001b[A\n",
            "295it [01:43,  2.81it/s]\u001b[A\n",
            "296it [01:43,  2.85it/s]\u001b[A\n",
            "297it [01:43,  2.89it/s]\u001b[A\n",
            "298it [01:44,  2.94it/s]\u001b[A\n",
            "299it [01:44,  2.95it/s]\u001b[A\n",
            "300it [01:44,  2.96it/s]\u001b[A\n",
            "301it [01:45,  2.96it/s]\u001b[A\n",
            "302it [01:45,  2.97it/s]\u001b[A\n",
            "303it [01:46,  2.53it/s]\u001b[A\n",
            "304it [01:46,  2.66it/s]\u001b[A\n",
            "305it [01:46,  2.74it/s]\u001b[A\n",
            "306it [01:47,  2.79it/s]\u001b[A\n",
            "307it [01:47,  2.84it/s]\u001b[A\n",
            "308it [01:47,  2.86it/s]\u001b[A\n",
            "309it [01:48,  2.89it/s]\u001b[A\n",
            "310it [01:48,  2.93it/s]\u001b[A\n",
            "311it [01:48,  2.94it/s]\u001b[A\n",
            "312it [01:49,  2.96it/s]\u001b[A\n",
            "313it [01:49,  2.97it/s]\u001b[A\n",
            "314it [01:49,  2.91it/s]\u001b[A\n",
            "315it [01:50,  2.92it/s]\u001b[A\n",
            "316it [01:50,  2.92it/s]\u001b[A\n",
            "317it [01:50,  2.93it/s]\u001b[A\n",
            "318it [01:51,  2.55it/s]\u001b[A\n",
            "319it [01:51,  2.65it/s]\u001b[A\n",
            "320it [01:51,  2.76it/s]\u001b[A\n",
            "321it [01:52,  2.80it/s]\u001b[A\n",
            "322it [01:52,  2.84it/s]\u001b[A\n",
            "323it [01:52,  2.87it/s]\u001b[A\n",
            "324it [01:53,  2.89it/s]\u001b[A\n",
            "325it [01:53,  2.88it/s]\u001b[A\n",
            "326it [01:54,  2.87it/s]\u001b[A\n",
            "327it [01:54,  2.91it/s]\u001b[A\n",
            "328it [01:54,  2.89it/s]\u001b[A\n",
            "329it [01:55,  2.96it/s]\u001b[A\n",
            "330it [01:55,  2.99it/s]\u001b[A\n",
            "331it [01:55,  3.01it/s]\u001b[A\n",
            "332it [01:56,  2.60it/s]\u001b[A\n",
            "333it [01:56,  2.73it/s]\u001b[A\n",
            "334it [01:56,  2.80it/s]\u001b[A\n",
            "335it [01:57,  2.88it/s]\u001b[A\n",
            "336it [01:57,  2.94it/s]\u001b[A\n",
            "337it [01:57,  2.98it/s]\u001b[A\n",
            "338it [01:58,  2.97it/s]\u001b[A\n",
            "339it [01:58,  3.01it/s]\u001b[A\n",
            "340it [01:58,  3.05it/s]\u001b[A\n",
            "341it [01:59,  3.07it/s]\u001b[A\n",
            "342it [01:59,  3.09it/s]\u001b[A\n",
            "343it [01:59,  3.05it/s]\u001b[A\n",
            "344it [02:00,  3.07it/s]\u001b[A\n",
            "345it [02:00,  3.07it/s]\u001b[A\n",
            "346it [02:00,  2.62it/s]\u001b[A\n",
            "347it [02:01,  2.74it/s]\u001b[A\n",
            "348it [02:01,  2.83it/s]\u001b[A\n",
            "349it [02:01,  2.90it/s]\u001b[A\n",
            "350it [02:02,  2.94it/s]\u001b[A\n",
            "351it [02:02,  2.96it/s]\u001b[A\n",
            "352it [02:02,  2.99it/s]\u001b[A\n",
            "353it [02:03,  3.02it/s]\u001b[A\n",
            "354it [02:03,  3.04it/s]\u001b[A\n",
            "355it [02:03,  3.04it/s]\u001b[A\n",
            "356it [02:04,  3.04it/s]\u001b[A\n",
            "357it [02:04,  3.02it/s]\u001b[A\n",
            "358it [02:04,  3.01it/s]\u001b[A\n",
            "359it [02:05,  2.97it/s]\u001b[A\n",
            "360it [02:05,  2.97it/s]\u001b[A\n",
            "361it [02:05,  2.97it/s]\u001b[A\n",
            "362it [02:06,  2.54it/s]\u001b[A\n",
            "363it [02:06,  2.67it/s]\u001b[A\n",
            "364it [02:07,  2.81it/s]\u001b[A\n",
            "365it [02:07,  2.89it/s]\u001b[A\n",
            "366it [02:07,  2.94it/s]\u001b[A\n",
            "367it [02:08,  2.98it/s]\u001b[A\n",
            "368it [02:08,  3.01it/s]\u001b[A\n",
            "369it [02:08,  2.98it/s]\u001b[A\n",
            "370it [02:09,  3.02it/s]\u001b[A\n",
            "371it [02:09,  3.02it/s]\u001b[A\n",
            "372it [02:09,  3.03it/s]\u001b[A\n",
            "373it [02:09,  3.05it/s]\u001b[A\n",
            "374it [02:10,  3.07it/s]\u001b[A\n",
            "375it [02:10,  2.87it/s]\n",
            "\n",
            "0it [00:00, ?it/s]\u001b[A"
          ]
        },
        {
          "name": "stdout",
          "output_type": "stream",
          "text": [
            "\tIter 10/ 50 - Loss: 0.287\n",
            "\tIter 20/ 50 - Loss: 0.255\n",
            "\tIter 30/ 50 - Loss: 0.244\n",
            "\tIter 40/ 50 - Loss: 0.24\n",
            "\tIter 50/ 50 - Loss: 0.239\n"
          ]
        },
        {
          "name": "stderr",
          "output_type": "stream",
          "text": [
            "\n",
            "1it [00:02,  2.54s/it]\u001b[A"
          ]
        },
        {
          "name": "stdout",
          "output_type": "stream",
          "text": [
            "\tIter 10/ 50 - Loss: 0.306\n",
            "\tIter 20/ 50 - Loss: 0.271\n",
            "\tIter 30/ 50 - Loss: 0.256\n",
            "\tIter 40/ 50 - Loss: 0.25\n",
            "\tIter 50/ 50 - Loss: 0.247\n"
          ]
        },
        {
          "name": "stderr",
          "output_type": "stream",
          "text": [
            "\n",
            "2it [00:04,  2.46s/it]\u001b[A"
          ]
        },
        {
          "name": "stdout",
          "output_type": "stream",
          "text": [
            "\tIter 10/ 50 - Loss: 0.294\n",
            "\tIter 20/ 50 - Loss: 0.266\n",
            "\tIter 30/ 50 - Loss: 0.253\n",
            "\tIter 40/ 50 - Loss: 0.247\n",
            "\tIter 50/ 50 - Loss: 0.244\n"
          ]
        },
        {
          "name": "stderr",
          "output_type": "stream",
          "text": [
            "\n",
            "3it [00:07,  2.44s/it]\u001b[A"
          ]
        },
        {
          "name": "stdout",
          "output_type": "stream",
          "text": [
            "\tIter 10/ 50 - Loss: 0.285\n",
            "\tIter 20/ 50 - Loss: 0.264\n",
            "\tIter 30/ 50 - Loss: 0.258\n",
            "\tIter 40/ 50 - Loss: 0.256\n",
            "\tIter 50/ 50 - Loss: 0.255\n"
          ]
        },
        {
          "name": "stderr",
          "output_type": "stream",
          "text": [
            "\n",
            "4it [00:09,  2.46s/it]\u001b[A"
          ]
        },
        {
          "name": "stdout",
          "output_type": "stream",
          "text": [
            "\tIter 10/ 50 - Loss: 0.317\n",
            "\tIter 20/ 50 - Loss: 0.281\n",
            "\tIter 30/ 50 - Loss: 0.268\n",
            "\tIter 40/ 50 - Loss: 0.262\n",
            "\tIter 50/ 50 - Loss: 0.259\n"
          ]
        },
        {
          "name": "stderr",
          "output_type": "stream",
          "text": [
            "\n",
            "5it [00:12,  2.44s/it]\u001b[A"
          ]
        },
        {
          "name": "stdout",
          "output_type": "stream",
          "text": [
            "\tIter 10/ 50 - Loss: 0.265\n",
            "\tIter 20/ 50 - Loss: 0.258\n",
            "\tIter 30/ 50 - Loss: 0.256\n",
            "\tIter 40/ 50 - Loss: 0.255\n",
            "\tIter 50/ 50 - Loss: 0.255\n"
          ]
        },
        {
          "name": "stderr",
          "output_type": "stream",
          "text": [
            "\n",
            "6it [00:14,  2.43s/it]\u001b[A"
          ]
        },
        {
          "name": "stdout",
          "output_type": "stream",
          "text": [
            "\tIter 10/ 50 - Loss: 0.298\n",
            "\tIter 20/ 50 - Loss: 0.276\n",
            "\tIter 30/ 50 - Loss: 0.267\n",
            "\tIter 40/ 50 - Loss: 0.262\n",
            "\tIter 50/ 50 - Loss: 0.258\n"
          ]
        },
        {
          "name": "stderr",
          "output_type": "stream",
          "text": [
            "\n",
            "7it [00:17,  2.43s/it]\u001b[A"
          ]
        },
        {
          "name": "stdout",
          "output_type": "stream",
          "text": [
            "\tIter 10/ 50 - Loss: 0.288\n",
            "\tIter 20/ 50 - Loss: 0.277\n",
            "\tIter 30/ 50 - Loss: 0.272\n",
            "\tIter 40/ 50 - Loss: 0.268\n",
            "\tIter 50/ 50 - Loss: 0.266\n"
          ]
        },
        {
          "name": "stderr",
          "output_type": "stream",
          "text": [
            "\n",
            "8it [00:19,  2.49s/it]\u001b[A"
          ]
        },
        {
          "name": "stdout",
          "output_type": "stream",
          "text": [
            "\tIter 10/ 50 - Loss: 0.296\n",
            "\tIter 20/ 50 - Loss: 0.274\n",
            "\tIter 30/ 50 - Loss: 0.264\n",
            "\tIter 40/ 50 - Loss: 0.26\n",
            "\tIter 50/ 50 - Loss: 0.258\n"
          ]
        },
        {
          "name": "stderr",
          "output_type": "stream",
          "text": [
            "\n",
            "9it [00:22,  2.46s/it]\u001b[A"
          ]
        },
        {
          "name": "stdout",
          "output_type": "stream",
          "text": [
            "\tIter 10/ 50 - Loss: 0.311\n",
            "\tIter 20/ 50 - Loss: 0.288\n",
            "\tIter 30/ 50 - Loss: 0.279\n",
            "\tIter 40/ 50 - Loss: 0.273\n",
            "\tIter 50/ 50 - Loss: 0.269\n"
          ]
        },
        {
          "name": "stderr",
          "output_type": "stream",
          "text": [
            "\n",
            "10it [00:24,  2.43s/it]\u001b[A"
          ]
        },
        {
          "name": "stdout",
          "output_type": "stream",
          "text": [
            "\tIter 10/ 50 - Loss: 0.299\n",
            "\tIter 20/ 50 - Loss: 0.278\n",
            "\tIter 30/ 50 - Loss: 0.27\n",
            "\tIter 40/ 50 - Loss: 0.265\n",
            "\tIter 50/ 50 - Loss: 0.262\n"
          ]
        },
        {
          "name": "stderr",
          "output_type": "stream",
          "text": [
            "\n",
            "11it [00:26,  2.41s/it]\u001b[A"
          ]
        },
        {
          "name": "stdout",
          "output_type": "stream",
          "text": [
            "\tIter 10/ 50 - Loss: 0.303\n",
            "\tIter 20/ 50 - Loss: 0.277\n",
            "\tIter 30/ 50 - Loss: 0.267\n",
            "\tIter 40/ 50 - Loss: 0.263\n",
            "\tIter 50/ 50 - Loss: 0.261\n"
          ]
        },
        {
          "name": "stderr",
          "output_type": "stream",
          "text": [
            "\n",
            "12it [00:29,  2.41s/it]\u001b[A"
          ]
        },
        {
          "name": "stdout",
          "output_type": "stream",
          "text": [
            "\tIter 10/ 50 - Loss: 0.311\n",
            "\tIter 20/ 50 - Loss: 0.286\n",
            "\tIter 30/ 50 - Loss: 0.274\n",
            "\tIter 40/ 50 - Loss: 0.268\n",
            "\tIter 50/ 50 - Loss: 0.265\n"
          ]
        },
        {
          "name": "stderr",
          "output_type": "stream",
          "text": [
            "\n",
            "13it [00:31,  2.42s/it]\u001b[A"
          ]
        },
        {
          "name": "stdout",
          "output_type": "stream",
          "text": [
            "\tIter 10/ 50 - Loss: 0.296\n",
            "\tIter 20/ 50 - Loss: 0.277\n",
            "\tIter 30/ 50 - Loss: 0.27\n",
            "\tIter 40/ 50 - Loss: 0.266\n",
            "\tIter 50/ 50 - Loss: 0.264\n"
          ]
        },
        {
          "name": "stderr",
          "output_type": "stream",
          "text": [
            "\n",
            "14it [00:34,  2.41s/it]\u001b[A"
          ]
        },
        {
          "name": "stdout",
          "output_type": "stream",
          "text": [
            "\tIter 10/ 50 - Loss: 0.293\n",
            "\tIter 20/ 50 - Loss: 0.274\n",
            "\tIter 30/ 50 - Loss: 0.267\n",
            "\tIter 40/ 50 - Loss: 0.263\n",
            "\tIter 50/ 50 - Loss: 0.262\n"
          ]
        },
        {
          "name": "stderr",
          "output_type": "stream",
          "text": [
            "\n",
            "15it [00:36,  2.41s/it]\u001b[A"
          ]
        },
        {
          "name": "stdout",
          "output_type": "stream",
          "text": [
            "\tIter 10/ 50 - Loss: 0.317\n",
            "\tIter 20/ 50 - Loss: 0.286\n",
            "\tIter 30/ 50 - Loss: 0.273\n",
            "\tIter 40/ 50 - Loss: 0.267\n",
            "\tIter 50/ 50 - Loss: 0.265\n"
          ]
        },
        {
          "name": "stderr",
          "output_type": "stream",
          "text": [
            "\n",
            "16it [00:39,  2.46s/it]\u001b[A"
          ]
        },
        {
          "name": "stdout",
          "output_type": "stream",
          "text": [
            "\tIter 10/ 50 - Loss: 0.314\n",
            "\tIter 20/ 50 - Loss: 0.292\n",
            "\tIter 30/ 50 - Loss: 0.283\n",
            "\tIter 40/ 50 - Loss: 0.277\n",
            "\tIter 50/ 50 - Loss: 0.272\n"
          ]
        },
        {
          "name": "stderr",
          "output_type": "stream",
          "text": [
            "\n",
            "17it [00:41,  2.45s/it]\u001b[A"
          ]
        },
        {
          "name": "stdout",
          "output_type": "stream",
          "text": [
            "\tIter 10/ 50 - Loss: 0.299\n",
            "\tIter 20/ 50 - Loss: 0.285\n",
            "\tIter 30/ 50 - Loss: 0.277\n",
            "\tIter 40/ 50 - Loss: 0.273\n",
            "\tIter 50/ 50 - Loss: 0.271\n"
          ]
        },
        {
          "name": "stderr",
          "output_type": "stream",
          "text": [
            "\n",
            "18it [00:43,  2.46s/it]\u001b[A"
          ]
        },
        {
          "name": "stdout",
          "output_type": "stream",
          "text": [
            "\tIter 10/ 50 - Loss: 0.305\n",
            "\tIter 20/ 50 - Loss: 0.284\n",
            "\tIter 30/ 50 - Loss: 0.276\n",
            "\tIter 40/ 50 - Loss: 0.272\n",
            "\tIter 50/ 50 - Loss: 0.269\n"
          ]
        },
        {
          "name": "stderr",
          "output_type": "stream",
          "text": [
            "\n",
            "19it [00:46,  2.43s/it]\u001b[A"
          ]
        },
        {
          "name": "stdout",
          "output_type": "stream",
          "text": [
            "\tIter 10/ 50 - Loss: 0.312\n",
            "\tIter 20/ 50 - Loss: 0.292\n",
            "\tIter 30/ 50 - Loss: 0.284\n",
            "\tIter 40/ 50 - Loss: 0.28\n",
            "\tIter 50/ 50 - Loss: 0.277\n"
          ]
        },
        {
          "name": "stderr",
          "output_type": "stream",
          "text": [
            "\n",
            "20it [00:48,  2.42s/it]\u001b[A"
          ]
        },
        {
          "name": "stdout",
          "output_type": "stream",
          "text": [
            "\tIter 10/ 50 - Loss: 0.331\n",
            "\tIter 20/ 50 - Loss: 0.294\n",
            "\tIter 30/ 50 - Loss: 0.28\n",
            "\tIter 40/ 50 - Loss: 0.274\n",
            "\tIter 50/ 50 - Loss: 0.271\n"
          ]
        },
        {
          "name": "stderr",
          "output_type": "stream",
          "text": [
            "\n",
            "21it [00:51,  2.42s/it]\u001b[A"
          ]
        },
        {
          "name": "stdout",
          "output_type": "stream",
          "text": [
            "\tIter 10/ 50 - Loss: 0.295\n",
            "\tIter 20/ 50 - Loss: 0.279\n",
            "\tIter 30/ 50 - Loss: 0.274\n",
            "\tIter 40/ 50 - Loss: 0.272\n",
            "\tIter 50/ 50 - Loss: 0.271\n"
          ]
        },
        {
          "name": "stderr",
          "output_type": "stream",
          "text": [
            "\n",
            "22it [00:53,  2.42s/it]\u001b[A"
          ]
        },
        {
          "name": "stdout",
          "output_type": "stream",
          "text": [
            "\tIter 10/ 50 - Loss: 0.321\n",
            "\tIter 20/ 50 - Loss: 0.302\n",
            "\tIter 30/ 50 - Loss: 0.291\n",
            "\tIter 40/ 50 - Loss: 0.284\n",
            "\tIter 50/ 50 - Loss: 0.279\n"
          ]
        },
        {
          "name": "stderr",
          "output_type": "stream",
          "text": [
            "\n",
            "23it [00:56,  2.43s/it]\u001b[A"
          ]
        },
        {
          "name": "stdout",
          "output_type": "stream",
          "text": [
            "\tIter 10/ 50 - Loss: 0.313\n",
            "\tIter 20/ 50 - Loss: 0.297\n",
            "\tIter 30/ 50 - Loss: 0.291\n",
            "\tIter 40/ 50 - Loss: 0.287\n",
            "\tIter 50/ 50 - Loss: 0.285\n"
          ]
        },
        {
          "name": "stderr",
          "output_type": "stream",
          "text": [
            "\n",
            "24it [00:58,  2.47s/it]\u001b[A"
          ]
        },
        {
          "name": "stdout",
          "output_type": "stream",
          "text": [
            "\tIter 10/ 50 - Loss: 0.311\n",
            "\tIter 20/ 50 - Loss: 0.295\n",
            "\tIter 30/ 50 - Loss: 0.287\n",
            "\tIter 40/ 50 - Loss: 0.282\n",
            "\tIter 50/ 50 - Loss: 0.279\n"
          ]
        },
        {
          "name": "stderr",
          "output_type": "stream",
          "text": [
            "\n",
            "25it [01:00,  2.45s/it]\u001b[A"
          ]
        },
        {
          "name": "stdout",
          "output_type": "stream",
          "text": [
            "\tIter 10/ 50 - Loss: 0.319\n",
            "\tIter 20/ 50 - Loss: 0.294\n",
            "\tIter 30/ 50 - Loss: 0.285\n",
            "\tIter 40/ 50 - Loss: 0.28\n",
            "\tIter 50/ 50 - Loss: 0.278\n"
          ]
        },
        {
          "name": "stderr",
          "output_type": "stream",
          "text": [
            "\n",
            "26it [01:03,  2.43s/it]\u001b[A"
          ]
        },
        {
          "name": "stdout",
          "output_type": "stream",
          "text": [
            "\tIter 10/ 50 - Loss: 0.323\n",
            "\tIter 20/ 50 - Loss: 0.303\n",
            "\tIter 30/ 50 - Loss: 0.294\n",
            "\tIter 40/ 50 - Loss: 0.29\n",
            "\tIter 50/ 50 - Loss: 0.288\n"
          ]
        },
        {
          "name": "stderr",
          "output_type": "stream",
          "text": [
            "\n",
            "27it [01:05,  2.44s/it]\u001b[A"
          ]
        },
        {
          "name": "stdout",
          "output_type": "stream",
          "text": [
            "\tIter 10/ 50 - Loss: 0.328\n",
            "\tIter 20/ 50 - Loss: 0.3\n",
            "\tIter 30/ 50 - Loss: 0.288\n",
            "\tIter 40/ 50 - Loss: 0.281\n",
            "\tIter 50/ 50 - Loss: 0.277\n"
          ]
        },
        {
          "name": "stderr",
          "output_type": "stream",
          "text": [
            "\n",
            "28it [01:08,  2.43s/it]\u001b[A"
          ]
        },
        {
          "name": "stdout",
          "output_type": "stream",
          "text": [
            "\tIter 10/ 50 - Loss: 0.304\n",
            "\tIter 20/ 50 - Loss: 0.289\n",
            "\tIter 30/ 50 - Loss: 0.282\n",
            "\tIter 40/ 50 - Loss: 0.278\n",
            "\tIter 50/ 50 - Loss: 0.276\n"
          ]
        },
        {
          "name": "stderr",
          "output_type": "stream",
          "text": [
            "\n",
            "29it [01:10,  2.43s/it]\u001b[A"
          ]
        },
        {
          "name": "stdout",
          "output_type": "stream",
          "text": [
            "\tIter 10/ 50 - Loss: 0.301\n",
            "\tIter 20/ 50 - Loss: 0.288\n",
            "\tIter 30/ 50 - Loss: 0.282\n",
            "\tIter 40/ 50 - Loss: 0.279\n",
            "\tIter 50/ 50 - Loss: 0.278\n"
          ]
        },
        {
          "name": "stderr",
          "output_type": "stream",
          "text": [
            "\n",
            "30it [01:13,  2.43s/it]\u001b[A"
          ]
        },
        {
          "name": "stdout",
          "output_type": "stream",
          "text": [
            "\tIter 10/ 50 - Loss: 0.351\n",
            "\tIter 20/ 50 - Loss: 0.311\n",
            "\tIter 30/ 50 - Loss: 0.295\n",
            "\tIter 40/ 50 - Loss: 0.286\n",
            "\tIter 50/ 50 - Loss: 0.28\n"
          ]
        },
        {
          "name": "stderr",
          "output_type": "stream",
          "text": [
            "\n",
            "31it [01:15,  2.42s/it]\u001b[A"
          ]
        },
        {
          "name": "stdout",
          "output_type": "stream",
          "text": [
            "\tIter 10/ 50 - Loss: 0.309\n",
            "\tIter 20/ 50 - Loss: 0.296\n",
            "\tIter 30/ 50 - Loss: 0.291\n",
            "\tIter 40/ 50 - Loss: 0.288\n",
            "\tIter 50/ 50 - Loss: 0.286\n"
          ]
        },
        {
          "name": "stderr",
          "output_type": "stream",
          "text": [
            "\n",
            "32it [01:18,  2.51s/it]\u001b[A"
          ]
        },
        {
          "name": "stdout",
          "output_type": "stream",
          "text": [
            "\tIter 10/ 50 - Loss: 0.324\n",
            "\tIter 20/ 50 - Loss: 0.298\n",
            "\tIter 30/ 50 - Loss: 0.289\n",
            "\tIter 40/ 50 - Loss: 0.284\n",
            "\tIter 50/ 50 - Loss: 0.282\n"
          ]
        },
        {
          "name": "stderr",
          "output_type": "stream",
          "text": [
            "\n",
            "33it [01:20,  2.48s/it]\u001b[A"
          ]
        },
        {
          "name": "stdout",
          "output_type": "stream",
          "text": [
            "\tIter 10/ 50 - Loss: 0.298\n",
            "\tIter 20/ 50 - Loss: 0.287\n",
            "\tIter 30/ 50 - Loss: 0.283\n",
            "\tIter 40/ 50 - Loss: 0.281\n",
            "\tIter 50/ 50 - Loss: 0.28\n"
          ]
        },
        {
          "name": "stderr",
          "output_type": "stream",
          "text": [
            "\n",
            "34it [01:23,  2.46s/it]\u001b[A"
          ]
        },
        {
          "name": "stdout",
          "output_type": "stream",
          "text": [
            "\tIter 10/ 50 - Loss: 0.356\n",
            "\tIter 20/ 50 - Loss: 0.323\n",
            "\tIter 30/ 50 - Loss: 0.308\n",
            "\tIter 40/ 50 - Loss: 0.298\n",
            "\tIter 50/ 50 - Loss: 0.291\n"
          ]
        },
        {
          "name": "stderr",
          "output_type": "stream",
          "text": [
            "\n",
            "35it [01:25,  2.44s/it]\u001b[A"
          ]
        },
        {
          "name": "stdout",
          "output_type": "stream",
          "text": [
            "\tIter 10/ 50 - Loss: 0.332\n",
            "\tIter 20/ 50 - Loss: 0.306\n",
            "\tIter 30/ 50 - Loss: 0.294\n",
            "\tIter 40/ 50 - Loss: 0.287\n",
            "\tIter 50/ 50 - Loss: 0.283\n"
          ]
        },
        {
          "name": "stderr",
          "output_type": "stream",
          "text": [
            "\n",
            "36it [01:27,  2.43s/it]\u001b[A"
          ]
        },
        {
          "name": "stdout",
          "output_type": "stream",
          "text": [
            "\tIter 10/ 50 - Loss: 0.338\n",
            "\tIter 20/ 50 - Loss: 0.315\n",
            "\tIter 30/ 50 - Loss: 0.305\n",
            "\tIter 40/ 50 - Loss: 0.299\n",
            "\tIter 50/ 50 - Loss: 0.296\n"
          ]
        },
        {
          "name": "stderr",
          "output_type": "stream",
          "text": [
            "\n",
            "37it [01:30,  2.47s/it]\u001b[A"
          ]
        },
        {
          "name": "stdout",
          "output_type": "stream",
          "text": [
            "\tIter 10/ 50 - Loss: 0.317\n",
            "\tIter 20/ 50 - Loss: 0.297\n",
            "\tIter 30/ 50 - Loss: 0.29\n",
            "\tIter 40/ 50 - Loss: 0.286\n",
            "\tIter 50/ 50 - Loss: 0.284\n"
          ]
        },
        {
          "name": "stderr",
          "output_type": "stream",
          "text": [
            "\n",
            "38it [01:32,  2.46s/it]\u001b[A"
          ]
        },
        {
          "name": "stdout",
          "output_type": "stream",
          "text": [
            "\tIter 10/ 50 - Loss: 0.344\n",
            "\tIter 20/ 50 - Loss: 0.307\n",
            "\tIter 30/ 50 - Loss: 0.294\n",
            "\tIter 40/ 50 - Loss: 0.288\n",
            "\tIter 50/ 50 - Loss: 0.285\n"
          ]
        },
        {
          "name": "stderr",
          "output_type": "stream",
          "text": [
            "\n",
            "39it [01:35,  2.45s/it]\u001b[A"
          ]
        },
        {
          "name": "stdout",
          "output_type": "stream",
          "text": [
            "\tIter 10/ 50 - Loss: 0.363\n",
            "\tIter 20/ 50 - Loss: 0.333\n",
            "\tIter 30/ 50 - Loss: 0.317\n",
            "\tIter 40/ 50 - Loss: 0.307\n",
            "\tIter 50/ 50 - Loss: 0.301\n"
          ]
        },
        {
          "name": "stderr",
          "output_type": "stream",
          "text": [
            "\n",
            "40it [01:37,  2.50s/it]\u001b[A"
          ]
        },
        {
          "name": "stdout",
          "output_type": "stream",
          "text": [
            "\tIter 10/ 50 - Loss: 0.338\n",
            "\tIter 20/ 50 - Loss: 0.312\n",
            "\tIter 30/ 50 - Loss: 0.301\n",
            "\tIter 40/ 50 - Loss: 0.294\n",
            "\tIter 50/ 50 - Loss: 0.29\n"
          ]
        },
        {
          "name": "stderr",
          "output_type": "stream",
          "text": [
            "\n",
            "41it [01:40,  2.47s/it]\u001b[A"
          ]
        },
        {
          "name": "stdout",
          "output_type": "stream",
          "text": [
            "\tIter 10/ 50 - Loss: 0.334\n",
            "\tIter 20/ 50 - Loss: 0.302\n",
            "\tIter 30/ 50 - Loss: 0.292\n",
            "\tIter 40/ 50 - Loss: 0.289\n",
            "\tIter 50/ 50 - Loss: 0.287\n"
          ]
        },
        {
          "name": "stderr",
          "output_type": "stream",
          "text": [
            "\n",
            "42it [01:42,  2.47s/it]\u001b[A"
          ]
        },
        {
          "name": "stdout",
          "output_type": "stream",
          "text": [
            "\tIter 10/ 50 - Loss: 0.326\n",
            "\tIter 20/ 50 - Loss: 0.303\n",
            "\tIter 30/ 50 - Loss: 0.294\n",
            "\tIter 40/ 50 - Loss: 0.289\n",
            "\tIter 50/ 50 - Loss: 0.287\n"
          ]
        },
        {
          "name": "stderr",
          "output_type": "stream",
          "text": [
            "\n",
            "43it [01:45,  2.45s/it]\u001b[A"
          ]
        },
        {
          "name": "stdout",
          "output_type": "stream",
          "text": [
            "\tIter 10/ 50 - Loss: 0.332\n",
            "\tIter 20/ 50 - Loss: 0.315\n",
            "\tIter 30/ 50 - Loss: 0.308\n",
            "\tIter 40/ 50 - Loss: 0.303\n",
            "\tIter 50/ 50 - Loss: 0.3\n"
          ]
        },
        {
          "name": "stderr",
          "output_type": "stream",
          "text": [
            "\n",
            "44it [01:47,  2.44s/it]\u001b[A"
          ]
        },
        {
          "name": "stdout",
          "output_type": "stream",
          "text": [
            "\tIter 10/ 50 - Loss: 0.335\n",
            "\tIter 20/ 50 - Loss: 0.313\n",
            "\tIter 30/ 50 - Loss: 0.303\n",
            "\tIter 40/ 50 - Loss: 0.297\n",
            "\tIter 50/ 50 - Loss: 0.294\n"
          ]
        },
        {
          "name": "stderr",
          "output_type": "stream",
          "text": [
            "\n",
            "45it [01:49,  2.42s/it]\u001b[A"
          ]
        },
        {
          "name": "stdout",
          "output_type": "stream",
          "text": [
            "\tIter 10/ 50 - Loss: 0.363\n",
            "\tIter 20/ 50 - Loss: 0.331\n",
            "\tIter 30/ 50 - Loss: 0.315\n",
            "\tIter 40/ 50 - Loss: 0.308\n",
            "\tIter 50/ 50 - Loss: 0.303\n"
          ]
        },
        {
          "name": "stderr",
          "output_type": "stream",
          "text": [
            "\n",
            "46it [01:52,  2.42s/it]\u001b[A"
          ]
        },
        {
          "name": "stdout",
          "output_type": "stream",
          "text": [
            "\tIter 10/ 50 - Loss: 0.331\n",
            "\tIter 20/ 50 - Loss: 0.315\n",
            "\tIter 30/ 50 - Loss: 0.308\n",
            "\tIter 40/ 50 - Loss: 0.304\n",
            "\tIter 50/ 50 - Loss: 0.302\n"
          ]
        },
        {
          "name": "stderr",
          "output_type": "stream",
          "text": [
            "\n",
            "47it [01:54,  2.42s/it]\u001b[A"
          ]
        },
        {
          "name": "stdout",
          "output_type": "stream",
          "text": [
            "\tIter 10/ 50 - Loss: 0.347\n",
            "\tIter 20/ 50 - Loss: 0.319\n",
            "\tIter 30/ 50 - Loss: 0.31\n",
            "\tIter 40/ 50 - Loss: 0.305\n",
            "\tIter 50/ 50 - Loss: 0.302\n"
          ]
        },
        {
          "name": "stderr",
          "output_type": "stream",
          "text": [
            "\n",
            "48it [01:57,  2.47s/it]\u001b[A"
          ]
        },
        {
          "name": "stdout",
          "output_type": "stream",
          "text": [
            "\tIter 10/ 50 - Loss: 0.359\n",
            "\tIter 20/ 50 - Loss: 0.329\n",
            "\tIter 30/ 50 - Loss: 0.317\n",
            "\tIter 40/ 50 - Loss: 0.31\n",
            "\tIter 50/ 50 - Loss: 0.306\n"
          ]
        },
        {
          "name": "stderr",
          "output_type": "stream",
          "text": [
            "\n",
            "49it [01:59,  2.45s/it]\u001b[A"
          ]
        },
        {
          "name": "stdout",
          "output_type": "stream",
          "text": [
            "\tIter 10/ 50 - Loss: 0.339\n",
            "\tIter 20/ 50 - Loss: 0.316\n",
            "\tIter 30/ 50 - Loss: 0.307\n",
            "\tIter 40/ 50 - Loss: 0.301\n",
            "\tIter 50/ 50 - Loss: 0.298\n"
          ]
        },
        {
          "name": "stderr",
          "output_type": "stream",
          "text": [
            "\n",
            "50it [02:02,  2.44s/it]\u001b[A"
          ]
        },
        {
          "name": "stdout",
          "output_type": "stream",
          "text": [
            "\tIter 10/ 50 - Loss: 0.388\n",
            "\tIter 20/ 50 - Loss: 0.344\n",
            "\tIter 30/ 50 - Loss: 0.324\n",
            "\tIter 40/ 50 - Loss: 0.312\n",
            "\tIter 50/ 50 - Loss: 0.305\n"
          ]
        },
        {
          "name": "stderr",
          "output_type": "stream",
          "text": [
            "\n",
            "51it [02:04,  2.44s/it]\u001b[A"
          ]
        },
        {
          "name": "stdout",
          "output_type": "stream",
          "text": [
            "\tIter 10/ 50 - Loss: 0.372\n",
            "\tIter 20/ 50 - Loss: 0.337\n",
            "\tIter 30/ 50 - Loss: 0.321\n",
            "\tIter 40/ 50 - Loss: 0.312\n",
            "\tIter 50/ 50 - Loss: 0.307\n"
          ]
        },
        {
          "name": "stderr",
          "output_type": "stream",
          "text": [
            "\n",
            "52it [02:07,  2.45s/it]\u001b[A"
          ]
        },
        {
          "name": "stdout",
          "output_type": "stream",
          "text": [
            "\tIter 10/ 50 - Loss: 0.348\n",
            "\tIter 20/ 50 - Loss: 0.322\n",
            "\tIter 30/ 50 - Loss: 0.312\n",
            "\tIter 40/ 50 - Loss: 0.307\n",
            "\tIter 50/ 50 - Loss: 0.304\n"
          ]
        },
        {
          "name": "stderr",
          "output_type": "stream",
          "text": [
            "\n",
            "53it [02:09,  2.44s/it]\u001b[A"
          ]
        },
        {
          "name": "stdout",
          "output_type": "stream",
          "text": [
            "\tIter 10/ 50 - Loss: 0.413\n",
            "\tIter 20/ 50 - Loss: 0.371\n",
            "\tIter 30/ 50 - Loss: 0.351\n",
            "\tIter 40/ 50 - Loss: 0.337\n",
            "\tIter 50/ 50 - Loss: 0.327\n"
          ]
        },
        {
          "name": "stderr",
          "output_type": "stream",
          "text": [
            "\n",
            "54it [02:11,  2.43s/it]\u001b[A"
          ]
        },
        {
          "name": "stdout",
          "output_type": "stream",
          "text": [
            "\tIter 10/ 50 - Loss: 0.362\n",
            "\tIter 20/ 50 - Loss: 0.328\n",
            "\tIter 30/ 50 - Loss: 0.315\n",
            "\tIter 40/ 50 - Loss: 0.309\n",
            "\tIter 50/ 50 - Loss: 0.306\n"
          ]
        },
        {
          "name": "stderr",
          "output_type": "stream",
          "text": [
            "\n",
            "55it [02:14,  2.49s/it]\u001b[A"
          ]
        },
        {
          "name": "stdout",
          "output_type": "stream",
          "text": [
            "\tIter 10/ 50 - Loss: 0.394\n",
            "\tIter 20/ 50 - Loss: 0.357\n",
            "\tIter 30/ 50 - Loss: 0.335\n",
            "\tIter 40/ 50 - Loss: 0.322\n",
            "\tIter 50/ 50 - Loss: 0.314\n"
          ]
        },
        {
          "name": "stderr",
          "output_type": "stream",
          "text": [
            "\n",
            "56it [02:16,  2.47s/it]\u001b[A"
          ]
        },
        {
          "name": "stdout",
          "output_type": "stream",
          "text": [
            "\tIter 10/ 50 - Loss: 0.395\n",
            "\tIter 20/ 50 - Loss: 0.356\n",
            "\tIter 30/ 50 - Loss: 0.337\n",
            "\tIter 40/ 50 - Loss: 0.326\n",
            "\tIter 50/ 50 - Loss: 0.319\n"
          ]
        },
        {
          "name": "stderr",
          "output_type": "stream",
          "text": [
            "\n",
            "57it [02:19,  2.48s/it]\u001b[A"
          ]
        },
        {
          "name": "stdout",
          "output_type": "stream",
          "text": [
            "\tIter 10/ 50 - Loss: 0.347\n",
            "\tIter 20/ 50 - Loss: 0.333\n",
            "\tIter 30/ 50 - Loss: 0.325\n",
            "\tIter 40/ 50 - Loss: 0.32\n",
            "\tIter 50/ 50 - Loss: 0.316\n"
          ]
        },
        {
          "name": "stderr",
          "output_type": "stream",
          "text": [
            "\n",
            "58it [02:21,  2.47s/it]\u001b[A"
          ]
        },
        {
          "name": "stdout",
          "output_type": "stream",
          "text": [
            "\tIter 10/ 50 - Loss: 0.355\n",
            "\tIter 20/ 50 - Loss: 0.335\n",
            "\tIter 30/ 50 - Loss: 0.325\n",
            "\tIter 40/ 50 - Loss: 0.319\n",
            "\tIter 50/ 50 - Loss: 0.315\n"
          ]
        },
        {
          "name": "stderr",
          "output_type": "stream",
          "text": [
            "\n",
            "59it [02:24,  2.45s/it]\u001b[A"
          ]
        },
        {
          "name": "stdout",
          "output_type": "stream",
          "text": [
            "\tIter 10/ 50 - Loss: 0.368\n",
            "\tIter 20/ 50 - Loss: 0.339\n",
            "\tIter 30/ 50 - Loss: 0.327\n",
            "\tIter 40/ 50 - Loss: 0.321\n",
            "\tIter 50/ 50 - Loss: 0.318\n"
          ]
        },
        {
          "name": "stderr",
          "output_type": "stream",
          "text": [
            "\n",
            "60it [02:26,  2.45s/it]\u001b[A"
          ]
        },
        {
          "name": "stdout",
          "output_type": "stream",
          "text": [
            "\tIter 10/ 50 - Loss: 0.358\n",
            "\tIter 20/ 50 - Loss: 0.332\n",
            "\tIter 30/ 50 - Loss: 0.323\n",
            "\tIter 40/ 50 - Loss: 0.318\n",
            "\tIter 50/ 50 - Loss: 0.315\n"
          ]
        },
        {
          "name": "stderr",
          "output_type": "stream",
          "text": [
            "\n",
            "61it [02:29,  2.45s/it]\u001b[A"
          ]
        },
        {
          "name": "stdout",
          "output_type": "stream",
          "text": [
            "\tIter 10/ 50 - Loss: 0.377\n",
            "\tIter 20/ 50 - Loss: 0.341\n",
            "\tIter 30/ 50 - Loss: 0.327\n",
            "\tIter 40/ 50 - Loss: 0.319\n",
            "\tIter 50/ 50 - Loss: 0.315\n"
          ]
        },
        {
          "name": "stderr",
          "output_type": "stream",
          "text": [
            "\n",
            "62it [02:31,  2.44s/it]\u001b[A"
          ]
        },
        {
          "name": "stdout",
          "output_type": "stream",
          "text": [
            "\tIter 10/ 50 - Loss: 0.384\n",
            "\tIter 20/ 50 - Loss: 0.35\n",
            "\tIter 30/ 50 - Loss: 0.333\n",
            "\tIter 40/ 50 - Loss: 0.323\n",
            "\tIter 50/ 50 - Loss: 0.318\n"
          ]
        },
        {
          "name": "stderr",
          "output_type": "stream",
          "text": [
            "\n",
            "63it [02:34,  2.48s/it]\u001b[A"
          ]
        },
        {
          "name": "stdout",
          "output_type": "stream",
          "text": [
            "\tIter 10/ 50 - Loss: 0.38\n",
            "\tIter 20/ 50 - Loss: 0.36\n",
            "\tIter 30/ 50 - Loss: 0.348\n",
            "\tIter 40/ 50 - Loss: 0.339\n",
            "\tIter 50/ 50 - Loss: 0.332\n"
          ]
        },
        {
          "name": "stderr",
          "output_type": "stream",
          "text": [
            "\n",
            "64it [02:36,  2.47s/it]\u001b[A"
          ]
        },
        {
          "name": "stdout",
          "output_type": "stream",
          "text": [
            "\tIter 10/ 50 - Loss: 0.345\n",
            "\tIter 20/ 50 - Loss: 0.329\n",
            "\tIter 30/ 50 - Loss: 0.322\n",
            "\tIter 40/ 50 - Loss: 0.318\n",
            "\tIter 50/ 50 - Loss: 0.316\n"
          ]
        },
        {
          "name": "stderr",
          "output_type": "stream",
          "text": [
            "\n",
            "65it [02:39,  2.45s/it]\u001b[A"
          ]
        },
        {
          "name": "stdout",
          "output_type": "stream",
          "text": [
            "\tIter 10/ 50 - Loss: 0.348\n",
            "\tIter 20/ 50 - Loss: 0.333\n",
            "\tIter 30/ 50 - Loss: 0.326\n",
            "\tIter 40/ 50 - Loss: 0.321\n",
            "\tIter 50/ 50 - Loss: 0.318\n"
          ]
        },
        {
          "name": "stderr",
          "output_type": "stream",
          "text": [
            "\n",
            "66it [02:41,  2.47s/it]\u001b[A"
          ]
        },
        {
          "name": "stdout",
          "output_type": "stream",
          "text": [
            "\tIter 10/ 50 - Loss: 0.363\n",
            "\tIter 20/ 50 - Loss: 0.34\n",
            "\tIter 30/ 50 - Loss: 0.332\n",
            "\tIter 40/ 50 - Loss: 0.328\n",
            "\tIter 50/ 50 - Loss: 0.326\n"
          ]
        },
        {
          "name": "stderr",
          "output_type": "stream",
          "text": [
            "\n",
            "67it [02:44,  2.46s/it]\u001b[A"
          ]
        },
        {
          "name": "stdout",
          "output_type": "stream",
          "text": [
            "\tIter 10/ 50 - Loss: 0.377\n",
            "\tIter 20/ 50 - Loss: 0.344\n",
            "\tIter 30/ 50 - Loss: 0.331\n",
            "\tIter 40/ 50 - Loss: 0.325\n",
            "\tIter 50/ 50 - Loss: 0.321\n"
          ]
        },
        {
          "name": "stderr",
          "output_type": "stream",
          "text": [
            "\n",
            "68it [02:46,  2.45s/it]\u001b[A"
          ]
        },
        {
          "name": "stdout",
          "output_type": "stream",
          "text": [
            "\tIter 10/ 50 - Loss: 0.467\n",
            "\tIter 20/ 50 - Loss: 0.393\n",
            "\tIter 30/ 50 - Loss: 0.361\n",
            "\tIter 40/ 50 - Loss: 0.344\n",
            "\tIter 50/ 50 - Loss: 0.334\n"
          ]
        },
        {
          "name": "stderr",
          "output_type": "stream",
          "text": [
            "\n",
            "69it [02:48,  2.45s/it]\u001b[A"
          ]
        },
        {
          "name": "stdout",
          "output_type": "stream",
          "text": [
            "\tIter 10/ 50 - Loss: 0.388\n",
            "\tIter 20/ 50 - Loss: 0.359\n",
            "\tIter 30/ 50 - Loss: 0.345\n",
            "\tIter 40/ 50 - Loss: 0.337\n",
            "\tIter 50/ 50 - Loss: 0.332\n"
          ]
        },
        {
          "name": "stderr",
          "output_type": "stream",
          "text": [
            "\n",
            "70it [02:51,  2.49s/it]\u001b[A"
          ]
        },
        {
          "name": "stdout",
          "output_type": "stream",
          "text": [
            "\tIter 10/ 50 - Loss: 0.434\n",
            "\tIter 20/ 50 - Loss: 0.401\n",
            "\tIter 30/ 50 - Loss: 0.383\n",
            "\tIter 40/ 50 - Loss: 0.37\n",
            "\tIter 50/ 50 - Loss: 0.359\n"
          ]
        },
        {
          "name": "stderr",
          "output_type": "stream",
          "text": [
            "\n",
            "71it [02:53,  2.50s/it]\u001b[A"
          ]
        },
        {
          "name": "stdout",
          "output_type": "stream",
          "text": [
            "\tIter 10/ 50 - Loss: 0.383\n",
            "\tIter 20/ 50 - Loss: 0.348\n",
            "\tIter 30/ 50 - Loss: 0.336\n",
            "\tIter 40/ 50 - Loss: 0.33\n",
            "\tIter 50/ 50 - Loss: 0.327\n"
          ]
        },
        {
          "name": "stderr",
          "output_type": "stream",
          "text": [
            "\n",
            "72it [02:56,  2.47s/it]\u001b[A"
          ]
        },
        {
          "name": "stdout",
          "output_type": "stream",
          "text": [
            "\tIter 10/ 50 - Loss: 0.368\n",
            "\tIter 20/ 50 - Loss: 0.347\n",
            "\tIter 30/ 50 - Loss: 0.339\n",
            "\tIter 40/ 50 - Loss: 0.334\n",
            "\tIter 50/ 50 - Loss: 0.331\n"
          ]
        },
        {
          "name": "stderr",
          "output_type": "stream",
          "text": [
            "\n",
            "73it [02:58,  2.47s/it]\u001b[A"
          ]
        },
        {
          "name": "stdout",
          "output_type": "stream",
          "text": [
            "\tIter 10/ 50 - Loss: 0.362\n",
            "\tIter 20/ 50 - Loss: 0.349\n",
            "\tIter 30/ 50 - Loss: 0.344\n",
            "\tIter 40/ 50 - Loss: 0.34\n",
            "\tIter 50/ 50 - Loss: 0.338\n"
          ]
        },
        {
          "name": "stderr",
          "output_type": "stream",
          "text": [
            "\n",
            "74it [03:01,  2.46s/it]\u001b[A"
          ]
        },
        {
          "name": "stdout",
          "output_type": "stream",
          "text": [
            "\tIter 10/ 50 - Loss: 0.459\n",
            "\tIter 20/ 50 - Loss: 0.41\n",
            "\tIter 30/ 50 - Loss: 0.384\n",
            "\tIter 40/ 50 - Loss: 0.367\n",
            "\tIter 50/ 50 - Loss: 0.356\n"
          ]
        },
        {
          "name": "stderr",
          "output_type": "stream",
          "text": [
            "\n",
            "75it [03:03,  2.45s/it]\u001b[A"
          ]
        },
        {
          "name": "stdout",
          "output_type": "stream",
          "text": [
            "\tIter 10/ 50 - Loss: 0.433\n",
            "\tIter 20/ 50 - Loss: 0.399\n",
            "\tIter 30/ 50 - Loss: 0.379\n",
            "\tIter 40/ 50 - Loss: 0.365\n",
            "\tIter 50/ 50 - Loss: 0.354\n"
          ]
        },
        {
          "name": "stderr",
          "output_type": "stream",
          "text": [
            "\n",
            "76it [03:06,  2.48s/it]\u001b[A"
          ]
        },
        {
          "name": "stdout",
          "output_type": "stream",
          "text": [
            "\tIter 10/ 50 - Loss: 0.419\n",
            "\tIter 20/ 50 - Loss: 0.384\n",
            "\tIter 30/ 50 - Loss: 0.367\n",
            "\tIter 40/ 50 - Loss: 0.356\n",
            "\tIter 50/ 50 - Loss: 0.349\n"
          ]
        },
        {
          "name": "stderr",
          "output_type": "stream",
          "text": [
            "\n",
            "77it [03:08,  2.45s/it]\u001b[A"
          ]
        },
        {
          "name": "stdout",
          "output_type": "stream",
          "text": [
            "\tIter 10/ 50 - Loss: 0.432\n",
            "\tIter 20/ 50 - Loss: 0.377\n",
            "\tIter 30/ 50 - Loss: 0.355\n",
            "\tIter 40/ 50 - Loss: 0.343\n",
            "\tIter 50/ 50 - Loss: 0.337\n"
          ]
        },
        {
          "name": "stderr",
          "output_type": "stream",
          "text": [
            "\n",
            "78it [03:11,  2.45s/it]\u001b[A"
          ]
        },
        {
          "name": "stdout",
          "output_type": "stream",
          "text": [
            "\tIter 10/ 50 - Loss: 0.391\n",
            "\tIter 20/ 50 - Loss: 0.36\n",
            "\tIter 30/ 50 - Loss: 0.348\n",
            "\tIter 40/ 50 - Loss: 0.342\n",
            "\tIter 50/ 50 - Loss: 0.339\n"
          ]
        },
        {
          "name": "stderr",
          "output_type": "stream",
          "text": [
            "\n",
            "79it [03:13,  2.49s/it]\u001b[A"
          ]
        },
        {
          "name": "stdout",
          "output_type": "stream",
          "text": [
            "\tIter 10/ 50 - Loss: 0.431\n",
            "\tIter 20/ 50 - Loss: 0.383\n",
            "\tIter 30/ 50 - Loss: 0.361\n",
            "\tIter 40/ 50 - Loss: 0.348\n",
            "\tIter 50/ 50 - Loss: 0.34\n"
          ]
        },
        {
          "name": "stderr",
          "output_type": "stream",
          "text": [
            "\n",
            "80it [03:16,  2.47s/it]\u001b[A"
          ]
        },
        {
          "name": "stdout",
          "output_type": "stream",
          "text": [
            "\tIter 10/ 50 - Loss: 0.359\n",
            "\tIter 20/ 50 - Loss: 0.345\n",
            "\tIter 30/ 50 - Loss: 0.34\n",
            "\tIter 40/ 50 - Loss: 0.338\n",
            "\tIter 50/ 50 - Loss: 0.336\n"
          ]
        },
        {
          "name": "stderr",
          "output_type": "stream",
          "text": [
            "\n",
            "81it [03:18,  2.47s/it]\u001b[A"
          ]
        },
        {
          "name": "stdout",
          "output_type": "stream",
          "text": [
            "\tIter 10/ 50 - Loss: 0.509\n",
            "\tIter 20/ 50 - Loss: 0.425\n",
            "\tIter 30/ 50 - Loss: 0.388\n",
            "\tIter 40/ 50 - Loss: 0.366\n",
            "\tIter 50/ 50 - Loss: 0.353\n"
          ]
        },
        {
          "name": "stderr",
          "output_type": "stream",
          "text": [
            "\n",
            "82it [03:21,  2.46s/it]\u001b[A"
          ]
        },
        {
          "name": "stdout",
          "output_type": "stream",
          "text": [
            "\tIter 10/ 50 - Loss: 0.42\n",
            "\tIter 20/ 50 - Loss: 0.372\n",
            "\tIter 30/ 50 - Loss: 0.353\n",
            "\tIter 40/ 50 - Loss: 0.343\n",
            "\tIter 50/ 50 - Loss: 0.337\n"
          ]
        },
        {
          "name": "stderr",
          "output_type": "stream",
          "text": [
            "\n",
            "83it [03:23,  2.46s/it]\u001b[A"
          ]
        },
        {
          "name": "stdout",
          "output_type": "stream",
          "text": [
            "\tIter 10/ 50 - Loss: 0.445\n",
            "\tIter 20/ 50 - Loss: 0.398\n",
            "\tIter 30/ 50 - Loss: 0.377\n",
            "\tIter 40/ 50 - Loss: 0.365\n",
            "\tIter 50/ 50 - Loss: 0.356\n"
          ]
        },
        {
          "name": "stderr",
          "output_type": "stream",
          "text": [
            "\n",
            "84it [03:25,  2.45s/it]\u001b[A"
          ]
        },
        {
          "name": "stdout",
          "output_type": "stream",
          "text": [
            "\tIter 10/ 50 - Loss: 0.409\n",
            "\tIter 20/ 50 - Loss: 0.378\n",
            "\tIter 30/ 50 - Loss: 0.362\n",
            "\tIter 40/ 50 - Loss: 0.352\n",
            "\tIter 50/ 50 - Loss: 0.344\n"
          ]
        },
        {
          "name": "stderr",
          "output_type": "stream",
          "text": [
            "\n",
            "85it [03:28,  2.44s/it]\u001b[A"
          ]
        },
        {
          "name": "stdout",
          "output_type": "stream",
          "text": [
            "\tIter 10/ 50 - Loss: 0.391\n",
            "\tIter 20/ 50 - Loss: 0.359\n",
            "\tIter 30/ 50 - Loss: 0.347\n",
            "\tIter 40/ 50 - Loss: 0.341\n",
            "\tIter 50/ 50 - Loss: 0.338\n"
          ]
        },
        {
          "name": "stderr",
          "output_type": "stream",
          "text": [
            "\n",
            "86it [03:31,  2.52s/it]\u001b[A"
          ]
        },
        {
          "name": "stdout",
          "output_type": "stream",
          "text": [
            "\tIter 10/ 50 - Loss: 0.407\n",
            "\tIter 20/ 50 - Loss: 0.381\n",
            "\tIter 30/ 50 - Loss: 0.367\n",
            "\tIter 40/ 50 - Loss: 0.358\n",
            "\tIter 50/ 50 - Loss: 0.351\n"
          ]
        },
        {
          "name": "stderr",
          "output_type": "stream",
          "text": [
            "\n",
            "87it [03:33,  2.49s/it]\u001b[A"
          ]
        },
        {
          "name": "stdout",
          "output_type": "stream",
          "text": [
            "\tIter 10/ 50 - Loss: 0.378\n",
            "\tIter 20/ 50 - Loss: 0.36\n",
            "\tIter 30/ 50 - Loss: 0.35\n",
            "\tIter 40/ 50 - Loss: 0.344\n",
            "\tIter 50/ 50 - Loss: 0.34\n"
          ]
        },
        {
          "name": "stderr",
          "output_type": "stream",
          "text": [
            "\n",
            "88it [03:35,  2.48s/it]\u001b[A"
          ]
        },
        {
          "name": "stdout",
          "output_type": "stream",
          "text": [
            "\tIter 10/ 50 - Loss: 0.431\n",
            "\tIter 20/ 50 - Loss: 0.39\n",
            "\tIter 30/ 50 - Loss: 0.373\n",
            "\tIter 40/ 50 - Loss: 0.364\n",
            "\tIter 50/ 50 - Loss: 0.358\n"
          ]
        },
        {
          "name": "stderr",
          "output_type": "stream",
          "text": [
            "\n",
            "89it [03:38,  2.47s/it]\u001b[A"
          ]
        },
        {
          "name": "stdout",
          "output_type": "stream",
          "text": [
            "\tIter 10/ 50 - Loss: 0.479\n",
            "\tIter 20/ 50 - Loss: 0.419\n",
            "\tIter 30/ 50 - Loss: 0.388\n",
            "\tIter 40/ 50 - Loss: 0.367\n",
            "\tIter 50/ 50 - Loss: 0.354\n"
          ]
        },
        {
          "name": "stderr",
          "output_type": "stream",
          "text": [
            "\n",
            "90it [03:40,  2.48s/it]\u001b[A"
          ]
        },
        {
          "name": "stdout",
          "output_type": "stream",
          "text": [
            "\tIter 10/ 50 - Loss: 0.408\n",
            "\tIter 20/ 50 - Loss: 0.366\n",
            "\tIter 30/ 50 - Loss: 0.35\n",
            "\tIter 40/ 50 - Loss: 0.343\n",
            "\tIter 50/ 50 - Loss: 0.338\n"
          ]
        },
        {
          "name": "stderr",
          "output_type": "stream",
          "text": [
            "\n",
            "91it [03:43,  2.49s/it]\u001b[A"
          ]
        },
        {
          "name": "stdout",
          "output_type": "stream",
          "text": [
            "\tIter 10/ 50 - Loss: 0.377\n",
            "\tIter 20/ 50 - Loss: 0.355\n",
            "\tIter 30/ 50 - Loss: 0.346\n",
            "\tIter 40/ 50 - Loss: 0.342\n",
            "\tIter 50/ 50 - Loss: 0.339\n"
          ]
        },
        {
          "name": "stderr",
          "output_type": "stream",
          "text": [
            "\n",
            "92it [03:45,  2.48s/it]\u001b[A"
          ]
        },
        {
          "name": "stdout",
          "output_type": "stream",
          "text": [
            "\tIter 10/ 50 - Loss: 0.399\n",
            "\tIter 20/ 50 - Loss: 0.363\n",
            "\tIter 30/ 50 - Loss: 0.35\n",
            "\tIter 40/ 50 - Loss: 0.342\n",
            "\tIter 50/ 50 - Loss: 0.338\n"
          ]
        },
        {
          "name": "stderr",
          "output_type": "stream",
          "text": [
            "\n",
            "93it [03:48,  2.53s/it]\u001b[A"
          ]
        },
        {
          "name": "stdout",
          "output_type": "stream",
          "text": [
            "\tIter 10/ 50 - Loss: 0.414\n",
            "\tIter 20/ 50 - Loss: 0.375\n",
            "\tIter 30/ 50 - Loss: 0.358\n",
            "\tIter 40/ 50 - Loss: 0.349\n",
            "\tIter 50/ 50 - Loss: 0.345\n"
          ]
        },
        {
          "name": "stderr",
          "output_type": "stream",
          "text": [
            "\n",
            "94it [03:50,  2.50s/it]\u001b[A"
          ]
        },
        {
          "name": "stdout",
          "output_type": "stream",
          "text": [
            "\tIter 10/ 50 - Loss: 0.428\n",
            "\tIter 20/ 50 - Loss: 0.384\n",
            "\tIter 30/ 50 - Loss: 0.365\n",
            "\tIter 40/ 50 - Loss: 0.356\n",
            "\tIter 50/ 50 - Loss: 0.35\n"
          ]
        },
        {
          "name": "stderr",
          "output_type": "stream",
          "text": [
            "\n",
            "95it [03:53,  2.49s/it]\u001b[A"
          ]
        },
        {
          "name": "stdout",
          "output_type": "stream",
          "text": [
            "\tIter 10/ 50 - Loss: 0.428\n",
            "\tIter 20/ 50 - Loss: 0.386\n",
            "\tIter 30/ 50 - Loss: 0.369\n",
            "\tIter 40/ 50 - Loss: 0.359\n",
            "\tIter 50/ 50 - Loss: 0.352\n"
          ]
        },
        {
          "name": "stderr",
          "output_type": "stream",
          "text": [
            "\n",
            "96it [03:55,  2.49s/it]\u001b[A"
          ]
        },
        {
          "name": "stdout",
          "output_type": "stream",
          "text": [
            "\tIter 10/ 50 - Loss: 0.428\n",
            "\tIter 20/ 50 - Loss: 0.402\n",
            "\tIter 30/ 50 - Loss: 0.386\n",
            "\tIter 40/ 50 - Loss: 0.375\n",
            "\tIter 50/ 50 - Loss: 0.368\n"
          ]
        },
        {
          "name": "stderr",
          "output_type": "stream",
          "text": [
            "\n",
            "97it [03:58,  2.47s/it]\u001b[A"
          ]
        },
        {
          "name": "stdout",
          "output_type": "stream",
          "text": [
            "\tIter 10/ 50 - Loss: 0.391\n",
            "\tIter 20/ 50 - Loss: 0.364\n",
            "\tIter 30/ 50 - Loss: 0.354\n",
            "\tIter 40/ 50 - Loss: 0.349\n",
            "\tIter 50/ 50 - Loss: 0.345\n"
          ]
        },
        {
          "name": "stderr",
          "output_type": "stream",
          "text": [
            "\n",
            "98it [04:00,  2.46s/it]\u001b[A"
          ]
        },
        {
          "name": "stdout",
          "output_type": "stream",
          "text": [
            "\tIter 10/ 50 - Loss: 0.449\n",
            "\tIter 20/ 50 - Loss: 0.395\n",
            "\tIter 30/ 50 - Loss: 0.374\n",
            "\tIter 40/ 50 - Loss: 0.363\n",
            "\tIter 50/ 50 - Loss: 0.356\n"
          ]
        },
        {
          "name": "stderr",
          "output_type": "stream",
          "text": [
            "\n",
            "99it [04:03,  2.46s/it]\u001b[A"
          ]
        },
        {
          "name": "stdout",
          "output_type": "stream",
          "text": [
            "\tIter 10/ 50 - Loss: 0.369\n",
            "\tIter 20/ 50 - Loss: 0.359\n",
            "\tIter 30/ 50 - Loss: 0.355\n",
            "\tIter 40/ 50 - Loss: 0.353\n",
            "\tIter 50/ 50 - Loss: 0.351\n"
          ]
        },
        {
          "name": "stderr",
          "output_type": "stream",
          "text": [
            "\n",
            "100it [04:05,  2.47s/it]\u001b[A"
          ]
        },
        {
          "name": "stdout",
          "output_type": "stream",
          "text": [
            "\tIter 10/ 50 - Loss: 0.45\n",
            "\tIter 20/ 50 - Loss: 0.398\n",
            "\tIter 30/ 50 - Loss: 0.375\n",
            "\tIter 40/ 50 - Loss: 0.362\n",
            "\tIter 50/ 50 - Loss: 0.353\n"
          ]
        },
        {
          "name": "stderr",
          "output_type": "stream",
          "text": [
            "\n",
            "101it [04:08,  2.53s/it]\u001b[A"
          ]
        },
        {
          "name": "stdout",
          "output_type": "stream",
          "text": [
            "\tIter 10/ 50 - Loss: 0.431\n",
            "\tIter 20/ 50 - Loss: 0.401\n",
            "\tIter 30/ 50 - Loss: 0.384\n",
            "\tIter 40/ 50 - Loss: 0.373\n",
            "\tIter 50/ 50 - Loss: 0.366\n"
          ]
        },
        {
          "name": "stderr",
          "output_type": "stream",
          "text": [
            "\n",
            "102it [04:10,  2.51s/it]\u001b[A"
          ]
        },
        {
          "name": "stdout",
          "output_type": "stream",
          "text": [
            "\tIter 10/ 50 - Loss: 0.388\n",
            "\tIter 20/ 50 - Loss: 0.372\n",
            "\tIter 30/ 50 - Loss: 0.363\n",
            "\tIter 40/ 50 - Loss: 0.357\n",
            "\tIter 50/ 50 - Loss: 0.352\n"
          ]
        },
        {
          "name": "stderr",
          "output_type": "stream",
          "text": [
            "\n",
            "103it [04:13,  2.50s/it]\u001b[A"
          ]
        },
        {
          "name": "stdout",
          "output_type": "stream",
          "text": [
            "\tIter 10/ 50 - Loss: 0.404\n",
            "\tIter 20/ 50 - Loss: 0.384\n",
            "\tIter 30/ 50 - Loss: 0.373\n",
            "\tIter 40/ 50 - Loss: 0.366\n",
            "\tIter 50/ 50 - Loss: 0.361\n"
          ]
        },
        {
          "name": "stderr",
          "output_type": "stream",
          "text": [
            "\n",
            "104it [04:15,  2.49s/it]\u001b[A"
          ]
        },
        {
          "name": "stdout",
          "output_type": "stream",
          "text": [
            "\tIter 10/ 50 - Loss: 0.403\n",
            "\tIter 20/ 50 - Loss: 0.372\n",
            "\tIter 30/ 50 - Loss: 0.362\n",
            "\tIter 40/ 50 - Loss: 0.357\n",
            "\tIter 50/ 50 - Loss: 0.353\n"
          ]
        },
        {
          "name": "stderr",
          "output_type": "stream",
          "text": [
            "\n",
            "105it [04:18,  2.50s/it]\u001b[A"
          ]
        },
        {
          "name": "stdout",
          "output_type": "stream",
          "text": [
            "\tIter 10/ 50 - Loss: 0.405\n",
            "\tIter 20/ 50 - Loss: 0.378\n",
            "\tIter 30/ 50 - Loss: 0.367\n",
            "\tIter 40/ 50 - Loss: 0.361\n",
            "\tIter 50/ 50 - Loss: 0.357\n"
          ]
        },
        {
          "name": "stderr",
          "output_type": "stream",
          "text": [
            "\n",
            "106it [04:20,  2.50s/it]\u001b[A"
          ]
        },
        {
          "name": "stdout",
          "output_type": "stream",
          "text": [
            "\tIter 10/ 50 - Loss: 0.451\n",
            "\tIter 20/ 50 - Loss: 0.405\n",
            "\tIter 30/ 50 - Loss: 0.382\n",
            "\tIter 40/ 50 - Loss: 0.369\n",
            "\tIter 50/ 50 - Loss: 0.361\n"
          ]
        },
        {
          "name": "stderr",
          "output_type": "stream",
          "text": [
            "\n",
            "107it [04:23,  2.48s/it]\u001b[A"
          ]
        },
        {
          "name": "stdout",
          "output_type": "stream",
          "text": [
            "\tIter 10/ 50 - Loss: 0.391\n",
            "\tIter 20/ 50 - Loss: 0.366\n",
            "\tIter 30/ 50 - Loss: 0.355\n",
            "\tIter 40/ 50 - Loss: 0.35\n",
            "\tIter 50/ 50 - Loss: 0.347\n"
          ]
        },
        {
          "name": "stderr",
          "output_type": "stream",
          "text": [
            "\n",
            "108it [04:25,  2.52s/it]\u001b[A"
          ]
        },
        {
          "name": "stdout",
          "output_type": "stream",
          "text": [
            "\tIter 10/ 50 - Loss: 0.413\n",
            "\tIter 20/ 50 - Loss: 0.381\n",
            "\tIter 30/ 50 - Loss: 0.367\n",
            "\tIter 40/ 50 - Loss: 0.358\n",
            "\tIter 50/ 50 - Loss: 0.353\n"
          ]
        },
        {
          "name": "stderr",
          "output_type": "stream",
          "text": [
            "\n",
            "109it [04:28,  2.51s/it]\u001b[A"
          ]
        },
        {
          "name": "stdout",
          "output_type": "stream",
          "text": [
            "\tIter 10/ 50 - Loss: 0.415\n",
            "\tIter 20/ 50 - Loss: 0.397\n",
            "\tIter 30/ 50 - Loss: 0.387\n",
            "\tIter 40/ 50 - Loss: 0.381\n",
            "\tIter 50/ 50 - Loss: 0.377\n"
          ]
        },
        {
          "name": "stderr",
          "output_type": "stream",
          "text": [
            "\n",
            "110it [04:30,  2.51s/it]\u001b[A"
          ]
        },
        {
          "name": "stdout",
          "output_type": "stream",
          "text": [
            "\tIter 10/ 50 - Loss: 0.451\n",
            "\tIter 20/ 50 - Loss: 0.396\n",
            "\tIter 30/ 50 - Loss: 0.375\n",
            "\tIter 40/ 50 - Loss: 0.363\n",
            "\tIter 50/ 50 - Loss: 0.357\n"
          ]
        },
        {
          "name": "stderr",
          "output_type": "stream",
          "text": [
            "\n",
            "111it [04:33,  2.49s/it]\u001b[A"
          ]
        },
        {
          "name": "stdout",
          "output_type": "stream",
          "text": [
            "\tIter 10/ 50 - Loss: 0.554\n",
            "\tIter 20/ 50 - Loss: 0.489\n",
            "\tIter 30/ 50 - Loss: 0.452\n",
            "\tIter 40/ 50 - Loss: 0.426\n",
            "\tIter 50/ 50 - Loss: 0.407\n"
          ]
        },
        {
          "name": "stderr",
          "output_type": "stream",
          "text": [
            "\n",
            "112it [04:35,  2.48s/it]\u001b[A"
          ]
        },
        {
          "name": "stdout",
          "output_type": "stream",
          "text": [
            "\tIter 10/ 50 - Loss: 0.443\n",
            "\tIter 20/ 50 - Loss: 0.396\n",
            "\tIter 30/ 50 - Loss: 0.381\n",
            "\tIter 40/ 50 - Loss: 0.373\n",
            "\tIter 50/ 50 - Loss: 0.367\n"
          ]
        },
        {
          "name": "stderr",
          "output_type": "stream",
          "text": [
            "\n",
            "113it [04:38,  2.47s/it]\u001b[A"
          ]
        },
        {
          "name": "stdout",
          "output_type": "stream",
          "text": [
            "\tIter 10/ 50 - Loss: 0.451\n",
            "\tIter 20/ 50 - Loss: 0.411\n",
            "\tIter 30/ 50 - Loss: 0.392\n",
            "\tIter 40/ 50 - Loss: 0.381\n",
            "\tIter 50/ 50 - Loss: 0.373\n"
          ]
        },
        {
          "name": "stderr",
          "output_type": "stream",
          "text": [
            "\n",
            "114it [04:40,  2.48s/it]\u001b[A"
          ]
        },
        {
          "name": "stdout",
          "output_type": "stream",
          "text": [
            "\tIter 10/ 50 - Loss: 0.441\n",
            "\tIter 20/ 50 - Loss: 0.397\n",
            "\tIter 30/ 50 - Loss: 0.38\n",
            "\tIter 40/ 50 - Loss: 0.369\n",
            "\tIter 50/ 50 - Loss: 0.362\n"
          ]
        },
        {
          "name": "stderr",
          "output_type": "stream",
          "text": [
            "\n",
            "115it [04:43,  2.50s/it]\u001b[A"
          ]
        },
        {
          "name": "stdout",
          "output_type": "stream",
          "text": [
            "\tIter 10/ 50 - Loss: 0.41\n",
            "\tIter 20/ 50 - Loss: 0.388\n",
            "\tIter 30/ 50 - Loss: 0.377\n",
            "\tIter 40/ 50 - Loss: 0.369\n",
            "\tIter 50/ 50 - Loss: 0.363\n"
          ]
        },
        {
          "name": "stderr",
          "output_type": "stream",
          "text": [
            "\n",
            "116it [04:45,  2.54s/it]\u001b[A"
          ]
        },
        {
          "name": "stdout",
          "output_type": "stream",
          "text": [
            "\tIter 10/ 50 - Loss: 0.454\n",
            "\tIter 20/ 50 - Loss: 0.407\n",
            "\tIter 30/ 50 - Loss: 0.386\n",
            "\tIter 40/ 50 - Loss: 0.373\n",
            "\tIter 50/ 50 - Loss: 0.365\n"
          ]
        },
        {
          "name": "stderr",
          "output_type": "stream",
          "text": [
            "\n",
            "117it [04:48,  2.51s/it]\u001b[A"
          ]
        },
        {
          "name": "stdout",
          "output_type": "stream",
          "text": [
            "\tIter 10/ 50 - Loss: 0.404\n",
            "\tIter 20/ 50 - Loss: 0.378\n",
            "\tIter 30/ 50 - Loss: 0.366\n",
            "\tIter 40/ 50 - Loss: 0.359\n",
            "\tIter 50/ 50 - Loss: 0.355\n"
          ]
        },
        {
          "name": "stderr",
          "output_type": "stream",
          "text": [
            "\n",
            "118it [04:50,  2.50s/it]\u001b[A"
          ]
        },
        {
          "name": "stdout",
          "output_type": "stream",
          "text": [
            "\tIter 10/ 50 - Loss: 0.433\n",
            "\tIter 20/ 50 - Loss: 0.4\n",
            "\tIter 30/ 50 - Loss: 0.385\n",
            "\tIter 40/ 50 - Loss: 0.376\n",
            "\tIter 50/ 50 - Loss: 0.37\n"
          ]
        },
        {
          "name": "stderr",
          "output_type": "stream",
          "text": [
            "\n",
            "119it [04:53,  2.51s/it]\u001b[A"
          ]
        },
        {
          "name": "stdout",
          "output_type": "stream",
          "text": [
            "\tIter 10/ 50 - Loss: 0.422\n",
            "\tIter 20/ 50 - Loss: 0.392\n",
            "\tIter 30/ 50 - Loss: 0.377\n",
            "\tIter 40/ 50 - Loss: 0.367\n",
            "\tIter 50/ 50 - Loss: 0.361\n"
          ]
        },
        {
          "name": "stderr",
          "output_type": "stream",
          "text": [
            "\n",
            "120it [04:55,  2.50s/it]\u001b[A"
          ]
        },
        {
          "name": "stdout",
          "output_type": "stream",
          "text": [
            "\tIter 10/ 50 - Loss: 0.423\n",
            "\tIter 20/ 50 - Loss: 0.389\n",
            "\tIter 30/ 50 - Loss: 0.373\n",
            "\tIter 40/ 50 - Loss: 0.364\n",
            "\tIter 50/ 50 - Loss: 0.359\n"
          ]
        },
        {
          "name": "stderr",
          "output_type": "stream",
          "text": [
            "\n",
            "121it [04:58,  2.49s/it]\u001b[A"
          ]
        },
        {
          "name": "stdout",
          "output_type": "stream",
          "text": [
            "\tIter 10/ 50 - Loss: 0.42\n",
            "\tIter 20/ 50 - Loss: 0.385\n",
            "\tIter 30/ 50 - Loss: 0.371\n",
            "\tIter 40/ 50 - Loss: 0.364\n",
            "\tIter 50/ 50 - Loss: 0.359\n"
          ]
        },
        {
          "name": "stderr",
          "output_type": "stream",
          "text": [
            "\n",
            "122it [05:00,  2.49s/it]\u001b[A"
          ]
        },
        {
          "name": "stdout",
          "output_type": "stream",
          "text": [
            "\tIter 10/ 50 - Loss: 0.396\n",
            "\tIter 20/ 50 - Loss: 0.376\n",
            "\tIter 30/ 50 - Loss: 0.368\n",
            "\tIter 40/ 50 - Loss: 0.363\n",
            "\tIter 50/ 50 - Loss: 0.36\n"
          ]
        },
        {
          "name": "stderr",
          "output_type": "stream",
          "text": [
            "\n",
            "123it [05:03,  2.49s/it]\u001b[A"
          ]
        },
        {
          "name": "stdout",
          "output_type": "stream",
          "text": [
            "\tIter 10/ 50 - Loss: 0.41\n",
            "\tIter 20/ 50 - Loss: 0.39\n",
            "\tIter 30/ 50 - Loss: 0.38\n",
            "\tIter 40/ 50 - Loss: 0.374\n",
            "\tIter 50/ 50 - Loss: 0.37\n"
          ]
        },
        {
          "name": "stderr",
          "output_type": "stream",
          "text": [
            "\n",
            "124it [05:05,  2.57s/it]\u001b[A"
          ]
        },
        {
          "name": "stdout",
          "output_type": "stream",
          "text": [
            "\tIter 10/ 50 - Loss: 0.488\n",
            "\tIter 20/ 50 - Loss: 0.431\n",
            "\tIter 30/ 50 - Loss: 0.406\n",
            "\tIter 40/ 50 - Loss: 0.392\n",
            "\tIter 50/ 50 - Loss: 0.383\n"
          ]
        },
        {
          "name": "stderr",
          "output_type": "stream",
          "text": [
            "\n",
            "125it [05:08,  2.54s/it]\u001b[A"
          ]
        },
        {
          "name": "stdout",
          "output_type": "stream",
          "text": [
            "\tIter 10/ 50 - Loss: 0.415\n",
            "\tIter 20/ 50 - Loss: 0.391\n",
            "\tIter 30/ 50 - Loss: 0.38\n",
            "\tIter 40/ 50 - Loss: 0.373\n",
            "\tIter 50/ 50 - Loss: 0.367\n"
          ]
        },
        {
          "name": "stderr",
          "output_type": "stream",
          "text": [
            "\n",
            "126it [05:10,  2.53s/it]\u001b[A"
          ]
        },
        {
          "name": "stdout",
          "output_type": "stream",
          "text": [
            "\tIter 10/ 50 - Loss: 0.436\n",
            "\tIter 20/ 50 - Loss: 0.398\n",
            "\tIter 30/ 50 - Loss: 0.383\n",
            "\tIter 40/ 50 - Loss: 0.373\n",
            "\tIter 50/ 50 - Loss: 0.367\n"
          ]
        },
        {
          "name": "stderr",
          "output_type": "stream",
          "text": [
            "\n",
            "127it [05:13,  2.52s/it]\u001b[A"
          ]
        },
        {
          "name": "stdout",
          "output_type": "stream",
          "text": [
            "\tIter 10/ 50 - Loss: 0.435\n",
            "\tIter 20/ 50 - Loss: 0.4\n",
            "\tIter 30/ 50 - Loss: 0.384\n",
            "\tIter 40/ 50 - Loss: 0.374\n",
            "\tIter 50/ 50 - Loss: 0.367\n"
          ]
        },
        {
          "name": "stderr",
          "output_type": "stream",
          "text": [
            "\n",
            "128it [05:15,  2.51s/it]\u001b[A"
          ]
        },
        {
          "name": "stdout",
          "output_type": "stream",
          "text": [
            "\tIter 10/ 50 - Loss: 0.461\n",
            "\tIter 20/ 50 - Loss: 0.412\n",
            "\tIter 30/ 50 - Loss: 0.393\n",
            "\tIter 40/ 50 - Loss: 0.383\n",
            "\tIter 50/ 50 - Loss: 0.376\n"
          ]
        },
        {
          "name": "stderr",
          "output_type": "stream",
          "text": [
            "\n",
            "129it [05:18,  2.54s/it]\u001b[A"
          ]
        },
        {
          "name": "stdout",
          "output_type": "stream",
          "text": [
            "\tIter 10/ 50 - Loss: 0.401\n",
            "\tIter 20/ 50 - Loss: 0.383\n",
            "\tIter 30/ 50 - Loss: 0.374\n",
            "\tIter 40/ 50 - Loss: 0.368\n",
            "\tIter 50/ 50 - Loss: 0.364\n"
          ]
        },
        {
          "name": "stderr",
          "output_type": "stream",
          "text": [
            "\n",
            "130it [05:21,  2.51s/it]\u001b[A"
          ]
        },
        {
          "name": "stdout",
          "output_type": "stream",
          "text": [
            "\tIter 10/ 50 - Loss: 0.431\n",
            "\tIter 20/ 50 - Loss: 0.395\n",
            "\tIter 30/ 50 - Loss: 0.381\n",
            "\tIter 40/ 50 - Loss: 0.372\n",
            "\tIter 50/ 50 - Loss: 0.366\n"
          ]
        },
        {
          "name": "stderr",
          "output_type": "stream",
          "text": [
            "\n",
            "131it [05:23,  2.57s/it]\u001b[A"
          ]
        },
        {
          "name": "stdout",
          "output_type": "stream",
          "text": [
            "\tIter 10/ 50 - Loss: 0.44\n",
            "\tIter 20/ 50 - Loss: 0.397\n",
            "\tIter 30/ 50 - Loss: 0.38\n",
            "\tIter 40/ 50 - Loss: 0.371\n",
            "\tIter 50/ 50 - Loss: 0.365\n"
          ]
        },
        {
          "name": "stderr",
          "output_type": "stream",
          "text": [
            "\n",
            "132it [05:26,  2.55s/it]\u001b[A"
          ]
        },
        {
          "name": "stdout",
          "output_type": "stream",
          "text": [
            "\tIter 10/ 50 - Loss: 0.42\n",
            "\tIter 20/ 50 - Loss: 0.39\n",
            "\tIter 30/ 50 - Loss: 0.379\n",
            "\tIter 40/ 50 - Loss: 0.373\n",
            "\tIter 50/ 50 - Loss: 0.369\n"
          ]
        },
        {
          "name": "stderr",
          "output_type": "stream",
          "text": [
            "\n",
            "133it [05:28,  2.54s/it]\u001b[A"
          ]
        },
        {
          "name": "stdout",
          "output_type": "stream",
          "text": [
            "\tIter 10/ 50 - Loss: 0.438\n",
            "\tIter 20/ 50 - Loss: 0.401\n",
            "\tIter 30/ 50 - Loss: 0.386\n",
            "\tIter 40/ 50 - Loss: 0.376\n",
            "\tIter 50/ 50 - Loss: 0.37\n"
          ]
        },
        {
          "name": "stderr",
          "output_type": "stream",
          "text": [
            "\n",
            "134it [05:31,  2.55s/it]\u001b[A"
          ]
        },
        {
          "name": "stdout",
          "output_type": "stream",
          "text": [
            "\tIter 10/ 50 - Loss: 0.423\n",
            "\tIter 20/ 50 - Loss: 0.398\n",
            "\tIter 30/ 50 - Loss: 0.387\n",
            "\tIter 40/ 50 - Loss: 0.381\n",
            "\tIter 50/ 50 - Loss: 0.377\n"
          ]
        },
        {
          "name": "stderr",
          "output_type": "stream",
          "text": [
            "\n",
            "135it [05:33,  2.53s/it]\u001b[A"
          ]
        },
        {
          "name": "stdout",
          "output_type": "stream",
          "text": [
            "\tIter 10/ 50 - Loss: 0.429\n",
            "\tIter 20/ 50 - Loss: 0.403\n",
            "\tIter 30/ 50 - Loss: 0.389\n",
            "\tIter 40/ 50 - Loss: 0.381\n",
            "\tIter 50/ 50 - Loss: 0.374\n"
          ]
        },
        {
          "name": "stderr",
          "output_type": "stream",
          "text": [
            "\n",
            "136it [05:36,  2.52s/it]\u001b[A"
          ]
        },
        {
          "name": "stdout",
          "output_type": "stream",
          "text": [
            "\tIter 10/ 50 - Loss: 0.43\n",
            "\tIter 20/ 50 - Loss: 0.395\n",
            "\tIter 30/ 50 - Loss: 0.381\n",
            "\tIter 40/ 50 - Loss: 0.373\n",
            "\tIter 50/ 50 - Loss: 0.367\n"
          ]
        },
        {
          "name": "stderr",
          "output_type": "stream",
          "text": [
            "\n",
            "137it [05:38,  2.52s/it]\u001b[A"
          ]
        },
        {
          "name": "stdout",
          "output_type": "stream",
          "text": [
            "\tIter 10/ 50 - Loss: 0.443\n",
            "\tIter 20/ 50 - Loss: 0.417\n",
            "\tIter 30/ 50 - Loss: 0.403\n",
            "\tIter 40/ 50 - Loss: 0.394\n",
            "\tIter 50/ 50 - Loss: 0.388\n"
          ]
        },
        {
          "name": "stderr",
          "output_type": "stream",
          "text": [
            "\n",
            "138it [05:41,  2.52s/it]\u001b[A"
          ]
        },
        {
          "name": "stdout",
          "output_type": "stream",
          "text": [
            "\tIter 10/ 50 - Loss: 0.43\n",
            "\tIter 20/ 50 - Loss: 0.401\n",
            "\tIter 30/ 50 - Loss: 0.389\n",
            "\tIter 40/ 50 - Loss: 0.382\n",
            "\tIter 50/ 50 - Loss: 0.377\n"
          ]
        },
        {
          "name": "stderr",
          "output_type": "stream",
          "text": [
            "\n",
            "139it [05:44,  2.58s/it]\u001b[A"
          ]
        },
        {
          "name": "stdout",
          "output_type": "stream",
          "text": [
            "\tIter 10/ 50 - Loss: 0.392\n",
            "\tIter 20/ 50 - Loss: 0.379\n",
            "\tIter 30/ 50 - Loss: 0.372\n",
            "\tIter 40/ 50 - Loss: 0.367\n",
            "\tIter 50/ 50 - Loss: 0.363\n"
          ]
        },
        {
          "name": "stderr",
          "output_type": "stream",
          "text": [
            "\n",
            "140it [05:46,  2.55s/it]\u001b[A"
          ]
        },
        {
          "name": "stdout",
          "output_type": "stream",
          "text": [
            "\tIter 10/ 50 - Loss: 0.407\n",
            "\tIter 20/ 50 - Loss: 0.387\n",
            "\tIter 30/ 50 - Loss: 0.377\n",
            "\tIter 40/ 50 - Loss: 0.37\n",
            "\tIter 50/ 50 - Loss: 0.366\n"
          ]
        },
        {
          "name": "stderr",
          "output_type": "stream",
          "text": [
            "\n",
            "141it [05:49,  2.54s/it]\u001b[A"
          ]
        },
        {
          "name": "stdout",
          "output_type": "stream",
          "text": [
            "\tIter 10/ 50 - Loss: 0.439\n",
            "\tIter 20/ 50 - Loss: 0.397\n",
            "\tIter 30/ 50 - Loss: 0.381\n",
            "\tIter 40/ 50 - Loss: 0.372\n",
            "\tIter 50/ 50 - Loss: 0.365\n"
          ]
        },
        {
          "name": "stderr",
          "output_type": "stream",
          "text": [
            "\n",
            "142it [05:51,  2.53s/it]\u001b[A"
          ]
        },
        {
          "name": "stdout",
          "output_type": "stream",
          "text": [
            "\tIter 10/ 50 - Loss: 0.418\n",
            "\tIter 20/ 50 - Loss: 0.397\n",
            "\tIter 30/ 50 - Loss: 0.387\n",
            "\tIter 40/ 50 - Loss: 0.381\n",
            "\tIter 50/ 50 - Loss: 0.376\n"
          ]
        },
        {
          "name": "stderr",
          "output_type": "stream",
          "text": [
            "\n",
            "143it [05:54,  2.56s/it]\u001b[A"
          ]
        },
        {
          "name": "stdout",
          "output_type": "stream",
          "text": [
            "\tIter 10/ 50 - Loss: 0.4\n",
            "\tIter 20/ 50 - Loss: 0.375\n",
            "\tIter 30/ 50 - Loss: 0.365\n",
            "\tIter 40/ 50 - Loss: 0.359\n",
            "\tIter 50/ 50 - Loss: 0.355\n"
          ]
        },
        {
          "name": "stderr",
          "output_type": "stream",
          "text": [
            "\n",
            "144it [05:56,  2.54s/it]\u001b[A"
          ]
        },
        {
          "name": "stdout",
          "output_type": "stream",
          "text": [
            "\tIter 10/ 50 - Loss: 0.438\n",
            "\tIter 20/ 50 - Loss: 0.406\n",
            "\tIter 30/ 50 - Loss: 0.388\n",
            "\tIter 40/ 50 - Loss: 0.378\n",
            "\tIter 50/ 50 - Loss: 0.371\n"
          ]
        },
        {
          "name": "stderr",
          "output_type": "stream",
          "text": [
            "\n",
            "145it [05:59,  2.52s/it]\u001b[A"
          ]
        },
        {
          "name": "stdout",
          "output_type": "stream",
          "text": [
            "\tIter 10/ 50 - Loss: 0.448\n",
            "\tIter 20/ 50 - Loss: 0.411\n",
            "\tIter 30/ 50 - Loss: 0.393\n",
            "\tIter 40/ 50 - Loss: 0.383\n",
            "\tIter 50/ 50 - Loss: 0.377\n"
          ]
        },
        {
          "name": "stderr",
          "output_type": "stream",
          "text": [
            "\n",
            "146it [06:01,  2.57s/it]\u001b[A"
          ]
        },
        {
          "name": "stdout",
          "output_type": "stream",
          "text": [
            "\tIter 10/ 50 - Loss: 0.431\n",
            "\tIter 20/ 50 - Loss: 0.401\n",
            "\tIter 30/ 50 - Loss: 0.386\n",
            "\tIter 40/ 50 - Loss: 0.377\n",
            "\tIter 50/ 50 - Loss: 0.371\n"
          ]
        },
        {
          "name": "stderr",
          "output_type": "stream",
          "text": [
            "\n",
            "147it [06:04,  2.55s/it]\u001b[A"
          ]
        },
        {
          "name": "stdout",
          "output_type": "stream",
          "text": [
            "\tIter 10/ 50 - Loss: 0.41\n",
            "\tIter 20/ 50 - Loss: 0.384\n",
            "\tIter 30/ 50 - Loss: 0.372\n",
            "\tIter 40/ 50 - Loss: 0.365\n",
            "\tIter 50/ 50 - Loss: 0.361\n"
          ]
        },
        {
          "name": "stderr",
          "output_type": "stream",
          "text": [
            "\n",
            "148it [06:06,  2.56s/it]\u001b[A"
          ]
        },
        {
          "name": "stdout",
          "output_type": "stream",
          "text": [
            "\tIter 10/ 50 - Loss: 0.397\n",
            "\tIter 20/ 50 - Loss: 0.376\n",
            "\tIter 30/ 50 - Loss: 0.367\n",
            "\tIter 40/ 50 - Loss: 0.362\n",
            "\tIter 50/ 50 - Loss: 0.358\n"
          ]
        },
        {
          "name": "stderr",
          "output_type": "stream",
          "text": [
            "\n",
            "149it [06:09,  2.55s/it]\u001b[A"
          ]
        },
        {
          "name": "stdout",
          "output_type": "stream",
          "text": [
            "\tIter 10/ 50 - Loss: 0.395\n",
            "\tIter 20/ 50 - Loss: 0.375\n",
            "\tIter 30/ 50 - Loss: 0.366\n",
            "\tIter 40/ 50 - Loss: 0.36\n",
            "\tIter 50/ 50 - Loss: 0.357\n"
          ]
        },
        {
          "name": "stderr",
          "output_type": "stream",
          "text": [
            "\n",
            "150it [06:11,  2.54s/it]\u001b[A"
          ]
        },
        {
          "name": "stdout",
          "output_type": "stream",
          "text": [
            "\tIter 10/ 50 - Loss: 0.39\n",
            "\tIter 20/ 50 - Loss: 0.375\n",
            "\tIter 30/ 50 - Loss: 0.37\n",
            "\tIter 40/ 50 - Loss: 0.367\n",
            "\tIter 50/ 50 - Loss: 0.364\n"
          ]
        },
        {
          "name": "stderr",
          "output_type": "stream",
          "text": [
            "\n",
            "151it [06:14,  2.56s/it]\u001b[A"
          ]
        },
        {
          "name": "stdout",
          "output_type": "stream",
          "text": [
            "\tIter 10/ 50 - Loss: 0.441\n",
            "\tIter 20/ 50 - Loss: 0.397\n",
            "\tIter 30/ 50 - Loss: 0.378\n",
            "\tIter 40/ 50 - Loss: 0.368\n",
            "\tIter 50/ 50 - Loss: 0.361\n"
          ]
        },
        {
          "name": "stderr",
          "output_type": "stream",
          "text": [
            "\n",
            "152it [06:17,  2.55s/it]\u001b[A"
          ]
        },
        {
          "name": "stdout",
          "output_type": "stream",
          "text": [
            "\tIter 10/ 50 - Loss: 0.46\n",
            "\tIter 20/ 50 - Loss: 0.417\n",
            "\tIter 30/ 50 - Loss: 0.398\n",
            "\tIter 40/ 50 - Loss: 0.387\n",
            "\tIter 50/ 50 - Loss: 0.379\n"
          ]
        },
        {
          "name": "stderr",
          "output_type": "stream",
          "text": [
            "\n",
            "153it [06:19,  2.53s/it]\u001b[A"
          ]
        },
        {
          "name": "stdout",
          "output_type": "stream",
          "text": [
            "\tIter 10/ 50 - Loss: 0.408\n",
            "\tIter 20/ 50 - Loss: 0.387\n",
            "\tIter 30/ 50 - Loss: 0.376\n",
            "\tIter 40/ 50 - Loss: 0.368\n",
            "\tIter 50/ 50 - Loss: 0.362\n"
          ]
        },
        {
          "name": "stderr",
          "output_type": "stream",
          "text": [
            "\n",
            "154it [06:22,  2.58s/it]\u001b[A"
          ]
        },
        {
          "name": "stdout",
          "output_type": "stream",
          "text": [
            "\tIter 10/ 50 - Loss: 0.382\n",
            "\tIter 20/ 50 - Loss: 0.365\n",
            "\tIter 30/ 50 - Loss: 0.358\n",
            "\tIter 40/ 50 - Loss: 0.354\n",
            "\tIter 50/ 50 - Loss: 0.351\n"
          ]
        },
        {
          "name": "stderr",
          "output_type": "stream",
          "text": [
            "\n",
            "155it [06:24,  2.56s/it]\u001b[A"
          ]
        },
        {
          "name": "stdout",
          "output_type": "stream",
          "text": [
            "\tIter 10/ 50 - Loss: 0.403\n",
            "\tIter 20/ 50 - Loss: 0.384\n",
            "\tIter 30/ 50 - Loss: 0.372\n",
            "\tIter 40/ 50 - Loss: 0.365\n",
            "\tIter 50/ 50 - Loss: 0.36\n"
          ]
        },
        {
          "name": "stderr",
          "output_type": "stream",
          "text": [
            "\n",
            "156it [06:27,  2.55s/it]\u001b[A"
          ]
        },
        {
          "name": "stdout",
          "output_type": "stream",
          "text": [
            "\tIter 10/ 50 - Loss: 0.409\n",
            "\tIter 20/ 50 - Loss: 0.382\n",
            "\tIter 30/ 50 - Loss: 0.37\n",
            "\tIter 40/ 50 - Loss: 0.362\n",
            "\tIter 50/ 50 - Loss: 0.357\n"
          ]
        },
        {
          "name": "stderr",
          "output_type": "stream",
          "text": [
            "\n",
            "157it [06:29,  2.56s/it]\u001b[A"
          ]
        },
        {
          "name": "stdout",
          "output_type": "stream",
          "text": [
            "\tIter 10/ 50 - Loss: 0.443\n",
            "\tIter 20/ 50 - Loss: 0.4\n",
            "\tIter 30/ 50 - Loss: 0.38\n",
            "\tIter 40/ 50 - Loss: 0.369\n",
            "\tIter 50/ 50 - Loss: 0.362\n"
          ]
        },
        {
          "name": "stderr",
          "output_type": "stream",
          "text": [
            "\n",
            "158it [06:32,  2.55s/it]\u001b[A"
          ]
        },
        {
          "name": "stdout",
          "output_type": "stream",
          "text": [
            "\tIter 10/ 50 - Loss: 0.405\n",
            "\tIter 20/ 50 - Loss: 0.383\n",
            "\tIter 30/ 50 - Loss: 0.371\n",
            "\tIter 40/ 50 - Loss: 0.363\n",
            "\tIter 50/ 50 - Loss: 0.358\n"
          ]
        },
        {
          "name": "stderr",
          "output_type": "stream",
          "text": [
            "\n",
            "159it [06:34,  2.55s/it]\u001b[A"
          ]
        },
        {
          "name": "stdout",
          "output_type": "stream",
          "text": [
            "\tIter 10/ 50 - Loss: 0.367\n",
            "\tIter 20/ 50 - Loss: 0.357\n",
            "\tIter 30/ 50 - Loss: 0.352\n",
            "\tIter 40/ 50 - Loss: 0.349\n",
            "\tIter 50/ 50 - Loss: 0.346\n"
          ]
        },
        {
          "name": "stderr",
          "output_type": "stream",
          "text": [
            "\n",
            "160it [06:37,  2.55s/it]\u001b[A"
          ]
        },
        {
          "name": "stdout",
          "output_type": "stream",
          "text": [
            "\tIter 10/ 50 - Loss: 0.369\n",
            "\tIter 20/ 50 - Loss: 0.359\n",
            "\tIter 30/ 50 - Loss: 0.355\n",
            "\tIter 40/ 50 - Loss: 0.353\n",
            "\tIter 50/ 50 - Loss: 0.351\n"
          ]
        },
        {
          "name": "stderr",
          "output_type": "stream",
          "text": [
            "\n",
            "161it [06:40,  2.63s/it]\u001b[A"
          ]
        },
        {
          "name": "stdout",
          "output_type": "stream",
          "text": [
            "\tIter 10/ 50 - Loss: 0.404\n",
            "\tIter 20/ 50 - Loss: 0.38\n",
            "\tIter 30/ 50 - Loss: 0.369\n",
            "\tIter 40/ 50 - Loss: 0.363\n",
            "\tIter 50/ 50 - Loss: 0.358\n"
          ]
        },
        {
          "name": "stderr",
          "output_type": "stream",
          "text": [
            "\n",
            "162it [06:42,  2.62s/it]\u001b[A"
          ]
        },
        {
          "name": "stdout",
          "output_type": "stream",
          "text": [
            "\tIter 10/ 50 - Loss: 0.433\n",
            "\tIter 20/ 50 - Loss: 0.4\n",
            "\tIter 30/ 50 - Loss: 0.388\n",
            "\tIter 40/ 50 - Loss: 0.38\n",
            "\tIter 50/ 50 - Loss: 0.375\n"
          ]
        },
        {
          "name": "stderr",
          "output_type": "stream",
          "text": [
            "\n",
            "163it [06:45,  2.59s/it]\u001b[A"
          ]
        },
        {
          "name": "stdout",
          "output_type": "stream",
          "text": [
            "\tIter 10/ 50 - Loss: 0.417\n",
            "\tIter 20/ 50 - Loss: 0.388\n",
            "\tIter 30/ 50 - Loss: 0.375\n",
            "\tIter 40/ 50 - Loss: 0.366\n",
            "\tIter 50/ 50 - Loss: 0.36\n"
          ]
        },
        {
          "name": "stderr",
          "output_type": "stream",
          "text": [
            "\n",
            "164it [06:48,  2.58s/it]\u001b[A"
          ]
        },
        {
          "name": "stdout",
          "output_type": "stream",
          "text": [
            "\tIter 10/ 50 - Loss: 0.429\n",
            "\tIter 20/ 50 - Loss: 0.388\n",
            "\tIter 30/ 50 - Loss: 0.37\n",
            "\tIter 40/ 50 - Loss: 0.36\n",
            "\tIter 50/ 50 - Loss: 0.355\n"
          ]
        },
        {
          "name": "stderr",
          "output_type": "stream",
          "text": [
            "\n",
            "165it [06:50,  2.57s/it]\u001b[A"
          ]
        },
        {
          "name": "stdout",
          "output_type": "stream",
          "text": [
            "\tIter 10/ 50 - Loss: 0.437\n",
            "\tIter 20/ 50 - Loss: 0.397\n",
            "\tIter 30/ 50 - Loss: 0.381\n",
            "\tIter 40/ 50 - Loss: 0.372\n",
            "\tIter 50/ 50 - Loss: 0.365\n"
          ]
        },
        {
          "name": "stderr",
          "output_type": "stream",
          "text": [
            "\n",
            "166it [06:53,  2.56s/it]\u001b[A"
          ]
        },
        {
          "name": "stdout",
          "output_type": "stream",
          "text": [
            "\tIter 10/ 50 - Loss: 0.433\n",
            "\tIter 20/ 50 - Loss: 0.401\n",
            "\tIter 30/ 50 - Loss: 0.384\n",
            "\tIter 40/ 50 - Loss: 0.373\n",
            "\tIter 50/ 50 - Loss: 0.366\n"
          ]
        },
        {
          "name": "stderr",
          "output_type": "stream",
          "text": [
            "\n",
            "167it [06:55,  2.56s/it]\u001b[A"
          ]
        },
        {
          "name": "stdout",
          "output_type": "stream",
          "text": [
            "\tIter 10/ 50 - Loss: 0.448\n",
            "\tIter 20/ 50 - Loss: 0.408\n",
            "\tIter 30/ 50 - Loss: 0.388\n",
            "\tIter 40/ 50 - Loss: 0.376\n",
            "\tIter 50/ 50 - Loss: 0.368\n"
          ]
        },
        {
          "name": "stderr",
          "output_type": "stream",
          "text": [
            "\n",
            "168it [06:58,  2.56s/it]\u001b[A"
          ]
        },
        {
          "name": "stdout",
          "output_type": "stream",
          "text": [
            "\tIter 10/ 50 - Loss: 0.393\n",
            "\tIter 20/ 50 - Loss: 0.376\n",
            "\tIter 30/ 50 - Loss: 0.368\n",
            "\tIter 40/ 50 - Loss: 0.363\n",
            "\tIter 50/ 50 - Loss: 0.36\n"
          ]
        },
        {
          "name": "stderr",
          "output_type": "stream",
          "text": [
            "\n",
            "169it [07:00,  2.61s/it]\u001b[A"
          ]
        },
        {
          "name": "stdout",
          "output_type": "stream",
          "text": [
            "\tIter 10/ 50 - Loss: 0.387\n",
            "\tIter 20/ 50 - Loss: 0.372\n",
            "\tIter 30/ 50 - Loss: 0.363\n",
            "\tIter 40/ 50 - Loss: 0.357\n",
            "\tIter 50/ 50 - Loss: 0.353\n"
          ]
        },
        {
          "name": "stderr",
          "output_type": "stream",
          "text": [
            "\n",
            "170it [07:03,  2.60s/it]\u001b[A"
          ]
        },
        {
          "name": "stdout",
          "output_type": "stream",
          "text": [
            "\tIter 10/ 50 - Loss: 0.427\n",
            "\tIter 20/ 50 - Loss: 0.405\n",
            "\tIter 30/ 50 - Loss: 0.392\n",
            "\tIter 40/ 50 - Loss: 0.383\n",
            "\tIter 50/ 50 - Loss: 0.376\n"
          ]
        },
        {
          "name": "stderr",
          "output_type": "stream",
          "text": [
            "\n",
            "171it [07:06,  2.60s/it]\u001b[A"
          ]
        },
        {
          "name": "stdout",
          "output_type": "stream",
          "text": [
            "\tIter 10/ 50 - Loss: 0.382\n",
            "\tIter 20/ 50 - Loss: 0.372\n",
            "\tIter 30/ 50 - Loss: 0.365\n",
            "\tIter 40/ 50 - Loss: 0.361\n",
            "\tIter 50/ 50 - Loss: 0.358\n"
          ]
        },
        {
          "name": "stderr",
          "output_type": "stream",
          "text": [
            "\n",
            "172it [07:08,  2.58s/it]\u001b[A"
          ]
        },
        {
          "name": "stdout",
          "output_type": "stream",
          "text": [
            "\tIter 10/ 50 - Loss: 0.391\n",
            "\tIter 20/ 50 - Loss: 0.363\n",
            "\tIter 30/ 50 - Loss: 0.356\n",
            "\tIter 40/ 50 - Loss: 0.352\n",
            "\tIter 50/ 50 - Loss: 0.349\n"
          ]
        },
        {
          "name": "stderr",
          "output_type": "stream",
          "text": [
            "\n",
            "173it [07:11,  2.57s/it]\u001b[A"
          ]
        },
        {
          "name": "stdout",
          "output_type": "stream",
          "text": [
            "\tIter 10/ 50 - Loss: 0.364\n",
            "\tIter 20/ 50 - Loss: 0.355\n",
            "\tIter 30/ 50 - Loss: 0.349\n",
            "\tIter 40/ 50 - Loss: 0.345\n",
            "\tIter 50/ 50 - Loss: 0.343\n"
          ]
        },
        {
          "name": "stderr",
          "output_type": "stream",
          "text": [
            "\n",
            "174it [07:13,  2.57s/it]\u001b[A"
          ]
        },
        {
          "name": "stdout",
          "output_type": "stream",
          "text": [
            "\tIter 10/ 50 - Loss: 0.385\n",
            "\tIter 20/ 50 - Loss: 0.368\n",
            "\tIter 30/ 50 - Loss: 0.361\n",
            "\tIter 40/ 50 - Loss: 0.357\n",
            "\tIter 50/ 50 - Loss: 0.354\n"
          ]
        },
        {
          "name": "stderr",
          "output_type": "stream",
          "text": [
            "\n",
            "175it [07:16,  2.57s/it]\u001b[A"
          ]
        },
        {
          "name": "stdout",
          "output_type": "stream",
          "text": [
            "\tIter 10/ 50 - Loss: 0.358\n",
            "\tIter 20/ 50 - Loss: 0.347\n",
            "\tIter 30/ 50 - Loss: 0.342\n",
            "\tIter 40/ 50 - Loss: 0.339\n",
            "\tIter 50/ 50 - Loss: 0.337\n"
          ]
        },
        {
          "name": "stderr",
          "output_type": "stream",
          "text": [
            "\n",
            "176it [07:18,  2.58s/it]\u001b[A"
          ]
        },
        {
          "name": "stdout",
          "output_type": "stream",
          "text": [
            "\tIter 10/ 50 - Loss: 0.39\n",
            "\tIter 20/ 50 - Loss: 0.375\n",
            "\tIter 30/ 50 - Loss: 0.366\n",
            "\tIter 40/ 50 - Loss: 0.361\n",
            "\tIter 50/ 50 - Loss: 0.356\n"
          ]
        },
        {
          "name": "stderr",
          "output_type": "stream",
          "text": [
            "\n",
            "177it [07:21,  2.63s/it]\u001b[A"
          ]
        },
        {
          "name": "stdout",
          "output_type": "stream",
          "text": [
            "\tIter 10/ 50 - Loss: 0.385\n",
            "\tIter 20/ 50 - Loss: 0.374\n",
            "\tIter 30/ 50 - Loss: 0.368\n",
            "\tIter 40/ 50 - Loss: 0.363\n",
            "\tIter 50/ 50 - Loss: 0.361\n"
          ]
        },
        {
          "name": "stderr",
          "output_type": "stream",
          "text": [
            "\n",
            "178it [07:24,  2.61s/it]\u001b[A"
          ]
        },
        {
          "name": "stdout",
          "output_type": "stream",
          "text": [
            "\tIter 10/ 50 - Loss: 0.422\n",
            "\tIter 20/ 50 - Loss: 0.397\n",
            "\tIter 30/ 50 - Loss: 0.382\n",
            "\tIter 40/ 50 - Loss: 0.372\n",
            "\tIter 50/ 50 - Loss: 0.364\n"
          ]
        },
        {
          "name": "stderr",
          "output_type": "stream",
          "text": [
            "\n",
            "179it [07:26,  2.60s/it]\u001b[A"
          ]
        },
        {
          "name": "stdout",
          "output_type": "stream",
          "text": [
            "\tIter 10/ 50 - Loss: 0.396\n",
            "\tIter 20/ 50 - Loss: 0.366\n",
            "\tIter 30/ 50 - Loss: 0.351\n",
            "\tIter 40/ 50 - Loss: 0.343\n",
            "\tIter 50/ 50 - Loss: 0.338\n"
          ]
        },
        {
          "name": "stderr",
          "output_type": "stream",
          "text": [
            "\n",
            "180it [07:29,  2.61s/it]\u001b[A"
          ]
        },
        {
          "name": "stdout",
          "output_type": "stream",
          "text": [
            "\tIter 10/ 50 - Loss: 0.353\n",
            "\tIter 20/ 50 - Loss: 0.344\n",
            "\tIter 30/ 50 - Loss: 0.338\n",
            "\tIter 40/ 50 - Loss: 0.334\n",
            "\tIter 50/ 50 - Loss: 0.332\n"
          ]
        },
        {
          "name": "stderr",
          "output_type": "stream",
          "text": [
            "\n",
            "181it [07:32,  2.60s/it]\u001b[A"
          ]
        },
        {
          "name": "stdout",
          "output_type": "stream",
          "text": [
            "\tIter 10/ 50 - Loss: 0.363\n",
            "\tIter 20/ 50 - Loss: 0.349\n",
            "\tIter 30/ 50 - Loss: 0.341\n",
            "\tIter 40/ 50 - Loss: 0.336\n",
            "\tIter 50/ 50 - Loss: 0.333\n"
          ]
        },
        {
          "name": "stderr",
          "output_type": "stream",
          "text": [
            "\n",
            "182it [07:34,  2.59s/it]\u001b[A"
          ]
        },
        {
          "name": "stdout",
          "output_type": "stream",
          "text": [
            "\tIter 10/ 50 - Loss: 0.4\n",
            "\tIter 20/ 50 - Loss: 0.377\n",
            "\tIter 30/ 50 - Loss: 0.364\n",
            "\tIter 40/ 50 - Loss: 0.356\n",
            "\tIter 50/ 50 - Loss: 0.35\n"
          ]
        },
        {
          "name": "stderr",
          "output_type": "stream",
          "text": [
            "\n",
            "183it [07:37,  2.59s/it]\u001b[A"
          ]
        },
        {
          "name": "stdout",
          "output_type": "stream",
          "text": [
            "\tIter 10/ 50 - Loss: 0.369\n",
            "\tIter 20/ 50 - Loss: 0.355\n",
            "\tIter 30/ 50 - Loss: 0.349\n",
            "\tIter 40/ 50 - Loss: 0.345\n",
            "\tIter 50/ 50 - Loss: 0.343\n"
          ]
        },
        {
          "name": "stderr",
          "output_type": "stream",
          "text": [
            "\n",
            "184it [07:39,  2.59s/it]\u001b[A"
          ]
        },
        {
          "name": "stdout",
          "output_type": "stream",
          "text": [
            "\tIter 10/ 50 - Loss: 0.412\n",
            "\tIter 20/ 50 - Loss: 0.384\n",
            "\tIter 30/ 50 - Loss: 0.369\n",
            "\tIter 40/ 50 - Loss: 0.36\n",
            "\tIter 50/ 50 - Loss: 0.354\n"
          ]
        },
        {
          "name": "stderr",
          "output_type": "stream",
          "text": [
            "\n",
            "185it [07:42,  2.67s/it]\u001b[A"
          ]
        },
        {
          "name": "stdout",
          "output_type": "stream",
          "text": [
            "\tIter 10/ 50 - Loss: 0.377\n",
            "\tIter 20/ 50 - Loss: 0.355\n",
            "\tIter 30/ 50 - Loss: 0.345\n",
            "\tIter 40/ 50 - Loss: 0.34\n",
            "\tIter 50/ 50 - Loss: 0.337\n"
          ]
        },
        {
          "name": "stderr",
          "output_type": "stream",
          "text": [
            "\n",
            "186it [07:45,  2.64s/it]\u001b[A"
          ]
        },
        {
          "name": "stdout",
          "output_type": "stream",
          "text": [
            "\tIter 10/ 50 - Loss: 0.36\n",
            "\tIter 20/ 50 - Loss: 0.348\n",
            "\tIter 30/ 50 - Loss: 0.342\n",
            "\tIter 40/ 50 - Loss: 0.338\n",
            "\tIter 50/ 50 - Loss: 0.334\n"
          ]
        },
        {
          "name": "stderr",
          "output_type": "stream",
          "text": [
            "\n",
            "187it [07:47,  2.61s/it]\u001b[A"
          ]
        },
        {
          "name": "stdout",
          "output_type": "stream",
          "text": [
            "\tIter 10/ 50 - Loss: 0.378\n",
            "\tIter 20/ 50 - Loss: 0.367\n",
            "\tIter 30/ 50 - Loss: 0.361\n",
            "\tIter 40/ 50 - Loss: 0.356\n",
            "\tIter 50/ 50 - Loss: 0.353\n"
          ]
        },
        {
          "name": "stderr",
          "output_type": "stream",
          "text": [
            "\n",
            "188it [07:50,  2.60s/it]\u001b[A"
          ]
        },
        {
          "name": "stdout",
          "output_type": "stream",
          "text": [
            "\tIter 10/ 50 - Loss: 0.406\n",
            "\tIter 20/ 50 - Loss: 0.377\n",
            "\tIter 30/ 50 - Loss: 0.364\n",
            "\tIter 40/ 50 - Loss: 0.356\n",
            "\tIter 50/ 50 - Loss: 0.351\n"
          ]
        },
        {
          "name": "stderr",
          "output_type": "stream",
          "text": [
            "\n",
            "189it [07:52,  2.61s/it]\u001b[A"
          ]
        },
        {
          "name": "stdout",
          "output_type": "stream",
          "text": [
            "\tIter 10/ 50 - Loss: 0.39\n",
            "\tIter 20/ 50 - Loss: 0.361\n",
            "\tIter 30/ 50 - Loss: 0.346\n",
            "\tIter 40/ 50 - Loss: 0.336\n",
            "\tIter 50/ 50 - Loss: 0.33\n"
          ]
        },
        {
          "name": "stderr",
          "output_type": "stream",
          "text": [
            "\n",
            "190it [07:55,  2.62s/it]\u001b[A"
          ]
        },
        {
          "name": "stdout",
          "output_type": "stream",
          "text": [
            "\tIter 10/ 50 - Loss: 0.391\n",
            "\tIter 20/ 50 - Loss: 0.368\n",
            "\tIter 30/ 50 - Loss: 0.354\n",
            "\tIter 40/ 50 - Loss: 0.345\n",
            "\tIter 50/ 50 - Loss: 0.338\n"
          ]
        },
        {
          "name": "stderr",
          "output_type": "stream",
          "text": [
            "\n",
            "191it [07:58,  2.62s/it]\u001b[A"
          ]
        },
        {
          "name": "stdout",
          "output_type": "stream",
          "text": [
            "\tIter 10/ 50 - Loss: 0.351\n",
            "\tIter 20/ 50 - Loss: 0.342\n",
            "\tIter 30/ 50 - Loss: 0.335\n",
            "\tIter 40/ 50 - Loss: 0.331\n",
            "\tIter 50/ 50 - Loss: 0.327\n"
          ]
        },
        {
          "name": "stderr",
          "output_type": "stream",
          "text": [
            "\n",
            "192it [08:01,  2.68s/it]\u001b[A"
          ]
        },
        {
          "name": "stdout",
          "output_type": "stream",
          "text": [
            "\tIter 10/ 50 - Loss: 0.334\n",
            "\tIter 20/ 50 - Loss: 0.327\n",
            "\tIter 30/ 50 - Loss: 0.323\n",
            "\tIter 40/ 50 - Loss: 0.32\n",
            "\tIter 50/ 50 - Loss: 0.318\n"
          ]
        },
        {
          "name": "stderr",
          "output_type": "stream",
          "text": [
            "\n",
            "193it [08:03,  2.66s/it]\u001b[A"
          ]
        },
        {
          "name": "stdout",
          "output_type": "stream",
          "text": [
            "\tIter 10/ 50 - Loss: 0.383\n",
            "\tIter 20/ 50 - Loss: 0.36\n",
            "\tIter 30/ 50 - Loss: 0.348\n",
            "\tIter 40/ 50 - Loss: 0.34\n",
            "\tIter 50/ 50 - Loss: 0.335\n"
          ]
        },
        {
          "name": "stderr",
          "output_type": "stream",
          "text": [
            "\n",
            "194it [08:06,  2.69s/it]\u001b[A"
          ]
        },
        {
          "name": "stdout",
          "output_type": "stream",
          "text": [
            "\tIter 10/ 50 - Loss: 0.362\n",
            "\tIter 20/ 50 - Loss: 0.35\n",
            "\tIter 30/ 50 - Loss: 0.343\n",
            "\tIter 40/ 50 - Loss: 0.338\n",
            "\tIter 50/ 50 - Loss: 0.334\n"
          ]
        },
        {
          "name": "stderr",
          "output_type": "stream",
          "text": [
            "\n",
            "195it [08:09,  2.68s/it]\u001b[A"
          ]
        },
        {
          "name": "stdout",
          "output_type": "stream",
          "text": [
            "\tIter 10/ 50 - Loss: 0.361\n",
            "\tIter 20/ 50 - Loss: 0.346\n",
            "\tIter 30/ 50 - Loss: 0.338\n",
            "\tIter 40/ 50 - Loss: 0.334\n",
            "\tIter 50/ 50 - Loss: 0.33\n"
          ]
        },
        {
          "name": "stderr",
          "output_type": "stream",
          "text": [
            "\n",
            "196it [08:11,  2.66s/it]\u001b[A"
          ]
        },
        {
          "name": "stdout",
          "output_type": "stream",
          "text": [
            "\tIter 10/ 50 - Loss: 0.376\n",
            "\tIter 20/ 50 - Loss: 0.352\n",
            "\tIter 30/ 50 - Loss: 0.342\n",
            "\tIter 40/ 50 - Loss: 0.336\n",
            "\tIter 50/ 50 - Loss: 0.331\n"
          ]
        },
        {
          "name": "stderr",
          "output_type": "stream",
          "text": [
            "\n",
            "197it [08:14,  2.68s/it]\u001b[A"
          ]
        },
        {
          "name": "stdout",
          "output_type": "stream",
          "text": [
            "\tIter 10/ 50 - Loss: 0.372\n",
            "\tIter 20/ 50 - Loss: 0.348\n",
            "\tIter 30/ 50 - Loss: 0.336\n",
            "\tIter 40/ 50 - Loss: 0.328\n",
            "\tIter 50/ 50 - Loss: 0.323\n"
          ]
        },
        {
          "name": "stderr",
          "output_type": "stream",
          "text": [
            "\n",
            "198it [08:17,  2.69s/it]\u001b[A"
          ]
        },
        {
          "name": "stdout",
          "output_type": "stream",
          "text": [
            "\tIter 10/ 50 - Loss: 0.345\n",
            "\tIter 20/ 50 - Loss: 0.33\n",
            "\tIter 30/ 50 - Loss: 0.324\n",
            "\tIter 40/ 50 - Loss: 0.32\n",
            "\tIter 50/ 50 - Loss: 0.316\n"
          ]
        },
        {
          "name": "stderr",
          "output_type": "stream",
          "text": [
            "\n",
            "199it [08:19,  2.68s/it]\u001b[A"
          ]
        },
        {
          "name": "stdout",
          "output_type": "stream",
          "text": [
            "\tIter 10/ 50 - Loss: 0.394\n",
            "\tIter 20/ 50 - Loss: 0.363\n",
            "\tIter 30/ 50 - Loss: 0.346\n",
            "\tIter 40/ 50 - Loss: 0.336\n",
            "\tIter 50/ 50 - Loss: 0.329\n"
          ]
        },
        {
          "name": "stderr",
          "output_type": "stream",
          "text": [
            "\n",
            "200it [08:22,  2.72s/it]\u001b[A"
          ]
        },
        {
          "name": "stdout",
          "output_type": "stream",
          "text": [
            "\tIter 10/ 50 - Loss: 0.348\n",
            "\tIter 20/ 50 - Loss: 0.341\n",
            "\tIter 30/ 50 - Loss: 0.336\n",
            "\tIter 40/ 50 - Loss: 0.332\n",
            "\tIter 50/ 50 - Loss: 0.329\n"
          ]
        },
        {
          "name": "stderr",
          "output_type": "stream",
          "text": [
            "\n",
            "201it [08:25,  2.69s/it]\u001b[A"
          ]
        },
        {
          "name": "stdout",
          "output_type": "stream",
          "text": [
            "\tIter 10/ 50 - Loss: 0.351\n",
            "\tIter 20/ 50 - Loss: 0.328\n",
            "\tIter 30/ 50 - Loss: 0.321\n",
            "\tIter 40/ 50 - Loss: 0.317\n",
            "\tIter 50/ 50 - Loss: 0.313\n"
          ]
        },
        {
          "name": "stderr",
          "output_type": "stream",
          "text": [
            "\n",
            "202it [08:27,  2.67s/it]\u001b[A"
          ]
        },
        {
          "name": "stdout",
          "output_type": "stream",
          "text": [
            "\tIter 10/ 50 - Loss: 0.383\n",
            "\tIter 20/ 50 - Loss: 0.352\n",
            "\tIter 30/ 50 - Loss: 0.338\n",
            "\tIter 40/ 50 - Loss: 0.329\n",
            "\tIter 50/ 50 - Loss: 0.322\n"
          ]
        },
        {
          "name": "stderr",
          "output_type": "stream",
          "text": [
            "\n",
            "203it [08:30,  2.68s/it]\u001b[A"
          ]
        },
        {
          "name": "stdout",
          "output_type": "stream",
          "text": [
            "\tIter 10/ 50 - Loss: 0.347\n",
            "\tIter 20/ 50 - Loss: 0.336\n",
            "\tIter 30/ 50 - Loss: 0.33\n",
            "\tIter 40/ 50 - Loss: 0.326\n",
            "\tIter 50/ 50 - Loss: 0.323\n"
          ]
        },
        {
          "name": "stderr",
          "output_type": "stream",
          "text": [
            "\n",
            "204it [08:33,  2.67s/it]\u001b[A"
          ]
        },
        {
          "name": "stdout",
          "output_type": "stream",
          "text": [
            "\tIter 10/ 50 - Loss: 0.323\n",
            "\tIter 20/ 50 - Loss: 0.318\n",
            "\tIter 30/ 50 - Loss: 0.315\n",
            "\tIter 40/ 50 - Loss: 0.312\n",
            "\tIter 50/ 50 - Loss: 0.31\n"
          ]
        },
        {
          "name": "stderr",
          "output_type": "stream",
          "text": [
            "\n",
            "205it [08:35,  2.67s/it]\u001b[A"
          ]
        },
        {
          "name": "stdout",
          "output_type": "stream",
          "text": [
            "\tIter 10/ 50 - Loss: 0.361\n",
            "\tIter 20/ 50 - Loss: 0.343\n",
            "\tIter 30/ 50 - Loss: 0.332\n",
            "\tIter 40/ 50 - Loss: 0.325\n",
            "\tIter 50/ 50 - Loss: 0.32\n"
          ]
        },
        {
          "name": "stderr",
          "output_type": "stream",
          "text": [
            "\n",
            "206it [08:38,  2.66s/it]\u001b[A"
          ]
        },
        {
          "name": "stdout",
          "output_type": "stream",
          "text": [
            "\tIter 10/ 50 - Loss: 0.364\n",
            "\tIter 20/ 50 - Loss: 0.347\n",
            "\tIter 30/ 50 - Loss: 0.337\n",
            "\tIter 40/ 50 - Loss: 0.33\n",
            "\tIter 50/ 50 - Loss: 0.326\n"
          ]
        },
        {
          "name": "stderr",
          "output_type": "stream",
          "text": [
            "\n",
            "207it [08:41,  2.74s/it]\u001b[A"
          ]
        },
        {
          "name": "stdout",
          "output_type": "stream",
          "text": [
            "\tIter 10/ 50 - Loss: 0.341\n",
            "\tIter 20/ 50 - Loss: 0.328\n",
            "\tIter 30/ 50 - Loss: 0.319\n",
            "\tIter 40/ 50 - Loss: 0.313\n",
            "\tIter 50/ 50 - Loss: 0.309\n"
          ]
        },
        {
          "name": "stderr",
          "output_type": "stream",
          "text": [
            "\n",
            "208it [08:44,  2.72s/it]\u001b[A"
          ]
        },
        {
          "name": "stdout",
          "output_type": "stream",
          "text": [
            "\tIter 10/ 50 - Loss: 0.357\n",
            "\tIter 20/ 50 - Loss: 0.332\n",
            "\tIter 30/ 50 - Loss: 0.32\n",
            "\tIter 40/ 50 - Loss: 0.312\n",
            "\tIter 50/ 50 - Loss: 0.307\n"
          ]
        },
        {
          "name": "stderr",
          "output_type": "stream",
          "text": [
            "\n",
            "209it [08:46,  2.69s/it]\u001b[A"
          ]
        },
        {
          "name": "stdout",
          "output_type": "stream",
          "text": [
            "\tIter 10/ 50 - Loss: 0.353\n",
            "\tIter 20/ 50 - Loss: 0.336\n",
            "\tIter 30/ 50 - Loss: 0.326\n",
            "\tIter 40/ 50 - Loss: 0.319\n",
            "\tIter 50/ 50 - Loss: 0.314\n"
          ]
        },
        {
          "name": "stderr",
          "output_type": "stream",
          "text": [
            "\n",
            "210it [08:49,  2.68s/it]\u001b[A"
          ]
        },
        {
          "name": "stdout",
          "output_type": "stream",
          "text": [
            "\tIter 10/ 50 - Loss: 0.359\n",
            "\tIter 20/ 50 - Loss: 0.341\n",
            "\tIter 30/ 50 - Loss: 0.331\n",
            "\tIter 40/ 50 - Loss: 0.324\n",
            "\tIter 50/ 50 - Loss: 0.319\n"
          ]
        },
        {
          "name": "stderr",
          "output_type": "stream",
          "text": [
            "\n",
            "211it [08:52,  2.68s/it]\u001b[A"
          ]
        },
        {
          "name": "stdout",
          "output_type": "stream",
          "text": [
            "\tIter 10/ 50 - Loss: 0.341\n",
            "\tIter 20/ 50 - Loss: 0.327\n",
            "\tIter 30/ 50 - Loss: 0.32\n",
            "\tIter 40/ 50 - Loss: 0.315\n",
            "\tIter 50/ 50 - Loss: 0.312\n"
          ]
        },
        {
          "name": "stderr",
          "output_type": "stream",
          "text": [
            "\n",
            "212it [08:54,  2.70s/it]\u001b[A"
          ]
        },
        {
          "name": "stdout",
          "output_type": "stream",
          "text": [
            "\tIter 10/ 50 - Loss: 0.335\n",
            "\tIter 20/ 50 - Loss: 0.327\n",
            "\tIter 30/ 50 - Loss: 0.321\n",
            "\tIter 40/ 50 - Loss: 0.317\n",
            "\tIter 50/ 50 - Loss: 0.315\n"
          ]
        },
        {
          "name": "stderr",
          "output_type": "stream",
          "text": [
            "\n",
            "213it [08:57,  2.69s/it]\u001b[A"
          ]
        },
        {
          "name": "stdout",
          "output_type": "stream",
          "text": [
            "\tIter 10/ 50 - Loss: 0.357\n",
            "\tIter 20/ 50 - Loss: 0.336\n",
            "\tIter 30/ 50 - Loss: 0.325\n",
            "\tIter 40/ 50 - Loss: 0.319\n",
            "\tIter 50/ 50 - Loss: 0.315\n"
          ]
        },
        {
          "name": "stderr",
          "output_type": "stream",
          "text": [
            "\n",
            "214it [09:00,  2.74s/it]\u001b[A"
          ]
        },
        {
          "name": "stdout",
          "output_type": "stream",
          "text": [
            "\tIter 10/ 50 - Loss: 0.341\n",
            "\tIter 20/ 50 - Loss: 0.331\n",
            "\tIter 30/ 50 - Loss: 0.325\n",
            "\tIter 40/ 50 - Loss: 0.321\n",
            "\tIter 50/ 50 - Loss: 0.318\n"
          ]
        },
        {
          "name": "stderr",
          "output_type": "stream",
          "text": [
            "\n",
            "215it [09:02,  2.71s/it]\u001b[A"
          ]
        },
        {
          "name": "stdout",
          "output_type": "stream",
          "text": [
            "\tIter 10/ 50 - Loss: 0.322\n",
            "\tIter 20/ 50 - Loss: 0.317\n",
            "\tIter 30/ 50 - Loss: 0.314\n",
            "\tIter 40/ 50 - Loss: 0.312\n",
            "\tIter 50/ 50 - Loss: 0.31\n"
          ]
        },
        {
          "name": "stderr",
          "output_type": "stream",
          "text": [
            "\n",
            "216it [09:05,  2.73s/it]\u001b[A"
          ]
        },
        {
          "name": "stdout",
          "output_type": "stream",
          "text": [
            "\tIter 10/ 50 - Loss: 0.37\n",
            "\tIter 20/ 50 - Loss: 0.342\n",
            "\tIter 30/ 50 - Loss: 0.328\n",
            "\tIter 40/ 50 - Loss: 0.321\n",
            "\tIter 50/ 50 - Loss: 0.316\n"
          ]
        },
        {
          "name": "stderr",
          "output_type": "stream",
          "text": [
            "\n",
            "217it [09:08,  2.71s/it]\u001b[A"
          ]
        },
        {
          "name": "stdout",
          "output_type": "stream",
          "text": [
            "\tIter 10/ 50 - Loss: 0.33\n",
            "\tIter 20/ 50 - Loss: 0.322\n",
            "\tIter 30/ 50 - Loss: 0.317\n",
            "\tIter 40/ 50 - Loss: 0.313\n",
            "\tIter 50/ 50 - Loss: 0.311\n"
          ]
        },
        {
          "name": "stderr",
          "output_type": "stream",
          "text": [
            "\n",
            "218it [09:11,  2.69s/it]\u001b[A"
          ]
        },
        {
          "name": "stdout",
          "output_type": "stream",
          "text": [
            "\tIter 10/ 50 - Loss: 0.357\n",
            "\tIter 20/ 50 - Loss: 0.347\n",
            "\tIter 30/ 50 - Loss: 0.34\n",
            "\tIter 40/ 50 - Loss: 0.335\n",
            "\tIter 50/ 50 - Loss: 0.331\n"
          ]
        },
        {
          "name": "stderr",
          "output_type": "stream",
          "text": [
            "\n",
            "219it [09:13,  2.68s/it]\u001b[A"
          ]
        },
        {
          "name": "stdout",
          "output_type": "stream",
          "text": [
            "\tIter 10/ 50 - Loss: 0.342\n",
            "\tIter 20/ 50 - Loss: 0.329\n",
            "\tIter 30/ 50 - Loss: 0.325\n",
            "\tIter 40/ 50 - Loss: 0.322\n",
            "\tIter 50/ 50 - Loss: 0.319\n"
          ]
        },
        {
          "name": "stderr",
          "output_type": "stream",
          "text": [
            "\n",
            "220it [09:16,  2.68s/it]\u001b[A"
          ]
        },
        {
          "name": "stdout",
          "output_type": "stream",
          "text": [
            "\tIter 10/ 50 - Loss: 0.365\n",
            "\tIter 20/ 50 - Loss: 0.356\n",
            "\tIter 30/ 50 - Loss: 0.351\n",
            "\tIter 40/ 50 - Loss: 0.347\n",
            "\tIter 50/ 50 - Loss: 0.345\n"
          ]
        },
        {
          "name": "stderr",
          "output_type": "stream",
          "text": [
            "\n",
            "221it [09:19,  2.68s/it]\u001b[A"
          ]
        },
        {
          "name": "stdout",
          "output_type": "stream",
          "text": [
            "\tIter 10/ 50 - Loss: 0.37\n",
            "\tIter 20/ 50 - Loss: 0.341\n",
            "\tIter 30/ 50 - Loss: 0.329\n",
            "\tIter 40/ 50 - Loss: 0.322\n",
            "\tIter 50/ 50 - Loss: 0.318\n"
          ]
        },
        {
          "name": "stderr",
          "output_type": "stream",
          "text": [
            "\n",
            "222it [09:21,  2.73s/it]\u001b[A"
          ]
        },
        {
          "name": "stdout",
          "output_type": "stream",
          "text": [
            "\tIter 10/ 50 - Loss: 0.344\n",
            "\tIter 20/ 50 - Loss: 0.322\n",
            "\tIter 30/ 50 - Loss: 0.312\n",
            "\tIter 40/ 50 - Loss: 0.306\n",
            "\tIter 50/ 50 - Loss: 0.302\n"
          ]
        },
        {
          "name": "stderr",
          "output_type": "stream",
          "text": [
            "\n",
            "223it [09:24,  2.72s/it]\u001b[A"
          ]
        },
        {
          "name": "stdout",
          "output_type": "stream",
          "text": [
            "\tIter 10/ 50 - Loss: 0.349\n",
            "\tIter 20/ 50 - Loss: 0.324\n",
            "\tIter 30/ 50 - Loss: 0.312\n",
            "\tIter 40/ 50 - Loss: 0.306\n",
            "\tIter 50/ 50 - Loss: 0.301\n"
          ]
        },
        {
          "name": "stderr",
          "output_type": "stream",
          "text": [
            "\n",
            "224it [09:27,  2.71s/it]\u001b[A"
          ]
        },
        {
          "name": "stdout",
          "output_type": "stream",
          "text": [
            "\tIter 10/ 50 - Loss: 0.373\n",
            "\tIter 20/ 50 - Loss: 0.352\n",
            "\tIter 30/ 50 - Loss: 0.34\n",
            "\tIter 40/ 50 - Loss: 0.332\n",
            "\tIter 50/ 50 - Loss: 0.326\n"
          ]
        },
        {
          "name": "stderr",
          "output_type": "stream",
          "text": [
            "\n",
            "225it [09:30,  2.73s/it]\u001b[A"
          ]
        },
        {
          "name": "stdout",
          "output_type": "stream",
          "text": [
            "\tIter 10/ 50 - Loss: 0.331\n",
            "\tIter 20/ 50 - Loss: 0.32\n",
            "\tIter 30/ 50 - Loss: 0.313\n",
            "\tIter 40/ 50 - Loss: 0.309\n",
            "\tIter 50/ 50 - Loss: 0.306\n"
          ]
        },
        {
          "name": "stderr",
          "output_type": "stream",
          "text": [
            "\n",
            "226it [09:32,  2.72s/it]\u001b[A"
          ]
        },
        {
          "name": "stdout",
          "output_type": "stream",
          "text": [
            "\tIter 10/ 50 - Loss: 0.359\n",
            "\tIter 20/ 50 - Loss: 0.338\n",
            "\tIter 30/ 50 - Loss: 0.327\n",
            "\tIter 40/ 50 - Loss: 0.319\n",
            "\tIter 50/ 50 - Loss: 0.313\n"
          ]
        },
        {
          "name": "stderr",
          "output_type": "stream",
          "text": [
            "\n",
            "227it [09:35,  2.70s/it]\u001b[A"
          ]
        },
        {
          "name": "stdout",
          "output_type": "stream",
          "text": [
            "\tIter 10/ 50 - Loss: 0.362\n",
            "\tIter 20/ 50 - Loss: 0.336\n",
            "\tIter 30/ 50 - Loss: 0.324\n",
            "\tIter 40/ 50 - Loss: 0.317\n",
            "\tIter 50/ 50 - Loss: 0.312\n"
          ]
        },
        {
          "name": "stderr",
          "output_type": "stream",
          "text": [
            "\n",
            "228it [09:38,  2.70s/it]\u001b[A"
          ]
        },
        {
          "name": "stdout",
          "output_type": "stream",
          "text": [
            "\tIter 10/ 50 - Loss: 0.298\n",
            "\tIter 20/ 50 - Loss: 0.294\n",
            "\tIter 30/ 50 - Loss: 0.292\n",
            "\tIter 40/ 50 - Loss: 0.291\n",
            "\tIter 50/ 50 - Loss: 0.29\n"
          ]
        },
        {
          "name": "stderr",
          "output_type": "stream",
          "text": [
            "\n",
            "229it [09:40,  2.70s/it]\u001b[A"
          ]
        },
        {
          "name": "stdout",
          "output_type": "stream",
          "text": [
            "\tIter 10/ 50 - Loss: 0.341\n",
            "\tIter 20/ 50 - Loss: 0.316\n",
            "\tIter 30/ 50 - Loss: 0.307\n",
            "\tIter 40/ 50 - Loss: 0.301\n",
            "\tIter 50/ 50 - Loss: 0.298\n"
          ]
        },
        {
          "name": "stderr",
          "output_type": "stream",
          "text": [
            "\n",
            "230it [09:43,  2.77s/it]\u001b[A"
          ]
        },
        {
          "name": "stdout",
          "output_type": "stream",
          "text": [
            "\tIter 10/ 50 - Loss: 0.354\n",
            "\tIter 20/ 50 - Loss: 0.329\n",
            "\tIter 30/ 50 - Loss: 0.323\n",
            "\tIter 40/ 50 - Loss: 0.319\n",
            "\tIter 50/ 50 - Loss: 0.316\n"
          ]
        },
        {
          "name": "stderr",
          "output_type": "stream",
          "text": [
            "\n",
            "231it [09:46,  2.75s/it]\u001b[A"
          ]
        },
        {
          "name": "stdout",
          "output_type": "stream",
          "text": [
            "\tIter 10/ 50 - Loss: 0.316\n",
            "\tIter 20/ 50 - Loss: 0.306\n",
            "\tIter 30/ 50 - Loss: 0.301\n",
            "\tIter 40/ 50 - Loss: 0.298\n",
            "\tIter 50/ 50 - Loss: 0.296\n"
          ]
        },
        {
          "name": "stderr",
          "output_type": "stream",
          "text": [
            "\n",
            "232it [09:49,  2.74s/it]\u001b[A"
          ]
        },
        {
          "name": "stdout",
          "output_type": "stream",
          "text": [
            "\tIter 10/ 50 - Loss: 0.316\n",
            "\tIter 20/ 50 - Loss: 0.309\n",
            "\tIter 30/ 50 - Loss: 0.305\n",
            "\tIter 40/ 50 - Loss: 0.302\n",
            "\tIter 50/ 50 - Loss: 0.3\n"
          ]
        },
        {
          "name": "stderr",
          "output_type": "stream",
          "text": [
            "\n",
            "233it [09:51,  2.73s/it]\u001b[A"
          ]
        },
        {
          "name": "stdout",
          "output_type": "stream",
          "text": [
            "\tIter 10/ 50 - Loss: 0.335\n",
            "\tIter 20/ 50 - Loss: 0.32\n",
            "\tIter 30/ 50 - Loss: 0.314\n",
            "\tIter 40/ 50 - Loss: 0.31\n",
            "\tIter 50/ 50 - Loss: 0.307\n"
          ]
        },
        {
          "name": "stderr",
          "output_type": "stream",
          "text": [
            "\n",
            "234it [09:54,  2.74s/it]\u001b[A"
          ]
        },
        {
          "name": "stdout",
          "output_type": "stream",
          "text": [
            "\tIter 10/ 50 - Loss: 0.343\n",
            "\tIter 20/ 50 - Loss: 0.327\n",
            "\tIter 30/ 50 - Loss: 0.318\n",
            "\tIter 40/ 50 - Loss: 0.313\n",
            "\tIter 50/ 50 - Loss: 0.309\n"
          ]
        },
        {
          "name": "stderr",
          "output_type": "stream",
          "text": [
            "\n",
            "235it [09:57,  2.72s/it]\u001b[A"
          ]
        },
        {
          "name": "stdout",
          "output_type": "stream",
          "text": [
            "\tIter 10/ 50 - Loss: 0.32\n",
            "\tIter 20/ 50 - Loss: 0.312\n",
            "\tIter 30/ 50 - Loss: 0.307\n",
            "\tIter 40/ 50 - Loss: 0.303\n",
            "\tIter 50/ 50 - Loss: 0.3\n"
          ]
        },
        {
          "name": "stderr",
          "output_type": "stream",
          "text": [
            "\n",
            "236it [10:00,  2.72s/it]\u001b[A"
          ]
        },
        {
          "name": "stdout",
          "output_type": "stream",
          "text": [
            "\tIter 10/ 50 - Loss: 0.318\n",
            "\tIter 20/ 50 - Loss: 0.311\n",
            "\tIter 30/ 50 - Loss: 0.307\n",
            "\tIter 40/ 50 - Loss: 0.304\n",
            "\tIter 50/ 50 - Loss: 0.302\n"
          ]
        },
        {
          "name": "stderr",
          "output_type": "stream",
          "text": [
            "\n",
            "237it [10:02,  2.72s/it]\u001b[A"
          ]
        },
        {
          "name": "stdout",
          "output_type": "stream",
          "text": [
            "\tIter 10/ 50 - Loss: 0.337\n",
            "\tIter 20/ 50 - Loss: 0.323\n",
            "\tIter 30/ 50 - Loss: 0.316\n",
            "\tIter 40/ 50 - Loss: 0.312\n",
            "\tIter 50/ 50 - Loss: 0.308\n"
          ]
        },
        {
          "name": "stderr",
          "output_type": "stream",
          "text": [
            "\n",
            "238it [10:05,  2.79s/it]\u001b[A"
          ]
        },
        {
          "name": "stdout",
          "output_type": "stream",
          "text": [
            "\tIter 10/ 50 - Loss: 0.377\n",
            "\tIter 20/ 50 - Loss: 0.358\n",
            "\tIter 30/ 50 - Loss: 0.346\n",
            "\tIter 40/ 50 - Loss: 0.338\n",
            "\tIter 50/ 50 - Loss: 0.332\n"
          ]
        },
        {
          "name": "stderr",
          "output_type": "stream",
          "text": [
            "\n",
            "239it [10:08,  2.77s/it]\u001b[A"
          ]
        },
        {
          "name": "stdout",
          "output_type": "stream",
          "text": [
            "\tIter 10/ 50 - Loss: 0.316\n",
            "\tIter 20/ 50 - Loss: 0.309\n",
            "\tIter 30/ 50 - Loss: 0.304\n",
            "\tIter 40/ 50 - Loss: 0.301\n",
            "\tIter 50/ 50 - Loss: 0.299\n"
          ]
        },
        {
          "name": "stderr",
          "output_type": "stream",
          "text": [
            "\n",
            "240it [10:11,  2.75s/it]\u001b[A"
          ]
        },
        {
          "name": "stdout",
          "output_type": "stream",
          "text": [
            "\tIter 10/ 50 - Loss: 0.316\n",
            "\tIter 20/ 50 - Loss: 0.305\n",
            "\tIter 30/ 50 - Loss: 0.3\n",
            "\tIter 40/ 50 - Loss: 0.296\n",
            "\tIter 50/ 50 - Loss: 0.293\n"
          ]
        },
        {
          "name": "stderr",
          "output_type": "stream",
          "text": [
            "\n",
            "241it [10:13,  2.76s/it]\u001b[A"
          ]
        },
        {
          "name": "stdout",
          "output_type": "stream",
          "text": [
            "\tIter 10/ 50 - Loss: 0.355\n",
            "\tIter 20/ 50 - Loss: 0.333\n",
            "\tIter 30/ 50 - Loss: 0.322\n",
            "\tIter 40/ 50 - Loss: 0.314\n",
            "\tIter 50/ 50 - Loss: 0.309\n"
          ]
        },
        {
          "name": "stderr",
          "output_type": "stream",
          "text": [
            "\n",
            "242it [10:16,  2.76s/it]\u001b[A"
          ]
        },
        {
          "name": "stdout",
          "output_type": "stream",
          "text": [
            "\tIter 10/ 50 - Loss: 0.333\n",
            "\tIter 20/ 50 - Loss: 0.323\n",
            "\tIter 30/ 50 - Loss: 0.317\n",
            "\tIter 40/ 50 - Loss: 0.314\n",
            "\tIter 50/ 50 - Loss: 0.311\n"
          ]
        },
        {
          "name": "stderr",
          "output_type": "stream",
          "text": [
            "\n",
            "243it [10:19,  2.75s/it]\u001b[A"
          ]
        },
        {
          "name": "stdout",
          "output_type": "stream",
          "text": [
            "\tIter 10/ 50 - Loss: 0.308\n",
            "\tIter 20/ 50 - Loss: 0.298\n",
            "\tIter 30/ 50 - Loss: 0.293\n",
            "\tIter 40/ 50 - Loss: 0.29\n",
            "\tIter 50/ 50 - Loss: 0.288\n"
          ]
        },
        {
          "name": "stderr",
          "output_type": "stream",
          "text": [
            "\n",
            "244it [10:22,  2.74s/it]\u001b[A"
          ]
        },
        {
          "name": "stdout",
          "output_type": "stream",
          "text": [
            "\tIter 10/ 50 - Loss: 0.32\n",
            "\tIter 20/ 50 - Loss: 0.311\n",
            "\tIter 30/ 50 - Loss: 0.305\n",
            "\tIter 40/ 50 - Loss: 0.302\n",
            "\tIter 50/ 50 - Loss: 0.299\n"
          ]
        },
        {
          "name": "stderr",
          "output_type": "stream",
          "text": [
            "\n",
            "245it [10:24,  2.78s/it]\u001b[A"
          ]
        },
        {
          "name": "stdout",
          "output_type": "stream",
          "text": [
            "\tIter 10/ 50 - Loss: 0.319\n",
            "\tIter 20/ 50 - Loss: 0.309\n",
            "\tIter 30/ 50 - Loss: 0.305\n",
            "\tIter 40/ 50 - Loss: 0.302\n",
            "\tIter 50/ 50 - Loss: 0.3\n"
          ]
        },
        {
          "name": "stderr",
          "output_type": "stream",
          "text": [
            "\n",
            "246it [10:27,  2.76s/it]\u001b[A"
          ]
        },
        {
          "name": "stdout",
          "output_type": "stream",
          "text": [
            "\tIter 10/ 50 - Loss: 0.325\n",
            "\tIter 20/ 50 - Loss: 0.315\n",
            "\tIter 30/ 50 - Loss: 0.309\n",
            "\tIter 40/ 50 - Loss: 0.305\n",
            "\tIter 50/ 50 - Loss: 0.302\n"
          ]
        },
        {
          "name": "stderr",
          "output_type": "stream",
          "text": [
            "\n",
            "247it [10:30,  2.77s/it]\u001b[A"
          ]
        },
        {
          "name": "stdout",
          "output_type": "stream",
          "text": [
            "\tIter 10/ 50 - Loss: 0.307\n",
            "\tIter 20/ 50 - Loss: 0.302\n",
            "\tIter 30/ 50 - Loss: 0.298\n",
            "\tIter 40/ 50 - Loss: 0.296\n",
            "\tIter 50/ 50 - Loss: 0.294\n"
          ]
        },
        {
          "name": "stderr",
          "output_type": "stream",
          "text": [
            "\n",
            "248it [10:33,  2.77s/it]\u001b[A"
          ]
        },
        {
          "name": "stdout",
          "output_type": "stream",
          "text": [
            "\tIter 10/ 50 - Loss: 0.326\n",
            "\tIter 20/ 50 - Loss: 0.316\n",
            "\tIter 30/ 50 - Loss: 0.309\n",
            "\tIter 40/ 50 - Loss: 0.304\n",
            "\tIter 50/ 50 - Loss: 0.301\n"
          ]
        },
        {
          "name": "stderr",
          "output_type": "stream",
          "text": [
            "\n",
            "249it [10:35,  2.76s/it]\u001b[A"
          ]
        },
        {
          "name": "stdout",
          "output_type": "stream",
          "text": [
            "\tIter 10/ 50 - Loss: 0.312\n",
            "\tIter 20/ 50 - Loss: 0.306\n",
            "\tIter 30/ 50 - Loss: 0.303\n",
            "\tIter 40/ 50 - Loss: 0.3\n",
            "\tIter 50/ 50 - Loss: 0.298\n"
          ]
        },
        {
          "name": "stderr",
          "output_type": "stream",
          "text": [
            "\n",
            "250it [10:38,  2.76s/it]\u001b[A"
          ]
        },
        {
          "name": "stdout",
          "output_type": "stream",
          "text": [
            "\tIter 10/ 50 - Loss: 0.334\n",
            "\tIter 20/ 50 - Loss: 0.319\n",
            "\tIter 30/ 50 - Loss: 0.311\n",
            "\tIter 40/ 50 - Loss: 0.305\n",
            "\tIter 50/ 50 - Loss: 0.302\n"
          ]
        },
        {
          "name": "stderr",
          "output_type": "stream",
          "text": [
            "\n",
            "251it [10:41,  2.77s/it]\u001b[A"
          ]
        },
        {
          "name": "stdout",
          "output_type": "stream",
          "text": [
            "\tIter 10/ 50 - Loss: 0.332\n",
            "\tIter 20/ 50 - Loss: 0.322\n",
            "\tIter 30/ 50 - Loss: 0.317\n",
            "\tIter 40/ 50 - Loss: 0.313\n",
            "\tIter 50/ 50 - Loss: 0.31\n"
          ]
        },
        {
          "name": "stderr",
          "output_type": "stream",
          "text": [
            "\n",
            "252it [10:44,  2.77s/it]\u001b[A"
          ]
        },
        {
          "name": "stdout",
          "output_type": "stream",
          "text": [
            "\tIter 10/ 50 - Loss: 0.342\n",
            "\tIter 20/ 50 - Loss: 0.326\n",
            "\tIter 30/ 50 - Loss: 0.318\n",
            "\tIter 40/ 50 - Loss: 0.313\n",
            "\tIter 50/ 50 - Loss: 0.309\n"
          ]
        },
        {
          "name": "stderr",
          "output_type": "stream",
          "text": [
            "\n",
            "253it [10:47,  2.82s/it]\u001b[A"
          ]
        },
        {
          "name": "stdout",
          "output_type": "stream",
          "text": [
            "\tIter 10/ 50 - Loss: 0.296\n",
            "\tIter 20/ 50 - Loss: 0.294\n",
            "\tIter 30/ 50 - Loss: 0.292\n",
            "\tIter 40/ 50 - Loss: 0.291\n",
            "\tIter 50/ 50 - Loss: 0.29\n"
          ]
        },
        {
          "name": "stderr",
          "output_type": "stream",
          "text": [
            "\n",
            "254it [10:49,  2.78s/it]\u001b[A"
          ]
        },
        {
          "name": "stdout",
          "output_type": "stream",
          "text": [
            "\tIter 10/ 50 - Loss: 0.323\n",
            "\tIter 20/ 50 - Loss: 0.31\n",
            "\tIter 30/ 50 - Loss: 0.304\n",
            "\tIter 40/ 50 - Loss: 0.301\n",
            "\tIter 50/ 50 - Loss: 0.298\n"
          ]
        },
        {
          "name": "stderr",
          "output_type": "stream",
          "text": [
            "\n",
            "255it [10:52,  2.77s/it]\u001b[A"
          ]
        },
        {
          "name": "stdout",
          "output_type": "stream",
          "text": [
            "\tIter 10/ 50 - Loss: 0.334\n",
            "\tIter 20/ 50 - Loss: 0.32\n",
            "\tIter 30/ 50 - Loss: 0.312\n",
            "\tIter 40/ 50 - Loss: 0.307\n",
            "\tIter 50/ 50 - Loss: 0.303\n"
          ]
        },
        {
          "name": "stderr",
          "output_type": "stream",
          "text": [
            "\n",
            "256it [10:55,  2.78s/it]\u001b[A"
          ]
        },
        {
          "name": "stdout",
          "output_type": "stream",
          "text": [
            "\tIter 10/ 50 - Loss: 0.332\n",
            "\tIter 20/ 50 - Loss: 0.32\n",
            "\tIter 30/ 50 - Loss: 0.312\n",
            "\tIter 40/ 50 - Loss: 0.307\n",
            "\tIter 50/ 50 - Loss: 0.303\n"
          ]
        },
        {
          "name": "stderr",
          "output_type": "stream",
          "text": [
            "\n",
            "257it [10:58,  2.77s/it]\u001b[A"
          ]
        },
        {
          "name": "stdout",
          "output_type": "stream",
          "text": [
            "\tIter 10/ 50 - Loss: 0.327\n",
            "\tIter 20/ 50 - Loss: 0.313\n",
            "\tIter 30/ 50 - Loss: 0.306\n",
            "\tIter 40/ 50 - Loss: 0.302\n",
            "\tIter 50/ 50 - Loss: 0.299\n"
          ]
        },
        {
          "name": "stderr",
          "output_type": "stream",
          "text": [
            "\n",
            "258it [11:00,  2.76s/it]\u001b[A"
          ]
        },
        {
          "name": "stdout",
          "output_type": "stream",
          "text": [
            "\tIter 10/ 50 - Loss: 0.345\n",
            "\tIter 20/ 50 - Loss: 0.325\n",
            "\tIter 30/ 50 - Loss: 0.314\n",
            "\tIter 40/ 50 - Loss: 0.307\n",
            "\tIter 50/ 50 - Loss: 0.303\n"
          ]
        },
        {
          "name": "stderr",
          "output_type": "stream",
          "text": [
            "\n",
            "259it [11:03,  2.76s/it]\u001b[A"
          ]
        },
        {
          "name": "stdout",
          "output_type": "stream",
          "text": [
            "\tIter 10/ 50 - Loss: 0.349\n",
            "\tIter 20/ 50 - Loss: 0.328\n",
            "\tIter 30/ 50 - Loss: 0.316\n",
            "\tIter 40/ 50 - Loss: 0.308\n",
            "\tIter 50/ 50 - Loss: 0.303\n"
          ]
        },
        {
          "name": "stderr",
          "output_type": "stream",
          "text": [
            "\n",
            "260it [11:06,  2.83s/it]\u001b[A"
          ]
        },
        {
          "name": "stdout",
          "output_type": "stream",
          "text": [
            "\tIter 10/ 50 - Loss: 0.309\n",
            "\tIter 20/ 50 - Loss: 0.299\n",
            "\tIter 30/ 50 - Loss: 0.294\n",
            "\tIter 40/ 50 - Loss: 0.291\n",
            "\tIter 50/ 50 - Loss: 0.289\n"
          ]
        },
        {
          "name": "stderr",
          "output_type": "stream",
          "text": [
            "\n",
            "261it [11:09,  2.81s/it]\u001b[A"
          ]
        },
        {
          "name": "stdout",
          "output_type": "stream",
          "text": [
            "\tIter 10/ 50 - Loss: 0.333\n",
            "\tIter 20/ 50 - Loss: 0.322\n",
            "\tIter 30/ 50 - Loss: 0.314\n",
            "\tIter 40/ 50 - Loss: 0.309\n",
            "\tIter 50/ 50 - Loss: 0.305\n"
          ]
        },
        {
          "name": "stderr",
          "output_type": "stream",
          "text": [
            "\n",
            "262it [11:12,  2.79s/it]\u001b[A"
          ]
        },
        {
          "name": "stdout",
          "output_type": "stream",
          "text": [
            "\tIter 10/ 50 - Loss: 0.328\n",
            "\tIter 20/ 50 - Loss: 0.319\n",
            "\tIter 30/ 50 - Loss: 0.314\n",
            "\tIter 40/ 50 - Loss: 0.31\n",
            "\tIter 50/ 50 - Loss: 0.307\n"
          ]
        },
        {
          "name": "stderr",
          "output_type": "stream",
          "text": [
            "\n",
            "263it [11:14,  2.77s/it]\u001b[A"
          ]
        },
        {
          "name": "stdout",
          "output_type": "stream",
          "text": [
            "\tIter 10/ 50 - Loss: 0.328\n",
            "\tIter 20/ 50 - Loss: 0.318\n",
            "\tIter 30/ 50 - Loss: 0.311\n",
            "\tIter 40/ 50 - Loss: 0.306\n",
            "\tIter 50/ 50 - Loss: 0.302\n"
          ]
        },
        {
          "name": "stderr",
          "output_type": "stream",
          "text": [
            "\n",
            "264it [11:17,  2.77s/it]\u001b[A"
          ]
        },
        {
          "name": "stdout",
          "output_type": "stream",
          "text": [
            "\tIter 10/ 50 - Loss: 0.327\n",
            "\tIter 20/ 50 - Loss: 0.319\n",
            "\tIter 30/ 50 - Loss: 0.315\n",
            "\tIter 40/ 50 - Loss: 0.312\n",
            "\tIter 50/ 50 - Loss: 0.31\n"
          ]
        },
        {
          "name": "stderr",
          "output_type": "stream",
          "text": [
            "\n",
            "265it [11:20,  2.77s/it]\u001b[A"
          ]
        },
        {
          "name": "stdout",
          "output_type": "stream",
          "text": [
            "\tIter 10/ 50 - Loss: 0.325\n",
            "\tIter 20/ 50 - Loss: 0.317\n",
            "\tIter 30/ 50 - Loss: 0.312\n",
            "\tIter 40/ 50 - Loss: 0.308\n",
            "\tIter 50/ 50 - Loss: 0.306\n"
          ]
        },
        {
          "name": "stderr",
          "output_type": "stream",
          "text": [
            "\n",
            "266it [11:23,  2.77s/it]\u001b[A"
          ]
        },
        {
          "name": "stdout",
          "output_type": "stream",
          "text": [
            "\tIter 10/ 50 - Loss: 0.316\n",
            "\tIter 20/ 50 - Loss: 0.309\n",
            "\tIter 30/ 50 - Loss: 0.305\n",
            "\tIter 40/ 50 - Loss: 0.302\n",
            "\tIter 50/ 50 - Loss: 0.3\n"
          ]
        },
        {
          "name": "stderr",
          "output_type": "stream",
          "text": [
            "\n",
            "267it [11:25,  2.76s/it]\u001b[A"
          ]
        },
        {
          "name": "stdout",
          "output_type": "stream",
          "text": [
            "\tIter 10/ 50 - Loss: 0.344\n",
            "\tIter 20/ 50 - Loss: 0.331\n",
            "\tIter 30/ 50 - Loss: 0.324\n",
            "\tIter 40/ 50 - Loss: 0.319\n",
            "\tIter 50/ 50 - Loss: 0.316\n"
          ]
        },
        {
          "name": "stderr",
          "output_type": "stream",
          "text": [
            "\n",
            "268it [11:29,  2.84s/it]\u001b[A"
          ]
        },
        {
          "name": "stdout",
          "output_type": "stream",
          "text": [
            "\tIter 10/ 50 - Loss: 0.325\n",
            "\tIter 20/ 50 - Loss: 0.311\n",
            "\tIter 30/ 50 - Loss: 0.304\n",
            "\tIter 40/ 50 - Loss: 0.301\n",
            "\tIter 50/ 50 - Loss: 0.299\n"
          ]
        },
        {
          "name": "stderr",
          "output_type": "stream",
          "text": [
            "\n",
            "269it [11:31,  2.83s/it]\u001b[A"
          ]
        },
        {
          "name": "stdout",
          "output_type": "stream",
          "text": [
            "\tIter 10/ 50 - Loss: 0.332\n",
            "\tIter 20/ 50 - Loss: 0.323\n",
            "\tIter 30/ 50 - Loss: 0.319\n",
            "\tIter 40/ 50 - Loss: 0.315\n",
            "\tIter 50/ 50 - Loss: 0.312\n"
          ]
        },
        {
          "name": "stderr",
          "output_type": "stream",
          "text": [
            "\n",
            "270it [11:34,  2.81s/it]\u001b[A"
          ]
        },
        {
          "name": "stdout",
          "output_type": "stream",
          "text": [
            "\tIter 10/ 50 - Loss: 0.334\n",
            "\tIter 20/ 50 - Loss: 0.321\n",
            "\tIter 30/ 50 - Loss: 0.314\n",
            "\tIter 40/ 50 - Loss: 0.309\n",
            "\tIter 50/ 50 - Loss: 0.306\n"
          ]
        },
        {
          "name": "stderr",
          "output_type": "stream",
          "text": [
            "\n",
            "271it [11:37,  2.81s/it]\u001b[A"
          ]
        },
        {
          "name": "stdout",
          "output_type": "stream",
          "text": [
            "\tIter 10/ 50 - Loss: 0.313\n",
            "\tIter 20/ 50 - Loss: 0.304\n",
            "\tIter 30/ 50 - Loss: 0.3\n",
            "\tIter 40/ 50 - Loss: 0.296\n",
            "\tIter 50/ 50 - Loss: 0.294\n"
          ]
        },
        {
          "name": "stderr",
          "output_type": "stream",
          "text": [
            "\n",
            "272it [11:40,  2.81s/it]\u001b[A"
          ]
        },
        {
          "name": "stdout",
          "output_type": "stream",
          "text": [
            "\tIter 10/ 50 - Loss: 0.327\n",
            "\tIter 20/ 50 - Loss: 0.314\n",
            "\tIter 30/ 50 - Loss: 0.308\n",
            "\tIter 40/ 50 - Loss: 0.305\n",
            "\tIter 50/ 50 - Loss: 0.302\n"
          ]
        },
        {
          "name": "stderr",
          "output_type": "stream",
          "text": [
            "\n",
            "273it [11:43,  2.84s/it]\u001b[A"
          ]
        },
        {
          "name": "stdout",
          "output_type": "stream",
          "text": [
            "\tIter 10/ 50 - Loss: 0.329\n",
            "\tIter 20/ 50 - Loss: 0.315\n",
            "\tIter 30/ 50 - Loss: 0.311\n",
            "\tIter 40/ 50 - Loss: 0.308\n",
            "\tIter 50/ 50 - Loss: 0.305\n"
          ]
        },
        {
          "name": "stderr",
          "output_type": "stream",
          "text": [
            "\n",
            "274it [11:45,  2.82s/it]\u001b[A"
          ]
        },
        {
          "name": "stdout",
          "output_type": "stream",
          "text": [
            "\tIter 10/ 50 - Loss: 0.327\n",
            "\tIter 20/ 50 - Loss: 0.32\n",
            "\tIter 30/ 50 - Loss: 0.315\n",
            "\tIter 40/ 50 - Loss: 0.312\n",
            "\tIter 50/ 50 - Loss: 0.309\n"
          ]
        },
        {
          "name": "stderr",
          "output_type": "stream",
          "text": [
            "\n",
            "275it [11:48,  2.87s/it]\u001b[A"
          ]
        },
        {
          "name": "stdout",
          "output_type": "stream",
          "text": [
            "\tIter 10/ 50 - Loss: 0.335\n",
            "\tIter 20/ 50 - Loss: 0.326\n",
            "\tIter 30/ 50 - Loss: 0.321\n",
            "\tIter 40/ 50 - Loss: 0.319\n",
            "\tIter 50/ 50 - Loss: 0.317\n"
          ]
        },
        {
          "name": "stderr",
          "output_type": "stream",
          "text": [
            "\n",
            "276it [11:51,  2.85s/it]\u001b[A"
          ]
        },
        {
          "name": "stdout",
          "output_type": "stream",
          "text": [
            "\tIter 10/ 50 - Loss: 0.342\n",
            "\tIter 20/ 50 - Loss: 0.327\n",
            "\tIter 30/ 50 - Loss: 0.318\n",
            "\tIter 40/ 50 - Loss: 0.313\n",
            "\tIter 50/ 50 - Loss: 0.309\n"
          ]
        },
        {
          "name": "stderr",
          "output_type": "stream",
          "text": [
            "\n",
            "277it [11:54,  2.88s/it]\u001b[A"
          ]
        },
        {
          "name": "stdout",
          "output_type": "stream",
          "text": [
            "\tIter 10/ 50 - Loss: 0.31\n",
            "\tIter 20/ 50 - Loss: 0.305\n",
            "\tIter 30/ 50 - Loss: 0.302\n",
            "\tIter 40/ 50 - Loss: 0.301\n",
            "\tIter 50/ 50 - Loss: 0.299\n"
          ]
        },
        {
          "name": "stderr",
          "output_type": "stream",
          "text": [
            "\n",
            "278it [11:57,  2.86s/it]\u001b[A"
          ]
        },
        {
          "name": "stdout",
          "output_type": "stream",
          "text": [
            "\tIter 10/ 50 - Loss: 0.348\n",
            "\tIter 20/ 50 - Loss: 0.33\n",
            "\tIter 30/ 50 - Loss: 0.324\n",
            "\tIter 40/ 50 - Loss: 0.32\n",
            "\tIter 50/ 50 - Loss: 0.317\n"
          ]
        },
        {
          "name": "stderr",
          "output_type": "stream",
          "text": [
            "\n",
            "279it [12:00,  2.84s/it]\u001b[A"
          ]
        },
        {
          "name": "stdout",
          "output_type": "stream",
          "text": [
            "\tIter 10/ 50 - Loss: 0.344\n",
            "\tIter 20/ 50 - Loss: 0.33\n",
            "\tIter 30/ 50 - Loss: 0.326\n",
            "\tIter 40/ 50 - Loss: 0.324\n",
            "\tIter 50/ 50 - Loss: 0.321\n"
          ]
        },
        {
          "name": "stderr",
          "output_type": "stream",
          "text": [
            "\n",
            "280it [12:03,  2.84s/it]\u001b[A"
          ]
        },
        {
          "name": "stdout",
          "output_type": "stream",
          "text": [
            "\tIter 10/ 50 - Loss: 0.333\n",
            "\tIter 20/ 50 - Loss: 0.324\n",
            "\tIter 30/ 50 - Loss: 0.319\n",
            "\tIter 40/ 50 - Loss: 0.315\n",
            "\tIter 50/ 50 - Loss: 0.312\n"
          ]
        },
        {
          "name": "stderr",
          "output_type": "stream",
          "text": [
            "\n",
            "281it [12:05,  2.85s/it]\u001b[A"
          ]
        },
        {
          "name": "stdout",
          "output_type": "stream",
          "text": [
            "\tIter 10/ 50 - Loss: 0.325\n",
            "\tIter 20/ 50 - Loss: 0.314\n",
            "\tIter 30/ 50 - Loss: 0.309\n",
            "\tIter 40/ 50 - Loss: 0.305\n",
            "\tIter 50/ 50 - Loss: 0.303\n"
          ]
        },
        {
          "name": "stderr",
          "output_type": "stream",
          "text": [
            "\n",
            "282it [12:08,  2.91s/it]\u001b[A"
          ]
        },
        {
          "name": "stdout",
          "output_type": "stream",
          "text": [
            "\tIter 10/ 50 - Loss: 0.351\n",
            "\tIter 20/ 50 - Loss: 0.332\n",
            "\tIter 30/ 50 - Loss: 0.324\n",
            "\tIter 40/ 50 - Loss: 0.319\n",
            "\tIter 50/ 50 - Loss: 0.315\n"
          ]
        },
        {
          "name": "stderr",
          "output_type": "stream",
          "text": [
            "\n",
            "283it [12:11,  2.89s/it]\u001b[A"
          ]
        },
        {
          "name": "stdout",
          "output_type": "stream",
          "text": [
            "\tIter 10/ 50 - Loss: 0.325\n",
            "\tIter 20/ 50 - Loss: 0.318\n",
            "\tIter 30/ 50 - Loss: 0.313\n",
            "\tIter 40/ 50 - Loss: 0.31\n",
            "\tIter 50/ 50 - Loss: 0.307\n"
          ]
        },
        {
          "name": "stderr",
          "output_type": "stream",
          "text": [
            "\n",
            "284it [12:14,  2.89s/it]\u001b[A"
          ]
        },
        {
          "name": "stdout",
          "output_type": "stream",
          "text": [
            "\tIter 10/ 50 - Loss: 0.345\n",
            "\tIter 20/ 50 - Loss: 0.338\n",
            "\tIter 30/ 50 - Loss: 0.334\n",
            "\tIter 40/ 50 - Loss: 0.331\n",
            "\tIter 50/ 50 - Loss: 0.328\n"
          ]
        },
        {
          "name": "stderr",
          "output_type": "stream",
          "text": [
            "\n",
            "285it [12:17,  2.91s/it]\u001b[A"
          ]
        },
        {
          "name": "stdout",
          "output_type": "stream",
          "text": [
            "\tIter 10/ 50 - Loss: 0.346\n",
            "\tIter 20/ 50 - Loss: 0.334\n",
            "\tIter 30/ 50 - Loss: 0.328\n",
            "\tIter 40/ 50 - Loss: 0.323\n",
            "\tIter 50/ 50 - Loss: 0.32\n"
          ]
        },
        {
          "name": "stderr",
          "output_type": "stream",
          "text": [
            "\n",
            "286it [12:20,  2.89s/it]\u001b[A"
          ]
        },
        {
          "name": "stdout",
          "output_type": "stream",
          "text": [
            "\tIter 10/ 50 - Loss: 0.331\n",
            "\tIter 20/ 50 - Loss: 0.324\n",
            "\tIter 30/ 50 - Loss: 0.319\n",
            "\tIter 40/ 50 - Loss: 0.316\n",
            "\tIter 50/ 50 - Loss: 0.314\n"
          ]
        },
        {
          "name": "stderr",
          "output_type": "stream",
          "text": [
            "\n",
            "287it [12:23,  2.86s/it]\u001b[A"
          ]
        },
        {
          "name": "stdout",
          "output_type": "stream",
          "text": [
            "\tIter 10/ 50 - Loss: 0.34\n",
            "\tIter 20/ 50 - Loss: 0.326\n",
            "\tIter 30/ 50 - Loss: 0.318\n",
            "\tIter 40/ 50 - Loss: 0.312\n",
            "\tIter 50/ 50 - Loss: 0.308\n"
          ]
        },
        {
          "name": "stderr",
          "output_type": "stream",
          "text": [
            "\n",
            "288it [12:26,  2.86s/it]\u001b[A"
          ]
        },
        {
          "name": "stdout",
          "output_type": "stream",
          "text": [
            "\tIter 10/ 50 - Loss: 0.334\n",
            "\tIter 20/ 50 - Loss: 0.328\n",
            "\tIter 30/ 50 - Loss: 0.324\n",
            "\tIter 40/ 50 - Loss: 0.322\n",
            "\tIter 50/ 50 - Loss: 0.32\n"
          ]
        },
        {
          "name": "stderr",
          "output_type": "stream",
          "text": [
            "\n",
            "289it [12:29,  2.93s/it]\u001b[A"
          ]
        },
        {
          "name": "stdout",
          "output_type": "stream",
          "text": [
            "\tIter 10/ 50 - Loss: 0.332\n",
            "\tIter 20/ 50 - Loss: 0.324\n",
            "\tIter 30/ 50 - Loss: 0.318\n",
            "\tIter 40/ 50 - Loss: 0.315\n",
            "\tIter 50/ 50 - Loss: 0.312\n"
          ]
        },
        {
          "name": "stderr",
          "output_type": "stream",
          "text": [
            "\n",
            "290it [12:32,  2.91s/it]\u001b[A"
          ]
        },
        {
          "name": "stdout",
          "output_type": "stream",
          "text": [
            "\tIter 10/ 50 - Loss: 0.333\n",
            "\tIter 20/ 50 - Loss: 0.325\n",
            "\tIter 30/ 50 - Loss: 0.32\n",
            "\tIter 40/ 50 - Loss: 0.318\n",
            "\tIter 50/ 50 - Loss: 0.316\n"
          ]
        },
        {
          "name": "stderr",
          "output_type": "stream",
          "text": [
            "\n",
            "291it [12:34,  2.89s/it]\u001b[A"
          ]
        },
        {
          "name": "stdout",
          "output_type": "stream",
          "text": [
            "\tIter 10/ 50 - Loss: 0.318\n",
            "\tIter 20/ 50 - Loss: 0.314\n",
            "\tIter 30/ 50 - Loss: 0.311\n",
            "\tIter 40/ 50 - Loss: 0.309\n",
            "\tIter 50/ 50 - Loss: 0.308\n"
          ]
        },
        {
          "name": "stderr",
          "output_type": "stream",
          "text": [
            "\n",
            "292it [12:37,  2.87s/it]\u001b[A"
          ]
        },
        {
          "name": "stdout",
          "output_type": "stream",
          "text": [
            "\tIter 10/ 50 - Loss: 0.337\n",
            "\tIter 20/ 50 - Loss: 0.325\n",
            "\tIter 30/ 50 - Loss: 0.319\n",
            "\tIter 40/ 50 - Loss: 0.315\n",
            "\tIter 50/ 50 - Loss: 0.313\n"
          ]
        },
        {
          "name": "stderr",
          "output_type": "stream",
          "text": [
            "\n",
            "293it [12:40,  2.89s/it]\u001b[A"
          ]
        },
        {
          "name": "stdout",
          "output_type": "stream",
          "text": [
            "\tIter 10/ 50 - Loss: 0.351\n",
            "\tIter 20/ 50 - Loss: 0.338\n",
            "\tIter 30/ 50 - Loss: 0.331\n",
            "\tIter 40/ 50 - Loss: 0.326\n",
            "\tIter 50/ 50 - Loss: 0.322\n"
          ]
        },
        {
          "name": "stderr",
          "output_type": "stream",
          "text": [
            "\n",
            "294it [12:43,  2.89s/it]\u001b[A"
          ]
        },
        {
          "name": "stdout",
          "output_type": "stream",
          "text": [
            "\tIter 10/ 50 - Loss: 0.326\n",
            "\tIter 20/ 50 - Loss: 0.321\n",
            "\tIter 30/ 50 - Loss: 0.317\n",
            "\tIter 40/ 50 - Loss: 0.314\n",
            "\tIter 50/ 50 - Loss: 0.313\n"
          ]
        },
        {
          "name": "stderr",
          "output_type": "stream",
          "text": [
            "\n",
            "295it [12:46,  2.90s/it]\u001b[A"
          ]
        },
        {
          "name": "stdout",
          "output_type": "stream",
          "text": [
            "\tIter 10/ 50 - Loss: 0.336\n",
            "\tIter 20/ 50 - Loss: 0.329\n",
            "\tIter 30/ 50 - Loss: 0.324\n",
            "\tIter 40/ 50 - Loss: 0.32\n",
            "\tIter 50/ 50 - Loss: 0.318\n"
          ]
        },
        {
          "name": "stderr",
          "output_type": "stream",
          "text": [
            "\n",
            "296it [12:49,  2.89s/it]\u001b[A"
          ]
        },
        {
          "name": "stdout",
          "output_type": "stream",
          "text": [
            "\tIter 10/ 50 - Loss: 0.337\n",
            "\tIter 20/ 50 - Loss: 0.327\n",
            "\tIter 30/ 50 - Loss: 0.321\n",
            "\tIter 40/ 50 - Loss: 0.317\n",
            "\tIter 50/ 50 - Loss: 0.314\n"
          ]
        },
        {
          "name": "stderr",
          "output_type": "stream",
          "text": [
            "\n",
            "297it [12:52,  2.94s/it]\u001b[A"
          ]
        },
        {
          "name": "stdout",
          "output_type": "stream",
          "text": [
            "\tIter 10/ 50 - Loss: 0.328\n",
            "\tIter 20/ 50 - Loss: 0.319\n",
            "\tIter 30/ 50 - Loss: 0.316\n",
            "\tIter 40/ 50 - Loss: 0.314\n",
            "\tIter 50/ 50 - Loss: 0.313\n"
          ]
        },
        {
          "name": "stderr",
          "output_type": "stream",
          "text": [
            "\n",
            "298it [12:55,  2.93s/it]\u001b[A"
          ]
        },
        {
          "name": "stdout",
          "output_type": "stream",
          "text": [
            "\tIter 10/ 50 - Loss: 0.325\n",
            "\tIter 20/ 50 - Loss: 0.319\n",
            "\tIter 30/ 50 - Loss: 0.315\n",
            "\tIter 40/ 50 - Loss: 0.313\n",
            "\tIter 50/ 50 - Loss: 0.311\n"
          ]
        },
        {
          "name": "stderr",
          "output_type": "stream",
          "text": [
            "\n",
            "299it [12:58,  2.91s/it]\u001b[A"
          ]
        },
        {
          "name": "stdout",
          "output_type": "stream",
          "text": [
            "\tIter 10/ 50 - Loss: 0.338\n",
            "\tIter 20/ 50 - Loss: 0.328\n",
            "\tIter 30/ 50 - Loss: 0.322\n",
            "\tIter 40/ 50 - Loss: 0.318\n",
            "\tIter 50/ 50 - Loss: 0.316\n"
          ]
        },
        {
          "name": "stderr",
          "output_type": "stream",
          "text": [
            "\n",
            "300it [13:01,  2.90s/it]\u001b[A"
          ]
        },
        {
          "name": "stdout",
          "output_type": "stream",
          "text": [
            "\tIter 10/ 50 - Loss: 0.334\n",
            "\tIter 20/ 50 - Loss: 0.324\n",
            "\tIter 30/ 50 - Loss: 0.32\n",
            "\tIter 40/ 50 - Loss: 0.317\n",
            "\tIter 50/ 50 - Loss: 0.315\n"
          ]
        },
        {
          "name": "stderr",
          "output_type": "stream",
          "text": [
            "\n",
            "301it [13:04,  2.91s/it]\u001b[A"
          ]
        },
        {
          "name": "stdout",
          "output_type": "stream",
          "text": [
            "\tIter 10/ 50 - Loss: 0.344\n",
            "\tIter 20/ 50 - Loss: 0.337\n",
            "\tIter 30/ 50 - Loss: 0.332\n",
            "\tIter 40/ 50 - Loss: 0.329\n",
            "\tIter 50/ 50 - Loss: 0.326\n"
          ]
        },
        {
          "name": "stderr",
          "output_type": "stream",
          "text": [
            "\n",
            "302it [13:06,  2.91s/it]\u001b[A"
          ]
        },
        {
          "name": "stdout",
          "output_type": "stream",
          "text": [
            "\tIter 10/ 50 - Loss: 0.335\n",
            "\tIter 20/ 50 - Loss: 0.325\n",
            "\tIter 30/ 50 - Loss: 0.32\n",
            "\tIter 40/ 50 - Loss: 0.317\n",
            "\tIter 50/ 50 - Loss: 0.315\n"
          ]
        },
        {
          "name": "stderr",
          "output_type": "stream",
          "text": [
            "\n",
            "303it [13:10,  2.96s/it]\u001b[A"
          ]
        },
        {
          "name": "stdout",
          "output_type": "stream",
          "text": [
            "\tIter 10/ 50 - Loss: 0.32\n",
            "\tIter 20/ 50 - Loss: 0.317\n",
            "\tIter 30/ 50 - Loss: 0.314\n",
            "\tIter 40/ 50 - Loss: 0.312\n",
            "\tIter 50/ 50 - Loss: 0.311\n"
          ]
        },
        {
          "name": "stderr",
          "output_type": "stream",
          "text": [
            "\n",
            "304it [13:12,  2.95s/it]\u001b[A"
          ]
        },
        {
          "name": "stdout",
          "output_type": "stream",
          "text": [
            "\tIter 10/ 50 - Loss: 0.327\n",
            "\tIter 20/ 50 - Loss: 0.319\n",
            "\tIter 30/ 50 - Loss: 0.315\n",
            "\tIter 40/ 50 - Loss: 0.313\n",
            "\tIter 50/ 50 - Loss: 0.311\n"
          ]
        },
        {
          "name": "stderr",
          "output_type": "stream",
          "text": [
            "\n",
            "305it [13:15,  2.94s/it]\u001b[A"
          ]
        },
        {
          "name": "stdout",
          "output_type": "stream",
          "text": [
            "\tIter 10/ 50 - Loss: 0.336\n",
            "\tIter 20/ 50 - Loss: 0.329\n",
            "\tIter 30/ 50 - Loss: 0.324\n",
            "\tIter 40/ 50 - Loss: 0.32\n",
            "\tIter 50/ 50 - Loss: 0.317\n"
          ]
        },
        {
          "name": "stderr",
          "output_type": "stream",
          "text": [
            "\n",
            "306it [13:18,  2.93s/it]\u001b[A"
          ]
        },
        {
          "name": "stdout",
          "output_type": "stream",
          "text": [
            "\tIter 10/ 50 - Loss: 0.33\n",
            "\tIter 20/ 50 - Loss: 0.324\n",
            "\tIter 30/ 50 - Loss: 0.32\n",
            "\tIter 40/ 50 - Loss: 0.317\n",
            "\tIter 50/ 50 - Loss: 0.315\n"
          ]
        },
        {
          "name": "stderr",
          "output_type": "stream",
          "text": [
            "\n",
            "307it [13:21,  2.92s/it]\u001b[A"
          ]
        },
        {
          "name": "stdout",
          "output_type": "stream",
          "text": [
            "\tIter 10/ 50 - Loss: 0.335\n",
            "\tIter 20/ 50 - Loss: 0.325\n",
            "\tIter 30/ 50 - Loss: 0.32\n",
            "\tIter 40/ 50 - Loss: 0.316\n",
            "\tIter 50/ 50 - Loss: 0.314\n"
          ]
        },
        {
          "name": "stderr",
          "output_type": "stream",
          "text": [
            "\n",
            "308it [13:24,  2.91s/it]\u001b[A"
          ]
        },
        {
          "name": "stdout",
          "output_type": "stream",
          "text": [
            "\tIter 10/ 50 - Loss: 0.332\n",
            "\tIter 20/ 50 - Loss: 0.328\n",
            "\tIter 30/ 50 - Loss: 0.324\n",
            "\tIter 40/ 50 - Loss: 0.322\n",
            "\tIter 50/ 50 - Loss: 0.32\n"
          ]
        },
        {
          "name": "stderr",
          "output_type": "stream",
          "text": [
            "\n",
            "309it [13:27,  2.92s/it]\u001b[A"
          ]
        },
        {
          "name": "stdout",
          "output_type": "stream",
          "text": [
            "\tIter 10/ 50 - Loss: 0.337\n",
            "\tIter 20/ 50 - Loss: 0.329\n",
            "\tIter 30/ 50 - Loss: 0.324\n",
            "\tIter 40/ 50 - Loss: 0.321\n",
            "\tIter 50/ 50 - Loss: 0.318\n"
          ]
        },
        {
          "name": "stderr",
          "output_type": "stream",
          "text": [
            "\n",
            "310it [13:30,  2.98s/it]\u001b[A"
          ]
        },
        {
          "name": "stdout",
          "output_type": "stream",
          "text": [
            "\tIter 10/ 50 - Loss: 0.332\n",
            "\tIter 20/ 50 - Loss: 0.327\n",
            "\tIter 30/ 50 - Loss: 0.324\n",
            "\tIter 40/ 50 - Loss: 0.322\n",
            "\tIter 50/ 50 - Loss: 0.32\n"
          ]
        },
        {
          "name": "stderr",
          "output_type": "stream",
          "text": [
            "\n",
            "311it [13:33,  2.96s/it]\u001b[A"
          ]
        },
        {
          "name": "stdout",
          "output_type": "stream",
          "text": [
            "\tIter 10/ 50 - Loss: 0.329\n",
            "\tIter 20/ 50 - Loss: 0.322\n",
            "\tIter 30/ 50 - Loss: 0.319\n",
            "\tIter 40/ 50 - Loss: 0.317\n",
            "\tIter 50/ 50 - Loss: 0.315\n"
          ]
        },
        {
          "name": "stderr",
          "output_type": "stream",
          "text": [
            "\n",
            "312it [13:36,  2.96s/it]\u001b[A"
          ]
        },
        {
          "name": "stdout",
          "output_type": "stream",
          "text": [
            "\tIter 10/ 50 - Loss: 0.336\n",
            "\tIter 20/ 50 - Loss: 0.328\n",
            "\tIter 30/ 50 - Loss: 0.323\n",
            "\tIter 40/ 50 - Loss: 0.32\n",
            "\tIter 50/ 50 - Loss: 0.318\n"
          ]
        },
        {
          "name": "stderr",
          "output_type": "stream",
          "text": [
            "\n",
            "313it [13:39,  2.97s/it]\u001b[A"
          ]
        },
        {
          "name": "stdout",
          "output_type": "stream",
          "text": [
            "\tIter 10/ 50 - Loss: 0.349\n",
            "\tIter 20/ 50 - Loss: 0.338\n",
            "\tIter 30/ 50 - Loss: 0.331\n",
            "\tIter 40/ 50 - Loss: 0.327\n",
            "\tIter 50/ 50 - Loss: 0.323\n"
          ]
        },
        {
          "name": "stderr",
          "output_type": "stream",
          "text": [
            "\n",
            "314it [13:42,  2.98s/it]\u001b[A"
          ]
        },
        {
          "name": "stdout",
          "output_type": "stream",
          "text": [
            "\tIter 10/ 50 - Loss: 0.342\n",
            "\tIter 20/ 50 - Loss: 0.326\n",
            "\tIter 30/ 50 - Loss: 0.32\n",
            "\tIter 40/ 50 - Loss: 0.317\n",
            "\tIter 50/ 50 - Loss: 0.315\n"
          ]
        },
        {
          "name": "stderr",
          "output_type": "stream",
          "text": [
            "\n",
            "315it [13:45,  2.98s/it]\u001b[A"
          ]
        },
        {
          "name": "stdout",
          "output_type": "stream",
          "text": [
            "\tIter 10/ 50 - Loss: 0.324\n",
            "\tIter 20/ 50 - Loss: 0.318\n",
            "\tIter 30/ 50 - Loss: 0.315\n",
            "\tIter 40/ 50 - Loss: 0.313\n",
            "\tIter 50/ 50 - Loss: 0.312\n"
          ]
        },
        {
          "name": "stderr",
          "output_type": "stream",
          "text": [
            "\n",
            "316it [13:48,  2.98s/it]\u001b[A"
          ]
        },
        {
          "name": "stdout",
          "output_type": "stream",
          "text": [
            "\tIter 10/ 50 - Loss: 0.34\n",
            "\tIter 20/ 50 - Loss: 0.33\n",
            "\tIter 30/ 50 - Loss: 0.324\n",
            "\tIter 40/ 50 - Loss: 0.32\n",
            "\tIter 50/ 50 - Loss: 0.317\n"
          ]
        },
        {
          "name": "stderr",
          "output_type": "stream",
          "text": [
            "\n",
            "317it [13:51,  2.98s/it]\u001b[A"
          ]
        },
        {
          "name": "stdout",
          "output_type": "stream",
          "text": [
            "\tIter 10/ 50 - Loss: 0.343\n",
            "\tIter 20/ 50 - Loss: 0.337\n",
            "\tIter 30/ 50 - Loss: 0.333\n",
            "\tIter 40/ 50 - Loss: 0.33\n",
            "\tIter 50/ 50 - Loss: 0.327\n"
          ]
        },
        {
          "name": "stderr",
          "output_type": "stream",
          "text": [
            "\n",
            "318it [13:54,  3.04s/it]\u001b[A"
          ]
        },
        {
          "name": "stdout",
          "output_type": "stream",
          "text": [
            "\tIter 10/ 50 - Loss: 0.342\n",
            "\tIter 20/ 50 - Loss: 0.332\n",
            "\tIter 30/ 50 - Loss: 0.327\n",
            "\tIter 40/ 50 - Loss: 0.324\n",
            "\tIter 50/ 50 - Loss: 0.321\n"
          ]
        },
        {
          "name": "stderr",
          "output_type": "stream",
          "text": [
            "\n",
            "319it [13:57,  3.02s/it]\u001b[A"
          ]
        },
        {
          "name": "stdout",
          "output_type": "stream",
          "text": [
            "\tIter 10/ 50 - Loss: 0.331\n",
            "\tIter 20/ 50 - Loss: 0.327\n",
            "\tIter 30/ 50 - Loss: 0.324\n",
            "\tIter 40/ 50 - Loss: 0.323\n",
            "\tIter 50/ 50 - Loss: 0.321\n"
          ]
        },
        {
          "name": "stderr",
          "output_type": "stream",
          "text": [
            "\n",
            "320it [14:00,  3.01s/it]\u001b[A"
          ]
        },
        {
          "name": "stdout",
          "output_type": "stream",
          "text": [
            "\tIter 10/ 50 - Loss: 0.331\n",
            "\tIter 20/ 50 - Loss: 0.327\n",
            "\tIter 30/ 50 - Loss: 0.325\n",
            "\tIter 40/ 50 - Loss: 0.322\n",
            "\tIter 50/ 50 - Loss: 0.321\n"
          ]
        },
        {
          "name": "stderr",
          "output_type": "stream",
          "text": [
            "\n",
            "321it [14:03,  3.00s/it]\u001b[A"
          ]
        },
        {
          "name": "stdout",
          "output_type": "stream",
          "text": [
            "\tIter 10/ 50 - Loss: 0.339\n",
            "\tIter 20/ 50 - Loss: 0.329\n",
            "\tIter 30/ 50 - Loss: 0.324\n",
            "\tIter 40/ 50 - Loss: 0.32\n",
            "\tIter 50/ 50 - Loss: 0.317\n"
          ]
        },
        {
          "name": "stderr",
          "output_type": "stream",
          "text": [
            "\n",
            "322it [14:06,  3.00s/it]\u001b[A"
          ]
        },
        {
          "name": "stdout",
          "output_type": "stream",
          "text": [
            "\tIter 10/ 50 - Loss: 0.325\n",
            "\tIter 20/ 50 - Loss: 0.32\n",
            "\tIter 30/ 50 - Loss: 0.318\n",
            "\tIter 40/ 50 - Loss: 0.316\n",
            "\tIter 50/ 50 - Loss: 0.315\n"
          ]
        },
        {
          "name": "stderr",
          "output_type": "stream",
          "text": [
            "\n",
            "323it [14:09,  2.99s/it]\u001b[A"
          ]
        },
        {
          "name": "stdout",
          "output_type": "stream",
          "text": [
            "\tIter 10/ 50 - Loss: 0.333\n",
            "\tIter 20/ 50 - Loss: 0.329\n",
            "\tIter 30/ 50 - Loss: 0.327\n",
            "\tIter 40/ 50 - Loss: 0.325\n",
            "\tIter 50/ 50 - Loss: 0.323\n"
          ]
        },
        {
          "name": "stderr",
          "output_type": "stream",
          "text": [
            "\n",
            "324it [14:12,  2.99s/it]\u001b[A"
          ]
        },
        {
          "name": "stdout",
          "output_type": "stream",
          "text": [
            "\tIter 10/ 50 - Loss: 0.334\n",
            "\tIter 20/ 50 - Loss: 0.328\n",
            "\tIter 30/ 50 - Loss: 0.324\n",
            "\tIter 40/ 50 - Loss: 0.322\n",
            "\tIter 50/ 50 - Loss: 0.32\n"
          ]
        },
        {
          "name": "stderr",
          "output_type": "stream",
          "text": [
            "\n",
            "325it [14:15,  3.06s/it]\u001b[A"
          ]
        },
        {
          "name": "stdout",
          "output_type": "stream",
          "text": [
            "\tIter 10/ 50 - Loss: 0.344\n",
            "\tIter 20/ 50 - Loss: 0.335\n",
            "\tIter 30/ 50 - Loss: 0.33\n",
            "\tIter 40/ 50 - Loss: 0.326\n",
            "\tIter 50/ 50 - Loss: 0.324\n"
          ]
        },
        {
          "name": "stderr",
          "output_type": "stream",
          "text": [
            "\n",
            "326it [14:18,  3.05s/it]\u001b[A"
          ]
        },
        {
          "name": "stdout",
          "output_type": "stream",
          "text": [
            "\tIter 10/ 50 - Loss: 0.347\n",
            "\tIter 20/ 50 - Loss: 0.339\n",
            "\tIter 30/ 50 - Loss: 0.334\n",
            "\tIter 40/ 50 - Loss: 0.33\n",
            "\tIter 50/ 50 - Loss: 0.327\n"
          ]
        },
        {
          "name": "stderr",
          "output_type": "stream",
          "text": [
            "\n",
            "327it [14:21,  3.04s/it]\u001b[A"
          ]
        },
        {
          "name": "stdout",
          "output_type": "stream",
          "text": [
            "\tIter 10/ 50 - Loss: 0.333\n",
            "\tIter 20/ 50 - Loss: 0.33\n",
            "\tIter 30/ 50 - Loss: 0.328\n",
            "\tIter 40/ 50 - Loss: 0.326\n",
            "\tIter 50/ 50 - Loss: 0.325\n"
          ]
        },
        {
          "name": "stderr",
          "output_type": "stream",
          "text": [
            "\n",
            "328it [14:24,  3.03s/it]\u001b[A"
          ]
        },
        {
          "name": "stdout",
          "output_type": "stream",
          "text": [
            "\tIter 10/ 50 - Loss: 0.338\n",
            "\tIter 20/ 50 - Loss: 0.332\n",
            "\tIter 30/ 50 - Loss: 0.329\n",
            "\tIter 40/ 50 - Loss: 0.327\n",
            "\tIter 50/ 50 - Loss: 0.325\n"
          ]
        },
        {
          "name": "stderr",
          "output_type": "stream",
          "text": [
            "\n",
            "329it [14:27,  3.03s/it]\u001b[A"
          ]
        },
        {
          "name": "stdout",
          "output_type": "stream",
          "text": [
            "\tIter 10/ 50 - Loss: 0.34\n",
            "\tIter 20/ 50 - Loss: 0.331\n",
            "\tIter 30/ 50 - Loss: 0.327\n",
            "\tIter 40/ 50 - Loss: 0.324\n",
            "\tIter 50/ 50 - Loss: 0.322\n"
          ]
        },
        {
          "name": "stderr",
          "output_type": "stream",
          "text": [
            "\n",
            "330it [14:30,  3.04s/it]\u001b[A"
          ]
        },
        {
          "name": "stdout",
          "output_type": "stream",
          "text": [
            "\tIter 10/ 50 - Loss: 0.33\n",
            "\tIter 20/ 50 - Loss: 0.325\n",
            "\tIter 30/ 50 - Loss: 0.322\n",
            "\tIter 40/ 50 - Loss: 0.321\n",
            "\tIter 50/ 50 - Loss: 0.32\n"
          ]
        },
        {
          "name": "stderr",
          "output_type": "stream",
          "text": [
            "\n",
            "331it [14:33,  3.03s/it]\u001b[A"
          ]
        },
        {
          "name": "stdout",
          "output_type": "stream",
          "text": [
            "\tIter 10/ 50 - Loss: 0.328\n",
            "\tIter 20/ 50 - Loss: 0.324\n",
            "\tIter 30/ 50 - Loss: 0.322\n",
            "\tIter 40/ 50 - Loss: 0.32\n",
            "\tIter 50/ 50 - Loss: 0.319\n"
          ]
        },
        {
          "name": "stderr",
          "output_type": "stream",
          "text": [
            "\n",
            "332it [14:37,  3.09s/it]\u001b[A"
          ]
        },
        {
          "name": "stdout",
          "output_type": "stream",
          "text": [
            "\tIter 10/ 50 - Loss: 0.348\n",
            "\tIter 20/ 50 - Loss: 0.341\n",
            "\tIter 30/ 50 - Loss: 0.336\n",
            "\tIter 40/ 50 - Loss: 0.333\n",
            "\tIter 50/ 50 - Loss: 0.33\n"
          ]
        },
        {
          "name": "stderr",
          "output_type": "stream",
          "text": [
            "\n",
            "333it [14:40,  3.07s/it]\u001b[A"
          ]
        },
        {
          "name": "stdout",
          "output_type": "stream",
          "text": [
            "\tIter 10/ 50 - Loss: 0.344\n",
            "\tIter 20/ 50 - Loss: 0.337\n",
            "\tIter 30/ 50 - Loss: 0.333\n",
            "\tIter 40/ 50 - Loss: 0.329\n",
            "\tIter 50/ 50 - Loss: 0.327\n"
          ]
        },
        {
          "name": "stderr",
          "output_type": "stream",
          "text": [
            "\n",
            "334it [14:43,  3.07s/it]\u001b[A"
          ]
        },
        {
          "name": "stdout",
          "output_type": "stream",
          "text": [
            "\tIter 10/ 50 - Loss: 0.334\n",
            "\tIter 20/ 50 - Loss: 0.329\n",
            "\tIter 30/ 50 - Loss: 0.326\n",
            "\tIter 40/ 50 - Loss: 0.325\n",
            "\tIter 50/ 50 - Loss: 0.324\n"
          ]
        },
        {
          "name": "stderr",
          "output_type": "stream",
          "text": [
            "\n",
            "335it [14:46,  3.06s/it]\u001b[A"
          ]
        },
        {
          "name": "stdout",
          "output_type": "stream",
          "text": [
            "\tIter 10/ 50 - Loss: 0.336\n",
            "\tIter 20/ 50 - Loss: 0.33\n",
            "\tIter 30/ 50 - Loss: 0.327\n",
            "\tIter 40/ 50 - Loss: 0.325\n",
            "\tIter 50/ 50 - Loss: 0.324\n"
          ]
        },
        {
          "name": "stderr",
          "output_type": "stream",
          "text": [
            "\n",
            "336it [14:49,  3.05s/it]\u001b[A"
          ]
        },
        {
          "name": "stdout",
          "output_type": "stream",
          "text": [
            "\tIter 10/ 50 - Loss: 0.347\n",
            "\tIter 20/ 50 - Loss: 0.34\n",
            "\tIter 30/ 50 - Loss: 0.336\n",
            "\tIter 40/ 50 - Loss: 0.333\n",
            "\tIter 50/ 50 - Loss: 0.331\n"
          ]
        },
        {
          "name": "stderr",
          "output_type": "stream",
          "text": [
            "\n",
            "337it [14:52,  3.05s/it]\u001b[A"
          ]
        },
        {
          "name": "stdout",
          "output_type": "stream",
          "text": [
            "\tIter 10/ 50 - Loss: 0.34\n",
            "\tIter 20/ 50 - Loss: 0.334\n",
            "\tIter 30/ 50 - Loss: 0.33\n",
            "\tIter 40/ 50 - Loss: 0.328\n",
            "\tIter 50/ 50 - Loss: 0.326\n"
          ]
        },
        {
          "name": "stderr",
          "output_type": "stream",
          "text": [
            "\n",
            "338it [14:55,  3.06s/it]\u001b[A"
          ]
        },
        {
          "name": "stdout",
          "output_type": "stream",
          "text": [
            "\tIter 10/ 50 - Loss: 0.336\n",
            "\tIter 20/ 50 - Loss: 0.332\n",
            "\tIter 30/ 50 - Loss: 0.329\n",
            "\tIter 40/ 50 - Loss: 0.327\n",
            "\tIter 50/ 50 - Loss: 0.325\n"
          ]
        },
        {
          "name": "stderr",
          "output_type": "stream",
          "text": [
            "\n",
            "339it [14:58,  3.06s/it]\u001b[A"
          ]
        },
        {
          "name": "stdout",
          "output_type": "stream",
          "text": [
            "\tIter 10/ 50 - Loss: 0.343\n",
            "\tIter 20/ 50 - Loss: 0.339\n",
            "\tIter 30/ 50 - Loss: 0.335\n",
            "\tIter 40/ 50 - Loss: 0.333\n",
            "\tIter 50/ 50 - Loss: 0.331\n"
          ]
        },
        {
          "name": "stderr",
          "output_type": "stream",
          "text": [
            "\n",
            "340it [15:01,  3.04s/it]\u001b[A"
          ]
        },
        {
          "name": "stdout",
          "output_type": "stream",
          "text": [
            "\tIter 10/ 50 - Loss: 0.328\n",
            "\tIter 20/ 50 - Loss: 0.326\n",
            "\tIter 30/ 50 - Loss: 0.324\n",
            "\tIter 40/ 50 - Loss: 0.323\n",
            "\tIter 50/ 50 - Loss: 0.322\n"
          ]
        },
        {
          "name": "stderr",
          "output_type": "stream",
          "text": [
            "\n",
            "341it [15:04,  3.12s/it]\u001b[A"
          ]
        },
        {
          "name": "stdout",
          "output_type": "stream",
          "text": [
            "\tIter 10/ 50 - Loss: 0.345\n",
            "\tIter 20/ 50 - Loss: 0.341\n",
            "\tIter 30/ 50 - Loss: 0.339\n",
            "\tIter 40/ 50 - Loss: 0.337\n",
            "\tIter 50/ 50 - Loss: 0.336\n"
          ]
        },
        {
          "name": "stderr",
          "output_type": "stream",
          "text": [
            "\n",
            "342it [15:07,  3.11s/it]\u001b[A"
          ]
        },
        {
          "name": "stdout",
          "output_type": "stream",
          "text": [
            "\tIter 10/ 50 - Loss: 0.354\n",
            "\tIter 20/ 50 - Loss: 0.339\n",
            "\tIter 30/ 50 - Loss: 0.337\n",
            "\tIter 40/ 50 - Loss: 0.335\n",
            "\tIter 50/ 50 - Loss: 0.334\n"
          ]
        },
        {
          "name": "stderr",
          "output_type": "stream",
          "text": [
            "\n",
            "343it [15:10,  3.08s/it]\u001b[A"
          ]
        },
        {
          "name": "stdout",
          "output_type": "stream",
          "text": [
            "\tIter 10/ 50 - Loss: 0.335\n",
            "\tIter 20/ 50 - Loss: 0.33\n",
            "\tIter 30/ 50 - Loss: 0.327\n",
            "\tIter 40/ 50 - Loss: 0.326\n",
            "\tIter 50/ 50 - Loss: 0.324\n"
          ]
        },
        {
          "name": "stderr",
          "output_type": "stream",
          "text": [
            "\n",
            "344it [15:13,  3.08s/it]\u001b[A"
          ]
        },
        {
          "name": "stdout",
          "output_type": "stream",
          "text": [
            "\tIter 10/ 50 - Loss: 0.344\n",
            "\tIter 20/ 50 - Loss: 0.34\n",
            "\tIter 30/ 50 - Loss: 0.337\n",
            "\tIter 40/ 50 - Loss: 0.335\n",
            "\tIter 50/ 50 - Loss: 0.334\n"
          ]
        },
        {
          "name": "stderr",
          "output_type": "stream",
          "text": [
            "\n",
            "345it [15:17,  3.09s/it]\u001b[A"
          ]
        },
        {
          "name": "stdout",
          "output_type": "stream",
          "text": [
            "\tIter 10/ 50 - Loss: 0.356\n",
            "\tIter 20/ 50 - Loss: 0.347\n",
            "\tIter 30/ 50 - Loss: 0.343\n",
            "\tIter 40/ 50 - Loss: 0.34\n",
            "\tIter 50/ 50 - Loss: 0.338\n"
          ]
        },
        {
          "name": "stderr",
          "output_type": "stream",
          "text": [
            "\n",
            "346it [15:20,  3.07s/it]\u001b[A"
          ]
        },
        {
          "name": "stdout",
          "output_type": "stream",
          "text": [
            "\tIter 10/ 50 - Loss: 0.342\n",
            "\tIter 20/ 50 - Loss: 0.337\n",
            "\tIter 30/ 50 - Loss: 0.334\n",
            "\tIter 40/ 50 - Loss: 0.332\n",
            "\tIter 50/ 50 - Loss: 0.33\n"
          ]
        },
        {
          "name": "stderr",
          "output_type": "stream",
          "text": [
            "\n",
            "347it [15:23,  3.06s/it]\u001b[A"
          ]
        },
        {
          "name": "stdout",
          "output_type": "stream",
          "text": [
            "\tIter 10/ 50 - Loss: 0.341\n",
            "\tIter 20/ 50 - Loss: 0.338\n",
            "\tIter 30/ 50 - Loss: 0.335\n",
            "\tIter 40/ 50 - Loss: 0.334\n",
            "\tIter 50/ 50 - Loss: 0.333\n"
          ]
        },
        {
          "name": "stderr",
          "output_type": "stream",
          "text": [
            "\n",
            "348it [15:26,  3.06s/it]\u001b[A"
          ]
        },
        {
          "name": "stdout",
          "output_type": "stream",
          "text": [
            "\tIter 10/ 50 - Loss: 0.35\n",
            "\tIter 20/ 50 - Loss: 0.342\n",
            "\tIter 30/ 50 - Loss: 0.337\n",
            "\tIter 40/ 50 - Loss: 0.334\n",
            "\tIter 50/ 50 - Loss: 0.333\n"
          ]
        },
        {
          "name": "stderr",
          "output_type": "stream",
          "text": [
            "\n",
            "349it [15:29,  3.14s/it]\u001b[A"
          ]
        },
        {
          "name": "stdout",
          "output_type": "stream",
          "text": [
            "\tIter 10/ 50 - Loss: 0.343\n",
            "\tIter 20/ 50 - Loss: 0.339\n",
            "\tIter 30/ 50 - Loss: 0.336\n",
            "\tIter 40/ 50 - Loss: 0.334\n",
            "\tIter 50/ 50 - Loss: 0.333\n"
          ]
        },
        {
          "name": "stderr",
          "output_type": "stream",
          "text": [
            "\n",
            "350it [15:32,  3.11s/it]\u001b[A"
          ]
        },
        {
          "name": "stdout",
          "output_type": "stream",
          "text": [
            "\tIter 10/ 50 - Loss: 0.344\n",
            "\tIter 20/ 50 - Loss: 0.341\n",
            "\tIter 30/ 50 - Loss: 0.338\n",
            "\tIter 40/ 50 - Loss: 0.336\n",
            "\tIter 50/ 50 - Loss: 0.334\n"
          ]
        },
        {
          "name": "stderr",
          "output_type": "stream",
          "text": [
            "\n",
            "351it [15:35,  3.09s/it]\u001b[A"
          ]
        },
        {
          "name": "stdout",
          "output_type": "stream",
          "text": [
            "\tIter 10/ 50 - Loss: 0.345\n",
            "\tIter 20/ 50 - Loss: 0.34\n",
            "\tIter 30/ 50 - Loss: 0.336\n",
            "\tIter 40/ 50 - Loss: 0.334\n",
            "\tIter 50/ 50 - Loss: 0.332\n"
          ]
        },
        {
          "name": "stderr",
          "output_type": "stream",
          "text": [
            "\n",
            "352it [15:38,  3.09s/it]\u001b[A"
          ]
        },
        {
          "name": "stdout",
          "output_type": "stream",
          "text": [
            "\tIter 10/ 50 - Loss: 0.338\n",
            "\tIter 20/ 50 - Loss: 0.334\n",
            "\tIter 30/ 50 - Loss: 0.332\n",
            "\tIter 40/ 50 - Loss: 0.331\n",
            "\tIter 50/ 50 - Loss: 0.329\n"
          ]
        },
        {
          "name": "stderr",
          "output_type": "stream",
          "text": [
            "\n",
            "353it [15:41,  3.10s/it]\u001b[A"
          ]
        },
        {
          "name": "stdout",
          "output_type": "stream",
          "text": [
            "\tIter 10/ 50 - Loss: 0.356\n",
            "\tIter 20/ 50 - Loss: 0.342\n",
            "\tIter 30/ 50 - Loss: 0.336\n",
            "\tIter 40/ 50 - Loss: 0.333\n",
            "\tIter 50/ 50 - Loss: 0.331\n"
          ]
        },
        {
          "name": "stderr",
          "output_type": "stream",
          "text": [
            "\n",
            "354it [15:44,  3.09s/it]\u001b[A"
          ]
        },
        {
          "name": "stdout",
          "output_type": "stream",
          "text": [
            "\tIter 10/ 50 - Loss: 0.361\n",
            "\tIter 20/ 50 - Loss: 0.349\n",
            "\tIter 30/ 50 - Loss: 0.343\n",
            "\tIter 40/ 50 - Loss: 0.339\n",
            "\tIter 50/ 50 - Loss: 0.336\n"
          ]
        },
        {
          "name": "stderr",
          "output_type": "stream",
          "text": [
            "\n",
            "355it [15:47,  3.08s/it]\u001b[A"
          ]
        },
        {
          "name": "stdout",
          "output_type": "stream",
          "text": [
            "\tIter 10/ 50 - Loss: 0.352\n",
            "\tIter 20/ 50 - Loss: 0.342\n",
            "\tIter 30/ 50 - Loss: 0.337\n",
            "\tIter 40/ 50 - Loss: 0.335\n",
            "\tIter 50/ 50 - Loss: 0.333\n"
          ]
        },
        {
          "name": "stderr",
          "output_type": "stream",
          "text": [
            "\n",
            "356it [15:50,  3.07s/it]\u001b[A"
          ]
        },
        {
          "name": "stdout",
          "output_type": "stream",
          "text": [
            "\tIter 10/ 50 - Loss: 0.348\n",
            "\tIter 20/ 50 - Loss: 0.341\n",
            "\tIter 30/ 50 - Loss: 0.337\n",
            "\tIter 40/ 50 - Loss: 0.335\n",
            "\tIter 50/ 50 - Loss: 0.333\n"
          ]
        },
        {
          "name": "stderr",
          "output_type": "stream",
          "text": [
            "\n",
            "357it [15:54,  3.14s/it]\u001b[A"
          ]
        },
        {
          "name": "stdout",
          "output_type": "stream",
          "text": [
            "\tIter 10/ 50 - Loss: 0.346\n",
            "\tIter 20/ 50 - Loss: 0.34\n",
            "\tIter 30/ 50 - Loss: 0.337\n",
            "\tIter 40/ 50 - Loss: 0.334\n",
            "\tIter 50/ 50 - Loss: 0.333\n"
          ]
        },
        {
          "name": "stderr",
          "output_type": "stream",
          "text": [
            "\n",
            "358it [15:57,  3.10s/it]\u001b[A"
          ]
        },
        {
          "name": "stdout",
          "output_type": "stream",
          "text": [
            "\tIter 10/ 50 - Loss: 0.341\n",
            "\tIter 20/ 50 - Loss: 0.336\n",
            "\tIter 30/ 50 - Loss: 0.333\n",
            "\tIter 40/ 50 - Loss: 0.33\n",
            "\tIter 50/ 50 - Loss: 0.329\n"
          ]
        },
        {
          "name": "stderr",
          "output_type": "stream",
          "text": [
            "\n",
            "359it [16:00,  3.09s/it]\u001b[A"
          ]
        },
        {
          "name": "stdout",
          "output_type": "stream",
          "text": [
            "\tIter 10/ 50 - Loss: 0.344\n",
            "\tIter 20/ 50 - Loss: 0.338\n",
            "\tIter 30/ 50 - Loss: 0.335\n",
            "\tIter 40/ 50 - Loss: 0.333\n",
            "\tIter 50/ 50 - Loss: 0.331\n"
          ]
        },
        {
          "name": "stderr",
          "output_type": "stream",
          "text": [
            "\n",
            "360it [16:03,  3.10s/it]\u001b[A"
          ]
        },
        {
          "name": "stdout",
          "output_type": "stream",
          "text": [
            "\tIter 10/ 50 - Loss: 0.341\n",
            "\tIter 20/ 50 - Loss: 0.336\n",
            "\tIter 30/ 50 - Loss: 0.333\n",
            "\tIter 40/ 50 - Loss: 0.331\n",
            "\tIter 50/ 50 - Loss: 0.329\n"
          ]
        },
        {
          "name": "stderr",
          "output_type": "stream",
          "text": [
            "\n",
            "361it [16:06,  3.10s/it]\u001b[A"
          ]
        },
        {
          "name": "stdout",
          "output_type": "stream",
          "text": [
            "\tIter 10/ 50 - Loss: 0.358\n",
            "\tIter 20/ 50 - Loss: 0.349\n",
            "\tIter 30/ 50 - Loss: 0.345\n",
            "\tIter 40/ 50 - Loss: 0.341\n",
            "\tIter 50/ 50 - Loss: 0.339\n"
          ]
        },
        {
          "name": "stderr",
          "output_type": "stream",
          "text": [
            "\n",
            "362it [16:09,  3.10s/it]\u001b[A"
          ]
        },
        {
          "name": "stdout",
          "output_type": "stream",
          "text": [
            "\tIter 10/ 50 - Loss: 0.353\n",
            "\tIter 20/ 50 - Loss: 0.342\n",
            "\tIter 30/ 50 - Loss: 0.336\n",
            "\tIter 40/ 50 - Loss: 0.332\n",
            "\tIter 50/ 50 - Loss: 0.33\n"
          ]
        },
        {
          "name": "stderr",
          "output_type": "stream",
          "text": [
            "\n",
            "363it [16:12,  3.11s/it]\u001b[A"
          ]
        },
        {
          "name": "stdout",
          "output_type": "stream",
          "text": [
            "\tIter 10/ 50 - Loss: 0.347\n",
            "\tIter 20/ 50 - Loss: 0.344\n",
            "\tIter 30/ 50 - Loss: 0.341\n",
            "\tIter 40/ 50 - Loss: 0.339\n",
            "\tIter 50/ 50 - Loss: 0.338\n"
          ]
        },
        {
          "name": "stderr",
          "output_type": "stream",
          "text": [
            "\n",
            "364it [16:16,  3.21s/it]\u001b[A"
          ]
        },
        {
          "name": "stdout",
          "output_type": "stream",
          "text": [
            "\tIter 10/ 50 - Loss: 0.344\n",
            "\tIter 20/ 50 - Loss: 0.34\n",
            "\tIter 30/ 50 - Loss: 0.337\n",
            "\tIter 40/ 50 - Loss: 0.335\n",
            "\tIter 50/ 50 - Loss: 0.334\n"
          ]
        },
        {
          "name": "stderr",
          "output_type": "stream",
          "text": [
            "\n",
            "365it [16:19,  3.19s/it]\u001b[A"
          ]
        },
        {
          "name": "stdout",
          "output_type": "stream",
          "text": [
            "\tIter 10/ 50 - Loss: 0.354\n",
            "\tIter 20/ 50 - Loss: 0.344\n",
            "\tIter 30/ 50 - Loss: 0.339\n",
            "\tIter 40/ 50 - Loss: 0.336\n",
            "\tIter 50/ 50 - Loss: 0.334\n"
          ]
        },
        {
          "name": "stderr",
          "output_type": "stream",
          "text": [
            "\n",
            "366it [16:22,  3.16s/it]\u001b[A"
          ]
        },
        {
          "name": "stdout",
          "output_type": "stream",
          "text": [
            "\tIter 10/ 50 - Loss: 0.359\n",
            "\tIter 20/ 50 - Loss: 0.351\n",
            "\tIter 30/ 50 - Loss: 0.346\n",
            "\tIter 40/ 50 - Loss: 0.343\n",
            "\tIter 50/ 50 - Loss: 0.341\n"
          ]
        },
        {
          "name": "stderr",
          "output_type": "stream",
          "text": [
            "\n",
            "367it [16:25,  3.15s/it]\u001b[A"
          ]
        },
        {
          "name": "stdout",
          "output_type": "stream",
          "text": [
            "\tIter 10/ 50 - Loss: 0.353\n",
            "\tIter 20/ 50 - Loss: 0.348\n",
            "\tIter 30/ 50 - Loss: 0.345\n",
            "\tIter 40/ 50 - Loss: 0.343\n",
            "\tIter 50/ 50 - Loss: 0.342\n"
          ]
        },
        {
          "name": "stderr",
          "output_type": "stream",
          "text": [
            "\n",
            "368it [16:28,  3.16s/it]\u001b[A"
          ]
        },
        {
          "name": "stdout",
          "output_type": "stream",
          "text": [
            "\tIter 10/ 50 - Loss: 0.373\n",
            "\tIter 20/ 50 - Loss: 0.363\n",
            "\tIter 30/ 50 - Loss: 0.357\n",
            "\tIter 40/ 50 - Loss: 0.354\n",
            "\tIter 50/ 50 - Loss: 0.352\n"
          ]
        },
        {
          "name": "stderr",
          "output_type": "stream",
          "text": [
            "\n",
            "369it [16:31,  3.16s/it]\u001b[A"
          ]
        },
        {
          "name": "stdout",
          "output_type": "stream",
          "text": [
            "\tIter 10/ 50 - Loss: 0.36\n",
            "\tIter 20/ 50 - Loss: 0.352\n",
            "\tIter 30/ 50 - Loss: 0.348\n",
            "\tIter 40/ 50 - Loss: 0.345\n",
            "\tIter 50/ 50 - Loss: 0.343\n"
          ]
        },
        {
          "name": "stderr",
          "output_type": "stream",
          "text": [
            "\n",
            "370it [16:35,  3.21s/it]\u001b[A"
          ]
        },
        {
          "name": "stdout",
          "output_type": "stream",
          "text": [
            "\tIter 10/ 50 - Loss: 0.359\n",
            "\tIter 20/ 50 - Loss: 0.353\n",
            "\tIter 30/ 50 - Loss: 0.35\n",
            "\tIter 40/ 50 - Loss: 0.347\n",
            "\tIter 50/ 50 - Loss: 0.345\n"
          ]
        },
        {
          "name": "stderr",
          "output_type": "stream",
          "text": [
            "\n",
            "371it [16:38,  3.19s/it]\u001b[A"
          ]
        },
        {
          "name": "stdout",
          "output_type": "stream",
          "text": [
            "\tIter 10/ 50 - Loss: 0.37\n",
            "\tIter 20/ 50 - Loss: 0.359\n",
            "\tIter 30/ 50 - Loss: 0.353\n",
            "\tIter 40/ 50 - Loss: 0.349\n",
            "\tIter 50/ 50 - Loss: 0.346\n"
          ]
        },
        {
          "name": "stderr",
          "output_type": "stream",
          "text": [
            "\n",
            "372it [16:41,  3.19s/it]\u001b[A"
          ]
        },
        {
          "name": "stdout",
          "output_type": "stream",
          "text": [
            "\tIter 10/ 50 - Loss: 0.35\n",
            "\tIter 20/ 50 - Loss: 0.344\n",
            "\tIter 30/ 50 - Loss: 0.34\n",
            "\tIter 40/ 50 - Loss: 0.337\n",
            "\tIter 50/ 50 - Loss: 0.336\n"
          ]
        },
        {
          "name": "stderr",
          "output_type": "stream",
          "text": [
            "\n",
            "373it [16:44,  3.18s/it]\u001b[A"
          ]
        },
        {
          "name": "stdout",
          "output_type": "stream",
          "text": [
            "\tIter 10/ 50 - Loss: 0.349\n",
            "\tIter 20/ 50 - Loss: 0.344\n",
            "\tIter 30/ 50 - Loss: 0.34\n",
            "\tIter 40/ 50 - Loss: 0.337\n",
            "\tIter 50/ 50 - Loss: 0.335\n"
          ]
        },
        {
          "name": "stderr",
          "output_type": "stream",
          "text": [
            "\n",
            "374it [16:47,  3.15s/it]\u001b[A"
          ]
        },
        {
          "name": "stdout",
          "output_type": "stream",
          "text": [
            "\tIter 10/ 50 - Loss: 0.343\n",
            "\tIter 20/ 50 - Loss: 0.34\n",
            "\tIter 30/ 50 - Loss: 0.337\n",
            "\tIter 40/ 50 - Loss: 0.336\n",
            "\tIter 50/ 50 - Loss: 0.335\n"
          ]
        },
        {
          "name": "stderr",
          "output_type": "stream",
          "text": [
            "\n",
            "375it [16:51,  2.70s/it]\n",
            "  3%|▎         | 3/94 [59:20<29:57:45, 1185.34s/it]"
          ]
        },
        {
          "name": "stdout",
          "output_type": "stream",
          "text": [
            "Iter 10/512 - Loss: 0.678\n",
            "Iter 20/512 - Loss: 0.592\n",
            "Iter 30/512 - Loss: 0.518\n",
            "Iter 40/512 - Loss: 0.458\n",
            "Iter 50/512 - Loss: 0.404\n",
            "Iter 60/512 - Loss: 0.362\n",
            "Iter 70/512 - Loss: 0.336\n",
            "Iter 80/512 - Loss: 0.314\n",
            "Iter 90/512 - Loss: 0.299\n",
            "Iter 100/512 - Loss: 0.288\n",
            "Iter 110/512 - Loss: 0.279\n",
            "Iter 120/512 - Loss: 0.273\n",
            "Iter 130/512 - Loss: 0.269\n",
            "Iter 140/512 - Loss: 0.264\n",
            "Iter 150/512 - Loss: 0.26\n",
            "Iter 160/512 - Loss: 0.257\n",
            "Iter 170/512 - Loss: 0.255\n",
            "Iter 180/512 - Loss: 0.253\n",
            "Iter 190/512 - Loss: 0.251\n",
            "Iter 200/512 - Loss: 0.249\n",
            "Iter 210/512 - Loss: 0.25\n",
            "Iter 220/512 - Loss: 0.259\n",
            "Iter 230/512 - Loss: 0.247\n",
            "Iter 240/512 - Loss: 0.244\n",
            "Iter 250/512 - Loss: 0.241\n",
            "Iter 260/512 - Loss: 0.242\n",
            "Iter 270/512 - Loss: 0.241\n",
            "Iter 280/512 - Loss: 0.238\n",
            "Iter 290/512 - Loss: 0.236\n",
            "Iter 300/512 - Loss: 0.238\n",
            "Iter 310/512 - Loss: 0.235\n",
            "Iter 320/512 - Loss: 0.234\n",
            "Iter 330/512 - Loss: 0.232\n",
            "Iter 340/512 - Loss: 0.232\n",
            "Iter 350/512 - Loss: 0.236\n",
            "Iter 360/512 - Loss: 0.246\n",
            "Iter 370/512 - Loss: 0.235\n",
            "Iter 380/512 - Loss: 0.23\n",
            "Iter 390/512 - Loss: 0.229\n",
            "Iter 400/512 - Loss: 0.228\n",
            "Iter 410/512 - Loss: 0.228\n",
            "Iter 420/512 - Loss: 0.227\n",
            "Iter 430/512 - Loss: 0.226\n",
            "Iter 440/512 - Loss: 0.225\n",
            "Iter 450/512 - Loss: 0.224\n",
            "Iter 460/512 - Loss: 0.223\n",
            "Iter 470/512 - Loss: 0.223\n",
            "Iter 480/512 - Loss: 0.222\n",
            "Iter 490/512 - Loss: 0.222\n",
            "Iter 500/512 - Loss: 0.221\n",
            "Iter 510/512 - Loss: 0.226\n",
            "Iter 512/512 - Loss: 0.221\n"
          ]
        },
        {
          "name": "stderr",
          "output_type": "stream",
          "text": [
            "\n",
            "0it [00:00, ?it/s]\u001b[A\n",
            "1it [00:00,  2.81it/s]\u001b[A\n",
            "2it [00:00,  2.90it/s]\u001b[A\n",
            "3it [00:01,  2.94it/s]\u001b[A\n",
            "4it [00:01,  2.96it/s]\u001b[A\n",
            "5it [00:01,  2.45it/s]\u001b[A\n",
            "6it [00:02,  2.62it/s]\u001b[A\n",
            "7it [00:02,  2.76it/s]\u001b[A\n",
            "8it [00:02,  2.86it/s]\u001b[A\n",
            "9it [00:03,  2.93it/s]\u001b[A\n",
            "10it [00:03,  2.95it/s]\u001b[A\n",
            "11it [00:03,  3.00it/s]\u001b[A\n",
            "12it [00:04,  3.03it/s]\u001b[A\n",
            "13it [00:04,  3.04it/s]\u001b[A\n",
            "14it [00:04,  3.07it/s]\u001b[A\n",
            "15it [00:05,  3.08it/s]\u001b[A\n",
            "16it [00:05,  3.08it/s]\u001b[A\n",
            "17it [00:05,  3.12it/s]\u001b[A\n",
            "18it [00:06,  3.08it/s]\u001b[A\n",
            "19it [00:06,  3.07it/s]\u001b[A\n",
            "20it [00:06,  2.63it/s]\u001b[A\n",
            "21it [00:07,  2.78it/s]\u001b[A\n",
            "22it [00:07,  2.87it/s]\u001b[A\n",
            "23it [00:07,  2.93it/s]\u001b[A\n",
            "24it [00:08,  2.97it/s]\u001b[A\n",
            "25it [00:08,  2.98it/s]\u001b[A\n",
            "26it [00:08,  3.03it/s]\u001b[A\n",
            "27it [00:09,  3.04it/s]\u001b[A\n",
            "28it [00:09,  3.06it/s]\u001b[A\n",
            "29it [00:09,  3.09it/s]\u001b[A\n",
            "30it [00:10,  3.04it/s]\u001b[A\n",
            "31it [00:10,  3.02it/s]\u001b[A\n",
            "32it [00:10,  3.05it/s]\u001b[A\n",
            "33it [00:11,  3.01it/s]\u001b[A\n",
            "34it [00:11,  2.97it/s]\u001b[A\n",
            "35it [00:12,  2.54it/s]\u001b[A\n",
            "36it [00:12,  2.64it/s]\u001b[A\n",
            "37it [00:12,  2.67it/s]\u001b[A\n",
            "38it [00:13,  2.76it/s]\u001b[A\n",
            "39it [00:13,  2.84it/s]\u001b[A\n",
            "40it [00:13,  2.89it/s]\u001b[A\n",
            "41it [00:14,  2.94it/s]\u001b[A\n",
            "42it [00:14,  2.96it/s]\u001b[A\n",
            "43it [00:14,  2.97it/s]\u001b[A\n",
            "44it [00:15,  2.99it/s]\u001b[A\n",
            "45it [00:15,  2.99it/s]\u001b[A\n",
            "46it [00:15,  2.99it/s]\u001b[A\n",
            "47it [00:16,  3.02it/s]\u001b[A\n",
            "48it [00:16,  3.02it/s]\u001b[A\n",
            "49it [00:16,  3.02it/s]\u001b[A\n",
            "50it [00:17,  2.58it/s]\u001b[A\n",
            "51it [00:17,  2.69it/s]\u001b[A\n",
            "52it [00:17,  2.80it/s]\u001b[A\n",
            "53it [00:18,  2.84it/s]\u001b[A\n",
            "54it [00:18,  2.87it/s]\u001b[A\n",
            "55it [00:18,  2.87it/s]\u001b[A\n",
            "56it [00:19,  2.91it/s]\u001b[A\n",
            "57it [00:19,  2.90it/s]\u001b[A\n",
            "58it [00:19,  2.94it/s]\u001b[A\n",
            "59it [00:20,  2.95it/s]\u001b[A\n",
            "60it [00:20,  2.99it/s]\u001b[A\n",
            "61it [00:20,  3.00it/s]\u001b[A\n",
            "62it [00:21,  3.03it/s]\u001b[A\n",
            "63it [00:21,  3.02it/s]\u001b[A\n",
            "64it [00:21,  3.04it/s]\u001b[A\n",
            "65it [00:22,  2.60it/s]\u001b[A\n",
            "66it [00:22,  2.75it/s]\u001b[A\n",
            "67it [00:23,  2.81it/s]\u001b[A\n",
            "68it [00:23,  2.83it/s]\u001b[A\n",
            "69it [00:23,  2.85it/s]\u001b[A\n",
            "70it [00:24,  2.88it/s]\u001b[A\n",
            "71it [00:24,  2.88it/s]\u001b[A\n",
            "72it [00:24,  2.85it/s]\u001b[A\n",
            "73it [00:25,  2.91it/s]\u001b[A\n",
            "74it [00:25,  2.95it/s]\u001b[A\n",
            "75it [00:25,  2.97it/s]\u001b[A\n",
            "76it [00:26,  3.02it/s]\u001b[A\n",
            "77it [00:26,  3.02it/s]\u001b[A\n",
            "78it [00:26,  3.06it/s]\u001b[A\n",
            "79it [00:27,  3.07it/s]\u001b[A\n",
            "80it [00:27,  3.06it/s]\u001b[A\n",
            "81it [00:27,  2.61it/s]\u001b[A\n",
            "82it [00:28,  2.72it/s]\u001b[A\n",
            "83it [00:28,  2.81it/s]\u001b[A\n",
            "84it [00:28,  2.87it/s]\u001b[A\n",
            "85it [00:29,  2.94it/s]\u001b[A\n",
            "86it [00:29,  2.91it/s]\u001b[A\n",
            "87it [00:29,  2.96it/s]\u001b[A\n",
            "88it [00:30,  2.99it/s]\u001b[A\n",
            "89it [00:30,  3.01it/s]\u001b[A\n",
            "90it [00:30,  3.04it/s]\u001b[A\n",
            "91it [00:31,  3.00it/s]\u001b[A\n",
            "92it [00:31,  2.99it/s]\u001b[A\n",
            "93it [00:31,  2.98it/s]\u001b[A\n",
            "94it [00:32,  3.00it/s]\u001b[A\n",
            "95it [00:32,  2.58it/s]\u001b[A\n",
            "96it [00:33,  2.71it/s]\u001b[A\n",
            "97it [00:33,  2.81it/s]\u001b[A\n",
            "98it [00:33,  2.89it/s]\u001b[A\n",
            "99it [00:34,  2.95it/s]\u001b[A\n",
            "100it [00:34,  2.96it/s]\u001b[A\n",
            "101it [00:34,  2.99it/s]\u001b[A\n",
            "102it [00:35,  2.99it/s]\u001b[A\n",
            "103it [00:35,  2.96it/s]\u001b[A\n",
            "104it [00:35,  2.95it/s]\u001b[A\n",
            "105it [00:36,  2.97it/s]\u001b[A\n",
            "106it [00:36,  2.89it/s]\u001b[A\n",
            "107it [00:36,  2.90it/s]\u001b[A\n",
            "108it [00:37,  2.90it/s]\u001b[A\n",
            "109it [00:37,  2.93it/s]\u001b[A\n",
            "110it [00:37,  2.54it/s]\u001b[A\n",
            "111it [00:38,  2.69it/s]\u001b[A\n",
            "112it [00:38,  2.78it/s]\u001b[A\n",
            "113it [00:38,  2.85it/s]\u001b[A\n",
            "114it [00:39,  2.91it/s]\u001b[A\n",
            "115it [00:39,  2.96it/s]\u001b[A\n",
            "116it [00:39,  2.98it/s]\u001b[A\n",
            "117it [00:40,  2.96it/s]\u001b[A\n",
            "118it [00:40,  2.94it/s]\u001b[A\n",
            "119it [00:40,  2.93it/s]\u001b[A\n",
            "120it [00:41,  2.96it/s]\u001b[A\n",
            "121it [00:41,  2.96it/s]\u001b[A\n",
            "122it [00:41,  2.97it/s]\u001b[A\n",
            "123it [00:42,  2.99it/s]\u001b[A\n",
            "124it [00:42,  2.98it/s]\u001b[A\n",
            "125it [00:42,  2.99it/s]\u001b[A\n",
            "126it [00:43,  2.55it/s]\u001b[A\n",
            "127it [00:43,  2.67it/s]\u001b[A\n",
            "128it [00:44,  2.77it/s]\u001b[A\n",
            "129it [00:44,  2.80it/s]\u001b[A\n",
            "130it [00:44,  2.82it/s]\u001b[A\n",
            "131it [00:45,  2.85it/s]\u001b[A\n",
            "132it [00:45,  2.85it/s]\u001b[A\n",
            "133it [00:45,  2.90it/s]\u001b[A\n",
            "134it [00:46,  2.93it/s]\u001b[A\n",
            "135it [00:46,  2.95it/s]\u001b[A\n",
            "136it [00:46,  2.96it/s]\u001b[A\n",
            "137it [00:47,  2.94it/s]\u001b[A\n",
            "138it [00:47,  2.92it/s]\u001b[A\n",
            "139it [00:47,  2.91it/s]\u001b[A\n",
            "140it [00:48,  2.50it/s]\u001b[A\n",
            "141it [00:48,  2.56it/s]\u001b[A\n",
            "142it [00:49,  2.68it/s]\u001b[A\n",
            "143it [00:49,  2.77it/s]\u001b[A\n",
            "144it [00:49,  2.85it/s]\u001b[A\n",
            "145it [00:50,  2.89it/s]\u001b[A\n",
            "146it [00:50,  2.93it/s]\u001b[A\n",
            "147it [00:50,  2.96it/s]\u001b[A\n",
            "148it [00:51,  2.97it/s]\u001b[A\n",
            "149it [00:51,  2.99it/s]\u001b[A\n",
            "150it [00:51,  2.97it/s]\u001b[A\n",
            "151it [00:52,  3.00it/s]\u001b[A\n",
            "152it [00:52,  3.00it/s]\u001b[A\n",
            "153it [00:52,  3.02it/s]\u001b[A\n",
            "154it [00:53,  3.04it/s]\u001b[A\n",
            "155it [00:53,  3.02it/s]\u001b[A\n",
            "156it [00:53,  2.59it/s]\u001b[A\n",
            "157it [00:54,  2.69it/s]\u001b[A\n",
            "158it [00:54,  2.80it/s]\u001b[A\n",
            "159it [00:54,  2.86it/s]\u001b[A\n",
            "160it [00:55,  2.91it/s]\u001b[A\n",
            "161it [00:55,  2.92it/s]\u001b[A\n",
            "162it [00:55,  2.96it/s]\u001b[A\n",
            "163it [00:56,  2.95it/s]\u001b[A\n",
            "164it [00:56,  2.95it/s]\u001b[A\n",
            "165it [00:56,  2.97it/s]\u001b[A\n",
            "166it [00:57,  2.95it/s]\u001b[A\n",
            "167it [00:57,  2.96it/s]\u001b[A\n",
            "168it [00:57,  2.98it/s]\u001b[A\n",
            "169it [00:58,  2.97it/s]\u001b[A\n",
            "170it [00:58,  2.97it/s]\u001b[A\n",
            "171it [00:59,  2.50it/s]\u001b[A\n",
            "172it [00:59,  2.62it/s]\u001b[A\n",
            "173it [00:59,  2.68it/s]\u001b[A\n",
            "174it [01:00,  2.73it/s]\u001b[A\n",
            "175it [01:00,  2.75it/s]\u001b[A\n",
            "176it [01:00,  2.80it/s]\u001b[A\n",
            "177it [01:01,  2.86it/s]\u001b[A\n",
            "178it [01:01,  2.90it/s]\u001b[A\n",
            "179it [01:01,  2.93it/s]\u001b[A\n",
            "180it [01:02,  2.92it/s]\u001b[A\n",
            "181it [01:02,  2.93it/s]\u001b[A\n",
            "182it [01:02,  2.94it/s]\u001b[A\n",
            "183it [01:03,  2.92it/s]\u001b[A\n",
            "184it [01:03,  2.92it/s]\u001b[A\n",
            "185it [01:04,  2.93it/s]\u001b[A\n",
            "186it [01:04,  2.51it/s]\u001b[A\n",
            "187it [01:04,  2.61it/s]\u001b[A\n",
            "188it [01:05,  2.70it/s]\u001b[A\n",
            "189it [01:05,  2.78it/s]\u001b[A\n",
            "190it [01:05,  2.84it/s]\u001b[A\n",
            "191it [01:06,  2.86it/s]\u001b[A\n",
            "192it [01:06,  2.90it/s]\u001b[A\n",
            "193it [01:06,  2.91it/s]\u001b[A\n",
            "194it [01:07,  2.92it/s]\u001b[A\n",
            "195it [01:07,  2.93it/s]\u001b[A\n",
            "196it [01:07,  2.93it/s]\u001b[A\n",
            "197it [01:08,  2.93it/s]\u001b[A\n",
            "198it [01:08,  2.96it/s]\u001b[A\n",
            "199it [01:08,  2.96it/s]\u001b[A\n",
            "200it [01:09,  2.93it/s]\u001b[A\n",
            "201it [01:09,  2.54it/s]\u001b[A\n",
            "202it [01:10,  2.65it/s]\u001b[A\n",
            "203it [01:10,  2.71it/s]\u001b[A\n",
            "204it [01:10,  2.76it/s]\u001b[A\n",
            "205it [01:11,  2.76it/s]\u001b[A\n",
            "206it [01:11,  2.80it/s]\u001b[A\n",
            "207it [01:11,  2.79it/s]\u001b[A\n",
            "208it [01:12,  2.82it/s]\u001b[A\n",
            "209it [01:12,  2.83it/s]\u001b[A\n",
            "210it [01:12,  2.82it/s]\u001b[A\n",
            "211it [01:13,  2.82it/s]\u001b[A\n",
            "212it [01:13,  2.86it/s]\u001b[A\n",
            "213it [01:14,  2.89it/s]\u001b[A\n",
            "214it [01:14,  2.87it/s]\u001b[A\n",
            "215it [01:14,  2.49it/s]\u001b[A\n",
            "216it [01:15,  2.60it/s]\u001b[A\n",
            "217it [01:15,  2.72it/s]\u001b[A\n",
            "218it [01:15,  2.76it/s]\u001b[A\n",
            "219it [01:16,  2.79it/s]\u001b[A\n",
            "220it [01:16,  2.82it/s]\u001b[A\n",
            "221it [01:16,  2.87it/s]\u001b[A\n",
            "222it [01:17,  2.87it/s]\u001b[A\n",
            "223it [01:17,  2.90it/s]\u001b[A\n",
            "224it [01:17,  2.90it/s]\u001b[A\n",
            "225it [01:18,  2.89it/s]\u001b[A\n",
            "226it [01:18,  2.91it/s]\u001b[A\n",
            "227it [01:18,  2.93it/s]\u001b[A\n",
            "228it [01:19,  2.91it/s]\u001b[A\n",
            "229it [01:19,  2.51it/s]\u001b[A\n",
            "230it [01:20,  2.64it/s]\u001b[A\n",
            "231it [01:20,  2.73it/s]\u001b[A\n",
            "232it [01:20,  2.80it/s]\u001b[A\n",
            "233it [01:21,  2.84it/s]\u001b[A\n",
            "234it [01:21,  2.87it/s]\u001b[A\n",
            "235it [01:21,  2.92it/s]\u001b[A\n",
            "236it [01:22,  2.95it/s]\u001b[A\n",
            "237it [01:22,  2.94it/s]\u001b[A\n",
            "238it [01:22,  2.93it/s]\u001b[A\n",
            "239it [01:23,  2.90it/s]\u001b[A\n",
            "240it [01:23,  2.88it/s]\u001b[A\n",
            "241it [01:23,  2.84it/s]\u001b[A\n",
            "242it [01:24,  2.81it/s]\u001b[A\n",
            "243it [01:24,  2.81it/s]\u001b[A\n",
            "244it [01:25,  2.42it/s]\u001b[A\n",
            "245it [01:25,  2.56it/s]\u001b[A\n",
            "246it [01:25,  2.67it/s]\u001b[A\n",
            "247it [01:26,  2.75it/s]\u001b[A\n",
            "248it [01:26,  2.81it/s]\u001b[A\n",
            "249it [01:26,  2.84it/s]\u001b[A\n",
            "250it [01:27,  2.84it/s]\u001b[A\n",
            "251it [01:27,  2.81it/s]\u001b[A\n",
            "252it [01:27,  2.84it/s]\u001b[A\n",
            "253it [01:28,  2.86it/s]\u001b[A\n",
            "254it [01:28,  2.90it/s]\u001b[A\n",
            "255it [01:29,  2.91it/s]\u001b[A\n",
            "256it [01:29,  2.90it/s]\u001b[A\n",
            "257it [01:29,  2.90it/s]\u001b[A\n",
            "258it [01:30,  2.92it/s]\u001b[A\n",
            "259it [01:30,  2.48it/s]\u001b[A\n",
            "260it [01:30,  2.58it/s]\u001b[A\n",
            "261it [01:31,  2.67it/s]\u001b[A\n",
            "262it [01:31,  2.73it/s]\u001b[A\n",
            "263it [01:31,  2.78it/s]\u001b[A\n",
            "264it [01:32,  2.83it/s]\u001b[A\n",
            "265it [01:32,  2.86it/s]\u001b[A\n",
            "266it [01:32,  2.91it/s]\u001b[A\n",
            "267it [01:33,  2.93it/s]\u001b[A\n",
            "268it [01:33,  2.93it/s]\u001b[A\n",
            "269it [01:33,  2.93it/s]\u001b[A\n",
            "270it [01:34,  2.92it/s]\u001b[A\n",
            "271it [01:34,  2.92it/s]\u001b[A\n",
            "272it [01:35,  2.94it/s]\u001b[A\n",
            "273it [01:35,  2.88it/s]\u001b[A\n",
            "274it [01:35,  2.47it/s]\u001b[A\n",
            "275it [01:36,  2.54it/s]\u001b[A\n",
            "276it [01:36,  2.62it/s]\u001b[A\n",
            "277it [01:36,  2.67it/s]\u001b[A\n",
            "278it [01:37,  2.74it/s]\u001b[A\n",
            "279it [01:37,  2.77it/s]\u001b[A\n",
            "280it [01:38,  2.83it/s]\u001b[A\n",
            "281it [01:38,  2.86it/s]\u001b[A\n",
            "282it [01:38,  2.87it/s]\u001b[A\n",
            "283it [01:39,  2.88it/s]\u001b[A\n",
            "284it [01:39,  2.91it/s]\u001b[A\n",
            "285it [01:39,  2.94it/s]\u001b[A\n",
            "286it [01:40,  2.96it/s]\u001b[A\n",
            "287it [01:40,  2.92it/s]\u001b[A\n",
            "288it [01:40,  2.92it/s]\u001b[A\n",
            "289it [01:41,  2.50it/s]\u001b[A\n",
            "290it [01:41,  2.63it/s]\u001b[A\n",
            "291it [01:41,  2.70it/s]\u001b[A\n",
            "292it [01:42,  2.78it/s]\u001b[A\n",
            "293it [01:42,  2.77it/s]\u001b[A\n",
            "294it [01:43,  2.82it/s]\u001b[A\n",
            "295it [01:43,  2.83it/s]\u001b[A\n",
            "296it [01:43,  2.85it/s]\u001b[A\n",
            "297it [01:44,  2.89it/s]\u001b[A\n",
            "298it [01:44,  2.90it/s]\u001b[A\n",
            "299it [01:44,  2.86it/s]\u001b[A\n",
            "300it [01:45,  2.86it/s]\u001b[A\n",
            "301it [01:45,  2.86it/s]\u001b[A\n",
            "302it [01:45,  2.88it/s]\u001b[A\n",
            "303it [01:46,  2.52it/s]\u001b[A\n",
            "304it [01:46,  2.60it/s]\u001b[A\n",
            "305it [01:46,  2.69it/s]\u001b[A\n",
            "306it [01:47,  2.73it/s]\u001b[A\n",
            "307it [01:47,  2.79it/s]\u001b[A\n",
            "308it [01:48,  2.82it/s]\u001b[A\n",
            "309it [01:48,  2.83it/s]\u001b[A\n",
            "310it [01:48,  2.81it/s]\u001b[A\n",
            "311it [01:49,  2.78it/s]\u001b[A\n",
            "312it [01:49,  2.81it/s]\u001b[A\n",
            "313it [01:49,  2.88it/s]\u001b[A\n",
            "314it [01:50,  2.91it/s]\u001b[A\n",
            "315it [01:50,  2.93it/s]\u001b[A\n",
            "316it [01:50,  2.98it/s]\u001b[A\n",
            "317it [01:51,  2.99it/s]\u001b[A\n",
            "318it [01:51,  2.57it/s]\u001b[A\n",
            "319it [01:51,  2.68it/s]\u001b[A\n",
            "320it [01:52,  2.77it/s]\u001b[A\n",
            "321it [01:52,  2.85it/s]\u001b[A\n",
            "322it [01:52,  2.88it/s]\u001b[A\n",
            "323it [01:53,  2.89it/s]\u001b[A\n",
            "324it [01:53,  2.93it/s]\u001b[A\n",
            "325it [01:53,  2.95it/s]\u001b[A\n",
            "326it [01:54,  2.96it/s]\u001b[A\n",
            "327it [01:54,  3.00it/s]\u001b[A\n",
            "328it [01:54,  2.99it/s]\u001b[A\n",
            "329it [01:55,  3.02it/s]\u001b[A\n",
            "330it [01:55,  3.04it/s]\u001b[A\n",
            "331it [01:55,  3.04it/s]\u001b[A\n",
            "332it [01:56,  3.01it/s]\u001b[A\n",
            "333it [01:56,  2.58it/s]\u001b[A\n",
            "334it [01:57,  2.69it/s]\u001b[A\n",
            "335it [01:57,  2.78it/s]\u001b[A\n",
            "336it [01:57,  2.86it/s]\u001b[A\n",
            "337it [01:58,  2.92it/s]\u001b[A\n",
            "338it [01:58,  2.94it/s]\u001b[A\n",
            "339it [01:58,  2.97it/s]\u001b[A\n",
            "340it [01:59,  2.95it/s]\u001b[A\n",
            "341it [01:59,  2.93it/s]\u001b[A\n",
            "342it [01:59,  2.91it/s]\u001b[A\n",
            "343it [02:00,  2.90it/s]\u001b[A\n",
            "344it [02:00,  2.91it/s]\u001b[A\n",
            "345it [02:00,  2.87it/s]\u001b[A\n",
            "346it [02:01,  2.89it/s]\u001b[A\n",
            "347it [02:01,  2.96it/s]\u001b[A\n",
            "348it [02:02,  2.54it/s]\u001b[A\n",
            "349it [02:02,  2.69it/s]\u001b[A\n",
            "350it [02:02,  2.80it/s]\u001b[A\n",
            "351it [02:03,  2.87it/s]\u001b[A\n",
            "352it [02:03,  2.91it/s]\u001b[A\n",
            "353it [02:03,  2.97it/s]\u001b[A\n",
            "354it [02:04,  3.00it/s]\u001b[A\n",
            "355it [02:04,  3.02it/s]\u001b[A\n",
            "356it [02:04,  3.07it/s]\u001b[A\n",
            "357it [02:04,  3.08it/s]\u001b[A\n",
            "358it [02:05,  3.07it/s]\u001b[A\n",
            "359it [02:05,  3.08it/s]\u001b[A\n",
            "360it [02:05,  3.07it/s]\u001b[A\n",
            "361it [02:06,  3.07it/s]\u001b[A\n",
            "362it [02:06,  2.63it/s]\u001b[A\n",
            "363it [02:07,  2.76it/s]\u001b[A\n",
            "364it [02:07,  2.85it/s]\u001b[A\n",
            "365it [02:07,  2.92it/s]\u001b[A\n",
            "366it [02:08,  2.96it/s]\u001b[A\n",
            "367it [02:08,  2.99it/s]\u001b[A\n",
            "368it [02:08,  3.02it/s]\u001b[A\n",
            "369it [02:09,  3.03it/s]\u001b[A\n",
            "370it [02:09,  3.00it/s]\u001b[A\n",
            "371it [02:09,  3.01it/s]\u001b[A\n",
            "372it [02:10,  3.03it/s]\u001b[A\n",
            "373it [02:10,  3.01it/s]\u001b[A\n",
            "374it [02:10,  3.05it/s]\u001b[A\n",
            "375it [02:11,  2.86it/s]\n",
            "\n",
            "0it [00:00, ?it/s]\u001b[A"
          ]
        },
        {
          "name": "stdout",
          "output_type": "stream",
          "text": [
            "\tIter 10/ 50 - Loss: 0.253\n",
            "\tIter 20/ 50 - Loss: 0.234\n",
            "\tIter 30/ 50 - Loss: 0.228\n",
            "\tIter 40/ 50 - Loss: 0.226\n",
            "\tIter 50/ 50 - Loss: 0.225\n"
          ]
        },
        {
          "name": "stderr",
          "output_type": "stream",
          "text": [
            "\n",
            "1it [00:02,  2.61s/it]\u001b[A"
          ]
        },
        {
          "name": "stdout",
          "output_type": "stream",
          "text": [
            "\tIter 10/ 50 - Loss: 0.255\n",
            "\tIter 20/ 50 - Loss: 0.241\n",
            "\tIter 30/ 50 - Loss: 0.235\n",
            "\tIter 40/ 50 - Loss: 0.233\n",
            "\tIter 50/ 50 - Loss: 0.233\n"
          ]
        },
        {
          "name": "stderr",
          "output_type": "stream",
          "text": [
            "\n",
            "2it [00:05,  2.49s/it]\u001b[A"
          ]
        },
        {
          "name": "stdout",
          "output_type": "stream",
          "text": [
            "\tIter 10/ 50 - Loss: 0.245\n",
            "\tIter 20/ 50 - Loss: 0.232\n",
            "\tIter 30/ 50 - Loss: 0.229\n",
            "\tIter 40/ 50 - Loss: 0.228\n",
            "\tIter 50/ 50 - Loss: 0.228\n"
          ]
        },
        {
          "name": "stderr",
          "output_type": "stream",
          "text": [
            "\n",
            "3it [00:07,  2.44s/it]\u001b[A"
          ]
        },
        {
          "name": "stdout",
          "output_type": "stream",
          "text": [
            "\tIter 10/ 50 - Loss: 0.288\n",
            "\tIter 20/ 50 - Loss: 0.268\n",
            "\tIter 30/ 50 - Loss: 0.258\n",
            "\tIter 40/ 50 - Loss: 0.253\n",
            "\tIter 50/ 50 - Loss: 0.249\n"
          ]
        },
        {
          "name": "stderr",
          "output_type": "stream",
          "text": [
            "\n",
            "4it [00:09,  2.47s/it]\u001b[A"
          ]
        },
        {
          "name": "stdout",
          "output_type": "stream",
          "text": [
            "\tIter 10/ 50 - Loss: 0.27\n",
            "\tIter 20/ 50 - Loss: 0.252\n",
            "\tIter 30/ 50 - Loss: 0.244\n",
            "\tIter 40/ 50 - Loss: 0.24\n",
            "\tIter 50/ 50 - Loss: 0.238\n"
          ]
        },
        {
          "name": "stderr",
          "output_type": "stream",
          "text": [
            "\n",
            "5it [00:12,  2.47s/it]\u001b[A"
          ]
        },
        {
          "name": "stdout",
          "output_type": "stream",
          "text": [
            "\tIter 10/ 50 - Loss: 0.263\n",
            "\tIter 20/ 50 - Loss: 0.248\n",
            "\tIter 30/ 50 - Loss: 0.243\n",
            "\tIter 40/ 50 - Loss: 0.241\n",
            "\tIter 50/ 50 - Loss: 0.239\n"
          ]
        },
        {
          "name": "stderr",
          "output_type": "stream",
          "text": [
            "\n",
            "6it [00:14,  2.46s/it]\u001b[A"
          ]
        },
        {
          "name": "stdout",
          "output_type": "stream",
          "text": [
            "\tIter 10/ 50 - Loss: 0.256\n",
            "\tIter 20/ 50 - Loss: 0.246\n",
            "\tIter 30/ 50 - Loss: 0.243\n",
            "\tIter 40/ 50 - Loss: 0.241\n",
            "\tIter 50/ 50 - Loss: 0.241\n"
          ]
        },
        {
          "name": "stderr",
          "output_type": "stream",
          "text": [
            "\n",
            "7it [00:17,  2.45s/it]\u001b[A"
          ]
        },
        {
          "name": "stdout",
          "output_type": "stream",
          "text": [
            "\tIter 10/ 50 - Loss: 0.265\n",
            "\tIter 20/ 50 - Loss: 0.249\n",
            "\tIter 30/ 50 - Loss: 0.243\n",
            "\tIter 40/ 50 - Loss: 0.24\n",
            "\tIter 50/ 50 - Loss: 0.239\n"
          ]
        },
        {
          "name": "stderr",
          "output_type": "stream",
          "text": [
            "\n",
            "8it [00:19,  2.43s/it]\u001b[A"
          ]
        },
        {
          "name": "stdout",
          "output_type": "stream",
          "text": [
            "\tIter 10/ 50 - Loss: 0.274\n",
            "\tIter 20/ 50 - Loss: 0.257\n",
            "\tIter 30/ 50 - Loss: 0.249\n",
            "\tIter 40/ 50 - Loss: 0.245\n",
            "\tIter 50/ 50 - Loss: 0.242\n"
          ]
        },
        {
          "name": "stderr",
          "output_type": "stream",
          "text": [
            "\n",
            "9it [00:22,  2.49s/it]\u001b[A"
          ]
        },
        {
          "name": "stdout",
          "output_type": "stream",
          "text": [
            "\tIter 10/ 50 - Loss: 0.282\n",
            "\tIter 20/ 50 - Loss: 0.261\n",
            "\tIter 30/ 50 - Loss: 0.253\n",
            "\tIter 40/ 50 - Loss: 0.248\n",
            "\tIter 50/ 50 - Loss: 0.246\n"
          ]
        },
        {
          "name": "stderr",
          "output_type": "stream",
          "text": [
            "\n",
            "10it [00:24,  2.48s/it]\u001b[A"
          ]
        },
        {
          "name": "stdout",
          "output_type": "stream",
          "text": [
            "\tIter 10/ 50 - Loss: 0.318\n",
            "\tIter 20/ 50 - Loss: 0.287\n",
            "\tIter 30/ 50 - Loss: 0.269\n",
            "\tIter 40/ 50 - Loss: 0.256\n",
            "\tIter 50/ 50 - Loss: 0.249\n"
          ]
        },
        {
          "name": "stderr",
          "output_type": "stream",
          "text": [
            "\n",
            "11it [00:27,  2.45s/it]\u001b[A"
          ]
        },
        {
          "name": "stdout",
          "output_type": "stream",
          "text": [
            "\tIter 10/ 50 - Loss: 0.299\n",
            "\tIter 20/ 50 - Loss: 0.28\n",
            "\tIter 30/ 50 - Loss: 0.266\n",
            "\tIter 40/ 50 - Loss: 0.256\n",
            "\tIter 50/ 50 - Loss: 0.248\n"
          ]
        },
        {
          "name": "stderr",
          "output_type": "stream",
          "text": [
            "\n",
            "12it [00:29,  2.44s/it]\u001b[A"
          ]
        },
        {
          "name": "stdout",
          "output_type": "stream",
          "text": [
            "\tIter 10/ 50 - Loss: 0.262\n",
            "\tIter 20/ 50 - Loss: 0.252\n",
            "\tIter 30/ 50 - Loss: 0.248\n",
            "\tIter 40/ 50 - Loss: 0.246\n",
            "\tIter 50/ 50 - Loss: 0.245\n"
          ]
        },
        {
          "name": "stderr",
          "output_type": "stream",
          "text": [
            "\n",
            "13it [00:31,  2.43s/it]\u001b[A"
          ]
        },
        {
          "name": "stdout",
          "output_type": "stream",
          "text": [
            "\tIter 10/ 50 - Loss: 0.314\n",
            "\tIter 20/ 50 - Loss: 0.275\n",
            "\tIter 30/ 50 - Loss: 0.26\n",
            "\tIter 40/ 50 - Loss: 0.253\n",
            "\tIter 50/ 50 - Loss: 0.25\n"
          ]
        },
        {
          "name": "stderr",
          "output_type": "stream",
          "text": [
            "\n",
            "14it [00:34,  2.44s/it]\u001b[A"
          ]
        },
        {
          "name": "stdout",
          "output_type": "stream",
          "text": [
            "\tIter 10/ 50 - Loss: 0.296\n",
            "\tIter 20/ 50 - Loss: 0.266\n",
            "\tIter 30/ 50 - Loss: 0.255\n",
            "\tIter 40/ 50 - Loss: 0.251\n",
            "\tIter 50/ 50 - Loss: 0.249\n"
          ]
        },
        {
          "name": "stderr",
          "output_type": "stream",
          "text": [
            "\n",
            "15it [00:36,  2.47s/it]\u001b[A"
          ]
        },
        {
          "name": "stdout",
          "output_type": "stream",
          "text": [
            "\tIter 10/ 50 - Loss: 0.32\n",
            "\tIter 20/ 50 - Loss: 0.286\n",
            "\tIter 30/ 50 - Loss: 0.27\n",
            "\tIter 40/ 50 - Loss: 0.26\n",
            "\tIter 50/ 50 - Loss: 0.255\n"
          ]
        },
        {
          "name": "stderr",
          "output_type": "stream",
          "text": [
            "\n",
            "16it [00:39,  2.50s/it]\u001b[A"
          ]
        },
        {
          "name": "stdout",
          "output_type": "stream",
          "text": [
            "\tIter 10/ 50 - Loss: 0.313\n",
            "\tIter 20/ 50 - Loss: 0.285\n",
            "\tIter 30/ 50 - Loss: 0.275\n",
            "\tIter 40/ 50 - Loss: 0.27\n",
            "\tIter 50/ 50 - Loss: 0.268\n"
          ]
        },
        {
          "name": "stderr",
          "output_type": "stream",
          "text": [
            "\n",
            "17it [00:41,  2.48s/it]\u001b[A"
          ]
        },
        {
          "name": "stdout",
          "output_type": "stream",
          "text": [
            "\tIter 10/ 50 - Loss: 0.298\n",
            "\tIter 20/ 50 - Loss: 0.272\n",
            "\tIter 30/ 50 - Loss: 0.261\n",
            "\tIter 40/ 50 - Loss: 0.255\n",
            "\tIter 50/ 50 - Loss: 0.251\n"
          ]
        },
        {
          "name": "stderr",
          "output_type": "stream",
          "text": [
            "\n",
            "18it [00:44,  2.46s/it]\u001b[A"
          ]
        },
        {
          "name": "stdout",
          "output_type": "stream",
          "text": [
            "\tIter 10/ 50 - Loss: 0.303\n",
            "\tIter 20/ 50 - Loss: 0.275\n",
            "\tIter 30/ 50 - Loss: 0.263\n",
            "\tIter 40/ 50 - Loss: 0.257\n",
            "\tIter 50/ 50 - Loss: 0.254\n"
          ]
        },
        {
          "name": "stderr",
          "output_type": "stream",
          "text": [
            "\n",
            "19it [00:46,  2.45s/it]\u001b[A"
          ]
        },
        {
          "name": "stdout",
          "output_type": "stream",
          "text": [
            "\tIter 10/ 50 - Loss: 0.31\n",
            "\tIter 20/ 50 - Loss: 0.278\n",
            "\tIter 30/ 50 - Loss: 0.265\n",
            "\tIter 40/ 50 - Loss: 0.258\n",
            "\tIter 50/ 50 - Loss: 0.255\n"
          ]
        },
        {
          "name": "stderr",
          "output_type": "stream",
          "text": [
            "\n",
            "20it [00:49,  2.47s/it]\u001b[A"
          ]
        },
        {
          "name": "stdout",
          "output_type": "stream",
          "text": [
            "\tIter 10/ 50 - Loss: 0.273\n",
            "\tIter 20/ 50 - Loss: 0.259\n",
            "\tIter 30/ 50 - Loss: 0.254\n",
            "\tIter 40/ 50 - Loss: 0.252\n",
            "\tIter 50/ 50 - Loss: 0.251\n"
          ]
        },
        {
          "name": "stderr",
          "output_type": "stream",
          "text": [
            "\n",
            "21it [00:51,  2.45s/it]\u001b[A"
          ]
        },
        {
          "name": "stdout",
          "output_type": "stream",
          "text": [
            "\tIter 10/ 50 - Loss: 0.288\n",
            "\tIter 20/ 50 - Loss: 0.27\n",
            "\tIter 30/ 50 - Loss: 0.261\n",
            "\tIter 40/ 50 - Loss: 0.256\n",
            "\tIter 50/ 50 - Loss: 0.252\n"
          ]
        },
        {
          "name": "stderr",
          "output_type": "stream",
          "text": [
            "\n",
            "22it [00:54,  2.45s/it]\u001b[A"
          ]
        },
        {
          "name": "stdout",
          "output_type": "stream",
          "text": [
            "\tIter 10/ 50 - Loss: 0.298\n",
            "\tIter 20/ 50 - Loss: 0.281\n",
            "\tIter 30/ 50 - Loss: 0.273\n",
            "\tIter 40/ 50 - Loss: 0.268\n",
            "\tIter 50/ 50 - Loss: 0.265\n"
          ]
        },
        {
          "name": "stderr",
          "output_type": "stream",
          "text": [
            "\n",
            "23it [00:56,  2.44s/it]\u001b[A"
          ]
        },
        {
          "name": "stdout",
          "output_type": "stream",
          "text": [
            "\tIter 10/ 50 - Loss: 0.285\n",
            "\tIter 20/ 50 - Loss: 0.269\n",
            "\tIter 30/ 50 - Loss: 0.263\n",
            "\tIter 40/ 50 - Loss: 0.26\n",
            "\tIter 50/ 50 - Loss: 0.259\n"
          ]
        },
        {
          "name": "stderr",
          "output_type": "stream",
          "text": [
            "\n",
            "24it [00:59,  2.50s/it]\u001b[A"
          ]
        },
        {
          "name": "stdout",
          "output_type": "stream",
          "text": [
            "\tIter 10/ 50 - Loss: 0.291\n",
            "\tIter 20/ 50 - Loss: 0.272\n",
            "\tIter 30/ 50 - Loss: 0.264\n",
            "\tIter 40/ 50 - Loss: 0.26\n",
            "\tIter 50/ 50 - Loss: 0.257\n"
          ]
        },
        {
          "name": "stderr",
          "output_type": "stream",
          "text": [
            "\n",
            "25it [01:01,  2.49s/it]\u001b[A"
          ]
        },
        {
          "name": "stdout",
          "output_type": "stream",
          "text": [
            "\tIter 10/ 50 - Loss: 0.311\n",
            "\tIter 20/ 50 - Loss: 0.288\n",
            "\tIter 30/ 50 - Loss: 0.275\n",
            "\tIter 40/ 50 - Loss: 0.267\n",
            "\tIter 50/ 50 - Loss: 0.262\n"
          ]
        },
        {
          "name": "stderr",
          "output_type": "stream",
          "text": [
            "\n",
            "26it [01:04,  2.47s/it]\u001b[A"
          ]
        },
        {
          "name": "stdout",
          "output_type": "stream",
          "text": [
            "\tIter 10/ 50 - Loss: 0.283\n",
            "\tIter 20/ 50 - Loss: 0.272\n",
            "\tIter 30/ 50 - Loss: 0.268\n",
            "\tIter 40/ 50 - Loss: 0.267\n",
            "\tIter 50/ 50 - Loss: 0.266\n"
          ]
        },
        {
          "name": "stderr",
          "output_type": "stream",
          "text": [
            "\n",
            "27it [01:06,  2.46s/it]\u001b[A"
          ]
        },
        {
          "name": "stdout",
          "output_type": "stream",
          "text": [
            "\tIter 10/ 50 - Loss: 0.324\n",
            "\tIter 20/ 50 - Loss: 0.295\n",
            "\tIter 30/ 50 - Loss: 0.282\n",
            "\tIter 40/ 50 - Loss: 0.274\n",
            "\tIter 50/ 50 - Loss: 0.269\n"
          ]
        },
        {
          "name": "stderr",
          "output_type": "stream",
          "text": [
            "\n",
            "28it [01:08,  2.45s/it]\u001b[A"
          ]
        },
        {
          "name": "stdout",
          "output_type": "stream",
          "text": [
            "\tIter 10/ 50 - Loss: 0.316\n",
            "\tIter 20/ 50 - Loss: 0.294\n",
            "\tIter 30/ 50 - Loss: 0.283\n",
            "\tIter 40/ 50 - Loss: 0.276\n",
            "\tIter 50/ 50 - Loss: 0.272\n"
          ]
        },
        {
          "name": "stderr",
          "output_type": "stream",
          "text": [
            "\n",
            "29it [01:11,  2.45s/it]\u001b[A"
          ]
        },
        {
          "name": "stdout",
          "output_type": "stream",
          "text": [
            "\tIter 10/ 50 - Loss: 0.293\n",
            "\tIter 20/ 50 - Loss: 0.277\n",
            "\tIter 30/ 50 - Loss: 0.271\n",
            "\tIter 40/ 50 - Loss: 0.267\n",
            "\tIter 50/ 50 - Loss: 0.265\n"
          ]
        },
        {
          "name": "stderr",
          "output_type": "stream",
          "text": [
            "\n",
            "30it [01:13,  2.47s/it]\u001b[A"
          ]
        },
        {
          "name": "stdout",
          "output_type": "stream",
          "text": [
            "\tIter 10/ 50 - Loss: 0.329\n",
            "\tIter 20/ 50 - Loss: 0.299\n",
            "\tIter 30/ 50 - Loss: 0.286\n",
            "\tIter 40/ 50 - Loss: 0.278\n",
            "\tIter 50/ 50 - Loss: 0.273\n"
          ]
        },
        {
          "name": "stderr",
          "output_type": "stream",
          "text": [
            "\n",
            "31it [01:16,  2.52s/it]\u001b[A"
          ]
        },
        {
          "name": "stdout",
          "output_type": "stream",
          "text": [
            "\tIter 10/ 50 - Loss: 0.305\n",
            "\tIter 20/ 50 - Loss: 0.287\n",
            "\tIter 30/ 50 - Loss: 0.28\n",
            "\tIter 40/ 50 - Loss: 0.276\n",
            "\tIter 50/ 50 - Loss: 0.274\n"
          ]
        },
        {
          "name": "stderr",
          "output_type": "stream",
          "text": [
            "\n",
            "32it [01:19,  2.50s/it]\u001b[A"
          ]
        },
        {
          "name": "stdout",
          "output_type": "stream",
          "text": [
            "\tIter 10/ 50 - Loss: 0.319\n",
            "\tIter 20/ 50 - Loss: 0.292\n",
            "\tIter 30/ 50 - Loss: 0.281\n",
            "\tIter 40/ 50 - Loss: 0.275\n",
            "\tIter 50/ 50 - Loss: 0.271\n"
          ]
        },
        {
          "name": "stderr",
          "output_type": "stream",
          "text": [
            "\n",
            "33it [01:21,  2.47s/it]\u001b[A"
          ]
        },
        {
          "name": "stdout",
          "output_type": "stream",
          "text": [
            "\tIter 10/ 50 - Loss: 0.342\n",
            "\tIter 20/ 50 - Loss: 0.303\n",
            "\tIter 30/ 50 - Loss: 0.29\n",
            "\tIter 40/ 50 - Loss: 0.283\n",
            "\tIter 50/ 50 - Loss: 0.28\n"
          ]
        },
        {
          "name": "stderr",
          "output_type": "stream",
          "text": [
            "\n",
            "34it [01:23,  2.47s/it]\u001b[A"
          ]
        },
        {
          "name": "stdout",
          "output_type": "stream",
          "text": [
            "\tIter 10/ 50 - Loss: 0.307\n",
            "\tIter 20/ 50 - Loss: 0.292\n",
            "\tIter 30/ 50 - Loss: 0.284\n",
            "\tIter 40/ 50 - Loss: 0.279\n",
            "\tIter 50/ 50 - Loss: 0.276\n"
          ]
        },
        {
          "name": "stderr",
          "output_type": "stream",
          "text": [
            "\n",
            "35it [01:26,  2.47s/it]\u001b[A"
          ]
        },
        {
          "name": "stdout",
          "output_type": "stream",
          "text": [
            "\tIter 10/ 50 - Loss: 0.368\n",
            "\tIter 20/ 50 - Loss: 0.321\n",
            "\tIter 30/ 50 - Loss: 0.301\n",
            "\tIter 40/ 50 - Loss: 0.291\n",
            "\tIter 50/ 50 - Loss: 0.285\n"
          ]
        },
        {
          "name": "stderr",
          "output_type": "stream",
          "text": [
            "\n",
            "36it [01:28,  2.45s/it]\u001b[A"
          ]
        },
        {
          "name": "stdout",
          "output_type": "stream",
          "text": [
            "\tIter 10/ 50 - Loss: 0.32\n",
            "\tIter 20/ 50 - Loss: 0.299\n",
            "\tIter 30/ 50 - Loss: 0.289\n",
            "\tIter 40/ 50 - Loss: 0.283\n",
            "\tIter 50/ 50 - Loss: 0.28\n"
          ]
        },
        {
          "name": "stderr",
          "output_type": "stream",
          "text": [
            "\n",
            "37it [01:31,  2.45s/it]\u001b[A"
          ]
        },
        {
          "name": "stdout",
          "output_type": "stream",
          "text": [
            "\tIter 10/ 50 - Loss: 0.322\n",
            "\tIter 20/ 50 - Loss: 0.297\n",
            "\tIter 30/ 50 - Loss: 0.286\n",
            "\tIter 40/ 50 - Loss: 0.28\n",
            "\tIter 50/ 50 - Loss: 0.277\n"
          ]
        },
        {
          "name": "stderr",
          "output_type": "stream",
          "text": [
            "\n",
            "38it [01:33,  2.45s/it]\u001b[A"
          ]
        },
        {
          "name": "stdout",
          "output_type": "stream",
          "text": [
            "\tIter 10/ 50 - Loss: 0.335\n",
            "\tIter 20/ 50 - Loss: 0.309\n",
            "\tIter 30/ 50 - Loss: 0.298\n",
            "\tIter 40/ 50 - Loss: 0.291\n",
            "\tIter 50/ 50 - Loss: 0.287\n"
          ]
        },
        {
          "name": "stderr",
          "output_type": "stream",
          "text": [
            "\n",
            "39it [01:36,  2.52s/it]\u001b[A"
          ]
        },
        {
          "name": "stdout",
          "output_type": "stream",
          "text": [
            "\tIter 10/ 50 - Loss: 0.324\n",
            "\tIter 20/ 50 - Loss: 0.307\n",
            "\tIter 30/ 50 - Loss: 0.3\n",
            "\tIter 40/ 50 - Loss: 0.297\n",
            "\tIter 50/ 50 - Loss: 0.296\n"
          ]
        },
        {
          "name": "stderr",
          "output_type": "stream",
          "text": [
            "\n",
            "40it [01:38,  2.51s/it]\u001b[A"
          ]
        },
        {
          "name": "stdout",
          "output_type": "stream",
          "text": [
            "\tIter 10/ 50 - Loss: 0.325\n",
            "\tIter 20/ 50 - Loss: 0.305\n",
            "\tIter 30/ 50 - Loss: 0.297\n",
            "\tIter 40/ 50 - Loss: 0.292\n",
            "\tIter 50/ 50 - Loss: 0.29\n"
          ]
        },
        {
          "name": "stderr",
          "output_type": "stream",
          "text": [
            "\n",
            "41it [01:41,  2.50s/it]\u001b[A"
          ]
        },
        {
          "name": "stdout",
          "output_type": "stream",
          "text": [
            "\tIter 10/ 50 - Loss: 0.302\n",
            "\tIter 20/ 50 - Loss: 0.288\n",
            "\tIter 30/ 50 - Loss: 0.284\n",
            "\tIter 40/ 50 - Loss: 0.282\n",
            "\tIter 50/ 50 - Loss: 0.281\n"
          ]
        },
        {
          "name": "stderr",
          "output_type": "stream",
          "text": [
            "\n",
            "42it [01:43,  2.49s/it]\u001b[A"
          ]
        },
        {
          "name": "stdout",
          "output_type": "stream",
          "text": [
            "\tIter 10/ 50 - Loss: 0.342\n",
            "\tIter 20/ 50 - Loss: 0.317\n",
            "\tIter 30/ 50 - Loss: 0.307\n",
            "\tIter 40/ 50 - Loss: 0.3\n",
            "\tIter 50/ 50 - Loss: 0.296\n"
          ]
        },
        {
          "name": "stderr",
          "output_type": "stream",
          "text": [
            "\n",
            "43it [01:46,  2.49s/it]\u001b[A"
          ]
        },
        {
          "name": "stdout",
          "output_type": "stream",
          "text": [
            "\tIter 10/ 50 - Loss: 0.314\n",
            "\tIter 20/ 50 - Loss: 0.297\n",
            "\tIter 30/ 50 - Loss: 0.289\n",
            "\tIter 40/ 50 - Loss: 0.286\n",
            "\tIter 50/ 50 - Loss: 0.284\n"
          ]
        },
        {
          "name": "stderr",
          "output_type": "stream",
          "text": [
            "\n",
            "44it [01:48,  2.50s/it]\u001b[A"
          ]
        },
        {
          "name": "stdout",
          "output_type": "stream",
          "text": [
            "\tIter 10/ 50 - Loss: 0.327\n",
            "\tIter 20/ 50 - Loss: 0.309\n",
            "\tIter 30/ 50 - Loss: 0.3\n",
            "\tIter 40/ 50 - Loss: 0.296\n",
            "\tIter 50/ 50 - Loss: 0.293\n"
          ]
        },
        {
          "name": "stderr",
          "output_type": "stream",
          "text": [
            "\n",
            "45it [01:51,  2.55s/it]\u001b[A"
          ]
        },
        {
          "name": "stdout",
          "output_type": "stream",
          "text": [
            "\tIter 10/ 50 - Loss: 0.328\n",
            "\tIter 20/ 50 - Loss: 0.31\n",
            "\tIter 30/ 50 - Loss: 0.302\n",
            "\tIter 40/ 50 - Loss: 0.298\n",
            "\tIter 50/ 50 - Loss: 0.295\n"
          ]
        },
        {
          "name": "stderr",
          "output_type": "stream",
          "text": [
            "\n",
            "46it [01:53,  2.54s/it]\u001b[A"
          ]
        },
        {
          "name": "stdout",
          "output_type": "stream",
          "text": [
            "\tIter 10/ 50 - Loss: 0.343\n",
            "\tIter 20/ 50 - Loss: 0.317\n",
            "\tIter 30/ 50 - Loss: 0.305\n",
            "\tIter 40/ 50 - Loss: 0.298\n",
            "\tIter 50/ 50 - Loss: 0.294\n"
          ]
        },
        {
          "name": "stderr",
          "output_type": "stream",
          "text": [
            "\n",
            "47it [01:56,  2.52s/it]\u001b[A"
          ]
        },
        {
          "name": "stdout",
          "output_type": "stream",
          "text": [
            "\tIter 10/ 50 - Loss: 0.337\n",
            "\tIter 20/ 50 - Loss: 0.318\n",
            "\tIter 30/ 50 - Loss: 0.309\n",
            "\tIter 40/ 50 - Loss: 0.304\n",
            "\tIter 50/ 50 - Loss: 0.301\n"
          ]
        },
        {
          "name": "stderr",
          "output_type": "stream",
          "text": [
            "\n",
            "48it [01:58,  2.49s/it]\u001b[A"
          ]
        },
        {
          "name": "stdout",
          "output_type": "stream",
          "text": [
            "\tIter 10/ 50 - Loss: 0.32\n",
            "\tIter 20/ 50 - Loss: 0.308\n",
            "\tIter 30/ 50 - Loss: 0.302\n",
            "\tIter 40/ 50 - Loss: 0.298\n",
            "\tIter 50/ 50 - Loss: 0.295\n"
          ]
        },
        {
          "name": "stderr",
          "output_type": "stream",
          "text": [
            "\n",
            "49it [02:01,  2.51s/it]\u001b[A"
          ]
        },
        {
          "name": "stdout",
          "output_type": "stream",
          "text": [
            "\tIter 10/ 50 - Loss: 0.356\n",
            "\tIter 20/ 50 - Loss: 0.33\n",
            "\tIter 30/ 50 - Loss: 0.315\n",
            "\tIter 40/ 50 - Loss: 0.306\n",
            "\tIter 50/ 50 - Loss: 0.3\n"
          ]
        },
        {
          "name": "stderr",
          "output_type": "stream",
          "text": [
            "\n",
            "50it [02:03,  2.50s/it]\u001b[A"
          ]
        },
        {
          "name": "stdout",
          "output_type": "stream",
          "text": [
            "\tIter 10/ 50 - Loss: 0.336\n",
            "\tIter 20/ 50 - Loss: 0.318\n",
            "\tIter 30/ 50 - Loss: 0.31\n",
            "\tIter 40/ 50 - Loss: 0.305\n",
            "\tIter 50/ 50 - Loss: 0.302\n"
          ]
        },
        {
          "name": "stderr",
          "output_type": "stream",
          "text": [
            "\n",
            "51it [02:06,  2.49s/it]\u001b[A"
          ]
        },
        {
          "name": "stdout",
          "output_type": "stream",
          "text": [
            "\tIter 10/ 50 - Loss: 0.348\n",
            "\tIter 20/ 50 - Loss: 0.327\n",
            "\tIter 30/ 50 - Loss: 0.317\n",
            "\tIter 40/ 50 - Loss: 0.31\n",
            "\tIter 50/ 50 - Loss: 0.306\n"
          ]
        },
        {
          "name": "stderr",
          "output_type": "stream",
          "text": [
            "\n",
            "52it [02:08,  2.48s/it]\u001b[A"
          ]
        },
        {
          "name": "stdout",
          "output_type": "stream",
          "text": [
            "\tIter 10/ 50 - Loss: 0.349\n",
            "\tIter 20/ 50 - Loss: 0.327\n",
            "\tIter 30/ 50 - Loss: 0.316\n",
            "\tIter 40/ 50 - Loss: 0.31\n",
            "\tIter 50/ 50 - Loss: 0.307\n"
          ]
        },
        {
          "name": "stderr",
          "output_type": "stream",
          "text": [
            "\n",
            "53it [02:11,  2.55s/it]\u001b[A"
          ]
        },
        {
          "name": "stdout",
          "output_type": "stream",
          "text": [
            "\tIter 10/ 50 - Loss: 0.345\n",
            "\tIter 20/ 50 - Loss: 0.324\n",
            "\tIter 30/ 50 - Loss: 0.314\n",
            "\tIter 40/ 50 - Loss: 0.307\n",
            "\tIter 50/ 50 - Loss: 0.302\n"
          ]
        },
        {
          "name": "stderr",
          "output_type": "stream",
          "text": [
            "\n",
            "54it [02:14,  2.54s/it]\u001b[A"
          ]
        },
        {
          "name": "stdout",
          "output_type": "stream",
          "text": [
            "\tIter 10/ 50 - Loss: 0.347\n",
            "\tIter 20/ 50 - Loss: 0.324\n",
            "\tIter 30/ 50 - Loss: 0.314\n",
            "\tIter 40/ 50 - Loss: 0.309\n",
            "\tIter 50/ 50 - Loss: 0.305\n"
          ]
        },
        {
          "name": "stderr",
          "output_type": "stream",
          "text": [
            "\n",
            "55it [02:16,  2.52s/it]\u001b[A"
          ]
        },
        {
          "name": "stdout",
          "output_type": "stream",
          "text": [
            "\tIter 10/ 50 - Loss: 0.349\n",
            "\tIter 20/ 50 - Loss: 0.325\n",
            "\tIter 30/ 50 - Loss: 0.315\n",
            "\tIter 40/ 50 - Loss: 0.309\n",
            "\tIter 50/ 50 - Loss: 0.305\n"
          ]
        },
        {
          "name": "stderr",
          "output_type": "stream",
          "text": [
            "\n",
            "56it [02:18,  2.50s/it]\u001b[A"
          ]
        },
        {
          "name": "stdout",
          "output_type": "stream",
          "text": [
            "\tIter 10/ 50 - Loss: 0.38\n",
            "\tIter 20/ 50 - Loss: 0.342\n",
            "\tIter 30/ 50 - Loss: 0.325\n",
            "\tIter 40/ 50 - Loss: 0.316\n",
            "\tIter 50/ 50 - Loss: 0.31\n"
          ]
        },
        {
          "name": "stderr",
          "output_type": "stream",
          "text": [
            "\n",
            "57it [02:21,  2.49s/it]\u001b[A"
          ]
        },
        {
          "name": "stdout",
          "output_type": "stream",
          "text": [
            "\tIter 10/ 50 - Loss: 0.381\n",
            "\tIter 20/ 50 - Loss: 0.355\n",
            "\tIter 30/ 50 - Loss: 0.339\n",
            "\tIter 40/ 50 - Loss: 0.329\n",
            "\tIter 50/ 50 - Loss: 0.321\n"
          ]
        },
        {
          "name": "stderr",
          "output_type": "stream",
          "text": [
            "\n",
            "58it [02:23,  2.48s/it]\u001b[A"
          ]
        },
        {
          "name": "stdout",
          "output_type": "stream",
          "text": [
            "\tIter 10/ 50 - Loss: 0.365\n",
            "\tIter 20/ 50 - Loss: 0.337\n",
            "\tIter 30/ 50 - Loss: 0.325\n",
            "\tIter 40/ 50 - Loss: 0.318\n",
            "\tIter 50/ 50 - Loss: 0.313\n"
          ]
        },
        {
          "name": "stderr",
          "output_type": "stream",
          "text": [
            "\n",
            "59it [02:26,  2.51s/it]\u001b[A"
          ]
        },
        {
          "name": "stdout",
          "output_type": "stream",
          "text": [
            "\tIter 10/ 50 - Loss: 0.357\n",
            "\tIter 20/ 50 - Loss: 0.333\n",
            "\tIter 30/ 50 - Loss: 0.324\n",
            "\tIter 40/ 50 - Loss: 0.319\n",
            "\tIter 50/ 50 - Loss: 0.316\n"
          ]
        },
        {
          "name": "stderr",
          "output_type": "stream",
          "text": [
            "\n",
            "60it [02:29,  2.57s/it]\u001b[A"
          ]
        },
        {
          "name": "stdout",
          "output_type": "stream",
          "text": [
            "\tIter 10/ 50 - Loss: 0.331\n",
            "\tIter 20/ 50 - Loss: 0.318\n",
            "\tIter 30/ 50 - Loss: 0.312\n",
            "\tIter 40/ 50 - Loss: 0.309\n",
            "\tIter 50/ 50 - Loss: 0.307\n"
          ]
        },
        {
          "name": "stderr",
          "output_type": "stream",
          "text": [
            "\n",
            "61it [02:31,  2.55s/it]\u001b[A"
          ]
        },
        {
          "name": "stdout",
          "output_type": "stream",
          "text": [
            "\tIter 10/ 50 - Loss: 0.374\n",
            "\tIter 20/ 50 - Loss: 0.343\n",
            "\tIter 30/ 50 - Loss: 0.33\n",
            "\tIter 40/ 50 - Loss: 0.323\n",
            "\tIter 50/ 50 - Loss: 0.319\n"
          ]
        },
        {
          "name": "stderr",
          "output_type": "stream",
          "text": [
            "\n",
            "62it [02:34,  2.55s/it]\u001b[A"
          ]
        },
        {
          "name": "stdout",
          "output_type": "stream",
          "text": [
            "\tIter 10/ 50 - Loss: 0.339\n",
            "\tIter 20/ 50 - Loss: 0.327\n",
            "\tIter 30/ 50 - Loss: 0.322\n",
            "\tIter 40/ 50 - Loss: 0.319\n",
            "\tIter 50/ 50 - Loss: 0.317\n"
          ]
        },
        {
          "name": "stderr",
          "output_type": "stream",
          "text": [
            "\n",
            "63it [02:36,  2.54s/it]\u001b[A"
          ]
        },
        {
          "name": "stdout",
          "output_type": "stream",
          "text": [
            "\tIter 10/ 50 - Loss: 0.352\n",
            "\tIter 20/ 50 - Loss: 0.335\n",
            "\tIter 30/ 50 - Loss: 0.326\n",
            "\tIter 40/ 50 - Loss: 0.321\n",
            "\tIter 50/ 50 - Loss: 0.317\n"
          ]
        },
        {
          "name": "stderr",
          "output_type": "stream",
          "text": [
            "\n",
            "64it [02:39,  2.55s/it]\u001b[A"
          ]
        },
        {
          "name": "stdout",
          "output_type": "stream",
          "text": [
            "\tIter 10/ 50 - Loss: 0.348\n",
            "\tIter 20/ 50 - Loss: 0.325\n",
            "\tIter 30/ 50 - Loss: 0.317\n",
            "\tIter 40/ 50 - Loss: 0.313\n",
            "\tIter 50/ 50 - Loss: 0.311\n"
          ]
        },
        {
          "name": "stderr",
          "output_type": "stream",
          "text": [
            "\n",
            "65it [02:41,  2.52s/it]\u001b[A"
          ]
        },
        {
          "name": "stdout",
          "output_type": "stream",
          "text": [
            "\tIter 10/ 50 - Loss: 0.373\n",
            "\tIter 20/ 50 - Loss: 0.349\n",
            "\tIter 30/ 50 - Loss: 0.336\n",
            "\tIter 40/ 50 - Loss: 0.328\n",
            "\tIter 50/ 50 - Loss: 0.323\n"
          ]
        },
        {
          "name": "stderr",
          "output_type": "stream",
          "text": [
            "\n",
            "66it [02:44,  2.50s/it]\u001b[A"
          ]
        },
        {
          "name": "stdout",
          "output_type": "stream",
          "text": [
            "\tIter 10/ 50 - Loss: 0.387\n",
            "\tIter 20/ 50 - Loss: 0.343\n",
            "\tIter 30/ 50 - Loss: 0.329\n",
            "\tIter 40/ 50 - Loss: 0.321\n",
            "\tIter 50/ 50 - Loss: 0.317\n"
          ]
        },
        {
          "name": "stderr",
          "output_type": "stream",
          "text": [
            "\n",
            "67it [02:46,  2.53s/it]\u001b[A"
          ]
        },
        {
          "name": "stdout",
          "output_type": "stream",
          "text": [
            "\tIter 10/ 50 - Loss: 0.371\n",
            "\tIter 20/ 50 - Loss: 0.353\n",
            "\tIter 30/ 50 - Loss: 0.344\n",
            "\tIter 40/ 50 - Loss: 0.338\n",
            "\tIter 50/ 50 - Loss: 0.334\n"
          ]
        },
        {
          "name": "stderr",
          "output_type": "stream",
          "text": [
            "\n",
            "68it [02:49,  2.55s/it]\u001b[A"
          ]
        },
        {
          "name": "stdout",
          "output_type": "stream",
          "text": [
            "\tIter 10/ 50 - Loss: 0.485\n",
            "\tIter 20/ 50 - Loss: 0.426\n",
            "\tIter 30/ 50 - Loss: 0.393\n",
            "\tIter 40/ 50 - Loss: 0.369\n",
            "\tIter 50/ 50 - Loss: 0.352\n"
          ]
        },
        {
          "name": "stderr",
          "output_type": "stream",
          "text": [
            "\n",
            "69it [02:51,  2.51s/it]\u001b[A"
          ]
        },
        {
          "name": "stdout",
          "output_type": "stream",
          "text": [
            "\tIter 10/ 50 - Loss: 0.37\n",
            "\tIter 20/ 50 - Loss: 0.343\n",
            "\tIter 30/ 50 - Loss: 0.332\n",
            "\tIter 40/ 50 - Loss: 0.325\n",
            "\tIter 50/ 50 - Loss: 0.321\n"
          ]
        },
        {
          "name": "stderr",
          "output_type": "stream",
          "text": [
            "\n",
            "70it [02:54,  2.50s/it]\u001b[A"
          ]
        },
        {
          "name": "stdout",
          "output_type": "stream",
          "text": [
            "\tIter 10/ 50 - Loss: 0.359\n",
            "\tIter 20/ 50 - Loss: 0.34\n",
            "\tIter 30/ 50 - Loss: 0.333\n",
            "\tIter 40/ 50 - Loss: 0.329\n",
            "\tIter 50/ 50 - Loss: 0.326\n"
          ]
        },
        {
          "name": "stderr",
          "output_type": "stream",
          "text": [
            "\n",
            "71it [02:56,  2.49s/it]\u001b[A"
          ]
        },
        {
          "name": "stdout",
          "output_type": "stream",
          "text": [
            "\tIter 10/ 50 - Loss: 0.399\n",
            "\tIter 20/ 50 - Loss: 0.369\n",
            "\tIter 30/ 50 - Loss: 0.352\n",
            "\tIter 40/ 50 - Loss: 0.34\n",
            "\tIter 50/ 50 - Loss: 0.332\n"
          ]
        },
        {
          "name": "stderr",
          "output_type": "stream",
          "text": [
            "\n",
            "72it [02:59,  2.47s/it]\u001b[A"
          ]
        },
        {
          "name": "stdout",
          "output_type": "stream",
          "text": [
            "\tIter 10/ 50 - Loss: 0.357\n",
            "\tIter 20/ 50 - Loss: 0.338\n",
            "\tIter 30/ 50 - Loss: 0.33\n",
            "\tIter 40/ 50 - Loss: 0.326\n",
            "\tIter 50/ 50 - Loss: 0.323\n"
          ]
        },
        {
          "name": "stderr",
          "output_type": "stream",
          "text": [
            "\n",
            "73it [03:01,  2.49s/it]\u001b[A"
          ]
        },
        {
          "name": "stdout",
          "output_type": "stream",
          "text": [
            "\tIter 10/ 50 - Loss: 0.377\n",
            "\tIter 20/ 50 - Loss: 0.351\n",
            "\tIter 30/ 50 - Loss: 0.339\n",
            "\tIter 40/ 50 - Loss: 0.332\n",
            "\tIter 50/ 50 - Loss: 0.327\n"
          ]
        },
        {
          "name": "stderr",
          "output_type": "stream",
          "text": [
            "\n",
            "74it [03:04,  2.47s/it]\u001b[A"
          ]
        },
        {
          "name": "stdout",
          "output_type": "stream",
          "text": [
            "\tIter 10/ 50 - Loss: 0.374\n",
            "\tIter 20/ 50 - Loss: 0.343\n",
            "\tIter 30/ 50 - Loss: 0.332\n",
            "\tIter 40/ 50 - Loss: 0.326\n",
            "\tIter 50/ 50 - Loss: 0.323\n"
          ]
        },
        {
          "name": "stderr",
          "output_type": "stream",
          "text": [
            "\n",
            "75it [03:06,  2.52s/it]\u001b[A"
          ]
        },
        {
          "name": "stdout",
          "output_type": "stream",
          "text": [
            "\tIter 10/ 50 - Loss: 0.376\n",
            "\tIter 20/ 50 - Loss: 0.349\n",
            "\tIter 30/ 50 - Loss: 0.339\n",
            "\tIter 40/ 50 - Loss: 0.333\n",
            "\tIter 50/ 50 - Loss: 0.33\n"
          ]
        },
        {
          "name": "stderr",
          "output_type": "stream",
          "text": [
            "\n",
            "76it [03:09,  2.50s/it]\u001b[A"
          ]
        },
        {
          "name": "stdout",
          "output_type": "stream",
          "text": [
            "\tIter 10/ 50 - Loss: 0.375\n",
            "\tIter 20/ 50 - Loss: 0.352\n",
            "\tIter 30/ 50 - Loss: 0.341\n",
            "\tIter 40/ 50 - Loss: 0.335\n",
            "\tIter 50/ 50 - Loss: 0.331\n"
          ]
        },
        {
          "name": "stderr",
          "output_type": "stream",
          "text": [
            "\n",
            "77it [03:11,  2.48s/it]\u001b[A"
          ]
        },
        {
          "name": "stdout",
          "output_type": "stream",
          "text": [
            "\tIter 10/ 50 - Loss: 0.435\n",
            "\tIter 20/ 50 - Loss: 0.385\n",
            "\tIter 30/ 50 - Loss: 0.364\n",
            "\tIter 40/ 50 - Loss: 0.352\n",
            "\tIter 50/ 50 - Loss: 0.344\n"
          ]
        },
        {
          "name": "stderr",
          "output_type": "stream",
          "text": [
            "\n",
            "78it [03:14,  2.52s/it]\u001b[A"
          ]
        },
        {
          "name": "stdout",
          "output_type": "stream",
          "text": [
            "\tIter 10/ 50 - Loss: 0.425\n",
            "\tIter 20/ 50 - Loss: 0.386\n",
            "\tIter 30/ 50 - Loss: 0.367\n",
            "\tIter 40/ 50 - Loss: 0.355\n",
            "\tIter 50/ 50 - Loss: 0.346\n"
          ]
        },
        {
          "name": "stderr",
          "output_type": "stream",
          "text": [
            "\n",
            "79it [03:16,  2.50s/it]\u001b[A"
          ]
        },
        {
          "name": "stdout",
          "output_type": "stream",
          "text": [
            "\tIter 10/ 50 - Loss: 0.383\n",
            "\tIter 20/ 50 - Loss: 0.361\n",
            "\tIter 30/ 50 - Loss: 0.35\n",
            "\tIter 40/ 50 - Loss: 0.343\n",
            "\tIter 50/ 50 - Loss: 0.339\n"
          ]
        },
        {
          "name": "stderr",
          "output_type": "stream",
          "text": [
            "\n",
            "80it [03:19,  2.49s/it]\u001b[A"
          ]
        },
        {
          "name": "stdout",
          "output_type": "stream",
          "text": [
            "\tIter 10/ 50 - Loss: 0.361\n",
            "\tIter 20/ 50 - Loss: 0.347\n",
            "\tIter 30/ 50 - Loss: 0.34\n",
            "\tIter 40/ 50 - Loss: 0.335\n",
            "\tIter 50/ 50 - Loss: 0.333\n"
          ]
        },
        {
          "name": "stderr",
          "output_type": "stream",
          "text": [
            "\n",
            "81it [03:21,  2.48s/it]\u001b[A"
          ]
        },
        {
          "name": "stdout",
          "output_type": "stream",
          "text": [
            "\tIter 10/ 50 - Loss: 0.415\n",
            "\tIter 20/ 50 - Loss: 0.381\n",
            "\tIter 30/ 50 - Loss: 0.366\n",
            "\tIter 40/ 50 - Loss: 0.355\n",
            "\tIter 50/ 50 - Loss: 0.348\n"
          ]
        },
        {
          "name": "stderr",
          "output_type": "stream",
          "text": [
            "\n",
            "82it [03:24,  2.49s/it]\u001b[A"
          ]
        },
        {
          "name": "stdout",
          "output_type": "stream",
          "text": [
            "\tIter 10/ 50 - Loss: 0.403\n",
            "\tIter 20/ 50 - Loss: 0.366\n",
            "\tIter 30/ 50 - Loss: 0.353\n",
            "\tIter 40/ 50 - Loss: 0.346\n",
            "\tIter 50/ 50 - Loss: 0.342\n"
          ]
        },
        {
          "name": "stderr",
          "output_type": "stream",
          "text": [
            "\n",
            "83it [03:26,  2.54s/it]\u001b[A"
          ]
        },
        {
          "name": "stdout",
          "output_type": "stream",
          "text": [
            "\tIter 10/ 50 - Loss: 0.421\n",
            "\tIter 20/ 50 - Loss: 0.388\n",
            "\tIter 30/ 50 - Loss: 0.372\n",
            "\tIter 40/ 50 - Loss: 0.361\n",
            "\tIter 50/ 50 - Loss: 0.354\n"
          ]
        },
        {
          "name": "stderr",
          "output_type": "stream",
          "text": [
            "\n",
            "84it [03:29,  2.52s/it]\u001b[A"
          ]
        },
        {
          "name": "stdout",
          "output_type": "stream",
          "text": [
            "\tIter 10/ 50 - Loss: 0.363\n",
            "\tIter 20/ 50 - Loss: 0.348\n",
            "\tIter 30/ 50 - Loss: 0.342\n",
            "\tIter 40/ 50 - Loss: 0.338\n",
            "\tIter 50/ 50 - Loss: 0.335\n"
          ]
        },
        {
          "name": "stderr",
          "output_type": "stream",
          "text": [
            "\n",
            "85it [03:31,  2.50s/it]\u001b[A"
          ]
        },
        {
          "name": "stdout",
          "output_type": "stream",
          "text": [
            "\tIter 10/ 50 - Loss: 0.387\n",
            "\tIter 20/ 50 - Loss: 0.359\n",
            "\tIter 30/ 50 - Loss: 0.347\n",
            "\tIter 40/ 50 - Loss: 0.34\n",
            "\tIter 50/ 50 - Loss: 0.335\n"
          ]
        },
        {
          "name": "stderr",
          "output_type": "stream",
          "text": [
            "\n",
            "86it [03:34,  2.49s/it]\u001b[A"
          ]
        },
        {
          "name": "stdout",
          "output_type": "stream",
          "text": [
            "\tIter 10/ 50 - Loss: 0.408\n",
            "\tIter 20/ 50 - Loss: 0.375\n",
            "\tIter 30/ 50 - Loss: 0.361\n",
            "\tIter 40/ 50 - Loss: 0.353\n",
            "\tIter 50/ 50 - Loss: 0.348\n"
          ]
        },
        {
          "name": "stderr",
          "output_type": "stream",
          "text": [
            "\n",
            "87it [03:36,  2.50s/it]\u001b[A"
          ]
        },
        {
          "name": "stdout",
          "output_type": "stream",
          "text": [
            "\tIter 10/ 50 - Loss: 0.382\n",
            "\tIter 20/ 50 - Loss: 0.36\n",
            "\tIter 30/ 50 - Loss: 0.35\n",
            "\tIter 40/ 50 - Loss: 0.343\n",
            "\tIter 50/ 50 - Loss: 0.339\n"
          ]
        },
        {
          "name": "stderr",
          "output_type": "stream",
          "text": [
            "\n",
            "88it [03:39,  2.50s/it]\u001b[A"
          ]
        },
        {
          "name": "stdout",
          "output_type": "stream",
          "text": [
            "\tIter 10/ 50 - Loss: 0.388\n",
            "\tIter 20/ 50 - Loss: 0.365\n",
            "\tIter 30/ 50 - Loss: 0.353\n",
            "\tIter 40/ 50 - Loss: 0.346\n",
            "\tIter 50/ 50 - Loss: 0.341\n"
          ]
        },
        {
          "name": "stderr",
          "output_type": "stream",
          "text": [
            "\n",
            "89it [03:41,  2.49s/it]\u001b[A"
          ]
        },
        {
          "name": "stdout",
          "output_type": "stream",
          "text": [
            "\tIter 10/ 50 - Loss: 0.389\n",
            "\tIter 20/ 50 - Loss: 0.358\n",
            "\tIter 30/ 50 - Loss: 0.346\n",
            "\tIter 40/ 50 - Loss: 0.341\n",
            "\tIter 50/ 50 - Loss: 0.337\n"
          ]
        },
        {
          "name": "stderr",
          "output_type": "stream",
          "text": [
            "\n",
            "90it [03:44,  2.54s/it]\u001b[A"
          ]
        },
        {
          "name": "stdout",
          "output_type": "stream",
          "text": [
            "\tIter 10/ 50 - Loss: 0.383\n",
            "\tIter 20/ 50 - Loss: 0.358\n",
            "\tIter 30/ 50 - Loss: 0.347\n",
            "\tIter 40/ 50 - Loss: 0.341\n",
            "\tIter 50/ 50 - Loss: 0.337\n"
          ]
        },
        {
          "name": "stderr",
          "output_type": "stream",
          "text": [
            "\n",
            "91it [03:46,  2.51s/it]\u001b[A"
          ]
        },
        {
          "name": "stdout",
          "output_type": "stream",
          "text": [
            "\tIter 10/ 50 - Loss: 0.419\n",
            "\tIter 20/ 50 - Loss: 0.378\n",
            "\tIter 30/ 50 - Loss: 0.358\n",
            "\tIter 40/ 50 - Loss: 0.347\n",
            "\tIter 50/ 50 - Loss: 0.339\n"
          ]
        },
        {
          "name": "stderr",
          "output_type": "stream",
          "text": [
            "\n",
            "92it [03:49,  2.51s/it]\u001b[A"
          ]
        },
        {
          "name": "stdout",
          "output_type": "stream",
          "text": [
            "\tIter 10/ 50 - Loss: 0.418\n",
            "\tIter 20/ 50 - Loss: 0.378\n",
            "\tIter 30/ 50 - Loss: 0.362\n",
            "\tIter 40/ 50 - Loss: 0.352\n",
            "\tIter 50/ 50 - Loss: 0.346\n"
          ]
        },
        {
          "name": "stderr",
          "output_type": "stream",
          "text": [
            "\n",
            "93it [03:51,  2.48s/it]\u001b[A"
          ]
        },
        {
          "name": "stdout",
          "output_type": "stream",
          "text": [
            "\tIter 10/ 50 - Loss: 0.373\n",
            "\tIter 20/ 50 - Loss: 0.356\n",
            "\tIter 30/ 50 - Loss: 0.349\n",
            "\tIter 40/ 50 - Loss: 0.344\n",
            "\tIter 50/ 50 - Loss: 0.34\n"
          ]
        },
        {
          "name": "stderr",
          "output_type": "stream",
          "text": [
            "\n",
            "94it [03:54,  2.47s/it]\u001b[A"
          ]
        },
        {
          "name": "stdout",
          "output_type": "stream",
          "text": [
            "\tIter 10/ 50 - Loss: 0.373\n",
            "\tIter 20/ 50 - Loss: 0.358\n",
            "\tIter 30/ 50 - Loss: 0.352\n",
            "\tIter 40/ 50 - Loss: 0.349\n",
            "\tIter 50/ 50 - Loss: 0.346\n"
          ]
        },
        {
          "name": "stderr",
          "output_type": "stream",
          "text": [
            "\n",
            "95it [03:56,  2.46s/it]\u001b[A"
          ]
        },
        {
          "name": "stdout",
          "output_type": "stream",
          "text": [
            "\tIter 10/ 50 - Loss: 0.397\n",
            "\tIter 20/ 50 - Loss: 0.378\n",
            "\tIter 30/ 50 - Loss: 0.366\n",
            "\tIter 40/ 50 - Loss: 0.358\n",
            "\tIter 50/ 50 - Loss: 0.352\n"
          ]
        },
        {
          "name": "stderr",
          "output_type": "stream",
          "text": [
            "\n",
            "96it [03:59,  2.46s/it]\u001b[A"
          ]
        },
        {
          "name": "stdout",
          "output_type": "stream",
          "text": [
            "\tIter 10/ 50 - Loss: 0.412\n",
            "\tIter 20/ 50 - Loss: 0.381\n",
            "\tIter 30/ 50 - Loss: 0.366\n",
            "\tIter 40/ 50 - Loss: 0.358\n",
            "\tIter 50/ 50 - Loss: 0.352\n"
          ]
        },
        {
          "name": "stderr",
          "output_type": "stream",
          "text": [
            "\n",
            "97it [04:01,  2.52s/it]\u001b[A"
          ]
        },
        {
          "name": "stdout",
          "output_type": "stream",
          "text": [
            "\tIter 10/ 50 - Loss: 0.393\n",
            "\tIter 20/ 50 - Loss: 0.367\n",
            "\tIter 30/ 50 - Loss: 0.357\n",
            "\tIter 40/ 50 - Loss: 0.351\n",
            "\tIter 50/ 50 - Loss: 0.348\n"
          ]
        },
        {
          "name": "stderr",
          "output_type": "stream",
          "text": [
            "\n",
            "98it [04:04,  2.49s/it]\u001b[A"
          ]
        },
        {
          "name": "stdout",
          "output_type": "stream",
          "text": [
            "\tIter 10/ 50 - Loss: 0.427\n",
            "\tIter 20/ 50 - Loss: 0.384\n",
            "\tIter 30/ 50 - Loss: 0.366\n",
            "\tIter 40/ 50 - Loss: 0.357\n",
            "\tIter 50/ 50 - Loss: 0.351\n"
          ]
        },
        {
          "name": "stderr",
          "output_type": "stream",
          "text": [
            "\n",
            "99it [04:06,  2.48s/it]\u001b[A"
          ]
        },
        {
          "name": "stdout",
          "output_type": "stream",
          "text": [
            "\tIter 10/ 50 - Loss: 0.451\n",
            "\tIter 20/ 50 - Loss: 0.411\n",
            "\tIter 30/ 50 - Loss: 0.39\n",
            "\tIter 40/ 50 - Loss: 0.376\n",
            "\tIter 50/ 50 - Loss: 0.367\n"
          ]
        },
        {
          "name": "stderr",
          "output_type": "stream",
          "text": [
            "\n",
            "100it [04:09,  2.46s/it]\u001b[A"
          ]
        },
        {
          "name": "stdout",
          "output_type": "stream",
          "text": [
            "\tIter 10/ 50 - Loss: 0.478\n",
            "\tIter 20/ 50 - Loss: 0.436\n",
            "\tIter 30/ 50 - Loss: 0.414\n",
            "\tIter 40/ 50 - Loss: 0.4\n",
            "\tIter 50/ 50 - Loss: 0.39\n"
          ]
        },
        {
          "name": "stderr",
          "output_type": "stream",
          "text": [
            "\n",
            "101it [04:11,  2.46s/it]\u001b[A"
          ]
        },
        {
          "name": "stdout",
          "output_type": "stream",
          "text": [
            "\tIter 10/ 50 - Loss: 0.378\n",
            "\tIter 20/ 50 - Loss: 0.358\n",
            "\tIter 30/ 50 - Loss: 0.351\n",
            "\tIter 40/ 50 - Loss: 0.347\n",
            "\tIter 50/ 50 - Loss: 0.345\n"
          ]
        },
        {
          "name": "stderr",
          "output_type": "stream",
          "text": [
            "\n",
            "102it [04:14,  2.46s/it]\u001b[A"
          ]
        },
        {
          "name": "stdout",
          "output_type": "stream",
          "text": [
            "\tIter 10/ 50 - Loss: 0.435\n",
            "\tIter 20/ 50 - Loss: 0.393\n",
            "\tIter 30/ 50 - Loss: 0.375\n",
            "\tIter 40/ 50 - Loss: 0.364\n",
            "\tIter 50/ 50 - Loss: 0.356\n"
          ]
        },
        {
          "name": "stderr",
          "output_type": "stream",
          "text": [
            "\n",
            "103it [04:16,  2.45s/it]\u001b[A"
          ]
        },
        {
          "name": "stdout",
          "output_type": "stream",
          "text": [
            "\tIter 10/ 50 - Loss: 0.411\n",
            "\tIter 20/ 50 - Loss: 0.375\n",
            "\tIter 30/ 50 - Loss: 0.36\n",
            "\tIter 40/ 50 - Loss: 0.353\n",
            "\tIter 50/ 50 - Loss: 0.348\n"
          ]
        },
        {
          "name": "stderr",
          "output_type": "stream",
          "text": [
            "\n",
            "104it [04:18,  2.45s/it]\u001b[A"
          ]
        },
        {
          "name": "stdout",
          "output_type": "stream",
          "text": [
            "\tIter 10/ 50 - Loss: 0.409\n",
            "\tIter 20/ 50 - Loss: 0.379\n",
            "\tIter 30/ 50 - Loss: 0.368\n",
            "\tIter 40/ 50 - Loss: 0.362\n",
            "\tIter 50/ 50 - Loss: 0.358\n"
          ]
        },
        {
          "name": "stderr",
          "output_type": "stream",
          "text": [
            "\n",
            "105it [04:21,  2.50s/it]\u001b[A"
          ]
        },
        {
          "name": "stdout",
          "output_type": "stream",
          "text": [
            "\tIter 10/ 50 - Loss: 0.429\n",
            "\tIter 20/ 50 - Loss: 0.398\n",
            "\tIter 30/ 50 - Loss: 0.384\n",
            "\tIter 40/ 50 - Loss: 0.376\n",
            "\tIter 50/ 50 - Loss: 0.371\n"
          ]
        },
        {
          "name": "stderr",
          "output_type": "stream",
          "text": [
            "\n",
            "106it [04:23,  2.49s/it]\u001b[A"
          ]
        },
        {
          "name": "stdout",
          "output_type": "stream",
          "text": [
            "\tIter 10/ 50 - Loss: 0.403\n",
            "\tIter 20/ 50 - Loss: 0.379\n",
            "\tIter 30/ 50 - Loss: 0.37\n",
            "\tIter 40/ 50 - Loss: 0.364\n",
            "\tIter 50/ 50 - Loss: 0.361\n"
          ]
        },
        {
          "name": "stderr",
          "output_type": "stream",
          "text": [
            "\n",
            "107it [04:26,  2.51s/it]\u001b[A"
          ]
        },
        {
          "name": "stdout",
          "output_type": "stream",
          "text": [
            "\tIter 10/ 50 - Loss: 0.428\n",
            "\tIter 20/ 50 - Loss: 0.401\n",
            "\tIter 30/ 50 - Loss: 0.386\n",
            "\tIter 40/ 50 - Loss: 0.377\n",
            "\tIter 50/ 50 - Loss: 0.37\n"
          ]
        },
        {
          "name": "stderr",
          "output_type": "stream",
          "text": [
            "\n",
            "108it [04:28,  2.49s/it]\u001b[A"
          ]
        },
        {
          "name": "stdout",
          "output_type": "stream",
          "text": [
            "\tIter 10/ 50 - Loss: 0.418\n",
            "\tIter 20/ 50 - Loss: 0.389\n",
            "\tIter 30/ 50 - Loss: 0.376\n",
            "\tIter 40/ 50 - Loss: 0.368\n",
            "\tIter 50/ 50 - Loss: 0.363\n"
          ]
        },
        {
          "name": "stderr",
          "output_type": "stream",
          "text": [
            "\n",
            "109it [04:31,  2.48s/it]\u001b[A"
          ]
        },
        {
          "name": "stdout",
          "output_type": "stream",
          "text": [
            "\tIter 10/ 50 - Loss: 0.466\n",
            "\tIter 20/ 50 - Loss: 0.414\n",
            "\tIter 30/ 50 - Loss: 0.393\n",
            "\tIter 40/ 50 - Loss: 0.379\n",
            "\tIter 50/ 50 - Loss: 0.37\n"
          ]
        },
        {
          "name": "stderr",
          "output_type": "stream",
          "text": [
            "\n",
            "110it [04:33,  2.49s/it]\u001b[A"
          ]
        },
        {
          "name": "stdout",
          "output_type": "stream",
          "text": [
            "\tIter 10/ 50 - Loss: 0.438\n",
            "\tIter 20/ 50 - Loss: 0.398\n",
            "\tIter 30/ 50 - Loss: 0.38\n",
            "\tIter 40/ 50 - Loss: 0.37\n",
            "\tIter 50/ 50 - Loss: 0.363\n"
          ]
        },
        {
          "name": "stderr",
          "output_type": "stream",
          "text": [
            "\n",
            "111it [04:36,  2.49s/it]\u001b[A"
          ]
        },
        {
          "name": "stdout",
          "output_type": "stream",
          "text": [
            "\tIter 10/ 50 - Loss: 0.413\n",
            "\tIter 20/ 50 - Loss: 0.389\n",
            "\tIter 30/ 50 - Loss: 0.378\n",
            "\tIter 40/ 50 - Loss: 0.371\n",
            "\tIter 50/ 50 - Loss: 0.366\n"
          ]
        },
        {
          "name": "stderr",
          "output_type": "stream",
          "text": [
            "\n",
            "112it [04:39,  2.55s/it]\u001b[A"
          ]
        },
        {
          "name": "stdout",
          "output_type": "stream",
          "text": [
            "\tIter 10/ 50 - Loss: 0.48\n",
            "\tIter 20/ 50 - Loss: 0.437\n",
            "\tIter 30/ 50 - Loss: 0.415\n",
            "\tIter 40/ 50 - Loss: 0.401\n",
            "\tIter 50/ 50 - Loss: 0.391\n"
          ]
        },
        {
          "name": "stderr",
          "output_type": "stream",
          "text": [
            "\n",
            "113it [04:41,  2.52s/it]\u001b[A"
          ]
        },
        {
          "name": "stdout",
          "output_type": "stream",
          "text": [
            "\tIter 10/ 50 - Loss: 0.468\n",
            "\tIter 20/ 50 - Loss: 0.42\n",
            "\tIter 30/ 50 - Loss: 0.397\n",
            "\tIter 40/ 50 - Loss: 0.384\n",
            "\tIter 50/ 50 - Loss: 0.376\n"
          ]
        },
        {
          "name": "stderr",
          "output_type": "stream",
          "text": [
            "\n",
            "114it [04:43,  2.50s/it]\u001b[A"
          ]
        },
        {
          "name": "stdout",
          "output_type": "stream",
          "text": [
            "\tIter 10/ 50 - Loss: 0.436\n",
            "\tIter 20/ 50 - Loss: 0.402\n",
            "\tIter 30/ 50 - Loss: 0.387\n",
            "\tIter 40/ 50 - Loss: 0.377\n",
            "\tIter 50/ 50 - Loss: 0.37\n"
          ]
        },
        {
          "name": "stderr",
          "output_type": "stream",
          "text": [
            "\n",
            "115it [04:46,  2.49s/it]\u001b[A"
          ]
        },
        {
          "name": "stdout",
          "output_type": "stream",
          "text": [
            "\tIter 10/ 50 - Loss: 0.445\n",
            "\tIter 20/ 50 - Loss: 0.408\n",
            "\tIter 30/ 50 - Loss: 0.389\n",
            "\tIter 40/ 50 - Loss: 0.379\n",
            "\tIter 50/ 50 - Loss: 0.372\n"
          ]
        },
        {
          "name": "stderr",
          "output_type": "stream",
          "text": [
            "\n",
            "116it [04:48,  2.50s/it]\u001b[A"
          ]
        },
        {
          "name": "stdout",
          "output_type": "stream",
          "text": [
            "\tIter 10/ 50 - Loss: 0.398\n",
            "\tIter 20/ 50 - Loss: 0.379\n",
            "\tIter 30/ 50 - Loss: 0.37\n",
            "\tIter 40/ 50 - Loss: 0.364\n",
            "\tIter 50/ 50 - Loss: 0.36\n"
          ]
        },
        {
          "name": "stderr",
          "output_type": "stream",
          "text": [
            "\n",
            "117it [04:51,  2.49s/it]\u001b[A"
          ]
        },
        {
          "name": "stdout",
          "output_type": "stream",
          "text": [
            "\tIter 10/ 50 - Loss: 0.458\n",
            "\tIter 20/ 50 - Loss: 0.419\n",
            "\tIter 30/ 50 - Loss: 0.401\n",
            "\tIter 40/ 50 - Loss: 0.389\n",
            "\tIter 50/ 50 - Loss: 0.38\n"
          ]
        },
        {
          "name": "stderr",
          "output_type": "stream",
          "text": [
            "\n",
            "118it [04:53,  2.48s/it]\u001b[A"
          ]
        },
        {
          "name": "stdout",
          "output_type": "stream",
          "text": [
            "\tIter 10/ 50 - Loss: 0.412\n",
            "\tIter 20/ 50 - Loss: 0.393\n",
            "\tIter 30/ 50 - Loss: 0.382\n",
            "\tIter 40/ 50 - Loss: 0.373\n",
            "\tIter 50/ 50 - Loss: 0.368\n"
          ]
        },
        {
          "name": "stderr",
          "output_type": "stream",
          "text": [
            "\n",
            "119it [04:56,  2.53s/it]\u001b[A"
          ]
        },
        {
          "name": "stdout",
          "output_type": "stream",
          "text": [
            "\tIter 10/ 50 - Loss: 0.459\n",
            "\tIter 20/ 50 - Loss: 0.43\n",
            "\tIter 30/ 50 - Loss: 0.414\n",
            "\tIter 40/ 50 - Loss: 0.402\n",
            "\tIter 50/ 50 - Loss: 0.393\n"
          ]
        },
        {
          "name": "stderr",
          "output_type": "stream",
          "text": [
            "\n",
            "120it [04:59,  2.52s/it]\u001b[A"
          ]
        },
        {
          "name": "stdout",
          "output_type": "stream",
          "text": [
            "\tIter 10/ 50 - Loss: 0.452\n",
            "\tIter 20/ 50 - Loss: 0.411\n",
            "\tIter 30/ 50 - Loss: 0.391\n",
            "\tIter 40/ 50 - Loss: 0.379\n",
            "\tIter 50/ 50 - Loss: 0.371\n"
          ]
        },
        {
          "name": "stderr",
          "output_type": "stream",
          "text": [
            "\n",
            "121it [05:01,  2.54s/it]\u001b[A"
          ]
        },
        {
          "name": "stdout",
          "output_type": "stream",
          "text": [
            "\tIter 10/ 50 - Loss: 0.394\n",
            "\tIter 20/ 50 - Loss: 0.382\n",
            "\tIter 30/ 50 - Loss: 0.374\n",
            "\tIter 40/ 50 - Loss: 0.368\n",
            "\tIter 50/ 50 - Loss: 0.364\n"
          ]
        },
        {
          "name": "stderr",
          "output_type": "stream",
          "text": [
            "\n",
            "122it [05:04,  2.53s/it]\u001b[A"
          ]
        },
        {
          "name": "stdout",
          "output_type": "stream",
          "text": [
            "\tIter 10/ 50 - Loss: 0.448\n",
            "\tIter 20/ 50 - Loss: 0.413\n",
            "\tIter 30/ 50 - Loss: 0.397\n",
            "\tIter 40/ 50 - Loss: 0.386\n",
            "\tIter 50/ 50 - Loss: 0.378\n"
          ]
        },
        {
          "name": "stderr",
          "output_type": "stream",
          "text": [
            "\n",
            "123it [05:06,  2.52s/it]\u001b[A"
          ]
        },
        {
          "name": "stdout",
          "output_type": "stream",
          "text": [
            "\tIter 10/ 50 - Loss: 0.416\n",
            "\tIter 20/ 50 - Loss: 0.391\n",
            "\tIter 30/ 50 - Loss: 0.378\n",
            "\tIter 40/ 50 - Loss: 0.37\n",
            "\tIter 50/ 50 - Loss: 0.365\n"
          ]
        },
        {
          "name": "stderr",
          "output_type": "stream",
          "text": [
            "\n",
            "124it [05:09,  2.51s/it]\u001b[A"
          ]
        },
        {
          "name": "stdout",
          "output_type": "stream",
          "text": [
            "\tIter 10/ 50 - Loss: 0.435\n",
            "\tIter 20/ 50 - Loss: 0.414\n",
            "\tIter 30/ 50 - Loss: 0.403\n",
            "\tIter 40/ 50 - Loss: 0.395\n",
            "\tIter 50/ 50 - Loss: 0.389\n"
          ]
        },
        {
          "name": "stderr",
          "output_type": "stream",
          "text": [
            "\n",
            "125it [05:11,  2.52s/it]\u001b[A"
          ]
        },
        {
          "name": "stdout",
          "output_type": "stream",
          "text": [
            "\tIter 10/ 50 - Loss: 0.414\n",
            "\tIter 20/ 50 - Loss: 0.387\n",
            "\tIter 30/ 50 - Loss: 0.375\n",
            "\tIter 40/ 50 - Loss: 0.37\n",
            "\tIter 50/ 50 - Loss: 0.366\n"
          ]
        },
        {
          "name": "stderr",
          "output_type": "stream",
          "text": [
            "\n",
            "126it [05:14,  2.59s/it]\u001b[A"
          ]
        },
        {
          "name": "stdout",
          "output_type": "stream",
          "text": [
            "\tIter 10/ 50 - Loss: 0.47\n",
            "\tIter 20/ 50 - Loss: 0.424\n",
            "\tIter 30/ 50 - Loss: 0.406\n",
            "\tIter 40/ 50 - Loss: 0.394\n",
            "\tIter 50/ 50 - Loss: 0.386\n"
          ]
        },
        {
          "name": "stderr",
          "output_type": "stream",
          "text": [
            "\n",
            "127it [05:16,  2.55s/it]\u001b[A"
          ]
        },
        {
          "name": "stdout",
          "output_type": "stream",
          "text": [
            "\tIter 10/ 50 - Loss: 0.437\n",
            "\tIter 20/ 50 - Loss: 0.405\n",
            "\tIter 30/ 50 - Loss: 0.394\n",
            "\tIter 40/ 50 - Loss: 0.386\n",
            "\tIter 50/ 50 - Loss: 0.381\n"
          ]
        },
        {
          "name": "stderr",
          "output_type": "stream",
          "text": [
            "\n",
            "128it [05:19,  2.52s/it]\u001b[A"
          ]
        },
        {
          "name": "stdout",
          "output_type": "stream",
          "text": [
            "\tIter 10/ 50 - Loss: 0.452\n",
            "\tIter 20/ 50 - Loss: 0.412\n",
            "\tIter 30/ 50 - Loss: 0.394\n",
            "\tIter 40/ 50 - Loss: 0.384\n",
            "\tIter 50/ 50 - Loss: 0.376\n"
          ]
        },
        {
          "name": "stderr",
          "output_type": "stream",
          "text": [
            "\n",
            "129it [05:21,  2.51s/it]\u001b[A"
          ]
        },
        {
          "name": "stdout",
          "output_type": "stream",
          "text": [
            "\tIter 10/ 50 - Loss: 0.432\n",
            "\tIter 20/ 50 - Loss: 0.401\n",
            "\tIter 30/ 50 - Loss: 0.386\n",
            "\tIter 40/ 50 - Loss: 0.376\n",
            "\tIter 50/ 50 - Loss: 0.37\n"
          ]
        },
        {
          "name": "stderr",
          "output_type": "stream",
          "text": [
            "\n",
            "130it [05:24,  2.52s/it]\u001b[A"
          ]
        },
        {
          "name": "stdout",
          "output_type": "stream",
          "text": [
            "\tIter 10/ 50 - Loss: 0.402\n",
            "\tIter 20/ 50 - Loss: 0.383\n",
            "\tIter 30/ 50 - Loss: 0.375\n",
            "\tIter 40/ 50 - Loss: 0.37\n",
            "\tIter 50/ 50 - Loss: 0.366\n"
          ]
        },
        {
          "name": "stderr",
          "output_type": "stream",
          "text": [
            "\n",
            "131it [05:26,  2.53s/it]\u001b[A"
          ]
        },
        {
          "name": "stdout",
          "output_type": "stream",
          "text": [
            "\tIter 10/ 50 - Loss: 0.427\n",
            "\tIter 20/ 50 - Loss: 0.402\n",
            "\tIter 30/ 50 - Loss: 0.389\n",
            "\tIter 40/ 50 - Loss: 0.381\n",
            "\tIter 50/ 50 - Loss: 0.376\n"
          ]
        },
        {
          "name": "stderr",
          "output_type": "stream",
          "text": [
            "\n",
            "132it [05:29,  2.52s/it]\u001b[A"
          ]
        },
        {
          "name": "stdout",
          "output_type": "stream",
          "text": [
            "\tIter 10/ 50 - Loss: 0.429\n",
            "\tIter 20/ 50 - Loss: 0.405\n",
            "\tIter 30/ 50 - Loss: 0.393\n",
            "\tIter 40/ 50 - Loss: 0.386\n",
            "\tIter 50/ 50 - Loss: 0.381\n"
          ]
        },
        {
          "name": "stderr",
          "output_type": "stream",
          "text": [
            "\n",
            "133it [05:31,  2.49s/it]\u001b[A"
          ]
        },
        {
          "name": "stdout",
          "output_type": "stream",
          "text": [
            "\tIter 10/ 50 - Loss: 0.447\n",
            "\tIter 20/ 50 - Loss: 0.409\n",
            "\tIter 30/ 50 - Loss: 0.392\n",
            "\tIter 40/ 50 - Loss: 0.381\n",
            "\tIter 50/ 50 - Loss: 0.374\n"
          ]
        },
        {
          "name": "stderr",
          "output_type": "stream",
          "text": [
            "\n",
            "134it [05:34,  2.53s/it]\u001b[A"
          ]
        },
        {
          "name": "stdout",
          "output_type": "stream",
          "text": [
            "\tIter 10/ 50 - Loss: 0.473\n",
            "\tIter 20/ 50 - Loss: 0.43\n",
            "\tIter 30/ 50 - Loss: 0.41\n",
            "\tIter 40/ 50 - Loss: 0.399\n",
            "\tIter 50/ 50 - Loss: 0.391\n"
          ]
        },
        {
          "name": "stderr",
          "output_type": "stream",
          "text": [
            "\n",
            "135it [05:36,  2.53s/it]\u001b[A"
          ]
        },
        {
          "name": "stdout",
          "output_type": "stream",
          "text": [
            "\tIter 10/ 50 - Loss: 0.446\n",
            "\tIter 20/ 50 - Loss: 0.413\n",
            "\tIter 30/ 50 - Loss: 0.395\n",
            "\tIter 40/ 50 - Loss: 0.385\n",
            "\tIter 50/ 50 - Loss: 0.378\n"
          ]
        },
        {
          "name": "stderr",
          "output_type": "stream",
          "text": [
            "\n",
            "136it [05:39,  2.53s/it]\u001b[A"
          ]
        },
        {
          "name": "stdout",
          "output_type": "stream",
          "text": [
            "\tIter 10/ 50 - Loss: 0.461\n",
            "\tIter 20/ 50 - Loss: 0.42\n",
            "\tIter 30/ 50 - Loss: 0.401\n",
            "\tIter 40/ 50 - Loss: 0.39\n",
            "\tIter 50/ 50 - Loss: 0.383\n"
          ]
        },
        {
          "name": "stderr",
          "output_type": "stream",
          "text": [
            "\n",
            "137it [05:42,  2.52s/it]\u001b[A"
          ]
        },
        {
          "name": "stdout",
          "output_type": "stream",
          "text": [
            "\tIter 10/ 50 - Loss: 0.417\n",
            "\tIter 20/ 50 - Loss: 0.385\n",
            "\tIter 30/ 50 - Loss: 0.374\n",
            "\tIter 40/ 50 - Loss: 0.369\n",
            "\tIter 50/ 50 - Loss: 0.365\n"
          ]
        },
        {
          "name": "stderr",
          "output_type": "stream",
          "text": [
            "\n",
            "138it [05:44,  2.50s/it]\u001b[A"
          ]
        },
        {
          "name": "stdout",
          "output_type": "stream",
          "text": [
            "\tIter 10/ 50 - Loss: 0.418\n",
            "\tIter 20/ 50 - Loss: 0.387\n",
            "\tIter 30/ 50 - Loss: 0.373\n",
            "\tIter 40/ 50 - Loss: 0.366\n",
            "\tIter 50/ 50 - Loss: 0.361\n"
          ]
        },
        {
          "name": "stderr",
          "output_type": "stream",
          "text": [
            "\n",
            "139it [05:46,  2.50s/it]\u001b[A"
          ]
        },
        {
          "name": "stdout",
          "output_type": "stream",
          "text": [
            "\tIter 10/ 50 - Loss: 0.413\n",
            "\tIter 20/ 50 - Loss: 0.387\n",
            "\tIter 30/ 50 - Loss: 0.376\n",
            "\tIter 40/ 50 - Loss: 0.37\n",
            "\tIter 50/ 50 - Loss: 0.367\n"
          ]
        },
        {
          "name": "stderr",
          "output_type": "stream",
          "text": [
            "\n",
            "140it [05:49,  2.52s/it]\u001b[A"
          ]
        },
        {
          "name": "stdout",
          "output_type": "stream",
          "text": [
            "\tIter 10/ 50 - Loss: 0.41\n",
            "\tIter 20/ 50 - Loss: 0.386\n",
            "\tIter 30/ 50 - Loss: 0.376\n",
            "\tIter 40/ 50 - Loss: 0.37\n",
            "\tIter 50/ 50 - Loss: 0.366\n"
          ]
        },
        {
          "name": "stderr",
          "output_type": "stream",
          "text": [
            "\n",
            "141it [05:52,  2.57s/it]\u001b[A"
          ]
        },
        {
          "name": "stdout",
          "output_type": "stream",
          "text": [
            "\tIter 10/ 50 - Loss: 0.401\n",
            "\tIter 20/ 50 - Loss: 0.387\n",
            "\tIter 30/ 50 - Loss: 0.378\n",
            "\tIter 40/ 50 - Loss: 0.372\n",
            "\tIter 50/ 50 - Loss: 0.367\n"
          ]
        },
        {
          "name": "stderr",
          "output_type": "stream",
          "text": [
            "\n",
            "142it [05:54,  2.55s/it]\u001b[A"
          ]
        },
        {
          "name": "stdout",
          "output_type": "stream",
          "text": [
            "\tIter 10/ 50 - Loss: 0.421\n",
            "\tIter 20/ 50 - Loss: 0.386\n",
            "\tIter 30/ 50 - Loss: 0.371\n",
            "\tIter 40/ 50 - Loss: 0.363\n",
            "\tIter 50/ 50 - Loss: 0.358\n"
          ]
        },
        {
          "name": "stderr",
          "output_type": "stream",
          "text": [
            "\n",
            "143it [05:57,  2.54s/it]\u001b[A"
          ]
        },
        {
          "name": "stdout",
          "output_type": "stream",
          "text": [
            "\tIter 10/ 50 - Loss: 0.428\n",
            "\tIter 20/ 50 - Loss: 0.4\n",
            "\tIter 30/ 50 - Loss: 0.387\n",
            "\tIter 40/ 50 - Loss: 0.38\n",
            "\tIter 50/ 50 - Loss: 0.375\n"
          ]
        },
        {
          "name": "stderr",
          "output_type": "stream",
          "text": [
            "\n",
            "144it [05:59,  2.54s/it]\u001b[A"
          ]
        },
        {
          "name": "stdout",
          "output_type": "stream",
          "text": [
            "\tIter 10/ 50 - Loss: 0.413\n",
            "\tIter 20/ 50 - Loss: 0.388\n",
            "\tIter 30/ 50 - Loss: 0.376\n",
            "\tIter 40/ 50 - Loss: 0.367\n",
            "\tIter 50/ 50 - Loss: 0.362\n"
          ]
        },
        {
          "name": "stderr",
          "output_type": "stream",
          "text": [
            "\n",
            "145it [06:02,  2.54s/it]\u001b[A"
          ]
        },
        {
          "name": "stdout",
          "output_type": "stream",
          "text": [
            "\tIter 10/ 50 - Loss: 0.467\n",
            "\tIter 20/ 50 - Loss: 0.422\n",
            "\tIter 30/ 50 - Loss: 0.4\n",
            "\tIter 40/ 50 - Loss: 0.387\n",
            "\tIter 50/ 50 - Loss: 0.378\n"
          ]
        },
        {
          "name": "stderr",
          "output_type": "stream",
          "text": [
            "\n",
            "146it [06:04,  2.53s/it]\u001b[A"
          ]
        },
        {
          "name": "stdout",
          "output_type": "stream",
          "text": [
            "\tIter 10/ 50 - Loss: 0.415\n",
            "\tIter 20/ 50 - Loss: 0.38\n",
            "\tIter 30/ 50 - Loss: 0.369\n",
            "\tIter 40/ 50 - Loss: 0.362\n",
            "\tIter 50/ 50 - Loss: 0.358\n"
          ]
        },
        {
          "name": "stderr",
          "output_type": "stream",
          "text": [
            "\n",
            "147it [06:07,  2.52s/it]\u001b[A"
          ]
        },
        {
          "name": "stdout",
          "output_type": "stream",
          "text": [
            "\tIter 10/ 50 - Loss: 0.451\n",
            "\tIter 20/ 50 - Loss: 0.412\n",
            "\tIter 30/ 50 - Loss: 0.393\n",
            "\tIter 40/ 50 - Loss: 0.381\n",
            "\tIter 50/ 50 - Loss: 0.373\n"
          ]
        },
        {
          "name": "stderr",
          "output_type": "stream",
          "text": [
            "\n",
            "148it [06:09,  2.57s/it]\u001b[A"
          ]
        },
        {
          "name": "stdout",
          "output_type": "stream",
          "text": [
            "\tIter 10/ 50 - Loss: 0.445\n",
            "\tIter 20/ 50 - Loss: 0.405\n",
            "\tIter 30/ 50 - Loss: 0.387\n",
            "\tIter 40/ 50 - Loss: 0.377\n",
            "\tIter 50/ 50 - Loss: 0.369\n"
          ]
        },
        {
          "name": "stderr",
          "output_type": "stream",
          "text": [
            "\n",
            "149it [06:12,  2.57s/it]\u001b[A"
          ]
        },
        {
          "name": "stdout",
          "output_type": "stream",
          "text": [
            "\tIter 10/ 50 - Loss: 0.439\n",
            "\tIter 20/ 50 - Loss: 0.403\n",
            "\tIter 30/ 50 - Loss: 0.389\n",
            "\tIter 40/ 50 - Loss: 0.382\n",
            "\tIter 50/ 50 - Loss: 0.377\n"
          ]
        },
        {
          "name": "stderr",
          "output_type": "stream",
          "text": [
            "\n",
            "150it [06:15,  2.58s/it]\u001b[A"
          ]
        },
        {
          "name": "stdout",
          "output_type": "stream",
          "text": [
            "\tIter 10/ 50 - Loss: 0.468\n",
            "\tIter 20/ 50 - Loss: 0.42\n",
            "\tIter 30/ 50 - Loss: 0.397\n",
            "\tIter 40/ 50 - Loss: 0.384\n",
            "\tIter 50/ 50 - Loss: 0.375\n"
          ]
        },
        {
          "name": "stderr",
          "output_type": "stream",
          "text": [
            "\n",
            "151it [06:17,  2.57s/it]\u001b[A"
          ]
        },
        {
          "name": "stdout",
          "output_type": "stream",
          "text": [
            "\tIter 10/ 50 - Loss: 0.452\n",
            "\tIter 20/ 50 - Loss: 0.415\n",
            "\tIter 30/ 50 - Loss: 0.398\n",
            "\tIter 40/ 50 - Loss: 0.388\n",
            "\tIter 50/ 50 - Loss: 0.381\n"
          ]
        },
        {
          "name": "stderr",
          "output_type": "stream",
          "text": [
            "\n",
            "152it [06:20,  2.56s/it]\u001b[A"
          ]
        },
        {
          "name": "stdout",
          "output_type": "stream",
          "text": [
            "\tIter 10/ 50 - Loss: 0.397\n",
            "\tIter 20/ 50 - Loss: 0.383\n",
            "\tIter 30/ 50 - Loss: 0.375\n",
            "\tIter 40/ 50 - Loss: 0.369\n",
            "\tIter 50/ 50 - Loss: 0.365\n"
          ]
        },
        {
          "name": "stderr",
          "output_type": "stream",
          "text": [
            "\n",
            "153it [06:22,  2.56s/it]\u001b[A"
          ]
        },
        {
          "name": "stdout",
          "output_type": "stream",
          "text": [
            "\tIter 10/ 50 - Loss: 0.382\n",
            "\tIter 20/ 50 - Loss: 0.368\n",
            "\tIter 30/ 50 - Loss: 0.362\n",
            "\tIter 40/ 50 - Loss: 0.358\n",
            "\tIter 50/ 50 - Loss: 0.356\n"
          ]
        },
        {
          "name": "stderr",
          "output_type": "stream",
          "text": [
            "\n",
            "154it [06:25,  2.60s/it]\u001b[A"
          ]
        },
        {
          "name": "stdout",
          "output_type": "stream",
          "text": [
            "\tIter 10/ 50 - Loss: 0.389\n",
            "\tIter 20/ 50 - Loss: 0.377\n",
            "\tIter 30/ 50 - Loss: 0.369\n",
            "\tIter 40/ 50 - Loss: 0.364\n",
            "\tIter 50/ 50 - Loss: 0.36\n"
          ]
        },
        {
          "name": "stderr",
          "output_type": "stream",
          "text": [
            "\n",
            "155it [06:28,  2.58s/it]\u001b[A"
          ]
        },
        {
          "name": "stdout",
          "output_type": "stream",
          "text": [
            "\tIter 10/ 50 - Loss: 0.439\n",
            "\tIter 20/ 50 - Loss: 0.402\n",
            "\tIter 30/ 50 - Loss: 0.391\n",
            "\tIter 40/ 50 - Loss: 0.383\n",
            "\tIter 50/ 50 - Loss: 0.378\n"
          ]
        },
        {
          "name": "stderr",
          "output_type": "stream",
          "text": [
            "\n",
            "156it [06:30,  2.61s/it]\u001b[A"
          ]
        },
        {
          "name": "stdout",
          "output_type": "stream",
          "text": [
            "\tIter 10/ 50 - Loss: 0.465\n",
            "\tIter 20/ 50 - Loss: 0.409\n",
            "\tIter 30/ 50 - Loss: 0.387\n",
            "\tIter 40/ 50 - Loss: 0.376\n",
            "\tIter 50/ 50 - Loss: 0.369\n"
          ]
        },
        {
          "name": "stderr",
          "output_type": "stream",
          "text": [
            "\n",
            "157it [06:33,  2.59s/it]\u001b[A"
          ]
        },
        {
          "name": "stdout",
          "output_type": "stream",
          "text": [
            "\tIter 10/ 50 - Loss: 0.448\n",
            "\tIter 20/ 50 - Loss: 0.419\n",
            "\tIter 30/ 50 - Loss: 0.402\n",
            "\tIter 40/ 50 - Loss: 0.392\n",
            "\tIter 50/ 50 - Loss: 0.384\n"
          ]
        },
        {
          "name": "stderr",
          "output_type": "stream",
          "text": [
            "\n",
            "158it [06:35,  2.58s/it]\u001b[A"
          ]
        },
        {
          "name": "stdout",
          "output_type": "stream",
          "text": [
            "\tIter 10/ 50 - Loss: 0.399\n",
            "\tIter 20/ 50 - Loss: 0.386\n",
            "\tIter 30/ 50 - Loss: 0.379\n",
            "\tIter 40/ 50 - Loss: 0.375\n",
            "\tIter 50/ 50 - Loss: 0.371\n"
          ]
        },
        {
          "name": "stderr",
          "output_type": "stream",
          "text": [
            "\n",
            "159it [06:38,  2.61s/it]\u001b[A"
          ]
        },
        {
          "name": "stdout",
          "output_type": "stream",
          "text": [
            "\tIter 10/ 50 - Loss: 0.464\n",
            "\tIter 20/ 50 - Loss: 0.412\n",
            "\tIter 30/ 50 - Loss: 0.391\n",
            "\tIter 40/ 50 - Loss: 0.379\n",
            "\tIter 50/ 50 - Loss: 0.372\n"
          ]
        },
        {
          "name": "stderr",
          "output_type": "stream",
          "text": [
            "\n",
            "160it [06:41,  2.59s/it]\u001b[A"
          ]
        },
        {
          "name": "stdout",
          "output_type": "stream",
          "text": [
            "\tIter 10/ 50 - Loss: 0.442\n",
            "\tIter 20/ 50 - Loss: 0.403\n",
            "\tIter 30/ 50 - Loss: 0.391\n",
            "\tIter 40/ 50 - Loss: 0.383\n",
            "\tIter 50/ 50 - Loss: 0.377\n"
          ]
        },
        {
          "name": "stderr",
          "output_type": "stream",
          "text": [
            "\n",
            "161it [06:43,  2.57s/it]\u001b[A"
          ]
        },
        {
          "name": "stdout",
          "output_type": "stream",
          "text": [
            "\tIter 10/ 50 - Loss: 0.408\n",
            "\tIter 20/ 50 - Loss: 0.382\n",
            "\tIter 30/ 50 - Loss: 0.372\n",
            "\tIter 40/ 50 - Loss: 0.367\n",
            "\tIter 50/ 50 - Loss: 0.363\n"
          ]
        },
        {
          "name": "stderr",
          "output_type": "stream",
          "text": [
            "\n",
            "162it [06:46,  2.56s/it]\u001b[A"
          ]
        },
        {
          "name": "stdout",
          "output_type": "stream",
          "text": [
            "\tIter 10/ 50 - Loss: 0.405\n",
            "\tIter 20/ 50 - Loss: 0.386\n",
            "\tIter 30/ 50 - Loss: 0.375\n",
            "\tIter 40/ 50 - Loss: 0.369\n",
            "\tIter 50/ 50 - Loss: 0.364\n"
          ]
        },
        {
          "name": "stderr",
          "output_type": "stream",
          "text": [
            "\n",
            "163it [06:48,  2.57s/it]\u001b[A"
          ]
        },
        {
          "name": "stdout",
          "output_type": "stream",
          "text": [
            "\tIter 10/ 50 - Loss: 0.481\n",
            "\tIter 20/ 50 - Loss: 0.432\n",
            "\tIter 30/ 50 - Loss: 0.408\n",
            "\tIter 40/ 50 - Loss: 0.392\n",
            "\tIter 50/ 50 - Loss: 0.381\n"
          ]
        },
        {
          "name": "stderr",
          "output_type": "stream",
          "text": [
            "\n",
            "164it [06:51,  2.64s/it]\u001b[A"
          ]
        },
        {
          "name": "stdout",
          "output_type": "stream",
          "text": [
            "\tIter 10/ 50 - Loss: 0.499\n",
            "\tIter 20/ 50 - Loss: 0.458\n",
            "\tIter 30/ 50 - Loss: 0.437\n",
            "\tIter 40/ 50 - Loss: 0.421\n",
            "\tIter 50/ 50 - Loss: 0.41\n"
          ]
        },
        {
          "name": "stderr",
          "output_type": "stream",
          "text": [
            "\n",
            "165it [06:54,  2.61s/it]\u001b[A"
          ]
        },
        {
          "name": "stdout",
          "output_type": "stream",
          "text": [
            "\tIter 10/ 50 - Loss: 0.422\n",
            "\tIter 20/ 50 - Loss: 0.393\n",
            "\tIter 30/ 50 - Loss: 0.379\n",
            "\tIter 40/ 50 - Loss: 0.371\n",
            "\tIter 50/ 50 - Loss: 0.364\n"
          ]
        },
        {
          "name": "stderr",
          "output_type": "stream",
          "text": [
            "\n",
            "166it [06:56,  2.60s/it]\u001b[A"
          ]
        },
        {
          "name": "stdout",
          "output_type": "stream",
          "text": [
            "\tIter 10/ 50 - Loss: 0.417\n",
            "\tIter 20/ 50 - Loss: 0.399\n",
            "\tIter 30/ 50 - Loss: 0.389\n",
            "\tIter 40/ 50 - Loss: 0.382\n",
            "\tIter 50/ 50 - Loss: 0.376\n"
          ]
        },
        {
          "name": "stderr",
          "output_type": "stream",
          "text": [
            "\n",
            "167it [06:59,  2.59s/it]\u001b[A"
          ]
        },
        {
          "name": "stdout",
          "output_type": "stream",
          "text": [
            "\tIter 10/ 50 - Loss: 0.412\n",
            "\tIter 20/ 50 - Loss: 0.388\n",
            "\tIter 30/ 50 - Loss: 0.375\n",
            "\tIter 40/ 50 - Loss: 0.366\n",
            "\tIter 50/ 50 - Loss: 0.36\n"
          ]
        },
        {
          "name": "stderr",
          "output_type": "stream",
          "text": [
            "\n",
            "168it [07:01,  2.62s/it]\u001b[A"
          ]
        },
        {
          "name": "stdout",
          "output_type": "stream",
          "text": [
            "\tIter 10/ 50 - Loss: 0.44\n",
            "\tIter 20/ 50 - Loss: 0.404\n",
            "\tIter 30/ 50 - Loss: 0.386\n",
            "\tIter 40/ 50 - Loss: 0.376\n",
            "\tIter 50/ 50 - Loss: 0.369\n"
          ]
        },
        {
          "name": "stderr",
          "output_type": "stream",
          "text": [
            "\n",
            "169it [07:04,  2.60s/it]\u001b[A"
          ]
        },
        {
          "name": "stdout",
          "output_type": "stream",
          "text": [
            "\tIter 10/ 50 - Loss: 0.41\n",
            "\tIter 20/ 50 - Loss: 0.371\n",
            "\tIter 30/ 50 - Loss: 0.36\n",
            "\tIter 40/ 50 - Loss: 0.355\n",
            "\tIter 50/ 50 - Loss: 0.35\n"
          ]
        },
        {
          "name": "stderr",
          "output_type": "stream",
          "text": [
            "\n",
            "170it [07:06,  2.59s/it]\u001b[A"
          ]
        },
        {
          "name": "stdout",
          "output_type": "stream",
          "text": [
            "\tIter 10/ 50 - Loss: 0.41\n",
            "\tIter 20/ 50 - Loss: 0.396\n",
            "\tIter 30/ 50 - Loss: 0.387\n",
            "\tIter 40/ 50 - Loss: 0.381\n",
            "\tIter 50/ 50 - Loss: 0.376\n"
          ]
        },
        {
          "name": "stderr",
          "output_type": "stream",
          "text": [
            "\n",
            "171it [07:09,  2.64s/it]\u001b[A"
          ]
        },
        {
          "name": "stdout",
          "output_type": "stream",
          "text": [
            "\tIter 10/ 50 - Loss: 0.379\n",
            "\tIter 20/ 50 - Loss: 0.363\n",
            "\tIter 30/ 50 - Loss: 0.354\n",
            "\tIter 40/ 50 - Loss: 0.349\n",
            "\tIter 50/ 50 - Loss: 0.346\n"
          ]
        },
        {
          "name": "stderr",
          "output_type": "stream",
          "text": [
            "\n",
            "172it [07:12,  2.63s/it]\u001b[A"
          ]
        },
        {
          "name": "stdout",
          "output_type": "stream",
          "text": [
            "\tIter 10/ 50 - Loss: 0.39\n",
            "\tIter 20/ 50 - Loss: 0.367\n",
            "\tIter 30/ 50 - Loss: 0.361\n",
            "\tIter 40/ 50 - Loss: 0.357\n",
            "\tIter 50/ 50 - Loss: 0.354\n"
          ]
        },
        {
          "name": "stderr",
          "output_type": "stream",
          "text": [
            "\n",
            "173it [07:15,  2.64s/it]\u001b[A"
          ]
        },
        {
          "name": "stdout",
          "output_type": "stream",
          "text": [
            "\tIter 10/ 50 - Loss: 0.391\n",
            "\tIter 20/ 50 - Loss: 0.374\n",
            "\tIter 30/ 50 - Loss: 0.362\n",
            "\tIter 40/ 50 - Loss: 0.355\n",
            "\tIter 50/ 50 - Loss: 0.35\n"
          ]
        },
        {
          "name": "stderr",
          "output_type": "stream",
          "text": [
            "\n",
            "174it [07:17,  2.63s/it]\u001b[A"
          ]
        },
        {
          "name": "stdout",
          "output_type": "stream",
          "text": [
            "\tIter 10/ 50 - Loss: 0.431\n",
            "\tIter 20/ 50 - Loss: 0.401\n",
            "\tIter 30/ 50 - Loss: 0.384\n",
            "\tIter 40/ 50 - Loss: 0.372\n",
            "\tIter 50/ 50 - Loss: 0.364\n"
          ]
        },
        {
          "name": "stderr",
          "output_type": "stream",
          "text": [
            "\n",
            "175it [07:20,  2.62s/it]\u001b[A"
          ]
        },
        {
          "name": "stdout",
          "output_type": "stream",
          "text": [
            "\tIter 10/ 50 - Loss: 0.431\n",
            "\tIter 20/ 50 - Loss: 0.404\n",
            "\tIter 30/ 50 - Loss: 0.387\n",
            "\tIter 40/ 50 - Loss: 0.376\n",
            "\tIter 50/ 50 - Loss: 0.368\n"
          ]
        },
        {
          "name": "stderr",
          "output_type": "stream",
          "text": [
            "\n",
            "176it [07:22,  2.61s/it]\u001b[A"
          ]
        },
        {
          "name": "stdout",
          "output_type": "stream",
          "text": [
            "\tIter 10/ 50 - Loss: 0.361\n",
            "\tIter 20/ 50 - Loss: 0.35\n",
            "\tIter 30/ 50 - Loss: 0.344\n",
            "\tIter 40/ 50 - Loss: 0.34\n",
            "\tIter 50/ 50 - Loss: 0.337\n"
          ]
        },
        {
          "name": "stderr",
          "output_type": "stream",
          "text": [
            "\n",
            "177it [07:25,  2.64s/it]\u001b[A"
          ]
        },
        {
          "name": "stdout",
          "output_type": "stream",
          "text": [
            "\tIter 10/ 50 - Loss: 0.379\n",
            "\tIter 20/ 50 - Loss: 0.359\n",
            "\tIter 30/ 50 - Loss: 0.349\n",
            "\tIter 40/ 50 - Loss: 0.343\n",
            "\tIter 50/ 50 - Loss: 0.338\n"
          ]
        },
        {
          "name": "stderr",
          "output_type": "stream",
          "text": [
            "\n",
            "178it [07:28,  2.70s/it]\u001b[A"
          ]
        },
        {
          "name": "stdout",
          "output_type": "stream",
          "text": [
            "\tIter 10/ 50 - Loss: 0.442\n",
            "\tIter 20/ 50 - Loss: 0.391\n",
            "\tIter 30/ 50 - Loss: 0.368\n",
            "\tIter 40/ 50 - Loss: 0.354\n",
            "\tIter 50/ 50 - Loss: 0.346\n"
          ]
        },
        {
          "name": "stderr",
          "output_type": "stream",
          "text": [
            "\n",
            "179it [07:30,  2.68s/it]\u001b[A"
          ]
        },
        {
          "name": "stdout",
          "output_type": "stream",
          "text": [
            "\tIter 10/ 50 - Loss: 0.415\n",
            "\tIter 20/ 50 - Loss: 0.376\n",
            "\tIter 30/ 50 - Loss: 0.358\n",
            "\tIter 40/ 50 - Loss: 0.348\n",
            "\tIter 50/ 50 - Loss: 0.342\n"
          ]
        },
        {
          "name": "stderr",
          "output_type": "stream",
          "text": [
            "\n",
            "180it [07:33,  2.67s/it]\u001b[A"
          ]
        },
        {
          "name": "stdout",
          "output_type": "stream",
          "text": [
            "\tIter 10/ 50 - Loss: 0.367\n",
            "\tIter 20/ 50 - Loss: 0.352\n",
            "\tIter 30/ 50 - Loss: 0.344\n",
            "\tIter 40/ 50 - Loss: 0.338\n",
            "\tIter 50/ 50 - Loss: 0.334\n"
          ]
        },
        {
          "name": "stderr",
          "output_type": "stream",
          "text": [
            "\n",
            "181it [07:36,  2.68s/it]\u001b[A"
          ]
        },
        {
          "name": "stdout",
          "output_type": "stream",
          "text": [
            "\tIter 10/ 50 - Loss: 0.359\n",
            "\tIter 20/ 50 - Loss: 0.351\n",
            "\tIter 30/ 50 - Loss: 0.346\n",
            "\tIter 40/ 50 - Loss: 0.343\n",
            "\tIter 50/ 50 - Loss: 0.34\n"
          ]
        },
        {
          "name": "stderr",
          "output_type": "stream",
          "text": [
            "\n",
            "182it [07:38,  2.67s/it]\u001b[A"
          ]
        },
        {
          "name": "stdout",
          "output_type": "stream",
          "text": [
            "\tIter 10/ 50 - Loss: 0.439\n",
            "\tIter 20/ 50 - Loss: 0.398\n",
            "\tIter 30/ 50 - Loss: 0.374\n",
            "\tIter 40/ 50 - Loss: 0.36\n",
            "\tIter 50/ 50 - Loss: 0.351\n"
          ]
        },
        {
          "name": "stderr",
          "output_type": "stream",
          "text": [
            "\n",
            "183it [07:41,  2.66s/it]\u001b[A"
          ]
        },
        {
          "name": "stdout",
          "output_type": "stream",
          "text": [
            "\tIter 10/ 50 - Loss: 0.392\n",
            "\tIter 20/ 50 - Loss: 0.379\n",
            "\tIter 30/ 50 - Loss: 0.369\n",
            "\tIter 40/ 50 - Loss: 0.361\n",
            "\tIter 50/ 50 - Loss: 0.355\n"
          ]
        },
        {
          "name": "stderr",
          "output_type": "stream",
          "text": [
            "\n",
            "184it [07:44,  2.66s/it]\u001b[A"
          ]
        },
        {
          "name": "stdout",
          "output_type": "stream",
          "text": [
            "\tIter 10/ 50 - Loss: 0.345\n",
            "\tIter 20/ 50 - Loss: 0.332\n",
            "\tIter 30/ 50 - Loss: 0.325\n",
            "\tIter 40/ 50 - Loss: 0.322\n",
            "\tIter 50/ 50 - Loss: 0.319\n"
          ]
        },
        {
          "name": "stderr",
          "output_type": "stream",
          "text": [
            "\n",
            "185it [07:47,  2.72s/it]\u001b[A"
          ]
        },
        {
          "name": "stdout",
          "output_type": "stream",
          "text": [
            "\tIter 10/ 50 - Loss: 0.343\n",
            "\tIter 20/ 50 - Loss: 0.333\n",
            "\tIter 30/ 50 - Loss: 0.327\n",
            "\tIter 40/ 50 - Loss: 0.323\n",
            "\tIter 50/ 50 - Loss: 0.321\n"
          ]
        },
        {
          "name": "stderr",
          "output_type": "stream",
          "text": [
            "\n",
            "186it [07:49,  2.72s/it]\u001b[A"
          ]
        },
        {
          "name": "stdout",
          "output_type": "stream",
          "text": [
            "\tIter 10/ 50 - Loss: 0.357\n",
            "\tIter 20/ 50 - Loss: 0.346\n",
            "\tIter 30/ 50 - Loss: 0.341\n",
            "\tIter 40/ 50 - Loss: 0.339\n",
            "\tIter 50/ 50 - Loss: 0.337\n"
          ]
        },
        {
          "name": "stderr",
          "output_type": "stream",
          "text": [
            "\n",
            "187it [07:52,  2.70s/it]\u001b[A"
          ]
        },
        {
          "name": "stdout",
          "output_type": "stream",
          "text": [
            "\tIter 10/ 50 - Loss: 0.371\n",
            "\tIter 20/ 50 - Loss: 0.35\n",
            "\tIter 30/ 50 - Loss: 0.339\n",
            "\tIter 40/ 50 - Loss: 0.331\n",
            "\tIter 50/ 50 - Loss: 0.326\n"
          ]
        },
        {
          "name": "stderr",
          "output_type": "stream",
          "text": [
            "\n",
            "188it [07:55,  2.68s/it]\u001b[A"
          ]
        },
        {
          "name": "stdout",
          "output_type": "stream",
          "text": [
            "\tIter 10/ 50 - Loss: 0.383\n",
            "\tIter 20/ 50 - Loss: 0.348\n",
            "\tIter 30/ 50 - Loss: 0.336\n",
            "\tIter 40/ 50 - Loss: 0.329\n",
            "\tIter 50/ 50 - Loss: 0.325\n"
          ]
        },
        {
          "name": "stderr",
          "output_type": "stream",
          "text": [
            "\n",
            "189it [07:57,  2.67s/it]\u001b[A"
          ]
        },
        {
          "name": "stdout",
          "output_type": "stream",
          "text": [
            "\tIter 10/ 50 - Loss: 0.328\n",
            "\tIter 20/ 50 - Loss: 0.323\n",
            "\tIter 30/ 50 - Loss: 0.32\n",
            "\tIter 40/ 50 - Loss: 0.319\n",
            "\tIter 50/ 50 - Loss: 0.317\n"
          ]
        },
        {
          "name": "stderr",
          "output_type": "stream",
          "text": [
            "\n",
            "190it [08:00,  2.68s/it]\u001b[A"
          ]
        },
        {
          "name": "stdout",
          "output_type": "stream",
          "text": [
            "\tIter 10/ 50 - Loss: 0.372\n",
            "\tIter 20/ 50 - Loss: 0.336\n",
            "\tIter 30/ 50 - Loss: 0.325\n",
            "\tIter 40/ 50 - Loss: 0.319\n",
            "\tIter 50/ 50 - Loss: 0.315\n"
          ]
        },
        {
          "name": "stderr",
          "output_type": "stream",
          "text": [
            "\n",
            "191it [08:03,  2.68s/it]\u001b[A"
          ]
        },
        {
          "name": "stdout",
          "output_type": "stream",
          "text": [
            "\tIter 10/ 50 - Loss: 0.323\n",
            "\tIter 20/ 50 - Loss: 0.317\n",
            "\tIter 30/ 50 - Loss: 0.313\n",
            "\tIter 40/ 50 - Loss: 0.311\n",
            "\tIter 50/ 50 - Loss: 0.31\n"
          ]
        },
        {
          "name": "stderr",
          "output_type": "stream",
          "text": [
            "\n",
            "192it [08:06,  2.72s/it]\u001b[A"
          ]
        },
        {
          "name": "stdout",
          "output_type": "stream",
          "text": [
            "\tIter 10/ 50 - Loss: 0.357\n",
            "\tIter 20/ 50 - Loss: 0.343\n",
            "\tIter 30/ 50 - Loss: 0.335\n",
            "\tIter 40/ 50 - Loss: 0.329\n",
            "\tIter 50/ 50 - Loss: 0.325\n"
          ]
        },
        {
          "name": "stderr",
          "output_type": "stream",
          "text": [
            "\n",
            "193it [08:08,  2.70s/it]\u001b[A"
          ]
        },
        {
          "name": "stdout",
          "output_type": "stream",
          "text": [
            "\tIter 10/ 50 - Loss: 0.384\n",
            "\tIter 20/ 50 - Loss: 0.364\n",
            "\tIter 30/ 50 - Loss: 0.351\n",
            "\tIter 40/ 50 - Loss: 0.342\n",
            "\tIter 50/ 50 - Loss: 0.335\n"
          ]
        },
        {
          "name": "stderr",
          "output_type": "stream",
          "text": [
            "\n",
            "194it [08:11,  2.69s/it]\u001b[A"
          ]
        }
      ],
      "source": [
        "# MONTE CARLO\n",
        "for j in tqdm(range(6, 100)):\n",
        "    torch.cuda.empty_cache()\n",
        "    model, likelihood, optimizer = train_model(train_X, train_y)\n",
        "\n",
        "    with torch.no_grad():\n",
        "        generated_true_presence_sample = generated_true_presence.sample()\n",
        "\n",
        "    population_days[\"generated_true_presence\"] = generated_true_presence_sample.cpu().numpy()\n",
        "    #population_days.drop(columns=[\"level_0\"]).reset_index().to_feather(\"/content/gdrive/MyDrive/data/ap/population_days_generated_presence.feather\")\n",
        "    torch.cuda.empty_cache()\n",
        "\n",
        "\n",
        "    # SCENARIO 0\n",
        "    scenario0_df = pd.DataFrame()\n",
        "\n",
        "    for date in dates:\n",
        "        #print(destandardize_date(date).strftime(\"%Y-%m-%d\"))\n",
        "        temp_dict = dict()\n",
        "        population_day = population_days.loc[population_days.date == date]\n",
        "        temp_dict[\"monitorings\"] = 0\n",
        "        temp_dict[\"crop_losses\"] = population_day[\"generated_true_presence\"].sum()\n",
        "        temp_dict[\"treatments\"] = 0\n",
        "        temp_dict[\"treatments_directly\"] = 0\n",
        "\n",
        "        scenario0_df = pd.concat([scenario0_df, pd.DataFrame(temp_dict, index=[date])])\n",
        "\n",
        "    scenario0_df.reset_index().to_feather(f\"/content/gdrive/MyDrive/data/ap/scenarios/scenario0_{j}_tuta.feather\")\n",
        "\n",
        "    scenario1_df = pd.DataFrame()\n",
        "\n",
        "    # SCENARIO 1\n",
        "    population_days_sc = population_days.copy()\n",
        "    population_days_sc[\"treated\"] = False\n",
        "    for date in dates:\n",
        "        #print(destandardize_date(date).strftime(\"%Y-%m-%d\"))\n",
        "        temp_dict = dict()\n",
        "        population_day = population_days_sc.loc[population_days_sc.date == date]\n",
        "        temp_dict[\"monitorings\"] = len(population_day.loc[(~population_day[\"treated\"])])\n",
        "        treated = population_day.loc[(~population_day[\"treated\"]) & (population_day[\"generated_true_presence\"])]\n",
        "        temp_dict[\"crop_losses\"] = 0#len(treated)\n",
        "        temp_dict[\"treatments\"] = len(treated)\n",
        "        temp_dict[\"treatments_directly\"] = 0\n",
        "\n",
        "        treated_days = population_days_sc[\"user_id\"].isin(treated.user_id) & (population_days_sc[\"date\"]>=date) & (population_days_sc[\"date\"]<date+10)\n",
        "        population_days_sc.loc[treated_days, \"treated\"] = True\n",
        "        scenario1_df = pd.concat([scenario1_df, pd.DataFrame(temp_dict, index=[date])])\n",
        "\n",
        "    scenario1_df.reset_index().to_feather(f\"/content/gdrive/MyDrive/data/ap/scenarios/scenario1_{j}_tuta.feather\")\n",
        "\n",
        "    # SCENARIO 2\n",
        "    scenario2_df = pd.DataFrame()\n",
        "    for i, date in enumerate(dates):\n",
        "        #print(destandardize_date(date).strftime(\"%Y-%m-%d\"))\n",
        "        temp_dict = dict()\n",
        "        population_day = population_days.loc[population_days.date == date]\n",
        "        temp_dict[\"monitorings\"] = 0\n",
        "        temp_dict[\"crop_losses\"] = 0\n",
        "        temp_dict[\"treatments\"] = (population_day.crop_age % 10 == 0).sum() #(i%10 == 0) * len(population_day)#(population_day.crop_age > 28).sum()\n",
        "        temp_dict[\"treatments_directly\"] = temp_dict[\"treatments\"]\n",
        "        scenario2_df = pd.concat([scenario2_df, pd.DataFrame(temp_dict, index=[date])])\n",
        "\n",
        "    scenario2_df.reset_index().to_feather(f\"/content/gdrive/MyDrive/data/ap/scenarios/scenario2_{j}_tuta.feather\")\n",
        "\n",
        "    # SCENARIO 4\n",
        "    scenario4_df = pd.DataFrame()\n",
        "\n",
        "    population_days_sc = population_days.copy()\n",
        "    population_days_sc[\"presence\"] = population_days_sc[\"generated_true_presence\"]\n",
        "    population_days_sc[\"monitored\"] = False\n",
        "    population_days_sc[\"treated\"] = False\n",
        "\n",
        "    risks = np.zeros((8925, len(dates)))\n",
        "    risks.fill(np.nan)\n",
        "\n",
        "    for i, date in tqdm(enumerate(dates)):\n",
        "        # print(destandardize_date(date).strftime(\"%Y-%m-%d\"))\n",
        "        #test_day = day / 365\n",
        "\n",
        "        #monitored_samples = population_days_sc.loc[population_days_sc[\"monitored\"]]\n",
        "        #monitoring_X = torch.from_numpy(data_preprocessor.get_X_numpy(monitored_samples)).float().contiguous().cuda()\n",
        "        #monitoring_y = torch.from_numpy(data_preprocessor.get_Y_numpy(monitored_samples)).float().contiguous().cuda()\n",
        "\n",
        "        #obs_X = torch.vstack((train_X, monitoring_X))[-50000:, :]\n",
        "        #obs_y = torch.cat((train_y, monitoring_y))[-50000:]\n",
        "        #prediction_model, prediction_likelihood, _ = train_model(obs_X, obs_y, model, likelihood, optimizer)\n",
        "\n",
        "        population_day = population_days_sc.loc[population_days_sc.date == date]\n",
        "        X_pop = torch.from_numpy(data_preprocessor.get_X_numpy(population_day)).float().contiguous().cuda()\n",
        "        with torch.no_grad():\n",
        "            pred_pop = calibrate(likelihood(model(X_pop)).mean.cpu().numpy()) * scaling_factor\n",
        "\n",
        "        risks[:len(pred_pop), i] = pred_pop\n",
        "\n",
        "        # calculate expected utility for decision making\n",
        "        e_u_inaction = e_u_gamma(pred_pop, 0)\n",
        "        e_u_monitoring = e_u_gamma(pred_pop, 1)\n",
        "        e_u_treatment = e_u_gamma(pred_pop, 2)\n",
        "\n",
        "        # monitor if more utility than inaction and crop is currently not under treatment\n",
        "        monitoring_condition = (e_u_monitoring > e_u_inaction) & (e_u_monitoring > e_u_treatment) & (~population_day[\"treated\"])\n",
        "\n",
        "        # treat if monitored and found presence\n",
        "        treatment_after_monitoring_condition = (monitoring_condition & population_day[\"presence\"].astype(bool)) & (~population_day[\"treated\"])\n",
        "        treatment_directly_condition = (((e_u_treatment > e_u_inaction) & (e_u_treatment > e_u_monitoring))) & (~population_day[\"treated\"])\n",
        "        treatment_condition = treatment_after_monitoring_condition | treatment_directly_condition\n",
        "\n",
        "        # set respective crops to treated for 10 days\n",
        "        treated_days = population_days_sc[\"user_id\"].isin(population_day.loc[treatment_condition].user_id) & (population_days_sc[\"date\"]>=date) & (population_days_sc[\"date\"]<date+10)\n",
        "        population_days_sc.loc[treated_days, \"treated\"] = True\n",
        "\n",
        "        # calculate loss for crops that are still untreated\n",
        "        loss_condition = population_day[\"presence\"].astype(bool) & (~population_days_sc.loc[population_days_sc.date == date][\"treated\"])\n",
        "\n",
        "        # set monitored rows to monitored to include them in the future prediction model\n",
        "        population_days_sc.loc[population_days_sc.date == date, \"monitored\"] = monitoring_condition\n",
        "\n",
        "        # calculate number of monitorings, losses and treatments\n",
        "        temp_dict[\"monitorings\"] = monitoring_condition.sum()\n",
        "        temp_dict[\"crop_losses\"] = loss_condition.sum()\n",
        "        temp_dict[\"treatments\"] = treatment_condition.sum()\n",
        "        temp_dict[\"treatments_directly\"] = treatment_directly_condition.sum()\n",
        "\n",
        "\n",
        "        scenario4_df = pd.concat([scenario4_df, pd.DataFrame(temp_dict, index=[date])])\n",
        "\n",
        "    np.save(f\"/content/gdrive/MyDrive/data/ap/scenarios/risks_scenario4_{j}_tuta.npy\", risks)\n",
        "    scenario4_df.reset_index().to_feather(f\"/content/gdrive/MyDrive/data/ap/scenarios/scenario4_{j}_tuta.feather\")\n",
        "\n",
        "    # SCENARIO 3\n",
        "    scenario3_df = pd.DataFrame()\n",
        "\n",
        "    population_days_sc = population_days.copy()\n",
        "    population_days_sc[\"presence\"] = population_days_sc[\"generated_true_presence\"]\n",
        "    population_days_sc[\"monitored\"] = False\n",
        "    population_days_sc[\"treated\"] = False\n",
        "\n",
        "    risks = np.zeros((8925, len(dates)))\n",
        "    risks.fill(np.nan)\n",
        "\n",
        "    for i, date in tqdm(enumerate(dates)):\n",
        "        # print(destandardize_date(date).strftime(\"%Y-%m-%d\"))\n",
        "        #test_day = day / 365\n",
        "\n",
        "        monitored_samples = population_days_sc.loc[population_days_sc[\"monitored\"]]\n",
        "        monitoring_X = torch.from_numpy(data_preprocessor.get_X_numpy(monitored_samples)).float().contiguous().cuda()\n",
        "        monitoring_y = torch.from_numpy(data_preprocessor.get_Y_numpy(monitored_samples)).float().contiguous().cuda()\n",
        "\n",
        "        obs_X = torch.vstack((train_X[-7000:, :], monitoring_X[-28000:, :]))\n",
        "        obs_y = torch.cat((train_y[-7000:], monitoring_y[-28000:]))\n",
        "        prediction_model, prediction_likelihood, _ = train_model(obs_X, obs_y, model, likelihood, optimizer)\n",
        "\n",
        "        population_day = population_days_sc.loc[population_days_sc.date == date]\n",
        "        X_pop = torch.from_numpy(data_preprocessor.get_X_numpy(population_day)).float().contiguous().cuda()\n",
        "        with torch.no_grad():\n",
        "            pred_pop = calibrate(prediction_likelihood(prediction_model(X_pop)).mean.cpu().numpy()) * scaling_factor\n",
        "\n",
        "        risks[:len(pred_pop), i] = pred_pop\n",
        "\n",
        "        # calculate expected utility for decision making\n",
        "        e_u_inaction = e_u_gamma(pred_pop, 0)\n",
        "        e_u_monitoring = e_u_gamma(pred_pop, 1)\n",
        "        e_u_treatment = e_u_gamma(pred_pop, 2)\n",
        "\n",
        "        # monitor if more utility than inaction and crop is currently not under treatment\n",
        "        monitoring_condition = (e_u_monitoring > e_u_inaction) & (e_u_monitoring > e_u_treatment) & (~population_day[\"treated\"])\n",
        "\n",
        "        # treat if monitored and found presence\n",
        "        treatment_after_monitoring_condition = (monitoring_condition & population_day[\"presence\"].astype(bool)) & (~population_day[\"treated\"])\n",
        "        treatment_directly_condition = (((e_u_treatment > e_u_inaction) & (e_u_treatment > e_u_monitoring))) & (~population_day[\"treated\"])\n",
        "        treatment_condition = treatment_after_monitoring_condition | treatment_directly_condition\n",
        "\n",
        "        # set respective crops to treated for 10 days\n",
        "        treated_days = population_days_sc[\"user_id\"].isin(population_day.loc[treatment_condition].user_id) & (population_days_sc[\"date\"]>=date) & (population_days_sc[\"date\"]<date+10)\n",
        "        population_days_sc.loc[treated_days, \"treated\"] = True\n",
        "\n",
        "        # calculate loss for crops that are still untreated\n",
        "        loss_condition = population_day[\"presence\"].astype(bool) & (~population_days_sc.loc[population_days_sc.date == date][\"treated\"])\n",
        "\n",
        "        # set monitored rows to monitored to include them in the future prediction model\n",
        "        population_days_sc.loc[population_days_sc.date == date, \"monitored\"] = monitoring_condition\n",
        "\n",
        "        # calculate number of monitorings, losses and treatments\n",
        "        temp_dict[\"monitorings\"] = monitoring_condition.sum()\n",
        "        temp_dict[\"crop_losses\"] = loss_condition.sum()\n",
        "        temp_dict[\"treatments\"] = treatment_condition.sum()\n",
        "        temp_dict[\"treatments_directly\"] = treatment_directly_condition.sum()\n",
        "\n",
        "\n",
        "        scenario3_df = pd.concat([scenario3_df, pd.DataFrame(temp_dict, index=[date])])\n",
        "\n",
        "    np.save(f\"/content/gdrive/MyDrive/data/ap/scenarios/risks_scenario3_{j}_tuta.npy\", risks)\n",
        "    scenario3_df.reset_index().to_feather(f\"/content/gdrive/MyDrive/data/ap/scenarios/scenario3_{j}_tuta.feather\")"
      ]
    }
  ],
  "metadata": {
    "accelerator": "GPU",
    "colab": {
      "gpuType": "T4",
      "machine_shape": "hm",
      "provenance": []
    },
    "kernelspec": {
      "display_name": "Python 3",
      "name": "python3"
    },
    "language_info": {
      "name": "python"
    }
  },
  "nbformat": 4,
  "nbformat_minor": 0
}
