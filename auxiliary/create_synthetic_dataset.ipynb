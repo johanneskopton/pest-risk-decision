{
  "cells": [
    {
      "cell_type": "markdown",
      "metadata": {},
      "source": [
        "# Create synthetic dataset\n",
        "\n",
        "The data was kindly provided by the Plantix team, who develop a mobile application for smallholder farmers. To protect the privacy of the Plantix users, the data used in this example does not contain the exact locations of the observations. This, the results are slightly different than the ones presented in the paper. To generate the data for this paper, locations were randomly samples within each 11x11km grid cell.\n",
        "\n",
        "This notebook is for transparency. You need access to the original non-public dataset to run it."
      ]
    },
    {
      "cell_type": "code",
      "execution_count": null,
      "metadata": {
        "colab": {
          "base_uri": "https://localhost:8080/"
        },
        "id": "pAHhliIS_LmI",
        "outputId": "d1648e08-27dd-4fe7-8219-5665aa006f29"
      },
      "outputs": [
        {
          "name": "stdout",
          "output_type": "stream",
          "text": [
            "Mounted at /content/gdrive\n"
          ]
        }
      ],
      "source": [
        "from google.colab import drive\n",
        "drive.mount('/content/gdrive', force_remount=True)"
      ]
    },
    {
      "cell_type": "code",
      "execution_count": null,
      "metadata": {
        "id": "_S5njTKm_Q60"
      },
      "outputs": [],
      "source": [
        "import pandas as pd\n",
        "import geopandas as gpd\n",
        "import numpy as np"
      ]
    },
    {
      "cell_type": "code",
      "execution_count": null,
      "metadata": {
        "id": "BqP4q6B9_ejb"
      },
      "outputs": [],
      "source": [
        "df = pd.read_feather('/content/gdrive/MyDrive/data/ap/combined1.feather')"
      ]
    },
    {
      "cell_type": "code",
      "execution_count": null,
      "metadata": {
        "id": "3tBDBg6TEwHS"
      },
      "outputs": [],
      "source": [
        "grid = gpd.read_file(\"/content/gdrive/MyDrive/data/ap/grid.geojson\")"
      ]
    },
    {
      "cell_type": "code",
      "execution_count": null,
      "metadata": {
        "id": "bisQXetJQb3W"
      },
      "outputs": [],
      "source": [
        "def get_xy_minmax(row):\n",
        "    coords = np.array(row.geometry.exterior.coords)\n",
        "    return coords[:, 0].min(), coords[:, 0].max(), coords[:, 1].min(), coords[:, 1].max()"
      ]
    },
    {
      "cell_type": "code",
      "execution_count": null,
      "metadata": {
        "id": "ojBPD4X9VA_0"
      },
      "outputs": [],
      "source": [
        "grid[[\"xmin\", \"xmax\", \"ymin\", \"ymax\"]] = pd.DataFrame(grid.apply(get_xy_minmax, axis=1).tolist(), index=grid.index)"
      ]
    },
    {
      "cell_type": "code",
      "execution_count": null,
      "metadata": {
        "id": "5WIz4i1jVywV"
      },
      "outputs": [],
      "source": [
        "df = pd.merge(df, grid.drop(\"geometry\", axis=1), on=\"cell_id\", how=\"left\")"
      ]
    },
    {
      "cell_type": "code",
      "execution_count": null,
      "metadata": {
        "id": "BSAjq7bDAZdh"
      },
      "outputs": [],
      "source": [
        "df.rename(columns={\"latitude\": \"real_latitude\", \"longitude\": \"real_longitude\"}, inplace=True)"
      ]
    },
    {
      "cell_type": "code",
      "execution_count": null,
      "metadata": {
        "id": "7-7RauoZBNjd"
      },
      "outputs": [],
      "source": [
        "df[\"longitude\"] = np.random.random(len(df)) * (df.xmax - df.xmin) + df.xmin\n",
        "df[\"latitude\"] = np.random.random(len(df)) * (df.ymax - df.ymin) + df.ymin"
      ]
    },
    {
      "cell_type": "code",
      "execution_count": null,
      "metadata": {
        "id": "MQK-j7PvWdmm"
      },
      "outputs": [],
      "source": [
        "DISEASE = 600038 # Tuta absoluta\n",
        "df[\"presence\"] = (df[\"dnn_peat_id\"] == DISEASE).astype(int)\n",
        "df.drop(columns=[\"index\", \"level_0\", \"dnn_peat_id\", \"dnn_variety\", \"real_latitude\", \"real_longitude\", \"xmin\", \"xmax\", \"ymin\", \"ymax\"], inplace=True)\n",
        "df = pd.concat([df[df.presence==0].sample(int((df.presence==1).sum() * 5)), df[df.presence==1]])\n",
        "df.sort_values([\"date\", \"cell_id\"], ascending=True, inplace=True) # for time series cross validation"
      ]
    },
    {
      "cell_type": "code",
      "execution_count": null,
      "metadata": {
        "id": "Kn7z50TXXoy-"
      },
      "outputs": [],
      "source": [
        "df.to_feather('/content/gdrive/MyDrive/data/ap/combined_synthetic1.feather')"
      ]
    }
  ],
  "metadata": {
    "colab": {
      "provenance": []
    },
    "kernelspec": {
      "display_name": "Python 3",
      "name": "python3"
    },
    "language_info": {
      "name": "python"
    }
  },
  "nbformat": 4,
  "nbformat_minor": 0
}
